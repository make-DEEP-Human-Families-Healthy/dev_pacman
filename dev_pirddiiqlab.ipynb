{
 "cells": [
  {
   "cell_type": "markdown",
   "metadata": {
    "cell_id": "d1b513d41bb64d108cee5176f0f5c591",
    "deepnote_cell_type": "text-cell-h1",
    "formattedRanges": [],
    "is_collapsed": false,
    "tags": []
   },
   "source": [
    "# The make DEEP Human Performance Lab:  an Open Source Quantitative Health Literacy Project for Logistic Odds Outcomes related to Diabetes and Obesity Prevention"
   ]
  },
  {
   "cell_type": "code",
   "execution_count": null,
   "metadata": {
    "cell_id": "9fa3b79f017f4c80b46e6a474a10cf96",
    "deepnote_cell_type": "code",
    "deepnote_to_be_reexecuted": false,
    "execution_millis": 1219,
    "execution_start": 1722955106701,
    "source_hash": null
   },
   "outputs": [],
   "source": [
    "import pandas as pd\n",
    "import numpy as np\n",
    "import matplotlib.pyplot as plt\n",
    "import seaborn as sns\n",
    "import scipy.stats as stats\n",
    "import sklearn as sk"
   ]
  },
  {
   "cell_type": "markdown",
   "metadata": {
    "cell_id": "a5058a3586ed422fa3fc7414c821e35d",
    "deepnote_cell_type": "text-cell-h2",
    "formattedRanges": []
   },
   "source": [
    "## Using Chicago Area Health Data as a Secondary Source for Modeling and Quantifying Diabetes Interventions for Medical Underserved Patients"
   ]
  },
  {
   "cell_type": "code",
   "execution_count": null,
   "metadata": {
    "cell_id": "65c2f709c04844b8bf920e961124cfde",
    "deepnote_cell_type": "sql",
    "deepnote_sql_source": "SELECT *\nFROM 'CHAMUPGeozipcodes.csv'",
    "deepnote_to_be_reexecuted": false,
    "deepnote_variable_name": "df_1",
    "execution_millis": 1734,
    "execution_start": 1722954857745,
    "source_hash": null,
    "sql_integration_id": "deepnote-dataframe-sql"
   },
   "outputs": [
    {
     "data": {
      "application/vnd.deepnote.dataframe.v3+json": {
       "column_count": 34,
       "columns": [
        {
         "dtype": "object",
         "name": "column00",
         "stats": {
          "categories": [
           {
            "count": 58,
            "name": "Zip code"
           },
           {
            "count": 1,
            "name": "Layer"
           },
           {
            "count": 4,
            "name": "4 others"
           }
          ],
          "nan_count": 0,
          "unique_count": 6
         }
        },
        {
         "dtype": "object",
         "name": "column01",
         "stats": {
          "categories": [
           {
            "count": 1,
            "name": "Name"
           },
           {
            "count": 59,
            "name": "59 others"
           },
           {
            "count": 3,
            "name": "Missing"
           }
          ],
          "nan_count": 3,
          "unique_count": 60
         }
        },
        {
         "dtype": "object",
         "name": "column02",
         "stats": {
          "categories": [
           {
            "count": 1,
            "name": "GEOID"
           },
           {
            "count": 59,
            "name": "59 others"
           },
           {
            "count": 3,
            "name": "Missing"
           }
          ],
          "nan_count": 3,
          "unique_count": 60
         }
        },
        {
         "dtype": "object",
         "name": "column03",
         "stats": {
          "categories": [
           {
            "count": 1,
            "name": "Population"
           },
           {
            "count": 59,
            "name": "59 others"
           },
           {
            "count": 3,
            "name": "Missing"
           }
          ],
          "nan_count": 3,
          "unique_count": 60
         }
        },
        {
         "dtype": "object",
         "name": "column04",
         "stats": {
          "categories": [
           {
            "count": 1,
            "name": "Longitude"
           },
           {
            "count": 59,
            "name": "59 others"
           },
           {
            "count": 3,
            "name": "Missing"
           }
          ],
          "nan_count": 3,
          "unique_count": 60
         }
        },
        {
         "dtype": "object",
         "name": "column05",
         "stats": {
          "categories": [
           {
            "count": 1,
            "name": "Latitude"
           },
           {
            "count": 59,
            "name": "59 others"
           },
           {
            "count": 3,
            "name": "Missing"
           }
          ],
          "nan_count": 3,
          "unique_count": 60
         }
        },
        {
         "dtype": "object",
         "name": "column06",
         "stats": {
          "categories": [
           {
            "count": 1,
            "name": "POP_2018-2022"
           },
           {
            "count": 1,
            "name": "Population (residents), 2018-2022"
           },
           {
            "count": 61,
            "name": "61 others"
           }
          ],
          "nan_count": 0,
          "unique_count": 63
         }
        },
        {
         "dtype": "object",
         "name": "column07",
         "stats": {
          "categories": [
           {
            "count": 1,
            "name": "POP_2018-2022_moe"
           },
           {
            "count": 60,
            "name": "60 others"
           },
           {
            "count": 2,
            "name": "Missing"
           }
          ],
          "nan_count": 2,
          "unique_count": 61
         }
        },
        {
         "dtype": "object",
         "name": "column08",
         "stats": {
          "categories": [
           {
            "count": 1,
            "name": "PCT-W_2018-2022"
           },
           {
            "count": 1,
            "name": "Demographics, Non-Hispanic White (% of residents), 2018-2022"
           },
           {
            "count": 61,
            "name": "61 others"
           }
          ],
          "nan_count": 0,
          "unique_count": 63
         }
        },
        {
         "dtype": "object",
         "name": "column09",
         "stats": {
          "categories": [
           {
            "count": 1,
            "name": "PCT-W_2018-2022_moe"
           },
           {
            "count": 60,
            "name": "60 others"
           },
           {
            "count": 2,
            "name": "Missing"
           }
          ],
          "nan_count": 2,
          "unique_count": 61
         }
        },
        {
         "dtype": "object",
         "name": "column10",
         "stats": {
          "categories": [
           {
            "count": 3,
            "name": "89.0"
           },
           {
            "count": 56,
            "name": "47 others"
           },
           {
            "count": 4,
            "name": "Missing"
           }
          ],
          "nan_count": 4,
          "unique_count": 48
         }
        },
        {
         "dtype": "object",
         "name": "column11",
         "stats": {
          "categories": [
           {
            "count": 1,
            "name": "HDAL_2022_moe"
           },
           {
            "count": 2,
            "name": "2 others"
           },
           {
            "count": 60,
            "name": "Missing"
           }
          ],
          "nan_count": 60,
          "unique_count": 3
         }
        },
        {
         "dtype": "object",
         "name": "column12",
         "stats": {
          "categories": [
           {
            "count": 3,
            "name": "13.7"
           },
           {
            "count": 56,
            "name": "49 others"
           },
           {
            "count": 4,
            "name": "Missing"
           }
          ],
          "nan_count": 4,
          "unique_count": 50
         }
        },
        {
         "dtype": "object",
         "name": "column13",
         "stats": {
          "categories": [
           {
            "count": 3,
            "name": "3.5250000000705"
           },
           {
            "count": 54,
            "name": "44 others"
           },
           {
            "count": 6,
            "name": "Missing"
           }
          ],
          "nan_count": 6,
          "unique_count": 45
         }
        },
        {
         "dtype": "object",
         "name": "column14",
         "stats": {
          "categories": [
           {
            "count": 2,
            "name": "100.0"
           },
           {
            "count": 1,
            "name": "EDB_2018-2022"
           },
           {
            "count": 60,
            "name": "60 others"
           }
          ],
          "nan_count": 0,
          "unique_count": 62
         }
        },
        {
         "dtype": "object",
         "name": "column15",
         "stats": {
          "categories": [
           {
            "count": 1,
            "name": "EDB_2018-2022_moe"
           },
           {
            "count": 60,
            "name": "60 others"
           },
           {
            "count": 2,
            "name": "Missing"
           }
          ],
          "nan_count": 2,
          "unique_count": 61
         }
        },
        {
         "dtype": "object",
         "name": "column16",
         "stats": {
          "categories": [
           {
            "count": 1,
            "name": "UMP_2018-2022"
           },
           {
            "count": 1,
            "name": "Unemployment rate (%), 2018-2022"
           },
           {
            "count": 61,
            "name": "61 others"
           }
          ],
          "nan_count": 0,
          "unique_count": 63
         }
        },
        {
         "dtype": "object",
         "name": "column17",
         "stats": {
          "categories": [
           {
            "count": 1,
            "name": "UMP_2018-2022_moe"
           },
           {
            "count": 60,
            "name": "60 others"
           },
           {
            "count": 2,
            "name": "Missing"
           }
          ],
          "nan_count": 2,
          "unique_count": 61
         }
        },
        {
         "dtype": "object",
         "name": "column18",
         "stats": {
          "categories": [
           {
            "count": 2,
            "name": "38.0"
           },
           {
            "count": 55,
            "name": "52 others"
           },
           {
            "count": 6,
            "name": "Missing"
           }
          ],
          "nan_count": 6,
          "unique_count": 53
         }
        },
        {
         "dtype": "object",
         "name": "column19",
         "stats": {
          "categories": [
           {
            "count": 1,
            "name": "HDDIA_2022_moe"
           },
           {
            "count": 2,
            "name": "2 others"
           },
           {
            "count": 60,
            "name": "Missing"
           }
          ],
          "nan_count": 60,
          "unique_count": 3
         }
        },
        {
         "dtype": "object",
         "name": "column20",
         "stats": {
          "categories": [
           {
            "count": 2,
            "name": "17.1"
           },
           {
            "count": 55,
            "name": "55 others"
           },
           {
            "count": 6,
            "name": "Missing"
           }
          ],
          "nan_count": 6,
          "unique_count": 56
         }
        },
        {
         "dtype": "object",
         "name": "column21",
         "stats": {
          "categories": [
           {
            "count": 4,
            "name": "2.8116071429075"
           },
           {
            "count": 51,
            "name": "39 others"
           },
           {
            "count": 8,
            "name": "Missing"
           }
          ],
          "nan_count": 8,
          "unique_count": 40
         }
        },
        {
         "dtype": "object",
         "name": "column22",
         "stats": {
          "categories": [
           {
            "count": 3,
            "name": "10.9"
           },
           {
            "count": 2,
            "name": "11.3"
           },
           {
            "count": 58,
            "name": "52 others"
           }
          ],
          "nan_count": 0,
          "unique_count": 54
         }
        },
        {
         "dtype": "object",
         "name": "column23",
         "stats": {
          "categories": [
           {
            "count": 1,
            "name": "FAI_2022_moe"
           },
           {
            "count": 2,
            "name": "2 others"
           },
           {
            "count": 60,
            "name": "Missing"
           }
          ],
          "nan_count": 60,
          "unique_count": 3
         }
        },
        {
         "dtype": "object",
         "name": "column24",
         "stats": {
          "categories": [
           {
            "count": 9,
            "name": "0.0"
           },
           {
            "count": 1,
            "name": "LFA_2019"
           },
           {
            "count": 53,
            "name": "53 others"
           }
          ],
          "nan_count": 0,
          "unique_count": 55
         }
        },
        {
         "dtype": "object",
         "name": "column25",
         "stats": {
          "categories": [
           {
            "count": 1,
            "name": "LFA_2019_moe"
           },
           {
            "count": 2,
            "name": "2 others"
           },
           {
            "count": 60,
            "name": "Missing"
           }
          ],
          "nan_count": 60,
          "unique_count": 3
         }
        },
        {
         "dtype": "object",
         "name": "column26",
         "stats": {
          "categories": [
           {
            "count": 1,
            "name": "UNI_2018-2022"
           },
           {
            "count": 1,
            "name": "Uninsured residents (residents), 2018-2022"
           },
           {
            "count": 61,
            "name": "61 others"
           }
          ],
          "nan_count": 0,
          "unique_count": 63
         }
        },
        {
         "dtype": "object",
         "name": "column27",
         "stats": {
          "categories": [
           {
            "count": 2,
            "name": "50.91168824543142"
           },
           {
            "count": 59,
            "name": "59 others"
           },
           {
            "count": 2,
            "name": "Missing"
           }
          ],
          "nan_count": 2,
          "unique_count": 60
         }
        },
        {
         "dtype": "object",
         "name": "column28",
         "stats": {
          "categories": [
           {
            "count": 1,
            "name": "UNS_2018-2022"
           },
           {
            "count": 1,
            "name": "Uninsured rate (% of residents), 2018-2022"
           },
           {
            "count": 61,
            "name": "61 others"
           }
          ],
          "nan_count": 0,
          "unique_count": 63
         }
        },
        {
         "dtype": "object",
         "name": "column29",
         "stats": {
          "categories": [
           {
            "count": 1,
            "name": "UNS_2018-2022_moe"
           },
           {
            "count": 60,
            "name": "60 others"
           },
           {
            "count": 2,
            "name": "Missing"
           }
          ],
          "nan_count": 2,
          "unique_count": 61
         }
        },
        {
         "dtype": "object",
         "name": "column30",
         "stats": {
          "categories": [
           {
            "count": 4,
            "name": "0.0"
           },
           {
            "count": 1,
            "name": "SNP_2018-2022"
           },
           {
            "count": 58,
            "name": "58 others"
           }
          ],
          "nan_count": 0,
          "unique_count": 60
         }
        },
        {
         "dtype": "object",
         "name": "column31",
         "stats": {
          "categories": [
           {
            "count": 1,
            "name": "SNP_2018-2022_moe"
           },
           {
            "count": 60,
            "name": "60 others"
           },
           {
            "count": 2,
            "name": "Missing"
           }
          ],
          "nan_count": 2,
          "unique_count": 61
         }
        },
        {
         "dtype": "object",
         "name": "column32",
         "stats": {
          "categories": [
           {
            "count": 5,
            "name": "100.0"
           },
           {
            "count": 1,
            "name": "SNQ_2018-2022"
           },
           {
            "count": 57,
            "name": "57 others"
           }
          ],
          "nan_count": 0,
          "unique_count": 59
         }
        },
        {
         "dtype": "object",
         "name": "column33",
         "stats": {
          "categories": [
           {
            "count": 1,
            "name": "SNQ_2018-2022_moe"
           },
           {
            "count": 60,
            "name": "60 others"
           },
           {
            "count": 2,
            "name": "Missing"
           }
          ],
          "nan_count": 2,
          "unique_count": 61
         }
        },
        {
         "dtype": "int64",
         "name": "_deepnote_index_column"
        }
       ],
       "row_count": 63,
       "rows": [
        {
         "_deepnote_index_column": 0,
         "column00": "Layer",
         "column01": "Name",
         "column02": "GEOID",
         "column03": "Population",
         "column04": "Longitude",
         "column05": "Latitude",
         "column06": "POP_2018-2022",
         "column07": "POP_2018-2022_moe",
         "column08": "PCT-W_2018-2022",
         "column09": "PCT-W_2018-2022_moe",
         "column10": "HDAL_2022",
         "column11": "HDAL_2022_moe",
         "column12": "HDALR_2022",
         "column13": "HDALR_2022_moe",
         "column14": "EDB_2018-2022",
         "column15": "EDB_2018-2022_moe",
         "column16": "UMP_2018-2022",
         "column17": "UMP_2018-2022_moe",
         "column18": "HDDIA_2022",
         "column19": "HDDIA_2022_moe",
         "column20": "HDDIAR_2022",
         "column21": "HDDIAR_2022_moe",
         "column22": "FAI_2022",
         "column23": "FAI_2022_moe",
         "column24": "LFA_2019",
         "column25": "LFA_2019_moe",
         "column26": "UNI_2018-2022",
         "column27": "UNI_2018-2022_moe",
         "column28": "UNS_2018-2022",
         "column29": "UNS_2018-2022_moe",
         "column30": "SNP_2018-2022",
         "column31": "SNP_2018-2022_moe",
         "column32": "SNQ_2018-2022",
         "column33": "SNQ_2018-2022_moe"
        },
        {
         "_deepnote_index_column": 1,
         "column00": "(Indicator name)",
         "column01": "None",
         "column02": "None",
         "column03": "None",
         "column04": "None",
         "column05": "None",
         "column06": "Population (residents), 2018-2022",
         "column07": "(90% margin of error)",
         "column08": "Demographics, Non-Hispanic White (% of residents), 2018-2022",
         "column09": "(90% margin of error)",
         "column10": "Alcohol-related hospitalizations (count of hospitalizations), 2022",
         "column11": "(90% margin of error)",
         "column12": "Alcohol-related hospitalization rate (per 10,000 population), 2022",
         "column13": "(90% margin of error)",
         "column14": "High school graduation rate (% of residents), 2018-2022",
         "column15": "(90% margin of error)",
         "column16": "Unemployment rate (%), 2018-2022",
         "column17": "(90% margin of error)",
         "column18": "Diabetes-related hospitalizations (count of hospitalizations), 2022",
         "column19": "(90% margin of error)",
         "column20": "Diabetes-related hospitalization rate (per 10,000 population), 2022",
         "column21": "(90% margin of error)",
         "column22": "Food insecurity (% of residents), 2022",
         "column23": "(90% margin of error)",
         "column24": "Low food access (% of residents), 2019",
         "column25": "(90% margin of error)",
         "column26": "Uninsured residents (residents), 2018-2022",
         "column27": "(90% margin of error)",
         "column28": "Uninsured rate (% of residents), 2018-2022",
         "column29": "(90% margin of error)",
         "column30": "Food stamps (SNAP) (% of households), 2018-2022",
         "column31": "(90% margin of error)",
         "column32": "Households in poverty not receiving food stamps (SNAP) (% of households below the poverty line), 2018-2022",
         "column33": "(90% margin of error)"
        },
        {
         "_deepnote_index_column": 2,
         "column00": "(Definition)",
         "column01": "None",
         "column02": "None",
         "column03": "None",
         "column04": "None",
         "column05": "None",
         "column06": "Average population over the time period.",
         "column07": "None",
         "column08": "Percent of residents within each demographic group. Use this topic to explore age, gender, and racial/ethnic breakdowns.",
         "column09": "None",
         "column10": "Number of inpatient hospitalization discharges due to alcohol-relateddisease, injury or conditions.",
         "column11": "None",
         "column12": "Age-adjusted rate of alcohol-related hospitalization discharges, excluding discharges to Veterans Administration hospitals.",
         "column13": "None",
         "column14": "Residents 25 or older with at least a high school degree: including GED and any higher education",
         "column15": "None",
         "column16": "Percent of residents 16 and older in the civilian labor force who are actively seeking employment.",
         "column17": "None",
         "column18": "Number of inpatient hospitalization discharges, excluding discharges to Veterans Administration hospitals, due to diabetes mellitus with or without related complications.",
         "column19": "None",
         "column20": "Age-adjusted rate of diabetes-related hospitalization discharges, excluding discharges to Veterans Administration hospitals.",
         "column21": "None",
         "column22": "Percentage of the population experiencing food insecurity at some point. Food insecurity is the household-level economic and social condition of limited or uncertain access to adequate food, as represented in USDA food-security reports. 2020 data is a projection based on 11.5% national unemployment and 16.5% national poverty rate.",
         "column23": "None",
         "column24": "Percent of residents who have low access to food, defined solely by distance: further than 1/2 mile from the nearest supermarket in an urban area, or further than 10 miles in a rural area.",
         "column25": "None",
         "column26": "Number of residents without health insurance.",
         "column27": "None",
         "column28": "Percent of residents without health insurance (at the time of the survey).",
         "column29": "None",
         "column30": "Percent of households receiving Supplemental Nutrition Assistance Program (SNAP) benefits, formerly known as food stamps, over the past 12 months.",
         "column31": "None",
         "column32": "Percent of households with income in the past 12 months below the poverty level who did not receive food stamps/SNAP in the past 12 months.",
         "column33": "None"
        },
        {
         "_deepnote_index_column": 3,
         "column00": "(Citation)",
         "column01": "None",
         "column02": "None",
         "column03": "None",
         "column04": "None",
         "column05": "None",
         "column06": "American Community Survey (ACS: Table B01001; Decennial Census: Table P012)",
         "column07": "None",
         "column08": "American Community Survey (Table B01001)",
         "column09": "None",
         "column10": "Illinois Department of Public Health, Hospital Discharge Data",
         "column11": "None",
         "column12": "Illinois Department of Public Health, Hospital Discharge Data",
         "column13": "None",
         "column14": "American Community Survey (Table B15002)",
         "column15": "None",
         "column16": "American Community Survey (Tables B23025, B23001, and C23002)",
         "column17": "None",
         "column18": "Illinois Department of Public Health, Hospital Discharge Data",
         "column19": "None",
         "column20": "Illinois Department of Public Health, Hospital Discharge Data",
         "column21": "None",
         "column22": "Map the Meal Gap (Map the Meal Gap 2020)",
         "column23": "None",
         "column24": "USDA, Economic Research Service, Food Access Research Atlas (Food Access Research Atlas)",
         "column25": "None",
         "column26": "American Community Survey (Tables B27001/C27001)",
         "column27": "None",
         "column28": "American Community Survey (Tables B27001/C27001)",
         "column29": "None",
         "column30": "American Community Survey (Tables B22003, B22005, and S2201)",
         "column31": "None",
         "column32": "American Community Survey (Table B22003)",
         "column33": "None"
        },
        {
         "_deepnote_index_column": 4,
         "column00": "---",
         "column01": "---",
         "column02": "---",
         "column03": "---",
         "column04": "---",
         "column05": "---",
         "column06": "---",
         "column07": "---",
         "column08": "---",
         "column09": "---",
         "column10": "---",
         "column11": "---",
         "column12": "---",
         "column13": "---",
         "column14": "---",
         "column15": "---",
         "column16": "---",
         "column17": "---",
         "column18": "---",
         "column19": "---",
         "column20": "---",
         "column21": "---",
         "column22": "---",
         "column23": "---",
         "column24": "---",
         "column25": "---",
         "column26": "---",
         "column27": "---",
         "column28": "---",
         "column29": "---",
         "column30": "---",
         "column31": "---",
         "column32": "---",
         "column33": "---"
        },
        {
         "_deepnote_index_column": 5,
         "column00": "Zip code",
         "column01": "60601",
         "column02": "60601",
         "column03": "15814",
         "column04": "-87.62209200",
         "column05": "41.88530300",
         "column06": "16398.0",
         "column07": "1721.0",
         "column08": "52.76253201609953",
         "column09": "6.546221422721316",
         "column10": "23.0",
         "column11": "None",
         "column12": "13.0",
         "column13": "4.825892857163",
         "column14": "97.31182795698923",
         "column15": "3.684767519332293",
         "column16": "2.762923351158645",
         "column17": "2.256038196880616",
         "column18": "None",
         "column19": "None",
         "column20": "None",
         "column21": "None",
         "column22": "10.4",
         "column23": "None",
         "column24": "0.0",
         "column25": "None",
         "column26": "999.0",
         "column27": "425.90961482455407",
         "column28": "6.097412109375",
         "column29": "2.5193146185450663",
         "column30": "0.0",
         "column31": "0.2053610030263727",
         "column32": "100.0",
         "column33": "91.70326784584364"
        },
        {
         "_deepnote_index_column": 6,
         "column00": "Zip code",
         "column01": "60602",
         "column02": "60602",
         "column03": "1261",
         "column04": "-87.62914800",
         "column05": "41.88307300",
         "column06": "938.0",
         "column07": "494.99999999999994",
         "column08": "27.50533049040512",
         "column09": "6.453020537468193",
         "column10": "None",
         "column11": "None",
         "column12": "None",
         "column13": "None",
         "column14": "100.0",
         "column15": "67.3664809728275",
         "column16": "7.584269662921349",
         "column17": "16.735611057547178",
         "column18": "None",
         "column19": "None",
         "column20": "None",
         "column21": "None",
         "column22": "11.3",
         "column23": "None",
         "column24": "0.0",
         "column25": "None",
         "column26": "0.0",
         "column27": "50.91168824543142",
         "column28": "0.0",
         "column29": "5.427685314011878",
         "column30": "12.393162393162394",
         "column31": "23.3575704080216",
         "column32": "100.0",
         "column33": "164.5"
        },
        {
         "_deepnote_index_column": 7,
         "column00": "Zip code",
         "column01": "60603",
         "column02": "60603",
         "column03": "1288",
         "column04": "-87.62550900",
         "column05": "41.88018800",
         "column06": "1110.0",
         "column07": "319.0",
         "column08": "51.08108108108108",
         "column09": "7.699271088278311",
         "column10": "None",
         "column11": "None",
         "column12": "None",
         "column13": "None",
         "column14": "100.0",
         "column15": "46.17507569917459",
         "column16": "4.144385026737968",
         "column17": "9.039896805558014",
         "column18": "None",
         "column19": "None",
         "column20": "None",
         "column21": "None",
         "column22": "9.8",
         "column23": "None",
         "column24": "0.0",
         "column25": "None",
         "column26": "61.0",
         "column27": "60.6217782649107",
         "column28": "5.495495495495495",
         "column29": "5.228080137827035",
         "column30": "0.0",
         "column31": "1.7804154302670623",
         "column32": "100.0",
         "column33": "111.69136081760759"
        },
        {
         "_deepnote_index_column": 8,
         "column00": "Zip code",
         "column01": "60604",
         "column02": "60604",
         "column03": "897",
         "column04": "-87.62846100",
         "column05": "41.87809500",
         "column06": "737.0",
         "column07": "197.0",
         "column08": "70.28493894165535",
         "column09": "16.027209280338663",
         "column10": "None",
         "column11": "None",
         "column12": "None",
         "column13": "None",
         "column14": "98.04878048780488",
         "column15": "39.03105285150932",
         "column16": "8.19672131147541",
         "column17": "13.905611473659327",
         "column18": "None",
         "column19": "None",
         "column20": "None",
         "column21": "None",
         "column22": "13.0",
         "column23": "None",
         "column24": "0.0",
         "column25": "None",
         "column26": "7.0",
         "column27": "50.91168824543142",
         "column28": "0.949796472184532",
         "column29": "6.903296261268287",
         "column30": "0.0",
         "column31": "2.6548672566371683",
         "column32": "100.0",
         "column33": "90.16385114111408"
        },
        {
         "_deepnote_index_column": 9,
         "column00": "Zip code",
         "column01": "60605",
         "column02": "60605",
         "column03": "34071",
         "column04": "-87.61722800",
         "column05": "41.86756600",
         "column06": "34314.0",
         "column07": "2076.0",
         "column08": "54.67447688989917",
         "column09": "3.9542152381186764",
         "column10": "34.0",
         "column11": "None",
         "column12": "11.7",
         "column13": "3.3991071428370003",
         "column14": "96.17894458903852",
         "column15": "4.076583111412739",
         "column16": "6.633927802188334",
         "column17": "2.057979946584935",
         "column18": "19.0",
         "column19": "None",
         "column20": "6.5",
         "column21": "2.5178571428605",
         "column22": "11.4",
         "column23": "None",
         "column24": "1.051911052328199",
         "column25": "None",
         "column26": "1458.0",
         "column27": "467.44197500866346",
         "column28": "4.329749955455248",
         "column29": "1.3622079977160255",
         "column30": "5.0751979592921295",
         "column31": "2.45016701084529",
         "column32": "95.35423925667828",
         "column33": "9.12370808082051"
        }
       ]
      },
      "text/html": [
       "<div>\n",
       "<style scoped>\n",
       "    .dataframe tbody tr th:only-of-type {\n",
       "        vertical-align: middle;\n",
       "    }\n",
       "\n",
       "    .dataframe tbody tr th {\n",
       "        vertical-align: top;\n",
       "    }\n",
       "\n",
       "    .dataframe thead th {\n",
       "        text-align: right;\n",
       "    }\n",
       "</style>\n",
       "<table border=\"1\" class=\"dataframe\">\n",
       "  <thead>\n",
       "    <tr style=\"text-align: right;\">\n",
       "      <th></th>\n",
       "      <th>column00</th>\n",
       "      <th>column01</th>\n",
       "      <th>column02</th>\n",
       "      <th>column03</th>\n",
       "      <th>column04</th>\n",
       "      <th>column05</th>\n",
       "      <th>column06</th>\n",
       "      <th>column07</th>\n",
       "      <th>column08</th>\n",
       "      <th>column09</th>\n",
       "      <th>...</th>\n",
       "      <th>column24</th>\n",
       "      <th>column25</th>\n",
       "      <th>column26</th>\n",
       "      <th>column27</th>\n",
       "      <th>column28</th>\n",
       "      <th>column29</th>\n",
       "      <th>column30</th>\n",
       "      <th>column31</th>\n",
       "      <th>column32</th>\n",
       "      <th>column33</th>\n",
       "    </tr>\n",
       "  </thead>\n",
       "  <tbody>\n",
       "    <tr>\n",
       "      <th>0</th>\n",
       "      <td>Layer</td>\n",
       "      <td>Name</td>\n",
       "      <td>GEOID</td>\n",
       "      <td>Population</td>\n",
       "      <td>Longitude</td>\n",
       "      <td>Latitude</td>\n",
       "      <td>POP_2018-2022</td>\n",
       "      <td>POP_2018-2022_moe</td>\n",
       "      <td>PCT-W_2018-2022</td>\n",
       "      <td>PCT-W_2018-2022_moe</td>\n",
       "      <td>...</td>\n",
       "      <td>LFA_2019</td>\n",
       "      <td>LFA_2019_moe</td>\n",
       "      <td>UNI_2018-2022</td>\n",
       "      <td>UNI_2018-2022_moe</td>\n",
       "      <td>UNS_2018-2022</td>\n",
       "      <td>UNS_2018-2022_moe</td>\n",
       "      <td>SNP_2018-2022</td>\n",
       "      <td>SNP_2018-2022_moe</td>\n",
       "      <td>SNQ_2018-2022</td>\n",
       "      <td>SNQ_2018-2022_moe</td>\n",
       "    </tr>\n",
       "    <tr>\n",
       "      <th>1</th>\n",
       "      <td>(Indicator name)</td>\n",
       "      <td>None</td>\n",
       "      <td>None</td>\n",
       "      <td>None</td>\n",
       "      <td>None</td>\n",
       "      <td>None</td>\n",
       "      <td>Population (residents), 2018-2022</td>\n",
       "      <td>(90% margin of error)</td>\n",
       "      <td>Demographics, Non-Hispanic White (% of residen...</td>\n",
       "      <td>(90% margin of error)</td>\n",
       "      <td>...</td>\n",
       "      <td>Low food access (% of residents), 2019</td>\n",
       "      <td>(90% margin of error)</td>\n",
       "      <td>Uninsured residents (residents), 2018-2022</td>\n",
       "      <td>(90% margin of error)</td>\n",
       "      <td>Uninsured rate (% of residents), 2018-2022</td>\n",
       "      <td>(90% margin of error)</td>\n",
       "      <td>Food stamps (SNAP) (% of households), 2018-2022</td>\n",
       "      <td>(90% margin of error)</td>\n",
       "      <td>Households in poverty not receiving food stamp...</td>\n",
       "      <td>(90% margin of error)</td>\n",
       "    </tr>\n",
       "    <tr>\n",
       "      <th>2</th>\n",
       "      <td>(Definition)</td>\n",
       "      <td>None</td>\n",
       "      <td>None</td>\n",
       "      <td>None</td>\n",
       "      <td>None</td>\n",
       "      <td>None</td>\n",
       "      <td>Average population over the time period.</td>\n",
       "      <td>None</td>\n",
       "      <td>Percent of residents within each demographic g...</td>\n",
       "      <td>None</td>\n",
       "      <td>...</td>\n",
       "      <td>Percent of residents who have low access to fo...</td>\n",
       "      <td>None</td>\n",
       "      <td>Number of residents without health insurance.</td>\n",
       "      <td>None</td>\n",
       "      <td>Percent of residents without health insurance ...</td>\n",
       "      <td>None</td>\n",
       "      <td>Percent of households receiving Supplemental N...</td>\n",
       "      <td>None</td>\n",
       "      <td>Percent of households with income in the past ...</td>\n",
       "      <td>None</td>\n",
       "    </tr>\n",
       "    <tr>\n",
       "      <th>3</th>\n",
       "      <td>(Citation)</td>\n",
       "      <td>None</td>\n",
       "      <td>None</td>\n",
       "      <td>None</td>\n",
       "      <td>None</td>\n",
       "      <td>None</td>\n",
       "      <td>American Community Survey (ACS: Table B01001; ...</td>\n",
       "      <td>None</td>\n",
       "      <td>American Community Survey (Table B01001)</td>\n",
       "      <td>None</td>\n",
       "      <td>...</td>\n",
       "      <td>USDA, Economic Research Service, Food Access R...</td>\n",
       "      <td>None</td>\n",
       "      <td>American Community Survey (Tables B27001/C27001)</td>\n",
       "      <td>None</td>\n",
       "      <td>American Community Survey (Tables B27001/C27001)</td>\n",
       "      <td>None</td>\n",
       "      <td>American Community Survey (Tables B22003, B220...</td>\n",
       "      <td>None</td>\n",
       "      <td>American Community Survey (Table B22003)</td>\n",
       "      <td>None</td>\n",
       "    </tr>\n",
       "    <tr>\n",
       "      <th>4</th>\n",
       "      <td>---</td>\n",
       "      <td>---</td>\n",
       "      <td>---</td>\n",
       "      <td>---</td>\n",
       "      <td>---</td>\n",
       "      <td>---</td>\n",
       "      <td>---</td>\n",
       "      <td>---</td>\n",
       "      <td>---</td>\n",
       "      <td>---</td>\n",
       "      <td>...</td>\n",
       "      <td>---</td>\n",
       "      <td>---</td>\n",
       "      <td>---</td>\n",
       "      <td>---</td>\n",
       "      <td>---</td>\n",
       "      <td>---</td>\n",
       "      <td>---</td>\n",
       "      <td>---</td>\n",
       "      <td>---</td>\n",
       "      <td>---</td>\n",
       "    </tr>\n",
       "    <tr>\n",
       "      <th>...</th>\n",
       "      <td>...</td>\n",
       "      <td>...</td>\n",
       "      <td>...</td>\n",
       "      <td>...</td>\n",
       "      <td>...</td>\n",
       "      <td>...</td>\n",
       "      <td>...</td>\n",
       "      <td>...</td>\n",
       "      <td>...</td>\n",
       "      <td>...</td>\n",
       "      <td>...</td>\n",
       "      <td>...</td>\n",
       "      <td>...</td>\n",
       "      <td>...</td>\n",
       "      <td>...</td>\n",
       "      <td>...</td>\n",
       "      <td>...</td>\n",
       "      <td>...</td>\n",
       "      <td>...</td>\n",
       "      <td>...</td>\n",
       "      <td>...</td>\n",
       "    </tr>\n",
       "    <tr>\n",
       "      <th>58</th>\n",
       "      <td>Zip code</td>\n",
       "      <td>60659</td>\n",
       "      <td>60659</td>\n",
       "      <td>40579</td>\n",
       "      <td>-87.70398600</td>\n",
       "      <td>41.99148800</td>\n",
       "      <td>42621.0</td>\n",
       "      <td>2874.0</td>\n",
       "      <td>36.28962248656765</td>\n",
       "      <td>2.574932303611675</td>\n",
       "      <td>...</td>\n",
       "      <td>22.610705644891866</td>\n",
       "      <td>None</td>\n",
       "      <td>5960.0</td>\n",
       "      <td>887.5511252880028</td>\n",
       "      <td>14.055940757511436</td>\n",
       "      <td>1.8639711883239136</td>\n",
       "      <td>22.464670132532767</td>\n",
       "      <td>3.4294761459302627</td>\n",
       "      <td>39.80365908076752</td>\n",
       "      <td>9.180700035024618</td>\n",
       "    </tr>\n",
       "    <tr>\n",
       "      <th>59</th>\n",
       "      <td>Zip code</td>\n",
       "      <td>60660</td>\n",
       "      <td>60660</td>\n",
       "      <td>42534</td>\n",
       "      <td>-87.66307600</td>\n",
       "      <td>41.99111000</td>\n",
       "      <td>42895.0</td>\n",
       "      <td>1873.9999999999998</td>\n",
       "      <td>48.43221820725026</td>\n",
       "      <td>1.2261423407052925</td>\n",
       "      <td>...</td>\n",
       "      <td>0.0</td>\n",
       "      <td>None</td>\n",
       "      <td>4173.0</td>\n",
       "      <td>828.4147511965248</td>\n",
       "      <td>9.87178274034822</td>\n",
       "      <td>1.9105015505170662</td>\n",
       "      <td>13.065422340729455</td>\n",
       "      <td>1.6841451725938184</td>\n",
       "      <td>65.04602991944765</td>\n",
       "      <td>7.701356454576164</td>\n",
       "    </tr>\n",
       "    <tr>\n",
       "      <th>60</th>\n",
       "      <td>Zip code</td>\n",
       "      <td>60661</td>\n",
       "      <td>60661</td>\n",
       "      <td>11987</td>\n",
       "      <td>-87.64409900</td>\n",
       "      <td>41.88303000</td>\n",
       "      <td>11513.0</td>\n",
       "      <td>964.0</td>\n",
       "      <td>57.14409797620081</td>\n",
       "      <td>5.275835768859286</td>\n",
       "      <td>...</td>\n",
       "      <td>0.0</td>\n",
       "      <td>None</td>\n",
       "      <td>193.0</td>\n",
       "      <td>160.60510577189007</td>\n",
       "      <td>1.6763658473030487</td>\n",
       "      <td>1.3879094533484708</td>\n",
       "      <td>1.092065247442632</td>\n",
       "      <td>1.0616735512884428</td>\n",
       "      <td>92.63657957244656</td>\n",
       "      <td>19.86682930661196</td>\n",
       "    </tr>\n",
       "    <tr>\n",
       "      <th>61</th>\n",
       "      <td>Zip code</td>\n",
       "      <td>60707</td>\n",
       "      <td>60707</td>\n",
       "      <td>43241</td>\n",
       "      <td>-87.80728200</td>\n",
       "      <td>41.92185300</td>\n",
       "      <td>40845.0</td>\n",
       "      <td>1381.0</td>\n",
       "      <td>48.5910148120945</td>\n",
       "      <td>3.0722078993226267</td>\n",
       "      <td>...</td>\n",
       "      <td>21.85607325117006</td>\n",
       "      <td>None</td>\n",
       "      <td>3442.0</td>\n",
       "      <td>530.5638510113556</td>\n",
       "      <td>8.46469763667216</td>\n",
       "      <td>1.2727662457059332</td>\n",
       "      <td>14.270311409906766</td>\n",
       "      <td>2.4207866397037514</td>\n",
       "      <td>65.29169121979965</td>\n",
       "      <td>9.709132375210586</td>\n",
       "    </tr>\n",
       "    <tr>\n",
       "      <th>62</th>\n",
       "      <td>Zip code</td>\n",
       "      <td>60827</td>\n",
       "      <td>60827</td>\n",
       "      <td>24936</td>\n",
       "      <td>-87.63357200</td>\n",
       "      <td>41.64943400</td>\n",
       "      <td>25538.0</td>\n",
       "      <td>1080.0</td>\n",
       "      <td>1.1708042916438248</td>\n",
       "      <td>1.028646935458862</td>\n",
       "      <td>...</td>\n",
       "      <td>74.56330568756154</td>\n",
       "      <td>None</td>\n",
       "      <td>2070.0</td>\n",
       "      <td>395.6349327347119</td>\n",
       "      <td>8.107790529160628</td>\n",
       "      <td>1.511194916953002</td>\n",
       "      <td>40.62265967690168</td>\n",
       "      <td>3.070760370958625</td>\n",
       "      <td>29.21615201900237</td>\n",
       "      <td>7.615071657722277</td>\n",
       "    </tr>\n",
       "  </tbody>\n",
       "</table>\n",
       "<p>63 rows × 34 columns</p>\n",
       "</div>"
      ],
      "text/plain": [
       "            column00 column01 column02    column03      column04     column05  \\\n",
       "0              Layer     Name    GEOID  Population     Longitude     Latitude   \n",
       "1   (Indicator name)     None     None        None          None         None   \n",
       "2       (Definition)     None     None        None          None         None   \n",
       "3         (Citation)     None     None        None          None         None   \n",
       "4                ---      ---      ---         ---           ---          ---   \n",
       "..               ...      ...      ...         ...           ...          ...   \n",
       "58          Zip code    60659    60659       40579  -87.70398600  41.99148800   \n",
       "59          Zip code    60660    60660       42534  -87.66307600  41.99111000   \n",
       "60          Zip code    60661    60661       11987  -87.64409900  41.88303000   \n",
       "61          Zip code    60707    60707       43241  -87.80728200  41.92185300   \n",
       "62          Zip code    60827    60827       24936  -87.63357200  41.64943400   \n",
       "\n",
       "                                             column06               column07  \\\n",
       "0                                       POP_2018-2022      POP_2018-2022_moe   \n",
       "1                   Population (residents), 2018-2022  (90% margin of error)   \n",
       "2            Average population over the time period.                   None   \n",
       "3   American Community Survey (ACS: Table B01001; ...                   None   \n",
       "4                                                 ---                    ---   \n",
       "..                                                ...                    ...   \n",
       "58                                            42621.0                 2874.0   \n",
       "59                                            42895.0     1873.9999999999998   \n",
       "60                                            11513.0                  964.0   \n",
       "61                                            40845.0                 1381.0   \n",
       "62                                            25538.0                 1080.0   \n",
       "\n",
       "                                             column08               column09  \\\n",
       "0                                     PCT-W_2018-2022    PCT-W_2018-2022_moe   \n",
       "1   Demographics, Non-Hispanic White (% of residen...  (90% margin of error)   \n",
       "2   Percent of residents within each demographic g...                   None   \n",
       "3            American Community Survey (Table B01001)                   None   \n",
       "4                                                 ---                    ---   \n",
       "..                                                ...                    ...   \n",
       "58                                  36.28962248656765      2.574932303611675   \n",
       "59                                  48.43221820725026     1.2261423407052925   \n",
       "60                                  57.14409797620081      5.275835768859286   \n",
       "61                                   48.5910148120945     3.0722078993226267   \n",
       "62                                 1.1708042916438248      1.028646935458862   \n",
       "\n",
       "    ...                                           column24  \\\n",
       "0   ...                                           LFA_2019   \n",
       "1   ...             Low food access (% of residents), 2019   \n",
       "2   ...  Percent of residents who have low access to fo...   \n",
       "3   ...  USDA, Economic Research Service, Food Access R...   \n",
       "4   ...                                                ---   \n",
       "..  ...                                                ...   \n",
       "58  ...                                 22.610705644891866   \n",
       "59  ...                                                0.0   \n",
       "60  ...                                                0.0   \n",
       "61  ...                                  21.85607325117006   \n",
       "62  ...                                  74.56330568756154   \n",
       "\n",
       "                 column25                                          column26  \\\n",
       "0            LFA_2019_moe                                     UNI_2018-2022   \n",
       "1   (90% margin of error)        Uninsured residents (residents), 2018-2022   \n",
       "2                    None     Number of residents without health insurance.   \n",
       "3                    None  American Community Survey (Tables B27001/C27001)   \n",
       "4                     ---                                               ---   \n",
       "..                    ...                                               ...   \n",
       "58                   None                                            5960.0   \n",
       "59                   None                                            4173.0   \n",
       "60                   None                                             193.0   \n",
       "61                   None                                            3442.0   \n",
       "62                   None                                            2070.0   \n",
       "\n",
       "                 column27                                           column28  \\\n",
       "0       UNI_2018-2022_moe                                      UNS_2018-2022   \n",
       "1   (90% margin of error)         Uninsured rate (% of residents), 2018-2022   \n",
       "2                    None  Percent of residents without health insurance ...   \n",
       "3                    None   American Community Survey (Tables B27001/C27001)   \n",
       "4                     ---                                                ---   \n",
       "..                    ...                                                ...   \n",
       "58      887.5511252880028                                 14.055940757511436   \n",
       "59      828.4147511965248                                   9.87178274034822   \n",
       "60     160.60510577189007                                 1.6763658473030487   \n",
       "61      530.5638510113556                                   8.46469763667216   \n",
       "62      395.6349327347119                                  8.107790529160628   \n",
       "\n",
       "                 column29                                           column30  \\\n",
       "0       UNS_2018-2022_moe                                      SNP_2018-2022   \n",
       "1   (90% margin of error)    Food stamps (SNAP) (% of households), 2018-2022   \n",
       "2                    None  Percent of households receiving Supplemental N...   \n",
       "3                    None  American Community Survey (Tables B22003, B220...   \n",
       "4                     ---                                                ---   \n",
       "..                    ...                                                ...   \n",
       "58     1.8639711883239136                                 22.464670132532767   \n",
       "59     1.9105015505170662                                 13.065422340729455   \n",
       "60     1.3879094533484708                                  1.092065247442632   \n",
       "61     1.2727662457059332                                 14.270311409906766   \n",
       "62      1.511194916953002                                  40.62265967690168   \n",
       "\n",
       "                 column31                                           column32  \\\n",
       "0       SNP_2018-2022_moe                                      SNQ_2018-2022   \n",
       "1   (90% margin of error)  Households in poverty not receiving food stamp...   \n",
       "2                    None  Percent of households with income in the past ...   \n",
       "3                    None           American Community Survey (Table B22003)   \n",
       "4                     ---                                                ---   \n",
       "..                    ...                                                ...   \n",
       "58     3.4294761459302627                                  39.80365908076752   \n",
       "59     1.6841451725938184                                  65.04602991944765   \n",
       "60     1.0616735512884428                                  92.63657957244656   \n",
       "61     2.4207866397037514                                  65.29169121979965   \n",
       "62      3.070760370958625                                  29.21615201900237   \n",
       "\n",
       "                 column33  \n",
       "0       SNQ_2018-2022_moe  \n",
       "1   (90% margin of error)  \n",
       "2                    None  \n",
       "3                    None  \n",
       "4                     ---  \n",
       "..                    ...  \n",
       "58      9.180700035024618  \n",
       "59      7.701356454576164  \n",
       "60      19.86682930661196  \n",
       "61      9.709132375210586  \n",
       "62      7.615071657722277  \n",
       "\n",
       "[63 rows x 34 columns]"
      ]
     },
     "execution_count": 1,
     "metadata": {},
     "output_type": "execute_result"
    }
   ],
   "source": [
    "df_1 = _deepnote_execute_sql('SELECT *\\nFROM \\'CHAMUPGeozipcodes.csv\\'', 'SQL_DEEPNOTE_DATAFRAME_SQL', audit_sql_comment='', sql_cache_mode='cache_disabled')\n",
    "df_1"
   ]
  },
  {
   "cell_type": "code",
   "execution_count": null,
   "metadata": {
    "cell_id": "bf4cc6a2b144450e9608ca05f6335b5f",
    "deepnote_cell_type": "code",
    "deepnote_to_be_reexecuted": false,
    "execution_millis": 206,
    "execution_start": 1722955155196,
    "source_hash": null
   },
   "outputs": [
    {
     "data": {
      "application/vnd.deepnote.dataframe.v3+json": {
       "column_count": 34,
       "columns": [
        {
         "dtype": "object",
         "name": "Layer",
         "stats": {
          "categories": [
           {
            "count": 16,
            "name": "Zip code"
           },
           {
            "count": 1,
            "name": "(Indicator name)"
           },
           {
            "count": 3,
            "name": "3 others"
           }
          ],
          "nan_count": 0,
          "unique_count": 5
         }
        },
        {
         "dtype": "object",
         "name": "Name",
         "stats": {
          "categories": [
           {
            "count": 1,
            "name": "---"
           },
           {
            "count": 16,
            "name": "16 others"
           },
           {
            "count": 3,
            "name": "Missing"
           }
          ],
          "nan_count": 3,
          "unique_count": 17
         }
        },
        {
         "dtype": "object",
         "name": "GEOID",
         "stats": {
          "categories": [
           {
            "count": 1,
            "name": "---"
           },
           {
            "count": 16,
            "name": "16 others"
           },
           {
            "count": 3,
            "name": "Missing"
           }
          ],
          "nan_count": 3,
          "unique_count": 17
         }
        },
        {
         "dtype": "object",
         "name": "Population",
         "stats": {
          "categories": [
           {
            "count": 1,
            "name": "---"
           },
           {
            "count": 16,
            "name": "16 others"
           },
           {
            "count": 3,
            "name": "Missing"
           }
          ],
          "nan_count": 3,
          "unique_count": 17
         }
        },
        {
         "dtype": "object",
         "name": "Longitude",
         "stats": {
          "categories": [
           {
            "count": 1,
            "name": "---"
           },
           {
            "count": 16,
            "name": "16 others"
           },
           {
            "count": 3,
            "name": "Missing"
           }
          ],
          "nan_count": 3,
          "unique_count": 17
         }
        },
        {
         "dtype": "object",
         "name": "Latitude",
         "stats": {
          "categories": [
           {
            "count": 1,
            "name": "---"
           },
           {
            "count": 16,
            "name": "16 others"
           },
           {
            "count": 3,
            "name": "Missing"
           }
          ],
          "nan_count": 3,
          "unique_count": 17
         }
        },
        {
         "dtype": "object",
         "name": "POP_2018-2022",
         "stats": {
          "categories": [
           {
            "count": 1,
            "name": "Population (residents), 2018-2022"
           },
           {
            "count": 1,
            "name": "Average population over the time period."
           },
           {
            "count": 18,
            "name": "18 others"
           }
          ],
          "nan_count": 0,
          "unique_count": 20
         }
        },
        {
         "dtype": "object",
         "name": "POP_2018-2022_moe",
         "stats": {
          "categories": [
           {
            "count": 1,
            "name": "(90% margin of error)"
           },
           {
            "count": 17,
            "name": "17 others"
           },
           {
            "count": 2,
            "name": "Missing"
           }
          ],
          "nan_count": 2,
          "unique_count": 18
         }
        },
        {
         "dtype": "object",
         "name": "PCT-W_2018-2022",
         "stats": {
          "categories": [
           {
            "count": 1,
            "name": "Demographics, Non-Hispanic White (% of residents), 2018-2022"
           },
           {
            "count": 1,
            "name": "Percent of residents within each demographic group. Use this topic to explore age, gender, and racial/ethnic breakdowns."
           },
           {
            "count": 18,
            "name": "18 others"
           }
          ],
          "nan_count": 0,
          "unique_count": 20
         }
        },
        {
         "dtype": "object",
         "name": "PCT-W_2018-2022_moe",
         "stats": {
          "categories": [
           {
            "count": 1,
            "name": "(90% margin of error)"
           },
           {
            "count": 17,
            "name": "17 others"
           },
           {
            "count": 2,
            "name": "Missing"
           }
          ],
          "nan_count": 2,
          "unique_count": 18
         }
        },
        {
         "dtype": "object",
         "name": "HDAL_2022",
         "stats": {
          "categories": [
           {
            "count": 1,
            "name": "Alcohol-related hospitalizations (count of hospitalizations), 2022"
           },
           {
            "count": 15,
            "name": "15 others"
           },
           {
            "count": 4,
            "name": "Missing"
           }
          ],
          "nan_count": 4,
          "unique_count": 16
         }
        },
        {
         "dtype": "object",
         "name": "HDAL_2022_moe",
         "stats": {
          "categories": [
           {
            "count": 1,
            "name": "(90% margin of error)"
           },
           {
            "count": 1,
            "name": "---"
           },
           {
            "count": 18,
            "name": "Missing"
           }
          ],
          "nan_count": 18,
          "unique_count": 2
         }
        },
        {
         "dtype": "object",
         "name": "HDALR_2022",
         "stats": {
          "categories": [
           {
            "count": 1,
            "name": "Alcohol-related hospitalization rate (per 10,000 population), 2022"
           },
           {
            "count": 15,
            "name": "15 others"
           },
           {
            "count": 4,
            "name": "Missing"
           }
          ],
          "nan_count": 4,
          "unique_count": 16
         }
        },
        {
         "dtype": "object",
         "name": "HDALR_2022_moe",
         "stats": {
          "categories": [
           {
            "count": 1,
            "name": "(90% margin of error)"
           },
           {
            "count": 13,
            "name": "13 others"
           },
           {
            "count": 6,
            "name": "Missing"
           }
          ],
          "nan_count": 6,
          "unique_count": 14
         }
        },
        {
         "dtype": "object",
         "name": "EDB_2018-2022",
         "stats": {
          "categories": [
           {
            "count": 2,
            "name": "100.0"
           },
           {
            "count": 1,
            "name": "High school graduation rate (% of residents), 2018-2022"
           },
           {
            "count": 17,
            "name": "17 others"
           }
          ],
          "nan_count": 0,
          "unique_count": 19
         }
        },
        {
         "dtype": "object",
         "name": "EDB_2018-2022_moe",
         "stats": {
          "categories": [
           {
            "count": 1,
            "name": "(90% margin of error)"
           },
           {
            "count": 17,
            "name": "17 others"
           },
           {
            "count": 2,
            "name": "Missing"
           }
          ],
          "nan_count": 2,
          "unique_count": 18
         }
        },
        {
         "dtype": "object",
         "name": "UMP_2018-2022",
         "stats": {
          "categories": [
           {
            "count": 1,
            "name": "Unemployment rate (%), 2018-2022"
           },
           {
            "count": 1,
            "name": "Percent of residents 16 and older in the civilian labor force who are actively seeking employment."
           },
           {
            "count": 18,
            "name": "18 others"
           }
          ],
          "nan_count": 0,
          "unique_count": 20
         }
        },
        {
         "dtype": "object",
         "name": "UMP_2018-2022_moe",
         "stats": {
          "categories": [
           {
            "count": 1,
            "name": "(90% margin of error)"
           },
           {
            "count": 17,
            "name": "17 others"
           },
           {
            "count": 2,
            "name": "Missing"
           }
          ],
          "nan_count": 2,
          "unique_count": 18
         }
        },
        {
         "dtype": "object",
         "name": "HDDIA_2022",
         "stats": {
          "categories": [
           {
            "count": 1,
            "name": "Diabetes-related hospitalizations (count of hospitalizations), 2022"
           },
           {
            "count": 14,
            "name": "14 others"
           },
           {
            "count": 5,
            "name": "Missing"
           }
          ],
          "nan_count": 5,
          "unique_count": 15
         }
        },
        {
         "dtype": "object",
         "name": "HDDIA_2022_moe",
         "stats": {
          "categories": [
           {
            "count": 1,
            "name": "(90% margin of error)"
           },
           {
            "count": 1,
            "name": "---"
           },
           {
            "count": 18,
            "name": "Missing"
           }
          ],
          "nan_count": 18,
          "unique_count": 2
         }
        },
        {
         "dtype": "object",
         "name": "HDDIAR_2022",
         "stats": {
          "categories": [
           {
            "count": 1,
            "name": "Diabetes-related hospitalization rate (per 10,000 population), 2022"
           },
           {
            "count": 14,
            "name": "14 others"
           },
           {
            "count": 5,
            "name": "Missing"
           }
          ],
          "nan_count": 5,
          "unique_count": 15
         }
        },
        {
         "dtype": "object",
         "name": "HDDIAR_2022_moe",
         "stats": {
          "categories": [
           {
            "count": 2,
            "name": "3.0633928572099998"
           },
           {
            "count": 11,
            "name": "10 others"
           },
           {
            "count": 7,
            "name": "Missing"
           }
          ],
          "nan_count": 7,
          "unique_count": 11
         }
        },
        {
         "dtype": "object",
         "name": "FAI_2022",
         "stats": {
          "categories": [
           {
            "count": 1,
            "name": "Food insecurity (% of residents), 2022"
           },
           {
            "count": 1,
            "name": "Percentage of the population experiencing food insecurity at some point. Food insecurity is the household-level economic and social condition of limited or uncertain access to adequate food, as represented in USDA food-security reports. 2020 data is a projection based on 11.5% national unemployment and 16.5% national poverty rate."
           },
           {
            "count": 18,
            "name": "18 others"
           }
          ],
          "nan_count": 0,
          "unique_count": 20
         }
        },
        {
         "dtype": "object",
         "name": "FAI_2022_moe",
         "stats": {
          "categories": [
           {
            "count": 1,
            "name": "(90% margin of error)"
           },
           {
            "count": 1,
            "name": "---"
           },
           {
            "count": 18,
            "name": "Missing"
           }
          ],
          "nan_count": 18,
          "unique_count": 2
         }
        },
        {
         "dtype": "object",
         "name": "LFA_2019",
         "stats": {
          "categories": [
           {
            "count": 6,
            "name": "0.0"
           },
           {
            "count": 1,
            "name": "Low food access (% of residents), 2019"
           },
           {
            "count": 13,
            "name": "13 others"
           }
          ],
          "nan_count": 0,
          "unique_count": 15
         }
        },
        {
         "dtype": "object",
         "name": "LFA_2019_moe",
         "stats": {
          "categories": [
           {
            "count": 1,
            "name": "(90% margin of error)"
           },
           {
            "count": 1,
            "name": "---"
           },
           {
            "count": 18,
            "name": "Missing"
           }
          ],
          "nan_count": 18,
          "unique_count": 2
         }
        },
        {
         "dtype": "object",
         "name": "UNI_2018-2022",
         "stats": {
          "categories": [
           {
            "count": 1,
            "name": "Uninsured residents (residents), 2018-2022"
           },
           {
            "count": 1,
            "name": "Number of residents without health insurance."
           },
           {
            "count": 18,
            "name": "18 others"
           }
          ],
          "nan_count": 0,
          "unique_count": 20
         }
        },
        {
         "dtype": "object",
         "name": "UNI_2018-2022_moe",
         "stats": {
          "categories": [
           {
            "count": 2,
            "name": "50.91168824543142"
           },
           {
            "count": 16,
            "name": "16 others"
           },
           {
            "count": 2,
            "name": "Missing"
           }
          ],
          "nan_count": 2,
          "unique_count": 17
         }
        },
        {
         "dtype": "object",
         "name": "UNS_2018-2022",
         "stats": {
          "categories": [
           {
            "count": 1,
            "name": "Uninsured rate (% of residents), 2018-2022"
           },
           {
            "count": 1,
            "name": "Percent of residents without health insurance (at the time of the survey)."
           },
           {
            "count": 18,
            "name": "18 others"
           }
          ],
          "nan_count": 0,
          "unique_count": 20
         }
        },
        {
         "dtype": "object",
         "name": "UNS_2018-2022_moe",
         "stats": {
          "categories": [
           {
            "count": 1,
            "name": "(90% margin of error)"
           },
           {
            "count": 17,
            "name": "17 others"
           },
           {
            "count": 2,
            "name": "Missing"
           }
          ],
          "nan_count": 2,
          "unique_count": 18
         }
        },
        {
         "dtype": "object",
         "name": "SNP_2018-2022",
         "stats": {
          "categories": [
           {
            "count": 4,
            "name": "0.0"
           },
           {
            "count": 1,
            "name": "Food stamps (SNAP) (% of households), 2018-2022"
           },
           {
            "count": 15,
            "name": "15 others"
           }
          ],
          "nan_count": 0,
          "unique_count": 17
         }
        },
        {
         "dtype": "object",
         "name": "SNP_2018-2022_moe",
         "stats": {
          "categories": [
           {
            "count": 1,
            "name": "(90% margin of error)"
           },
           {
            "count": 17,
            "name": "17 others"
           },
           {
            "count": 2,
            "name": "Missing"
           }
          ],
          "nan_count": 2,
          "unique_count": 18
         }
        },
        {
         "dtype": "object",
         "name": "SNQ_2018-2022",
         "stats": {
          "categories": [
           {
            "count": 5,
            "name": "100.0"
           },
           {
            "count": 1,
            "name": "Households in poverty not receiving food stamps (SNAP) (% of households below the poverty line), 2018-2022"
           },
           {
            "count": 14,
            "name": "14 others"
           }
          ],
          "nan_count": 0,
          "unique_count": 16
         }
        },
        {
         "dtype": "object",
         "name": "SNQ_2018-2022_moe",
         "stats": {
          "categories": [
           {
            "count": 1,
            "name": "(90% margin of error)"
           },
           {
            "count": 17,
            "name": "17 others"
           },
           {
            "count": 2,
            "name": "Missing"
           }
          ],
          "nan_count": 2,
          "unique_count": 18
         }
        },
        {
         "dtype": "int64",
         "name": "_deepnote_index_column"
        }
       ],
       "row_count": 20,
       "rows": [
        {
         "EDB_2018-2022": "High school graduation rate (% of residents), 2018-2022",
         "EDB_2018-2022_moe": "(90% margin of error)",
         "FAI_2022": "Food insecurity (% of residents), 2022",
         "FAI_2022_moe": "(90% margin of error)",
         "GEOID": "nan",
         "HDALR_2022": "Alcohol-related hospitalization rate (per 10,000 population), 2022",
         "HDALR_2022_moe": "(90% margin of error)",
         "HDAL_2022": "Alcohol-related hospitalizations (count of hospitalizations), 2022",
         "HDAL_2022_moe": "(90% margin of error)",
         "HDDIAR_2022": "Diabetes-related hospitalization rate (per 10,000 population), 2022",
         "HDDIAR_2022_moe": "(90% margin of error)",
         "HDDIA_2022": "Diabetes-related hospitalizations (count of hospitalizations), 2022",
         "HDDIA_2022_moe": "(90% margin of error)",
         "LFA_2019": "Low food access (% of residents), 2019",
         "LFA_2019_moe": "(90% margin of error)",
         "Latitude": "nan",
         "Layer": "(Indicator name)",
         "Longitude": "nan",
         "Name": "nan",
         "PCT-W_2018-2022": "Demographics, Non-Hispanic White (% of residents), 2018-2022",
         "PCT-W_2018-2022_moe": "(90% margin of error)",
         "POP_2018-2022": "Population (residents), 2018-2022",
         "POP_2018-2022_moe": "(90% margin of error)",
         "Population": "nan",
         "SNP_2018-2022": "Food stamps (SNAP) (% of households), 2018-2022",
         "SNP_2018-2022_moe": "(90% margin of error)",
         "SNQ_2018-2022": "Households in poverty not receiving food stamps (SNAP) (% of households below the poverty line), 2018-2022",
         "SNQ_2018-2022_moe": "(90% margin of error)",
         "UMP_2018-2022": "Unemployment rate (%), 2018-2022",
         "UMP_2018-2022_moe": "(90% margin of error)",
         "UNI_2018-2022": "Uninsured residents (residents), 2018-2022",
         "UNI_2018-2022_moe": "(90% margin of error)",
         "UNS_2018-2022": "Uninsured rate (% of residents), 2018-2022",
         "UNS_2018-2022_moe": "(90% margin of error)",
         "_deepnote_index_column": 0
        },
        {
         "EDB_2018-2022": "Residents 25 or older with at least a high school degree: including GED and any higher education",
         "EDB_2018-2022_moe": "nan",
         "FAI_2022": "Percentage of the population experiencing food insecurity at some point. Food insecurity is the household-level economic and social condition of limited or uncertain access to adequate food, as represented in USDA food-security reports. 2020 data is a projection based on 11.5% national unemployment and 16.5% national poverty rate.",
         "FAI_2022_moe": "nan",
         "GEOID": "nan",
         "HDALR_2022": "Age-adjusted rate of alcohol-related hospitalization discharges, excluding discharges to Veterans Administration hospitals.",
         "HDALR_2022_moe": "nan",
         "HDAL_2022": "Number of inpatient hospitalization discharges due to alcohol-relateddisease, injury or conditions.",
         "HDAL_2022_moe": "nan",
         "HDDIAR_2022": "Age-adjusted rate of diabetes-related hospitalization discharges, excluding discharges to Veterans Administration hospitals.",
         "HDDIAR_2022_moe": "nan",
         "HDDIA_2022": "Number of inpatient hospitalization discharges, excluding discharges to Veterans Administration hospitals, due to diabetes mellitus with or without related complications.",
         "HDDIA_2022_moe": "nan",
         "LFA_2019": "Percent of residents who have low access to food, defined solely by distance: further than 1/2 mile from the nearest supermarket in an urban area, or further than 10 miles in a rural area.",
         "LFA_2019_moe": "nan",
         "Latitude": "nan",
         "Layer": "(Definition)",
         "Longitude": "nan",
         "Name": "nan",
         "PCT-W_2018-2022": "Percent of residents within each demographic group. Use this topic to explore age, gender, and racial/ethnic breakdowns.",
         "PCT-W_2018-2022_moe": "nan",
         "POP_2018-2022": "Average population over the time period.",
         "POP_2018-2022_moe": "nan",
         "Population": "nan",
         "SNP_2018-2022": "Percent of households receiving Supplemental Nutrition Assistance Program (SNAP) benefits, formerly known as food stamps, over the past 12 months.",
         "SNP_2018-2022_moe": "nan",
         "SNQ_2018-2022": "Percent of households with income in the past 12 months below the poverty level who did not receive food stamps/SNAP in the past 12 months.",
         "SNQ_2018-2022_moe": "nan",
         "UMP_2018-2022": "Percent of residents 16 and older in the civilian labor force who are actively seeking employment.",
         "UMP_2018-2022_moe": "nan",
         "UNI_2018-2022": "Number of residents without health insurance.",
         "UNI_2018-2022_moe": "nan",
         "UNS_2018-2022": "Percent of residents without health insurance (at the time of the survey).",
         "UNS_2018-2022_moe": "nan",
         "_deepnote_index_column": 1
        },
        {
         "EDB_2018-2022": "American Community Survey (Table B15002)",
         "EDB_2018-2022_moe": "nan",
         "FAI_2022": "Map the Meal Gap (Map the Meal Gap 2020)",
         "FAI_2022_moe": "nan",
         "GEOID": "nan",
         "HDALR_2022": "Illinois Department of Public Health, Hospital Discharge Data",
         "HDALR_2022_moe": "nan",
         "HDAL_2022": "Illinois Department of Public Health, Hospital Discharge Data",
         "HDAL_2022_moe": "nan",
         "HDDIAR_2022": "Illinois Department of Public Health, Hospital Discharge Data",
         "HDDIAR_2022_moe": "nan",
         "HDDIA_2022": "Illinois Department of Public Health, Hospital Discharge Data",
         "HDDIA_2022_moe": "nan",
         "LFA_2019": "USDA, Economic Research Service, Food Access Research Atlas (Food Access Research Atlas)",
         "LFA_2019_moe": "nan",
         "Latitude": "nan",
         "Layer": "(Citation)",
         "Longitude": "nan",
         "Name": "nan",
         "PCT-W_2018-2022": "American Community Survey (Table B01001)",
         "PCT-W_2018-2022_moe": "nan",
         "POP_2018-2022": "American Community Survey (ACS: Table B01001; Decennial Census: Table P012)",
         "POP_2018-2022_moe": "nan",
         "Population": "nan",
         "SNP_2018-2022": "American Community Survey (Tables B22003, B22005, and S2201)",
         "SNP_2018-2022_moe": "nan",
         "SNQ_2018-2022": "American Community Survey (Table B22003)",
         "SNQ_2018-2022_moe": "nan",
         "UMP_2018-2022": "American Community Survey (Tables B23025, B23001, and C23002)",
         "UMP_2018-2022_moe": "nan",
         "UNI_2018-2022": "American Community Survey (Tables B27001/C27001)",
         "UNI_2018-2022_moe": "nan",
         "UNS_2018-2022": "American Community Survey (Tables B27001/C27001)",
         "UNS_2018-2022_moe": "nan",
         "_deepnote_index_column": 2
        },
        {
         "EDB_2018-2022": "---",
         "EDB_2018-2022_moe": "---",
         "FAI_2022": "---",
         "FAI_2022_moe": "---",
         "GEOID": "---",
         "HDALR_2022": "---",
         "HDALR_2022_moe": "---",
         "HDAL_2022": "---",
         "HDAL_2022_moe": "---",
         "HDDIAR_2022": "---",
         "HDDIAR_2022_moe": "---",
         "HDDIA_2022": "---",
         "HDDIA_2022_moe": "---",
         "LFA_2019": "---",
         "LFA_2019_moe": "---",
         "Latitude": "---",
         "Layer": "---",
         "Longitude": "---",
         "Name": "---",
         "PCT-W_2018-2022": "---",
         "PCT-W_2018-2022_moe": "---",
         "POP_2018-2022": "---",
         "POP_2018-2022_moe": "---",
         "Population": "---",
         "SNP_2018-2022": "---",
         "SNP_2018-2022_moe": "---",
         "SNQ_2018-2022": "---",
         "SNQ_2018-2022_moe": "---",
         "UMP_2018-2022": "---",
         "UMP_2018-2022_moe": "---",
         "UNI_2018-2022": "---",
         "UNI_2018-2022_moe": "---",
         "UNS_2018-2022": "---",
         "UNS_2018-2022_moe": "---",
         "_deepnote_index_column": 3
        },
        {
         "EDB_2018-2022": "97.31182795698923",
         "EDB_2018-2022_moe": "3.684767519332293",
         "FAI_2022": "10.4",
         "FAI_2022_moe": "nan",
         "GEOID": "60601",
         "HDALR_2022": "13.0",
         "HDALR_2022_moe": "4.825892857163",
         "HDAL_2022": "23.0",
         "HDAL_2022_moe": "nan",
         "HDDIAR_2022": "nan",
         "HDDIAR_2022_moe": "nan",
         "HDDIA_2022": "nan",
         "HDDIA_2022_moe": "nan",
         "LFA_2019": "0.0",
         "LFA_2019_moe": "nan",
         "Latitude": "41.88530300",
         "Layer": "Zip code",
         "Longitude": "-87.62209200",
         "Name": "60601",
         "PCT-W_2018-2022": "52.76253201609953",
         "PCT-W_2018-2022_moe": "6.546221422721316",
         "POP_2018-2022": "16398.0",
         "POP_2018-2022_moe": "1721.0",
         "Population": "15814",
         "SNP_2018-2022": "0.0",
         "SNP_2018-2022_moe": "0.2053610030263727",
         "SNQ_2018-2022": "100.0",
         "SNQ_2018-2022_moe": "91.70326784584364",
         "UMP_2018-2022": "2.762923351158645",
         "UMP_2018-2022_moe": "2.256038196880616",
         "UNI_2018-2022": "999.0",
         "UNI_2018-2022_moe": "425.90961482455407",
         "UNS_2018-2022": "6.097412109375",
         "UNS_2018-2022_moe": "2.5193146185450663",
         "_deepnote_index_column": 4
        },
        {
         "EDB_2018-2022": "100.0",
         "EDB_2018-2022_moe": "67.3664809728275",
         "FAI_2022": "11.3",
         "FAI_2022_moe": "nan",
         "GEOID": "60602",
         "HDALR_2022": "nan",
         "HDALR_2022_moe": "nan",
         "HDAL_2022": "nan",
         "HDAL_2022_moe": "nan",
         "HDDIAR_2022": "nan",
         "HDDIAR_2022_moe": "nan",
         "HDDIA_2022": "nan",
         "HDDIA_2022_moe": "nan",
         "LFA_2019": "0.0",
         "LFA_2019_moe": "nan",
         "Latitude": "41.88307300",
         "Layer": "Zip code",
         "Longitude": "-87.62914800",
         "Name": "60602",
         "PCT-W_2018-2022": "27.50533049040512",
         "PCT-W_2018-2022_moe": "6.453020537468193",
         "POP_2018-2022": "938.0",
         "POP_2018-2022_moe": "494.99999999999994",
         "Population": "1261",
         "SNP_2018-2022": "12.393162393162394",
         "SNP_2018-2022_moe": "23.3575704080216",
         "SNQ_2018-2022": "100.0",
         "SNQ_2018-2022_moe": "164.5",
         "UMP_2018-2022": "7.584269662921349",
         "UMP_2018-2022_moe": "16.735611057547178",
         "UNI_2018-2022": "0.0",
         "UNI_2018-2022_moe": "50.91168824543142",
         "UNS_2018-2022": "0.0",
         "UNS_2018-2022_moe": "5.427685314011878",
         "_deepnote_index_column": 5
        },
        {
         "EDB_2018-2022": "100.0",
         "EDB_2018-2022_moe": "46.17507569917459",
         "FAI_2022": "9.8",
         "FAI_2022_moe": "nan",
         "GEOID": "60603",
         "HDALR_2022": "nan",
         "HDALR_2022_moe": "nan",
         "HDAL_2022": "nan",
         "HDAL_2022_moe": "nan",
         "HDDIAR_2022": "nan",
         "HDDIAR_2022_moe": "nan",
         "HDDIA_2022": "nan",
         "HDDIA_2022_moe": "nan",
         "LFA_2019": "0.0",
         "LFA_2019_moe": "nan",
         "Latitude": "41.88018800",
         "Layer": "Zip code",
         "Longitude": "-87.62550900",
         "Name": "60603",
         "PCT-W_2018-2022": "51.08108108108108",
         "PCT-W_2018-2022_moe": "7.699271088278311",
         "POP_2018-2022": "1110.0",
         "POP_2018-2022_moe": "319.0",
         "Population": "1288",
         "SNP_2018-2022": "0.0",
         "SNP_2018-2022_moe": "1.7804154302670623",
         "SNQ_2018-2022": "100.0",
         "SNQ_2018-2022_moe": "111.69136081760759",
         "UMP_2018-2022": "4.144385026737968",
         "UMP_2018-2022_moe": "9.039896805558014",
         "UNI_2018-2022": "61.0",
         "UNI_2018-2022_moe": "60.6217782649107",
         "UNS_2018-2022": "5.495495495495495",
         "UNS_2018-2022_moe": "5.228080137827035",
         "_deepnote_index_column": 6
        },
        {
         "EDB_2018-2022": "98.04878048780488",
         "EDB_2018-2022_moe": "39.03105285150932",
         "FAI_2022": "13.0",
         "FAI_2022_moe": "nan",
         "GEOID": "60604",
         "HDALR_2022": "nan",
         "HDALR_2022_moe": "nan",
         "HDAL_2022": "nan",
         "HDAL_2022_moe": "nan",
         "HDDIAR_2022": "nan",
         "HDDIAR_2022_moe": "nan",
         "HDDIA_2022": "nan",
         "HDDIA_2022_moe": "nan",
         "LFA_2019": "0.0",
         "LFA_2019_moe": "nan",
         "Latitude": "41.87809500",
         "Layer": "Zip code",
         "Longitude": "-87.62846100",
         "Name": "60604",
         "PCT-W_2018-2022": "70.28493894165535",
         "PCT-W_2018-2022_moe": "16.027209280338663",
         "POP_2018-2022": "737.0",
         "POP_2018-2022_moe": "197.0",
         "Population": "897",
         "SNP_2018-2022": "0.0",
         "SNP_2018-2022_moe": "2.6548672566371683",
         "SNQ_2018-2022": "100.0",
         "SNQ_2018-2022_moe": "90.16385114111408",
         "UMP_2018-2022": "8.19672131147541",
         "UMP_2018-2022_moe": "13.905611473659327",
         "UNI_2018-2022": "7.0",
         "UNI_2018-2022_moe": "50.91168824543142",
         "UNS_2018-2022": "0.949796472184532",
         "UNS_2018-2022_moe": "6.903296261268287",
         "_deepnote_index_column": 7
        },
        {
         "EDB_2018-2022": "96.17894458903852",
         "EDB_2018-2022_moe": "4.076583111412739",
         "FAI_2022": "11.4",
         "FAI_2022_moe": "nan",
         "GEOID": "60605",
         "HDALR_2022": "11.7",
         "HDALR_2022_moe": "3.3991071428370003",
         "HDAL_2022": "34.0",
         "HDAL_2022_moe": "nan",
         "HDDIAR_2022": "6.5",
         "HDDIAR_2022_moe": "2.5178571428605",
         "HDDIA_2022": "19.0",
         "HDDIA_2022_moe": "nan",
         "LFA_2019": "1.051911052328199",
         "LFA_2019_moe": "nan",
         "Latitude": "41.86756600",
         "Layer": "Zip code",
         "Longitude": "-87.61722800",
         "Name": "60605",
         "PCT-W_2018-2022": "54.67447688989917",
         "PCT-W_2018-2022_moe": "3.9542152381186764",
         "POP_2018-2022": "34314.0",
         "POP_2018-2022_moe": "2076.0",
         "Population": "34071",
         "SNP_2018-2022": "5.0751979592921295",
         "SNP_2018-2022_moe": "2.45016701084529",
         "SNQ_2018-2022": "95.35423925667828",
         "SNQ_2018-2022_moe": "9.12370808082051",
         "UMP_2018-2022": "6.633927802188334",
         "UMP_2018-2022_moe": "2.057979946584935",
         "UNI_2018-2022": "1458.0",
         "UNI_2018-2022_moe": "467.44197500866346",
         "UNS_2018-2022": "4.329749955455248",
         "UNS_2018-2022_moe": "1.3622079977160255",
         "_deepnote_index_column": 8
        },
        {
         "EDB_2018-2022": "99.32614555256065",
         "EDB_2018-2022_moe": "3.9313969952108163",
         "FAI_2022": "10.9",
         "FAI_2022_moe": "nan",
         "GEOID": "60606",
         "HDALR_2022": "nan",
         "HDALR_2022_moe": "nan",
         "HDAL_2022": "nan",
         "HDAL_2022_moe": "nan",
         "HDDIAR_2022": "nan",
         "HDDIAR_2022_moe": "nan",
         "HDDIA_2022": "nan",
         "HDDIA_2022_moe": "nan",
         "LFA_2019": "0.0",
         "LFA_2019_moe": "nan",
         "Latitude": "41.88206000",
         "Layer": "Zip code",
         "Longitude": "-87.63735300",
         "Name": "60606",
         "PCT-W_2018-2022": "58.7247366922858",
         "PCT-W_2018-2022_moe": "16.17838348215005",
         "POP_2018-2022": "3513.0",
         "POP_2018-2022_moe": "704.0",
         "Population": "3797",
         "SNP_2018-2022": "0.0",
         "SNP_2018-2022_moe": "0.45011252813203295",
         "SNQ_2018-2022": "100.0",
         "SNQ_2018-2022_moe": "76.88872456796318",
         "UMP_2018-2022": "3.704866562009419",
         "UMP_2018-2022_moe": "2.695777226281432",
         "UNI_2018-2022": "178.0",
         "UNI_2018-2022_moe": "127.75758294520132",
         "UNS_2018-2022": "5.066894392257329",
         "UNS_2018-2022_moe": "3.4920793377518957",
         "_deepnote_index_column": 9
        }
       ]
      },
      "text/html": [
       "<div>\n",
       "<style scoped>\n",
       "    .dataframe tbody tr th:only-of-type {\n",
       "        vertical-align: middle;\n",
       "    }\n",
       "\n",
       "    .dataframe tbody tr th {\n",
       "        vertical-align: top;\n",
       "    }\n",
       "\n",
       "    .dataframe thead th {\n",
       "        text-align: right;\n",
       "    }\n",
       "</style>\n",
       "<table border=\"1\" class=\"dataframe\">\n",
       "  <thead>\n",
       "    <tr style=\"text-align: right;\">\n",
       "      <th></th>\n",
       "      <th>Layer</th>\n",
       "      <th>Name</th>\n",
       "      <th>GEOID</th>\n",
       "      <th>Population</th>\n",
       "      <th>Longitude</th>\n",
       "      <th>Latitude</th>\n",
       "      <th>POP_2018-2022</th>\n",
       "      <th>POP_2018-2022_moe</th>\n",
       "      <th>PCT-W_2018-2022</th>\n",
       "      <th>PCT-W_2018-2022_moe</th>\n",
       "      <th>...</th>\n",
       "      <th>LFA_2019</th>\n",
       "      <th>LFA_2019_moe</th>\n",
       "      <th>UNI_2018-2022</th>\n",
       "      <th>UNI_2018-2022_moe</th>\n",
       "      <th>UNS_2018-2022</th>\n",
       "      <th>UNS_2018-2022_moe</th>\n",
       "      <th>SNP_2018-2022</th>\n",
       "      <th>SNP_2018-2022_moe</th>\n",
       "      <th>SNQ_2018-2022</th>\n",
       "      <th>SNQ_2018-2022_moe</th>\n",
       "    </tr>\n",
       "  </thead>\n",
       "  <tbody>\n",
       "    <tr>\n",
       "      <th>0</th>\n",
       "      <td>(Indicator name)</td>\n",
       "      <td>NaN</td>\n",
       "      <td>NaN</td>\n",
       "      <td>NaN</td>\n",
       "      <td>NaN</td>\n",
       "      <td>NaN</td>\n",
       "      <td>Population (residents), 2018-2022</td>\n",
       "      <td>(90% margin of error)</td>\n",
       "      <td>Demographics, Non-Hispanic White (% of residen...</td>\n",
       "      <td>(90% margin of error)</td>\n",
       "      <td>...</td>\n",
       "      <td>Low food access (% of residents), 2019</td>\n",
       "      <td>(90% margin of error)</td>\n",
       "      <td>Uninsured residents (residents), 2018-2022</td>\n",
       "      <td>(90% margin of error)</td>\n",
       "      <td>Uninsured rate (% of residents), 2018-2022</td>\n",
       "      <td>(90% margin of error)</td>\n",
       "      <td>Food stamps (SNAP) (% of households), 2018-2022</td>\n",
       "      <td>(90% margin of error)</td>\n",
       "      <td>Households in poverty not receiving food stamp...</td>\n",
       "      <td>(90% margin of error)</td>\n",
       "    </tr>\n",
       "    <tr>\n",
       "      <th>1</th>\n",
       "      <td>(Definition)</td>\n",
       "      <td>NaN</td>\n",
       "      <td>NaN</td>\n",
       "      <td>NaN</td>\n",
       "      <td>NaN</td>\n",
       "      <td>NaN</td>\n",
       "      <td>Average population over the time period.</td>\n",
       "      <td>NaN</td>\n",
       "      <td>Percent of residents within each demographic g...</td>\n",
       "      <td>NaN</td>\n",
       "      <td>...</td>\n",
       "      <td>Percent of residents who have low access to fo...</td>\n",
       "      <td>NaN</td>\n",
       "      <td>Number of residents without health insurance.</td>\n",
       "      <td>NaN</td>\n",
       "      <td>Percent of residents without health insurance ...</td>\n",
       "      <td>NaN</td>\n",
       "      <td>Percent of households receiving Supplemental N...</td>\n",
       "      <td>NaN</td>\n",
       "      <td>Percent of households with income in the past ...</td>\n",
       "      <td>NaN</td>\n",
       "    </tr>\n",
       "    <tr>\n",
       "      <th>2</th>\n",
       "      <td>(Citation)</td>\n",
       "      <td>NaN</td>\n",
       "      <td>NaN</td>\n",
       "      <td>NaN</td>\n",
       "      <td>NaN</td>\n",
       "      <td>NaN</td>\n",
       "      <td>American Community Survey (ACS: Table B01001; ...</td>\n",
       "      <td>NaN</td>\n",
       "      <td>American Community Survey (Table B01001)</td>\n",
       "      <td>NaN</td>\n",
       "      <td>...</td>\n",
       "      <td>USDA, Economic Research Service, Food Access R...</td>\n",
       "      <td>NaN</td>\n",
       "      <td>American Community Survey (Tables B27001/C27001)</td>\n",
       "      <td>NaN</td>\n",
       "      <td>American Community Survey (Tables B27001/C27001)</td>\n",
       "      <td>NaN</td>\n",
       "      <td>American Community Survey (Tables B22003, B220...</td>\n",
       "      <td>NaN</td>\n",
       "      <td>American Community Survey (Table B22003)</td>\n",
       "      <td>NaN</td>\n",
       "    </tr>\n",
       "    <tr>\n",
       "      <th>3</th>\n",
       "      <td>---</td>\n",
       "      <td>---</td>\n",
       "      <td>---</td>\n",
       "      <td>---</td>\n",
       "      <td>---</td>\n",
       "      <td>---</td>\n",
       "      <td>---</td>\n",
       "      <td>---</td>\n",
       "      <td>---</td>\n",
       "      <td>---</td>\n",
       "      <td>...</td>\n",
       "      <td>---</td>\n",
       "      <td>---</td>\n",
       "      <td>---</td>\n",
       "      <td>---</td>\n",
       "      <td>---</td>\n",
       "      <td>---</td>\n",
       "      <td>---</td>\n",
       "      <td>---</td>\n",
       "      <td>---</td>\n",
       "      <td>---</td>\n",
       "    </tr>\n",
       "    <tr>\n",
       "      <th>4</th>\n",
       "      <td>Zip code</td>\n",
       "      <td>60601</td>\n",
       "      <td>60601</td>\n",
       "      <td>15814</td>\n",
       "      <td>-87.62209200</td>\n",
       "      <td>41.88530300</td>\n",
       "      <td>16398.0</td>\n",
       "      <td>1721.0</td>\n",
       "      <td>52.76253201609953</td>\n",
       "      <td>6.546221422721316</td>\n",
       "      <td>...</td>\n",
       "      <td>0.0</td>\n",
       "      <td>NaN</td>\n",
       "      <td>999.0</td>\n",
       "      <td>425.90961482455407</td>\n",
       "      <td>6.097412109375</td>\n",
       "      <td>2.5193146185450663</td>\n",
       "      <td>0.0</td>\n",
       "      <td>0.2053610030263727</td>\n",
       "      <td>100.0</td>\n",
       "      <td>91.70326784584364</td>\n",
       "    </tr>\n",
       "    <tr>\n",
       "      <th>5</th>\n",
       "      <td>Zip code</td>\n",
       "      <td>60602</td>\n",
       "      <td>60602</td>\n",
       "      <td>1261</td>\n",
       "      <td>-87.62914800</td>\n",
       "      <td>41.88307300</td>\n",
       "      <td>938.0</td>\n",
       "      <td>494.99999999999994</td>\n",
       "      <td>27.50533049040512</td>\n",
       "      <td>6.453020537468193</td>\n",
       "      <td>...</td>\n",
       "      <td>0.0</td>\n",
       "      <td>NaN</td>\n",
       "      <td>0.0</td>\n",
       "      <td>50.91168824543142</td>\n",
       "      <td>0.0</td>\n",
       "      <td>5.427685314011878</td>\n",
       "      <td>12.393162393162394</td>\n",
       "      <td>23.3575704080216</td>\n",
       "      <td>100.0</td>\n",
       "      <td>164.5</td>\n",
       "    </tr>\n",
       "    <tr>\n",
       "      <th>6</th>\n",
       "      <td>Zip code</td>\n",
       "      <td>60603</td>\n",
       "      <td>60603</td>\n",
       "      <td>1288</td>\n",
       "      <td>-87.62550900</td>\n",
       "      <td>41.88018800</td>\n",
       "      <td>1110.0</td>\n",
       "      <td>319.0</td>\n",
       "      <td>51.08108108108108</td>\n",
       "      <td>7.699271088278311</td>\n",
       "      <td>...</td>\n",
       "      <td>0.0</td>\n",
       "      <td>NaN</td>\n",
       "      <td>61.0</td>\n",
       "      <td>60.6217782649107</td>\n",
       "      <td>5.495495495495495</td>\n",
       "      <td>5.228080137827035</td>\n",
       "      <td>0.0</td>\n",
       "      <td>1.7804154302670623</td>\n",
       "      <td>100.0</td>\n",
       "      <td>111.69136081760759</td>\n",
       "    </tr>\n",
       "    <tr>\n",
       "      <th>7</th>\n",
       "      <td>Zip code</td>\n",
       "      <td>60604</td>\n",
       "      <td>60604</td>\n",
       "      <td>897</td>\n",
       "      <td>-87.62846100</td>\n",
       "      <td>41.87809500</td>\n",
       "      <td>737.0</td>\n",
       "      <td>197.0</td>\n",
       "      <td>70.28493894165535</td>\n",
       "      <td>16.027209280338663</td>\n",
       "      <td>...</td>\n",
       "      <td>0.0</td>\n",
       "      <td>NaN</td>\n",
       "      <td>7.0</td>\n",
       "      <td>50.91168824543142</td>\n",
       "      <td>0.949796472184532</td>\n",
       "      <td>6.903296261268287</td>\n",
       "      <td>0.0</td>\n",
       "      <td>2.6548672566371683</td>\n",
       "      <td>100.0</td>\n",
       "      <td>90.16385114111408</td>\n",
       "    </tr>\n",
       "    <tr>\n",
       "      <th>8</th>\n",
       "      <td>Zip code</td>\n",
       "      <td>60605</td>\n",
       "      <td>60605</td>\n",
       "      <td>34071</td>\n",
       "      <td>-87.61722800</td>\n",
       "      <td>41.86756600</td>\n",
       "      <td>34314.0</td>\n",
       "      <td>2076.0</td>\n",
       "      <td>54.67447688989917</td>\n",
       "      <td>3.9542152381186764</td>\n",
       "      <td>...</td>\n",
       "      <td>1.051911052328199</td>\n",
       "      <td>NaN</td>\n",
       "      <td>1458.0</td>\n",
       "      <td>467.44197500866346</td>\n",
       "      <td>4.329749955455248</td>\n",
       "      <td>1.3622079977160255</td>\n",
       "      <td>5.0751979592921295</td>\n",
       "      <td>2.45016701084529</td>\n",
       "      <td>95.35423925667828</td>\n",
       "      <td>9.12370808082051</td>\n",
       "    </tr>\n",
       "    <tr>\n",
       "      <th>9</th>\n",
       "      <td>Zip code</td>\n",
       "      <td>60606</td>\n",
       "      <td>60606</td>\n",
       "      <td>3797</td>\n",
       "      <td>-87.63735300</td>\n",
       "      <td>41.88206000</td>\n",
       "      <td>3513.0</td>\n",
       "      <td>704.0</td>\n",
       "      <td>58.7247366922858</td>\n",
       "      <td>16.17838348215005</td>\n",
       "      <td>...</td>\n",
       "      <td>0.0</td>\n",
       "      <td>NaN</td>\n",
       "      <td>178.0</td>\n",
       "      <td>127.75758294520132</td>\n",
       "      <td>5.066894392257329</td>\n",
       "      <td>3.4920793377518957</td>\n",
       "      <td>0.0</td>\n",
       "      <td>0.45011252813203295</td>\n",
       "      <td>100.0</td>\n",
       "      <td>76.88872456796318</td>\n",
       "    </tr>\n",
       "    <tr>\n",
       "      <th>10</th>\n",
       "      <td>Zip code</td>\n",
       "      <td>60607</td>\n",
       "      <td>60607</td>\n",
       "      <td>31816</td>\n",
       "      <td>-87.65160000</td>\n",
       "      <td>41.87493500</td>\n",
       "      <td>28797.0</td>\n",
       "      <td>1684.0</td>\n",
       "      <td>52.35267562593325</td>\n",
       "      <td>4.115087933155587</td>\n",
       "      <td>...</td>\n",
       "      <td>6.6736181636803416</td>\n",
       "      <td>NaN</td>\n",
       "      <td>971.0</td>\n",
       "      <td>271.0055349988262</td>\n",
       "      <td>3.384336551531839</td>\n",
       "      <td>0.9235191592458</td>\n",
       "      <td>3.92607985750334</td>\n",
       "      <td>1.2338246661705563</td>\n",
       "      <td>80.0</td>\n",
       "      <td>7.557523796751898</td>\n",
       "    </tr>\n",
       "    <tr>\n",
       "      <th>11</th>\n",
       "      <td>Zip code</td>\n",
       "      <td>60608</td>\n",
       "      <td>60608</td>\n",
       "      <td>75770</td>\n",
       "      <td>-87.67066400</td>\n",
       "      <td>41.84688000</td>\n",
       "      <td>82749.0</td>\n",
       "      <td>3174.0</td>\n",
       "      <td>20.11021281223942</td>\n",
       "      <td>1.4512635826093772</td>\n",
       "      <td>...</td>\n",
       "      <td>16.40502980746125</td>\n",
       "      <td>NaN</td>\n",
       "      <td>8222.0</td>\n",
       "      <td>849.9635286293171</td>\n",
       "      <td>11.09312177878518</td>\n",
       "      <td>1.0444972397781278</td>\n",
       "      <td>19.012413603383653</td>\n",
       "      <td>2.197111468175151</td>\n",
       "      <td>53.0937308556259</td>\n",
       "      <td>5.34083417214652</td>\n",
       "    </tr>\n",
       "    <tr>\n",
       "      <th>12</th>\n",
       "      <td>Zip code</td>\n",
       "      <td>60609</td>\n",
       "      <td>60609</td>\n",
       "      <td>65770</td>\n",
       "      <td>-87.65693500</td>\n",
       "      <td>41.81268000</td>\n",
       "      <td>63241.0</td>\n",
       "      <td>3238.0</td>\n",
       "      <td>13.707879382046457</td>\n",
       "      <td>1.1702939487029844</td>\n",
       "      <td>...</td>\n",
       "      <td>30.615064181636633</td>\n",
       "      <td>NaN</td>\n",
       "      <td>9432.0</td>\n",
       "      <td>964.3821856504817</td>\n",
       "      <td>14.958369677265878</td>\n",
       "      <td>1.3225408493430626</td>\n",
       "      <td>29.7218473860619</td>\n",
       "      <td>2.412874509205996</td>\n",
       "      <td>46.66871354006755</td>\n",
       "      <td>8.74067203461024</td>\n",
       "    </tr>\n",
       "    <tr>\n",
       "      <th>13</th>\n",
       "      <td>Zip code</td>\n",
       "      <td>60610</td>\n",
       "      <td>60610</td>\n",
       "      <td>43794</td>\n",
       "      <td>-87.63223100</td>\n",
       "      <td>41.90677200</td>\n",
       "      <td>42904.0</td>\n",
       "      <td>2069.0</td>\n",
       "      <td>69.11709863882155</td>\n",
       "      <td>2.446860582159244</td>\n",
       "      <td>...</td>\n",
       "      <td>0.0016542474896792882</td>\n",
       "      <td>NaN</td>\n",
       "      <td>1195.0</td>\n",
       "      <td>308.8818544362877</td>\n",
       "      <td>2.803321760345313</td>\n",
       "      <td>0.7116966342888099</td>\n",
       "      <td>7.958004839590976</td>\n",
       "      <td>2.0509433632077205</td>\n",
       "      <td>67.39064856711916</td>\n",
       "      <td>5.297302872414405</td>\n",
       "    </tr>\n",
       "    <tr>\n",
       "      <th>14</th>\n",
       "      <td>Zip code</td>\n",
       "      <td>60611</td>\n",
       "      <td>60611</td>\n",
       "      <td>38456</td>\n",
       "      <td>-87.61375200</td>\n",
       "      <td>41.89573200</td>\n",
       "      <td>35247.0</td>\n",
       "      <td>1882.0000000000002</td>\n",
       "      <td>63.45504581950237</td>\n",
       "      <td>2.241959505802212</td>\n",
       "      <td>...</td>\n",
       "      <td>0.0</td>\n",
       "      <td>NaN</td>\n",
       "      <td>639.0</td>\n",
       "      <td>279.63011282764234</td>\n",
       "      <td>1.81292024853179</td>\n",
       "      <td>0.7874167366161472</td>\n",
       "      <td>1.3056302593909952</td>\n",
       "      <td>0.6949677780171463</td>\n",
       "      <td>92.47454625940682</td>\n",
       "      <td>5.030828539525366</td>\n",
       "    </tr>\n",
       "    <tr>\n",
       "      <th>15</th>\n",
       "      <td>Zip code</td>\n",
       "      <td>60612</td>\n",
       "      <td>60612</td>\n",
       "      <td>34402</td>\n",
       "      <td>-87.68774200</td>\n",
       "      <td>41.88031200</td>\n",
       "      <td>34459.0</td>\n",
       "      <td>2264.0</td>\n",
       "      <td>22.441161960590847</td>\n",
       "      <td>1.157832338702417</td>\n",
       "      <td>...</td>\n",
       "      <td>34.92553328943966</td>\n",
       "      <td>NaN</td>\n",
       "      <td>2422.0</td>\n",
       "      <td>469.5689512733993</td>\n",
       "      <td>7.105556533474154</td>\n",
       "      <td>1.294158928483944</td>\n",
       "      <td>31.995790950543668</td>\n",
       "      <td>3.462479986693569</td>\n",
       "      <td>34.9492385786802</td>\n",
       "      <td>5.812432636729753</td>\n",
       "    </tr>\n",
       "    <tr>\n",
       "      <th>16</th>\n",
       "      <td>Zip code</td>\n",
       "      <td>60613</td>\n",
       "      <td>60613</td>\n",
       "      <td>53048</td>\n",
       "      <td>-87.65427200</td>\n",
       "      <td>41.95694900</td>\n",
       "      <td>51961.0</td>\n",
       "      <td>2032.0</td>\n",
       "      <td>69.73306903254364</td>\n",
       "      <td>1.511182468371434</td>\n",
       "      <td>...</td>\n",
       "      <td>4.04596271044206</td>\n",
       "      <td>NaN</td>\n",
       "      <td>2845.0</td>\n",
       "      <td>553.0226035163481</td>\n",
       "      <td>5.506202945673421</td>\n",
       "      <td>1.0481618196394935</td>\n",
       "      <td>7.011991419629355</td>\n",
       "      <td>1.2866497645447017</td>\n",
       "      <td>63.32749562171629</td>\n",
       "      <td>7.391932887631978</td>\n",
       "    </tr>\n",
       "    <tr>\n",
       "      <th>17</th>\n",
       "      <td>Zip code</td>\n",
       "      <td>60614</td>\n",
       "      <td>60614</td>\n",
       "      <td>73173</td>\n",
       "      <td>-87.64957700</td>\n",
       "      <td>41.92271400</td>\n",
       "      <td>71701.0</td>\n",
       "      <td>2051.0</td>\n",
       "      <td>79.34477901284501</td>\n",
       "      <td>1.3184113701281712</td>\n",
       "      <td>...</td>\n",
       "      <td>4.413791858571615</td>\n",
       "      <td>NaN</td>\n",
       "      <td>1520.0</td>\n",
       "      <td>286.311019697112</td>\n",
       "      <td>2.1352813092645926</td>\n",
       "      <td>0.3974691852468129</td>\n",
       "      <td>3.4577903017494425</td>\n",
       "      <td>0.67038543922488</td>\n",
       "      <td>79.8745724059293</td>\n",
       "      <td>8.686491621638623</td>\n",
       "    </tr>\n",
       "    <tr>\n",
       "      <th>18</th>\n",
       "      <td>Zip code</td>\n",
       "      <td>60615</td>\n",
       "      <td>60615</td>\n",
       "      <td>43502</td>\n",
       "      <td>-87.59628800</td>\n",
       "      <td>41.80164700</td>\n",
       "      <td>42780.0</td>\n",
       "      <td>1906.0</td>\n",
       "      <td>27.522206638616176</td>\n",
       "      <td>1.8766012160062062</td>\n",
       "      <td>...</td>\n",
       "      <td>14.897609661208083</td>\n",
       "      <td>NaN</td>\n",
       "      <td>2835.0</td>\n",
       "      <td>457.34341582666303</td>\n",
       "      <td>6.634372367312552</td>\n",
       "      <td>1.028492785125735</td>\n",
       "      <td>17.2032014228546</td>\n",
       "      <td>1.9109069413010875</td>\n",
       "      <td>64.29684456564082</td>\n",
       "      <td>5.959141207415701</td>\n",
       "    </tr>\n",
       "    <tr>\n",
       "      <th>19</th>\n",
       "      <td>Zip code</td>\n",
       "      <td>60616</td>\n",
       "      <td>60616</td>\n",
       "      <td>54013</td>\n",
       "      <td>-87.62403200</td>\n",
       "      <td>41.84488300</td>\n",
       "      <td>52707.0</td>\n",
       "      <td>2156.0</td>\n",
       "      <td>28.34158650653613</td>\n",
       "      <td>1.9616690175508376</td>\n",
       "      <td>...</td>\n",
       "      <td>19.542867470939328</td>\n",
       "      <td>NaN</td>\n",
       "      <td>3516.0</td>\n",
       "      <td>567.6345655437132</td>\n",
       "      <td>6.774566473988439</td>\n",
       "      <td>1.0569157983778714</td>\n",
       "      <td>16.917232460394438</td>\n",
       "      <td>2.450450775376805</td>\n",
       "      <td>49.82927384475301</td>\n",
       "      <td>4.836604678959122</td>\n",
       "    </tr>\n",
       "  </tbody>\n",
       "</table>\n",
       "<p>20 rows × 34 columns</p>\n",
       "</div>"
      ],
      "text/plain": [
       "               Layer   Name  GEOID Population     Longitude     Latitude  \\\n",
       "0   (Indicator name)    NaN    NaN        NaN           NaN          NaN   \n",
       "1       (Definition)    NaN    NaN        NaN           NaN          NaN   \n",
       "2         (Citation)    NaN    NaN        NaN           NaN          NaN   \n",
       "3                ---    ---    ---        ---           ---          ---   \n",
       "4           Zip code  60601  60601      15814  -87.62209200  41.88530300   \n",
       "5           Zip code  60602  60602       1261  -87.62914800  41.88307300   \n",
       "6           Zip code  60603  60603       1288  -87.62550900  41.88018800   \n",
       "7           Zip code  60604  60604        897  -87.62846100  41.87809500   \n",
       "8           Zip code  60605  60605      34071  -87.61722800  41.86756600   \n",
       "9           Zip code  60606  60606       3797  -87.63735300  41.88206000   \n",
       "10          Zip code  60607  60607      31816  -87.65160000  41.87493500   \n",
       "11          Zip code  60608  60608      75770  -87.67066400  41.84688000   \n",
       "12          Zip code  60609  60609      65770  -87.65693500  41.81268000   \n",
       "13          Zip code  60610  60610      43794  -87.63223100  41.90677200   \n",
       "14          Zip code  60611  60611      38456  -87.61375200  41.89573200   \n",
       "15          Zip code  60612  60612      34402  -87.68774200  41.88031200   \n",
       "16          Zip code  60613  60613      53048  -87.65427200  41.95694900   \n",
       "17          Zip code  60614  60614      73173  -87.64957700  41.92271400   \n",
       "18          Zip code  60615  60615      43502  -87.59628800  41.80164700   \n",
       "19          Zip code  60616  60616      54013  -87.62403200  41.84488300   \n",
       "\n",
       "                                        POP_2018-2022      POP_2018-2022_moe  \\\n",
       "0                   Population (residents), 2018-2022  (90% margin of error)   \n",
       "1            Average population over the time period.                    NaN   \n",
       "2   American Community Survey (ACS: Table B01001; ...                    NaN   \n",
       "3                                                 ---                    ---   \n",
       "4                                             16398.0                 1721.0   \n",
       "5                                               938.0     494.99999999999994   \n",
       "6                                              1110.0                  319.0   \n",
       "7                                               737.0                  197.0   \n",
       "8                                             34314.0                 2076.0   \n",
       "9                                              3513.0                  704.0   \n",
       "10                                            28797.0                 1684.0   \n",
       "11                                            82749.0                 3174.0   \n",
       "12                                            63241.0                 3238.0   \n",
       "13                                            42904.0                 2069.0   \n",
       "14                                            35247.0     1882.0000000000002   \n",
       "15                                            34459.0                 2264.0   \n",
       "16                                            51961.0                 2032.0   \n",
       "17                                            71701.0                 2051.0   \n",
       "18                                            42780.0                 1906.0   \n",
       "19                                            52707.0                 2156.0   \n",
       "\n",
       "                                      PCT-W_2018-2022    PCT-W_2018-2022_moe  \\\n",
       "0   Demographics, Non-Hispanic White (% of residen...  (90% margin of error)   \n",
       "1   Percent of residents within each demographic g...                    NaN   \n",
       "2            American Community Survey (Table B01001)                    NaN   \n",
       "3                                                 ---                    ---   \n",
       "4                                   52.76253201609953      6.546221422721316   \n",
       "5                                   27.50533049040512      6.453020537468193   \n",
       "6                                   51.08108108108108      7.699271088278311   \n",
       "7                                   70.28493894165535     16.027209280338663   \n",
       "8                                   54.67447688989917     3.9542152381186764   \n",
       "9                                    58.7247366922858      16.17838348215005   \n",
       "10                                  52.35267562593325      4.115087933155587   \n",
       "11                                  20.11021281223942     1.4512635826093772   \n",
       "12                                 13.707879382046457     1.1702939487029844   \n",
       "13                                  69.11709863882155      2.446860582159244   \n",
       "14                                  63.45504581950237      2.241959505802212   \n",
       "15                                 22.441161960590847      1.157832338702417   \n",
       "16                                  69.73306903254364      1.511182468371434   \n",
       "17                                  79.34477901284501     1.3184113701281712   \n",
       "18                                 27.522206638616176     1.8766012160062062   \n",
       "19                                  28.34158650653613     1.9616690175508376   \n",
       "\n",
       "    ...                                           LFA_2019  \\\n",
       "0   ...             Low food access (% of residents), 2019   \n",
       "1   ...  Percent of residents who have low access to fo...   \n",
       "2   ...  USDA, Economic Research Service, Food Access R...   \n",
       "3   ...                                                ---   \n",
       "4   ...                                                0.0   \n",
       "5   ...                                                0.0   \n",
       "6   ...                                                0.0   \n",
       "7   ...                                                0.0   \n",
       "8   ...                                  1.051911052328199   \n",
       "9   ...                                                0.0   \n",
       "10  ...                                 6.6736181636803416   \n",
       "11  ...                                  16.40502980746125   \n",
       "12  ...                                 30.615064181636633   \n",
       "13  ...                              0.0016542474896792882   \n",
       "14  ...                                                0.0   \n",
       "15  ...                                  34.92553328943966   \n",
       "16  ...                                   4.04596271044206   \n",
       "17  ...                                  4.413791858571615   \n",
       "18  ...                                 14.897609661208083   \n",
       "19  ...                                 19.542867470939328   \n",
       "\n",
       "             LFA_2019_moe                                     UNI_2018-2022  \\\n",
       "0   (90% margin of error)        Uninsured residents (residents), 2018-2022   \n",
       "1                     NaN     Number of residents without health insurance.   \n",
       "2                     NaN  American Community Survey (Tables B27001/C27001)   \n",
       "3                     ---                                               ---   \n",
       "4                     NaN                                             999.0   \n",
       "5                     NaN                                               0.0   \n",
       "6                     NaN                                              61.0   \n",
       "7                     NaN                                               7.0   \n",
       "8                     NaN                                            1458.0   \n",
       "9                     NaN                                             178.0   \n",
       "10                    NaN                                             971.0   \n",
       "11                    NaN                                            8222.0   \n",
       "12                    NaN                                            9432.0   \n",
       "13                    NaN                                            1195.0   \n",
       "14                    NaN                                             639.0   \n",
       "15                    NaN                                            2422.0   \n",
       "16                    NaN                                            2845.0   \n",
       "17                    NaN                                            1520.0   \n",
       "18                    NaN                                            2835.0   \n",
       "19                    NaN                                            3516.0   \n",
       "\n",
       "        UNI_2018-2022_moe                                      UNS_2018-2022  \\\n",
       "0   (90% margin of error)         Uninsured rate (% of residents), 2018-2022   \n",
       "1                     NaN  Percent of residents without health insurance ...   \n",
       "2                     NaN   American Community Survey (Tables B27001/C27001)   \n",
       "3                     ---                                                ---   \n",
       "4      425.90961482455407                                     6.097412109375   \n",
       "5       50.91168824543142                                                0.0   \n",
       "6        60.6217782649107                                  5.495495495495495   \n",
       "7       50.91168824543142                                  0.949796472184532   \n",
       "8      467.44197500866346                                  4.329749955455248   \n",
       "9      127.75758294520132                                  5.066894392257329   \n",
       "10      271.0055349988262                                  3.384336551531839   \n",
       "11      849.9635286293171                                  11.09312177878518   \n",
       "12      964.3821856504817                                 14.958369677265878   \n",
       "13      308.8818544362877                                  2.803321760345313   \n",
       "14     279.63011282764234                                   1.81292024853179   \n",
       "15      469.5689512733993                                  7.105556533474154   \n",
       "16      553.0226035163481                                  5.506202945673421   \n",
       "17       286.311019697112                                 2.1352813092645926   \n",
       "18     457.34341582666303                                  6.634372367312552   \n",
       "19      567.6345655437132                                  6.774566473988439   \n",
       "\n",
       "        UNS_2018-2022_moe                                      SNP_2018-2022  \\\n",
       "0   (90% margin of error)    Food stamps (SNAP) (% of households), 2018-2022   \n",
       "1                     NaN  Percent of households receiving Supplemental N...   \n",
       "2                     NaN  American Community Survey (Tables B22003, B220...   \n",
       "3                     ---                                                ---   \n",
       "4      2.5193146185450663                                                0.0   \n",
       "5       5.427685314011878                                 12.393162393162394   \n",
       "6       5.228080137827035                                                0.0   \n",
       "7       6.903296261268287                                                0.0   \n",
       "8      1.3622079977160255                                 5.0751979592921295   \n",
       "9      3.4920793377518957                                                0.0   \n",
       "10        0.9235191592458                                   3.92607985750334   \n",
       "11     1.0444972397781278                                 19.012413603383653   \n",
       "12     1.3225408493430626                                   29.7218473860619   \n",
       "13     0.7116966342888099                                  7.958004839590976   \n",
       "14     0.7874167366161472                                 1.3056302593909952   \n",
       "15      1.294158928483944                                 31.995790950543668   \n",
       "16     1.0481618196394935                                  7.011991419629355   \n",
       "17     0.3974691852468129                                 3.4577903017494425   \n",
       "18      1.028492785125735                                   17.2032014228546   \n",
       "19     1.0569157983778714                                 16.917232460394438   \n",
       "\n",
       "        SNP_2018-2022_moe                                      SNQ_2018-2022  \\\n",
       "0   (90% margin of error)  Households in poverty not receiving food stamp...   \n",
       "1                     NaN  Percent of households with income in the past ...   \n",
       "2                     NaN           American Community Survey (Table B22003)   \n",
       "3                     ---                                                ---   \n",
       "4      0.2053610030263727                                              100.0   \n",
       "5        23.3575704080216                                              100.0   \n",
       "6      1.7804154302670623                                              100.0   \n",
       "7      2.6548672566371683                                              100.0   \n",
       "8        2.45016701084529                                  95.35423925667828   \n",
       "9     0.45011252813203295                                              100.0   \n",
       "10     1.2338246661705563                                               80.0   \n",
       "11      2.197111468175151                                   53.0937308556259   \n",
       "12      2.412874509205996                                  46.66871354006755   \n",
       "13     2.0509433632077205                                  67.39064856711916   \n",
       "14     0.6949677780171463                                  92.47454625940682   \n",
       "15      3.462479986693569                                   34.9492385786802   \n",
       "16     1.2866497645447017                                  63.32749562171629   \n",
       "17       0.67038543922488                                   79.8745724059293   \n",
       "18     1.9109069413010875                                  64.29684456564082   \n",
       "19      2.450450775376805                                  49.82927384475301   \n",
       "\n",
       "        SNQ_2018-2022_moe  \n",
       "0   (90% margin of error)  \n",
       "1                     NaN  \n",
       "2                     NaN  \n",
       "3                     ---  \n",
       "4       91.70326784584364  \n",
       "5                   164.5  \n",
       "6      111.69136081760759  \n",
       "7       90.16385114111408  \n",
       "8        9.12370808082051  \n",
       "9       76.88872456796318  \n",
       "10      7.557523796751898  \n",
       "11       5.34083417214652  \n",
       "12       8.74067203461024  \n",
       "13      5.297302872414405  \n",
       "14      5.030828539525366  \n",
       "15      5.812432636729753  \n",
       "16      7.391932887631978  \n",
       "17      8.686491621638623  \n",
       "18      5.959141207415701  \n",
       "19      4.836604678959122  \n",
       "\n",
       "[20 rows x 34 columns]"
      ]
     },
     "execution_count": 11,
     "metadata": {},
     "output_type": "execute_result"
    }
   ],
   "source": [
    "chamup_df = pd.read_csv('CHAMUPGeozipcodes.csv')\n",
    "chamup_df.head(20)"
   ]
  },
  {
   "cell_type": "code",
   "execution_count": null,
   "metadata": {
    "cell_id": "4378b8b1bcdb435fa444bca6196964aa",
    "deepnote_cell_type": "code",
    "deepnote_to_be_reexecuted": false,
    "execution_millis": 101,
    "execution_start": 1723989497334,
    "source_hash": null
   },
   "outputs": [
    {
     "data": {
      "application/vnd.deepnote.dataframe.v3+json": {
       "column_count": 34,
       "columns": [
        {
         "dtype": "object",
         "name": "Layer",
         "stats": {
          "categories": [
           {
            "count": 58,
            "name": "Zip code"
           },
           {
            "count": 1,
            "name": "(Indicator name)"
           },
           {
            "count": 3,
            "name": "3 others"
           }
          ],
          "nan_count": 0,
          "unique_count": 5
         }
        },
        {
         "dtype": "object",
         "name": "Name",
         "stats": {
          "categories": [
           {
            "count": 1,
            "name": "---"
           },
           {
            "count": 58,
            "name": "58 others"
           },
           {
            "count": 3,
            "name": "Missing"
           }
          ],
          "nan_count": 3,
          "unique_count": 59
         }
        },
        {
         "dtype": "object",
         "name": "GEOID",
         "stats": {
          "categories": [
           {
            "count": 1,
            "name": "---"
           },
           {
            "count": 58,
            "name": "58 others"
           },
           {
            "count": 3,
            "name": "Missing"
           }
          ],
          "nan_count": 3,
          "unique_count": 59
         }
        },
        {
         "dtype": "object",
         "name": "Population",
         "stats": {
          "categories": [
           {
            "count": 1,
            "name": "---"
           },
           {
            "count": 58,
            "name": "58 others"
           },
           {
            "count": 3,
            "name": "Missing"
           }
          ],
          "nan_count": 3,
          "unique_count": 59
         }
        },
        {
         "dtype": "object",
         "name": "Longitude",
         "stats": {
          "categories": [
           {
            "count": 1,
            "name": "---"
           },
           {
            "count": 58,
            "name": "58 others"
           },
           {
            "count": 3,
            "name": "Missing"
           }
          ],
          "nan_count": 3,
          "unique_count": 59
         }
        },
        {
         "dtype": "object",
         "name": "Latitude",
         "stats": {
          "categories": [
           {
            "count": 1,
            "name": "---"
           },
           {
            "count": 58,
            "name": "58 others"
           },
           {
            "count": 3,
            "name": "Missing"
           }
          ],
          "nan_count": 3,
          "unique_count": 59
         }
        },
        {
         "dtype": "object",
         "name": "POP_2018-2022",
         "stats": {
          "categories": [
           {
            "count": 1,
            "name": "Population (residents), 2018-2022"
           },
           {
            "count": 1,
            "name": "Average population over the time period."
           },
           {
            "count": 60,
            "name": "60 others"
           }
          ],
          "nan_count": 0,
          "unique_count": 62
         }
        },
        {
         "dtype": "object",
         "name": "POP_2018-2022_moe",
         "stats": {
          "categories": [
           {
            "count": 1,
            "name": "(90% margin of error)"
           },
           {
            "count": 59,
            "name": "59 others"
           },
           {
            "count": 2,
            "name": "Missing"
           }
          ],
          "nan_count": 2,
          "unique_count": 60
         }
        },
        {
         "dtype": "object",
         "name": "PCT-W_2018-2022",
         "stats": {
          "categories": [
           {
            "count": 1,
            "name": "Demographics, Non-Hispanic White (% of residents), 2018-2022"
           },
           {
            "count": 1,
            "name": "Percent of residents within each demographic group. Use this topic to explore age, gender, and racial/ethnic breakdowns."
           },
           {
            "count": 60,
            "name": "60 others"
           }
          ],
          "nan_count": 0,
          "unique_count": 62
         }
        },
        {
         "dtype": "object",
         "name": "PCT-W_2018-2022_moe",
         "stats": {
          "categories": [
           {
            "count": 1,
            "name": "(90% margin of error)"
           },
           {
            "count": 59,
            "name": "59 others"
           },
           {
            "count": 2,
            "name": "Missing"
           }
          ],
          "nan_count": 2,
          "unique_count": 60
         }
        },
        {
         "dtype": "object",
         "name": "HDAL_2022",
         "stats": {
          "categories": [
           {
            "count": 3,
            "name": "89.0"
           },
           {
            "count": 55,
            "name": "46 others"
           },
           {
            "count": 4,
            "name": "Missing"
           }
          ],
          "nan_count": 4,
          "unique_count": 47
         }
        },
        {
         "dtype": "object",
         "name": "HDAL_2022_moe",
         "stats": {
          "categories": [
           {
            "count": 1,
            "name": "(90% margin of error)"
           },
           {
            "count": 1,
            "name": "---"
           },
           {
            "count": 60,
            "name": "Missing"
           }
          ],
          "nan_count": 60,
          "unique_count": 2
         }
        },
        {
         "dtype": "object",
         "name": "HDALR_2022",
         "stats": {
          "categories": [
           {
            "count": 3,
            "name": "13.7"
           },
           {
            "count": 55,
            "name": "48 others"
           },
           {
            "count": 4,
            "name": "Missing"
           }
          ],
          "nan_count": 4,
          "unique_count": 49
         }
        },
        {
         "dtype": "object",
         "name": "HDALR_2022_moe",
         "stats": {
          "categories": [
           {
            "count": 3,
            "name": "3.5250000000705"
           },
           {
            "count": 53,
            "name": "43 others"
           },
           {
            "count": 6,
            "name": "Missing"
           }
          ],
          "nan_count": 6,
          "unique_count": 44
         }
        },
        {
         "dtype": "object",
         "name": "EDB_2018-2022",
         "stats": {
          "categories": [
           {
            "count": 2,
            "name": "100.0"
           },
           {
            "count": 1,
            "name": "High school graduation rate (% of residents), 2018-2022"
           },
           {
            "count": 59,
            "name": "59 others"
           }
          ],
          "nan_count": 0,
          "unique_count": 61
         }
        },
        {
         "dtype": "object",
         "name": "EDB_2018-2022_moe",
         "stats": {
          "categories": [
           {
            "count": 1,
            "name": "(90% margin of error)"
           },
           {
            "count": 59,
            "name": "59 others"
           },
           {
            "count": 2,
            "name": "Missing"
           }
          ],
          "nan_count": 2,
          "unique_count": 60
         }
        },
        {
         "dtype": "object",
         "name": "UMP_2018-2022",
         "stats": {
          "categories": [
           {
            "count": 1,
            "name": "Unemployment rate (%), 2018-2022"
           },
           {
            "count": 1,
            "name": "Percent of residents 16 and older in the civilian labor force who are actively seeking employment."
           },
           {
            "count": 60,
            "name": "60 others"
           }
          ],
          "nan_count": 0,
          "unique_count": 62
         }
        },
        {
         "dtype": "object",
         "name": "UMP_2018-2022_moe",
         "stats": {
          "categories": [
           {
            "count": 1,
            "name": "(90% margin of error)"
           },
           {
            "count": 59,
            "name": "59 others"
           },
           {
            "count": 2,
            "name": "Missing"
           }
          ],
          "nan_count": 2,
          "unique_count": 60
         }
        },
        {
         "dtype": "object",
         "name": "HDDIA_2022",
         "stats": {
          "categories": [
           {
            "count": 2,
            "name": "38.0"
           },
           {
            "count": 54,
            "name": "51 others"
           },
           {
            "count": 6,
            "name": "Missing"
           }
          ],
          "nan_count": 6,
          "unique_count": 52
         }
        },
        {
         "dtype": "object",
         "name": "HDDIA_2022_moe",
         "stats": {
          "categories": [
           {
            "count": 1,
            "name": "(90% margin of error)"
           },
           {
            "count": 1,
            "name": "---"
           },
           {
            "count": 60,
            "name": "Missing"
           }
          ],
          "nan_count": 60,
          "unique_count": 2
         }
        },
        {
         "dtype": "object",
         "name": "HDDIAR_2022",
         "stats": {
          "categories": [
           {
            "count": 2,
            "name": "17.1"
           },
           {
            "count": 54,
            "name": "54 others"
           },
           {
            "count": 6,
            "name": "Missing"
           }
          ],
          "nan_count": 6,
          "unique_count": 55
         }
        },
        {
         "dtype": "object",
         "name": "HDDIAR_2022_moe",
         "stats": {
          "categories": [
           {
            "count": 4,
            "name": "2.8116071429075"
           },
           {
            "count": 50,
            "name": "38 others"
           },
           {
            "count": 8,
            "name": "Missing"
           }
          ],
          "nan_count": 8,
          "unique_count": 39
         }
        },
        {
         "dtype": "object",
         "name": "FAI_2022",
         "stats": {
          "categories": [
           {
            "count": 3,
            "name": "10.9"
           },
           {
            "count": 2,
            "name": "11.3"
           },
           {
            "count": 57,
            "name": "51 others"
           }
          ],
          "nan_count": 0,
          "unique_count": 53
         }
        },
        {
         "dtype": "object",
         "name": "FAI_2022_moe",
         "stats": {
          "categories": [
           {
            "count": 1,
            "name": "(90% margin of error)"
           },
           {
            "count": 1,
            "name": "---"
           },
           {
            "count": 60,
            "name": "Missing"
           }
          ],
          "nan_count": 60,
          "unique_count": 2
         }
        },
        {
         "dtype": "object",
         "name": "LFA_2019",
         "stats": {
          "categories": [
           {
            "count": 9,
            "name": "0.0"
           },
           {
            "count": 1,
            "name": "Low food access (% of residents), 2019"
           },
           {
            "count": 52,
            "name": "52 others"
           }
          ],
          "nan_count": 0,
          "unique_count": 54
         }
        },
        {
         "dtype": "object",
         "name": "LFA_2019_moe",
         "stats": {
          "categories": [
           {
            "count": 1,
            "name": "(90% margin of error)"
           },
           {
            "count": 1,
            "name": "---"
           },
           {
            "count": 60,
            "name": "Missing"
           }
          ],
          "nan_count": 60,
          "unique_count": 2
         }
        },
        {
         "dtype": "object",
         "name": "UNI_2018-2022",
         "stats": {
          "categories": [
           {
            "count": 1,
            "name": "Uninsured residents (residents), 2018-2022"
           },
           {
            "count": 1,
            "name": "Number of residents without health insurance."
           },
           {
            "count": 60,
            "name": "60 others"
           }
          ],
          "nan_count": 0,
          "unique_count": 62
         }
        },
        {
         "dtype": "object",
         "name": "UNI_2018-2022_moe",
         "stats": {
          "categories": [
           {
            "count": 2,
            "name": "50.91168824543142"
           },
           {
            "count": 58,
            "name": "58 others"
           },
           {
            "count": 2,
            "name": "Missing"
           }
          ],
          "nan_count": 2,
          "unique_count": 59
         }
        },
        {
         "dtype": "object",
         "name": "UNS_2018-2022",
         "stats": {
          "categories": [
           {
            "count": 1,
            "name": "Uninsured rate (% of residents), 2018-2022"
           },
           {
            "count": 1,
            "name": "Percent of residents without health insurance (at the time of the survey)."
           },
           {
            "count": 60,
            "name": "60 others"
           }
          ],
          "nan_count": 0,
          "unique_count": 62
         }
        },
        {
         "dtype": "object",
         "name": "UNS_2018-2022_moe",
         "stats": {
          "categories": [
           {
            "count": 1,
            "name": "(90% margin of error)"
           },
           {
            "count": 59,
            "name": "59 others"
           },
           {
            "count": 2,
            "name": "Missing"
           }
          ],
          "nan_count": 2,
          "unique_count": 60
         }
        },
        {
         "dtype": "object",
         "name": "SNP_2018-2022",
         "stats": {
          "categories": [
           {
            "count": 4,
            "name": "0.0"
           },
           {
            "count": 1,
            "name": "Food stamps (SNAP) (% of households), 2018-2022"
           },
           {
            "count": 57,
            "name": "57 others"
           }
          ],
          "nan_count": 0,
          "unique_count": 59
         }
        },
        {
         "dtype": "object",
         "name": "SNP_2018-2022_moe",
         "stats": {
          "categories": [
           {
            "count": 1,
            "name": "(90% margin of error)"
           },
           {
            "count": 59,
            "name": "59 others"
           },
           {
            "count": 2,
            "name": "Missing"
           }
          ],
          "nan_count": 2,
          "unique_count": 60
         }
        },
        {
         "dtype": "object",
         "name": "SNQ_2018-2022",
         "stats": {
          "categories": [
           {
            "count": 5,
            "name": "100.0"
           },
           {
            "count": 1,
            "name": "Households in poverty not receiving food stamps (SNAP) (% of households below the poverty line), 2018-2022"
           },
           {
            "count": 56,
            "name": "56 others"
           }
          ],
          "nan_count": 0,
          "unique_count": 58
         }
        },
        {
         "dtype": "object",
         "name": "SNQ_2018-2022_moe",
         "stats": {
          "categories": [
           {
            "count": 1,
            "name": "(90% margin of error)"
           },
           {
            "count": 59,
            "name": "59 others"
           },
           {
            "count": 2,
            "name": "Missing"
           }
          ],
          "nan_count": 2,
          "unique_count": 60
         }
        },
        {
         "dtype": "int64",
         "name": "_deepnote_index_column"
        }
       ],
       "row_count": 62,
       "rows": [
        {
         "EDB_2018-2022": "High school graduation rate (% of residents), 2018-2022",
         "EDB_2018-2022_moe": "(90% margin of error)",
         "FAI_2022": "Food insecurity (% of residents), 2022",
         "FAI_2022_moe": "(90% margin of error)",
         "GEOID": "nan",
         "HDALR_2022": "Alcohol-related hospitalization rate (per 10,000 population), 2022",
         "HDALR_2022_moe": "(90% margin of error)",
         "HDAL_2022": "Alcohol-related hospitalizations (count of hospitalizations), 2022",
         "HDAL_2022_moe": "(90% margin of error)",
         "HDDIAR_2022": "Diabetes-related hospitalization rate (per 10,000 population), 2022",
         "HDDIAR_2022_moe": "(90% margin of error)",
         "HDDIA_2022": "Diabetes-related hospitalizations (count of hospitalizations), 2022",
         "HDDIA_2022_moe": "(90% margin of error)",
         "LFA_2019": "Low food access (% of residents), 2019",
         "LFA_2019_moe": "(90% margin of error)",
         "Latitude": "nan",
         "Layer": "(Indicator name)",
         "Longitude": "nan",
         "Name": "nan",
         "PCT-W_2018-2022": "Demographics, Non-Hispanic White (% of residents), 2018-2022",
         "PCT-W_2018-2022_moe": "(90% margin of error)",
         "POP_2018-2022": "Population (residents), 2018-2022",
         "POP_2018-2022_moe": "(90% margin of error)",
         "Population": "nan",
         "SNP_2018-2022": "Food stamps (SNAP) (% of households), 2018-2022",
         "SNP_2018-2022_moe": "(90% margin of error)",
         "SNQ_2018-2022": "Households in poverty not receiving food stamps (SNAP) (% of households below the poverty line), 2018-2022",
         "SNQ_2018-2022_moe": "(90% margin of error)",
         "UMP_2018-2022": "Unemployment rate (%), 2018-2022",
         "UMP_2018-2022_moe": "(90% margin of error)",
         "UNI_2018-2022": "Uninsured residents (residents), 2018-2022",
         "UNI_2018-2022_moe": "(90% margin of error)",
         "UNS_2018-2022": "Uninsured rate (% of residents), 2018-2022",
         "UNS_2018-2022_moe": "(90% margin of error)",
         "_deepnote_index_column": 0
        },
        {
         "EDB_2018-2022": "Residents 25 or older with at least a high school degree: including GED and any higher education",
         "EDB_2018-2022_moe": "nan",
         "FAI_2022": "Percentage of the population experiencing food insecurity at some point. Food insecurity is the household-level economic and social condition of limited or uncertain access to adequate food, as represented in USDA food-security reports. 2020 data is a projection based on 11.5% national unemployment and 16.5% national poverty rate.",
         "FAI_2022_moe": "nan",
         "GEOID": "nan",
         "HDALR_2022": "Age-adjusted rate of alcohol-related hospitalization discharges, excluding discharges to Veterans Administration hospitals.",
         "HDALR_2022_moe": "nan",
         "HDAL_2022": "Number of inpatient hospitalization discharges due to alcohol-relateddisease, injury or conditions.",
         "HDAL_2022_moe": "nan",
         "HDDIAR_2022": "Age-adjusted rate of diabetes-related hospitalization discharges, excluding discharges to Veterans Administration hospitals.",
         "HDDIAR_2022_moe": "nan",
         "HDDIA_2022": "Number of inpatient hospitalization discharges, excluding discharges to Veterans Administration hospitals, due to diabetes mellitus with or without related complications.",
         "HDDIA_2022_moe": "nan",
         "LFA_2019": "Percent of residents who have low access to food, defined solely by distance: further than 1/2 mile from the nearest supermarket in an urban area, or further than 10 miles in a rural area.",
         "LFA_2019_moe": "nan",
         "Latitude": "nan",
         "Layer": "(Definition)",
         "Longitude": "nan",
         "Name": "nan",
         "PCT-W_2018-2022": "Percent of residents within each demographic group. Use this topic to explore age, gender, and racial/ethnic breakdowns.",
         "PCT-W_2018-2022_moe": "nan",
         "POP_2018-2022": "Average population over the time period.",
         "POP_2018-2022_moe": "nan",
         "Population": "nan",
         "SNP_2018-2022": "Percent of households receiving Supplemental Nutrition Assistance Program (SNAP) benefits, formerly known as food stamps, over the past 12 months.",
         "SNP_2018-2022_moe": "nan",
         "SNQ_2018-2022": "Percent of households with income in the past 12 months below the poverty level who did not receive food stamps/SNAP in the past 12 months.",
         "SNQ_2018-2022_moe": "nan",
         "UMP_2018-2022": "Percent of residents 16 and older in the civilian labor force who are actively seeking employment.",
         "UMP_2018-2022_moe": "nan",
         "UNI_2018-2022": "Number of residents without health insurance.",
         "UNI_2018-2022_moe": "nan",
         "UNS_2018-2022": "Percent of residents without health insurance (at the time of the survey).",
         "UNS_2018-2022_moe": "nan",
         "_deepnote_index_column": 1
        },
        {
         "EDB_2018-2022": "American Community Survey (Table B15002)",
         "EDB_2018-2022_moe": "nan",
         "FAI_2022": "Map the Meal Gap (Map the Meal Gap 2020)",
         "FAI_2022_moe": "nan",
         "GEOID": "nan",
         "HDALR_2022": "Illinois Department of Public Health, Hospital Discharge Data",
         "HDALR_2022_moe": "nan",
         "HDAL_2022": "Illinois Department of Public Health, Hospital Discharge Data",
         "HDAL_2022_moe": "nan",
         "HDDIAR_2022": "Illinois Department of Public Health, Hospital Discharge Data",
         "HDDIAR_2022_moe": "nan",
         "HDDIA_2022": "Illinois Department of Public Health, Hospital Discharge Data",
         "HDDIA_2022_moe": "nan",
         "LFA_2019": "USDA, Economic Research Service, Food Access Research Atlas (Food Access Research Atlas)",
         "LFA_2019_moe": "nan",
         "Latitude": "nan",
         "Layer": "(Citation)",
         "Longitude": "nan",
         "Name": "nan",
         "PCT-W_2018-2022": "American Community Survey (Table B01001)",
         "PCT-W_2018-2022_moe": "nan",
         "POP_2018-2022": "American Community Survey (ACS: Table B01001; Decennial Census: Table P012)",
         "POP_2018-2022_moe": "nan",
         "Population": "nan",
         "SNP_2018-2022": "American Community Survey (Tables B22003, B22005, and S2201)",
         "SNP_2018-2022_moe": "nan",
         "SNQ_2018-2022": "American Community Survey (Table B22003)",
         "SNQ_2018-2022_moe": "nan",
         "UMP_2018-2022": "American Community Survey (Tables B23025, B23001, and C23002)",
         "UMP_2018-2022_moe": "nan",
         "UNI_2018-2022": "American Community Survey (Tables B27001/C27001)",
         "UNI_2018-2022_moe": "nan",
         "UNS_2018-2022": "American Community Survey (Tables B27001/C27001)",
         "UNS_2018-2022_moe": "nan",
         "_deepnote_index_column": 2
        },
        {
         "EDB_2018-2022": "---",
         "EDB_2018-2022_moe": "---",
         "FAI_2022": "---",
         "FAI_2022_moe": "---",
         "GEOID": "---",
         "HDALR_2022": "---",
         "HDALR_2022_moe": "---",
         "HDAL_2022": "---",
         "HDAL_2022_moe": "---",
         "HDDIAR_2022": "---",
         "HDDIAR_2022_moe": "---",
         "HDDIA_2022": "---",
         "HDDIA_2022_moe": "---",
         "LFA_2019": "---",
         "LFA_2019_moe": "---",
         "Latitude": "---",
         "Layer": "---",
         "Longitude": "---",
         "Name": "---",
         "PCT-W_2018-2022": "---",
         "PCT-W_2018-2022_moe": "---",
         "POP_2018-2022": "---",
         "POP_2018-2022_moe": "---",
         "Population": "---",
         "SNP_2018-2022": "---",
         "SNP_2018-2022_moe": "---",
         "SNQ_2018-2022": "---",
         "SNQ_2018-2022_moe": "---",
         "UMP_2018-2022": "---",
         "UMP_2018-2022_moe": "---",
         "UNI_2018-2022": "---",
         "UNI_2018-2022_moe": "---",
         "UNS_2018-2022": "---",
         "UNS_2018-2022_moe": "---",
         "_deepnote_index_column": 3
        },
        {
         "EDB_2018-2022": "97.31182795698923",
         "EDB_2018-2022_moe": "3.684767519332293",
         "FAI_2022": "10.4",
         "FAI_2022_moe": "nan",
         "GEOID": "60601",
         "HDALR_2022": "13.0",
         "HDALR_2022_moe": "4.825892857163",
         "HDAL_2022": "23.0",
         "HDAL_2022_moe": "nan",
         "HDDIAR_2022": "nan",
         "HDDIAR_2022_moe": "nan",
         "HDDIA_2022": "nan",
         "HDDIA_2022_moe": "nan",
         "LFA_2019": "0.0",
         "LFA_2019_moe": "nan",
         "Latitude": "41.88530300",
         "Layer": "Zip code",
         "Longitude": "-87.62209200",
         "Name": "60601",
         "PCT-W_2018-2022": "52.76253201609953",
         "PCT-W_2018-2022_moe": "6.546221422721316",
         "POP_2018-2022": "16398.0",
         "POP_2018-2022_moe": "1721.0",
         "Population": "15814",
         "SNP_2018-2022": "0.0",
         "SNP_2018-2022_moe": "0.2053610030263727",
         "SNQ_2018-2022": "100.0",
         "SNQ_2018-2022_moe": "91.70326784584364",
         "UMP_2018-2022": "2.762923351158645",
         "UMP_2018-2022_moe": "2.256038196880616",
         "UNI_2018-2022": "999.0",
         "UNI_2018-2022_moe": "425.90961482455407",
         "UNS_2018-2022": "6.097412109375",
         "UNS_2018-2022_moe": "2.5193146185450663",
         "_deepnote_index_column": 4
        },
        {
         "EDB_2018-2022": "100.0",
         "EDB_2018-2022_moe": "67.3664809728275",
         "FAI_2022": "11.3",
         "FAI_2022_moe": "nan",
         "GEOID": "60602",
         "HDALR_2022": "nan",
         "HDALR_2022_moe": "nan",
         "HDAL_2022": "nan",
         "HDAL_2022_moe": "nan",
         "HDDIAR_2022": "nan",
         "HDDIAR_2022_moe": "nan",
         "HDDIA_2022": "nan",
         "HDDIA_2022_moe": "nan",
         "LFA_2019": "0.0",
         "LFA_2019_moe": "nan",
         "Latitude": "41.88307300",
         "Layer": "Zip code",
         "Longitude": "-87.62914800",
         "Name": "60602",
         "PCT-W_2018-2022": "27.50533049040512",
         "PCT-W_2018-2022_moe": "6.453020537468193",
         "POP_2018-2022": "938.0",
         "POP_2018-2022_moe": "494.99999999999994",
         "Population": "1261",
         "SNP_2018-2022": "12.393162393162394",
         "SNP_2018-2022_moe": "23.3575704080216",
         "SNQ_2018-2022": "100.0",
         "SNQ_2018-2022_moe": "164.5",
         "UMP_2018-2022": "7.584269662921349",
         "UMP_2018-2022_moe": "16.735611057547178",
         "UNI_2018-2022": "0.0",
         "UNI_2018-2022_moe": "50.91168824543142",
         "UNS_2018-2022": "0.0",
         "UNS_2018-2022_moe": "5.427685314011878",
         "_deepnote_index_column": 5
        },
        {
         "EDB_2018-2022": "100.0",
         "EDB_2018-2022_moe": "46.17507569917459",
         "FAI_2022": "9.8",
         "FAI_2022_moe": "nan",
         "GEOID": "60603",
         "HDALR_2022": "nan",
         "HDALR_2022_moe": "nan",
         "HDAL_2022": "nan",
         "HDAL_2022_moe": "nan",
         "HDDIAR_2022": "nan",
         "HDDIAR_2022_moe": "nan",
         "HDDIA_2022": "nan",
         "HDDIA_2022_moe": "nan",
         "LFA_2019": "0.0",
         "LFA_2019_moe": "nan",
         "Latitude": "41.88018800",
         "Layer": "Zip code",
         "Longitude": "-87.62550900",
         "Name": "60603",
         "PCT-W_2018-2022": "51.08108108108108",
         "PCT-W_2018-2022_moe": "7.699271088278311",
         "POP_2018-2022": "1110.0",
         "POP_2018-2022_moe": "319.0",
         "Population": "1288",
         "SNP_2018-2022": "0.0",
         "SNP_2018-2022_moe": "1.7804154302670623",
         "SNQ_2018-2022": "100.0",
         "SNQ_2018-2022_moe": "111.69136081760759",
         "UMP_2018-2022": "4.144385026737968",
         "UMP_2018-2022_moe": "9.039896805558014",
         "UNI_2018-2022": "61.0",
         "UNI_2018-2022_moe": "60.6217782649107",
         "UNS_2018-2022": "5.495495495495495",
         "UNS_2018-2022_moe": "5.228080137827035",
         "_deepnote_index_column": 6
        },
        {
         "EDB_2018-2022": "98.04878048780488",
         "EDB_2018-2022_moe": "39.03105285150932",
         "FAI_2022": "13.0",
         "FAI_2022_moe": "nan",
         "GEOID": "60604",
         "HDALR_2022": "nan",
         "HDALR_2022_moe": "nan",
         "HDAL_2022": "nan",
         "HDAL_2022_moe": "nan",
         "HDDIAR_2022": "nan",
         "HDDIAR_2022_moe": "nan",
         "HDDIA_2022": "nan",
         "HDDIA_2022_moe": "nan",
         "LFA_2019": "0.0",
         "LFA_2019_moe": "nan",
         "Latitude": "41.87809500",
         "Layer": "Zip code",
         "Longitude": "-87.62846100",
         "Name": "60604",
         "PCT-W_2018-2022": "70.28493894165535",
         "PCT-W_2018-2022_moe": "16.027209280338663",
         "POP_2018-2022": "737.0",
         "POP_2018-2022_moe": "197.0",
         "Population": "897",
         "SNP_2018-2022": "0.0",
         "SNP_2018-2022_moe": "2.6548672566371683",
         "SNQ_2018-2022": "100.0",
         "SNQ_2018-2022_moe": "90.16385114111408",
         "UMP_2018-2022": "8.19672131147541",
         "UMP_2018-2022_moe": "13.905611473659327",
         "UNI_2018-2022": "7.0",
         "UNI_2018-2022_moe": "50.91168824543142",
         "UNS_2018-2022": "0.949796472184532",
         "UNS_2018-2022_moe": "6.903296261268287",
         "_deepnote_index_column": 7
        },
        {
         "EDB_2018-2022": "96.17894458903852",
         "EDB_2018-2022_moe": "4.076583111412739",
         "FAI_2022": "11.4",
         "FAI_2022_moe": "nan",
         "GEOID": "60605",
         "HDALR_2022": "11.7",
         "HDALR_2022_moe": "3.3991071428370003",
         "HDAL_2022": "34.0",
         "HDAL_2022_moe": "nan",
         "HDDIAR_2022": "6.5",
         "HDDIAR_2022_moe": "2.5178571428605",
         "HDDIA_2022": "19.0",
         "HDDIA_2022_moe": "nan",
         "LFA_2019": "1.051911052328199",
         "LFA_2019_moe": "nan",
         "Latitude": "41.86756600",
         "Layer": "Zip code",
         "Longitude": "-87.61722800",
         "Name": "60605",
         "PCT-W_2018-2022": "54.67447688989917",
         "PCT-W_2018-2022_moe": "3.9542152381186764",
         "POP_2018-2022": "34314.0",
         "POP_2018-2022_moe": "2076.0",
         "Population": "34071",
         "SNP_2018-2022": "5.0751979592921295",
         "SNP_2018-2022_moe": "2.45016701084529",
         "SNQ_2018-2022": "95.35423925667828",
         "SNQ_2018-2022_moe": "9.12370808082051",
         "UMP_2018-2022": "6.633927802188334",
         "UMP_2018-2022_moe": "2.057979946584935",
         "UNI_2018-2022": "1458.0",
         "UNI_2018-2022_moe": "467.44197500866346",
         "UNS_2018-2022": "4.329749955455248",
         "UNS_2018-2022_moe": "1.3622079977160255",
         "_deepnote_index_column": 8
        },
        {
         "EDB_2018-2022": "99.32614555256065",
         "EDB_2018-2022_moe": "3.9313969952108163",
         "FAI_2022": "10.9",
         "FAI_2022_moe": "nan",
         "GEOID": "60606",
         "HDALR_2022": "nan",
         "HDALR_2022_moe": "nan",
         "HDAL_2022": "nan",
         "HDAL_2022_moe": "nan",
         "HDDIAR_2022": "nan",
         "HDDIAR_2022_moe": "nan",
         "HDDIA_2022": "nan",
         "HDDIA_2022_moe": "nan",
         "LFA_2019": "0.0",
         "LFA_2019_moe": "nan",
         "Latitude": "41.88206000",
         "Layer": "Zip code",
         "Longitude": "-87.63735300",
         "Name": "60606",
         "PCT-W_2018-2022": "58.7247366922858",
         "PCT-W_2018-2022_moe": "16.17838348215005",
         "POP_2018-2022": "3513.0",
         "POP_2018-2022_moe": "704.0",
         "Population": "3797",
         "SNP_2018-2022": "0.0",
         "SNP_2018-2022_moe": "0.45011252813203295",
         "SNQ_2018-2022": "100.0",
         "SNQ_2018-2022_moe": "76.88872456796318",
         "UMP_2018-2022": "3.704866562009419",
         "UMP_2018-2022_moe": "2.695777226281432",
         "UNI_2018-2022": "178.0",
         "UNI_2018-2022_moe": "127.75758294520132",
         "UNS_2018-2022": "5.066894392257329",
         "UNS_2018-2022_moe": "3.4920793377518957",
         "_deepnote_index_column": 9
        }
       ]
      },
      "text/html": [
       "<div>\n",
       "<style scoped>\n",
       "    .dataframe tbody tr th:only-of-type {\n",
       "        vertical-align: middle;\n",
       "    }\n",
       "\n",
       "    .dataframe tbody tr th {\n",
       "        vertical-align: top;\n",
       "    }\n",
       "\n",
       "    .dataframe thead th {\n",
       "        text-align: right;\n",
       "    }\n",
       "</style>\n",
       "<table border=\"1\" class=\"dataframe\">\n",
       "  <thead>\n",
       "    <tr style=\"text-align: right;\">\n",
       "      <th></th>\n",
       "      <th>Layer</th>\n",
       "      <th>Name</th>\n",
       "      <th>GEOID</th>\n",
       "      <th>Population</th>\n",
       "      <th>Longitude</th>\n",
       "      <th>Latitude</th>\n",
       "      <th>POP_2018-2022</th>\n",
       "      <th>POP_2018-2022_moe</th>\n",
       "      <th>PCT-W_2018-2022</th>\n",
       "      <th>PCT-W_2018-2022_moe</th>\n",
       "      <th>...</th>\n",
       "      <th>LFA_2019</th>\n",
       "      <th>LFA_2019_moe</th>\n",
       "      <th>UNI_2018-2022</th>\n",
       "      <th>UNI_2018-2022_moe</th>\n",
       "      <th>UNS_2018-2022</th>\n",
       "      <th>UNS_2018-2022_moe</th>\n",
       "      <th>SNP_2018-2022</th>\n",
       "      <th>SNP_2018-2022_moe</th>\n",
       "      <th>SNQ_2018-2022</th>\n",
       "      <th>SNQ_2018-2022_moe</th>\n",
       "    </tr>\n",
       "  </thead>\n",
       "  <tbody>\n",
       "    <tr>\n",
       "      <th>0</th>\n",
       "      <td>(Indicator name)</td>\n",
       "      <td>NaN</td>\n",
       "      <td>NaN</td>\n",
       "      <td>NaN</td>\n",
       "      <td>NaN</td>\n",
       "      <td>NaN</td>\n",
       "      <td>Population (residents), 2018-2022</td>\n",
       "      <td>(90% margin of error)</td>\n",
       "      <td>Demographics, Non-Hispanic White (% of residen...</td>\n",
       "      <td>(90% margin of error)</td>\n",
       "      <td>...</td>\n",
       "      <td>Low food access (% of residents), 2019</td>\n",
       "      <td>(90% margin of error)</td>\n",
       "      <td>Uninsured residents (residents), 2018-2022</td>\n",
       "      <td>(90% margin of error)</td>\n",
       "      <td>Uninsured rate (% of residents), 2018-2022</td>\n",
       "      <td>(90% margin of error)</td>\n",
       "      <td>Food stamps (SNAP) (% of households), 2018-2022</td>\n",
       "      <td>(90% margin of error)</td>\n",
       "      <td>Households in poverty not receiving food stamp...</td>\n",
       "      <td>(90% margin of error)</td>\n",
       "    </tr>\n",
       "    <tr>\n",
       "      <th>1</th>\n",
       "      <td>(Definition)</td>\n",
       "      <td>NaN</td>\n",
       "      <td>NaN</td>\n",
       "      <td>NaN</td>\n",
       "      <td>NaN</td>\n",
       "      <td>NaN</td>\n",
       "      <td>Average population over the time period.</td>\n",
       "      <td>NaN</td>\n",
       "      <td>Percent of residents within each demographic g...</td>\n",
       "      <td>NaN</td>\n",
       "      <td>...</td>\n",
       "      <td>Percent of residents who have low access to fo...</td>\n",
       "      <td>NaN</td>\n",
       "      <td>Number of residents without health insurance.</td>\n",
       "      <td>NaN</td>\n",
       "      <td>Percent of residents without health insurance ...</td>\n",
       "      <td>NaN</td>\n",
       "      <td>Percent of households receiving Supplemental N...</td>\n",
       "      <td>NaN</td>\n",
       "      <td>Percent of households with income in the past ...</td>\n",
       "      <td>NaN</td>\n",
       "    </tr>\n",
       "    <tr>\n",
       "      <th>2</th>\n",
       "      <td>(Citation)</td>\n",
       "      <td>NaN</td>\n",
       "      <td>NaN</td>\n",
       "      <td>NaN</td>\n",
       "      <td>NaN</td>\n",
       "      <td>NaN</td>\n",
       "      <td>American Community Survey (ACS: Table B01001; ...</td>\n",
       "      <td>NaN</td>\n",
       "      <td>American Community Survey (Table B01001)</td>\n",
       "      <td>NaN</td>\n",
       "      <td>...</td>\n",
       "      <td>USDA, Economic Research Service, Food Access R...</td>\n",
       "      <td>NaN</td>\n",
       "      <td>American Community Survey (Tables B27001/C27001)</td>\n",
       "      <td>NaN</td>\n",
       "      <td>American Community Survey (Tables B27001/C27001)</td>\n",
       "      <td>NaN</td>\n",
       "      <td>American Community Survey (Tables B22003, B220...</td>\n",
       "      <td>NaN</td>\n",
       "      <td>American Community Survey (Table B22003)</td>\n",
       "      <td>NaN</td>\n",
       "    </tr>\n",
       "    <tr>\n",
       "      <th>3</th>\n",
       "      <td>---</td>\n",
       "      <td>---</td>\n",
       "      <td>---</td>\n",
       "      <td>---</td>\n",
       "      <td>---</td>\n",
       "      <td>---</td>\n",
       "      <td>---</td>\n",
       "      <td>---</td>\n",
       "      <td>---</td>\n",
       "      <td>---</td>\n",
       "      <td>...</td>\n",
       "      <td>---</td>\n",
       "      <td>---</td>\n",
       "      <td>---</td>\n",
       "      <td>---</td>\n",
       "      <td>---</td>\n",
       "      <td>---</td>\n",
       "      <td>---</td>\n",
       "      <td>---</td>\n",
       "      <td>---</td>\n",
       "      <td>---</td>\n",
       "    </tr>\n",
       "    <tr>\n",
       "      <th>4</th>\n",
       "      <td>Zip code</td>\n",
       "      <td>60601</td>\n",
       "      <td>60601</td>\n",
       "      <td>15814</td>\n",
       "      <td>-87.62209200</td>\n",
       "      <td>41.88530300</td>\n",
       "      <td>16398.0</td>\n",
       "      <td>1721.0</td>\n",
       "      <td>52.76253201609953</td>\n",
       "      <td>6.546221422721316</td>\n",
       "      <td>...</td>\n",
       "      <td>0.0</td>\n",
       "      <td>NaN</td>\n",
       "      <td>999.0</td>\n",
       "      <td>425.90961482455407</td>\n",
       "      <td>6.097412109375</td>\n",
       "      <td>2.5193146185450663</td>\n",
       "      <td>0.0</td>\n",
       "      <td>0.2053610030263727</td>\n",
       "      <td>100.0</td>\n",
       "      <td>91.70326784584364</td>\n",
       "    </tr>\n",
       "    <tr>\n",
       "      <th>...</th>\n",
       "      <td>...</td>\n",
       "      <td>...</td>\n",
       "      <td>...</td>\n",
       "      <td>...</td>\n",
       "      <td>...</td>\n",
       "      <td>...</td>\n",
       "      <td>...</td>\n",
       "      <td>...</td>\n",
       "      <td>...</td>\n",
       "      <td>...</td>\n",
       "      <td>...</td>\n",
       "      <td>...</td>\n",
       "      <td>...</td>\n",
       "      <td>...</td>\n",
       "      <td>...</td>\n",
       "      <td>...</td>\n",
       "      <td>...</td>\n",
       "      <td>...</td>\n",
       "      <td>...</td>\n",
       "      <td>...</td>\n",
       "      <td>...</td>\n",
       "    </tr>\n",
       "    <tr>\n",
       "      <th>57</th>\n",
       "      <td>Zip code</td>\n",
       "      <td>60659</td>\n",
       "      <td>60659</td>\n",
       "      <td>40579</td>\n",
       "      <td>-87.70398600</td>\n",
       "      <td>41.99148800</td>\n",
       "      <td>42621.0</td>\n",
       "      <td>2874.0</td>\n",
       "      <td>36.28962248656765</td>\n",
       "      <td>2.574932303611675</td>\n",
       "      <td>...</td>\n",
       "      <td>22.610705644891866</td>\n",
       "      <td>NaN</td>\n",
       "      <td>5960.0</td>\n",
       "      <td>887.5511252880028</td>\n",
       "      <td>14.055940757511436</td>\n",
       "      <td>1.8639711883239136</td>\n",
       "      <td>22.464670132532767</td>\n",
       "      <td>3.4294761459302627</td>\n",
       "      <td>39.80365908076752</td>\n",
       "      <td>9.180700035024618</td>\n",
       "    </tr>\n",
       "    <tr>\n",
       "      <th>58</th>\n",
       "      <td>Zip code</td>\n",
       "      <td>60660</td>\n",
       "      <td>60660</td>\n",
       "      <td>42534</td>\n",
       "      <td>-87.66307600</td>\n",
       "      <td>41.99111000</td>\n",
       "      <td>42895.0</td>\n",
       "      <td>1873.9999999999998</td>\n",
       "      <td>48.43221820725026</td>\n",
       "      <td>1.2261423407052925</td>\n",
       "      <td>...</td>\n",
       "      <td>0.0</td>\n",
       "      <td>NaN</td>\n",
       "      <td>4173.0</td>\n",
       "      <td>828.4147511965248</td>\n",
       "      <td>9.87178274034822</td>\n",
       "      <td>1.9105015505170662</td>\n",
       "      <td>13.065422340729455</td>\n",
       "      <td>1.6841451725938184</td>\n",
       "      <td>65.04602991944765</td>\n",
       "      <td>7.701356454576164</td>\n",
       "    </tr>\n",
       "    <tr>\n",
       "      <th>59</th>\n",
       "      <td>Zip code</td>\n",
       "      <td>60661</td>\n",
       "      <td>60661</td>\n",
       "      <td>11987</td>\n",
       "      <td>-87.64409900</td>\n",
       "      <td>41.88303000</td>\n",
       "      <td>11513.0</td>\n",
       "      <td>964.0</td>\n",
       "      <td>57.14409797620081</td>\n",
       "      <td>5.275835768859286</td>\n",
       "      <td>...</td>\n",
       "      <td>0.0</td>\n",
       "      <td>NaN</td>\n",
       "      <td>193.0</td>\n",
       "      <td>160.60510577189007</td>\n",
       "      <td>1.6763658473030487</td>\n",
       "      <td>1.3879094533484708</td>\n",
       "      <td>1.092065247442632</td>\n",
       "      <td>1.0616735512884428</td>\n",
       "      <td>92.63657957244656</td>\n",
       "      <td>19.86682930661196</td>\n",
       "    </tr>\n",
       "    <tr>\n",
       "      <th>60</th>\n",
       "      <td>Zip code</td>\n",
       "      <td>60707</td>\n",
       "      <td>60707</td>\n",
       "      <td>43241</td>\n",
       "      <td>-87.80728200</td>\n",
       "      <td>41.92185300</td>\n",
       "      <td>40845.0</td>\n",
       "      <td>1381.0</td>\n",
       "      <td>48.5910148120945</td>\n",
       "      <td>3.0722078993226267</td>\n",
       "      <td>...</td>\n",
       "      <td>21.85607325117006</td>\n",
       "      <td>NaN</td>\n",
       "      <td>3442.0</td>\n",
       "      <td>530.5638510113556</td>\n",
       "      <td>8.46469763667216</td>\n",
       "      <td>1.2727662457059332</td>\n",
       "      <td>14.270311409906766</td>\n",
       "      <td>2.4207866397037514</td>\n",
       "      <td>65.29169121979965</td>\n",
       "      <td>9.709132375210586</td>\n",
       "    </tr>\n",
       "    <tr>\n",
       "      <th>61</th>\n",
       "      <td>Zip code</td>\n",
       "      <td>60827</td>\n",
       "      <td>60827</td>\n",
       "      <td>24936</td>\n",
       "      <td>-87.63357200</td>\n",
       "      <td>41.64943400</td>\n",
       "      <td>25538.0</td>\n",
       "      <td>1080.0</td>\n",
       "      <td>1.1708042916438248</td>\n",
       "      <td>1.028646935458862</td>\n",
       "      <td>...</td>\n",
       "      <td>74.56330568756154</td>\n",
       "      <td>NaN</td>\n",
       "      <td>2070.0</td>\n",
       "      <td>395.6349327347119</td>\n",
       "      <td>8.107790529160628</td>\n",
       "      <td>1.511194916953002</td>\n",
       "      <td>40.62265967690168</td>\n",
       "      <td>3.070760370958625</td>\n",
       "      <td>29.21615201900237</td>\n",
       "      <td>7.615071657722277</td>\n",
       "    </tr>\n",
       "  </tbody>\n",
       "</table>\n",
       "<p>62 rows × 34 columns</p>\n",
       "</div>"
      ],
      "text/plain": [
       "               Layer   Name  GEOID Population     Longitude     Latitude  \\\n",
       "0   (Indicator name)    NaN    NaN        NaN           NaN          NaN   \n",
       "1       (Definition)    NaN    NaN        NaN           NaN          NaN   \n",
       "2         (Citation)    NaN    NaN        NaN           NaN          NaN   \n",
       "3                ---    ---    ---        ---           ---          ---   \n",
       "4           Zip code  60601  60601      15814  -87.62209200  41.88530300   \n",
       "..               ...    ...    ...        ...           ...          ...   \n",
       "57          Zip code  60659  60659      40579  -87.70398600  41.99148800   \n",
       "58          Zip code  60660  60660      42534  -87.66307600  41.99111000   \n",
       "59          Zip code  60661  60661      11987  -87.64409900  41.88303000   \n",
       "60          Zip code  60707  60707      43241  -87.80728200  41.92185300   \n",
       "61          Zip code  60827  60827      24936  -87.63357200  41.64943400   \n",
       "\n",
       "                                        POP_2018-2022      POP_2018-2022_moe  \\\n",
       "0                   Population (residents), 2018-2022  (90% margin of error)   \n",
       "1            Average population over the time period.                    NaN   \n",
       "2   American Community Survey (ACS: Table B01001; ...                    NaN   \n",
       "3                                                 ---                    ---   \n",
       "4                                             16398.0                 1721.0   \n",
       "..                                                ...                    ...   \n",
       "57                                            42621.0                 2874.0   \n",
       "58                                            42895.0     1873.9999999999998   \n",
       "59                                            11513.0                  964.0   \n",
       "60                                            40845.0                 1381.0   \n",
       "61                                            25538.0                 1080.0   \n",
       "\n",
       "                                      PCT-W_2018-2022    PCT-W_2018-2022_moe  \\\n",
       "0   Demographics, Non-Hispanic White (% of residen...  (90% margin of error)   \n",
       "1   Percent of residents within each demographic g...                    NaN   \n",
       "2            American Community Survey (Table B01001)                    NaN   \n",
       "3                                                 ---                    ---   \n",
       "4                                   52.76253201609953      6.546221422721316   \n",
       "..                                                ...                    ...   \n",
       "57                                  36.28962248656765      2.574932303611675   \n",
       "58                                  48.43221820725026     1.2261423407052925   \n",
       "59                                  57.14409797620081      5.275835768859286   \n",
       "60                                   48.5910148120945     3.0722078993226267   \n",
       "61                                 1.1708042916438248      1.028646935458862   \n",
       "\n",
       "    ...                                           LFA_2019  \\\n",
       "0   ...             Low food access (% of residents), 2019   \n",
       "1   ...  Percent of residents who have low access to fo...   \n",
       "2   ...  USDA, Economic Research Service, Food Access R...   \n",
       "3   ...                                                ---   \n",
       "4   ...                                                0.0   \n",
       "..  ...                                                ...   \n",
       "57  ...                                 22.610705644891866   \n",
       "58  ...                                                0.0   \n",
       "59  ...                                                0.0   \n",
       "60  ...                                  21.85607325117006   \n",
       "61  ...                                  74.56330568756154   \n",
       "\n",
       "             LFA_2019_moe                                     UNI_2018-2022  \\\n",
       "0   (90% margin of error)        Uninsured residents (residents), 2018-2022   \n",
       "1                     NaN     Number of residents without health insurance.   \n",
       "2                     NaN  American Community Survey (Tables B27001/C27001)   \n",
       "3                     ---                                               ---   \n",
       "4                     NaN                                             999.0   \n",
       "..                    ...                                               ...   \n",
       "57                    NaN                                            5960.0   \n",
       "58                    NaN                                            4173.0   \n",
       "59                    NaN                                             193.0   \n",
       "60                    NaN                                            3442.0   \n",
       "61                    NaN                                            2070.0   \n",
       "\n",
       "        UNI_2018-2022_moe                                      UNS_2018-2022  \\\n",
       "0   (90% margin of error)         Uninsured rate (% of residents), 2018-2022   \n",
       "1                     NaN  Percent of residents without health insurance ...   \n",
       "2                     NaN   American Community Survey (Tables B27001/C27001)   \n",
       "3                     ---                                                ---   \n",
       "4      425.90961482455407                                     6.097412109375   \n",
       "..                    ...                                                ...   \n",
       "57      887.5511252880028                                 14.055940757511436   \n",
       "58      828.4147511965248                                   9.87178274034822   \n",
       "59     160.60510577189007                                 1.6763658473030487   \n",
       "60      530.5638510113556                                   8.46469763667216   \n",
       "61      395.6349327347119                                  8.107790529160628   \n",
       "\n",
       "        UNS_2018-2022_moe                                      SNP_2018-2022  \\\n",
       "0   (90% margin of error)    Food stamps (SNAP) (% of households), 2018-2022   \n",
       "1                     NaN  Percent of households receiving Supplemental N...   \n",
       "2                     NaN  American Community Survey (Tables B22003, B220...   \n",
       "3                     ---                                                ---   \n",
       "4      2.5193146185450663                                                0.0   \n",
       "..                    ...                                                ...   \n",
       "57     1.8639711883239136                                 22.464670132532767   \n",
       "58     1.9105015505170662                                 13.065422340729455   \n",
       "59     1.3879094533484708                                  1.092065247442632   \n",
       "60     1.2727662457059332                                 14.270311409906766   \n",
       "61      1.511194916953002                                  40.62265967690168   \n",
       "\n",
       "        SNP_2018-2022_moe                                      SNQ_2018-2022  \\\n",
       "0   (90% margin of error)  Households in poverty not receiving food stamp...   \n",
       "1                     NaN  Percent of households with income in the past ...   \n",
       "2                     NaN           American Community Survey (Table B22003)   \n",
       "3                     ---                                                ---   \n",
       "4      0.2053610030263727                                              100.0   \n",
       "..                    ...                                                ...   \n",
       "57     3.4294761459302627                                  39.80365908076752   \n",
       "58     1.6841451725938184                                  65.04602991944765   \n",
       "59     1.0616735512884428                                  92.63657957244656   \n",
       "60     2.4207866397037514                                  65.29169121979965   \n",
       "61      3.070760370958625                                  29.21615201900237   \n",
       "\n",
       "        SNQ_2018-2022_moe  \n",
       "0   (90% margin of error)  \n",
       "1                     NaN  \n",
       "2                     NaN  \n",
       "3                     ---  \n",
       "4       91.70326784584364  \n",
       "..                    ...  \n",
       "57      9.180700035024618  \n",
       "58      7.701356454576164  \n",
       "59      19.86682930661196  \n",
       "60      9.709132375210586  \n",
       "61      7.615071657722277  \n",
       "\n",
       "[62 rows x 34 columns]"
      ]
     },
     "execution_count": 5,
     "metadata": {},
     "output_type": "execute_result"
    }
   ],
   "source": [
    "chamup_df"
   ]
  },
  {
   "cell_type": "code",
   "execution_count": null,
   "metadata": {
    "cell_id": "f652bd02d00649359a1cd2e8e29ca918",
    "deepnote_cell_type": "code",
    "deepnote_to_be_reexecuted": false,
    "execution_millis": 131,
    "execution_start": 1723989090024,
    "source_hash": null
   },
   "outputs": [
    {
     "name": "stdout",
     "output_type": "stream",
     "text": [
      "<class 'pandas.core.frame.DataFrame'>\n",
      "RangeIndex: 62 entries, 0 to 61\n",
      "Data columns (total 34 columns):\n",
      " #   Column               Non-Null Count  Dtype \n",
      "---  ------               --------------  ----- \n",
      " 0   Layer                62 non-null     object\n",
      " 1   Name                 59 non-null     object\n",
      " 2   GEOID                59 non-null     object\n",
      " 3   Population           59 non-null     object\n",
      " 4   Longitude            59 non-null     object\n",
      " 5   Latitude             59 non-null     object\n",
      " 6   POP_2018-2022        62 non-null     object\n",
      " 7   POP_2018-2022_moe    60 non-null     object\n",
      " 8   PCT-W_2018-2022      62 non-null     object\n",
      " 9   PCT-W_2018-2022_moe  60 non-null     object\n",
      " 10  HDAL_2022            58 non-null     object\n",
      " 11  HDAL_2022_moe        2 non-null      object\n",
      " 12  HDALR_2022           58 non-null     object\n",
      " 13  HDALR_2022_moe       56 non-null     object\n",
      " 14  EDB_2018-2022        62 non-null     object\n",
      " 15  EDB_2018-2022_moe    60 non-null     object\n",
      " 16  UMP_2018-2022        62 non-null     object\n",
      " 17  UMP_2018-2022_moe    60 non-null     object\n",
      " 18  HDDIA_2022           56 non-null     object\n",
      " 19  HDDIA_2022_moe       2 non-null      object\n",
      " 20  HDDIAR_2022          56 non-null     object\n",
      " 21  HDDIAR_2022_moe      54 non-null     object\n",
      " 22  FAI_2022             62 non-null     object\n",
      " 23  FAI_2022_moe         2 non-null      object\n",
      " 24  LFA_2019             62 non-null     object\n",
      " 25  LFA_2019_moe         2 non-null      object\n",
      " 26  UNI_2018-2022        62 non-null     object\n",
      " 27  UNI_2018-2022_moe    60 non-null     object\n",
      " 28  UNS_2018-2022        62 non-null     object\n",
      " 29  UNS_2018-2022_moe    60 non-null     object\n",
      " 30  SNP_2018-2022        62 non-null     object\n",
      " 31  SNP_2018-2022_moe    60 non-null     object\n",
      " 32  SNQ_2018-2022        62 non-null     object\n",
      " 33  SNQ_2018-2022_moe    60 non-null     object\n",
      "dtypes: object(34)\n",
      "memory usage: 16.6+ KB\n"
     ]
    }
   ],
   "source": [
    "chamup_df.info()"
   ]
  },
  {
   "cell_type": "code",
   "execution_count": null,
   "metadata": {
    "cell_id": "c051f681f7454485ba2241380c036d16",
    "deepnote_cell_type": "code",
    "deepnote_to_be_reexecuted": false,
    "execution_millis": 24,
    "execution_start": 1723993012456,
    "source_hash": null
   },
   "outputs": [],
   "source": [
    "chamup_df.rename(columns={'Layer': 'layer'}, inplace=True)"
   ]
  },
  {
   "cell_type": "code",
   "execution_count": null,
   "metadata": {
    "cell_id": "52877821089a4dc08b356d09b2ceacb8",
    "deepnote_cell_type": "code",
    "deepnote_to_be_reexecuted": false,
    "execution_millis": 151,
    "execution_start": 1723993103224,
    "source_hash": null
   },
   "outputs": [],
   "source": [
    "chamup_df.drop(['Name'], axis=1, inplace=True)"
   ]
  },
  {
   "cell_type": "code",
   "execution_count": null,
   "metadata": {
    "cell_id": "df2d3a41179e4dbba03a07dab4301640",
    "deepnote_cell_type": "code",
    "deepnote_to_be_reexecuted": false,
    "execution_millis": 7,
    "execution_start": 1723993126053,
    "source_hash": null
   },
   "outputs": [
    {
     "name": "stdout",
     "output_type": "stream",
     "text": [
      "<class 'pandas.core.frame.DataFrame'>\n",
      "RangeIndex: 62 entries, 0 to 61\n",
      "Data columns (total 32 columns):\n",
      " #   Column               Non-Null Count  Dtype \n",
      "---  ------               --------------  ----- \n",
      " 0   GEOID                59 non-null     object\n",
      " 1   Population           59 non-null     object\n",
      " 2   Longitude            59 non-null     object\n",
      " 3   Latitude             59 non-null     object\n",
      " 4   POP_2018-2022        62 non-null     object\n",
      " 5   POP_2018-2022_moe    60 non-null     object\n",
      " 6   PCT-W_2018-2022      62 non-null     object\n",
      " 7   PCT-W_2018-2022_moe  60 non-null     object\n",
      " 8   HDAL_2022            58 non-null     object\n",
      " 9   HDAL_2022_moe        2 non-null      object\n",
      " 10  HDALR_2022           58 non-null     object\n",
      " 11  HDALR_2022_moe       56 non-null     object\n",
      " 12  EDB_2018-2022        62 non-null     object\n",
      " 13  EDB_2018-2022_moe    60 non-null     object\n",
      " 14  UMP_2018-2022        62 non-null     object\n",
      " 15  UMP_2018-2022_moe    60 non-null     object\n",
      " 16  HDDIA_2022           56 non-null     object\n",
      " 17  HDDIA_2022_moe       2 non-null      object\n",
      " 18  HDDIAR_2022          56 non-null     object\n",
      " 19  HDDIAR_2022_moe      54 non-null     object\n",
      " 20  FAI_2022             62 non-null     object\n",
      " 21  FAI_2022_moe         2 non-null      object\n",
      " 22  LFA_2019             62 non-null     object\n",
      " 23  LFA_2019_moe         2 non-null      object\n",
      " 24  UNI_2018-2022        62 non-null     object\n",
      " 25  UNI_2018-2022_moe    60 non-null     object\n",
      " 26  UNS_2018-2022        62 non-null     object\n",
      " 27  UNS_2018-2022_moe    60 non-null     object\n",
      " 28  SNP_2018-2022        62 non-null     object\n",
      " 29  SNP_2018-2022_moe    60 non-null     object\n",
      " 30  SNQ_2018-2022        62 non-null     object\n",
      " 31  SNQ_2018-2022_moe    60 non-null     object\n",
      "dtypes: object(32)\n",
      "memory usage: 15.6+ KB\n"
     ]
    }
   ],
   "source": [
    "chamup_df.info()"
   ]
  },
  {
   "cell_type": "markdown",
   "metadata": {
    "cell_id": "a4792fed38a64cbe9e6bcc69729c18ab",
    "deepnote_cell_type": "text-cell-h2",
    "formattedRanges": []
   },
   "source": [
    "## Upon arrival 2 PIRDDIIQ"
   ]
  },
  {
   "cell_type": "code",
   "execution_count": null,
   "metadata": {
    "cell_id": "14469a4cc3ec443ca432bfd103898c7e",
    "deepnote_cell_type": "sql",
    "deepnote_sql_source": "SELECT *\nFROM 'SmokingBaseline.csv'",
    "deepnote_to_be_reexecuted": false,
    "deepnote_variable_name": "df_2",
    "execution_millis": 559,
    "execution_start": 1724011706451,
    "source_hash": null,
    "sql_integration_id": "deepnote-dataframe-sql"
   },
   "outputs": [
    {
     "data": {
      "application/vnd.deepnote.dataframe.v3+json": {
       "column_count": 20,
       "columns": [
        {
         "dtype": "int64",
         "name": "Age",
         "stats": {
          "histogram": [
           {
            "bin_end": 26.5,
            "bin_start": 20,
            "count": 3592
           },
           {
            "bin_end": 33,
            "bin_start": 26.5,
            "count": 2868
           },
           {
            "bin_end": 39.5,
            "bin_start": 33,
            "count": 3148
           },
           {
            "bin_end": 46,
            "bin_start": 39.5,
            "count": 15613
           },
           {
            "bin_end": 52.5,
            "bin_start": 46,
            "count": 3901
           },
           {
            "bin_end": 59,
            "bin_start": 52.5,
            "count": 3451
           },
           {
            "bin_end": 65.5,
            "bin_start": 59,
            "count": 5190
           },
           {
            "bin_end": 72,
            "bin_start": 65.5,
            "count": 586
           },
           {
            "bin_end": 78.5,
            "bin_start": 72,
            "count": 424
           },
           {
            "bin_end": 85,
            "bin_start": 78.5,
            "count": 211
           }
          ],
          "max": "85",
          "min": "20",
          "nan_count": 0,
          "unique_count": 14
         }
        },
        {
         "dtype": "int64",
         "name": "height(cm)",
         "stats": {
          "histogram": [
           {
            "bin_end": 136,
            "bin_start": 130,
            "count": 5
           },
           {
            "bin_end": 142,
            "bin_start": 136,
            "count": 147
           },
           {
            "bin_end": 148,
            "bin_start": 142,
            "count": 843
           },
           {
            "bin_end": 154,
            "bin_start": 148,
            "count": 3132
           },
           {
            "bin_end": 160,
            "bin_start": 154,
            "count": 5292
           },
           {
            "bin_end": 166,
            "bin_start": 160,
            "count": 13240
           },
           {
            "bin_end": 172,
            "bin_start": 166,
            "count": 7985
           },
           {
            "bin_end": 178,
            "bin_start": 172,
            "count": 5617
           },
           {
            "bin_end": 184,
            "bin_start": 178,
            "count": 2203
           },
           {
            "bin_end": 190,
            "bin_start": 184,
            "count": 520
           }
          ],
          "max": "190",
          "min": "130",
          "nan_count": 0,
          "unique_count": 13
         }
        },
        {
         "dtype": "int64",
         "name": "weight(kg)"
        },
        {
         "dtype": "float64",
         "name": "waist(cm)"
        },
        {
         "dtype": "float64",
         "name": "eyesight(left)"
        },
        {
         "dtype": "float64",
         "name": "eyesight(right)"
        },
        {
         "dtype": "int64",
         "name": "systolic"
        },
        {
         "dtype": "int64",
         "name": "fasting blood sugar"
        },
        {
         "dtype": "int64",
         "name": "triglyceride"
        },
        {
         "dtype": "int64",
         "name": "HDL"
        },
        {
         "dtype": "int64",
         "name": "LDL"
        },
        {
         "dtype": "int64",
         "name": "Cholesterol"
        },
        {
         "dtype": "float64",
         "name": "serum creatinine"
        },
        {
         "dtype": "float64",
         "name": "hemoglobin"
        },
        {
         "dtype": "int64",
         "name": "relaxation"
        },
        {
         "dtype": "int64",
         "name": "Urine protein"
        },
        {
         "dtype": "int64",
         "name": "hearing(left)"
        },
        {
         "dtype": "int64",
         "name": "hearing(right)"
        },
        {
         "dtype": "int64",
         "name": "dental caries"
        },
        {
         "dtype": "int64",
         "name": "smoking"
        },
        {
         "dtype": "int64",
         "name": "_deepnote_index_column"
        }
       ],
       "row_count": 38984,
       "rows": [
        {
         "Age": 35,
         "Cholesterol": 239,
         "HDL": 70,
         "LDL": 142,
         "Urine protein": 1,
         "_deepnote_index_column": 0,
         "dental caries": 1,
         "eyesight(left)": 0.9,
         "eyesight(right)": 0.9,
         "fasting blood sugar": 97,
         "hearing(left)": 1,
         "hearing(right)": 1,
         "height(cm)": 170,
         "hemoglobin": 19.8,
         "relaxation": 78,
         "serum creatinine": 1,
         "smoking": 1,
         "systolic": 118,
         "triglyceride": 153,
         "waist(cm)": 97,
         "weight(kg)": 85
        },
        {
         "Age": 20,
         "Cholesterol": 211,
         "HDL": 71,
         "LDL": 114,
         "Urine protein": 1,
         "_deepnote_index_column": 1,
         "dental caries": 1,
         "eyesight(left)": 0.7,
         "eyesight(right)": 0.9,
         "fasting blood sugar": 88,
         "hearing(left)": 1,
         "hearing(right)": 1,
         "height(cm)": 175,
         "hemoglobin": 15.9,
         "relaxation": 79,
         "serum creatinine": 1.1,
         "smoking": 0,
         "systolic": 119,
         "triglyceride": 128,
         "waist(cm)": 110,
         "weight(kg)": 110
        },
        {
         "Age": 45,
         "Cholesterol": 193,
         "HDL": 57,
         "LDL": 112,
         "Urine protein": 3,
         "_deepnote_index_column": 2,
         "dental caries": 0,
         "eyesight(left)": 0.9,
         "eyesight(right)": 0.9,
         "fasting blood sugar": 80,
         "hearing(left)": 1,
         "hearing(right)": 1,
         "height(cm)": 155,
         "hemoglobin": 13.7,
         "relaxation": 80,
         "serum creatinine": 0.6,
         "smoking": 0,
         "systolic": 110,
         "triglyceride": 120,
         "waist(cm)": 86,
         "weight(kg)": 65
        },
        {
         "Age": 45,
         "Cholesterol": 210,
         "HDL": 46,
         "LDL": 91,
         "Urine protein": 1,
         "_deepnote_index_column": 3,
         "dental caries": 0,
         "eyesight(left)": 0.8,
         "eyesight(right)": 0.7,
         "fasting blood sugar": 249,
         "hearing(left)": 1,
         "hearing(right)": 1,
         "height(cm)": 165,
         "hemoglobin": 16.9,
         "relaxation": 88,
         "serum creatinine": 0.9,
         "smoking": 0,
         "systolic": 158,
         "triglyceride": 366,
         "waist(cm)": 94,
         "weight(kg)": 80
        },
        {
         "Age": 20,
         "Cholesterol": 179,
         "HDL": 47,
         "LDL": 92,
         "Urine protein": 1,
         "_deepnote_index_column": 4,
         "dental caries": 0,
         "eyesight(left)": 1.5,
         "eyesight(right)": 0.1,
         "fasting blood sugar": 100,
         "hearing(left)": 1,
         "hearing(right)": 1,
         "height(cm)": 165,
         "hemoglobin": 14.9,
         "relaxation": 64,
         "serum creatinine": 1.2,
         "smoking": 0,
         "systolic": 109,
         "triglyceride": 200,
         "waist(cm)": 81,
         "weight(kg)": 60
        },
        {
         "Age": 60,
         "Cholesterol": 177,
         "HDL": 98,
         "LDL": 64,
         "Urine protein": 1,
         "_deepnote_index_column": 5,
         "dental caries": 0,
         "eyesight(left)": 1,
         "eyesight(right)": 0.9,
         "fasting blood sugar": 114,
         "hearing(left)": 2,
         "hearing(right)": 2,
         "height(cm)": 160,
         "hemoglobin": 13.9,
         "relaxation": 75,
         "serum creatinine": 1,
         "smoking": 1,
         "systolic": 126,
         "triglyceride": 74,
         "waist(cm)": 78,
         "weight(kg)": 50
        },
        {
         "Age": 40,
         "Cholesterol": 207,
         "HDL": 39,
         "LDL": 102,
         "Urine protein": 1,
         "_deepnote_index_column": 6,
         "dental caries": 0,
         "eyesight(left)": 0.9,
         "eyesight(right)": 1,
         "fasting blood sugar": 90,
         "hearing(left)": 1,
         "hearing(right)": 1,
         "height(cm)": 175,
         "hemoglobin": 16.5,
         "relaxation": 88,
         "serum creatinine": 1,
         "smoking": 0,
         "systolic": 130,
         "triglyceride": 331,
         "waist(cm)": 95,
         "weight(kg)": 90
        },
        {
         "Age": 40,
         "Cholesterol": 170,
         "HDL": 58,
         "LDL": 99,
         "Urine protein": 2,
         "_deepnote_index_column": 7,
         "dental caries": 1,
         "eyesight(left)": 1.5,
         "eyesight(right)": 1.5,
         "fasting blood sugar": 100,
         "hearing(left)": 1,
         "hearing(right)": 1,
         "height(cm)": 180,
         "hemoglobin": 14,
         "relaxation": 60,
         "serum creatinine": 1.4,
         "smoking": 1,
         "systolic": 110,
         "triglyceride": 62,
         "waist(cm)": 85,
         "weight(kg)": 75
        },
        {
         "Age": 40,
         "Cholesterol": 178,
         "HDL": 60,
         "LDL": 104,
         "Urine protein": 2,
         "_deepnote_index_column": 8,
         "dental caries": 0,
         "eyesight(left)": 1.2,
         "eyesight(right)": 1.5,
         "fasting blood sugar": 83,
         "hearing(left)": 1,
         "hearing(right)": 1,
         "height(cm)": 170,
         "hemoglobin": 12.9,
         "relaxation": 57,
         "serum creatinine": 0.7,
         "smoking": 0,
         "systolic": 89,
         "triglyceride": 69,
         "waist(cm)": 74,
         "weight(kg)": 60
        },
        {
         "Age": 45,
         "Cholesterol": 184,
         "HDL": 41,
         "LDL": 107,
         "Urine protein": 1,
         "_deepnote_index_column": 9,
         "dental caries": 0,
         "eyesight(left)": 0.7,
         "eyesight(right)": 1,
         "fasting blood sugar": 96,
         "hearing(left)": 1,
         "hearing(right)": 1,
         "height(cm)": 155,
         "hemoglobin": 13.1,
         "relaxation": 81,
         "serum creatinine": 0.6,
         "smoking": 0,
         "systolic": 114,
         "triglyceride": 177,
         "waist(cm)": 78,
         "weight(kg)": 55
        }
       ]
      },
      "text/html": [
       "<div>\n",
       "<style scoped>\n",
       "    .dataframe tbody tr th:only-of-type {\n",
       "        vertical-align: middle;\n",
       "    }\n",
       "\n",
       "    .dataframe tbody tr th {\n",
       "        vertical-align: top;\n",
       "    }\n",
       "\n",
       "    .dataframe thead th {\n",
       "        text-align: right;\n",
       "    }\n",
       "</style>\n",
       "<table border=\"1\" class=\"dataframe\">\n",
       "  <thead>\n",
       "    <tr style=\"text-align: right;\">\n",
       "      <th></th>\n",
       "      <th>Age</th>\n",
       "      <th>height(cm)</th>\n",
       "      <th>weight(kg)</th>\n",
       "      <th>waist(cm)</th>\n",
       "      <th>eyesight(left)</th>\n",
       "      <th>eyesight(right)</th>\n",
       "      <th>systolic</th>\n",
       "      <th>fasting blood sugar</th>\n",
       "      <th>triglyceride</th>\n",
       "      <th>HDL</th>\n",
       "      <th>LDL</th>\n",
       "      <th>Cholesterol</th>\n",
       "      <th>serum creatinine</th>\n",
       "      <th>hemoglobin</th>\n",
       "      <th>relaxation</th>\n",
       "      <th>Urine protein</th>\n",
       "      <th>hearing(left)</th>\n",
       "      <th>hearing(right)</th>\n",
       "      <th>dental caries</th>\n",
       "      <th>smoking</th>\n",
       "    </tr>\n",
       "  </thead>\n",
       "  <tbody>\n",
       "    <tr>\n",
       "      <th>0</th>\n",
       "      <td>35</td>\n",
       "      <td>170</td>\n",
       "      <td>85</td>\n",
       "      <td>97.0</td>\n",
       "      <td>0.9</td>\n",
       "      <td>0.9</td>\n",
       "      <td>118</td>\n",
       "      <td>97</td>\n",
       "      <td>153</td>\n",
       "      <td>70</td>\n",
       "      <td>142</td>\n",
       "      <td>239</td>\n",
       "      <td>1.0</td>\n",
       "      <td>19.8</td>\n",
       "      <td>78</td>\n",
       "      <td>1</td>\n",
       "      <td>1</td>\n",
       "      <td>1</td>\n",
       "      <td>1</td>\n",
       "      <td>1</td>\n",
       "    </tr>\n",
       "    <tr>\n",
       "      <th>1</th>\n",
       "      <td>20</td>\n",
       "      <td>175</td>\n",
       "      <td>110</td>\n",
       "      <td>110.0</td>\n",
       "      <td>0.7</td>\n",
       "      <td>0.9</td>\n",
       "      <td>119</td>\n",
       "      <td>88</td>\n",
       "      <td>128</td>\n",
       "      <td>71</td>\n",
       "      <td>114</td>\n",
       "      <td>211</td>\n",
       "      <td>1.1</td>\n",
       "      <td>15.9</td>\n",
       "      <td>79</td>\n",
       "      <td>1</td>\n",
       "      <td>1</td>\n",
       "      <td>1</td>\n",
       "      <td>1</td>\n",
       "      <td>0</td>\n",
       "    </tr>\n",
       "    <tr>\n",
       "      <th>2</th>\n",
       "      <td>45</td>\n",
       "      <td>155</td>\n",
       "      <td>65</td>\n",
       "      <td>86.0</td>\n",
       "      <td>0.9</td>\n",
       "      <td>0.9</td>\n",
       "      <td>110</td>\n",
       "      <td>80</td>\n",
       "      <td>120</td>\n",
       "      <td>57</td>\n",
       "      <td>112</td>\n",
       "      <td>193</td>\n",
       "      <td>0.6</td>\n",
       "      <td>13.7</td>\n",
       "      <td>80</td>\n",
       "      <td>3</td>\n",
       "      <td>1</td>\n",
       "      <td>1</td>\n",
       "      <td>0</td>\n",
       "      <td>0</td>\n",
       "    </tr>\n",
       "    <tr>\n",
       "      <th>3</th>\n",
       "      <td>45</td>\n",
       "      <td>165</td>\n",
       "      <td>80</td>\n",
       "      <td>94.0</td>\n",
       "      <td>0.8</td>\n",
       "      <td>0.7</td>\n",
       "      <td>158</td>\n",
       "      <td>249</td>\n",
       "      <td>366</td>\n",
       "      <td>46</td>\n",
       "      <td>91</td>\n",
       "      <td>210</td>\n",
       "      <td>0.9</td>\n",
       "      <td>16.9</td>\n",
       "      <td>88</td>\n",
       "      <td>1</td>\n",
       "      <td>1</td>\n",
       "      <td>1</td>\n",
       "      <td>0</td>\n",
       "      <td>0</td>\n",
       "    </tr>\n",
       "    <tr>\n",
       "      <th>4</th>\n",
       "      <td>20</td>\n",
       "      <td>165</td>\n",
       "      <td>60</td>\n",
       "      <td>81.0</td>\n",
       "      <td>1.5</td>\n",
       "      <td>0.1</td>\n",
       "      <td>109</td>\n",
       "      <td>100</td>\n",
       "      <td>200</td>\n",
       "      <td>47</td>\n",
       "      <td>92</td>\n",
       "      <td>179</td>\n",
       "      <td>1.2</td>\n",
       "      <td>14.9</td>\n",
       "      <td>64</td>\n",
       "      <td>1</td>\n",
       "      <td>1</td>\n",
       "      <td>1</td>\n",
       "      <td>0</td>\n",
       "      <td>0</td>\n",
       "    </tr>\n",
       "    <tr>\n",
       "      <th>...</th>\n",
       "      <td>...</td>\n",
       "      <td>...</td>\n",
       "      <td>...</td>\n",
       "      <td>...</td>\n",
       "      <td>...</td>\n",
       "      <td>...</td>\n",
       "      <td>...</td>\n",
       "      <td>...</td>\n",
       "      <td>...</td>\n",
       "      <td>...</td>\n",
       "      <td>...</td>\n",
       "      <td>...</td>\n",
       "      <td>...</td>\n",
       "      <td>...</td>\n",
       "      <td>...</td>\n",
       "      <td>...</td>\n",
       "      <td>...</td>\n",
       "      <td>...</td>\n",
       "      <td>...</td>\n",
       "      <td>...</td>\n",
       "    </tr>\n",
       "    <tr>\n",
       "      <th>38979</th>\n",
       "      <td>40</td>\n",
       "      <td>165</td>\n",
       "      <td>60</td>\n",
       "      <td>80.0</td>\n",
       "      <td>0.4</td>\n",
       "      <td>0.6</td>\n",
       "      <td>107</td>\n",
       "      <td>93</td>\n",
       "      <td>53</td>\n",
       "      <td>61</td>\n",
       "      <td>72</td>\n",
       "      <td>144</td>\n",
       "      <td>0.5</td>\n",
       "      <td>12.3</td>\n",
       "      <td>60</td>\n",
       "      <td>1</td>\n",
       "      <td>1</td>\n",
       "      <td>1</td>\n",
       "      <td>1</td>\n",
       "      <td>0</td>\n",
       "    </tr>\n",
       "    <tr>\n",
       "      <th>38980</th>\n",
       "      <td>45</td>\n",
       "      <td>155</td>\n",
       "      <td>55</td>\n",
       "      <td>75.0</td>\n",
       "      <td>1.5</td>\n",
       "      <td>1.2</td>\n",
       "      <td>126</td>\n",
       "      <td>91</td>\n",
       "      <td>100</td>\n",
       "      <td>76</td>\n",
       "      <td>131</td>\n",
       "      <td>227</td>\n",
       "      <td>0.6</td>\n",
       "      <td>12.5</td>\n",
       "      <td>72</td>\n",
       "      <td>2</td>\n",
       "      <td>1</td>\n",
       "      <td>1</td>\n",
       "      <td>0</td>\n",
       "      <td>0</td>\n",
       "    </tr>\n",
       "    <tr>\n",
       "      <th>38981</th>\n",
       "      <td>40</td>\n",
       "      <td>170</td>\n",
       "      <td>105</td>\n",
       "      <td>124.0</td>\n",
       "      <td>0.6</td>\n",
       "      <td>0.5</td>\n",
       "      <td>141</td>\n",
       "      <td>115</td>\n",
       "      <td>196</td>\n",
       "      <td>48</td>\n",
       "      <td>138</td>\n",
       "      <td>225</td>\n",
       "      <td>0.8</td>\n",
       "      <td>17.1</td>\n",
       "      <td>85</td>\n",
       "      <td>1</td>\n",
       "      <td>1</td>\n",
       "      <td>1</td>\n",
       "      <td>1</td>\n",
       "      <td>1</td>\n",
       "    </tr>\n",
       "    <tr>\n",
       "      <th>38982</th>\n",
       "      <td>40</td>\n",
       "      <td>160</td>\n",
       "      <td>55</td>\n",
       "      <td>75.0</td>\n",
       "      <td>1.5</td>\n",
       "      <td>1.5</td>\n",
       "      <td>95</td>\n",
       "      <td>102</td>\n",
       "      <td>48</td>\n",
       "      <td>79</td>\n",
       "      <td>116</td>\n",
       "      <td>206</td>\n",
       "      <td>0.6</td>\n",
       "      <td>12.0</td>\n",
       "      <td>69</td>\n",
       "      <td>1</td>\n",
       "      <td>1</td>\n",
       "      <td>1</td>\n",
       "      <td>0</td>\n",
       "      <td>1</td>\n",
       "    </tr>\n",
       "    <tr>\n",
       "      <th>38983</th>\n",
       "      <td>55</td>\n",
       "      <td>175</td>\n",
       "      <td>60</td>\n",
       "      <td>81.1</td>\n",
       "      <td>1.0</td>\n",
       "      <td>1.0</td>\n",
       "      <td>114</td>\n",
       "      <td>86</td>\n",
       "      <td>57</td>\n",
       "      <td>64</td>\n",
       "      <td>137</td>\n",
       "      <td>212</td>\n",
       "      <td>1.0</td>\n",
       "      <td>13.9</td>\n",
       "      <td>66</td>\n",
       "      <td>1</td>\n",
       "      <td>1</td>\n",
       "      <td>1</td>\n",
       "      <td>0</td>\n",
       "      <td>1</td>\n",
       "    </tr>\n",
       "  </tbody>\n",
       "</table>\n",
       "<p>38984 rows × 20 columns</p>\n",
       "</div>"
      ],
      "text/plain": [
       "       Age  height(cm)  weight(kg)  waist(cm)  eyesight(left)  \\\n",
       "0       35         170          85       97.0             0.9   \n",
       "1       20         175         110      110.0             0.7   \n",
       "2       45         155          65       86.0             0.9   \n",
       "3       45         165          80       94.0             0.8   \n",
       "4       20         165          60       81.0             1.5   \n",
       "...    ...         ...         ...        ...             ...   \n",
       "38979   40         165          60       80.0             0.4   \n",
       "38980   45         155          55       75.0             1.5   \n",
       "38981   40         170         105      124.0             0.6   \n",
       "38982   40         160          55       75.0             1.5   \n",
       "38983   55         175          60       81.1             1.0   \n",
       "\n",
       "       eyesight(right)  systolic  fasting blood sugar  triglyceride  HDL  LDL  \\\n",
       "0                  0.9       118                   97           153   70  142   \n",
       "1                  0.9       119                   88           128   71  114   \n",
       "2                  0.9       110                   80           120   57  112   \n",
       "3                  0.7       158                  249           366   46   91   \n",
       "4                  0.1       109                  100           200   47   92   \n",
       "...                ...       ...                  ...           ...  ...  ...   \n",
       "38979              0.6       107                   93            53   61   72   \n",
       "38980              1.2       126                   91           100   76  131   \n",
       "38981              0.5       141                  115           196   48  138   \n",
       "38982              1.5        95                  102            48   79  116   \n",
       "38983              1.0       114                   86            57   64  137   \n",
       "\n",
       "       Cholesterol  serum creatinine  hemoglobin  relaxation  Urine protein  \\\n",
       "0              239               1.0        19.8          78              1   \n",
       "1              211               1.1        15.9          79              1   \n",
       "2              193               0.6        13.7          80              3   \n",
       "3              210               0.9        16.9          88              1   \n",
       "4              179               1.2        14.9          64              1   \n",
       "...            ...               ...         ...         ...            ...   \n",
       "38979          144               0.5        12.3          60              1   \n",
       "38980          227               0.6        12.5          72              2   \n",
       "38981          225               0.8        17.1          85              1   \n",
       "38982          206               0.6        12.0          69              1   \n",
       "38983          212               1.0        13.9          66              1   \n",
       "\n",
       "       hearing(left)  hearing(right)  dental caries  smoking  \n",
       "0                  1               1              1        1  \n",
       "1                  1               1              1        0  \n",
       "2                  1               1              0        0  \n",
       "3                  1               1              0        0  \n",
       "4                  1               1              0        0  \n",
       "...              ...             ...            ...      ...  \n",
       "38979              1               1              1        0  \n",
       "38980              1               1              0        0  \n",
       "38981              1               1              1        1  \n",
       "38982              1               1              0        1  \n",
       "38983              1               1              0        1  \n",
       "\n",
       "[38984 rows x 20 columns]"
      ]
     },
     "execution_count": 2,
     "metadata": {},
     "output_type": "execute_result"
    }
   ],
   "source": [
    "df_2 = _deepnote_execute_sql('SELECT *\\nFROM \\'SmokingBaseline.csv\\'', 'SQL_DEEPNOTE_DATAFRAME_SQL', audit_sql_comment='', sql_cache_mode='cache_disabled')\n",
    "df_2"
   ]
  },
  {
   "cell_type": "code",
   "execution_count": null,
   "metadata": {
    "cell_id": "1c524cf66a434b42a97ba0c52c0e4673",
    "deepnote_cell_type": "code",
    "deepnote_table_loading": false,
    "deepnote_table_state": {
     "conditionalFilters": [],
     "filters": [],
     "pageIndex": 1,
     "pageSize": 10,
     "sortBy": []
    },
    "deepnote_to_be_reexecuted": false,
    "execution_millis": 199,
    "execution_start": 1724011898268,
    "source_hash": null
   },
   "outputs": [
    {
     "data": {
      "application/vnd.deepnote.dataframe.v3+json": {
       "column_count": 20,
       "columns": [
        {
         "dtype": "int64",
         "name": "Age",
         "stats": {
          "histogram": [
           {
            "bin_end": 25.5,
            "bin_start": 20,
            "count": 2
           },
           {
            "bin_end": 31,
            "bin_start": 25.5,
            "count": 0
           },
           {
            "bin_end": 36.5,
            "bin_start": 31,
            "count": 1
           },
           {
            "bin_end": 42,
            "bin_start": 36.5,
            "count": 7
           },
           {
            "bin_end": 47.5,
            "bin_start": 42,
            "count": 3
           },
           {
            "bin_end": 53,
            "bin_start": 47.5,
            "count": 3
           },
           {
            "bin_end": 58.5,
            "bin_start": 53,
            "count": 1
           },
           {
            "bin_end": 64,
            "bin_start": 58.5,
            "count": 2
           },
           {
            "bin_end": 69.5,
            "bin_start": 64,
            "count": 0
           },
           {
            "bin_end": 75,
            "bin_start": 69.5,
            "count": 1
           }
          ],
          "max": "75",
          "min": "20",
          "nan_count": 0,
          "unique_count": 8
         }
        },
        {
         "dtype": "int64",
         "name": "height(cm)",
         "stats": {
          "histogram": [
           {
            "bin_end": 153,
            "bin_start": 150,
            "count": 1
           },
           {
            "bin_end": 156,
            "bin_start": 153,
            "count": 4
           },
           {
            "bin_end": 159,
            "bin_start": 156,
            "count": 0
           },
           {
            "bin_end": 162,
            "bin_start": 159,
            "count": 3
           },
           {
            "bin_end": 165,
            "bin_start": 162,
            "count": 0
           },
           {
            "bin_end": 168,
            "bin_start": 165,
            "count": 3
           },
           {
            "bin_end": 171,
            "bin_start": 168,
            "count": 4
           },
           {
            "bin_end": 174,
            "bin_start": 171,
            "count": 0
           },
           {
            "bin_end": 177,
            "bin_start": 174,
            "count": 4
           },
           {
            "bin_end": 180,
            "bin_start": 177,
            "count": 1
           }
          ],
          "max": "180",
          "min": "150",
          "nan_count": 0,
          "unique_count": 7
         }
        },
        {
         "dtype": "int64",
         "name": "weight(kg)",
         "stats": {
          "histogram": [
           {
            "bin_end": 47,
            "bin_start": 40,
            "count": 1
           },
           {
            "bin_end": 54,
            "bin_start": 47,
            "count": 3
           },
           {
            "bin_end": 61,
            "bin_start": 54,
            "count": 5
           },
           {
            "bin_end": 68,
            "bin_start": 61,
            "count": 2
           },
           {
            "bin_end": 75,
            "bin_start": 68,
            "count": 2
           },
           {
            "bin_end": 82,
            "bin_start": 75,
            "count": 4
           },
           {
            "bin_end": 89,
            "bin_start": 82,
            "count": 1
           },
           {
            "bin_end": 96,
            "bin_start": 89,
            "count": 1
           },
           {
            "bin_end": 103,
            "bin_start": 96,
            "count": 0
           },
           {
            "bin_end": 110,
            "bin_start": 103,
            "count": 1
           }
          ],
          "max": "110",
          "min": "40",
          "nan_count": 0,
          "unique_count": 11
         }
        },
        {
         "dtype": "float64",
         "name": "waist(cm)",
         "stats": {
          "histogram": [
           {
            "bin_end": 66.8,
            "bin_start": 62,
            "count": 1
           },
           {
            "bin_end": 71.6,
            "bin_start": 66.8,
            "count": 1
           },
           {
            "bin_end": 76.4,
            "bin_start": 71.6,
            "count": 2
           },
           {
            "bin_end": 81.2,
            "bin_start": 76.4,
            "count": 6
           },
           {
            "bin_end": 86,
            "bin_start": 81.2,
            "count": 3
           },
           {
            "bin_end": 90.8,
            "bin_start": 86,
            "count": 2
           },
           {
            "bin_end": 95.6,
            "bin_start": 90.8,
            "count": 3
           },
           {
            "bin_end": 100.4,
            "bin_start": 95.6,
            "count": 1
           },
           {
            "bin_end": 105.19999999999999,
            "bin_start": 100.4,
            "count": 0
           },
           {
            "bin_end": 110,
            "bin_start": 105.19999999999999,
            "count": 1
           }
          ],
          "max": "110.0",
          "min": "62.0",
          "nan_count": 0,
          "unique_count": 17
         }
        },
        {
         "dtype": "float64",
         "name": "eyesight(left)",
         "stats": {
          "histogram": [
           {
            "bin_end": 0.42,
            "bin_start": 0.3,
            "count": 1
           },
           {
            "bin_end": 0.54,
            "bin_start": 0.42,
            "count": 3
           },
           {
            "bin_end": 0.6599999999999999,
            "bin_start": 0.54,
            "count": 0
           },
           {
            "bin_end": 0.78,
            "bin_start": 0.6599999999999999,
            "count": 2
           },
           {
            "bin_end": 0.8999999999999999,
            "bin_start": 0.78,
            "count": 2
           },
           {
            "bin_end": 1.02,
            "bin_start": 0.8999999999999999,
            "count": 6
           },
           {
            "bin_end": 1.14,
            "bin_start": 1.02,
            "count": 0
           },
           {
            "bin_end": 1.26,
            "bin_start": 1.14,
            "count": 2
           },
           {
            "bin_end": 1.3800000000000001,
            "bin_start": 1.26,
            "count": 0
           },
           {
            "bin_end": 1.5,
            "bin_start": 1.3800000000000001,
            "count": 4
           }
          ],
          "max": "1.5",
          "min": "0.3",
          "nan_count": 0,
          "unique_count": 8
         }
        },
        {
         "dtype": "float64",
         "name": "eyesight(right)",
         "stats": {
          "histogram": [
           {
            "bin_end": 0.24,
            "bin_start": 0.1,
            "count": 2
           },
           {
            "bin_end": 0.38,
            "bin_start": 0.24,
            "count": 0
           },
           {
            "bin_end": 0.5199999999999999,
            "bin_start": 0.38,
            "count": 1
           },
           {
            "bin_end": 0.6599999999999999,
            "bin_start": 0.5199999999999999,
            "count": 0
           },
           {
            "bin_end": 0.7999999999999999,
            "bin_start": 0.6599999999999999,
            "count": 1
           },
           {
            "bin_end": 0.9399999999999998,
            "bin_start": 0.7999999999999999,
            "count": 6
           },
           {
            "bin_end": 1.0799999999999998,
            "bin_start": 0.9399999999999998,
            "count": 3
           },
           {
            "bin_end": 1.22,
            "bin_start": 1.0799999999999998,
            "count": 3
           },
           {
            "bin_end": 1.3599999999999999,
            "bin_start": 1.22,
            "count": 0
           },
           {
            "bin_end": 1.5,
            "bin_start": 1.3599999999999999,
            "count": 4
           }
          ],
          "max": "1.5",
          "min": "0.1",
          "nan_count": 0,
          "unique_count": 8
         }
        },
        {
         "dtype": "int64",
         "name": "systolic",
         "stats": {
          "histogram": [
           {
            "bin_end": 95.9,
            "bin_start": 89,
            "count": 1
           },
           {
            "bin_end": 102.8,
            "bin_start": 95.9,
            "count": 1
           },
           {
            "bin_end": 109.7,
            "bin_start": 102.8,
            "count": 1
           },
           {
            "bin_end": 116.6,
            "bin_start": 109.7,
            "count": 6
           },
           {
            "bin_end": 123.5,
            "bin_start": 116.6,
            "count": 4
           },
           {
            "bin_end": 130.4,
            "bin_start": 123.5,
            "count": 5
           },
           {
            "bin_end": 137.3,
            "bin_start": 130.4,
            "count": 0
           },
           {
            "bin_end": 144.2,
            "bin_start": 137.3,
            "count": 0
           },
           {
            "bin_end": 151.1,
            "bin_start": 144.2,
            "count": 1
           },
           {
            "bin_end": 158,
            "bin_start": 151.1,
            "count": 1
           }
          ],
          "max": "158",
          "min": "89",
          "nan_count": 0,
          "unique_count": 15
         }
        },
        {
         "dtype": "int64",
         "name": "fasting blood sugar",
         "stats": {
          "histogram": [
           {
            "bin_end": 76.3,
            "bin_start": 55,
            "count": 1
           },
           {
            "bin_end": 97.6,
            "bin_start": 76.3,
            "count": 12
           },
           {
            "bin_end": 118.9,
            "bin_start": 97.6,
            "count": 3
           },
           {
            "bin_end": 140.2,
            "bin_start": 118.9,
            "count": 2
           },
           {
            "bin_end": 161.5,
            "bin_start": 140.2,
            "count": 0
           },
           {
            "bin_end": 182.8,
            "bin_start": 161.5,
            "count": 0
           },
           {
            "bin_end": 204.1,
            "bin_start": 182.8,
            "count": 0
           },
           {
            "bin_end": 225.4,
            "bin_start": 204.1,
            "count": 0
           },
           {
            "bin_end": 246.70000000000002,
            "bin_start": 225.4,
            "count": 0
           },
           {
            "bin_end": 268,
            "bin_start": 246.70000000000002,
            "count": 2
           }
          ],
          "max": "268",
          "min": "55",
          "nan_count": 0,
          "unique_count": 17
         }
        },
        {
         "dtype": "int64",
         "name": "triglyceride",
         "stats": {
          "histogram": [
           {
            "bin_end": 68.1,
            "bin_start": 35,
            "count": 5
           },
           {
            "bin_end": 101.2,
            "bin_start": 68.1,
            "count": 5
           },
           {
            "bin_end": 134.3,
            "bin_start": 101.2,
            "count": 5
           },
           {
            "bin_end": 167.4,
            "bin_start": 134.3,
            "count": 1
           },
           {
            "bin_end": 200.5,
            "bin_start": 167.4,
            "count": 2
           },
           {
            "bin_end": 233.60000000000002,
            "bin_start": 200.5,
            "count": 0
           },
           {
            "bin_end": 266.70000000000005,
            "bin_start": 233.60000000000002,
            "count": 0
           },
           {
            "bin_end": 299.8,
            "bin_start": 266.70000000000005,
            "count": 0
           },
           {
            "bin_end": 332.90000000000003,
            "bin_start": 299.8,
            "count": 1
           },
           {
            "bin_end": 366,
            "bin_start": 332.90000000000003,
            "count": 1
           }
          ],
          "max": "366",
          "min": "35",
          "nan_count": 0,
          "unique_count": 20
         }
        },
        {
         "dtype": "int64",
         "name": "HDL",
         "stats": {
          "histogram": [
           {
            "bin_end": 42.2,
            "bin_start": 36,
            "count": 3
           },
           {
            "bin_end": 48.4,
            "bin_start": 42.2,
            "count": 2
           },
           {
            "bin_end": 54.6,
            "bin_start": 48.4,
            "count": 2
           },
           {
            "bin_end": 60.8,
            "bin_start": 54.6,
            "count": 4
           },
           {
            "bin_end": 67,
            "bin_start": 60.8,
            "count": 2
           },
           {
            "bin_end": 73.2,
            "bin_start": 67,
            "count": 4
           },
           {
            "bin_end": 79.4,
            "bin_start": 73.2,
            "count": 1
           },
           {
            "bin_end": 85.6,
            "bin_start": 79.4,
            "count": 0
           },
           {
            "bin_end": 91.80000000000001,
            "bin_start": 85.6,
            "count": 1
           },
           {
            "bin_end": 98,
            "bin_start": 91.80000000000001,
            "count": 1
           }
          ],
          "max": "98",
          "min": "36",
          "nan_count": 0,
          "unique_count": 19
         }
        },
        {
         "dtype": "int64",
         "name": "LDL",
         "stats": {
          "histogram": [
           {
            "bin_end": 74.3,
            "bin_start": 64,
            "count": 4
           },
           {
            "bin_end": 84.6,
            "bin_start": 74.3,
            "count": 1
           },
           {
            "bin_end": 94.9,
            "bin_start": 84.6,
            "count": 3
           },
           {
            "bin_end": 105.2,
            "bin_start": 94.9,
            "count": 4
           },
           {
            "bin_end": 115.5,
            "bin_start": 105.2,
            "count": 4
           },
           {
            "bin_end": 125.80000000000001,
            "bin_start": 115.5,
            "count": 0
           },
           {
            "bin_end": 136.10000000000002,
            "bin_start": 125.80000000000001,
            "count": 0
           },
           {
            "bin_end": 146.4,
            "bin_start": 136.10000000000002,
            "count": 2
           },
           {
            "bin_end": 156.7,
            "bin_start": 146.4,
            "count": 1
           },
           {
            "bin_end": 167,
            "bin_start": 156.7,
            "count": 1
           }
          ],
          "max": "167",
          "min": "64",
          "nan_count": 0,
          "unique_count": 18
         }
        },
        {
         "dtype": "int64",
         "name": "Cholesterol",
         "stats": {
          "histogram": [
           {
            "bin_end": 135.7,
            "bin_start": 122,
            "count": 2
           },
           {
            "bin_end": 149.4,
            "bin_start": 135.7,
            "count": 0
           },
           {
            "bin_end": 163.1,
            "bin_start": 149.4,
            "count": 2
           },
           {
            "bin_end": 176.8,
            "bin_start": 163.1,
            "count": 3
           },
           {
            "bin_end": 190.5,
            "bin_start": 176.8,
            "count": 4
           },
           {
            "bin_end": 204.2,
            "bin_start": 190.5,
            "count": 1
           },
           {
            "bin_end": 217.89999999999998,
            "bin_start": 204.2,
            "count": 4
           },
           {
            "bin_end": 231.6,
            "bin_start": 217.89999999999998,
            "count": 2
           },
           {
            "bin_end": 245.3,
            "bin_start": 231.6,
            "count": 1
           },
           {
            "bin_end": 259,
            "bin_start": 245.3,
            "count": 1
           }
          ],
          "max": "259",
          "min": "122",
          "nan_count": 0,
          "unique_count": 19
         }
        },
        {
         "dtype": "float64",
         "name": "serum creatinine",
         "stats": {
          "histogram": [
           {
            "bin_end": 0.59,
            "bin_start": 0.5,
            "count": 1
           },
           {
            "bin_end": 0.6799999999999999,
            "bin_start": 0.59,
            "count": 3
           },
           {
            "bin_end": 0.77,
            "bin_start": 0.6799999999999999,
            "count": 2
           },
           {
            "bin_end": 0.86,
            "bin_start": 0.77,
            "count": 1
           },
           {
            "bin_end": 0.95,
            "bin_start": 0.86,
            "count": 3
           },
           {
            "bin_end": 1.04,
            "bin_start": 0.95,
            "count": 6
           },
           {
            "bin_end": 1.13,
            "bin_start": 1.04,
            "count": 2
           },
           {
            "bin_end": 1.22,
            "bin_start": 1.13,
            "count": 1
           },
           {
            "bin_end": 1.31,
            "bin_start": 1.22,
            "count": 0
           },
           {
            "bin_end": 1.4,
            "bin_start": 1.31,
            "count": 1
           }
          ],
          "max": "1.4",
          "min": "0.5",
          "nan_count": 0,
          "unique_count": 9
         }
        },
        {
         "dtype": "float64",
         "name": "hemoglobin",
         "stats": {
          "histogram": [
           {
            "bin_end": 13.23,
            "bin_start": 12.5,
            "count": 5
           },
           {
            "bin_end": 13.96,
            "bin_start": 13.23,
            "count": 3
           },
           {
            "bin_end": 14.690000000000001,
            "bin_start": 13.96,
            "count": 2
           },
           {
            "bin_end": 15.42,
            "bin_start": 14.690000000000001,
            "count": 4
           },
           {
            "bin_end": 16.15,
            "bin_start": 15.42,
            "count": 2
           },
           {
            "bin_end": 16.880000000000003,
            "bin_start": 16.15,
            "count": 2
           },
           {
            "bin_end": 17.61,
            "bin_start": 16.880000000000003,
            "count": 1
           },
           {
            "bin_end": 18.34,
            "bin_start": 17.61,
            "count": 0
           },
           {
            "bin_end": 19.07,
            "bin_start": 18.34,
            "count": 0
           },
           {
            "bin_end": 19.8,
            "bin_start": 19.07,
            "count": 1
           }
          ],
          "max": "19.8",
          "min": "12.5",
          "nan_count": 0,
          "unique_count": 19
         }
        },
        {
         "dtype": "int64",
         "name": "relaxation",
         "stats": {
          "histogram": [
           {
            "bin_end": 61.6,
            "bin_start": 57,
            "count": 2
           },
           {
            "bin_end": 66.2,
            "bin_start": 61.6,
            "count": 2
           },
           {
            "bin_end": 70.8,
            "bin_start": 66.2,
            "count": 2
           },
           {
            "bin_end": 75.4,
            "bin_start": 70.8,
            "count": 3
           },
           {
            "bin_end": 80,
            "bin_start": 75.4,
            "count": 3
           },
           {
            "bin_end": 84.6,
            "bin_start": 80,
            "count": 4
           },
           {
            "bin_end": 89.19999999999999,
            "bin_start": 84.6,
            "count": 3
           },
           {
            "bin_end": 93.8,
            "bin_start": 89.19999999999999,
            "count": 0
           },
           {
            "bin_end": 98.4,
            "bin_start": 93.8,
            "count": 0
           },
           {
            "bin_end": 103,
            "bin_start": 98.4,
            "count": 1
           }
          ],
          "max": "103",
          "min": "57",
          "nan_count": 0,
          "unique_count": 16
         }
        },
        {
         "dtype": "int64",
         "name": "Urine protein",
         "stats": {
          "histogram": [
           {
            "bin_end": 1.2,
            "bin_start": 1,
            "count": 17
           },
           {
            "bin_end": 1.4,
            "bin_start": 1.2,
            "count": 0
           },
           {
            "bin_end": 1.6,
            "bin_start": 1.4,
            "count": 0
           },
           {
            "bin_end": 1.8,
            "bin_start": 1.6,
            "count": 0
           },
           {
            "bin_end": 2,
            "bin_start": 1.8,
            "count": 0
           },
           {
            "bin_end": 2.2,
            "bin_start": 2,
            "count": 2
           },
           {
            "bin_end": 2.4000000000000004,
            "bin_start": 2.2,
            "count": 0
           },
           {
            "bin_end": 2.6,
            "bin_start": 2.4000000000000004,
            "count": 0
           },
           {
            "bin_end": 2.8,
            "bin_start": 2.6,
            "count": 0
           },
           {
            "bin_end": 3,
            "bin_start": 2.8,
            "count": 1
           }
          ],
          "max": "3",
          "min": "1",
          "nan_count": 0,
          "unique_count": 3
         }
        },
        {
         "dtype": "int64",
         "name": "hearing(left)",
         "stats": {
          "histogram": [
           {
            "bin_end": 1.1,
            "bin_start": 1,
            "count": 19
           },
           {
            "bin_end": 1.2,
            "bin_start": 1.1,
            "count": 0
           },
           {
            "bin_end": 1.3,
            "bin_start": 1.2,
            "count": 0
           },
           {
            "bin_end": 1.4,
            "bin_start": 1.3,
            "count": 0
           },
           {
            "bin_end": 1.5,
            "bin_start": 1.4,
            "count": 0
           },
           {
            "bin_end": 1.6,
            "bin_start": 1.5,
            "count": 0
           },
           {
            "bin_end": 1.7000000000000002,
            "bin_start": 1.6,
            "count": 0
           },
           {
            "bin_end": 1.8,
            "bin_start": 1.7000000000000002,
            "count": 0
           },
           {
            "bin_end": 1.9,
            "bin_start": 1.8,
            "count": 0
           },
           {
            "bin_end": 2,
            "bin_start": 1.9,
            "count": 1
           }
          ],
          "max": "2",
          "min": "1",
          "nan_count": 0,
          "unique_count": 2
         }
        },
        {
         "dtype": "int64",
         "name": "hearing(right)",
         "stats": {
          "histogram": [
           {
            "bin_end": 1.1,
            "bin_start": 1,
            "count": 19
           },
           {
            "bin_end": 1.2,
            "bin_start": 1.1,
            "count": 0
           },
           {
            "bin_end": 1.3,
            "bin_start": 1.2,
            "count": 0
           },
           {
            "bin_end": 1.4,
            "bin_start": 1.3,
            "count": 0
           },
           {
            "bin_end": 1.5,
            "bin_start": 1.4,
            "count": 0
           },
           {
            "bin_end": 1.6,
            "bin_start": 1.5,
            "count": 0
           },
           {
            "bin_end": 1.7000000000000002,
            "bin_start": 1.6,
            "count": 0
           },
           {
            "bin_end": 1.8,
            "bin_start": 1.7000000000000002,
            "count": 0
           },
           {
            "bin_end": 1.9,
            "bin_start": 1.8,
            "count": 0
           },
           {
            "bin_end": 2,
            "bin_start": 1.9,
            "count": 1
           }
          ],
          "max": "2",
          "min": "1",
          "nan_count": 0,
          "unique_count": 2
         }
        },
        {
         "dtype": "int64",
         "name": "dental caries",
         "stats": {
          "histogram": [
           {
            "bin_end": 0.1,
            "bin_start": 0,
            "count": 14
           },
           {
            "bin_end": 0.2,
            "bin_start": 0.1,
            "count": 0
           },
           {
            "bin_end": 0.30000000000000004,
            "bin_start": 0.2,
            "count": 0
           },
           {
            "bin_end": 0.4,
            "bin_start": 0.30000000000000004,
            "count": 0
           },
           {
            "bin_end": 0.5,
            "bin_start": 0.4,
            "count": 0
           },
           {
            "bin_end": 0.6000000000000001,
            "bin_start": 0.5,
            "count": 0
           },
           {
            "bin_end": 0.7000000000000001,
            "bin_start": 0.6000000000000001,
            "count": 0
           },
           {
            "bin_end": 0.8,
            "bin_start": 0.7000000000000001,
            "count": 0
           },
           {
            "bin_end": 0.9,
            "bin_start": 0.8,
            "count": 0
           },
           {
            "bin_end": 1,
            "bin_start": 0.9,
            "count": 6
           }
          ],
          "max": "1",
          "min": "0",
          "nan_count": 0,
          "unique_count": 2
         }
        },
        {
         "dtype": "int64",
         "name": "smoking",
         "stats": {
          "histogram": [
           {
            "bin_end": 0.1,
            "bin_start": 0,
            "count": 13
           },
           {
            "bin_end": 0.2,
            "bin_start": 0.1,
            "count": 0
           },
           {
            "bin_end": 0.30000000000000004,
            "bin_start": 0.2,
            "count": 0
           },
           {
            "bin_end": 0.4,
            "bin_start": 0.30000000000000004,
            "count": 0
           },
           {
            "bin_end": 0.5,
            "bin_start": 0.4,
            "count": 0
           },
           {
            "bin_end": 0.6000000000000001,
            "bin_start": 0.5,
            "count": 0
           },
           {
            "bin_end": 0.7000000000000001,
            "bin_start": 0.6000000000000001,
            "count": 0
           },
           {
            "bin_end": 0.8,
            "bin_start": 0.7000000000000001,
            "count": 0
           },
           {
            "bin_end": 0.9,
            "bin_start": 0.8,
            "count": 0
           },
           {
            "bin_end": 1,
            "bin_start": 0.9,
            "count": 7
           }
          ],
          "max": "1",
          "min": "0",
          "nan_count": 0,
          "unique_count": 2
         }
        },
        {
         "dtype": "int64",
         "name": "_deepnote_index_column"
        }
       ],
       "row_count": 20,
       "rows": [
        {
         "Age": 40,
         "Cholesterol": 154,
         "HDL": 63,
         "LDL": 73,
         "Urine protein": 1,
         "_deepnote_index_column": 10,
         "dental caries": 0,
         "eyesight(left)": 0.5,
         "eyesight(right)": 0.5,
         "fasting blood sugar": 94,
         "hearing(left)": 1,
         "hearing(right)": 1,
         "height(cm)": 160,
         "hemoglobin": 14.3,
         "relaxation": 80,
         "serum creatinine": 0.5,
         "smoking": 1,
         "systolic": 130,
         "triglyceride": 91,
         "waist(cm)": 77.6,
         "weight(kg)": 60
        },
        {
         "Age": 50,
         "Cholesterol": 135,
         "HDL": 59,
         "LDL": 69,
         "Urine protein": 1,
         "_deepnote_index_column": 11,
         "dental caries": 0,
         "eyesight(left)": 0.5,
         "eyesight(right)": 0.8,
         "fasting blood sugar": 83,
         "hearing(left)": 1,
         "hearing(right)": 1,
         "height(cm)": 155,
         "hemoglobin": 12.5,
         "relaxation": 64,
         "serum creatinine": 0.9,
         "smoking": 0,
         "systolic": 112,
         "triglyceride": 35,
         "waist(cm)": 72,
         "weight(kg)": 50
        },
        {
         "Age": 50,
         "Cholesterol": 207,
         "HDL": 87,
         "LDL": 112,
         "Urine protein": 1,
         "_deepnote_index_column": 12,
         "dental caries": 1,
         "eyesight(left)": 0.8,
         "eyesight(right)": 0.8,
         "fasting blood sugar": 97,
         "hearing(left)": 1,
         "hearing(right)": 1,
         "height(cm)": 160,
         "hemoglobin": 12.8,
         "relaxation": 76,
         "serum creatinine": 0.9,
         "smoking": 0,
         "systolic": 125,
         "triglyceride": 39,
         "waist(cm)": 89,
         "weight(kg)": 60
        },
        {
         "Age": 75,
         "Cholesterol": 230,
         "HDL": 72,
         "LDL": 144,
         "Urine protein": 1,
         "_deepnote_index_column": 13,
         "dental caries": 0,
         "eyesight(left)": 0.5,
         "eyesight(right)": 0.1,
         "fasting blood sugar": 86,
         "hearing(left)": 1,
         "hearing(right)": 1,
         "height(cm)": 155,
         "hemoglobin": 12.6,
         "relaxation": 68,
         "serum creatinine": 0.6,
         "smoking": 0,
         "systolic": 114,
         "triglyceride": 71,
         "waist(cm)": 71,
         "weight(kg)": 50
        },
        {
         "Age": 40,
         "Cholesterol": 259,
         "HDL": 71,
         "LDL": 167,
         "Urine protein": 1,
         "_deepnote_index_column": 14,
         "dental caries": 0,
         "eyesight(left)": 1,
         "eyesight(right)": 1.5,
         "fasting blood sugar": 78,
         "hearing(left)": 1,
         "hearing(right)": 1,
         "height(cm)": 150,
         "hemoglobin": 13.4,
         "relaxation": 72,
         "serum creatinine": 1,
         "smoking": 0,
         "systolic": 101,
         "triglyceride": 105,
         "waist(cm)": 62,
         "weight(kg)": 40
        },
        {
         "Age": 60,
         "Cholesterol": 163,
         "HDL": 49,
         "LDL": 88,
         "Urine protein": 1,
         "_deepnote_index_column": 15,
         "dental caries": 0,
         "eyesight(left)": 0.3,
         "eyesight(right)": 1.2,
         "fasting blood sugar": 129,
         "hearing(left)": 1,
         "hearing(right)": 1,
         "height(cm)": 165,
         "hemoglobin": 16.4,
         "relaxation": 84,
         "serum creatinine": 1.1,
         "smoking": 0,
         "systolic": 127,
         "triglyceride": 130,
         "waist(cm)": 92,
         "weight(kg)": 75
        },
        {
         "Age": 50,
         "Cholesterol": 226,
         "HDL": 53,
         "LDL": 149,
         "Urine protein": 1,
         "_deepnote_index_column": 16,
         "dental caries": 1,
         "eyesight(left)": 1,
         "eyesight(right)": 1.2,
         "fasting blood sugar": 268,
         "hearing(left)": 1,
         "hearing(right)": 1,
         "height(cm)": 170,
         "hemoglobin": 15.4,
         "relaxation": 88,
         "serum creatinine": 1,
         "smoking": 1,
         "systolic": 120,
         "triglyceride": 118,
         "waist(cm)": 84,
         "weight(kg)": 75
        },
        {
         "Age": 40,
         "Cholesterol": 164,
         "HDL": 79,
         "LDL": 78,
         "Urine protein": 1,
         "_deepnote_index_column": 17,
         "dental caries": 0,
         "eyesight(left)": 1.5,
         "eyesight(right)": 1,
         "fasting blood sugar": 55,
         "hearing(left)": 1,
         "hearing(right)": 1,
         "height(cm)": 175,
         "hemoglobin": 16.1,
         "relaxation": 73,
         "serum creatinine": 0.7,
         "smoking": 1,
         "systolic": 118,
         "triglyceride": 37,
         "waist(cm)": 78.5,
         "weight(kg)": 70
        },
        {
         "Age": 40,
         "Cholesterol": 174,
         "HDL": 61,
         "LDL": 95,
         "Urine protein": 1,
         "_deepnote_index_column": 18,
         "dental caries": 1,
         "eyesight(left)": 1.5,
         "eyesight(right)": 1.5,
         "fasting blood sugar": 134,
         "hearing(left)": 1,
         "hearing(right)": 1,
         "height(cm)": 170,
         "hemoglobin": 15.1,
         "relaxation": 103,
         "serum creatinine": 1,
         "smoking": 1,
         "systolic": 151,
         "triglyceride": 89,
         "waist(cm)": 81,
         "weight(kg)": 65
        },
        {
         "Age": 55,
         "Cholesterol": 122,
         "HDL": 36,
         "LDL": 73,
         "Urine protein": 1,
         "_deepnote_index_column": 19,
         "dental caries": 0,
         "eyesight(left)": 1.2,
         "eyesight(right)": 1.2,
         "fasting blood sugar": 93,
         "hearing(left)": 1,
         "hearing(right)": 1,
         "height(cm)": 175,
         "hemoglobin": 14.9,
         "relaxation": 70,
         "serum creatinine": 0.8,
         "smoking": 0,
         "systolic": 110,
         "triglyceride": 66,
         "waist(cm)": 85,
         "weight(kg)": 70
        }
       ]
      },
      "text/html": [
       "<div>\n",
       "<style scoped>\n",
       "    .dataframe tbody tr th:only-of-type {\n",
       "        vertical-align: middle;\n",
       "    }\n",
       "\n",
       "    .dataframe tbody tr th {\n",
       "        vertical-align: top;\n",
       "    }\n",
       "\n",
       "    .dataframe thead th {\n",
       "        text-align: right;\n",
       "    }\n",
       "</style>\n",
       "<table border=\"1\" class=\"dataframe\">\n",
       "  <thead>\n",
       "    <tr style=\"text-align: right;\">\n",
       "      <th></th>\n",
       "      <th>Age</th>\n",
       "      <th>height(cm)</th>\n",
       "      <th>weight(kg)</th>\n",
       "      <th>waist(cm)</th>\n",
       "      <th>eyesight(left)</th>\n",
       "      <th>eyesight(right)</th>\n",
       "      <th>systolic</th>\n",
       "      <th>fasting blood sugar</th>\n",
       "      <th>triglyceride</th>\n",
       "      <th>HDL</th>\n",
       "      <th>LDL</th>\n",
       "      <th>Cholesterol</th>\n",
       "      <th>serum creatinine</th>\n",
       "      <th>hemoglobin</th>\n",
       "      <th>relaxation</th>\n",
       "      <th>Urine protein</th>\n",
       "      <th>hearing(left)</th>\n",
       "      <th>hearing(right)</th>\n",
       "      <th>dental caries</th>\n",
       "      <th>smoking</th>\n",
       "    </tr>\n",
       "  </thead>\n",
       "  <tbody>\n",
       "    <tr>\n",
       "      <th>0</th>\n",
       "      <td>35</td>\n",
       "      <td>170</td>\n",
       "      <td>85</td>\n",
       "      <td>97.0</td>\n",
       "      <td>0.9</td>\n",
       "      <td>0.9</td>\n",
       "      <td>118</td>\n",
       "      <td>97</td>\n",
       "      <td>153</td>\n",
       "      <td>70</td>\n",
       "      <td>142</td>\n",
       "      <td>239</td>\n",
       "      <td>1.0</td>\n",
       "      <td>19.8</td>\n",
       "      <td>78</td>\n",
       "      <td>1</td>\n",
       "      <td>1</td>\n",
       "      <td>1</td>\n",
       "      <td>1</td>\n",
       "      <td>1</td>\n",
       "    </tr>\n",
       "    <tr>\n",
       "      <th>1</th>\n",
       "      <td>20</td>\n",
       "      <td>175</td>\n",
       "      <td>110</td>\n",
       "      <td>110.0</td>\n",
       "      <td>0.7</td>\n",
       "      <td>0.9</td>\n",
       "      <td>119</td>\n",
       "      <td>88</td>\n",
       "      <td>128</td>\n",
       "      <td>71</td>\n",
       "      <td>114</td>\n",
       "      <td>211</td>\n",
       "      <td>1.1</td>\n",
       "      <td>15.9</td>\n",
       "      <td>79</td>\n",
       "      <td>1</td>\n",
       "      <td>1</td>\n",
       "      <td>1</td>\n",
       "      <td>1</td>\n",
       "      <td>0</td>\n",
       "    </tr>\n",
       "    <tr>\n",
       "      <th>2</th>\n",
       "      <td>45</td>\n",
       "      <td>155</td>\n",
       "      <td>65</td>\n",
       "      <td>86.0</td>\n",
       "      <td>0.9</td>\n",
       "      <td>0.9</td>\n",
       "      <td>110</td>\n",
       "      <td>80</td>\n",
       "      <td>120</td>\n",
       "      <td>57</td>\n",
       "      <td>112</td>\n",
       "      <td>193</td>\n",
       "      <td>0.6</td>\n",
       "      <td>13.7</td>\n",
       "      <td>80</td>\n",
       "      <td>3</td>\n",
       "      <td>1</td>\n",
       "      <td>1</td>\n",
       "      <td>0</td>\n",
       "      <td>0</td>\n",
       "    </tr>\n",
       "    <tr>\n",
       "      <th>3</th>\n",
       "      <td>45</td>\n",
       "      <td>165</td>\n",
       "      <td>80</td>\n",
       "      <td>94.0</td>\n",
       "      <td>0.8</td>\n",
       "      <td>0.7</td>\n",
       "      <td>158</td>\n",
       "      <td>249</td>\n",
       "      <td>366</td>\n",
       "      <td>46</td>\n",
       "      <td>91</td>\n",
       "      <td>210</td>\n",
       "      <td>0.9</td>\n",
       "      <td>16.9</td>\n",
       "      <td>88</td>\n",
       "      <td>1</td>\n",
       "      <td>1</td>\n",
       "      <td>1</td>\n",
       "      <td>0</td>\n",
       "      <td>0</td>\n",
       "    </tr>\n",
       "    <tr>\n",
       "      <th>4</th>\n",
       "      <td>20</td>\n",
       "      <td>165</td>\n",
       "      <td>60</td>\n",
       "      <td>81.0</td>\n",
       "      <td>1.5</td>\n",
       "      <td>0.1</td>\n",
       "      <td>109</td>\n",
       "      <td>100</td>\n",
       "      <td>200</td>\n",
       "      <td>47</td>\n",
       "      <td>92</td>\n",
       "      <td>179</td>\n",
       "      <td>1.2</td>\n",
       "      <td>14.9</td>\n",
       "      <td>64</td>\n",
       "      <td>1</td>\n",
       "      <td>1</td>\n",
       "      <td>1</td>\n",
       "      <td>0</td>\n",
       "      <td>0</td>\n",
       "    </tr>\n",
       "    <tr>\n",
       "      <th>5</th>\n",
       "      <td>60</td>\n",
       "      <td>160</td>\n",
       "      <td>50</td>\n",
       "      <td>78.0</td>\n",
       "      <td>1.0</td>\n",
       "      <td>0.9</td>\n",
       "      <td>126</td>\n",
       "      <td>114</td>\n",
       "      <td>74</td>\n",
       "      <td>98</td>\n",
       "      <td>64</td>\n",
       "      <td>177</td>\n",
       "      <td>1.0</td>\n",
       "      <td>13.9</td>\n",
       "      <td>75</td>\n",
       "      <td>1</td>\n",
       "      <td>2</td>\n",
       "      <td>2</td>\n",
       "      <td>0</td>\n",
       "      <td>1</td>\n",
       "    </tr>\n",
       "    <tr>\n",
       "      <th>6</th>\n",
       "      <td>40</td>\n",
       "      <td>175</td>\n",
       "      <td>90</td>\n",
       "      <td>95.0</td>\n",
       "      <td>0.9</td>\n",
       "      <td>1.0</td>\n",
       "      <td>130</td>\n",
       "      <td>90</td>\n",
       "      <td>331</td>\n",
       "      <td>39</td>\n",
       "      <td>102</td>\n",
       "      <td>207</td>\n",
       "      <td>1.0</td>\n",
       "      <td>16.5</td>\n",
       "      <td>88</td>\n",
       "      <td>1</td>\n",
       "      <td>1</td>\n",
       "      <td>1</td>\n",
       "      <td>0</td>\n",
       "      <td>0</td>\n",
       "    </tr>\n",
       "    <tr>\n",
       "      <th>7</th>\n",
       "      <td>40</td>\n",
       "      <td>180</td>\n",
       "      <td>75</td>\n",
       "      <td>85.0</td>\n",
       "      <td>1.5</td>\n",
       "      <td>1.5</td>\n",
       "      <td>110</td>\n",
       "      <td>100</td>\n",
       "      <td>62</td>\n",
       "      <td>58</td>\n",
       "      <td>99</td>\n",
       "      <td>170</td>\n",
       "      <td>1.4</td>\n",
       "      <td>14.0</td>\n",
       "      <td>60</td>\n",
       "      <td>2</td>\n",
       "      <td>1</td>\n",
       "      <td>1</td>\n",
       "      <td>1</td>\n",
       "      <td>1</td>\n",
       "    </tr>\n",
       "    <tr>\n",
       "      <th>8</th>\n",
       "      <td>40</td>\n",
       "      <td>170</td>\n",
       "      <td>60</td>\n",
       "      <td>74.0</td>\n",
       "      <td>1.2</td>\n",
       "      <td>1.5</td>\n",
       "      <td>89</td>\n",
       "      <td>83</td>\n",
       "      <td>69</td>\n",
       "      <td>60</td>\n",
       "      <td>104</td>\n",
       "      <td>178</td>\n",
       "      <td>0.7</td>\n",
       "      <td>12.9</td>\n",
       "      <td>57</td>\n",
       "      <td>2</td>\n",
       "      <td>1</td>\n",
       "      <td>1</td>\n",
       "      <td>0</td>\n",
       "      <td>0</td>\n",
       "    </tr>\n",
       "    <tr>\n",
       "      <th>9</th>\n",
       "      <td>45</td>\n",
       "      <td>155</td>\n",
       "      <td>55</td>\n",
       "      <td>78.0</td>\n",
       "      <td>0.7</td>\n",
       "      <td>1.0</td>\n",
       "      <td>114</td>\n",
       "      <td>96</td>\n",
       "      <td>177</td>\n",
       "      <td>41</td>\n",
       "      <td>107</td>\n",
       "      <td>184</td>\n",
       "      <td>0.6</td>\n",
       "      <td>13.1</td>\n",
       "      <td>81</td>\n",
       "      <td>1</td>\n",
       "      <td>1</td>\n",
       "      <td>1</td>\n",
       "      <td>0</td>\n",
       "      <td>0</td>\n",
       "    </tr>\n",
       "    <tr>\n",
       "      <th>10</th>\n",
       "      <td>40</td>\n",
       "      <td>160</td>\n",
       "      <td>60</td>\n",
       "      <td>77.6</td>\n",
       "      <td>0.5</td>\n",
       "      <td>0.5</td>\n",
       "      <td>130</td>\n",
       "      <td>94</td>\n",
       "      <td>91</td>\n",
       "      <td>63</td>\n",
       "      <td>73</td>\n",
       "      <td>154</td>\n",
       "      <td>0.5</td>\n",
       "      <td>14.3</td>\n",
       "      <td>80</td>\n",
       "      <td>1</td>\n",
       "      <td>1</td>\n",
       "      <td>1</td>\n",
       "      <td>0</td>\n",
       "      <td>1</td>\n",
       "    </tr>\n",
       "    <tr>\n",
       "      <th>11</th>\n",
       "      <td>50</td>\n",
       "      <td>155</td>\n",
       "      <td>50</td>\n",
       "      <td>72.0</td>\n",
       "      <td>0.5</td>\n",
       "      <td>0.8</td>\n",
       "      <td>112</td>\n",
       "      <td>83</td>\n",
       "      <td>35</td>\n",
       "      <td>59</td>\n",
       "      <td>69</td>\n",
       "      <td>135</td>\n",
       "      <td>0.9</td>\n",
       "      <td>12.5</td>\n",
       "      <td>64</td>\n",
       "      <td>1</td>\n",
       "      <td>1</td>\n",
       "      <td>1</td>\n",
       "      <td>0</td>\n",
       "      <td>0</td>\n",
       "    </tr>\n",
       "    <tr>\n",
       "      <th>12</th>\n",
       "      <td>50</td>\n",
       "      <td>160</td>\n",
       "      <td>60</td>\n",
       "      <td>89.0</td>\n",
       "      <td>0.8</td>\n",
       "      <td>0.8</td>\n",
       "      <td>125</td>\n",
       "      <td>97</td>\n",
       "      <td>39</td>\n",
       "      <td>87</td>\n",
       "      <td>112</td>\n",
       "      <td>207</td>\n",
       "      <td>0.9</td>\n",
       "      <td>12.8</td>\n",
       "      <td>76</td>\n",
       "      <td>1</td>\n",
       "      <td>1</td>\n",
       "      <td>1</td>\n",
       "      <td>1</td>\n",
       "      <td>0</td>\n",
       "    </tr>\n",
       "    <tr>\n",
       "      <th>13</th>\n",
       "      <td>75</td>\n",
       "      <td>155</td>\n",
       "      <td>50</td>\n",
       "      <td>71.0</td>\n",
       "      <td>0.5</td>\n",
       "      <td>0.1</td>\n",
       "      <td>114</td>\n",
       "      <td>86</td>\n",
       "      <td>71</td>\n",
       "      <td>72</td>\n",
       "      <td>144</td>\n",
       "      <td>230</td>\n",
       "      <td>0.6</td>\n",
       "      <td>12.6</td>\n",
       "      <td>68</td>\n",
       "      <td>1</td>\n",
       "      <td>1</td>\n",
       "      <td>1</td>\n",
       "      <td>0</td>\n",
       "      <td>0</td>\n",
       "    </tr>\n",
       "    <tr>\n",
       "      <th>14</th>\n",
       "      <td>40</td>\n",
       "      <td>150</td>\n",
       "      <td>40</td>\n",
       "      <td>62.0</td>\n",
       "      <td>1.0</td>\n",
       "      <td>1.5</td>\n",
       "      <td>101</td>\n",
       "      <td>78</td>\n",
       "      <td>105</td>\n",
       "      <td>71</td>\n",
       "      <td>167</td>\n",
       "      <td>259</td>\n",
       "      <td>1.0</td>\n",
       "      <td>13.4</td>\n",
       "      <td>72</td>\n",
       "      <td>1</td>\n",
       "      <td>1</td>\n",
       "      <td>1</td>\n",
       "      <td>0</td>\n",
       "      <td>0</td>\n",
       "    </tr>\n",
       "    <tr>\n",
       "      <th>15</th>\n",
       "      <td>60</td>\n",
       "      <td>165</td>\n",
       "      <td>75</td>\n",
       "      <td>92.0</td>\n",
       "      <td>0.3</td>\n",
       "      <td>1.2</td>\n",
       "      <td>127</td>\n",
       "      <td>129</td>\n",
       "      <td>130</td>\n",
       "      <td>49</td>\n",
       "      <td>88</td>\n",
       "      <td>163</td>\n",
       "      <td>1.1</td>\n",
       "      <td>16.4</td>\n",
       "      <td>84</td>\n",
       "      <td>1</td>\n",
       "      <td>1</td>\n",
       "      <td>1</td>\n",
       "      <td>0</td>\n",
       "      <td>0</td>\n",
       "    </tr>\n",
       "    <tr>\n",
       "      <th>16</th>\n",
       "      <td>50</td>\n",
       "      <td>170</td>\n",
       "      <td>75</td>\n",
       "      <td>84.0</td>\n",
       "      <td>1.0</td>\n",
       "      <td>1.2</td>\n",
       "      <td>120</td>\n",
       "      <td>268</td>\n",
       "      <td>118</td>\n",
       "      <td>53</td>\n",
       "      <td>149</td>\n",
       "      <td>226</td>\n",
       "      <td>1.0</td>\n",
       "      <td>15.4</td>\n",
       "      <td>88</td>\n",
       "      <td>1</td>\n",
       "      <td>1</td>\n",
       "      <td>1</td>\n",
       "      <td>1</td>\n",
       "      <td>1</td>\n",
       "    </tr>\n",
       "    <tr>\n",
       "      <th>17</th>\n",
       "      <td>40</td>\n",
       "      <td>175</td>\n",
       "      <td>70</td>\n",
       "      <td>78.5</td>\n",
       "      <td>1.5</td>\n",
       "      <td>1.0</td>\n",
       "      <td>118</td>\n",
       "      <td>55</td>\n",
       "      <td>37</td>\n",
       "      <td>79</td>\n",
       "      <td>78</td>\n",
       "      <td>164</td>\n",
       "      <td>0.7</td>\n",
       "      <td>16.1</td>\n",
       "      <td>73</td>\n",
       "      <td>1</td>\n",
       "      <td>1</td>\n",
       "      <td>1</td>\n",
       "      <td>0</td>\n",
       "      <td>1</td>\n",
       "    </tr>\n",
       "    <tr>\n",
       "      <th>18</th>\n",
       "      <td>40</td>\n",
       "      <td>170</td>\n",
       "      <td>65</td>\n",
       "      <td>81.0</td>\n",
       "      <td>1.5</td>\n",
       "      <td>1.5</td>\n",
       "      <td>151</td>\n",
       "      <td>134</td>\n",
       "      <td>89</td>\n",
       "      <td>61</td>\n",
       "      <td>95</td>\n",
       "      <td>174</td>\n",
       "      <td>1.0</td>\n",
       "      <td>15.1</td>\n",
       "      <td>103</td>\n",
       "      <td>1</td>\n",
       "      <td>1</td>\n",
       "      <td>1</td>\n",
       "      <td>1</td>\n",
       "      <td>1</td>\n",
       "    </tr>\n",
       "    <tr>\n",
       "      <th>19</th>\n",
       "      <td>55</td>\n",
       "      <td>175</td>\n",
       "      <td>70</td>\n",
       "      <td>85.0</td>\n",
       "      <td>1.2</td>\n",
       "      <td>1.2</td>\n",
       "      <td>110</td>\n",
       "      <td>93</td>\n",
       "      <td>66</td>\n",
       "      <td>36</td>\n",
       "      <td>73</td>\n",
       "      <td>122</td>\n",
       "      <td>0.8</td>\n",
       "      <td>14.9</td>\n",
       "      <td>70</td>\n",
       "      <td>1</td>\n",
       "      <td>1</td>\n",
       "      <td>1</td>\n",
       "      <td>0</td>\n",
       "      <td>0</td>\n",
       "    </tr>\n",
       "  </tbody>\n",
       "</table>\n",
       "</div>"
      ],
      "text/plain": [
       "    Age  height(cm)  weight(kg)  waist(cm)  eyesight(left)  eyesight(right)  \\\n",
       "0    35         170          85       97.0             0.9              0.9   \n",
       "1    20         175         110      110.0             0.7              0.9   \n",
       "2    45         155          65       86.0             0.9              0.9   \n",
       "3    45         165          80       94.0             0.8              0.7   \n",
       "4    20         165          60       81.0             1.5              0.1   \n",
       "5    60         160          50       78.0             1.0              0.9   \n",
       "6    40         175          90       95.0             0.9              1.0   \n",
       "7    40         180          75       85.0             1.5              1.5   \n",
       "8    40         170          60       74.0             1.2              1.5   \n",
       "9    45         155          55       78.0             0.7              1.0   \n",
       "10   40         160          60       77.6             0.5              0.5   \n",
       "11   50         155          50       72.0             0.5              0.8   \n",
       "12   50         160          60       89.0             0.8              0.8   \n",
       "13   75         155          50       71.0             0.5              0.1   \n",
       "14   40         150          40       62.0             1.0              1.5   \n",
       "15   60         165          75       92.0             0.3              1.2   \n",
       "16   50         170          75       84.0             1.0              1.2   \n",
       "17   40         175          70       78.5             1.5              1.0   \n",
       "18   40         170          65       81.0             1.5              1.5   \n",
       "19   55         175          70       85.0             1.2              1.2   \n",
       "\n",
       "    systolic  fasting blood sugar  triglyceride  HDL  LDL  Cholesterol  \\\n",
       "0        118                   97           153   70  142          239   \n",
       "1        119                   88           128   71  114          211   \n",
       "2        110                   80           120   57  112          193   \n",
       "3        158                  249           366   46   91          210   \n",
       "4        109                  100           200   47   92          179   \n",
       "5        126                  114            74   98   64          177   \n",
       "6        130                   90           331   39  102          207   \n",
       "7        110                  100            62   58   99          170   \n",
       "8         89                   83            69   60  104          178   \n",
       "9        114                   96           177   41  107          184   \n",
       "10       130                   94            91   63   73          154   \n",
       "11       112                   83            35   59   69          135   \n",
       "12       125                   97            39   87  112          207   \n",
       "13       114                   86            71   72  144          230   \n",
       "14       101                   78           105   71  167          259   \n",
       "15       127                  129           130   49   88          163   \n",
       "16       120                  268           118   53  149          226   \n",
       "17       118                   55            37   79   78          164   \n",
       "18       151                  134            89   61   95          174   \n",
       "19       110                   93            66   36   73          122   \n",
       "\n",
       "    serum creatinine  hemoglobin  relaxation  Urine protein  hearing(left)  \\\n",
       "0                1.0        19.8          78              1              1   \n",
       "1                1.1        15.9          79              1              1   \n",
       "2                0.6        13.7          80              3              1   \n",
       "3                0.9        16.9          88              1              1   \n",
       "4                1.2        14.9          64              1              1   \n",
       "5                1.0        13.9          75              1              2   \n",
       "6                1.0        16.5          88              1              1   \n",
       "7                1.4        14.0          60              2              1   \n",
       "8                0.7        12.9          57              2              1   \n",
       "9                0.6        13.1          81              1              1   \n",
       "10               0.5        14.3          80              1              1   \n",
       "11               0.9        12.5          64              1              1   \n",
       "12               0.9        12.8          76              1              1   \n",
       "13               0.6        12.6          68              1              1   \n",
       "14               1.0        13.4          72              1              1   \n",
       "15               1.1        16.4          84              1              1   \n",
       "16               1.0        15.4          88              1              1   \n",
       "17               0.7        16.1          73              1              1   \n",
       "18               1.0        15.1         103              1              1   \n",
       "19               0.8        14.9          70              1              1   \n",
       "\n",
       "    hearing(right)  dental caries  smoking  \n",
       "0                1              1        1  \n",
       "1                1              1        0  \n",
       "2                1              0        0  \n",
       "3                1              0        0  \n",
       "4                1              0        0  \n",
       "5                2              0        1  \n",
       "6                1              0        0  \n",
       "7                1              1        1  \n",
       "8                1              0        0  \n",
       "9                1              0        0  \n",
       "10               1              0        1  \n",
       "11               1              0        0  \n",
       "12               1              1        0  \n",
       "13               1              0        0  \n",
       "14               1              0        0  \n",
       "15               1              0        0  \n",
       "16               1              1        1  \n",
       "17               1              0        1  \n",
       "18               1              1        1  \n",
       "19               1              0        0  "
      ]
     },
     "execution_count": 4,
     "metadata": {},
     "output_type": "execute_result"
    }
   ],
   "source": [
    "smoke_df = pd.read_csv('SmokingBaseline.csv')\n",
    "smoke_df.head(20)"
   ]
  },
  {
   "cell_type": "code",
   "execution_count": null,
   "metadata": {
    "cell_id": "b83e18ceb14548beb14f542e52129445",
    "deepnote_cell_type": "code",
    "deepnote_to_be_reexecuted": false,
    "execution_millis": 94,
    "execution_start": 1724011992036,
    "source_hash": null
   },
   "outputs": [
    {
     "data": {
      "application/vnd.deepnote.dataframe.v3+json": {
       "column_count": 20,
       "columns": [
        {
         "dtype": "int64",
         "name": "Age",
         "stats": {
          "histogram": [
           {
            "bin_end": 26.5,
            "bin_start": 20,
            "count": 3592
           },
           {
            "bin_end": 33,
            "bin_start": 26.5,
            "count": 2868
           },
           {
            "bin_end": 39.5,
            "bin_start": 33,
            "count": 3148
           },
           {
            "bin_end": 46,
            "bin_start": 39.5,
            "count": 15613
           },
           {
            "bin_end": 52.5,
            "bin_start": 46,
            "count": 3901
           },
           {
            "bin_end": 59,
            "bin_start": 52.5,
            "count": 3451
           },
           {
            "bin_end": 65.5,
            "bin_start": 59,
            "count": 5190
           },
           {
            "bin_end": 72,
            "bin_start": 65.5,
            "count": 586
           },
           {
            "bin_end": 78.5,
            "bin_start": 72,
            "count": 424
           },
           {
            "bin_end": 85,
            "bin_start": 78.5,
            "count": 211
           }
          ],
          "max": "85",
          "min": "20",
          "nan_count": 0,
          "unique_count": 14
         }
        },
        {
         "dtype": "int64",
         "name": "height(cm)",
         "stats": {
          "histogram": [
           {
            "bin_end": 136,
            "bin_start": 130,
            "count": 5
           },
           {
            "bin_end": 142,
            "bin_start": 136,
            "count": 147
           },
           {
            "bin_end": 148,
            "bin_start": 142,
            "count": 843
           },
           {
            "bin_end": 154,
            "bin_start": 148,
            "count": 3132
           },
           {
            "bin_end": 160,
            "bin_start": 154,
            "count": 5292
           },
           {
            "bin_end": 166,
            "bin_start": 160,
            "count": 13240
           },
           {
            "bin_end": 172,
            "bin_start": 166,
            "count": 7985
           },
           {
            "bin_end": 178,
            "bin_start": 172,
            "count": 5617
           },
           {
            "bin_end": 184,
            "bin_start": 178,
            "count": 2203
           },
           {
            "bin_end": 190,
            "bin_start": 184,
            "count": 520
           }
          ],
          "max": "190",
          "min": "130",
          "nan_count": 0,
          "unique_count": 13
         }
        },
        {
         "dtype": "int64",
         "name": "weight(kg)"
        },
        {
         "dtype": "float64",
         "name": "waist(cm)"
        },
        {
         "dtype": "float64",
         "name": "eyesight(left)"
        },
        {
         "dtype": "float64",
         "name": "eyesight(right)"
        },
        {
         "dtype": "int64",
         "name": "systolic"
        },
        {
         "dtype": "int64",
         "name": "fasting blood sugar"
        },
        {
         "dtype": "int64",
         "name": "triglyceride"
        },
        {
         "dtype": "int64",
         "name": "HDL"
        },
        {
         "dtype": "int64",
         "name": "LDL"
        },
        {
         "dtype": "int64",
         "name": "Cholesterol"
        },
        {
         "dtype": "float64",
         "name": "serum creatinine"
        },
        {
         "dtype": "float64",
         "name": "hemoglobin"
        },
        {
         "dtype": "int64",
         "name": "relaxation"
        },
        {
         "dtype": "int64",
         "name": "Urine protein"
        },
        {
         "dtype": "int64",
         "name": "hearing(left)"
        },
        {
         "dtype": "int64",
         "name": "hearing(right)"
        },
        {
         "dtype": "int64",
         "name": "dental caries"
        },
        {
         "dtype": "int64",
         "name": "smoking"
        },
        {
         "dtype": "int64",
         "name": "_deepnote_index_column"
        }
       ],
       "row_count": 38984,
       "rows": [
        {
         "Age": 35,
         "Cholesterol": 239,
         "HDL": 70,
         "LDL": 142,
         "Urine protein": 1,
         "_deepnote_index_column": 0,
         "dental caries": 1,
         "eyesight(left)": 0.9,
         "eyesight(right)": 0.9,
         "fasting blood sugar": 97,
         "hearing(left)": 1,
         "hearing(right)": 1,
         "height(cm)": 170,
         "hemoglobin": 19.8,
         "relaxation": 78,
         "serum creatinine": 1,
         "smoking": 1,
         "systolic": 118,
         "triglyceride": 153,
         "waist(cm)": 97,
         "weight(kg)": 85
        },
        {
         "Age": 20,
         "Cholesterol": 211,
         "HDL": 71,
         "LDL": 114,
         "Urine protein": 1,
         "_deepnote_index_column": 1,
         "dental caries": 1,
         "eyesight(left)": 0.7,
         "eyesight(right)": 0.9,
         "fasting blood sugar": 88,
         "hearing(left)": 1,
         "hearing(right)": 1,
         "height(cm)": 175,
         "hemoglobin": 15.9,
         "relaxation": 79,
         "serum creatinine": 1.1,
         "smoking": 0,
         "systolic": 119,
         "triglyceride": 128,
         "waist(cm)": 110,
         "weight(kg)": 110
        },
        {
         "Age": 45,
         "Cholesterol": 193,
         "HDL": 57,
         "LDL": 112,
         "Urine protein": 3,
         "_deepnote_index_column": 2,
         "dental caries": 0,
         "eyesight(left)": 0.9,
         "eyesight(right)": 0.9,
         "fasting blood sugar": 80,
         "hearing(left)": 1,
         "hearing(right)": 1,
         "height(cm)": 155,
         "hemoglobin": 13.7,
         "relaxation": 80,
         "serum creatinine": 0.6,
         "smoking": 0,
         "systolic": 110,
         "triglyceride": 120,
         "waist(cm)": 86,
         "weight(kg)": 65
        },
        {
         "Age": 45,
         "Cholesterol": 210,
         "HDL": 46,
         "LDL": 91,
         "Urine protein": 1,
         "_deepnote_index_column": 3,
         "dental caries": 0,
         "eyesight(left)": 0.8,
         "eyesight(right)": 0.7,
         "fasting blood sugar": 249,
         "hearing(left)": 1,
         "hearing(right)": 1,
         "height(cm)": 165,
         "hemoglobin": 16.9,
         "relaxation": 88,
         "serum creatinine": 0.9,
         "smoking": 0,
         "systolic": 158,
         "triglyceride": 366,
         "waist(cm)": 94,
         "weight(kg)": 80
        },
        {
         "Age": 20,
         "Cholesterol": 179,
         "HDL": 47,
         "LDL": 92,
         "Urine protein": 1,
         "_deepnote_index_column": 4,
         "dental caries": 0,
         "eyesight(left)": 1.5,
         "eyesight(right)": 0.1,
         "fasting blood sugar": 100,
         "hearing(left)": 1,
         "hearing(right)": 1,
         "height(cm)": 165,
         "hemoglobin": 14.9,
         "relaxation": 64,
         "serum creatinine": 1.2,
         "smoking": 0,
         "systolic": 109,
         "triglyceride": 200,
         "waist(cm)": 81,
         "weight(kg)": 60
        },
        {
         "Age": 60,
         "Cholesterol": 177,
         "HDL": 98,
         "LDL": 64,
         "Urine protein": 1,
         "_deepnote_index_column": 5,
         "dental caries": 0,
         "eyesight(left)": 1,
         "eyesight(right)": 0.9,
         "fasting blood sugar": 114,
         "hearing(left)": 2,
         "hearing(right)": 2,
         "height(cm)": 160,
         "hemoglobin": 13.9,
         "relaxation": 75,
         "serum creatinine": 1,
         "smoking": 1,
         "systolic": 126,
         "triglyceride": 74,
         "waist(cm)": 78,
         "weight(kg)": 50
        },
        {
         "Age": 40,
         "Cholesterol": 207,
         "HDL": 39,
         "LDL": 102,
         "Urine protein": 1,
         "_deepnote_index_column": 6,
         "dental caries": 0,
         "eyesight(left)": 0.9,
         "eyesight(right)": 1,
         "fasting blood sugar": 90,
         "hearing(left)": 1,
         "hearing(right)": 1,
         "height(cm)": 175,
         "hemoglobin": 16.5,
         "relaxation": 88,
         "serum creatinine": 1,
         "smoking": 0,
         "systolic": 130,
         "triglyceride": 331,
         "waist(cm)": 95,
         "weight(kg)": 90
        },
        {
         "Age": 40,
         "Cholesterol": 170,
         "HDL": 58,
         "LDL": 99,
         "Urine protein": 2,
         "_deepnote_index_column": 7,
         "dental caries": 1,
         "eyesight(left)": 1.5,
         "eyesight(right)": 1.5,
         "fasting blood sugar": 100,
         "hearing(left)": 1,
         "hearing(right)": 1,
         "height(cm)": 180,
         "hemoglobin": 14,
         "relaxation": 60,
         "serum creatinine": 1.4,
         "smoking": 1,
         "systolic": 110,
         "triglyceride": 62,
         "waist(cm)": 85,
         "weight(kg)": 75
        },
        {
         "Age": 40,
         "Cholesterol": 178,
         "HDL": 60,
         "LDL": 104,
         "Urine protein": 2,
         "_deepnote_index_column": 8,
         "dental caries": 0,
         "eyesight(left)": 1.2,
         "eyesight(right)": 1.5,
         "fasting blood sugar": 83,
         "hearing(left)": 1,
         "hearing(right)": 1,
         "height(cm)": 170,
         "hemoglobin": 12.9,
         "relaxation": 57,
         "serum creatinine": 0.7,
         "smoking": 0,
         "systolic": 89,
         "triglyceride": 69,
         "waist(cm)": 74,
         "weight(kg)": 60
        },
        {
         "Age": 45,
         "Cholesterol": 184,
         "HDL": 41,
         "LDL": 107,
         "Urine protein": 1,
         "_deepnote_index_column": 9,
         "dental caries": 0,
         "eyesight(left)": 0.7,
         "eyesight(right)": 1,
         "fasting blood sugar": 96,
         "hearing(left)": 1,
         "hearing(right)": 1,
         "height(cm)": 155,
         "hemoglobin": 13.1,
         "relaxation": 81,
         "serum creatinine": 0.6,
         "smoking": 0,
         "systolic": 114,
         "triglyceride": 177,
         "waist(cm)": 78,
         "weight(kg)": 55
        }
       ]
      },
      "text/html": [
       "<div>\n",
       "<style scoped>\n",
       "    .dataframe tbody tr th:only-of-type {\n",
       "        vertical-align: middle;\n",
       "    }\n",
       "\n",
       "    .dataframe tbody tr th {\n",
       "        vertical-align: top;\n",
       "    }\n",
       "\n",
       "    .dataframe thead th {\n",
       "        text-align: right;\n",
       "    }\n",
       "</style>\n",
       "<table border=\"1\" class=\"dataframe\">\n",
       "  <thead>\n",
       "    <tr style=\"text-align: right;\">\n",
       "      <th></th>\n",
       "      <th>Age</th>\n",
       "      <th>height(cm)</th>\n",
       "      <th>weight(kg)</th>\n",
       "      <th>waist(cm)</th>\n",
       "      <th>eyesight(left)</th>\n",
       "      <th>eyesight(right)</th>\n",
       "      <th>systolic</th>\n",
       "      <th>fasting blood sugar</th>\n",
       "      <th>triglyceride</th>\n",
       "      <th>HDL</th>\n",
       "      <th>LDL</th>\n",
       "      <th>Cholesterol</th>\n",
       "      <th>serum creatinine</th>\n",
       "      <th>hemoglobin</th>\n",
       "      <th>relaxation</th>\n",
       "      <th>Urine protein</th>\n",
       "      <th>hearing(left)</th>\n",
       "      <th>hearing(right)</th>\n",
       "      <th>dental caries</th>\n",
       "      <th>smoking</th>\n",
       "    </tr>\n",
       "  </thead>\n",
       "  <tbody>\n",
       "    <tr>\n",
       "      <th>0</th>\n",
       "      <td>35</td>\n",
       "      <td>170</td>\n",
       "      <td>85</td>\n",
       "      <td>97.0</td>\n",
       "      <td>0.9</td>\n",
       "      <td>0.9</td>\n",
       "      <td>118</td>\n",
       "      <td>97</td>\n",
       "      <td>153</td>\n",
       "      <td>70</td>\n",
       "      <td>142</td>\n",
       "      <td>239</td>\n",
       "      <td>1.0</td>\n",
       "      <td>19.8</td>\n",
       "      <td>78</td>\n",
       "      <td>1</td>\n",
       "      <td>1</td>\n",
       "      <td>1</td>\n",
       "      <td>1</td>\n",
       "      <td>1</td>\n",
       "    </tr>\n",
       "    <tr>\n",
       "      <th>1</th>\n",
       "      <td>20</td>\n",
       "      <td>175</td>\n",
       "      <td>110</td>\n",
       "      <td>110.0</td>\n",
       "      <td>0.7</td>\n",
       "      <td>0.9</td>\n",
       "      <td>119</td>\n",
       "      <td>88</td>\n",
       "      <td>128</td>\n",
       "      <td>71</td>\n",
       "      <td>114</td>\n",
       "      <td>211</td>\n",
       "      <td>1.1</td>\n",
       "      <td>15.9</td>\n",
       "      <td>79</td>\n",
       "      <td>1</td>\n",
       "      <td>1</td>\n",
       "      <td>1</td>\n",
       "      <td>1</td>\n",
       "      <td>0</td>\n",
       "    </tr>\n",
       "    <tr>\n",
       "      <th>2</th>\n",
       "      <td>45</td>\n",
       "      <td>155</td>\n",
       "      <td>65</td>\n",
       "      <td>86.0</td>\n",
       "      <td>0.9</td>\n",
       "      <td>0.9</td>\n",
       "      <td>110</td>\n",
       "      <td>80</td>\n",
       "      <td>120</td>\n",
       "      <td>57</td>\n",
       "      <td>112</td>\n",
       "      <td>193</td>\n",
       "      <td>0.6</td>\n",
       "      <td>13.7</td>\n",
       "      <td>80</td>\n",
       "      <td>3</td>\n",
       "      <td>1</td>\n",
       "      <td>1</td>\n",
       "      <td>0</td>\n",
       "      <td>0</td>\n",
       "    </tr>\n",
       "    <tr>\n",
       "      <th>3</th>\n",
       "      <td>45</td>\n",
       "      <td>165</td>\n",
       "      <td>80</td>\n",
       "      <td>94.0</td>\n",
       "      <td>0.8</td>\n",
       "      <td>0.7</td>\n",
       "      <td>158</td>\n",
       "      <td>249</td>\n",
       "      <td>366</td>\n",
       "      <td>46</td>\n",
       "      <td>91</td>\n",
       "      <td>210</td>\n",
       "      <td>0.9</td>\n",
       "      <td>16.9</td>\n",
       "      <td>88</td>\n",
       "      <td>1</td>\n",
       "      <td>1</td>\n",
       "      <td>1</td>\n",
       "      <td>0</td>\n",
       "      <td>0</td>\n",
       "    </tr>\n",
       "    <tr>\n",
       "      <th>4</th>\n",
       "      <td>20</td>\n",
       "      <td>165</td>\n",
       "      <td>60</td>\n",
       "      <td>81.0</td>\n",
       "      <td>1.5</td>\n",
       "      <td>0.1</td>\n",
       "      <td>109</td>\n",
       "      <td>100</td>\n",
       "      <td>200</td>\n",
       "      <td>47</td>\n",
       "      <td>92</td>\n",
       "      <td>179</td>\n",
       "      <td>1.2</td>\n",
       "      <td>14.9</td>\n",
       "      <td>64</td>\n",
       "      <td>1</td>\n",
       "      <td>1</td>\n",
       "      <td>1</td>\n",
       "      <td>0</td>\n",
       "      <td>0</td>\n",
       "    </tr>\n",
       "    <tr>\n",
       "      <th>...</th>\n",
       "      <td>...</td>\n",
       "      <td>...</td>\n",
       "      <td>...</td>\n",
       "      <td>...</td>\n",
       "      <td>...</td>\n",
       "      <td>...</td>\n",
       "      <td>...</td>\n",
       "      <td>...</td>\n",
       "      <td>...</td>\n",
       "      <td>...</td>\n",
       "      <td>...</td>\n",
       "      <td>...</td>\n",
       "      <td>...</td>\n",
       "      <td>...</td>\n",
       "      <td>...</td>\n",
       "      <td>...</td>\n",
       "      <td>...</td>\n",
       "      <td>...</td>\n",
       "      <td>...</td>\n",
       "      <td>...</td>\n",
       "    </tr>\n",
       "    <tr>\n",
       "      <th>38979</th>\n",
       "      <td>40</td>\n",
       "      <td>165</td>\n",
       "      <td>60</td>\n",
       "      <td>80.0</td>\n",
       "      <td>0.4</td>\n",
       "      <td>0.6</td>\n",
       "      <td>107</td>\n",
       "      <td>93</td>\n",
       "      <td>53</td>\n",
       "      <td>61</td>\n",
       "      <td>72</td>\n",
       "      <td>144</td>\n",
       "      <td>0.5</td>\n",
       "      <td>12.3</td>\n",
       "      <td>60</td>\n",
       "      <td>1</td>\n",
       "      <td>1</td>\n",
       "      <td>1</td>\n",
       "      <td>1</td>\n",
       "      <td>0</td>\n",
       "    </tr>\n",
       "    <tr>\n",
       "      <th>38980</th>\n",
       "      <td>45</td>\n",
       "      <td>155</td>\n",
       "      <td>55</td>\n",
       "      <td>75.0</td>\n",
       "      <td>1.5</td>\n",
       "      <td>1.2</td>\n",
       "      <td>126</td>\n",
       "      <td>91</td>\n",
       "      <td>100</td>\n",
       "      <td>76</td>\n",
       "      <td>131</td>\n",
       "      <td>227</td>\n",
       "      <td>0.6</td>\n",
       "      <td>12.5</td>\n",
       "      <td>72</td>\n",
       "      <td>2</td>\n",
       "      <td>1</td>\n",
       "      <td>1</td>\n",
       "      <td>0</td>\n",
       "      <td>0</td>\n",
       "    </tr>\n",
       "    <tr>\n",
       "      <th>38981</th>\n",
       "      <td>40</td>\n",
       "      <td>170</td>\n",
       "      <td>105</td>\n",
       "      <td>124.0</td>\n",
       "      <td>0.6</td>\n",
       "      <td>0.5</td>\n",
       "      <td>141</td>\n",
       "      <td>115</td>\n",
       "      <td>196</td>\n",
       "      <td>48</td>\n",
       "      <td>138</td>\n",
       "      <td>225</td>\n",
       "      <td>0.8</td>\n",
       "      <td>17.1</td>\n",
       "      <td>85</td>\n",
       "      <td>1</td>\n",
       "      <td>1</td>\n",
       "      <td>1</td>\n",
       "      <td>1</td>\n",
       "      <td>1</td>\n",
       "    </tr>\n",
       "    <tr>\n",
       "      <th>38982</th>\n",
       "      <td>40</td>\n",
       "      <td>160</td>\n",
       "      <td>55</td>\n",
       "      <td>75.0</td>\n",
       "      <td>1.5</td>\n",
       "      <td>1.5</td>\n",
       "      <td>95</td>\n",
       "      <td>102</td>\n",
       "      <td>48</td>\n",
       "      <td>79</td>\n",
       "      <td>116</td>\n",
       "      <td>206</td>\n",
       "      <td>0.6</td>\n",
       "      <td>12.0</td>\n",
       "      <td>69</td>\n",
       "      <td>1</td>\n",
       "      <td>1</td>\n",
       "      <td>1</td>\n",
       "      <td>0</td>\n",
       "      <td>1</td>\n",
       "    </tr>\n",
       "    <tr>\n",
       "      <th>38983</th>\n",
       "      <td>55</td>\n",
       "      <td>175</td>\n",
       "      <td>60</td>\n",
       "      <td>81.1</td>\n",
       "      <td>1.0</td>\n",
       "      <td>1.0</td>\n",
       "      <td>114</td>\n",
       "      <td>86</td>\n",
       "      <td>57</td>\n",
       "      <td>64</td>\n",
       "      <td>137</td>\n",
       "      <td>212</td>\n",
       "      <td>1.0</td>\n",
       "      <td>13.9</td>\n",
       "      <td>66</td>\n",
       "      <td>1</td>\n",
       "      <td>1</td>\n",
       "      <td>1</td>\n",
       "      <td>0</td>\n",
       "      <td>1</td>\n",
       "    </tr>\n",
       "  </tbody>\n",
       "</table>\n",
       "<p>38984 rows × 20 columns</p>\n",
       "</div>"
      ],
      "text/plain": [
       "       Age  height(cm)  weight(kg)  waist(cm)  eyesight(left)  \\\n",
       "0       35         170          85       97.0             0.9   \n",
       "1       20         175         110      110.0             0.7   \n",
       "2       45         155          65       86.0             0.9   \n",
       "3       45         165          80       94.0             0.8   \n",
       "4       20         165          60       81.0             1.5   \n",
       "...    ...         ...         ...        ...             ...   \n",
       "38979   40         165          60       80.0             0.4   \n",
       "38980   45         155          55       75.0             1.5   \n",
       "38981   40         170         105      124.0             0.6   \n",
       "38982   40         160          55       75.0             1.5   \n",
       "38983   55         175          60       81.1             1.0   \n",
       "\n",
       "       eyesight(right)  systolic  fasting blood sugar  triglyceride  HDL  LDL  \\\n",
       "0                  0.9       118                   97           153   70  142   \n",
       "1                  0.9       119                   88           128   71  114   \n",
       "2                  0.9       110                   80           120   57  112   \n",
       "3                  0.7       158                  249           366   46   91   \n",
       "4                  0.1       109                  100           200   47   92   \n",
       "...                ...       ...                  ...           ...  ...  ...   \n",
       "38979              0.6       107                   93            53   61   72   \n",
       "38980              1.2       126                   91           100   76  131   \n",
       "38981              0.5       141                  115           196   48  138   \n",
       "38982              1.5        95                  102            48   79  116   \n",
       "38983              1.0       114                   86            57   64  137   \n",
       "\n",
       "       Cholesterol  serum creatinine  hemoglobin  relaxation  Urine protein  \\\n",
       "0              239               1.0        19.8          78              1   \n",
       "1              211               1.1        15.9          79              1   \n",
       "2              193               0.6        13.7          80              3   \n",
       "3              210               0.9        16.9          88              1   \n",
       "4              179               1.2        14.9          64              1   \n",
       "...            ...               ...         ...         ...            ...   \n",
       "38979          144               0.5        12.3          60              1   \n",
       "38980          227               0.6        12.5          72              2   \n",
       "38981          225               0.8        17.1          85              1   \n",
       "38982          206               0.6        12.0          69              1   \n",
       "38983          212               1.0        13.9          66              1   \n",
       "\n",
       "       hearing(left)  hearing(right)  dental caries  smoking  \n",
       "0                  1               1              1        1  \n",
       "1                  1               1              1        0  \n",
       "2                  1               1              0        0  \n",
       "3                  1               1              0        0  \n",
       "4                  1               1              0        0  \n",
       "...              ...             ...            ...      ...  \n",
       "38979              1               1              1        0  \n",
       "38980              1               1              0        0  \n",
       "38981              1               1              1        1  \n",
       "38982              1               1              0        1  \n",
       "38983              1               1              0        1  \n",
       "\n",
       "[38984 rows x 20 columns]"
      ]
     },
     "execution_count": 4,
     "metadata": {},
     "output_type": "execute_result"
    }
   ],
   "source": [
    "smoke_df"
   ]
  },
  {
   "cell_type": "code",
   "execution_count": null,
   "metadata": {
    "cell_id": "a1e044a8da41467a931dbc7b1a6686dc",
    "deepnote_cell_type": "code",
    "deepnote_to_be_reexecuted": false,
    "execution_millis": 75,
    "execution_start": 1724012068105,
    "source_hash": null
   },
   "outputs": [
    {
     "name": "stdout",
     "output_type": "stream",
     "text": [
      "<class 'pandas.core.frame.DataFrame'>\n",
      "RangeIndex: 38984 entries, 0 to 38983\n",
      "Data columns (total 20 columns):\n",
      " #   Column               Non-Null Count  Dtype  \n",
      "---  ------               --------------  -----  \n",
      " 0   Age                  38984 non-null  int64  \n",
      " 1   height(cm)           38984 non-null  int64  \n",
      " 2   weight(kg)           38984 non-null  int64  \n",
      " 3   waist(cm)            38984 non-null  float64\n",
      " 4   eyesight(left)       38984 non-null  float64\n",
      " 5   eyesight(right)      38984 non-null  float64\n",
      " 6   systolic             38984 non-null  int64  \n",
      " 7   fasting blood sugar  38984 non-null  int64  \n",
      " 8   triglyceride         38984 non-null  int64  \n",
      " 9   HDL                  38984 non-null  int64  \n",
      " 10  LDL                  38984 non-null  int64  \n",
      " 11  Cholesterol          38984 non-null  int64  \n",
      " 12  serum creatinine     38984 non-null  float64\n",
      " 13  hemoglobin           38984 non-null  float64\n",
      " 14  relaxation           38984 non-null  int64  \n",
      " 15  Urine protein        38984 non-null  int64  \n",
      " 16  hearing(left)        38984 non-null  int64  \n",
      " 17  hearing(right)       38984 non-null  int64  \n",
      " 18  dental caries        38984 non-null  int64  \n",
      " 19  smoking              38984 non-null  int64  \n",
      "dtypes: float64(5), int64(15)\n",
      "memory usage: 5.9 MB\n"
     ]
    }
   ],
   "source": [
    "smoke_df.info()"
   ]
  },
  {
   "cell_type": "code",
   "execution_count": null,
   "metadata": {
    "cell_id": "78c925e25d9e41ffa15912b87c233c13",
    "deepnote_cell_type": "code",
    "deepnote_to_be_reexecuted": false,
    "execution_millis": 62,
    "execution_start": 1724012995821,
    "source_hash": null
   },
   "outputs": [
    {
     "data": {
      "application/vnd.deepnote.dataframe.v3+json": {
       "column_count": 20,
       "columns": [
        {
         "dtype": "int64",
         "name": "patient_age",
         "stats": {
          "histogram": [
           {
            "bin_end": 22.5,
            "bin_start": 20,
            "count": 2
           },
           {
            "bin_end": 25,
            "bin_start": 22.5,
            "count": 0
           },
           {
            "bin_end": 27.5,
            "bin_start": 25,
            "count": 0
           },
           {
            "bin_end": 30,
            "bin_start": 27.5,
            "count": 0
           },
           {
            "bin_end": 32.5,
            "bin_start": 30,
            "count": 0
           },
           {
            "bin_end": 35,
            "bin_start": 32.5,
            "count": 0
           },
           {
            "bin_end": 37.5,
            "bin_start": 35,
            "count": 1
           },
           {
            "bin_end": 40,
            "bin_start": 37.5,
            "count": 0
           },
           {
            "bin_end": 42.5,
            "bin_start": 40,
            "count": 0
           },
           {
            "bin_end": 45,
            "bin_start": 42.5,
            "count": 2
           }
          ],
          "max": "45",
          "min": "20",
          "nan_count": 0,
          "unique_count": 3
         }
        },
        {
         "dtype": "int64",
         "name": "height(cm)",
         "stats": {
          "histogram": [
           {
            "bin_end": 157,
            "bin_start": 155,
            "count": 1
           },
           {
            "bin_end": 159,
            "bin_start": 157,
            "count": 0
           },
           {
            "bin_end": 161,
            "bin_start": 159,
            "count": 0
           },
           {
            "bin_end": 163,
            "bin_start": 161,
            "count": 0
           },
           {
            "bin_end": 165,
            "bin_start": 163,
            "count": 0
           },
           {
            "bin_end": 167,
            "bin_start": 165,
            "count": 2
           },
           {
            "bin_end": 169,
            "bin_start": 167,
            "count": 0
           },
           {
            "bin_end": 171,
            "bin_start": 169,
            "count": 1
           },
           {
            "bin_end": 173,
            "bin_start": 171,
            "count": 0
           },
           {
            "bin_end": 175,
            "bin_start": 173,
            "count": 1
           }
          ],
          "max": "175",
          "min": "155",
          "nan_count": 0,
          "unique_count": 4
         }
        },
        {
         "dtype": "int64",
         "name": "weight(kg)",
         "stats": {
          "histogram": [
           {
            "bin_end": 65,
            "bin_start": 60,
            "count": 1
           },
           {
            "bin_end": 70,
            "bin_start": 65,
            "count": 1
           },
           {
            "bin_end": 75,
            "bin_start": 70,
            "count": 0
           },
           {
            "bin_end": 80,
            "bin_start": 75,
            "count": 0
           },
           {
            "bin_end": 85,
            "bin_start": 80,
            "count": 1
           },
           {
            "bin_end": 90,
            "bin_start": 85,
            "count": 1
           },
           {
            "bin_end": 95,
            "bin_start": 90,
            "count": 0
           },
           {
            "bin_end": 100,
            "bin_start": 95,
            "count": 0
           },
           {
            "bin_end": 105,
            "bin_start": 100,
            "count": 0
           },
           {
            "bin_end": 110,
            "bin_start": 105,
            "count": 1
           }
          ],
          "max": "110",
          "min": "60",
          "nan_count": 0,
          "unique_count": 5
         }
        },
        {
         "dtype": "float64",
         "name": "waist(cm)",
         "stats": {
          "histogram": [
           {
            "bin_end": 83.9,
            "bin_start": 81,
            "count": 1
           },
           {
            "bin_end": 86.8,
            "bin_start": 83.9,
            "count": 1
           },
           {
            "bin_end": 89.7,
            "bin_start": 86.8,
            "count": 0
           },
           {
            "bin_end": 92.6,
            "bin_start": 89.7,
            "count": 0
           },
           {
            "bin_end": 95.5,
            "bin_start": 92.6,
            "count": 1
           },
           {
            "bin_end": 98.4,
            "bin_start": 95.5,
            "count": 1
           },
           {
            "bin_end": 101.3,
            "bin_start": 98.4,
            "count": 0
           },
           {
            "bin_end": 104.2,
            "bin_start": 101.3,
            "count": 0
           },
           {
            "bin_end": 107.1,
            "bin_start": 104.2,
            "count": 0
           },
           {
            "bin_end": 110,
            "bin_start": 107.1,
            "count": 1
           }
          ],
          "max": "110.0",
          "min": "81.0",
          "nan_count": 0,
          "unique_count": 5
         }
        },
        {
         "dtype": "float64",
         "name": "eyesight(left)",
         "stats": {
          "histogram": [
           {
            "bin_end": 0.7799999999999999,
            "bin_start": 0.7,
            "count": 1
           },
           {
            "bin_end": 0.86,
            "bin_start": 0.7799999999999999,
            "count": 1
           },
           {
            "bin_end": 0.94,
            "bin_start": 0.86,
            "count": 2
           },
           {
            "bin_end": 1.02,
            "bin_start": 0.94,
            "count": 0
           },
           {
            "bin_end": 1.1,
            "bin_start": 1.02,
            "count": 0
           },
           {
            "bin_end": 1.18,
            "bin_start": 1.1,
            "count": 0
           },
           {
            "bin_end": 1.26,
            "bin_start": 1.18,
            "count": 0
           },
           {
            "bin_end": 1.3399999999999999,
            "bin_start": 1.26,
            "count": 0
           },
           {
            "bin_end": 1.42,
            "bin_start": 1.3399999999999999,
            "count": 0
           },
           {
            "bin_end": 1.5,
            "bin_start": 1.42,
            "count": 1
           }
          ],
          "max": "1.5",
          "min": "0.7",
          "nan_count": 0,
          "unique_count": 4
         }
        },
        {
         "dtype": "float64",
         "name": "eyesight(right)",
         "stats": {
          "histogram": [
           {
            "bin_end": 0.18,
            "bin_start": 0.1,
            "count": 1
           },
           {
            "bin_end": 0.26,
            "bin_start": 0.18,
            "count": 0
           },
           {
            "bin_end": 0.33999999999999997,
            "bin_start": 0.26,
            "count": 0
           },
           {
            "bin_end": 0.42000000000000004,
            "bin_start": 0.33999999999999997,
            "count": 0
           },
           {
            "bin_end": 0.5,
            "bin_start": 0.42000000000000004,
            "count": 0
           },
           {
            "bin_end": 0.58,
            "bin_start": 0.5,
            "count": 0
           },
           {
            "bin_end": 0.66,
            "bin_start": 0.58,
            "count": 0
           },
           {
            "bin_end": 0.74,
            "bin_start": 0.66,
            "count": 1
           },
           {
            "bin_end": 0.82,
            "bin_start": 0.74,
            "count": 0
           },
           {
            "bin_end": 0.9,
            "bin_start": 0.82,
            "count": 3
           }
          ],
          "max": "0.9",
          "min": "0.1",
          "nan_count": 0,
          "unique_count": 3
         }
        },
        {
         "dtype": "int64",
         "name": "systolic",
         "stats": {
          "histogram": [
           {
            "bin_end": 113.9,
            "bin_start": 109,
            "count": 2
           },
           {
            "bin_end": 118.8,
            "bin_start": 113.9,
            "count": 1
           },
           {
            "bin_end": 123.7,
            "bin_start": 118.8,
            "count": 1
           },
           {
            "bin_end": 128.6,
            "bin_start": 123.7,
            "count": 0
           },
           {
            "bin_end": 133.5,
            "bin_start": 128.6,
            "count": 0
           },
           {
            "bin_end": 138.4,
            "bin_start": 133.5,
            "count": 0
           },
           {
            "bin_end": 143.3,
            "bin_start": 138.4,
            "count": 0
           },
           {
            "bin_end": 148.2,
            "bin_start": 143.3,
            "count": 0
           },
           {
            "bin_end": 153.1,
            "bin_start": 148.2,
            "count": 0
           },
           {
            "bin_end": 158,
            "bin_start": 153.1,
            "count": 1
           }
          ],
          "max": "158",
          "min": "109",
          "nan_count": 0,
          "unique_count": 5
         }
        },
        {
         "dtype": "int64",
         "name": "fasting blood sugar",
         "stats": {
          "histogram": [
           {
            "bin_end": 96.9,
            "bin_start": 80,
            "count": 2
           },
           {
            "bin_end": 113.8,
            "bin_start": 96.9,
            "count": 2
           },
           {
            "bin_end": 130.7,
            "bin_start": 113.8,
            "count": 0
           },
           {
            "bin_end": 147.6,
            "bin_start": 130.7,
            "count": 0
           },
           {
            "bin_end": 164.5,
            "bin_start": 147.6,
            "count": 0
           },
           {
            "bin_end": 181.39999999999998,
            "bin_start": 164.5,
            "count": 0
           },
           {
            "bin_end": 198.29999999999998,
            "bin_start": 181.39999999999998,
            "count": 0
           },
           {
            "bin_end": 215.2,
            "bin_start": 198.29999999999998,
            "count": 0
           },
           {
            "bin_end": 232.1,
            "bin_start": 215.2,
            "count": 0
           },
           {
            "bin_end": 249,
            "bin_start": 232.1,
            "count": 1
           }
          ],
          "max": "249",
          "min": "80",
          "nan_count": 0,
          "unique_count": 5
         }
        },
        {
         "dtype": "int64",
         "name": "triglyceride",
         "stats": {
          "histogram": [
           {
            "bin_end": 144.6,
            "bin_start": 120,
            "count": 2
           },
           {
            "bin_end": 169.2,
            "bin_start": 144.6,
            "count": 1
           },
           {
            "bin_end": 193.8,
            "bin_start": 169.2,
            "count": 0
           },
           {
            "bin_end": 218.4,
            "bin_start": 193.8,
            "count": 1
           },
           {
            "bin_end": 243,
            "bin_start": 218.4,
            "count": 0
           },
           {
            "bin_end": 267.6,
            "bin_start": 243,
            "count": 0
           },
           {
            "bin_end": 292.20000000000005,
            "bin_start": 267.6,
            "count": 0
           },
           {
            "bin_end": 316.8,
            "bin_start": 292.20000000000005,
            "count": 0
           },
           {
            "bin_end": 341.4,
            "bin_start": 316.8,
            "count": 0
           },
           {
            "bin_end": 366,
            "bin_start": 341.4,
            "count": 1
           }
          ],
          "max": "366",
          "min": "120",
          "nan_count": 0,
          "unique_count": 5
         }
        },
        {
         "dtype": "int64",
         "name": "HDL",
         "stats": {
          "histogram": [
           {
            "bin_end": 48.5,
            "bin_start": 46,
            "count": 2
           },
           {
            "bin_end": 51,
            "bin_start": 48.5,
            "count": 0
           },
           {
            "bin_end": 53.5,
            "bin_start": 51,
            "count": 0
           },
           {
            "bin_end": 56,
            "bin_start": 53.5,
            "count": 0
           },
           {
            "bin_end": 58.5,
            "bin_start": 56,
            "count": 1
           },
           {
            "bin_end": 61,
            "bin_start": 58.5,
            "count": 0
           },
           {
            "bin_end": 63.5,
            "bin_start": 61,
            "count": 0
           },
           {
            "bin_end": 66,
            "bin_start": 63.5,
            "count": 0
           },
           {
            "bin_end": 68.5,
            "bin_start": 66,
            "count": 0
           },
           {
            "bin_end": 71,
            "bin_start": 68.5,
            "count": 2
           }
          ],
          "max": "71",
          "min": "46",
          "nan_count": 0,
          "unique_count": 5
         }
        },
        {
         "dtype": "int64",
         "name": "LDL",
         "stats": {
          "histogram": [
           {
            "bin_end": 96.1,
            "bin_start": 91,
            "count": 2
           },
           {
            "bin_end": 101.2,
            "bin_start": 96.1,
            "count": 0
           },
           {
            "bin_end": 106.3,
            "bin_start": 101.2,
            "count": 0
           },
           {
            "bin_end": 111.4,
            "bin_start": 106.3,
            "count": 0
           },
           {
            "bin_end": 116.5,
            "bin_start": 111.4,
            "count": 2
           },
           {
            "bin_end": 121.6,
            "bin_start": 116.5,
            "count": 0
           },
           {
            "bin_end": 126.69999999999999,
            "bin_start": 121.6,
            "count": 0
           },
           {
            "bin_end": 131.8,
            "bin_start": 126.69999999999999,
            "count": 0
           },
           {
            "bin_end": 136.9,
            "bin_start": 131.8,
            "count": 0
           },
           {
            "bin_end": 142,
            "bin_start": 136.9,
            "count": 1
           }
          ],
          "max": "142",
          "min": "91",
          "nan_count": 0,
          "unique_count": 5
         }
        },
        {
         "dtype": "int64",
         "name": "Cholesterol",
         "stats": {
          "histogram": [
           {
            "bin_end": 185,
            "bin_start": 179,
            "count": 1
           },
           {
            "bin_end": 191,
            "bin_start": 185,
            "count": 0
           },
           {
            "bin_end": 197,
            "bin_start": 191,
            "count": 1
           },
           {
            "bin_end": 203,
            "bin_start": 197,
            "count": 0
           },
           {
            "bin_end": 209,
            "bin_start": 203,
            "count": 0
           },
           {
            "bin_end": 215,
            "bin_start": 209,
            "count": 2
           },
           {
            "bin_end": 221,
            "bin_start": 215,
            "count": 0
           },
           {
            "bin_end": 227,
            "bin_start": 221,
            "count": 0
           },
           {
            "bin_end": 233,
            "bin_start": 227,
            "count": 0
           },
           {
            "bin_end": 239,
            "bin_start": 233,
            "count": 1
           }
          ],
          "max": "239",
          "min": "179",
          "nan_count": 0,
          "unique_count": 5
         }
        },
        {
         "dtype": "float64",
         "name": "serum creatinine",
         "stats": {
          "histogram": [
           {
            "bin_end": 0.6599999999999999,
            "bin_start": 0.6,
            "count": 1
           },
           {
            "bin_end": 0.72,
            "bin_start": 0.6599999999999999,
            "count": 0
           },
           {
            "bin_end": 0.78,
            "bin_start": 0.72,
            "count": 0
           },
           {
            "bin_end": 0.84,
            "bin_start": 0.78,
            "count": 0
           },
           {
            "bin_end": 0.8999999999999999,
            "bin_start": 0.84,
            "count": 0
           },
           {
            "bin_end": 0.96,
            "bin_start": 0.8999999999999999,
            "count": 1
           },
           {
            "bin_end": 1.02,
            "bin_start": 0.96,
            "count": 1
           },
           {
            "bin_end": 1.08,
            "bin_start": 1.02,
            "count": 0
           },
           {
            "bin_end": 1.1400000000000001,
            "bin_start": 1.08,
            "count": 1
           },
           {
            "bin_end": 1.2,
            "bin_start": 1.1400000000000001,
            "count": 1
           }
          ],
          "max": "1.2",
          "min": "0.6",
          "nan_count": 0,
          "unique_count": 5
         }
        },
        {
         "dtype": "float64",
         "name": "hemoglobin",
         "stats": {
          "histogram": [
           {
            "bin_end": 14.309999999999999,
            "bin_start": 13.7,
            "count": 1
           },
           {
            "bin_end": 14.92,
            "bin_start": 14.309999999999999,
            "count": 1
           },
           {
            "bin_end": 15.53,
            "bin_start": 14.92,
            "count": 0
           },
           {
            "bin_end": 16.14,
            "bin_start": 15.53,
            "count": 1
           },
           {
            "bin_end": 16.75,
            "bin_start": 16.14,
            "count": 0
           },
           {
            "bin_end": 17.36,
            "bin_start": 16.75,
            "count": 1
           },
           {
            "bin_end": 17.97,
            "bin_start": 17.36,
            "count": 0
           },
           {
            "bin_end": 18.58,
            "bin_start": 17.97,
            "count": 0
           },
           {
            "bin_end": 19.19,
            "bin_start": 18.58,
            "count": 0
           },
           {
            "bin_end": 19.8,
            "bin_start": 19.19,
            "count": 1
           }
          ],
          "max": "19.8",
          "min": "13.7",
          "nan_count": 0,
          "unique_count": 5
         }
        },
        {
         "dtype": "int64",
         "name": "relaxation",
         "stats": {
          "histogram": [
           {
            "bin_end": 66.4,
            "bin_start": 64,
            "count": 1
           },
           {
            "bin_end": 68.8,
            "bin_start": 66.4,
            "count": 0
           },
           {
            "bin_end": 71.2,
            "bin_start": 68.8,
            "count": 0
           },
           {
            "bin_end": 73.6,
            "bin_start": 71.2,
            "count": 0
           },
           {
            "bin_end": 76,
            "bin_start": 73.6,
            "count": 0
           },
           {
            "bin_end": 78.4,
            "bin_start": 76,
            "count": 1
           },
           {
            "bin_end": 80.8,
            "bin_start": 78.4,
            "count": 2
           },
           {
            "bin_end": 83.2,
            "bin_start": 80.8,
            "count": 0
           },
           {
            "bin_end": 85.6,
            "bin_start": 83.2,
            "count": 0
           },
           {
            "bin_end": 88,
            "bin_start": 85.6,
            "count": 1
           }
          ],
          "max": "88",
          "min": "64",
          "nan_count": 0,
          "unique_count": 5
         }
        },
        {
         "dtype": "int64",
         "name": "Urine protein",
         "stats": {
          "histogram": [
           {
            "bin_end": 1.2,
            "bin_start": 1,
            "count": 4
           },
           {
            "bin_end": 1.4,
            "bin_start": 1.2,
            "count": 0
           },
           {
            "bin_end": 1.6,
            "bin_start": 1.4,
            "count": 0
           },
           {
            "bin_end": 1.8,
            "bin_start": 1.6,
            "count": 0
           },
           {
            "bin_end": 2,
            "bin_start": 1.8,
            "count": 0
           },
           {
            "bin_end": 2.2,
            "bin_start": 2,
            "count": 0
           },
           {
            "bin_end": 2.4000000000000004,
            "bin_start": 2.2,
            "count": 0
           },
           {
            "bin_end": 2.6,
            "bin_start": 2.4000000000000004,
            "count": 0
           },
           {
            "bin_end": 2.8,
            "bin_start": 2.6,
            "count": 0
           },
           {
            "bin_end": 3,
            "bin_start": 2.8,
            "count": 1
           }
          ],
          "max": "3",
          "min": "1",
          "nan_count": 0,
          "unique_count": 2
         }
        },
        {
         "dtype": "int64",
         "name": "hearing(left)",
         "stats": {
          "histogram": [
           {
            "bin_end": 0.6,
            "bin_start": 0.5,
            "count": 0
           },
           {
            "bin_end": 0.7,
            "bin_start": 0.6,
            "count": 0
           },
           {
            "bin_end": 0.8,
            "bin_start": 0.7,
            "count": 0
           },
           {
            "bin_end": 0.9,
            "bin_start": 0.8,
            "count": 0
           },
           {
            "bin_end": 1,
            "bin_start": 0.9,
            "count": 0
           },
           {
            "bin_end": 1.1,
            "bin_start": 1,
            "count": 5
           },
           {
            "bin_end": 1.2000000000000002,
            "bin_start": 1.1,
            "count": 0
           },
           {
            "bin_end": 1.3,
            "bin_start": 1.2000000000000002,
            "count": 0
           },
           {
            "bin_end": 1.4,
            "bin_start": 1.3,
            "count": 0
           },
           {
            "bin_end": 1.5,
            "bin_start": 1.4,
            "count": 0
           }
          ],
          "max": "1",
          "min": "1",
          "nan_count": 0,
          "unique_count": 1
         }
        },
        {
         "dtype": "int64",
         "name": "hearing(right)",
         "stats": {
          "histogram": [
           {
            "bin_end": 0.6,
            "bin_start": 0.5,
            "count": 0
           },
           {
            "bin_end": 0.7,
            "bin_start": 0.6,
            "count": 0
           },
           {
            "bin_end": 0.8,
            "bin_start": 0.7,
            "count": 0
           },
           {
            "bin_end": 0.9,
            "bin_start": 0.8,
            "count": 0
           },
           {
            "bin_end": 1,
            "bin_start": 0.9,
            "count": 0
           },
           {
            "bin_end": 1.1,
            "bin_start": 1,
            "count": 5
           },
           {
            "bin_end": 1.2000000000000002,
            "bin_start": 1.1,
            "count": 0
           },
           {
            "bin_end": 1.3,
            "bin_start": 1.2000000000000002,
            "count": 0
           },
           {
            "bin_end": 1.4,
            "bin_start": 1.3,
            "count": 0
           },
           {
            "bin_end": 1.5,
            "bin_start": 1.4,
            "count": 0
           }
          ],
          "max": "1",
          "min": "1",
          "nan_count": 0,
          "unique_count": 1
         }
        },
        {
         "dtype": "int64",
         "name": "dental caries",
         "stats": {
          "histogram": [
           {
            "bin_end": 0.1,
            "bin_start": 0,
            "count": 3
           },
           {
            "bin_end": 0.2,
            "bin_start": 0.1,
            "count": 0
           },
           {
            "bin_end": 0.30000000000000004,
            "bin_start": 0.2,
            "count": 0
           },
           {
            "bin_end": 0.4,
            "bin_start": 0.30000000000000004,
            "count": 0
           },
           {
            "bin_end": 0.5,
            "bin_start": 0.4,
            "count": 0
           },
           {
            "bin_end": 0.6000000000000001,
            "bin_start": 0.5,
            "count": 0
           },
           {
            "bin_end": 0.7000000000000001,
            "bin_start": 0.6000000000000001,
            "count": 0
           },
           {
            "bin_end": 0.8,
            "bin_start": 0.7000000000000001,
            "count": 0
           },
           {
            "bin_end": 0.9,
            "bin_start": 0.8,
            "count": 0
           },
           {
            "bin_end": 1,
            "bin_start": 0.9,
            "count": 2
           }
          ],
          "max": "1",
          "min": "0",
          "nan_count": 0,
          "unique_count": 2
         }
        },
        {
         "dtype": "int64",
         "name": "smoking",
         "stats": {
          "histogram": [
           {
            "bin_end": 0.1,
            "bin_start": 0,
            "count": 4
           },
           {
            "bin_end": 0.2,
            "bin_start": 0.1,
            "count": 0
           },
           {
            "bin_end": 0.30000000000000004,
            "bin_start": 0.2,
            "count": 0
           },
           {
            "bin_end": 0.4,
            "bin_start": 0.30000000000000004,
            "count": 0
           },
           {
            "bin_end": 0.5,
            "bin_start": 0.4,
            "count": 0
           },
           {
            "bin_end": 0.6000000000000001,
            "bin_start": 0.5,
            "count": 0
           },
           {
            "bin_end": 0.7000000000000001,
            "bin_start": 0.6000000000000001,
            "count": 0
           },
           {
            "bin_end": 0.8,
            "bin_start": 0.7000000000000001,
            "count": 0
           },
           {
            "bin_end": 0.9,
            "bin_start": 0.8,
            "count": 0
           },
           {
            "bin_end": 1,
            "bin_start": 0.9,
            "count": 1
           }
          ],
          "max": "1",
          "min": "0",
          "nan_count": 0,
          "unique_count": 2
         }
        },
        {
         "dtype": "int64",
         "name": "_deepnote_index_column"
        }
       ],
       "row_count": 5,
       "rows": [
        {
         "Cholesterol": 239,
         "HDL": 70,
         "LDL": 142,
         "Urine protein": 1,
         "_deepnote_index_column": 0,
         "dental caries": 1,
         "eyesight(left)": 0.9,
         "eyesight(right)": 0.9,
         "fasting blood sugar": 97,
         "hearing(left)": 1,
         "hearing(right)": 1,
         "height(cm)": 170,
         "hemoglobin": 19.8,
         "patient_age": 35,
         "relaxation": 78,
         "serum creatinine": 1,
         "smoking": 1,
         "systolic": 118,
         "triglyceride": 153,
         "waist(cm)": 97,
         "weight(kg)": 85
        },
        {
         "Cholesterol": 211,
         "HDL": 71,
         "LDL": 114,
         "Urine protein": 1,
         "_deepnote_index_column": 1,
         "dental caries": 1,
         "eyesight(left)": 0.7,
         "eyesight(right)": 0.9,
         "fasting blood sugar": 88,
         "hearing(left)": 1,
         "hearing(right)": 1,
         "height(cm)": 175,
         "hemoglobin": 15.9,
         "patient_age": 20,
         "relaxation": 79,
         "serum creatinine": 1.1,
         "smoking": 0,
         "systolic": 119,
         "triglyceride": 128,
         "waist(cm)": 110,
         "weight(kg)": 110
        },
        {
         "Cholesterol": 193,
         "HDL": 57,
         "LDL": 112,
         "Urine protein": 3,
         "_deepnote_index_column": 2,
         "dental caries": 0,
         "eyesight(left)": 0.9,
         "eyesight(right)": 0.9,
         "fasting blood sugar": 80,
         "hearing(left)": 1,
         "hearing(right)": 1,
         "height(cm)": 155,
         "hemoglobin": 13.7,
         "patient_age": 45,
         "relaxation": 80,
         "serum creatinine": 0.6,
         "smoking": 0,
         "systolic": 110,
         "triglyceride": 120,
         "waist(cm)": 86,
         "weight(kg)": 65
        },
        {
         "Cholesterol": 210,
         "HDL": 46,
         "LDL": 91,
         "Urine protein": 1,
         "_deepnote_index_column": 3,
         "dental caries": 0,
         "eyesight(left)": 0.8,
         "eyesight(right)": 0.7,
         "fasting blood sugar": 249,
         "hearing(left)": 1,
         "hearing(right)": 1,
         "height(cm)": 165,
         "hemoglobin": 16.9,
         "patient_age": 45,
         "relaxation": 88,
         "serum creatinine": 0.9,
         "smoking": 0,
         "systolic": 158,
         "triglyceride": 366,
         "waist(cm)": 94,
         "weight(kg)": 80
        },
        {
         "Cholesterol": 179,
         "HDL": 47,
         "LDL": 92,
         "Urine protein": 1,
         "_deepnote_index_column": 4,
         "dental caries": 0,
         "eyesight(left)": 1.5,
         "eyesight(right)": 0.1,
         "fasting blood sugar": 100,
         "hearing(left)": 1,
         "hearing(right)": 1,
         "height(cm)": 165,
         "hemoglobin": 14.9,
         "patient_age": 20,
         "relaxation": 64,
         "serum creatinine": 1.2,
         "smoking": 0,
         "systolic": 109,
         "triglyceride": 200,
         "waist(cm)": 81,
         "weight(kg)": 60
        }
       ]
      },
      "text/html": [
       "<div>\n",
       "<style scoped>\n",
       "    .dataframe tbody tr th:only-of-type {\n",
       "        vertical-align: middle;\n",
       "    }\n",
       "\n",
       "    .dataframe tbody tr th {\n",
       "        vertical-align: top;\n",
       "    }\n",
       "\n",
       "    .dataframe thead th {\n",
       "        text-align: right;\n",
       "    }\n",
       "</style>\n",
       "<table border=\"1\" class=\"dataframe\">\n",
       "  <thead>\n",
       "    <tr style=\"text-align: right;\">\n",
       "      <th></th>\n",
       "      <th>patient_age</th>\n",
       "      <th>height(cm)</th>\n",
       "      <th>weight(kg)</th>\n",
       "      <th>waist(cm)</th>\n",
       "      <th>eyesight(left)</th>\n",
       "      <th>eyesight(right)</th>\n",
       "      <th>systolic</th>\n",
       "      <th>fasting blood sugar</th>\n",
       "      <th>triglyceride</th>\n",
       "      <th>HDL</th>\n",
       "      <th>LDL</th>\n",
       "      <th>Cholesterol</th>\n",
       "      <th>serum creatinine</th>\n",
       "      <th>hemoglobin</th>\n",
       "      <th>relaxation</th>\n",
       "      <th>Urine protein</th>\n",
       "      <th>hearing(left)</th>\n",
       "      <th>hearing(right)</th>\n",
       "      <th>dental caries</th>\n",
       "      <th>smoking</th>\n",
       "    </tr>\n",
       "  </thead>\n",
       "  <tbody>\n",
       "    <tr>\n",
       "      <th>0</th>\n",
       "      <td>35</td>\n",
       "      <td>170</td>\n",
       "      <td>85</td>\n",
       "      <td>97.0</td>\n",
       "      <td>0.9</td>\n",
       "      <td>0.9</td>\n",
       "      <td>118</td>\n",
       "      <td>97</td>\n",
       "      <td>153</td>\n",
       "      <td>70</td>\n",
       "      <td>142</td>\n",
       "      <td>239</td>\n",
       "      <td>1.0</td>\n",
       "      <td>19.8</td>\n",
       "      <td>78</td>\n",
       "      <td>1</td>\n",
       "      <td>1</td>\n",
       "      <td>1</td>\n",
       "      <td>1</td>\n",
       "      <td>1</td>\n",
       "    </tr>\n",
       "    <tr>\n",
       "      <th>1</th>\n",
       "      <td>20</td>\n",
       "      <td>175</td>\n",
       "      <td>110</td>\n",
       "      <td>110.0</td>\n",
       "      <td>0.7</td>\n",
       "      <td>0.9</td>\n",
       "      <td>119</td>\n",
       "      <td>88</td>\n",
       "      <td>128</td>\n",
       "      <td>71</td>\n",
       "      <td>114</td>\n",
       "      <td>211</td>\n",
       "      <td>1.1</td>\n",
       "      <td>15.9</td>\n",
       "      <td>79</td>\n",
       "      <td>1</td>\n",
       "      <td>1</td>\n",
       "      <td>1</td>\n",
       "      <td>1</td>\n",
       "      <td>0</td>\n",
       "    </tr>\n",
       "    <tr>\n",
       "      <th>2</th>\n",
       "      <td>45</td>\n",
       "      <td>155</td>\n",
       "      <td>65</td>\n",
       "      <td>86.0</td>\n",
       "      <td>0.9</td>\n",
       "      <td>0.9</td>\n",
       "      <td>110</td>\n",
       "      <td>80</td>\n",
       "      <td>120</td>\n",
       "      <td>57</td>\n",
       "      <td>112</td>\n",
       "      <td>193</td>\n",
       "      <td>0.6</td>\n",
       "      <td>13.7</td>\n",
       "      <td>80</td>\n",
       "      <td>3</td>\n",
       "      <td>1</td>\n",
       "      <td>1</td>\n",
       "      <td>0</td>\n",
       "      <td>0</td>\n",
       "    </tr>\n",
       "    <tr>\n",
       "      <th>3</th>\n",
       "      <td>45</td>\n",
       "      <td>165</td>\n",
       "      <td>80</td>\n",
       "      <td>94.0</td>\n",
       "      <td>0.8</td>\n",
       "      <td>0.7</td>\n",
       "      <td>158</td>\n",
       "      <td>249</td>\n",
       "      <td>366</td>\n",
       "      <td>46</td>\n",
       "      <td>91</td>\n",
       "      <td>210</td>\n",
       "      <td>0.9</td>\n",
       "      <td>16.9</td>\n",
       "      <td>88</td>\n",
       "      <td>1</td>\n",
       "      <td>1</td>\n",
       "      <td>1</td>\n",
       "      <td>0</td>\n",
       "      <td>0</td>\n",
       "    </tr>\n",
       "    <tr>\n",
       "      <th>4</th>\n",
       "      <td>20</td>\n",
       "      <td>165</td>\n",
       "      <td>60</td>\n",
       "      <td>81.0</td>\n",
       "      <td>1.5</td>\n",
       "      <td>0.1</td>\n",
       "      <td>109</td>\n",
       "      <td>100</td>\n",
       "      <td>200</td>\n",
       "      <td>47</td>\n",
       "      <td>92</td>\n",
       "      <td>179</td>\n",
       "      <td>1.2</td>\n",
       "      <td>14.9</td>\n",
       "      <td>64</td>\n",
       "      <td>1</td>\n",
       "      <td>1</td>\n",
       "      <td>1</td>\n",
       "      <td>0</td>\n",
       "      <td>0</td>\n",
       "    </tr>\n",
       "  </tbody>\n",
       "</table>\n",
       "</div>"
      ],
      "text/plain": [
       "   patient_age  height(cm)  weight(kg)  waist(cm)  eyesight(left)  \\\n",
       "0           35         170          85       97.0             0.9   \n",
       "1           20         175         110      110.0             0.7   \n",
       "2           45         155          65       86.0             0.9   \n",
       "3           45         165          80       94.0             0.8   \n",
       "4           20         165          60       81.0             1.5   \n",
       "\n",
       "   eyesight(right)  systolic  fasting blood sugar  triglyceride  HDL  LDL  \\\n",
       "0              0.9       118                   97           153   70  142   \n",
       "1              0.9       119                   88           128   71  114   \n",
       "2              0.9       110                   80           120   57  112   \n",
       "3              0.7       158                  249           366   46   91   \n",
       "4              0.1       109                  100           200   47   92   \n",
       "\n",
       "   Cholesterol  serum creatinine  hemoglobin  relaxation  Urine protein  \\\n",
       "0          239               1.0        19.8          78              1   \n",
       "1          211               1.1        15.9          79              1   \n",
       "2          193               0.6        13.7          80              3   \n",
       "3          210               0.9        16.9          88              1   \n",
       "4          179               1.2        14.9          64              1   \n",
       "\n",
       "   hearing(left)  hearing(right)  dental caries  smoking  \n",
       "0              1               1              1        1  \n",
       "1              1               1              1        0  \n",
       "2              1               1              0        0  \n",
       "3              1               1              0        0  \n",
       "4              1               1              0        0  "
      ]
     },
     "execution_count": 6,
     "metadata": {},
     "output_type": "execute_result"
    }
   ],
   "source": [
    "smoke_df.rename(columns={'Age': 'patient_age'}, inplace=True)\n",
    "smoke_df.head()"
   ]
  },
  {
   "cell_type": "markdown",
   "metadata": {
    "cell_id": "6a90c4a4652749cf901ae8c150d33f51",
    "deepnote_cell_type": "text-cell-h2",
    "formattedRanges": []
   },
   "source": [
    "## Chronic Kidney Disease Prediction and Diabetes Discovery based on Patient History"
   ]
  },
  {
   "cell_type": "code",
   "execution_count": null,
   "metadata": {
    "cell_id": "b3c17e6235e04304bef9459810eab283",
    "deepnote_cell_type": "sql",
    "deepnote_sql_source": "SELECT *\nFROM 'ChronicKidneyDisease.csv'",
    "deepnote_to_be_reexecuted": false,
    "deepnote_variable_name": "df_3",
    "execution_millis": 334,
    "execution_start": 1724013535020,
    "source_hash": null,
    "sql_integration_id": "deepnote-dataframe-sql"
   },
   "outputs": [
    {
     "data": {
      "application/vnd.deepnote.dataframe.v3+json": {
       "column_count": 20,
       "columns": [
        {
         "dtype": "float64",
         "name": "Age (yrs)",
         "stats": {
          "histogram": [
           {
            "bin_end": 10.8,
            "bin_start": 2,
            "count": 10
           },
           {
            "bin_end": 19.6,
            "bin_start": 10.8,
            "count": 11
           },
           {
            "bin_end": 28.400000000000002,
            "bin_start": 19.6,
            "count": 20
           },
           {
            "bin_end": 37.2,
            "bin_start": 28.400000000000002,
            "count": 39
           },
           {
            "bin_end": 46,
            "bin_start": 37.2,
            "count": 45
           },
           {
            "bin_end": 54.800000000000004,
            "bin_start": 46,
            "count": 74
           },
           {
            "bin_end": 63.60000000000001,
            "bin_start": 54.800000000000004,
            "count": 92
           },
           {
            "bin_end": 72.4,
            "bin_start": 63.60000000000001,
            "count": 78
           },
           {
            "bin_end": 81.2,
            "bin_start": 72.4,
            "count": 28
           },
           {
            "bin_end": 90,
            "bin_start": 81.2,
            "count": 3
           }
          ],
          "max": "90.0",
          "min": "2.0",
          "nan_count": 0,
          "unique_count": 79
         }
        },
        {
         "dtype": "int64",
         "name": "Blood Pressure (mm/Hg)",
         "stats": {
          "histogram": [
           {
            "bin_end": 63,
            "bin_start": 50,
            "count": 79
           },
           {
            "bin_end": 76,
            "bin_start": 63,
            "count": 118
           },
           {
            "bin_end": 89,
            "bin_start": 76,
            "count": 118
           },
           {
            "bin_end": 102,
            "bin_start": 89,
            "count": 79
           },
           {
            "bin_end": 115,
            "bin_start": 102,
            "count": 3
           },
           {
            "bin_end": 128,
            "bin_start": 115,
            "count": 1
           },
           {
            "bin_end": 141,
            "bin_start": 128,
            "count": 1
           },
           {
            "bin_end": 154,
            "bin_start": 141,
            "count": 0
           },
           {
            "bin_end": 167,
            "bin_start": 154,
            "count": 0
           },
           {
            "bin_end": 180,
            "bin_start": 167,
            "count": 1
           }
          ],
          "max": "180",
          "min": "50",
          "nan_count": 0,
          "unique_count": 10
         }
        },
        {
         "dtype": "float64",
         "name": "Specific Gravity",
         "stats": {
          "histogram": [
           {
            "bin_end": 1.007,
            "bin_start": 1.005,
            "count": 7
           },
           {
            "bin_end": 1.009,
            "bin_start": 1.007,
            "count": 0
           },
           {
            "bin_end": 1.011,
            "bin_start": 1.009,
            "count": 89
           },
           {
            "bin_end": 1.013,
            "bin_start": 1.011,
            "count": 0
           },
           {
            "bin_end": 1.015,
            "bin_start": 1.013,
            "count": 1
           },
           {
            "bin_end": 1.017,
            "bin_start": 1.015,
            "count": 94
           },
           {
            "bin_end": 1.019,
            "bin_start": 1.017,
            "count": 0
           },
           {
            "bin_end": 1.021,
            "bin_start": 1.019,
            "count": 119
           },
           {
            "bin_end": 1.023,
            "bin_start": 1.021,
            "count": 0
           },
           {
            "bin_end": 1.025,
            "bin_start": 1.023,
            "count": 90
           }
          ],
          "max": "1.025",
          "min": "1.005",
          "nan_count": 0,
          "unique_count": 6
         }
        },
        {
         "dtype": "float64",
         "name": "Albumin",
         "stats": {
          "histogram": [
           {
            "bin_end": 0.5,
            "bin_start": 0,
            "count": 235
           },
           {
            "bin_end": 1,
            "bin_start": 0.5,
            "count": 0
           },
           {
            "bin_end": 1.5,
            "bin_start": 1,
            "count": 51
           },
           {
            "bin_end": 2,
            "bin_start": 1.5,
            "count": 0
           },
           {
            "bin_end": 2.5,
            "bin_start": 2,
            "count": 45
           },
           {
            "bin_end": 3,
            "bin_start": 2.5,
            "count": 0
           },
           {
            "bin_end": 3.5,
            "bin_start": 3,
            "count": 44
           },
           {
            "bin_end": 4,
            "bin_start": 3.5,
            "count": 0
           },
           {
            "bin_end": 4.5,
            "bin_start": 4,
            "count": 24
           },
           {
            "bin_end": 5,
            "bin_start": 4.5,
            "count": 1
           }
          ],
          "max": "5.0",
          "min": "0.0",
          "nan_count": 0,
          "unique_count": 7
         }
        },
        {
         "dtype": "int64",
         "name": "Sugar",
         "stats": {
          "histogram": [
           {
            "bin_end": 0.5,
            "bin_start": 0,
            "count": 339
           },
           {
            "bin_end": 1,
            "bin_start": 0.5,
            "count": 0
           },
           {
            "bin_end": 1.5,
            "bin_start": 1,
            "count": 13
           },
           {
            "bin_end": 2,
            "bin_start": 1.5,
            "count": 0
           },
           {
            "bin_end": 2.5,
            "bin_start": 2,
            "count": 18
           },
           {
            "bin_end": 3,
            "bin_start": 2.5,
            "count": 0
           },
           {
            "bin_end": 3.5,
            "bin_start": 3,
            "count": 14
           },
           {
            "bin_end": 4,
            "bin_start": 3.5,
            "count": 0
           },
           {
            "bin_end": 4.5,
            "bin_start": 4,
            "count": 13
           },
           {
            "bin_end": 5,
            "bin_start": 4.5,
            "count": 3
           }
          ],
          "max": "5",
          "min": "0",
          "nan_count": 0,
          "unique_count": 6
         }
        },
        {
         "dtype": "float64",
         "name": "Blood Glucose Random (mgs/dL)",
         "stats": {
          "histogram": [
           {
            "bin_end": 68.8,
            "bin_start": 22,
            "count": 1
           },
           {
            "bin_end": 115.6,
            "bin_start": 68.8,
            "count": 180
           },
           {
            "bin_end": 162.39999999999998,
            "bin_start": 115.6,
            "count": 122
           },
           {
            "bin_end": 209.2,
            "bin_start": 162.39999999999998,
            "count": 28
           },
           {
            "bin_end": 256,
            "bin_start": 209.2,
            "count": 33
           },
           {
            "bin_end": 302.79999999999995,
            "bin_start": 256,
            "count": 15
           },
           {
            "bin_end": 349.59999999999997,
            "bin_start": 302.79999999999995,
            "count": 7
           },
           {
            "bin_end": 396.4,
            "bin_start": 349.59999999999997,
            "count": 4
           },
           {
            "bin_end": 443.2,
            "bin_start": 396.4,
            "count": 6
           },
           {
            "bin_end": 490,
            "bin_start": 443.2,
            "count": 4
           }
          ],
          "max": "490.0",
          "min": "22.0",
          "nan_count": 0,
          "unique_count": 171
         }
        },
        {
         "dtype": "float64",
         "name": "Blood Urea (mgs/dL)",
         "stats": {
          "histogram": [
           {
            "bin_end": 40.45,
            "bin_start": 1.5,
            "count": 197
           },
           {
            "bin_end": 79.4,
            "bin_start": 40.45,
            "count": 125
           },
           {
            "bin_end": 118.35000000000001,
            "bin_start": 79.4,
            "count": 39
           },
           {
            "bin_end": 157.3,
            "bin_start": 118.35000000000001,
            "count": 18
           },
           {
            "bin_end": 196.25,
            "bin_start": 157.3,
            "count": 10
           },
           {
            "bin_end": 235.20000000000002,
            "bin_start": 196.25,
            "count": 7
           },
           {
            "bin_end": 274.15000000000003,
            "bin_start": 235.20000000000002,
            "count": 1
           },
           {
            "bin_end": 313.1,
            "bin_start": 274.15000000000003,
            "count": 1
           },
           {
            "bin_end": 352.05,
            "bin_start": 313.1,
            "count": 1
           },
           {
            "bin_end": 391,
            "bin_start": 352.05,
            "count": 1
           }
          ],
          "max": "391.0",
          "min": "1.5",
          "nan_count": 0,
          "unique_count": 125
         }
        },
        {
         "dtype": "float64",
         "name": "Serum Creatinine (mgs/dL)",
         "stats": {
          "histogram": [
           {
            "bin_end": 7.96,
            "bin_start": 0.4,
            "count": 371
           },
           {
            "bin_end": 15.52,
            "bin_start": 7.96,
            "count": 21
           },
           {
            "bin_end": 23.08,
            "bin_start": 15.52,
            "count": 4
           },
           {
            "bin_end": 30.639999999999997,
            "bin_start": 23.08,
            "count": 1
           },
           {
            "bin_end": 38.199999999999996,
            "bin_start": 30.639999999999997,
            "count": 1
           },
           {
            "bin_end": 45.76,
            "bin_start": 38.199999999999996,
            "count": 0
           },
           {
            "bin_end": 53.31999999999999,
            "bin_start": 45.76,
            "count": 1
           },
           {
            "bin_end": 60.879999999999995,
            "bin_start": 53.31999999999999,
            "count": 0
           },
           {
            "bin_end": 68.44,
            "bin_start": 60.879999999999995,
            "count": 0
           },
           {
            "bin_end": 76,
            "bin_start": 68.44,
            "count": 1
           }
          ],
          "max": "76.0",
          "min": "0.4",
          "nan_count": 0,
          "unique_count": 89
         }
        },
        {
         "dtype": "float64",
         "name": "Sodium (mEq/L)",
         "stats": {
          "histogram": [
           {
            "bin_end": 20.35,
            "bin_start": 4.5,
            "count": 1
           },
           {
            "bin_end": 36.2,
            "bin_start": 20.35,
            "count": 0
           },
           {
            "bin_end": 52.05,
            "bin_start": 36.2,
            "count": 0
           },
           {
            "bin_end": 67.9,
            "bin_start": 52.05,
            "count": 0
           },
           {
            "bin_end": 83.75,
            "bin_start": 67.9,
            "count": 0
           },
           {
            "bin_end": 99.6,
            "bin_start": 83.75,
            "count": 0
           },
           {
            "bin_end": 115.45,
            "bin_start": 99.6,
            "count": 7
           },
           {
            "bin_end": 131.3,
            "bin_start": 115.45,
            "count": 32
           },
           {
            "bin_end": 147.15,
            "bin_start": 131.3,
            "count": 342
           },
           {
            "bin_end": 163,
            "bin_start": 147.15,
            "count": 18
           }
          ],
          "max": "163.0",
          "min": "4.5",
          "nan_count": 0,
          "unique_count": 40
         }
        },
        {
         "dtype": "float64",
         "name": "Potassium (mEq/L)",
         "stats": {
          "histogram": [
           {
            "bin_end": 6.95,
            "bin_start": 2.5,
            "count": 397
           },
           {
            "bin_end": 11.4,
            "bin_start": 6.95,
            "count": 1
           },
           {
            "bin_end": 15.850000000000001,
            "bin_start": 11.4,
            "count": 0
           },
           {
            "bin_end": 20.3,
            "bin_start": 15.850000000000001,
            "count": 0
           },
           {
            "bin_end": 24.75,
            "bin_start": 20.3,
            "count": 0
           },
           {
            "bin_end": 29.200000000000003,
            "bin_start": 24.75,
            "count": 0
           },
           {
            "bin_end": 33.650000000000006,
            "bin_start": 29.200000000000003,
            "count": 0
           },
           {
            "bin_end": 38.1,
            "bin_start": 33.650000000000006,
            "count": 0
           },
           {
            "bin_end": 42.550000000000004,
            "bin_start": 38.1,
            "count": 1
           },
           {
            "bin_end": 47,
            "bin_start": 42.550000000000004,
            "count": 1
           }
          ],
          "max": "47.0",
          "min": "2.5",
          "nan_count": 0,
          "unique_count": 57
         }
        },
        {
         "dtype": "float64",
         "name": "Hemoglobin (gms)",
         "stats": {
          "histogram": [
           {
            "bin_end": 4.57,
            "bin_start": 3.1,
            "count": 1
           },
           {
            "bin_end": 6.040000000000001,
            "bin_start": 4.57,
            "count": 6
           },
           {
            "bin_end": 7.51,
            "bin_start": 6.040000000000001,
            "count": 8
           },
           {
            "bin_end": 8.98,
            "bin_start": 7.51,
            "count": 26
           },
           {
            "bin_end": 10.450000000000001,
            "bin_start": 8.98,
            "count": 57
           },
           {
            "bin_end": 11.92,
            "bin_start": 10.450000000000001,
            "count": 85
           },
           {
            "bin_end": 13.39,
            "bin_start": 11.92,
            "count": 56
           },
           {
            "bin_end": 14.860000000000001,
            "bin_start": 13.39,
            "count": 62
           },
           {
            "bin_end": 16.330000000000002,
            "bin_start": 14.860000000000001,
            "count": 68
           },
           {
            "bin_end": 17.8,
            "bin_start": 16.330000000000002,
            "count": 31
           }
          ],
          "max": "17.8",
          "min": "3.1",
          "nan_count": 0,
          "unique_count": 142
         }
        },
        {
         "dtype": "float64",
         "name": "White Blood Cells (cells/cmm)",
         "stats": {
          "histogram": [
           {
            "bin_end": 4620,
            "bin_start": 2200,
            "count": 19
           },
           {
            "bin_end": 7040,
            "bin_start": 4620,
            "count": 110
           },
           {
            "bin_end": 9460,
            "bin_start": 7040,
            "count": 158
           },
           {
            "bin_end": 11880,
            "bin_start": 9460,
            "count": 87
           },
           {
            "bin_end": 14300,
            "bin_start": 11880,
            "count": 14
           },
           {
            "bin_end": 16720,
            "bin_start": 14300,
            "count": 8
           },
           {
            "bin_end": 19140,
            "bin_start": 16720,
            "count": 2
           },
           {
            "bin_end": 21560,
            "bin_start": 19140,
            "count": 0
           },
           {
            "bin_end": 23980,
            "bin_start": 21560,
            "count": 1
           },
           {
            "bin_end": 26400,
            "bin_start": 23980,
            "count": 1
           }
          ],
          "max": "26400.0",
          "min": "2200.0",
          "nan_count": 0,
          "unique_count": 134
         }
        },
        {
         "dtype": "int64",
         "name": "Appetite: poor",
         "stats": {
          "histogram": [
           {
            "bin_end": 0.1,
            "bin_start": 0,
            "count": 318
           },
           {
            "bin_end": 0.2,
            "bin_start": 0.1,
            "count": 0
           },
           {
            "bin_end": 0.30000000000000004,
            "bin_start": 0.2,
            "count": 0
           },
           {
            "bin_end": 0.4,
            "bin_start": 0.30000000000000004,
            "count": 0
           },
           {
            "bin_end": 0.5,
            "bin_start": 0.4,
            "count": 0
           },
           {
            "bin_end": 0.6000000000000001,
            "bin_start": 0.5,
            "count": 0
           },
           {
            "bin_end": 0.7000000000000001,
            "bin_start": 0.6000000000000001,
            "count": 0
           },
           {
            "bin_end": 0.8,
            "bin_start": 0.7000000000000001,
            "count": 0
           },
           {
            "bin_end": 0.9,
            "bin_start": 0.8,
            "count": 0
           },
           {
            "bin_end": 1,
            "bin_start": 0.9,
            "count": 82
           }
          ],
          "max": "1",
          "min": "0",
          "nan_count": 0,
          "unique_count": 2
         }
        },
        {
         "dtype": "float64",
         "name": "Red Blood Cells (millions/cmm)",
         "stats": {
          "histogram": [
           {
            "bin_end": 2.6900000000000004,
            "bin_start": 2.1,
            "count": 9
           },
           {
            "bin_end": 3.2800000000000002,
            "bin_start": 2.6900000000000004,
            "count": 20
           },
           {
            "bin_end": 3.87,
            "bin_start": 3.2800000000000002,
            "count": 56
           },
           {
            "bin_end": 4.460000000000001,
            "bin_start": 3.87,
            "count": 73
           },
           {
            "bin_end": 5.050000000000001,
            "bin_start": 4.460000000000001,
            "count": 128
           },
           {
            "bin_end": 5.640000000000001,
            "bin_start": 5.050000000000001,
            "count": 60
           },
           {
            "bin_end": 6.23,
            "bin_start": 5.640000000000001,
            "count": 39
           },
           {
            "bin_end": 6.82,
            "bin_start": 6.23,
            "count": 14
           },
           {
            "bin_end": 7.41,
            "bin_start": 6.82,
            "count": 0
           },
           {
            "bin_end": 8,
            "bin_start": 7.41,
            "count": 1
           }
          ],
          "max": "8.0",
          "min": "2.1",
          "nan_count": 0,
          "unique_count": 69
         }
        },
        {
         "dtype": "int64",
         "name": "Hypertension: yes",
         "stats": {
          "histogram": [
           {
            "bin_end": 0.1,
            "bin_start": 0,
            "count": 253
           },
           {
            "bin_end": 0.2,
            "bin_start": 0.1,
            "count": 0
           },
           {
            "bin_end": 0.30000000000000004,
            "bin_start": 0.2,
            "count": 0
           },
           {
            "bin_end": 0.4,
            "bin_start": 0.30000000000000004,
            "count": 0
           },
           {
            "bin_end": 0.5,
            "bin_start": 0.4,
            "count": 0
           },
           {
            "bin_end": 0.6000000000000001,
            "bin_start": 0.5,
            "count": 0
           },
           {
            "bin_end": 0.7000000000000001,
            "bin_start": 0.6000000000000001,
            "count": 0
           },
           {
            "bin_end": 0.8,
            "bin_start": 0.7000000000000001,
            "count": 0
           },
           {
            "bin_end": 0.9,
            "bin_start": 0.8,
            "count": 0
           },
           {
            "bin_end": 1,
            "bin_start": 0.9,
            "count": 147
           }
          ],
          "max": "1",
          "min": "0",
          "nan_count": 0,
          "unique_count": 2
         }
        },
        {
         "dtype": "int64",
         "name": "Bacteria: present",
         "stats": {
          "histogram": [
           {
            "bin_end": 0.1,
            "bin_start": 0,
            "count": 378
           },
           {
            "bin_end": 0.2,
            "bin_start": 0.1,
            "count": 0
           },
           {
            "bin_end": 0.30000000000000004,
            "bin_start": 0.2,
            "count": 0
           },
           {
            "bin_end": 0.4,
            "bin_start": 0.30000000000000004,
            "count": 0
           },
           {
            "bin_end": 0.5,
            "bin_start": 0.4,
            "count": 0
           },
           {
            "bin_end": 0.6000000000000001,
            "bin_start": 0.5,
            "count": 0
           },
           {
            "bin_end": 0.7000000000000001,
            "bin_start": 0.6000000000000001,
            "count": 0
           },
           {
            "bin_end": 0.8,
            "bin_start": 0.7000000000000001,
            "count": 0
           },
           {
            "bin_end": 0.9,
            "bin_start": 0.8,
            "count": 0
           },
           {
            "bin_end": 1,
            "bin_start": 0.9,
            "count": 22
           }
          ],
          "max": "1",
          "min": "0",
          "nan_count": 0,
          "unique_count": 2
         }
        },
        {
         "dtype": "int64",
         "name": "Diabetes Mellitus: yes",
         "stats": {
          "histogram": [
           {
            "bin_end": 0.1,
            "bin_start": 0,
            "count": 263
           },
           {
            "bin_end": 0.2,
            "bin_start": 0.1,
            "count": 0
           },
           {
            "bin_end": 0.30000000000000004,
            "bin_start": 0.2,
            "count": 0
           },
           {
            "bin_end": 0.4,
            "bin_start": 0.30000000000000004,
            "count": 0
           },
           {
            "bin_end": 0.5,
            "bin_start": 0.4,
            "count": 0
           },
           {
            "bin_end": 0.6000000000000001,
            "bin_start": 0.5,
            "count": 0
           },
           {
            "bin_end": 0.7000000000000001,
            "bin_start": 0.6000000000000001,
            "count": 0
           },
           {
            "bin_end": 0.8,
            "bin_start": 0.7000000000000001,
            "count": 0
           },
           {
            "bin_end": 0.9,
            "bin_start": 0.8,
            "count": 0
           },
           {
            "bin_end": 1,
            "bin_start": 0.9,
            "count": 137
           }
          ],
          "max": "1",
          "min": "0",
          "nan_count": 0,
          "unique_count": 2
         }
        },
        {
         "dtype": "int64",
         "name": "Coronary Artery Disease: yes",
         "stats": {
          "histogram": [
           {
            "bin_end": 0.1,
            "bin_start": 0,
            "count": 366
           },
           {
            "bin_end": 0.2,
            "bin_start": 0.1,
            "count": 0
           },
           {
            "bin_end": 0.30000000000000004,
            "bin_start": 0.2,
            "count": 0
           },
           {
            "bin_end": 0.4,
            "bin_start": 0.30000000000000004,
            "count": 0
           },
           {
            "bin_end": 0.5,
            "bin_start": 0.4,
            "count": 0
           },
           {
            "bin_end": 0.6000000000000001,
            "bin_start": 0.5,
            "count": 0
           },
           {
            "bin_end": 0.7000000000000001,
            "bin_start": 0.6000000000000001,
            "count": 0
           },
           {
            "bin_end": 0.8,
            "bin_start": 0.7000000000000001,
            "count": 0
           },
           {
            "bin_end": 0.9,
            "bin_start": 0.8,
            "count": 0
           },
           {
            "bin_end": 1,
            "bin_start": 0.9,
            "count": 34
           }
          ],
          "max": "1",
          "min": "0",
          "nan_count": 0,
          "unique_count": 2
         }
        },
        {
         "dtype": "int64",
         "name": "Anemia: yes",
         "stats": {
          "histogram": [
           {
            "bin_end": 0.1,
            "bin_start": 0,
            "count": 340
           },
           {
            "bin_end": 0.2,
            "bin_start": 0.1,
            "count": 0
           },
           {
            "bin_end": 0.30000000000000004,
            "bin_start": 0.2,
            "count": 0
           },
           {
            "bin_end": 0.4,
            "bin_start": 0.30000000000000004,
            "count": 0
           },
           {
            "bin_end": 0.5,
            "bin_start": 0.4,
            "count": 0
           },
           {
            "bin_end": 0.6000000000000001,
            "bin_start": 0.5,
            "count": 0
           },
           {
            "bin_end": 0.7000000000000001,
            "bin_start": 0.6000000000000001,
            "count": 0
           },
           {
            "bin_end": 0.8,
            "bin_start": 0.7000000000000001,
            "count": 0
           },
           {
            "bin_end": 0.9,
            "bin_start": 0.8,
            "count": 0
           },
           {
            "bin_end": 1,
            "bin_start": 0.9,
            "count": 60
           }
          ],
          "max": "1",
          "min": "0",
          "nan_count": 0,
          "unique_count": 2
         }
        },
        {
         "dtype": "int64",
         "name": "Chronic Kidney Disease: yes",
         "stats": {
          "histogram": [
           {
            "bin_end": 0.1,
            "bin_start": 0,
            "count": 150
           },
           {
            "bin_end": 0.2,
            "bin_start": 0.1,
            "count": 0
           },
           {
            "bin_end": 0.30000000000000004,
            "bin_start": 0.2,
            "count": 0
           },
           {
            "bin_end": 0.4,
            "bin_start": 0.30000000000000004,
            "count": 0
           },
           {
            "bin_end": 0.5,
            "bin_start": 0.4,
            "count": 0
           },
           {
            "bin_end": 0.6000000000000001,
            "bin_start": 0.5,
            "count": 0
           },
           {
            "bin_end": 0.7000000000000001,
            "bin_start": 0.6000000000000001,
            "count": 0
           },
           {
            "bin_end": 0.8,
            "bin_start": 0.7000000000000001,
            "count": 0
           },
           {
            "bin_end": 0.9,
            "bin_start": 0.8,
            "count": 0
           },
           {
            "bin_end": 1,
            "bin_start": 0.9,
            "count": 250
           }
          ],
          "max": "1",
          "min": "0",
          "nan_count": 0,
          "unique_count": 2
         }
        },
        {
         "dtype": "int64",
         "name": "_deepnote_index_column"
        }
       ],
       "row_count": 400,
       "rows": [
        {
         "Age (yrs)": 48,
         "Albumin": 1,
         "Anemia: yes": 0,
         "Appetite: poor": 0,
         "Bacteria: present": 0,
         "Blood Glucose Random (mgs/dL)": 121,
         "Blood Pressure (mm/Hg)": 80,
         "Blood Urea (mgs/dL)": 36,
         "Chronic Kidney Disease: yes": 1,
         "Coronary Artery Disease: yes": 0,
         "Diabetes Mellitus: yes": 1,
         "Hemoglobin (gms)": 15.4,
         "Hypertension: yes": 1,
         "Potassium (mEq/L)": 4.7,
         "Red Blood Cells (millions/cmm)": 5.2,
         "Serum Creatinine (mgs/dL)": 1.2,
         "Sodium (mEq/L)": 136,
         "Specific Gravity": 1.02,
         "Sugar": 0,
         "White Blood Cells (cells/cmm)": 7800,
         "_deepnote_index_column": 0
        },
        {
         "Age (yrs)": 7,
         "Albumin": 4,
         "Anemia: yes": 0,
         "Appetite: poor": 0,
         "Bacteria: present": 0,
         "Blood Glucose Random (mgs/dL)": 90.31658119,
         "Blood Pressure (mm/Hg)": 50,
         "Blood Urea (mgs/dL)": 18,
         "Chronic Kidney Disease: yes": 1,
         "Coronary Artery Disease: yes": 0,
         "Diabetes Mellitus: yes": 0,
         "Hemoglobin (gms)": 11.3,
         "Hypertension: yes": 0,
         "Potassium (mEq/L)": 4,
         "Red Blood Cells (millions/cmm)": 4.721717463,
         "Serum Creatinine (mgs/dL)": 0.8,
         "Sodium (mEq/L)": 140,
         "Specific Gravity": 1.02,
         "Sugar": 0,
         "White Blood Cells (cells/cmm)": 6000,
         "_deepnote_index_column": 1
        },
        {
         "Age (yrs)": 62,
         "Albumin": 2,
         "Anemia: yes": 1,
         "Appetite: poor": 1,
         "Bacteria: present": 0,
         "Blood Glucose Random (mgs/dL)": 423,
         "Blood Pressure (mm/Hg)": 80,
         "Blood Urea (mgs/dL)": 53,
         "Chronic Kidney Disease: yes": 1,
         "Coronary Artery Disease: yes": 0,
         "Diabetes Mellitus: yes": 1,
         "Hemoglobin (gms)": 9.6,
         "Hypertension: yes": 0,
         "Potassium (mEq/L)": 4.8,
         "Red Blood Cells (millions/cmm)": 3.4,
         "Serum Creatinine (mgs/dL)": 1.8,
         "Sodium (mEq/L)": 135,
         "Specific Gravity": 1.01,
         "Sugar": 3,
         "White Blood Cells (cells/cmm)": 7500,
         "_deepnote_index_column": 2
        },
        {
         "Age (yrs)": 48,
         "Albumin": 4,
         "Anemia: yes": 1,
         "Appetite: poor": 1,
         "Bacteria: present": 0,
         "Blood Glucose Random (mgs/dL)": 117,
         "Blood Pressure (mm/Hg)": 70,
         "Blood Urea (mgs/dL)": 56,
         "Chronic Kidney Disease: yes": 1,
         "Coronary Artery Disease: yes": 0,
         "Diabetes Mellitus: yes": 0,
         "Hemoglobin (gms)": 11.2,
         "Hypertension: yes": 1,
         "Potassium (mEq/L)": 2.5,
         "Red Blood Cells (millions/cmm)": 3.9,
         "Serum Creatinine (mgs/dL)": 3.8,
         "Sodium (mEq/L)": 111,
         "Specific Gravity": 1.005,
         "Sugar": 0,
         "White Blood Cells (cells/cmm)": 6700,
         "_deepnote_index_column": 3
        },
        {
         "Age (yrs)": 51,
         "Albumin": 2,
         "Anemia: yes": 0,
         "Appetite: poor": 0,
         "Bacteria: present": 0,
         "Blood Glucose Random (mgs/dL)": 106,
         "Blood Pressure (mm/Hg)": 80,
         "Blood Urea (mgs/dL)": 26,
         "Chronic Kidney Disease: yes": 1,
         "Coronary Artery Disease: yes": 0,
         "Diabetes Mellitus: yes": 0,
         "Hemoglobin (gms)": 11.6,
         "Hypertension: yes": 0,
         "Potassium (mEq/L)": 4,
         "Red Blood Cells (millions/cmm)": 4.6,
         "Serum Creatinine (mgs/dL)": 1.4,
         "Sodium (mEq/L)": 140,
         "Specific Gravity": 1.01,
         "Sugar": 0,
         "White Blood Cells (cells/cmm)": 7300,
         "_deepnote_index_column": 4
        },
        {
         "Age (yrs)": 60,
         "Albumin": 3,
         "Anemia: yes": 0,
         "Appetite: poor": 0,
         "Bacteria: present": 0,
         "Blood Glucose Random (mgs/dL)": 74,
         "Blood Pressure (mm/Hg)": 90,
         "Blood Urea (mgs/dL)": 25,
         "Chronic Kidney Disease: yes": 1,
         "Coronary Artery Disease: yes": 0,
         "Diabetes Mellitus: yes": 1,
         "Hemoglobin (gms)": 12.2,
         "Hypertension: yes": 1,
         "Potassium (mEq/L)": 3.2,
         "Red Blood Cells (millions/cmm)": 4.4,
         "Serum Creatinine (mgs/dL)": 1.1,
         "Sodium (mEq/L)": 142,
         "Specific Gravity": 1.015,
         "Sugar": 0,
         "White Blood Cells (cells/cmm)": 7800,
         "_deepnote_index_column": 5
        },
        {
         "Age (yrs)": 68,
         "Albumin": 0,
         "Anemia: yes": 0,
         "Appetite: poor": 0,
         "Bacteria: present": 0,
         "Blood Glucose Random (mgs/dL)": 100,
         "Blood Pressure (mm/Hg)": 70,
         "Blood Urea (mgs/dL)": 54,
         "Chronic Kidney Disease: yes": 1,
         "Coronary Artery Disease: yes": 0,
         "Diabetes Mellitus: yes": 0,
         "Hemoglobin (gms)": 12.4,
         "Hypertension: yes": 0,
         "Potassium (mEq/L)": 4,
         "Red Blood Cells (millions/cmm)": 4.79153164,
         "Serum Creatinine (mgs/dL)": 24,
         "Sodium (mEq/L)": 104,
         "Specific Gravity": 1.01,
         "Sugar": 0,
         "White Blood Cells (cells/cmm)": 8200,
         "_deepnote_index_column": 6
        },
        {
         "Age (yrs)": 24,
         "Albumin": 2,
         "Anemia: yes": 0,
         "Appetite: poor": 0,
         "Bacteria: present": 0,
         "Blood Glucose Random (mgs/dL)": 410,
         "Blood Pressure (mm/Hg)": 60,
         "Blood Urea (mgs/dL)": 31,
         "Chronic Kidney Disease: yes": 1,
         "Coronary Artery Disease: yes": 0,
         "Diabetes Mellitus: yes": 1,
         "Hemoglobin (gms)": 12.4,
         "Hypertension: yes": 0,
         "Potassium (mEq/L)": 4.2,
         "Red Blood Cells (millions/cmm)": 5,
         "Serum Creatinine (mgs/dL)": 1.1,
         "Sodium (mEq/L)": 138,
         "Specific Gravity": 1.015,
         "Sugar": 4,
         "White Blood Cells (cells/cmm)": 6900,
         "_deepnote_index_column": 7
        },
        {
         "Age (yrs)": 52,
         "Albumin": 3,
         "Anemia: yes": 1,
         "Appetite: poor": 0,
         "Bacteria: present": 0,
         "Blood Glucose Random (mgs/dL)": 138,
         "Blood Pressure (mm/Hg)": 100,
         "Blood Urea (mgs/dL)": 60,
         "Chronic Kidney Disease: yes": 1,
         "Coronary Artery Disease: yes": 0,
         "Diabetes Mellitus: yes": 1,
         "Hemoglobin (gms)": 10.8,
         "Hypertension: yes": 1,
         "Potassium (mEq/L)": 5,
         "Red Blood Cells (millions/cmm)": 4,
         "Serum Creatinine (mgs/dL)": 1.9,
         "Sodium (mEq/L)": 135,
         "Specific Gravity": 1.015,
         "Sugar": 0,
         "White Blood Cells (cells/cmm)": 9600,
         "_deepnote_index_column": 8
        },
        {
         "Age (yrs)": 53,
         "Albumin": 2,
         "Anemia: yes": 1,
         "Appetite: poor": 1,
         "Bacteria: present": 0,
         "Blood Glucose Random (mgs/dL)": 70,
         "Blood Pressure (mm/Hg)": 90,
         "Blood Urea (mgs/dL)": 107,
         "Chronic Kidney Disease: yes": 1,
         "Coronary Artery Disease: yes": 0,
         "Diabetes Mellitus: yes": 1,
         "Hemoglobin (gms)": 9.5,
         "Hypertension: yes": 1,
         "Potassium (mEq/L)": 3.7,
         "Red Blood Cells (millions/cmm)": 3.7,
         "Serum Creatinine (mgs/dL)": 7.2,
         "Sodium (mEq/L)": 114,
         "Specific Gravity": 1.02,
         "Sugar": 0,
         "White Blood Cells (cells/cmm)": 12100,
         "_deepnote_index_column": 9
        }
       ]
      },
      "text/html": [
       "<div>\n",
       "<style scoped>\n",
       "    .dataframe tbody tr th:only-of-type {\n",
       "        vertical-align: middle;\n",
       "    }\n",
       "\n",
       "    .dataframe tbody tr th {\n",
       "        vertical-align: top;\n",
       "    }\n",
       "\n",
       "    .dataframe thead th {\n",
       "        text-align: right;\n",
       "    }\n",
       "</style>\n",
       "<table border=\"1\" class=\"dataframe\">\n",
       "  <thead>\n",
       "    <tr style=\"text-align: right;\">\n",
       "      <th></th>\n",
       "      <th>Age (yrs)</th>\n",
       "      <th>Blood Pressure (mm/Hg)</th>\n",
       "      <th>Specific Gravity</th>\n",
       "      <th>Albumin</th>\n",
       "      <th>Sugar</th>\n",
       "      <th>Blood Glucose Random (mgs/dL)</th>\n",
       "      <th>Blood Urea (mgs/dL)</th>\n",
       "      <th>Serum Creatinine (mgs/dL)</th>\n",
       "      <th>Sodium (mEq/L)</th>\n",
       "      <th>Potassium (mEq/L)</th>\n",
       "      <th>Hemoglobin (gms)</th>\n",
       "      <th>White Blood Cells (cells/cmm)</th>\n",
       "      <th>Appetite: poor</th>\n",
       "      <th>Red Blood Cells (millions/cmm)</th>\n",
       "      <th>Hypertension: yes</th>\n",
       "      <th>Bacteria: present</th>\n",
       "      <th>Diabetes Mellitus: yes</th>\n",
       "      <th>Coronary Artery Disease: yes</th>\n",
       "      <th>Anemia: yes</th>\n",
       "      <th>Chronic Kidney Disease: yes</th>\n",
       "    </tr>\n",
       "  </thead>\n",
       "  <tbody>\n",
       "    <tr>\n",
       "      <th>0</th>\n",
       "      <td>48.0</td>\n",
       "      <td>80</td>\n",
       "      <td>1.020</td>\n",
       "      <td>1.0</td>\n",
       "      <td>0</td>\n",
       "      <td>121.000000</td>\n",
       "      <td>36.0</td>\n",
       "      <td>1.2</td>\n",
       "      <td>136.0</td>\n",
       "      <td>4.7</td>\n",
       "      <td>15.4</td>\n",
       "      <td>7800.0</td>\n",
       "      <td>0</td>\n",
       "      <td>5.200000</td>\n",
       "      <td>1</td>\n",
       "      <td>0</td>\n",
       "      <td>1</td>\n",
       "      <td>0</td>\n",
       "      <td>0</td>\n",
       "      <td>1</td>\n",
       "    </tr>\n",
       "    <tr>\n",
       "      <th>1</th>\n",
       "      <td>7.0</td>\n",
       "      <td>50</td>\n",
       "      <td>1.020</td>\n",
       "      <td>4.0</td>\n",
       "      <td>0</td>\n",
       "      <td>90.316581</td>\n",
       "      <td>18.0</td>\n",
       "      <td>0.8</td>\n",
       "      <td>140.0</td>\n",
       "      <td>4.0</td>\n",
       "      <td>11.3</td>\n",
       "      <td>6000.0</td>\n",
       "      <td>0</td>\n",
       "      <td>4.721717</td>\n",
       "      <td>0</td>\n",
       "      <td>0</td>\n",
       "      <td>0</td>\n",
       "      <td>0</td>\n",
       "      <td>0</td>\n",
       "      <td>1</td>\n",
       "    </tr>\n",
       "    <tr>\n",
       "      <th>2</th>\n",
       "      <td>62.0</td>\n",
       "      <td>80</td>\n",
       "      <td>1.010</td>\n",
       "      <td>2.0</td>\n",
       "      <td>3</td>\n",
       "      <td>423.000000</td>\n",
       "      <td>53.0</td>\n",
       "      <td>1.8</td>\n",
       "      <td>135.0</td>\n",
       "      <td>4.8</td>\n",
       "      <td>9.6</td>\n",
       "      <td>7500.0</td>\n",
       "      <td>1</td>\n",
       "      <td>3.400000</td>\n",
       "      <td>0</td>\n",
       "      <td>0</td>\n",
       "      <td>1</td>\n",
       "      <td>0</td>\n",
       "      <td>1</td>\n",
       "      <td>1</td>\n",
       "    </tr>\n",
       "    <tr>\n",
       "      <th>3</th>\n",
       "      <td>48.0</td>\n",
       "      <td>70</td>\n",
       "      <td>1.005</td>\n",
       "      <td>4.0</td>\n",
       "      <td>0</td>\n",
       "      <td>117.000000</td>\n",
       "      <td>56.0</td>\n",
       "      <td>3.8</td>\n",
       "      <td>111.0</td>\n",
       "      <td>2.5</td>\n",
       "      <td>11.2</td>\n",
       "      <td>6700.0</td>\n",
       "      <td>1</td>\n",
       "      <td>3.900000</td>\n",
       "      <td>1</td>\n",
       "      <td>0</td>\n",
       "      <td>0</td>\n",
       "      <td>0</td>\n",
       "      <td>1</td>\n",
       "      <td>1</td>\n",
       "    </tr>\n",
       "    <tr>\n",
       "      <th>4</th>\n",
       "      <td>51.0</td>\n",
       "      <td>80</td>\n",
       "      <td>1.010</td>\n",
       "      <td>2.0</td>\n",
       "      <td>0</td>\n",
       "      <td>106.000000</td>\n",
       "      <td>26.0</td>\n",
       "      <td>1.4</td>\n",
       "      <td>140.0</td>\n",
       "      <td>4.0</td>\n",
       "      <td>11.6</td>\n",
       "      <td>7300.0</td>\n",
       "      <td>0</td>\n",
       "      <td>4.600000</td>\n",
       "      <td>0</td>\n",
       "      <td>0</td>\n",
       "      <td>0</td>\n",
       "      <td>0</td>\n",
       "      <td>0</td>\n",
       "      <td>1</td>\n",
       "    </tr>\n",
       "    <tr>\n",
       "      <th>...</th>\n",
       "      <td>...</td>\n",
       "      <td>...</td>\n",
       "      <td>...</td>\n",
       "      <td>...</td>\n",
       "      <td>...</td>\n",
       "      <td>...</td>\n",
       "      <td>...</td>\n",
       "      <td>...</td>\n",
       "      <td>...</td>\n",
       "      <td>...</td>\n",
       "      <td>...</td>\n",
       "      <td>...</td>\n",
       "      <td>...</td>\n",
       "      <td>...</td>\n",
       "      <td>...</td>\n",
       "      <td>...</td>\n",
       "      <td>...</td>\n",
       "      <td>...</td>\n",
       "      <td>...</td>\n",
       "      <td>...</td>\n",
       "    </tr>\n",
       "    <tr>\n",
       "      <th>395</th>\n",
       "      <td>55.0</td>\n",
       "      <td>80</td>\n",
       "      <td>1.020</td>\n",
       "      <td>0.0</td>\n",
       "      <td>0</td>\n",
       "      <td>140.000000</td>\n",
       "      <td>49.0</td>\n",
       "      <td>0.5</td>\n",
       "      <td>150.0</td>\n",
       "      <td>4.9</td>\n",
       "      <td>15.7</td>\n",
       "      <td>6700.0</td>\n",
       "      <td>0</td>\n",
       "      <td>4.900000</td>\n",
       "      <td>0</td>\n",
       "      <td>0</td>\n",
       "      <td>0</td>\n",
       "      <td>0</td>\n",
       "      <td>0</td>\n",
       "      <td>0</td>\n",
       "    </tr>\n",
       "    <tr>\n",
       "      <th>396</th>\n",
       "      <td>42.0</td>\n",
       "      <td>70</td>\n",
       "      <td>1.025</td>\n",
       "      <td>0.0</td>\n",
       "      <td>0</td>\n",
       "      <td>75.000000</td>\n",
       "      <td>31.0</td>\n",
       "      <td>1.2</td>\n",
       "      <td>141.0</td>\n",
       "      <td>3.5</td>\n",
       "      <td>16.5</td>\n",
       "      <td>7800.0</td>\n",
       "      <td>0</td>\n",
       "      <td>6.200000</td>\n",
       "      <td>0</td>\n",
       "      <td>0</td>\n",
       "      <td>0</td>\n",
       "      <td>0</td>\n",
       "      <td>0</td>\n",
       "      <td>0</td>\n",
       "    </tr>\n",
       "    <tr>\n",
       "      <th>397</th>\n",
       "      <td>12.0</td>\n",
       "      <td>80</td>\n",
       "      <td>1.020</td>\n",
       "      <td>0.0</td>\n",
       "      <td>0</td>\n",
       "      <td>100.000000</td>\n",
       "      <td>26.0</td>\n",
       "      <td>0.6</td>\n",
       "      <td>137.0</td>\n",
       "      <td>4.4</td>\n",
       "      <td>15.8</td>\n",
       "      <td>6600.0</td>\n",
       "      <td>0</td>\n",
       "      <td>5.400000</td>\n",
       "      <td>0</td>\n",
       "      <td>0</td>\n",
       "      <td>0</td>\n",
       "      <td>0</td>\n",
       "      <td>0</td>\n",
       "      <td>0</td>\n",
       "    </tr>\n",
       "    <tr>\n",
       "      <th>398</th>\n",
       "      <td>17.0</td>\n",
       "      <td>60</td>\n",
       "      <td>1.025</td>\n",
       "      <td>0.0</td>\n",
       "      <td>0</td>\n",
       "      <td>114.000000</td>\n",
       "      <td>50.0</td>\n",
       "      <td>1.0</td>\n",
       "      <td>135.0</td>\n",
       "      <td>4.9</td>\n",
       "      <td>14.2</td>\n",
       "      <td>7200.0</td>\n",
       "      <td>0</td>\n",
       "      <td>5.900000</td>\n",
       "      <td>0</td>\n",
       "      <td>0</td>\n",
       "      <td>0</td>\n",
       "      <td>0</td>\n",
       "      <td>0</td>\n",
       "      <td>0</td>\n",
       "    </tr>\n",
       "    <tr>\n",
       "      <th>399</th>\n",
       "      <td>58.0</td>\n",
       "      <td>80</td>\n",
       "      <td>1.025</td>\n",
       "      <td>0.0</td>\n",
       "      <td>0</td>\n",
       "      <td>131.000000</td>\n",
       "      <td>18.0</td>\n",
       "      <td>1.1</td>\n",
       "      <td>141.0</td>\n",
       "      <td>3.5</td>\n",
       "      <td>15.8</td>\n",
       "      <td>6800.0</td>\n",
       "      <td>0</td>\n",
       "      <td>6.100000</td>\n",
       "      <td>0</td>\n",
       "      <td>0</td>\n",
       "      <td>0</td>\n",
       "      <td>0</td>\n",
       "      <td>0</td>\n",
       "      <td>0</td>\n",
       "    </tr>\n",
       "  </tbody>\n",
       "</table>\n",
       "<p>400 rows × 20 columns</p>\n",
       "</div>"
      ],
      "text/plain": [
       "     Age (yrs)  Blood Pressure (mm/Hg)  Specific Gravity  Albumin  Sugar  \\\n",
       "0         48.0                      80             1.020      1.0      0   \n",
       "1          7.0                      50             1.020      4.0      0   \n",
       "2         62.0                      80             1.010      2.0      3   \n",
       "3         48.0                      70             1.005      4.0      0   \n",
       "4         51.0                      80             1.010      2.0      0   \n",
       "..         ...                     ...               ...      ...    ...   \n",
       "395       55.0                      80             1.020      0.0      0   \n",
       "396       42.0                      70             1.025      0.0      0   \n",
       "397       12.0                      80             1.020      0.0      0   \n",
       "398       17.0                      60             1.025      0.0      0   \n",
       "399       58.0                      80             1.025      0.0      0   \n",
       "\n",
       "     Blood Glucose Random (mgs/dL)  Blood Urea (mgs/dL)  \\\n",
       "0                       121.000000                 36.0   \n",
       "1                        90.316581                 18.0   \n",
       "2                       423.000000                 53.0   \n",
       "3                       117.000000                 56.0   \n",
       "4                       106.000000                 26.0   \n",
       "..                             ...                  ...   \n",
       "395                     140.000000                 49.0   \n",
       "396                      75.000000                 31.0   \n",
       "397                     100.000000                 26.0   \n",
       "398                     114.000000                 50.0   \n",
       "399                     131.000000                 18.0   \n",
       "\n",
       "     Serum Creatinine (mgs/dL)  Sodium (mEq/L)  Potassium (mEq/L)  \\\n",
       "0                          1.2           136.0                4.7   \n",
       "1                          0.8           140.0                4.0   \n",
       "2                          1.8           135.0                4.8   \n",
       "3                          3.8           111.0                2.5   \n",
       "4                          1.4           140.0                4.0   \n",
       "..                         ...             ...                ...   \n",
       "395                        0.5           150.0                4.9   \n",
       "396                        1.2           141.0                3.5   \n",
       "397                        0.6           137.0                4.4   \n",
       "398                        1.0           135.0                4.9   \n",
       "399                        1.1           141.0                3.5   \n",
       "\n",
       "     Hemoglobin (gms)  White Blood Cells (cells/cmm)  Appetite: poor  \\\n",
       "0                15.4                         7800.0               0   \n",
       "1                11.3                         6000.0               0   \n",
       "2                 9.6                         7500.0               1   \n",
       "3                11.2                         6700.0               1   \n",
       "4                11.6                         7300.0               0   \n",
       "..                ...                            ...             ...   \n",
       "395              15.7                         6700.0               0   \n",
       "396              16.5                         7800.0               0   \n",
       "397              15.8                         6600.0               0   \n",
       "398              14.2                         7200.0               0   \n",
       "399              15.8                         6800.0               0   \n",
       "\n",
       "     Red Blood Cells (millions/cmm)  Hypertension: yes  Bacteria: present  \\\n",
       "0                          5.200000                  1                  0   \n",
       "1                          4.721717                  0                  0   \n",
       "2                          3.400000                  0                  0   \n",
       "3                          3.900000                  1                  0   \n",
       "4                          4.600000                  0                  0   \n",
       "..                              ...                ...                ...   \n",
       "395                        4.900000                  0                  0   \n",
       "396                        6.200000                  0                  0   \n",
       "397                        5.400000                  0                  0   \n",
       "398                        5.900000                  0                  0   \n",
       "399                        6.100000                  0                  0   \n",
       "\n",
       "     Diabetes Mellitus: yes  Coronary Artery Disease: yes  Anemia: yes  \\\n",
       "0                         1                             0            0   \n",
       "1                         0                             0            0   \n",
       "2                         1                             0            1   \n",
       "3                         0                             0            1   \n",
       "4                         0                             0            0   \n",
       "..                      ...                           ...          ...   \n",
       "395                       0                             0            0   \n",
       "396                       0                             0            0   \n",
       "397                       0                             0            0   \n",
       "398                       0                             0            0   \n",
       "399                       0                             0            0   \n",
       "\n",
       "     Chronic Kidney Disease: yes  \n",
       "0                              1  \n",
       "1                              1  \n",
       "2                              1  \n",
       "3                              1  \n",
       "4                              1  \n",
       "..                           ...  \n",
       "395                            0  \n",
       "396                            0  \n",
       "397                            0  \n",
       "398                            0  \n",
       "399                            0  \n",
       "\n",
       "[400 rows x 20 columns]"
      ]
     },
     "execution_count": 10,
     "metadata": {},
     "output_type": "execute_result"
    }
   ],
   "source": [
    "df_3 = _deepnote_execute_sql('SELECT *\\nFROM \\'ChronicKidneyDisease.csv\\'', 'SQL_DEEPNOTE_DATAFRAME_SQL', audit_sql_comment='', sql_cache_mode='cache_disabled')\n",
    "df_3"
   ]
  },
  {
   "cell_type": "code",
   "execution_count": null,
   "metadata": {
    "cell_id": "d73464ebafa24feb8f78ec3cc1c6275a",
    "deepnote_cell_type": "code",
    "deepnote_to_be_reexecuted": false,
    "execution_millis": 207,
    "execution_start": 1724013600448,
    "source_hash": null
   },
   "outputs": [
    {
     "data": {
      "application/vnd.deepnote.dataframe.v3+json": {
       "column_count": 20,
       "columns": [
        {
         "dtype": "float64",
         "name": "Age (yrs)",
         "stats": {
          "histogram": [
           {
            "bin_end": 13.1,
            "bin_start": 7,
            "count": 1
           },
           {
            "bin_end": 19.2,
            "bin_start": 13.1,
            "count": 0
           },
           {
            "bin_end": 25.299999999999997,
            "bin_start": 19.2,
            "count": 1
           },
           {
            "bin_end": 31.4,
            "bin_start": 25.299999999999997,
            "count": 0
           },
           {
            "bin_end": 37.5,
            "bin_start": 31.4,
            "count": 0
           },
           {
            "bin_end": 43.599999999999994,
            "bin_start": 37.5,
            "count": 1
           },
           {
            "bin_end": 49.699999999999996,
            "bin_start": 43.599999999999994,
            "count": 4
           },
           {
            "bin_end": 55.8,
            "bin_start": 49.699999999999996,
            "count": 4
           },
           {
            "bin_end": 61.9,
            "bin_start": 55.8,
            "count": 2
           },
           {
            "bin_end": 68,
            "bin_start": 61.9,
            "count": 7
           }
          ],
          "max": "68.0",
          "min": "7.0",
          "nan_count": 0,
          "unique_count": 13
         }
        },
        {
         "dtype": "int64",
         "name": "Blood Pressure (mm/Hg)",
         "stats": {
          "histogram": [
           {
            "bin_end": 55,
            "bin_start": 50,
            "count": 1
           },
           {
            "bin_end": 60,
            "bin_start": 55,
            "count": 0
           },
           {
            "bin_end": 65,
            "bin_start": 60,
            "count": 3
           },
           {
            "bin_end": 70,
            "bin_start": 65,
            "count": 0
           },
           {
            "bin_end": 75,
            "bin_start": 70,
            "count": 6
           },
           {
            "bin_end": 80,
            "bin_start": 75,
            "count": 0
           },
           {
            "bin_end": 85,
            "bin_start": 80,
            "count": 6
           },
           {
            "bin_end": 90,
            "bin_start": 85,
            "count": 0
           },
           {
            "bin_end": 95,
            "bin_start": 90,
            "count": 2
           },
           {
            "bin_end": 100,
            "bin_start": 95,
            "count": 2
           }
          ],
          "max": "100",
          "min": "50",
          "nan_count": 0,
          "unique_count": 6
         }
        },
        {
         "dtype": "float64",
         "name": "Specific Gravity",
         "stats": {
          "histogram": [
           {
            "bin_end": 1.007,
            "bin_start": 1.005,
            "count": 1
           },
           {
            "bin_end": 1.009,
            "bin_start": 1.007,
            "count": 0
           },
           {
            "bin_end": 1.011,
            "bin_start": 1.009,
            "count": 6
           },
           {
            "bin_end": 1.013,
            "bin_start": 1.011,
            "count": 0
           },
           {
            "bin_end": 1.015,
            "bin_start": 1.013,
            "count": 0
           },
           {
            "bin_end": 1.017,
            "bin_start": 1.015,
            "count": 9
           },
           {
            "bin_end": 1.019,
            "bin_start": 1.017,
            "count": 0
           },
           {
            "bin_end": 1.021,
            "bin_start": 1.019,
            "count": 3
           },
           {
            "bin_end": 1.023,
            "bin_start": 1.021,
            "count": 0
           },
           {
            "bin_end": 1.025,
            "bin_start": 1.023,
            "count": 1
           }
          ],
          "max": "1.025",
          "min": "1.005",
          "nan_count": 0,
          "unique_count": 5
         }
        },
        {
         "dtype": "float64",
         "name": "Albumin",
         "stats": {
          "histogram": [
           {
            "bin_end": 0.4,
            "bin_start": 0,
            "count": 3
           },
           {
            "bin_end": 0.8,
            "bin_start": 0.4,
            "count": 0
           },
           {
            "bin_end": 1.2000000000000002,
            "bin_start": 0.8,
            "count": 2
           },
           {
            "bin_end": 1.6,
            "bin_start": 1.2000000000000002,
            "count": 1
           },
           {
            "bin_end": 2,
            "bin_start": 1.6,
            "count": 0
           },
           {
            "bin_end": 2.4000000000000004,
            "bin_start": 2,
            "count": 6
           },
           {
            "bin_end": 2.8000000000000003,
            "bin_start": 2.4000000000000004,
            "count": 0
           },
           {
            "bin_end": 3.2,
            "bin_start": 2.8000000000000003,
            "count": 6
           },
           {
            "bin_end": 3.6,
            "bin_start": 3.2,
            "count": 0
           },
           {
            "bin_end": 4,
            "bin_start": 3.6,
            "count": 2
           }
          ],
          "max": "4.0",
          "min": "0.0",
          "nan_count": 0,
          "unique_count": 6
         }
        },
        {
         "dtype": "int64",
         "name": "Sugar",
         "stats": {
          "histogram": [
           {
            "bin_end": 0.4,
            "bin_start": 0,
            "count": 14
           },
           {
            "bin_end": 0.8,
            "bin_start": 0.4,
            "count": 0
           },
           {
            "bin_end": 1.2000000000000002,
            "bin_start": 0.8,
            "count": 1
           },
           {
            "bin_end": 1.6,
            "bin_start": 1.2000000000000002,
            "count": 0
           },
           {
            "bin_end": 2,
            "bin_start": 1.6,
            "count": 0
           },
           {
            "bin_end": 2.4000000000000004,
            "bin_start": 2,
            "count": 1
           },
           {
            "bin_end": 2.8000000000000003,
            "bin_start": 2.4000000000000004,
            "count": 0
           },
           {
            "bin_end": 3.2,
            "bin_start": 2.8000000000000003,
            "count": 2
           },
           {
            "bin_end": 3.6,
            "bin_start": 3.2,
            "count": 0
           },
           {
            "bin_end": 4,
            "bin_start": 3.6,
            "count": 2
           }
          ],
          "max": "4",
          "min": "0",
          "nan_count": 0,
          "unique_count": 5
         }
        },
        {
         "dtype": "float64",
         "name": "Blood Glucose Random (mgs/dL)",
         "stats": {
          "histogram": [
           {
            "bin_end": 112,
            "bin_start": 70,
            "count": 9
           },
           {
            "bin_end": 154,
            "bin_start": 112,
            "count": 4
           },
           {
            "bin_end": 196,
            "bin_start": 154,
            "count": 1
           },
           {
            "bin_end": 238,
            "bin_start": 196,
            "count": 1
           },
           {
            "bin_end": 280,
            "bin_start": 238,
            "count": 1
           },
           {
            "bin_end": 322,
            "bin_start": 280,
            "count": 0
           },
           {
            "bin_end": 364,
            "bin_start": 322,
            "count": 0
           },
           {
            "bin_end": 406,
            "bin_start": 364,
            "count": 1
           },
           {
            "bin_end": 448,
            "bin_start": 406,
            "count": 2
           },
           {
            "bin_end": 490,
            "bin_start": 448,
            "count": 1
           }
          ],
          "max": "490.0",
          "min": "70.0",
          "nan_count": 0,
          "unique_count": 19
         }
        },
        {
         "dtype": "float64",
         "name": "Blood Urea (mgs/dL)",
         "stats": {
          "histogram": [
           {
            "bin_end": 32.4,
            "bin_start": 18,
            "count": 6
           },
           {
            "bin_end": 46.8,
            "bin_start": 32.4,
            "count": 2
           },
           {
            "bin_end": 61.2,
            "bin_start": 46.8,
            "count": 6
           },
           {
            "bin_end": 75.6,
            "bin_start": 61.2,
            "count": 1
           },
           {
            "bin_end": 90,
            "bin_start": 75.6,
            "count": 2
           },
           {
            "bin_end": 104.4,
            "bin_start": 90,
            "count": 1
           },
           {
            "bin_end": 118.8,
            "bin_start": 104.4,
            "count": 1
           },
           {
            "bin_end": 133.2,
            "bin_start": 118.8,
            "count": 0
           },
           {
            "bin_end": 147.6,
            "bin_start": 133.2,
            "count": 0
           },
           {
            "bin_end": 162,
            "bin_start": 147.6,
            "count": 1
           }
          ],
          "max": "162.0",
          "min": "18.0",
          "nan_count": 0,
          "unique_count": 18
         }
        },
        {
         "dtype": "float64",
         "name": "Serum Creatinine (mgs/dL)",
         "stats": {
          "histogram": [
           {
            "bin_end": 3.12,
            "bin_start": 0.8,
            "count": 12
           },
           {
            "bin_end": 5.4399999999999995,
            "bin_start": 3.12,
            "count": 5
           },
           {
            "bin_end": 7.759999999999999,
            "bin_start": 5.4399999999999995,
            "count": 1
           },
           {
            "bin_end": 10.08,
            "bin_start": 7.759999999999999,
            "count": 1
           },
           {
            "bin_end": 12.4,
            "bin_start": 10.08,
            "count": 0
           },
           {
            "bin_end": 14.719999999999999,
            "bin_start": 12.4,
            "count": 0
           },
           {
            "bin_end": 17.04,
            "bin_start": 14.719999999999999,
            "count": 0
           },
           {
            "bin_end": 19.36,
            "bin_start": 17.04,
            "count": 0
           },
           {
            "bin_end": 21.68,
            "bin_start": 19.36,
            "count": 0
           },
           {
            "bin_end": 24,
            "bin_start": 21.68,
            "count": 1
           }
          ],
          "max": "24.0",
          "min": "0.8",
          "nan_count": 0,
          "unique_count": 19
         }
        },
        {
         "dtype": "float64",
         "name": "Sodium (mEq/L)",
         "stats": {
          "histogram": [
           {
            "bin_end": 107.8,
            "bin_start": 104,
            "count": 1
           },
           {
            "bin_end": 111.6,
            "bin_start": 107.8,
            "count": 1
           },
           {
            "bin_end": 115.4,
            "bin_start": 111.6,
            "count": 1
           },
           {
            "bin_end": 119.2,
            "bin_start": 115.4,
            "count": 0
           },
           {
            "bin_end": 123,
            "bin_start": 119.2,
            "count": 0
           },
           {
            "bin_end": 126.8,
            "bin_start": 123,
            "count": 0
           },
           {
            "bin_end": 130.6,
            "bin_start": 126.8,
            "count": 1
           },
           {
            "bin_end": 134.4,
            "bin_start": 130.6,
            "count": 1
           },
           {
            "bin_end": 138.2,
            "bin_start": 134.4,
            "count": 10
           },
           {
            "bin_end": 142,
            "bin_start": 138.2,
            "count": 5
           }
          ],
          "max": "142.0",
          "min": "104.0",
          "nan_count": 0,
          "unique_count": 12
         }
        },
        {
         "dtype": "float64",
         "name": "Potassium (mEq/L)",
         "stats": {
          "histogram": [
           {
            "bin_end": 2.89,
            "bin_start": 2.5,
            "count": 1
           },
           {
            "bin_end": 3.2800000000000002,
            "bin_start": 2.89,
            "count": 1
           },
           {
            "bin_end": 3.67,
            "bin_start": 3.2800000000000002,
            "count": 1
           },
           {
            "bin_end": 4.0600000000000005,
            "bin_start": 3.67,
            "count": 5
           },
           {
            "bin_end": 4.45,
            "bin_start": 4.0600000000000005,
            "count": 4
           },
           {
            "bin_end": 4.84,
            "bin_start": 4.45,
            "count": 2
           },
           {
            "bin_end": 5.23,
            "bin_start": 4.84,
            "count": 4
           },
           {
            "bin_end": 5.62,
            "bin_start": 5.23,
            "count": 0
           },
           {
            "bin_end": 6.01,
            "bin_start": 5.62,
            "count": 1
           },
           {
            "bin_end": 6.4,
            "bin_start": 6.01,
            "count": 1
           }
          ],
          "max": "6.4",
          "min": "2.5",
          "nan_count": 0,
          "unique_count": 14
         }
        },
        {
         "dtype": "float64",
         "name": "Hemoglobin (gms)",
         "stats": {
          "histogram": [
           {
            "bin_end": 6.58,
            "bin_start": 5.6,
            "count": 1
           },
           {
            "bin_end": 7.56,
            "bin_start": 6.58,
            "count": 0
           },
           {
            "bin_end": 8.54,
            "bin_start": 7.56,
            "count": 1
           },
           {
            "bin_end": 9.52,
            "bin_start": 8.54,
            "count": 2
           },
           {
            "bin_end": 10.5,
            "bin_start": 9.52,
            "count": 4
           },
           {
            "bin_end": 11.48,
            "bin_start": 10.5,
            "count": 4
           },
           {
            "bin_end": 12.46,
            "bin_start": 11.48,
            "count": 5
           },
           {
            "bin_end": 13.440000000000001,
            "bin_start": 12.46,
            "count": 2
           },
           {
            "bin_end": 14.42,
            "bin_start": 13.440000000000001,
            "count": 0
           },
           {
            "bin_end": 15.4,
            "bin_start": 14.42,
            "count": 1
           }
          ],
          "max": "15.4",
          "min": "5.6",
          "nan_count": 0,
          "unique_count": 18
         }
        },
        {
         "dtype": "float64",
         "name": "White Blood Cells (cells/cmm)",
         "stats": {
          "histogram": [
           {
            "bin_end": 4640,
            "bin_start": 3800,
            "count": 2
           },
           {
            "bin_end": 5480,
            "bin_start": 4640,
            "count": 1
           },
           {
            "bin_end": 6320,
            "bin_start": 5480,
            "count": 1
           },
           {
            "bin_end": 7160,
            "bin_start": 6320,
            "count": 2
           },
           {
            "bin_end": 8000,
            "bin_start": 7160,
            "count": 4
           },
           {
            "bin_end": 8840,
            "bin_start": 8000,
            "count": 3
           },
           {
            "bin_end": 9680,
            "bin_start": 8840,
            "count": 3
           },
           {
            "bin_end": 10520,
            "bin_start": 9680,
            "count": 0
           },
           {
            "bin_end": 11360,
            "bin_start": 10520,
            "count": 1
           },
           {
            "bin_end": 12200,
            "bin_start": 11360,
            "count": 3
           }
          ],
          "max": "12200.0",
          "min": "3800.0",
          "nan_count": 0,
          "unique_count": 18
         }
        },
        {
         "dtype": "int64",
         "name": "Appetite: poor",
         "stats": {
          "histogram": [
           {
            "bin_end": 0.1,
            "bin_start": 0,
            "count": 12
           },
           {
            "bin_end": 0.2,
            "bin_start": 0.1,
            "count": 0
           },
           {
            "bin_end": 0.30000000000000004,
            "bin_start": 0.2,
            "count": 0
           },
           {
            "bin_end": 0.4,
            "bin_start": 0.30000000000000004,
            "count": 0
           },
           {
            "bin_end": 0.5,
            "bin_start": 0.4,
            "count": 0
           },
           {
            "bin_end": 0.6000000000000001,
            "bin_start": 0.5,
            "count": 0
           },
           {
            "bin_end": 0.7000000000000001,
            "bin_start": 0.6000000000000001,
            "count": 0
           },
           {
            "bin_end": 0.8,
            "bin_start": 0.7000000000000001,
            "count": 0
           },
           {
            "bin_end": 0.9,
            "bin_start": 0.8,
            "count": 0
           },
           {
            "bin_end": 1,
            "bin_start": 0.9,
            "count": 8
           }
          ],
          "max": "1",
          "min": "0",
          "nan_count": 0,
          "unique_count": 2
         }
        },
        {
         "dtype": "float64",
         "name": "Red Blood Cells (millions/cmm)",
         "stats": {
          "histogram": [
           {
            "bin_end": 2.8600000000000003,
            "bin_start": 2.6,
            "count": 2
           },
           {
            "bin_end": 3.12,
            "bin_start": 2.8600000000000003,
            "count": 0
           },
           {
            "bin_end": 3.38,
            "bin_start": 3.12,
            "count": 0
           },
           {
            "bin_end": 3.64,
            "bin_start": 3.38,
            "count": 3
           },
           {
            "bin_end": 3.9000000000000004,
            "bin_start": 3.64,
            "count": 5
           },
           {
            "bin_end": 4.16,
            "bin_start": 3.9000000000000004,
            "count": 1
           },
           {
            "bin_end": 4.42,
            "bin_start": 4.16,
            "count": 2
           },
           {
            "bin_end": 4.68,
            "bin_start": 4.42,
            "count": 2
           },
           {
            "bin_end": 4.9399999999999995,
            "bin_start": 4.68,
            "count": 3
           },
           {
            "bin_end": 5.2,
            "bin_start": 4.9399999999999995,
            "count": 2
           }
          ],
          "max": "5.2",
          "min": "2.6",
          "nan_count": 0,
          "unique_count": 16
         }
        },
        {
         "dtype": "int64",
         "name": "Hypertension: yes",
         "stats": {
          "histogram": [
           {
            "bin_end": 0.1,
            "bin_start": 0,
            "count": 6
           },
           {
            "bin_end": 0.2,
            "bin_start": 0.1,
            "count": 0
           },
           {
            "bin_end": 0.30000000000000004,
            "bin_start": 0.2,
            "count": 0
           },
           {
            "bin_end": 0.4,
            "bin_start": 0.30000000000000004,
            "count": 0
           },
           {
            "bin_end": 0.5,
            "bin_start": 0.4,
            "count": 0
           },
           {
            "bin_end": 0.6000000000000001,
            "bin_start": 0.5,
            "count": 0
           },
           {
            "bin_end": 0.7000000000000001,
            "bin_start": 0.6000000000000001,
            "count": 0
           },
           {
            "bin_end": 0.8,
            "bin_start": 0.7000000000000001,
            "count": 0
           },
           {
            "bin_end": 0.9,
            "bin_start": 0.8,
            "count": 0
           },
           {
            "bin_end": 1,
            "bin_start": 0.9,
            "count": 14
           }
          ],
          "max": "1",
          "min": "0",
          "nan_count": 0,
          "unique_count": 2
         }
        },
        {
         "dtype": "int64",
         "name": "Bacteria: present",
         "stats": {
          "histogram": [
           {
            "bin_end": 0.1,
            "bin_start": 0,
            "count": 19
           },
           {
            "bin_end": 0.2,
            "bin_start": 0.1,
            "count": 0
           },
           {
            "bin_end": 0.30000000000000004,
            "bin_start": 0.2,
            "count": 0
           },
           {
            "bin_end": 0.4,
            "bin_start": 0.30000000000000004,
            "count": 0
           },
           {
            "bin_end": 0.5,
            "bin_start": 0.4,
            "count": 0
           },
           {
            "bin_end": 0.6000000000000001,
            "bin_start": 0.5,
            "count": 0
           },
           {
            "bin_end": 0.7000000000000001,
            "bin_start": 0.6000000000000001,
            "count": 0
           },
           {
            "bin_end": 0.8,
            "bin_start": 0.7000000000000001,
            "count": 0
           },
           {
            "bin_end": 0.9,
            "bin_start": 0.8,
            "count": 0
           },
           {
            "bin_end": 1,
            "bin_start": 0.9,
            "count": 1
           }
          ],
          "max": "1",
          "min": "0",
          "nan_count": 0,
          "unique_count": 2
         }
        },
        {
         "dtype": "int64",
         "name": "Diabetes Mellitus: yes",
         "stats": {
          "histogram": [
           {
            "bin_end": 0.1,
            "bin_start": 0,
            "count": 8
           },
           {
            "bin_end": 0.2,
            "bin_start": 0.1,
            "count": 0
           },
           {
            "bin_end": 0.30000000000000004,
            "bin_start": 0.2,
            "count": 0
           },
           {
            "bin_end": 0.4,
            "bin_start": 0.30000000000000004,
            "count": 0
           },
           {
            "bin_end": 0.5,
            "bin_start": 0.4,
            "count": 0
           },
           {
            "bin_end": 0.6000000000000001,
            "bin_start": 0.5,
            "count": 0
           },
           {
            "bin_end": 0.7000000000000001,
            "bin_start": 0.6000000000000001,
            "count": 0
           },
           {
            "bin_end": 0.8,
            "bin_start": 0.7000000000000001,
            "count": 0
           },
           {
            "bin_end": 0.9,
            "bin_start": 0.8,
            "count": 0
           },
           {
            "bin_end": 1,
            "bin_start": 0.9,
            "count": 12
           }
          ],
          "max": "1",
          "min": "0",
          "nan_count": 0,
          "unique_count": 2
         }
        },
        {
         "dtype": "int64",
         "name": "Coronary Artery Disease: yes",
         "stats": {
          "histogram": [
           {
            "bin_end": 0.1,
            "bin_start": 0,
            "count": 15
           },
           {
            "bin_end": 0.2,
            "bin_start": 0.1,
            "count": 0
           },
           {
            "bin_end": 0.30000000000000004,
            "bin_start": 0.2,
            "count": 0
           },
           {
            "bin_end": 0.4,
            "bin_start": 0.30000000000000004,
            "count": 0
           },
           {
            "bin_end": 0.5,
            "bin_start": 0.4,
            "count": 0
           },
           {
            "bin_end": 0.6000000000000001,
            "bin_start": 0.5,
            "count": 0
           },
           {
            "bin_end": 0.7000000000000001,
            "bin_start": 0.6000000000000001,
            "count": 0
           },
           {
            "bin_end": 0.8,
            "bin_start": 0.7000000000000001,
            "count": 0
           },
           {
            "bin_end": 0.9,
            "bin_start": 0.8,
            "count": 0
           },
           {
            "bin_end": 1,
            "bin_start": 0.9,
            "count": 5
           }
          ],
          "max": "1",
          "min": "0",
          "nan_count": 0,
          "unique_count": 2
         }
        },
        {
         "dtype": "int64",
         "name": "Anemia: yes",
         "stats": {
          "histogram": [
           {
            "bin_end": 0.1,
            "bin_start": 0,
            "count": 14
           },
           {
            "bin_end": 0.2,
            "bin_start": 0.1,
            "count": 0
           },
           {
            "bin_end": 0.30000000000000004,
            "bin_start": 0.2,
            "count": 0
           },
           {
            "bin_end": 0.4,
            "bin_start": 0.30000000000000004,
            "count": 0
           },
           {
            "bin_end": 0.5,
            "bin_start": 0.4,
            "count": 0
           },
           {
            "bin_end": 0.6000000000000001,
            "bin_start": 0.5,
            "count": 0
           },
           {
            "bin_end": 0.7000000000000001,
            "bin_start": 0.6000000000000001,
            "count": 0
           },
           {
            "bin_end": 0.8,
            "bin_start": 0.7000000000000001,
            "count": 0
           },
           {
            "bin_end": 0.9,
            "bin_start": 0.8,
            "count": 0
           },
           {
            "bin_end": 1,
            "bin_start": 0.9,
            "count": 6
           }
          ],
          "max": "1",
          "min": "0",
          "nan_count": 0,
          "unique_count": 2
         }
        },
        {
         "dtype": "int64",
         "name": "Chronic Kidney Disease: yes",
         "stats": {
          "histogram": [
           {
            "bin_end": 0.6,
            "bin_start": 0.5,
            "count": 0
           },
           {
            "bin_end": 0.7,
            "bin_start": 0.6,
            "count": 0
           },
           {
            "bin_end": 0.8,
            "bin_start": 0.7,
            "count": 0
           },
           {
            "bin_end": 0.9,
            "bin_start": 0.8,
            "count": 0
           },
           {
            "bin_end": 1,
            "bin_start": 0.9,
            "count": 0
           },
           {
            "bin_end": 1.1,
            "bin_start": 1,
            "count": 20
           },
           {
            "bin_end": 1.2000000000000002,
            "bin_start": 1.1,
            "count": 0
           },
           {
            "bin_end": 1.3,
            "bin_start": 1.2000000000000002,
            "count": 0
           },
           {
            "bin_end": 1.4,
            "bin_start": 1.3,
            "count": 0
           },
           {
            "bin_end": 1.5,
            "bin_start": 1.4,
            "count": 0
           }
          ],
          "max": "1",
          "min": "1",
          "nan_count": 0,
          "unique_count": 1
         }
        },
        {
         "dtype": "int64",
         "name": "_deepnote_index_column"
        }
       ],
       "row_count": 20,
       "rows": [
        {
         "Age (yrs)": 48,
         "Albumin": 1,
         "Anemia: yes": 0,
         "Appetite: poor": 0,
         "Bacteria: present": 0,
         "Blood Glucose Random (mgs/dL)": 121,
         "Blood Pressure (mm/Hg)": 80,
         "Blood Urea (mgs/dL)": 36,
         "Chronic Kidney Disease: yes": 1,
         "Coronary Artery Disease: yes": 0,
         "Diabetes Mellitus: yes": 1,
         "Hemoglobin (gms)": 15.4,
         "Hypertension: yes": 1,
         "Potassium (mEq/L)": 4.7,
         "Red Blood Cells (millions/cmm)": 5.2,
         "Serum Creatinine (mgs/dL)": 1.2,
         "Sodium (mEq/L)": 136,
         "Specific Gravity": 1.02,
         "Sugar": 0,
         "White Blood Cells (cells/cmm)": 7800,
         "_deepnote_index_column": 0
        },
        {
         "Age (yrs)": 7,
         "Albumin": 4,
         "Anemia: yes": 0,
         "Appetite: poor": 0,
         "Bacteria: present": 0,
         "Blood Glucose Random (mgs/dL)": 90.31658119,
         "Blood Pressure (mm/Hg)": 50,
         "Blood Urea (mgs/dL)": 18,
         "Chronic Kidney Disease: yes": 1,
         "Coronary Artery Disease: yes": 0,
         "Diabetes Mellitus: yes": 0,
         "Hemoglobin (gms)": 11.3,
         "Hypertension: yes": 0,
         "Potassium (mEq/L)": 4,
         "Red Blood Cells (millions/cmm)": 4.721717463,
         "Serum Creatinine (mgs/dL)": 0.8,
         "Sodium (mEq/L)": 140,
         "Specific Gravity": 1.02,
         "Sugar": 0,
         "White Blood Cells (cells/cmm)": 6000,
         "_deepnote_index_column": 1
        },
        {
         "Age (yrs)": 62,
         "Albumin": 2,
         "Anemia: yes": 1,
         "Appetite: poor": 1,
         "Bacteria: present": 0,
         "Blood Glucose Random (mgs/dL)": 423,
         "Blood Pressure (mm/Hg)": 80,
         "Blood Urea (mgs/dL)": 53,
         "Chronic Kidney Disease: yes": 1,
         "Coronary Artery Disease: yes": 0,
         "Diabetes Mellitus: yes": 1,
         "Hemoglobin (gms)": 9.6,
         "Hypertension: yes": 0,
         "Potassium (mEq/L)": 4.8,
         "Red Blood Cells (millions/cmm)": 3.4,
         "Serum Creatinine (mgs/dL)": 1.8,
         "Sodium (mEq/L)": 135,
         "Specific Gravity": 1.01,
         "Sugar": 3,
         "White Blood Cells (cells/cmm)": 7500,
         "_deepnote_index_column": 2
        },
        {
         "Age (yrs)": 48,
         "Albumin": 4,
         "Anemia: yes": 1,
         "Appetite: poor": 1,
         "Bacteria: present": 0,
         "Blood Glucose Random (mgs/dL)": 117,
         "Blood Pressure (mm/Hg)": 70,
         "Blood Urea (mgs/dL)": 56,
         "Chronic Kidney Disease: yes": 1,
         "Coronary Artery Disease: yes": 0,
         "Diabetes Mellitus: yes": 0,
         "Hemoglobin (gms)": 11.2,
         "Hypertension: yes": 1,
         "Potassium (mEq/L)": 2.5,
         "Red Blood Cells (millions/cmm)": 3.9,
         "Serum Creatinine (mgs/dL)": 3.8,
         "Sodium (mEq/L)": 111,
         "Specific Gravity": 1.005,
         "Sugar": 0,
         "White Blood Cells (cells/cmm)": 6700,
         "_deepnote_index_column": 3
        },
        {
         "Age (yrs)": 51,
         "Albumin": 2,
         "Anemia: yes": 0,
         "Appetite: poor": 0,
         "Bacteria: present": 0,
         "Blood Glucose Random (mgs/dL)": 106,
         "Blood Pressure (mm/Hg)": 80,
         "Blood Urea (mgs/dL)": 26,
         "Chronic Kidney Disease: yes": 1,
         "Coronary Artery Disease: yes": 0,
         "Diabetes Mellitus: yes": 0,
         "Hemoglobin (gms)": 11.6,
         "Hypertension: yes": 0,
         "Potassium (mEq/L)": 4,
         "Red Blood Cells (millions/cmm)": 4.6,
         "Serum Creatinine (mgs/dL)": 1.4,
         "Sodium (mEq/L)": 140,
         "Specific Gravity": 1.01,
         "Sugar": 0,
         "White Blood Cells (cells/cmm)": 7300,
         "_deepnote_index_column": 4
        },
        {
         "Age (yrs)": 60,
         "Albumin": 3,
         "Anemia: yes": 0,
         "Appetite: poor": 0,
         "Bacteria: present": 0,
         "Blood Glucose Random (mgs/dL)": 74,
         "Blood Pressure (mm/Hg)": 90,
         "Blood Urea (mgs/dL)": 25,
         "Chronic Kidney Disease: yes": 1,
         "Coronary Artery Disease: yes": 0,
         "Diabetes Mellitus: yes": 1,
         "Hemoglobin (gms)": 12.2,
         "Hypertension: yes": 1,
         "Potassium (mEq/L)": 3.2,
         "Red Blood Cells (millions/cmm)": 4.4,
         "Serum Creatinine (mgs/dL)": 1.1,
         "Sodium (mEq/L)": 142,
         "Specific Gravity": 1.015,
         "Sugar": 0,
         "White Blood Cells (cells/cmm)": 7800,
         "_deepnote_index_column": 5
        },
        {
         "Age (yrs)": 68,
         "Albumin": 0,
         "Anemia: yes": 0,
         "Appetite: poor": 0,
         "Bacteria: present": 0,
         "Blood Glucose Random (mgs/dL)": 100,
         "Blood Pressure (mm/Hg)": 70,
         "Blood Urea (mgs/dL)": 54,
         "Chronic Kidney Disease: yes": 1,
         "Coronary Artery Disease: yes": 0,
         "Diabetes Mellitus: yes": 0,
         "Hemoglobin (gms)": 12.4,
         "Hypertension: yes": 0,
         "Potassium (mEq/L)": 4,
         "Red Blood Cells (millions/cmm)": 4.79153164,
         "Serum Creatinine (mgs/dL)": 24,
         "Sodium (mEq/L)": 104,
         "Specific Gravity": 1.01,
         "Sugar": 0,
         "White Blood Cells (cells/cmm)": 8200,
         "_deepnote_index_column": 6
        },
        {
         "Age (yrs)": 24,
         "Albumin": 2,
         "Anemia: yes": 0,
         "Appetite: poor": 0,
         "Bacteria: present": 0,
         "Blood Glucose Random (mgs/dL)": 410,
         "Blood Pressure (mm/Hg)": 60,
         "Blood Urea (mgs/dL)": 31,
         "Chronic Kidney Disease: yes": 1,
         "Coronary Artery Disease: yes": 0,
         "Diabetes Mellitus: yes": 1,
         "Hemoglobin (gms)": 12.4,
         "Hypertension: yes": 0,
         "Potassium (mEq/L)": 4.2,
         "Red Blood Cells (millions/cmm)": 5,
         "Serum Creatinine (mgs/dL)": 1.1,
         "Sodium (mEq/L)": 138,
         "Specific Gravity": 1.015,
         "Sugar": 4,
         "White Blood Cells (cells/cmm)": 6900,
         "_deepnote_index_column": 7
        },
        {
         "Age (yrs)": 52,
         "Albumin": 3,
         "Anemia: yes": 1,
         "Appetite: poor": 0,
         "Bacteria: present": 0,
         "Blood Glucose Random (mgs/dL)": 138,
         "Blood Pressure (mm/Hg)": 100,
         "Blood Urea (mgs/dL)": 60,
         "Chronic Kidney Disease: yes": 1,
         "Coronary Artery Disease: yes": 0,
         "Diabetes Mellitus: yes": 1,
         "Hemoglobin (gms)": 10.8,
         "Hypertension: yes": 1,
         "Potassium (mEq/L)": 5,
         "Red Blood Cells (millions/cmm)": 4,
         "Serum Creatinine (mgs/dL)": 1.9,
         "Sodium (mEq/L)": 135,
         "Specific Gravity": 1.015,
         "Sugar": 0,
         "White Blood Cells (cells/cmm)": 9600,
         "_deepnote_index_column": 8
        },
        {
         "Age (yrs)": 53,
         "Albumin": 2,
         "Anemia: yes": 1,
         "Appetite: poor": 1,
         "Bacteria: present": 0,
         "Blood Glucose Random (mgs/dL)": 70,
         "Blood Pressure (mm/Hg)": 90,
         "Blood Urea (mgs/dL)": 107,
         "Chronic Kidney Disease: yes": 1,
         "Coronary Artery Disease: yes": 0,
         "Diabetes Mellitus: yes": 1,
         "Hemoglobin (gms)": 9.5,
         "Hypertension: yes": 1,
         "Potassium (mEq/L)": 3.7,
         "Red Blood Cells (millions/cmm)": 3.7,
         "Serum Creatinine (mgs/dL)": 7.2,
         "Sodium (mEq/L)": 114,
         "Specific Gravity": 1.02,
         "Sugar": 0,
         "White Blood Cells (cells/cmm)": 12100,
         "_deepnote_index_column": 9
        }
       ]
      },
      "text/html": [
       "<div>\n",
       "<style scoped>\n",
       "    .dataframe tbody tr th:only-of-type {\n",
       "        vertical-align: middle;\n",
       "    }\n",
       "\n",
       "    .dataframe tbody tr th {\n",
       "        vertical-align: top;\n",
       "    }\n",
       "\n",
       "    .dataframe thead th {\n",
       "        text-align: right;\n",
       "    }\n",
       "</style>\n",
       "<table border=\"1\" class=\"dataframe\">\n",
       "  <thead>\n",
       "    <tr style=\"text-align: right;\">\n",
       "      <th></th>\n",
       "      <th>Age (yrs)</th>\n",
       "      <th>Blood Pressure (mm/Hg)</th>\n",
       "      <th>Specific Gravity</th>\n",
       "      <th>Albumin</th>\n",
       "      <th>Sugar</th>\n",
       "      <th>Blood Glucose Random (mgs/dL)</th>\n",
       "      <th>Blood Urea (mgs/dL)</th>\n",
       "      <th>Serum Creatinine (mgs/dL)</th>\n",
       "      <th>Sodium (mEq/L)</th>\n",
       "      <th>Potassium (mEq/L)</th>\n",
       "      <th>Hemoglobin (gms)</th>\n",
       "      <th>White Blood Cells (cells/cmm)</th>\n",
       "      <th>Appetite: poor</th>\n",
       "      <th>Red Blood Cells (millions/cmm)</th>\n",
       "      <th>Hypertension: yes</th>\n",
       "      <th>Bacteria: present</th>\n",
       "      <th>Diabetes Mellitus: yes</th>\n",
       "      <th>Coronary Artery Disease: yes</th>\n",
       "      <th>Anemia: yes</th>\n",
       "      <th>Chronic Kidney Disease: yes</th>\n",
       "    </tr>\n",
       "  </thead>\n",
       "  <tbody>\n",
       "    <tr>\n",
       "      <th>0</th>\n",
       "      <td>48.0</td>\n",
       "      <td>80</td>\n",
       "      <td>1.020</td>\n",
       "      <td>1.000000</td>\n",
       "      <td>0</td>\n",
       "      <td>121.000000</td>\n",
       "      <td>36.0</td>\n",
       "      <td>1.2</td>\n",
       "      <td>136.0</td>\n",
       "      <td>4.7</td>\n",
       "      <td>15.4</td>\n",
       "      <td>7800.000000</td>\n",
       "      <td>0</td>\n",
       "      <td>5.200000</td>\n",
       "      <td>1</td>\n",
       "      <td>0</td>\n",
       "      <td>1</td>\n",
       "      <td>0</td>\n",
       "      <td>0</td>\n",
       "      <td>1</td>\n",
       "    </tr>\n",
       "    <tr>\n",
       "      <th>1</th>\n",
       "      <td>7.0</td>\n",
       "      <td>50</td>\n",
       "      <td>1.020</td>\n",
       "      <td>4.000000</td>\n",
       "      <td>0</td>\n",
       "      <td>90.316581</td>\n",
       "      <td>18.0</td>\n",
       "      <td>0.8</td>\n",
       "      <td>140.0</td>\n",
       "      <td>4.0</td>\n",
       "      <td>11.3</td>\n",
       "      <td>6000.000000</td>\n",
       "      <td>0</td>\n",
       "      <td>4.721717</td>\n",
       "      <td>0</td>\n",
       "      <td>0</td>\n",
       "      <td>0</td>\n",
       "      <td>0</td>\n",
       "      <td>0</td>\n",
       "      <td>1</td>\n",
       "    </tr>\n",
       "    <tr>\n",
       "      <th>2</th>\n",
       "      <td>62.0</td>\n",
       "      <td>80</td>\n",
       "      <td>1.010</td>\n",
       "      <td>2.000000</td>\n",
       "      <td>3</td>\n",
       "      <td>423.000000</td>\n",
       "      <td>53.0</td>\n",
       "      <td>1.8</td>\n",
       "      <td>135.0</td>\n",
       "      <td>4.8</td>\n",
       "      <td>9.6</td>\n",
       "      <td>7500.000000</td>\n",
       "      <td>1</td>\n",
       "      <td>3.400000</td>\n",
       "      <td>0</td>\n",
       "      <td>0</td>\n",
       "      <td>1</td>\n",
       "      <td>0</td>\n",
       "      <td>1</td>\n",
       "      <td>1</td>\n",
       "    </tr>\n",
       "    <tr>\n",
       "      <th>3</th>\n",
       "      <td>48.0</td>\n",
       "      <td>70</td>\n",
       "      <td>1.005</td>\n",
       "      <td>4.000000</td>\n",
       "      <td>0</td>\n",
       "      <td>117.000000</td>\n",
       "      <td>56.0</td>\n",
       "      <td>3.8</td>\n",
       "      <td>111.0</td>\n",
       "      <td>2.5</td>\n",
       "      <td>11.2</td>\n",
       "      <td>6700.000000</td>\n",
       "      <td>1</td>\n",
       "      <td>3.900000</td>\n",
       "      <td>1</td>\n",
       "      <td>0</td>\n",
       "      <td>0</td>\n",
       "      <td>0</td>\n",
       "      <td>1</td>\n",
       "      <td>1</td>\n",
       "    </tr>\n",
       "    <tr>\n",
       "      <th>4</th>\n",
       "      <td>51.0</td>\n",
       "      <td>80</td>\n",
       "      <td>1.010</td>\n",
       "      <td>2.000000</td>\n",
       "      <td>0</td>\n",
       "      <td>106.000000</td>\n",
       "      <td>26.0</td>\n",
       "      <td>1.4</td>\n",
       "      <td>140.0</td>\n",
       "      <td>4.0</td>\n",
       "      <td>11.6</td>\n",
       "      <td>7300.000000</td>\n",
       "      <td>0</td>\n",
       "      <td>4.600000</td>\n",
       "      <td>0</td>\n",
       "      <td>0</td>\n",
       "      <td>0</td>\n",
       "      <td>0</td>\n",
       "      <td>0</td>\n",
       "      <td>1</td>\n",
       "    </tr>\n",
       "    <tr>\n",
       "      <th>5</th>\n",
       "      <td>60.0</td>\n",
       "      <td>90</td>\n",
       "      <td>1.015</td>\n",
       "      <td>3.000000</td>\n",
       "      <td>0</td>\n",
       "      <td>74.000000</td>\n",
       "      <td>25.0</td>\n",
       "      <td>1.1</td>\n",
       "      <td>142.0</td>\n",
       "      <td>3.2</td>\n",
       "      <td>12.2</td>\n",
       "      <td>7800.000000</td>\n",
       "      <td>0</td>\n",
       "      <td>4.400000</td>\n",
       "      <td>1</td>\n",
       "      <td>0</td>\n",
       "      <td>1</td>\n",
       "      <td>0</td>\n",
       "      <td>0</td>\n",
       "      <td>1</td>\n",
       "    </tr>\n",
       "    <tr>\n",
       "      <th>6</th>\n",
       "      <td>68.0</td>\n",
       "      <td>70</td>\n",
       "      <td>1.010</td>\n",
       "      <td>0.000000</td>\n",
       "      <td>0</td>\n",
       "      <td>100.000000</td>\n",
       "      <td>54.0</td>\n",
       "      <td>24.0</td>\n",
       "      <td>104.0</td>\n",
       "      <td>4.0</td>\n",
       "      <td>12.4</td>\n",
       "      <td>8200.000000</td>\n",
       "      <td>0</td>\n",
       "      <td>4.791532</td>\n",
       "      <td>0</td>\n",
       "      <td>0</td>\n",
       "      <td>0</td>\n",
       "      <td>0</td>\n",
       "      <td>0</td>\n",
       "      <td>1</td>\n",
       "    </tr>\n",
       "    <tr>\n",
       "      <th>7</th>\n",
       "      <td>24.0</td>\n",
       "      <td>60</td>\n",
       "      <td>1.015</td>\n",
       "      <td>2.000000</td>\n",
       "      <td>4</td>\n",
       "      <td>410.000000</td>\n",
       "      <td>31.0</td>\n",
       "      <td>1.1</td>\n",
       "      <td>138.0</td>\n",
       "      <td>4.2</td>\n",
       "      <td>12.4</td>\n",
       "      <td>6900.000000</td>\n",
       "      <td>0</td>\n",
       "      <td>5.000000</td>\n",
       "      <td>0</td>\n",
       "      <td>0</td>\n",
       "      <td>1</td>\n",
       "      <td>0</td>\n",
       "      <td>0</td>\n",
       "      <td>1</td>\n",
       "    </tr>\n",
       "    <tr>\n",
       "      <th>8</th>\n",
       "      <td>52.0</td>\n",
       "      <td>100</td>\n",
       "      <td>1.015</td>\n",
       "      <td>3.000000</td>\n",
       "      <td>0</td>\n",
       "      <td>138.000000</td>\n",
       "      <td>60.0</td>\n",
       "      <td>1.9</td>\n",
       "      <td>135.0</td>\n",
       "      <td>5.0</td>\n",
       "      <td>10.8</td>\n",
       "      <td>9600.000000</td>\n",
       "      <td>0</td>\n",
       "      <td>4.000000</td>\n",
       "      <td>1</td>\n",
       "      <td>0</td>\n",
       "      <td>1</td>\n",
       "      <td>0</td>\n",
       "      <td>1</td>\n",
       "      <td>1</td>\n",
       "    </tr>\n",
       "    <tr>\n",
       "      <th>9</th>\n",
       "      <td>53.0</td>\n",
       "      <td>90</td>\n",
       "      <td>1.020</td>\n",
       "      <td>2.000000</td>\n",
       "      <td>0</td>\n",
       "      <td>70.000000</td>\n",
       "      <td>107.0</td>\n",
       "      <td>7.2</td>\n",
       "      <td>114.0</td>\n",
       "      <td>3.7</td>\n",
       "      <td>9.5</td>\n",
       "      <td>12100.000000</td>\n",
       "      <td>1</td>\n",
       "      <td>3.700000</td>\n",
       "      <td>1</td>\n",
       "      <td>0</td>\n",
       "      <td>1</td>\n",
       "      <td>0</td>\n",
       "      <td>1</td>\n",
       "      <td>1</td>\n",
       "    </tr>\n",
       "    <tr>\n",
       "      <th>10</th>\n",
       "      <td>50.0</td>\n",
       "      <td>60</td>\n",
       "      <td>1.010</td>\n",
       "      <td>2.000000</td>\n",
       "      <td>4</td>\n",
       "      <td>490.000000</td>\n",
       "      <td>55.0</td>\n",
       "      <td>4.0</td>\n",
       "      <td>135.0</td>\n",
       "      <td>5.0</td>\n",
       "      <td>9.4</td>\n",
       "      <td>9139.816958</td>\n",
       "      <td>0</td>\n",
       "      <td>3.900000</td>\n",
       "      <td>1</td>\n",
       "      <td>0</td>\n",
       "      <td>1</td>\n",
       "      <td>0</td>\n",
       "      <td>1</td>\n",
       "      <td>1</td>\n",
       "    </tr>\n",
       "    <tr>\n",
       "      <th>11</th>\n",
       "      <td>63.0</td>\n",
       "      <td>70</td>\n",
       "      <td>1.010</td>\n",
       "      <td>3.000000</td>\n",
       "      <td>0</td>\n",
       "      <td>380.000000</td>\n",
       "      <td>60.0</td>\n",
       "      <td>2.7</td>\n",
       "      <td>131.0</td>\n",
       "      <td>4.2</td>\n",
       "      <td>10.8</td>\n",
       "      <td>4500.000000</td>\n",
       "      <td>1</td>\n",
       "      <td>3.800000</td>\n",
       "      <td>1</td>\n",
       "      <td>0</td>\n",
       "      <td>1</td>\n",
       "      <td>0</td>\n",
       "      <td>0</td>\n",
       "      <td>1</td>\n",
       "    </tr>\n",
       "    <tr>\n",
       "      <th>12</th>\n",
       "      <td>68.0</td>\n",
       "      <td>70</td>\n",
       "      <td>1.015</td>\n",
       "      <td>3.000000</td>\n",
       "      <td>1</td>\n",
       "      <td>208.000000</td>\n",
       "      <td>72.0</td>\n",
       "      <td>2.1</td>\n",
       "      <td>138.0</td>\n",
       "      <td>5.8</td>\n",
       "      <td>9.7</td>\n",
       "      <td>12200.000000</td>\n",
       "      <td>1</td>\n",
       "      <td>3.400000</td>\n",
       "      <td>1</td>\n",
       "      <td>0</td>\n",
       "      <td>1</td>\n",
       "      <td>1</td>\n",
       "      <td>0</td>\n",
       "      <td>1</td>\n",
       "    </tr>\n",
       "    <tr>\n",
       "      <th>13</th>\n",
       "      <td>68.0</td>\n",
       "      <td>70</td>\n",
       "      <td>1.015</td>\n",
       "      <td>1.318621</td>\n",
       "      <td>0</td>\n",
       "      <td>98.000000</td>\n",
       "      <td>86.0</td>\n",
       "      <td>4.6</td>\n",
       "      <td>135.0</td>\n",
       "      <td>3.4</td>\n",
       "      <td>9.8</td>\n",
       "      <td>8939.116829</td>\n",
       "      <td>1</td>\n",
       "      <td>3.400000</td>\n",
       "      <td>1</td>\n",
       "      <td>0</td>\n",
       "      <td>1</td>\n",
       "      <td>1</td>\n",
       "      <td>0</td>\n",
       "      <td>1</td>\n",
       "    </tr>\n",
       "    <tr>\n",
       "      <th>14</th>\n",
       "      <td>68.0</td>\n",
       "      <td>80</td>\n",
       "      <td>1.010</td>\n",
       "      <td>3.000000</td>\n",
       "      <td>2</td>\n",
       "      <td>157.000000</td>\n",
       "      <td>90.0</td>\n",
       "      <td>4.1</td>\n",
       "      <td>130.0</td>\n",
       "      <td>6.4</td>\n",
       "      <td>5.6</td>\n",
       "      <td>11000.000000</td>\n",
       "      <td>1</td>\n",
       "      <td>2.600000</td>\n",
       "      <td>1</td>\n",
       "      <td>1</td>\n",
       "      <td>1</td>\n",
       "      <td>1</td>\n",
       "      <td>0</td>\n",
       "      <td>1</td>\n",
       "    </tr>\n",
       "    <tr>\n",
       "      <th>15</th>\n",
       "      <td>40.0</td>\n",
       "      <td>80</td>\n",
       "      <td>1.015</td>\n",
       "      <td>3.000000</td>\n",
       "      <td>0</td>\n",
       "      <td>76.000000</td>\n",
       "      <td>162.0</td>\n",
       "      <td>9.6</td>\n",
       "      <td>141.0</td>\n",
       "      <td>4.9</td>\n",
       "      <td>7.6</td>\n",
       "      <td>3800.000000</td>\n",
       "      <td>0</td>\n",
       "      <td>2.800000</td>\n",
       "      <td>1</td>\n",
       "      <td>0</td>\n",
       "      <td>0</td>\n",
       "      <td>0</td>\n",
       "      <td>1</td>\n",
       "      <td>1</td>\n",
       "    </tr>\n",
       "    <tr>\n",
       "      <th>16</th>\n",
       "      <td>47.0</td>\n",
       "      <td>70</td>\n",
       "      <td>1.015</td>\n",
       "      <td>2.000000</td>\n",
       "      <td>0</td>\n",
       "      <td>99.000000</td>\n",
       "      <td>46.0</td>\n",
       "      <td>2.2</td>\n",
       "      <td>138.0</td>\n",
       "      <td>4.1</td>\n",
       "      <td>12.6</td>\n",
       "      <td>8600.000000</td>\n",
       "      <td>0</td>\n",
       "      <td>4.666067</td>\n",
       "      <td>0</td>\n",
       "      <td>0</td>\n",
       "      <td>0</td>\n",
       "      <td>0</td>\n",
       "      <td>0</td>\n",
       "      <td>1</td>\n",
       "    </tr>\n",
       "    <tr>\n",
       "      <th>17</th>\n",
       "      <td>47.0</td>\n",
       "      <td>80</td>\n",
       "      <td>1.015</td>\n",
       "      <td>0.000000</td>\n",
       "      <td>0</td>\n",
       "      <td>114.000000</td>\n",
       "      <td>87.0</td>\n",
       "      <td>5.2</td>\n",
       "      <td>139.0</td>\n",
       "      <td>3.7</td>\n",
       "      <td>12.1</td>\n",
       "      <td>8600.000000</td>\n",
       "      <td>1</td>\n",
       "      <td>4.900000</td>\n",
       "      <td>1</td>\n",
       "      <td>0</td>\n",
       "      <td>0</td>\n",
       "      <td>0</td>\n",
       "      <td>0</td>\n",
       "      <td>1</td>\n",
       "    </tr>\n",
       "    <tr>\n",
       "      <th>18</th>\n",
       "      <td>60.0</td>\n",
       "      <td>100</td>\n",
       "      <td>1.025</td>\n",
       "      <td>0.000000</td>\n",
       "      <td>3</td>\n",
       "      <td>263.000000</td>\n",
       "      <td>27.0</td>\n",
       "      <td>1.3</td>\n",
       "      <td>135.0</td>\n",
       "      <td>4.3</td>\n",
       "      <td>12.7</td>\n",
       "      <td>11400.000000</td>\n",
       "      <td>0</td>\n",
       "      <td>4.300000</td>\n",
       "      <td>1</td>\n",
       "      <td>0</td>\n",
       "      <td>1</td>\n",
       "      <td>1</td>\n",
       "      <td>0</td>\n",
       "      <td>1</td>\n",
       "    </tr>\n",
       "    <tr>\n",
       "      <th>19</th>\n",
       "      <td>62.0</td>\n",
       "      <td>60</td>\n",
       "      <td>1.015</td>\n",
       "      <td>1.000000</td>\n",
       "      <td>0</td>\n",
       "      <td>100.000000</td>\n",
       "      <td>31.0</td>\n",
       "      <td>1.6</td>\n",
       "      <td>135.0</td>\n",
       "      <td>5.0</td>\n",
       "      <td>10.3</td>\n",
       "      <td>5300.000000</td>\n",
       "      <td>0</td>\n",
       "      <td>3.700000</td>\n",
       "      <td>1</td>\n",
       "      <td>0</td>\n",
       "      <td>0</td>\n",
       "      <td>1</td>\n",
       "      <td>0</td>\n",
       "      <td>1</td>\n",
       "    </tr>\n",
       "  </tbody>\n",
       "</table>\n",
       "</div>"
      ],
      "text/plain": [
       "    Age (yrs)  Blood Pressure (mm/Hg)  Specific Gravity   Albumin  Sugar  \\\n",
       "0        48.0                      80             1.020  1.000000      0   \n",
       "1         7.0                      50             1.020  4.000000      0   \n",
       "2        62.0                      80             1.010  2.000000      3   \n",
       "3        48.0                      70             1.005  4.000000      0   \n",
       "4        51.0                      80             1.010  2.000000      0   \n",
       "5        60.0                      90             1.015  3.000000      0   \n",
       "6        68.0                      70             1.010  0.000000      0   \n",
       "7        24.0                      60             1.015  2.000000      4   \n",
       "8        52.0                     100             1.015  3.000000      0   \n",
       "9        53.0                      90             1.020  2.000000      0   \n",
       "10       50.0                      60             1.010  2.000000      4   \n",
       "11       63.0                      70             1.010  3.000000      0   \n",
       "12       68.0                      70             1.015  3.000000      1   \n",
       "13       68.0                      70             1.015  1.318621      0   \n",
       "14       68.0                      80             1.010  3.000000      2   \n",
       "15       40.0                      80             1.015  3.000000      0   \n",
       "16       47.0                      70             1.015  2.000000      0   \n",
       "17       47.0                      80             1.015  0.000000      0   \n",
       "18       60.0                     100             1.025  0.000000      3   \n",
       "19       62.0                      60             1.015  1.000000      0   \n",
       "\n",
       "    Blood Glucose Random (mgs/dL)  Blood Urea (mgs/dL)  \\\n",
       "0                      121.000000                 36.0   \n",
       "1                       90.316581                 18.0   \n",
       "2                      423.000000                 53.0   \n",
       "3                      117.000000                 56.0   \n",
       "4                      106.000000                 26.0   \n",
       "5                       74.000000                 25.0   \n",
       "6                      100.000000                 54.0   \n",
       "7                      410.000000                 31.0   \n",
       "8                      138.000000                 60.0   \n",
       "9                       70.000000                107.0   \n",
       "10                     490.000000                 55.0   \n",
       "11                     380.000000                 60.0   \n",
       "12                     208.000000                 72.0   \n",
       "13                      98.000000                 86.0   \n",
       "14                     157.000000                 90.0   \n",
       "15                      76.000000                162.0   \n",
       "16                      99.000000                 46.0   \n",
       "17                     114.000000                 87.0   \n",
       "18                     263.000000                 27.0   \n",
       "19                     100.000000                 31.0   \n",
       "\n",
       "    Serum Creatinine (mgs/dL)  Sodium (mEq/L)  Potassium (mEq/L)  \\\n",
       "0                         1.2           136.0                4.7   \n",
       "1                         0.8           140.0                4.0   \n",
       "2                         1.8           135.0                4.8   \n",
       "3                         3.8           111.0                2.5   \n",
       "4                         1.4           140.0                4.0   \n",
       "5                         1.1           142.0                3.2   \n",
       "6                        24.0           104.0                4.0   \n",
       "7                         1.1           138.0                4.2   \n",
       "8                         1.9           135.0                5.0   \n",
       "9                         7.2           114.0                3.7   \n",
       "10                        4.0           135.0                5.0   \n",
       "11                        2.7           131.0                4.2   \n",
       "12                        2.1           138.0                5.8   \n",
       "13                        4.6           135.0                3.4   \n",
       "14                        4.1           130.0                6.4   \n",
       "15                        9.6           141.0                4.9   \n",
       "16                        2.2           138.0                4.1   \n",
       "17                        5.2           139.0                3.7   \n",
       "18                        1.3           135.0                4.3   \n",
       "19                        1.6           135.0                5.0   \n",
       "\n",
       "    Hemoglobin (gms)  White Blood Cells (cells/cmm)  Appetite: poor  \\\n",
       "0               15.4                    7800.000000               0   \n",
       "1               11.3                    6000.000000               0   \n",
       "2                9.6                    7500.000000               1   \n",
       "3               11.2                    6700.000000               1   \n",
       "4               11.6                    7300.000000               0   \n",
       "5               12.2                    7800.000000               0   \n",
       "6               12.4                    8200.000000               0   \n",
       "7               12.4                    6900.000000               0   \n",
       "8               10.8                    9600.000000               0   \n",
       "9                9.5                   12100.000000               1   \n",
       "10               9.4                    9139.816958               0   \n",
       "11              10.8                    4500.000000               1   \n",
       "12               9.7                   12200.000000               1   \n",
       "13               9.8                    8939.116829               1   \n",
       "14               5.6                   11000.000000               1   \n",
       "15               7.6                    3800.000000               0   \n",
       "16              12.6                    8600.000000               0   \n",
       "17              12.1                    8600.000000               1   \n",
       "18              12.7                   11400.000000               0   \n",
       "19              10.3                    5300.000000               0   \n",
       "\n",
       "    Red Blood Cells (millions/cmm)  Hypertension: yes  Bacteria: present  \\\n",
       "0                         5.200000                  1                  0   \n",
       "1                         4.721717                  0                  0   \n",
       "2                         3.400000                  0                  0   \n",
       "3                         3.900000                  1                  0   \n",
       "4                         4.600000                  0                  0   \n",
       "5                         4.400000                  1                  0   \n",
       "6                         4.791532                  0                  0   \n",
       "7                         5.000000                  0                  0   \n",
       "8                         4.000000                  1                  0   \n",
       "9                         3.700000                  1                  0   \n",
       "10                        3.900000                  1                  0   \n",
       "11                        3.800000                  1                  0   \n",
       "12                        3.400000                  1                  0   \n",
       "13                        3.400000                  1                  0   \n",
       "14                        2.600000                  1                  1   \n",
       "15                        2.800000                  1                  0   \n",
       "16                        4.666067                  0                  0   \n",
       "17                        4.900000                  1                  0   \n",
       "18                        4.300000                  1                  0   \n",
       "19                        3.700000                  1                  0   \n",
       "\n",
       "    Diabetes Mellitus: yes  Coronary Artery Disease: yes  Anemia: yes  \\\n",
       "0                        1                             0            0   \n",
       "1                        0                             0            0   \n",
       "2                        1                             0            1   \n",
       "3                        0                             0            1   \n",
       "4                        0                             0            0   \n",
       "5                        1                             0            0   \n",
       "6                        0                             0            0   \n",
       "7                        1                             0            0   \n",
       "8                        1                             0            1   \n",
       "9                        1                             0            1   \n",
       "10                       1                             0            1   \n",
       "11                       1                             0            0   \n",
       "12                       1                             1            0   \n",
       "13                       1                             1            0   \n",
       "14                       1                             1            0   \n",
       "15                       0                             0            1   \n",
       "16                       0                             0            0   \n",
       "17                       0                             0            0   \n",
       "18                       1                             1            0   \n",
       "19                       0                             1            0   \n",
       "\n",
       "    Chronic Kidney Disease: yes  \n",
       "0                             1  \n",
       "1                             1  \n",
       "2                             1  \n",
       "3                             1  \n",
       "4                             1  \n",
       "5                             1  \n",
       "6                             1  \n",
       "7                             1  \n",
       "8                             1  \n",
       "9                             1  \n",
       "10                            1  \n",
       "11                            1  \n",
       "12                            1  \n",
       "13                            1  \n",
       "14                            1  \n",
       "15                            1  \n",
       "16                            1  \n",
       "17                            1  \n",
       "18                            1  \n",
       "19                            1  "
      ]
     },
     "execution_count": 11,
     "metadata": {},
     "output_type": "execute_result"
    }
   ],
   "source": [
    "kidney_df = pd.read_csv('ChronicKidneyDisease.csv')\n",
    "kidney_df.head(20)"
   ]
  },
  {
   "cell_type": "code",
   "execution_count": null,
   "metadata": {
    "cell_id": "a1cb8fb8d137439ebad9533d9e939d7b",
    "deepnote_cell_type": "code",
    "deepnote_to_be_reexecuted": false,
    "execution_millis": 64,
    "execution_start": 1724013621851,
    "source_hash": null
   },
   "outputs": [
    {
     "data": {
      "application/vnd.deepnote.dataframe.v3+json": {
       "column_count": 20,
       "columns": [
        {
         "dtype": "float64",
         "name": "Age (yrs)",
         "stats": {
          "histogram": [
           {
            "bin_end": 10.8,
            "bin_start": 2,
            "count": 10
           },
           {
            "bin_end": 19.6,
            "bin_start": 10.8,
            "count": 11
           },
           {
            "bin_end": 28.400000000000002,
            "bin_start": 19.6,
            "count": 20
           },
           {
            "bin_end": 37.2,
            "bin_start": 28.400000000000002,
            "count": 39
           },
           {
            "bin_end": 46,
            "bin_start": 37.2,
            "count": 45
           },
           {
            "bin_end": 54.800000000000004,
            "bin_start": 46,
            "count": 74
           },
           {
            "bin_end": 63.60000000000001,
            "bin_start": 54.800000000000004,
            "count": 92
           },
           {
            "bin_end": 72.4,
            "bin_start": 63.60000000000001,
            "count": 78
           },
           {
            "bin_end": 81.2,
            "bin_start": 72.4,
            "count": 28
           },
           {
            "bin_end": 90,
            "bin_start": 81.2,
            "count": 3
           }
          ],
          "max": "90.0",
          "min": "2.0",
          "nan_count": 0,
          "unique_count": 79
         }
        },
        {
         "dtype": "int64",
         "name": "Blood Pressure (mm/Hg)",
         "stats": {
          "histogram": [
           {
            "bin_end": 63,
            "bin_start": 50,
            "count": 79
           },
           {
            "bin_end": 76,
            "bin_start": 63,
            "count": 118
           },
           {
            "bin_end": 89,
            "bin_start": 76,
            "count": 118
           },
           {
            "bin_end": 102,
            "bin_start": 89,
            "count": 79
           },
           {
            "bin_end": 115,
            "bin_start": 102,
            "count": 3
           },
           {
            "bin_end": 128,
            "bin_start": 115,
            "count": 1
           },
           {
            "bin_end": 141,
            "bin_start": 128,
            "count": 1
           },
           {
            "bin_end": 154,
            "bin_start": 141,
            "count": 0
           },
           {
            "bin_end": 167,
            "bin_start": 154,
            "count": 0
           },
           {
            "bin_end": 180,
            "bin_start": 167,
            "count": 1
           }
          ],
          "max": "180",
          "min": "50",
          "nan_count": 0,
          "unique_count": 10
         }
        },
        {
         "dtype": "float64",
         "name": "Specific Gravity",
         "stats": {
          "histogram": [
           {
            "bin_end": 1.007,
            "bin_start": 1.005,
            "count": 7
           },
           {
            "bin_end": 1.009,
            "bin_start": 1.007,
            "count": 0
           },
           {
            "bin_end": 1.011,
            "bin_start": 1.009,
            "count": 89
           },
           {
            "bin_end": 1.013,
            "bin_start": 1.011,
            "count": 0
           },
           {
            "bin_end": 1.015,
            "bin_start": 1.013,
            "count": 1
           },
           {
            "bin_end": 1.017,
            "bin_start": 1.015,
            "count": 94
           },
           {
            "bin_end": 1.019,
            "bin_start": 1.017,
            "count": 0
           },
           {
            "bin_end": 1.021,
            "bin_start": 1.019,
            "count": 119
           },
           {
            "bin_end": 1.023,
            "bin_start": 1.021,
            "count": 0
           },
           {
            "bin_end": 1.025,
            "bin_start": 1.023,
            "count": 90
           }
          ],
          "max": "1.025",
          "min": "1.005",
          "nan_count": 0,
          "unique_count": 6
         }
        },
        {
         "dtype": "float64",
         "name": "Albumin",
         "stats": {
          "histogram": [
           {
            "bin_end": 0.5,
            "bin_start": 0,
            "count": 235
           },
           {
            "bin_end": 1,
            "bin_start": 0.5,
            "count": 0
           },
           {
            "bin_end": 1.5,
            "bin_start": 1,
            "count": 51
           },
           {
            "bin_end": 2,
            "bin_start": 1.5,
            "count": 0
           },
           {
            "bin_end": 2.5,
            "bin_start": 2,
            "count": 45
           },
           {
            "bin_end": 3,
            "bin_start": 2.5,
            "count": 0
           },
           {
            "bin_end": 3.5,
            "bin_start": 3,
            "count": 44
           },
           {
            "bin_end": 4,
            "bin_start": 3.5,
            "count": 0
           },
           {
            "bin_end": 4.5,
            "bin_start": 4,
            "count": 24
           },
           {
            "bin_end": 5,
            "bin_start": 4.5,
            "count": 1
           }
          ],
          "max": "5.0",
          "min": "0.0",
          "nan_count": 0,
          "unique_count": 7
         }
        },
        {
         "dtype": "int64",
         "name": "Sugar",
         "stats": {
          "histogram": [
           {
            "bin_end": 0.5,
            "bin_start": 0,
            "count": 339
           },
           {
            "bin_end": 1,
            "bin_start": 0.5,
            "count": 0
           },
           {
            "bin_end": 1.5,
            "bin_start": 1,
            "count": 13
           },
           {
            "bin_end": 2,
            "bin_start": 1.5,
            "count": 0
           },
           {
            "bin_end": 2.5,
            "bin_start": 2,
            "count": 18
           },
           {
            "bin_end": 3,
            "bin_start": 2.5,
            "count": 0
           },
           {
            "bin_end": 3.5,
            "bin_start": 3,
            "count": 14
           },
           {
            "bin_end": 4,
            "bin_start": 3.5,
            "count": 0
           },
           {
            "bin_end": 4.5,
            "bin_start": 4,
            "count": 13
           },
           {
            "bin_end": 5,
            "bin_start": 4.5,
            "count": 3
           }
          ],
          "max": "5",
          "min": "0",
          "nan_count": 0,
          "unique_count": 6
         }
        },
        {
         "dtype": "float64",
         "name": "Blood Glucose Random (mgs/dL)",
         "stats": {
          "histogram": [
           {
            "bin_end": 68.8,
            "bin_start": 22,
            "count": 1
           },
           {
            "bin_end": 115.6,
            "bin_start": 68.8,
            "count": 180
           },
           {
            "bin_end": 162.39999999999998,
            "bin_start": 115.6,
            "count": 122
           },
           {
            "bin_end": 209.2,
            "bin_start": 162.39999999999998,
            "count": 28
           },
           {
            "bin_end": 256,
            "bin_start": 209.2,
            "count": 33
           },
           {
            "bin_end": 302.79999999999995,
            "bin_start": 256,
            "count": 15
           },
           {
            "bin_end": 349.59999999999997,
            "bin_start": 302.79999999999995,
            "count": 7
           },
           {
            "bin_end": 396.4,
            "bin_start": 349.59999999999997,
            "count": 4
           },
           {
            "bin_end": 443.2,
            "bin_start": 396.4,
            "count": 6
           },
           {
            "bin_end": 490,
            "bin_start": 443.2,
            "count": 4
           }
          ],
          "max": "490.0",
          "min": "22.0",
          "nan_count": 0,
          "unique_count": 171
         }
        },
        {
         "dtype": "float64",
         "name": "Blood Urea (mgs/dL)",
         "stats": {
          "histogram": [
           {
            "bin_end": 40.45,
            "bin_start": 1.5,
            "count": 197
           },
           {
            "bin_end": 79.4,
            "bin_start": 40.45,
            "count": 125
           },
           {
            "bin_end": 118.35000000000001,
            "bin_start": 79.4,
            "count": 39
           },
           {
            "bin_end": 157.3,
            "bin_start": 118.35000000000001,
            "count": 18
           },
           {
            "bin_end": 196.25,
            "bin_start": 157.3,
            "count": 10
           },
           {
            "bin_end": 235.20000000000002,
            "bin_start": 196.25,
            "count": 7
           },
           {
            "bin_end": 274.15000000000003,
            "bin_start": 235.20000000000002,
            "count": 1
           },
           {
            "bin_end": 313.1,
            "bin_start": 274.15000000000003,
            "count": 1
           },
           {
            "bin_end": 352.05,
            "bin_start": 313.1,
            "count": 1
           },
           {
            "bin_end": 391,
            "bin_start": 352.05,
            "count": 1
           }
          ],
          "max": "391.0",
          "min": "1.5",
          "nan_count": 0,
          "unique_count": 125
         }
        },
        {
         "dtype": "float64",
         "name": "Serum Creatinine (mgs/dL)",
         "stats": {
          "histogram": [
           {
            "bin_end": 7.96,
            "bin_start": 0.4,
            "count": 371
           },
           {
            "bin_end": 15.52,
            "bin_start": 7.96,
            "count": 21
           },
           {
            "bin_end": 23.08,
            "bin_start": 15.52,
            "count": 4
           },
           {
            "bin_end": 30.639999999999997,
            "bin_start": 23.08,
            "count": 1
           },
           {
            "bin_end": 38.199999999999996,
            "bin_start": 30.639999999999997,
            "count": 1
           },
           {
            "bin_end": 45.76,
            "bin_start": 38.199999999999996,
            "count": 0
           },
           {
            "bin_end": 53.31999999999999,
            "bin_start": 45.76,
            "count": 1
           },
           {
            "bin_end": 60.879999999999995,
            "bin_start": 53.31999999999999,
            "count": 0
           },
           {
            "bin_end": 68.44,
            "bin_start": 60.879999999999995,
            "count": 0
           },
           {
            "bin_end": 76,
            "bin_start": 68.44,
            "count": 1
           }
          ],
          "max": "76.0",
          "min": "0.4",
          "nan_count": 0,
          "unique_count": 89
         }
        },
        {
         "dtype": "float64",
         "name": "Sodium (mEq/L)",
         "stats": {
          "histogram": [
           {
            "bin_end": 20.35,
            "bin_start": 4.5,
            "count": 1
           },
           {
            "bin_end": 36.2,
            "bin_start": 20.35,
            "count": 0
           },
           {
            "bin_end": 52.05,
            "bin_start": 36.2,
            "count": 0
           },
           {
            "bin_end": 67.9,
            "bin_start": 52.05,
            "count": 0
           },
           {
            "bin_end": 83.75,
            "bin_start": 67.9,
            "count": 0
           },
           {
            "bin_end": 99.6,
            "bin_start": 83.75,
            "count": 0
           },
           {
            "bin_end": 115.45,
            "bin_start": 99.6,
            "count": 7
           },
           {
            "bin_end": 131.3,
            "bin_start": 115.45,
            "count": 32
           },
           {
            "bin_end": 147.15,
            "bin_start": 131.3,
            "count": 342
           },
           {
            "bin_end": 163,
            "bin_start": 147.15,
            "count": 18
           }
          ],
          "max": "163.0",
          "min": "4.5",
          "nan_count": 0,
          "unique_count": 40
         }
        },
        {
         "dtype": "float64",
         "name": "Potassium (mEq/L)",
         "stats": {
          "histogram": [
           {
            "bin_end": 6.95,
            "bin_start": 2.5,
            "count": 397
           },
           {
            "bin_end": 11.4,
            "bin_start": 6.95,
            "count": 1
           },
           {
            "bin_end": 15.850000000000001,
            "bin_start": 11.4,
            "count": 0
           },
           {
            "bin_end": 20.3,
            "bin_start": 15.850000000000001,
            "count": 0
           },
           {
            "bin_end": 24.75,
            "bin_start": 20.3,
            "count": 0
           },
           {
            "bin_end": 29.200000000000003,
            "bin_start": 24.75,
            "count": 0
           },
           {
            "bin_end": 33.650000000000006,
            "bin_start": 29.200000000000003,
            "count": 0
           },
           {
            "bin_end": 38.1,
            "bin_start": 33.650000000000006,
            "count": 0
           },
           {
            "bin_end": 42.550000000000004,
            "bin_start": 38.1,
            "count": 1
           },
           {
            "bin_end": 47,
            "bin_start": 42.550000000000004,
            "count": 1
           }
          ],
          "max": "47.0",
          "min": "2.5",
          "nan_count": 0,
          "unique_count": 57
         }
        },
        {
         "dtype": "float64",
         "name": "Hemoglobin (gms)",
         "stats": {
          "histogram": [
           {
            "bin_end": 4.57,
            "bin_start": 3.1,
            "count": 1
           },
           {
            "bin_end": 6.040000000000001,
            "bin_start": 4.57,
            "count": 6
           },
           {
            "bin_end": 7.51,
            "bin_start": 6.040000000000001,
            "count": 8
           },
           {
            "bin_end": 8.98,
            "bin_start": 7.51,
            "count": 26
           },
           {
            "bin_end": 10.450000000000001,
            "bin_start": 8.98,
            "count": 57
           },
           {
            "bin_end": 11.92,
            "bin_start": 10.450000000000001,
            "count": 85
           },
           {
            "bin_end": 13.39,
            "bin_start": 11.92,
            "count": 56
           },
           {
            "bin_end": 14.860000000000001,
            "bin_start": 13.39,
            "count": 62
           },
           {
            "bin_end": 16.330000000000002,
            "bin_start": 14.860000000000001,
            "count": 68
           },
           {
            "bin_end": 17.8,
            "bin_start": 16.330000000000002,
            "count": 31
           }
          ],
          "max": "17.8",
          "min": "3.1",
          "nan_count": 0,
          "unique_count": 142
         }
        },
        {
         "dtype": "float64",
         "name": "White Blood Cells (cells/cmm)",
         "stats": {
          "histogram": [
           {
            "bin_end": 4620,
            "bin_start": 2200,
            "count": 19
           },
           {
            "bin_end": 7040,
            "bin_start": 4620,
            "count": 110
           },
           {
            "bin_end": 9460,
            "bin_start": 7040,
            "count": 158
           },
           {
            "bin_end": 11880,
            "bin_start": 9460,
            "count": 87
           },
           {
            "bin_end": 14300,
            "bin_start": 11880,
            "count": 14
           },
           {
            "bin_end": 16720,
            "bin_start": 14300,
            "count": 8
           },
           {
            "bin_end": 19140,
            "bin_start": 16720,
            "count": 2
           },
           {
            "bin_end": 21560,
            "bin_start": 19140,
            "count": 0
           },
           {
            "bin_end": 23980,
            "bin_start": 21560,
            "count": 1
           },
           {
            "bin_end": 26400,
            "bin_start": 23980,
            "count": 1
           }
          ],
          "max": "26400.0",
          "min": "2200.0",
          "nan_count": 0,
          "unique_count": 134
         }
        },
        {
         "dtype": "int64",
         "name": "Appetite: poor",
         "stats": {
          "histogram": [
           {
            "bin_end": 0.1,
            "bin_start": 0,
            "count": 318
           },
           {
            "bin_end": 0.2,
            "bin_start": 0.1,
            "count": 0
           },
           {
            "bin_end": 0.30000000000000004,
            "bin_start": 0.2,
            "count": 0
           },
           {
            "bin_end": 0.4,
            "bin_start": 0.30000000000000004,
            "count": 0
           },
           {
            "bin_end": 0.5,
            "bin_start": 0.4,
            "count": 0
           },
           {
            "bin_end": 0.6000000000000001,
            "bin_start": 0.5,
            "count": 0
           },
           {
            "bin_end": 0.7000000000000001,
            "bin_start": 0.6000000000000001,
            "count": 0
           },
           {
            "bin_end": 0.8,
            "bin_start": 0.7000000000000001,
            "count": 0
           },
           {
            "bin_end": 0.9,
            "bin_start": 0.8,
            "count": 0
           },
           {
            "bin_end": 1,
            "bin_start": 0.9,
            "count": 82
           }
          ],
          "max": "1",
          "min": "0",
          "nan_count": 0,
          "unique_count": 2
         }
        },
        {
         "dtype": "float64",
         "name": "Red Blood Cells (millions/cmm)",
         "stats": {
          "histogram": [
           {
            "bin_end": 2.6900000000000004,
            "bin_start": 2.1,
            "count": 9
           },
           {
            "bin_end": 3.2800000000000002,
            "bin_start": 2.6900000000000004,
            "count": 20
           },
           {
            "bin_end": 3.87,
            "bin_start": 3.2800000000000002,
            "count": 56
           },
           {
            "bin_end": 4.460000000000001,
            "bin_start": 3.87,
            "count": 73
           },
           {
            "bin_end": 5.050000000000001,
            "bin_start": 4.460000000000001,
            "count": 128
           },
           {
            "bin_end": 5.640000000000001,
            "bin_start": 5.050000000000001,
            "count": 60
           },
           {
            "bin_end": 6.23,
            "bin_start": 5.640000000000001,
            "count": 39
           },
           {
            "bin_end": 6.82,
            "bin_start": 6.23,
            "count": 14
           },
           {
            "bin_end": 7.41,
            "bin_start": 6.82,
            "count": 0
           },
           {
            "bin_end": 8,
            "bin_start": 7.41,
            "count": 1
           }
          ],
          "max": "8.0",
          "min": "2.1",
          "nan_count": 0,
          "unique_count": 69
         }
        },
        {
         "dtype": "int64",
         "name": "Hypertension: yes",
         "stats": {
          "histogram": [
           {
            "bin_end": 0.1,
            "bin_start": 0,
            "count": 253
           },
           {
            "bin_end": 0.2,
            "bin_start": 0.1,
            "count": 0
           },
           {
            "bin_end": 0.30000000000000004,
            "bin_start": 0.2,
            "count": 0
           },
           {
            "bin_end": 0.4,
            "bin_start": 0.30000000000000004,
            "count": 0
           },
           {
            "bin_end": 0.5,
            "bin_start": 0.4,
            "count": 0
           },
           {
            "bin_end": 0.6000000000000001,
            "bin_start": 0.5,
            "count": 0
           },
           {
            "bin_end": 0.7000000000000001,
            "bin_start": 0.6000000000000001,
            "count": 0
           },
           {
            "bin_end": 0.8,
            "bin_start": 0.7000000000000001,
            "count": 0
           },
           {
            "bin_end": 0.9,
            "bin_start": 0.8,
            "count": 0
           },
           {
            "bin_end": 1,
            "bin_start": 0.9,
            "count": 147
           }
          ],
          "max": "1",
          "min": "0",
          "nan_count": 0,
          "unique_count": 2
         }
        },
        {
         "dtype": "int64",
         "name": "Bacteria: present",
         "stats": {
          "histogram": [
           {
            "bin_end": 0.1,
            "bin_start": 0,
            "count": 378
           },
           {
            "bin_end": 0.2,
            "bin_start": 0.1,
            "count": 0
           },
           {
            "bin_end": 0.30000000000000004,
            "bin_start": 0.2,
            "count": 0
           },
           {
            "bin_end": 0.4,
            "bin_start": 0.30000000000000004,
            "count": 0
           },
           {
            "bin_end": 0.5,
            "bin_start": 0.4,
            "count": 0
           },
           {
            "bin_end": 0.6000000000000001,
            "bin_start": 0.5,
            "count": 0
           },
           {
            "bin_end": 0.7000000000000001,
            "bin_start": 0.6000000000000001,
            "count": 0
           },
           {
            "bin_end": 0.8,
            "bin_start": 0.7000000000000001,
            "count": 0
           },
           {
            "bin_end": 0.9,
            "bin_start": 0.8,
            "count": 0
           },
           {
            "bin_end": 1,
            "bin_start": 0.9,
            "count": 22
           }
          ],
          "max": "1",
          "min": "0",
          "nan_count": 0,
          "unique_count": 2
         }
        },
        {
         "dtype": "int64",
         "name": "Diabetes Mellitus: yes",
         "stats": {
          "histogram": [
           {
            "bin_end": 0.1,
            "bin_start": 0,
            "count": 263
           },
           {
            "bin_end": 0.2,
            "bin_start": 0.1,
            "count": 0
           },
           {
            "bin_end": 0.30000000000000004,
            "bin_start": 0.2,
            "count": 0
           },
           {
            "bin_end": 0.4,
            "bin_start": 0.30000000000000004,
            "count": 0
           },
           {
            "bin_end": 0.5,
            "bin_start": 0.4,
            "count": 0
           },
           {
            "bin_end": 0.6000000000000001,
            "bin_start": 0.5,
            "count": 0
           },
           {
            "bin_end": 0.7000000000000001,
            "bin_start": 0.6000000000000001,
            "count": 0
           },
           {
            "bin_end": 0.8,
            "bin_start": 0.7000000000000001,
            "count": 0
           },
           {
            "bin_end": 0.9,
            "bin_start": 0.8,
            "count": 0
           },
           {
            "bin_end": 1,
            "bin_start": 0.9,
            "count": 137
           }
          ],
          "max": "1",
          "min": "0",
          "nan_count": 0,
          "unique_count": 2
         }
        },
        {
         "dtype": "int64",
         "name": "Coronary Artery Disease: yes",
         "stats": {
          "histogram": [
           {
            "bin_end": 0.1,
            "bin_start": 0,
            "count": 366
           },
           {
            "bin_end": 0.2,
            "bin_start": 0.1,
            "count": 0
           },
           {
            "bin_end": 0.30000000000000004,
            "bin_start": 0.2,
            "count": 0
           },
           {
            "bin_end": 0.4,
            "bin_start": 0.30000000000000004,
            "count": 0
           },
           {
            "bin_end": 0.5,
            "bin_start": 0.4,
            "count": 0
           },
           {
            "bin_end": 0.6000000000000001,
            "bin_start": 0.5,
            "count": 0
           },
           {
            "bin_end": 0.7000000000000001,
            "bin_start": 0.6000000000000001,
            "count": 0
           },
           {
            "bin_end": 0.8,
            "bin_start": 0.7000000000000001,
            "count": 0
           },
           {
            "bin_end": 0.9,
            "bin_start": 0.8,
            "count": 0
           },
           {
            "bin_end": 1,
            "bin_start": 0.9,
            "count": 34
           }
          ],
          "max": "1",
          "min": "0",
          "nan_count": 0,
          "unique_count": 2
         }
        },
        {
         "dtype": "int64",
         "name": "Anemia: yes",
         "stats": {
          "histogram": [
           {
            "bin_end": 0.1,
            "bin_start": 0,
            "count": 340
           },
           {
            "bin_end": 0.2,
            "bin_start": 0.1,
            "count": 0
           },
           {
            "bin_end": 0.30000000000000004,
            "bin_start": 0.2,
            "count": 0
           },
           {
            "bin_end": 0.4,
            "bin_start": 0.30000000000000004,
            "count": 0
           },
           {
            "bin_end": 0.5,
            "bin_start": 0.4,
            "count": 0
           },
           {
            "bin_end": 0.6000000000000001,
            "bin_start": 0.5,
            "count": 0
           },
           {
            "bin_end": 0.7000000000000001,
            "bin_start": 0.6000000000000001,
            "count": 0
           },
           {
            "bin_end": 0.8,
            "bin_start": 0.7000000000000001,
            "count": 0
           },
           {
            "bin_end": 0.9,
            "bin_start": 0.8,
            "count": 0
           },
           {
            "bin_end": 1,
            "bin_start": 0.9,
            "count": 60
           }
          ],
          "max": "1",
          "min": "0",
          "nan_count": 0,
          "unique_count": 2
         }
        },
        {
         "dtype": "int64",
         "name": "Chronic Kidney Disease: yes",
         "stats": {
          "histogram": [
           {
            "bin_end": 0.1,
            "bin_start": 0,
            "count": 150
           },
           {
            "bin_end": 0.2,
            "bin_start": 0.1,
            "count": 0
           },
           {
            "bin_end": 0.30000000000000004,
            "bin_start": 0.2,
            "count": 0
           },
           {
            "bin_end": 0.4,
            "bin_start": 0.30000000000000004,
            "count": 0
           },
           {
            "bin_end": 0.5,
            "bin_start": 0.4,
            "count": 0
           },
           {
            "bin_end": 0.6000000000000001,
            "bin_start": 0.5,
            "count": 0
           },
           {
            "bin_end": 0.7000000000000001,
            "bin_start": 0.6000000000000001,
            "count": 0
           },
           {
            "bin_end": 0.8,
            "bin_start": 0.7000000000000001,
            "count": 0
           },
           {
            "bin_end": 0.9,
            "bin_start": 0.8,
            "count": 0
           },
           {
            "bin_end": 1,
            "bin_start": 0.9,
            "count": 250
           }
          ],
          "max": "1",
          "min": "0",
          "nan_count": 0,
          "unique_count": 2
         }
        },
        {
         "dtype": "int64",
         "name": "_deepnote_index_column"
        }
       ],
       "row_count": 400,
       "rows": [
        {
         "Age (yrs)": 48,
         "Albumin": 1,
         "Anemia: yes": 0,
         "Appetite: poor": 0,
         "Bacteria: present": 0,
         "Blood Glucose Random (mgs/dL)": 121,
         "Blood Pressure (mm/Hg)": 80,
         "Blood Urea (mgs/dL)": 36,
         "Chronic Kidney Disease: yes": 1,
         "Coronary Artery Disease: yes": 0,
         "Diabetes Mellitus: yes": 1,
         "Hemoglobin (gms)": 15.4,
         "Hypertension: yes": 1,
         "Potassium (mEq/L)": 4.7,
         "Red Blood Cells (millions/cmm)": 5.2,
         "Serum Creatinine (mgs/dL)": 1.2,
         "Sodium (mEq/L)": 136,
         "Specific Gravity": 1.02,
         "Sugar": 0,
         "White Blood Cells (cells/cmm)": 7800,
         "_deepnote_index_column": 0
        },
        {
         "Age (yrs)": 7,
         "Albumin": 4,
         "Anemia: yes": 0,
         "Appetite: poor": 0,
         "Bacteria: present": 0,
         "Blood Glucose Random (mgs/dL)": 90.31658119,
         "Blood Pressure (mm/Hg)": 50,
         "Blood Urea (mgs/dL)": 18,
         "Chronic Kidney Disease: yes": 1,
         "Coronary Artery Disease: yes": 0,
         "Diabetes Mellitus: yes": 0,
         "Hemoglobin (gms)": 11.3,
         "Hypertension: yes": 0,
         "Potassium (mEq/L)": 4,
         "Red Blood Cells (millions/cmm)": 4.721717463,
         "Serum Creatinine (mgs/dL)": 0.8,
         "Sodium (mEq/L)": 140,
         "Specific Gravity": 1.02,
         "Sugar": 0,
         "White Blood Cells (cells/cmm)": 6000,
         "_deepnote_index_column": 1
        },
        {
         "Age (yrs)": 62,
         "Albumin": 2,
         "Anemia: yes": 1,
         "Appetite: poor": 1,
         "Bacteria: present": 0,
         "Blood Glucose Random (mgs/dL)": 423,
         "Blood Pressure (mm/Hg)": 80,
         "Blood Urea (mgs/dL)": 53,
         "Chronic Kidney Disease: yes": 1,
         "Coronary Artery Disease: yes": 0,
         "Diabetes Mellitus: yes": 1,
         "Hemoglobin (gms)": 9.6,
         "Hypertension: yes": 0,
         "Potassium (mEq/L)": 4.8,
         "Red Blood Cells (millions/cmm)": 3.4,
         "Serum Creatinine (mgs/dL)": 1.8,
         "Sodium (mEq/L)": 135,
         "Specific Gravity": 1.01,
         "Sugar": 3,
         "White Blood Cells (cells/cmm)": 7500,
         "_deepnote_index_column": 2
        },
        {
         "Age (yrs)": 48,
         "Albumin": 4,
         "Anemia: yes": 1,
         "Appetite: poor": 1,
         "Bacteria: present": 0,
         "Blood Glucose Random (mgs/dL)": 117,
         "Blood Pressure (mm/Hg)": 70,
         "Blood Urea (mgs/dL)": 56,
         "Chronic Kidney Disease: yes": 1,
         "Coronary Artery Disease: yes": 0,
         "Diabetes Mellitus: yes": 0,
         "Hemoglobin (gms)": 11.2,
         "Hypertension: yes": 1,
         "Potassium (mEq/L)": 2.5,
         "Red Blood Cells (millions/cmm)": 3.9,
         "Serum Creatinine (mgs/dL)": 3.8,
         "Sodium (mEq/L)": 111,
         "Specific Gravity": 1.005,
         "Sugar": 0,
         "White Blood Cells (cells/cmm)": 6700,
         "_deepnote_index_column": 3
        },
        {
         "Age (yrs)": 51,
         "Albumin": 2,
         "Anemia: yes": 0,
         "Appetite: poor": 0,
         "Bacteria: present": 0,
         "Blood Glucose Random (mgs/dL)": 106,
         "Blood Pressure (mm/Hg)": 80,
         "Blood Urea (mgs/dL)": 26,
         "Chronic Kidney Disease: yes": 1,
         "Coronary Artery Disease: yes": 0,
         "Diabetes Mellitus: yes": 0,
         "Hemoglobin (gms)": 11.6,
         "Hypertension: yes": 0,
         "Potassium (mEq/L)": 4,
         "Red Blood Cells (millions/cmm)": 4.6,
         "Serum Creatinine (mgs/dL)": 1.4,
         "Sodium (mEq/L)": 140,
         "Specific Gravity": 1.01,
         "Sugar": 0,
         "White Blood Cells (cells/cmm)": 7300,
         "_deepnote_index_column": 4
        },
        {
         "Age (yrs)": 60,
         "Albumin": 3,
         "Anemia: yes": 0,
         "Appetite: poor": 0,
         "Bacteria: present": 0,
         "Blood Glucose Random (mgs/dL)": 74,
         "Blood Pressure (mm/Hg)": 90,
         "Blood Urea (mgs/dL)": 25,
         "Chronic Kidney Disease: yes": 1,
         "Coronary Artery Disease: yes": 0,
         "Diabetes Mellitus: yes": 1,
         "Hemoglobin (gms)": 12.2,
         "Hypertension: yes": 1,
         "Potassium (mEq/L)": 3.2,
         "Red Blood Cells (millions/cmm)": 4.4,
         "Serum Creatinine (mgs/dL)": 1.1,
         "Sodium (mEq/L)": 142,
         "Specific Gravity": 1.015,
         "Sugar": 0,
         "White Blood Cells (cells/cmm)": 7800,
         "_deepnote_index_column": 5
        },
        {
         "Age (yrs)": 68,
         "Albumin": 0,
         "Anemia: yes": 0,
         "Appetite: poor": 0,
         "Bacteria: present": 0,
         "Blood Glucose Random (mgs/dL)": 100,
         "Blood Pressure (mm/Hg)": 70,
         "Blood Urea (mgs/dL)": 54,
         "Chronic Kidney Disease: yes": 1,
         "Coronary Artery Disease: yes": 0,
         "Diabetes Mellitus: yes": 0,
         "Hemoglobin (gms)": 12.4,
         "Hypertension: yes": 0,
         "Potassium (mEq/L)": 4,
         "Red Blood Cells (millions/cmm)": 4.79153164,
         "Serum Creatinine (mgs/dL)": 24,
         "Sodium (mEq/L)": 104,
         "Specific Gravity": 1.01,
         "Sugar": 0,
         "White Blood Cells (cells/cmm)": 8200,
         "_deepnote_index_column": 6
        },
        {
         "Age (yrs)": 24,
         "Albumin": 2,
         "Anemia: yes": 0,
         "Appetite: poor": 0,
         "Bacteria: present": 0,
         "Blood Glucose Random (mgs/dL)": 410,
         "Blood Pressure (mm/Hg)": 60,
         "Blood Urea (mgs/dL)": 31,
         "Chronic Kidney Disease: yes": 1,
         "Coronary Artery Disease: yes": 0,
         "Diabetes Mellitus: yes": 1,
         "Hemoglobin (gms)": 12.4,
         "Hypertension: yes": 0,
         "Potassium (mEq/L)": 4.2,
         "Red Blood Cells (millions/cmm)": 5,
         "Serum Creatinine (mgs/dL)": 1.1,
         "Sodium (mEq/L)": 138,
         "Specific Gravity": 1.015,
         "Sugar": 4,
         "White Blood Cells (cells/cmm)": 6900,
         "_deepnote_index_column": 7
        },
        {
         "Age (yrs)": 52,
         "Albumin": 3,
         "Anemia: yes": 1,
         "Appetite: poor": 0,
         "Bacteria: present": 0,
         "Blood Glucose Random (mgs/dL)": 138,
         "Blood Pressure (mm/Hg)": 100,
         "Blood Urea (mgs/dL)": 60,
         "Chronic Kidney Disease: yes": 1,
         "Coronary Artery Disease: yes": 0,
         "Diabetes Mellitus: yes": 1,
         "Hemoglobin (gms)": 10.8,
         "Hypertension: yes": 1,
         "Potassium (mEq/L)": 5,
         "Red Blood Cells (millions/cmm)": 4,
         "Serum Creatinine (mgs/dL)": 1.9,
         "Sodium (mEq/L)": 135,
         "Specific Gravity": 1.015,
         "Sugar": 0,
         "White Blood Cells (cells/cmm)": 9600,
         "_deepnote_index_column": 8
        },
        {
         "Age (yrs)": 53,
         "Albumin": 2,
         "Anemia: yes": 1,
         "Appetite: poor": 1,
         "Bacteria: present": 0,
         "Blood Glucose Random (mgs/dL)": 70,
         "Blood Pressure (mm/Hg)": 90,
         "Blood Urea (mgs/dL)": 107,
         "Chronic Kidney Disease: yes": 1,
         "Coronary Artery Disease: yes": 0,
         "Diabetes Mellitus: yes": 1,
         "Hemoglobin (gms)": 9.5,
         "Hypertension: yes": 1,
         "Potassium (mEq/L)": 3.7,
         "Red Blood Cells (millions/cmm)": 3.7,
         "Serum Creatinine (mgs/dL)": 7.2,
         "Sodium (mEq/L)": 114,
         "Specific Gravity": 1.02,
         "Sugar": 0,
         "White Blood Cells (cells/cmm)": 12100,
         "_deepnote_index_column": 9
        }
       ]
      },
      "text/html": [
       "<div>\n",
       "<style scoped>\n",
       "    .dataframe tbody tr th:only-of-type {\n",
       "        vertical-align: middle;\n",
       "    }\n",
       "\n",
       "    .dataframe tbody tr th {\n",
       "        vertical-align: top;\n",
       "    }\n",
       "\n",
       "    .dataframe thead th {\n",
       "        text-align: right;\n",
       "    }\n",
       "</style>\n",
       "<table border=\"1\" class=\"dataframe\">\n",
       "  <thead>\n",
       "    <tr style=\"text-align: right;\">\n",
       "      <th></th>\n",
       "      <th>Age (yrs)</th>\n",
       "      <th>Blood Pressure (mm/Hg)</th>\n",
       "      <th>Specific Gravity</th>\n",
       "      <th>Albumin</th>\n",
       "      <th>Sugar</th>\n",
       "      <th>Blood Glucose Random (mgs/dL)</th>\n",
       "      <th>Blood Urea (mgs/dL)</th>\n",
       "      <th>Serum Creatinine (mgs/dL)</th>\n",
       "      <th>Sodium (mEq/L)</th>\n",
       "      <th>Potassium (mEq/L)</th>\n",
       "      <th>Hemoglobin (gms)</th>\n",
       "      <th>White Blood Cells (cells/cmm)</th>\n",
       "      <th>Appetite: poor</th>\n",
       "      <th>Red Blood Cells (millions/cmm)</th>\n",
       "      <th>Hypertension: yes</th>\n",
       "      <th>Bacteria: present</th>\n",
       "      <th>Diabetes Mellitus: yes</th>\n",
       "      <th>Coronary Artery Disease: yes</th>\n",
       "      <th>Anemia: yes</th>\n",
       "      <th>Chronic Kidney Disease: yes</th>\n",
       "    </tr>\n",
       "  </thead>\n",
       "  <tbody>\n",
       "    <tr>\n",
       "      <th>0</th>\n",
       "      <td>48.0</td>\n",
       "      <td>80</td>\n",
       "      <td>1.020</td>\n",
       "      <td>1.0</td>\n",
       "      <td>0</td>\n",
       "      <td>121.000000</td>\n",
       "      <td>36.0</td>\n",
       "      <td>1.2</td>\n",
       "      <td>136.0</td>\n",
       "      <td>4.7</td>\n",
       "      <td>15.4</td>\n",
       "      <td>7800.0</td>\n",
       "      <td>0</td>\n",
       "      <td>5.200000</td>\n",
       "      <td>1</td>\n",
       "      <td>0</td>\n",
       "      <td>1</td>\n",
       "      <td>0</td>\n",
       "      <td>0</td>\n",
       "      <td>1</td>\n",
       "    </tr>\n",
       "    <tr>\n",
       "      <th>1</th>\n",
       "      <td>7.0</td>\n",
       "      <td>50</td>\n",
       "      <td>1.020</td>\n",
       "      <td>4.0</td>\n",
       "      <td>0</td>\n",
       "      <td>90.316581</td>\n",
       "      <td>18.0</td>\n",
       "      <td>0.8</td>\n",
       "      <td>140.0</td>\n",
       "      <td>4.0</td>\n",
       "      <td>11.3</td>\n",
       "      <td>6000.0</td>\n",
       "      <td>0</td>\n",
       "      <td>4.721717</td>\n",
       "      <td>0</td>\n",
       "      <td>0</td>\n",
       "      <td>0</td>\n",
       "      <td>0</td>\n",
       "      <td>0</td>\n",
       "      <td>1</td>\n",
       "    </tr>\n",
       "    <tr>\n",
       "      <th>2</th>\n",
       "      <td>62.0</td>\n",
       "      <td>80</td>\n",
       "      <td>1.010</td>\n",
       "      <td>2.0</td>\n",
       "      <td>3</td>\n",
       "      <td>423.000000</td>\n",
       "      <td>53.0</td>\n",
       "      <td>1.8</td>\n",
       "      <td>135.0</td>\n",
       "      <td>4.8</td>\n",
       "      <td>9.6</td>\n",
       "      <td>7500.0</td>\n",
       "      <td>1</td>\n",
       "      <td>3.400000</td>\n",
       "      <td>0</td>\n",
       "      <td>0</td>\n",
       "      <td>1</td>\n",
       "      <td>0</td>\n",
       "      <td>1</td>\n",
       "      <td>1</td>\n",
       "    </tr>\n",
       "    <tr>\n",
       "      <th>3</th>\n",
       "      <td>48.0</td>\n",
       "      <td>70</td>\n",
       "      <td>1.005</td>\n",
       "      <td>4.0</td>\n",
       "      <td>0</td>\n",
       "      <td>117.000000</td>\n",
       "      <td>56.0</td>\n",
       "      <td>3.8</td>\n",
       "      <td>111.0</td>\n",
       "      <td>2.5</td>\n",
       "      <td>11.2</td>\n",
       "      <td>6700.0</td>\n",
       "      <td>1</td>\n",
       "      <td>3.900000</td>\n",
       "      <td>1</td>\n",
       "      <td>0</td>\n",
       "      <td>0</td>\n",
       "      <td>0</td>\n",
       "      <td>1</td>\n",
       "      <td>1</td>\n",
       "    </tr>\n",
       "    <tr>\n",
       "      <th>4</th>\n",
       "      <td>51.0</td>\n",
       "      <td>80</td>\n",
       "      <td>1.010</td>\n",
       "      <td>2.0</td>\n",
       "      <td>0</td>\n",
       "      <td>106.000000</td>\n",
       "      <td>26.0</td>\n",
       "      <td>1.4</td>\n",
       "      <td>140.0</td>\n",
       "      <td>4.0</td>\n",
       "      <td>11.6</td>\n",
       "      <td>7300.0</td>\n",
       "      <td>0</td>\n",
       "      <td>4.600000</td>\n",
       "      <td>0</td>\n",
       "      <td>0</td>\n",
       "      <td>0</td>\n",
       "      <td>0</td>\n",
       "      <td>0</td>\n",
       "      <td>1</td>\n",
       "    </tr>\n",
       "    <tr>\n",
       "      <th>...</th>\n",
       "      <td>...</td>\n",
       "      <td>...</td>\n",
       "      <td>...</td>\n",
       "      <td>...</td>\n",
       "      <td>...</td>\n",
       "      <td>...</td>\n",
       "      <td>...</td>\n",
       "      <td>...</td>\n",
       "      <td>...</td>\n",
       "      <td>...</td>\n",
       "      <td>...</td>\n",
       "      <td>...</td>\n",
       "      <td>...</td>\n",
       "      <td>...</td>\n",
       "      <td>...</td>\n",
       "      <td>...</td>\n",
       "      <td>...</td>\n",
       "      <td>...</td>\n",
       "      <td>...</td>\n",
       "      <td>...</td>\n",
       "    </tr>\n",
       "    <tr>\n",
       "      <th>395</th>\n",
       "      <td>55.0</td>\n",
       "      <td>80</td>\n",
       "      <td>1.020</td>\n",
       "      <td>0.0</td>\n",
       "      <td>0</td>\n",
       "      <td>140.000000</td>\n",
       "      <td>49.0</td>\n",
       "      <td>0.5</td>\n",
       "      <td>150.0</td>\n",
       "      <td>4.9</td>\n",
       "      <td>15.7</td>\n",
       "      <td>6700.0</td>\n",
       "      <td>0</td>\n",
       "      <td>4.900000</td>\n",
       "      <td>0</td>\n",
       "      <td>0</td>\n",
       "      <td>0</td>\n",
       "      <td>0</td>\n",
       "      <td>0</td>\n",
       "      <td>0</td>\n",
       "    </tr>\n",
       "    <tr>\n",
       "      <th>396</th>\n",
       "      <td>42.0</td>\n",
       "      <td>70</td>\n",
       "      <td>1.025</td>\n",
       "      <td>0.0</td>\n",
       "      <td>0</td>\n",
       "      <td>75.000000</td>\n",
       "      <td>31.0</td>\n",
       "      <td>1.2</td>\n",
       "      <td>141.0</td>\n",
       "      <td>3.5</td>\n",
       "      <td>16.5</td>\n",
       "      <td>7800.0</td>\n",
       "      <td>0</td>\n",
       "      <td>6.200000</td>\n",
       "      <td>0</td>\n",
       "      <td>0</td>\n",
       "      <td>0</td>\n",
       "      <td>0</td>\n",
       "      <td>0</td>\n",
       "      <td>0</td>\n",
       "    </tr>\n",
       "    <tr>\n",
       "      <th>397</th>\n",
       "      <td>12.0</td>\n",
       "      <td>80</td>\n",
       "      <td>1.020</td>\n",
       "      <td>0.0</td>\n",
       "      <td>0</td>\n",
       "      <td>100.000000</td>\n",
       "      <td>26.0</td>\n",
       "      <td>0.6</td>\n",
       "      <td>137.0</td>\n",
       "      <td>4.4</td>\n",
       "      <td>15.8</td>\n",
       "      <td>6600.0</td>\n",
       "      <td>0</td>\n",
       "      <td>5.400000</td>\n",
       "      <td>0</td>\n",
       "      <td>0</td>\n",
       "      <td>0</td>\n",
       "      <td>0</td>\n",
       "      <td>0</td>\n",
       "      <td>0</td>\n",
       "    </tr>\n",
       "    <tr>\n",
       "      <th>398</th>\n",
       "      <td>17.0</td>\n",
       "      <td>60</td>\n",
       "      <td>1.025</td>\n",
       "      <td>0.0</td>\n",
       "      <td>0</td>\n",
       "      <td>114.000000</td>\n",
       "      <td>50.0</td>\n",
       "      <td>1.0</td>\n",
       "      <td>135.0</td>\n",
       "      <td>4.9</td>\n",
       "      <td>14.2</td>\n",
       "      <td>7200.0</td>\n",
       "      <td>0</td>\n",
       "      <td>5.900000</td>\n",
       "      <td>0</td>\n",
       "      <td>0</td>\n",
       "      <td>0</td>\n",
       "      <td>0</td>\n",
       "      <td>0</td>\n",
       "      <td>0</td>\n",
       "    </tr>\n",
       "    <tr>\n",
       "      <th>399</th>\n",
       "      <td>58.0</td>\n",
       "      <td>80</td>\n",
       "      <td>1.025</td>\n",
       "      <td>0.0</td>\n",
       "      <td>0</td>\n",
       "      <td>131.000000</td>\n",
       "      <td>18.0</td>\n",
       "      <td>1.1</td>\n",
       "      <td>141.0</td>\n",
       "      <td>3.5</td>\n",
       "      <td>15.8</td>\n",
       "      <td>6800.0</td>\n",
       "      <td>0</td>\n",
       "      <td>6.100000</td>\n",
       "      <td>0</td>\n",
       "      <td>0</td>\n",
       "      <td>0</td>\n",
       "      <td>0</td>\n",
       "      <td>0</td>\n",
       "      <td>0</td>\n",
       "    </tr>\n",
       "  </tbody>\n",
       "</table>\n",
       "<p>400 rows × 20 columns</p>\n",
       "</div>"
      ],
      "text/plain": [
       "     Age (yrs)  Blood Pressure (mm/Hg)  Specific Gravity  Albumin  Sugar  \\\n",
       "0         48.0                      80             1.020      1.0      0   \n",
       "1          7.0                      50             1.020      4.0      0   \n",
       "2         62.0                      80             1.010      2.0      3   \n",
       "3         48.0                      70             1.005      4.0      0   \n",
       "4         51.0                      80             1.010      2.0      0   \n",
       "..         ...                     ...               ...      ...    ...   \n",
       "395       55.0                      80             1.020      0.0      0   \n",
       "396       42.0                      70             1.025      0.0      0   \n",
       "397       12.0                      80             1.020      0.0      0   \n",
       "398       17.0                      60             1.025      0.0      0   \n",
       "399       58.0                      80             1.025      0.0      0   \n",
       "\n",
       "     Blood Glucose Random (mgs/dL)  Blood Urea (mgs/dL)  \\\n",
       "0                       121.000000                 36.0   \n",
       "1                        90.316581                 18.0   \n",
       "2                       423.000000                 53.0   \n",
       "3                       117.000000                 56.0   \n",
       "4                       106.000000                 26.0   \n",
       "..                             ...                  ...   \n",
       "395                     140.000000                 49.0   \n",
       "396                      75.000000                 31.0   \n",
       "397                     100.000000                 26.0   \n",
       "398                     114.000000                 50.0   \n",
       "399                     131.000000                 18.0   \n",
       "\n",
       "     Serum Creatinine (mgs/dL)  Sodium (mEq/L)  Potassium (mEq/L)  \\\n",
       "0                          1.2           136.0                4.7   \n",
       "1                          0.8           140.0                4.0   \n",
       "2                          1.8           135.0                4.8   \n",
       "3                          3.8           111.0                2.5   \n",
       "4                          1.4           140.0                4.0   \n",
       "..                         ...             ...                ...   \n",
       "395                        0.5           150.0                4.9   \n",
       "396                        1.2           141.0                3.5   \n",
       "397                        0.6           137.0                4.4   \n",
       "398                        1.0           135.0                4.9   \n",
       "399                        1.1           141.0                3.5   \n",
       "\n",
       "     Hemoglobin (gms)  White Blood Cells (cells/cmm)  Appetite: poor  \\\n",
       "0                15.4                         7800.0               0   \n",
       "1                11.3                         6000.0               0   \n",
       "2                 9.6                         7500.0               1   \n",
       "3                11.2                         6700.0               1   \n",
       "4                11.6                         7300.0               0   \n",
       "..                ...                            ...             ...   \n",
       "395              15.7                         6700.0               0   \n",
       "396              16.5                         7800.0               0   \n",
       "397              15.8                         6600.0               0   \n",
       "398              14.2                         7200.0               0   \n",
       "399              15.8                         6800.0               0   \n",
       "\n",
       "     Red Blood Cells (millions/cmm)  Hypertension: yes  Bacteria: present  \\\n",
       "0                          5.200000                  1                  0   \n",
       "1                          4.721717                  0                  0   \n",
       "2                          3.400000                  0                  0   \n",
       "3                          3.900000                  1                  0   \n",
       "4                          4.600000                  0                  0   \n",
       "..                              ...                ...                ...   \n",
       "395                        4.900000                  0                  0   \n",
       "396                        6.200000                  0                  0   \n",
       "397                        5.400000                  0                  0   \n",
       "398                        5.900000                  0                  0   \n",
       "399                        6.100000                  0                  0   \n",
       "\n",
       "     Diabetes Mellitus: yes  Coronary Artery Disease: yes  Anemia: yes  \\\n",
       "0                         1                             0            0   \n",
       "1                         0                             0            0   \n",
       "2                         1                             0            1   \n",
       "3                         0                             0            1   \n",
       "4                         0                             0            0   \n",
       "..                      ...                           ...          ...   \n",
       "395                       0                             0            0   \n",
       "396                       0                             0            0   \n",
       "397                       0                             0            0   \n",
       "398                       0                             0            0   \n",
       "399                       0                             0            0   \n",
       "\n",
       "     Chronic Kidney Disease: yes  \n",
       "0                              1  \n",
       "1                              1  \n",
       "2                              1  \n",
       "3                              1  \n",
       "4                              1  \n",
       "..                           ...  \n",
       "395                            0  \n",
       "396                            0  \n",
       "397                            0  \n",
       "398                            0  \n",
       "399                            0  \n",
       "\n",
       "[400 rows x 20 columns]"
      ]
     },
     "execution_count": 12,
     "metadata": {},
     "output_type": "execute_result"
    }
   ],
   "source": [
    "kidney_df"
   ]
  },
  {
   "cell_type": "code",
   "execution_count": null,
   "metadata": {
    "cell_id": "31ad2f6764fd410f8a92927b668a2903",
    "deepnote_cell_type": "code",
    "deepnote_to_be_reexecuted": false,
    "execution_millis": 27,
    "execution_start": 1724013660049,
    "source_hash": null
   },
   "outputs": [
    {
     "name": "stdout",
     "output_type": "stream",
     "text": [
      "<class 'pandas.core.frame.DataFrame'>\n",
      "RangeIndex: 400 entries, 0 to 399\n",
      "Data columns (total 20 columns):\n",
      " #   Column                          Non-Null Count  Dtype  \n",
      "---  ------                          --------------  -----  \n",
      " 0   Age (yrs)                       400 non-null    float64\n",
      " 1   Blood Pressure (mm/Hg)          400 non-null    int64  \n",
      " 2   Specific Gravity                400 non-null    float64\n",
      " 3   Albumin                         400 non-null    float64\n",
      " 4   Sugar                           400 non-null    int64  \n",
      " 5   Blood Glucose Random (mgs/dL)   400 non-null    float64\n",
      " 6   Blood Urea (mgs/dL)             400 non-null    float64\n",
      " 7   Serum Creatinine (mgs/dL)       400 non-null    float64\n",
      " 8   Sodium (mEq/L)                  400 non-null    float64\n",
      " 9   Potassium (mEq/L)               400 non-null    float64\n",
      " 10  Hemoglobin (gms)                400 non-null    float64\n",
      " 11  White Blood Cells (cells/cmm)   400 non-null    float64\n",
      " 12  Appetite: poor                  400 non-null    int64  \n",
      " 13  Red Blood Cells (millions/cmm)  400 non-null    float64\n",
      " 14  Hypertension: yes               400 non-null    int64  \n",
      " 15  Bacteria: present               400 non-null    int64  \n",
      " 16  Diabetes Mellitus: yes          400 non-null    int64  \n",
      " 17  Coronary Artery Disease: yes    400 non-null    int64  \n",
      " 18  Anemia: yes                     400 non-null    int64  \n",
      " 19  Chronic Kidney Disease: yes     400 non-null    int64  \n",
      "dtypes: float64(11), int64(9)\n",
      "memory usage: 62.6 KB\n"
     ]
    }
   ],
   "source": [
    "kidney_df.info()"
   ]
  },
  {
   "cell_type": "code",
   "execution_count": null,
   "metadata": {
    "cell_id": "87d0a0c6b80c4fc1910944f05e3b8b57",
    "deepnote_cell_type": "code",
    "deepnote_to_be_reexecuted": false,
    "execution_millis": 87,
    "execution_start": 1724013735672,
    "source_hash": null
   },
   "outputs": [
    {
     "data": {
      "application/vnd.deepnote.dataframe.v3+json": {
       "column_count": 19,
       "columns": [
        {
         "dtype": "float64",
         "name": "Age (yrs)",
         "stats": {
          "histogram": [
           {
            "bin_end": 10.8,
            "bin_start": 2,
            "count": 10
           },
           {
            "bin_end": 19.6,
            "bin_start": 10.8,
            "count": 11
           },
           {
            "bin_end": 28.400000000000002,
            "bin_start": 19.6,
            "count": 20
           },
           {
            "bin_end": 37.2,
            "bin_start": 28.400000000000002,
            "count": 39
           },
           {
            "bin_end": 46,
            "bin_start": 37.2,
            "count": 45
           },
           {
            "bin_end": 54.800000000000004,
            "bin_start": 46,
            "count": 74
           },
           {
            "bin_end": 63.60000000000001,
            "bin_start": 54.800000000000004,
            "count": 92
           },
           {
            "bin_end": 72.4,
            "bin_start": 63.60000000000001,
            "count": 78
           },
           {
            "bin_end": 81.2,
            "bin_start": 72.4,
            "count": 28
           },
           {
            "bin_end": 90,
            "bin_start": 81.2,
            "count": 3
           }
          ],
          "max": "90.0",
          "min": "2.0",
          "nan_count": 0,
          "unique_count": 79
         }
        },
        {
         "dtype": "int64",
         "name": "Blood Pressure (mm/Hg)",
         "stats": {
          "histogram": [
           {
            "bin_end": 63,
            "bin_start": 50,
            "count": 79
           },
           {
            "bin_end": 76,
            "bin_start": 63,
            "count": 118
           },
           {
            "bin_end": 89,
            "bin_start": 76,
            "count": 118
           },
           {
            "bin_end": 102,
            "bin_start": 89,
            "count": 79
           },
           {
            "bin_end": 115,
            "bin_start": 102,
            "count": 3
           },
           {
            "bin_end": 128,
            "bin_start": 115,
            "count": 1
           },
           {
            "bin_end": 141,
            "bin_start": 128,
            "count": 1
           },
           {
            "bin_end": 154,
            "bin_start": 141,
            "count": 0
           },
           {
            "bin_end": 167,
            "bin_start": 154,
            "count": 0
           },
           {
            "bin_end": 180,
            "bin_start": 167,
            "count": 1
           }
          ],
          "max": "180",
          "min": "50",
          "nan_count": 0,
          "unique_count": 10
         }
        },
        {
         "dtype": "float64",
         "name": "Specific Gravity",
         "stats": {
          "histogram": [
           {
            "bin_end": 1.007,
            "bin_start": 1.005,
            "count": 7
           },
           {
            "bin_end": 1.009,
            "bin_start": 1.007,
            "count": 0
           },
           {
            "bin_end": 1.011,
            "bin_start": 1.009,
            "count": 89
           },
           {
            "bin_end": 1.013,
            "bin_start": 1.011,
            "count": 0
           },
           {
            "bin_end": 1.015,
            "bin_start": 1.013,
            "count": 1
           },
           {
            "bin_end": 1.017,
            "bin_start": 1.015,
            "count": 94
           },
           {
            "bin_end": 1.019,
            "bin_start": 1.017,
            "count": 0
           },
           {
            "bin_end": 1.021,
            "bin_start": 1.019,
            "count": 119
           },
           {
            "bin_end": 1.023,
            "bin_start": 1.021,
            "count": 0
           },
           {
            "bin_end": 1.025,
            "bin_start": 1.023,
            "count": 90
           }
          ],
          "max": "1.025",
          "min": "1.005",
          "nan_count": 0,
          "unique_count": 6
         }
        },
        {
         "dtype": "int64",
         "name": "Sugar",
         "stats": {
          "histogram": [
           {
            "bin_end": 0.5,
            "bin_start": 0,
            "count": 339
           },
           {
            "bin_end": 1,
            "bin_start": 0.5,
            "count": 0
           },
           {
            "bin_end": 1.5,
            "bin_start": 1,
            "count": 13
           },
           {
            "bin_end": 2,
            "bin_start": 1.5,
            "count": 0
           },
           {
            "bin_end": 2.5,
            "bin_start": 2,
            "count": 18
           },
           {
            "bin_end": 3,
            "bin_start": 2.5,
            "count": 0
           },
           {
            "bin_end": 3.5,
            "bin_start": 3,
            "count": 14
           },
           {
            "bin_end": 4,
            "bin_start": 3.5,
            "count": 0
           },
           {
            "bin_end": 4.5,
            "bin_start": 4,
            "count": 13
           },
           {
            "bin_end": 5,
            "bin_start": 4.5,
            "count": 3
           }
          ],
          "max": "5",
          "min": "0",
          "nan_count": 0,
          "unique_count": 6
         }
        },
        {
         "dtype": "float64",
         "name": "Blood Glucose Random (mgs/dL)",
         "stats": {
          "histogram": [
           {
            "bin_end": 68.8,
            "bin_start": 22,
            "count": 1
           },
           {
            "bin_end": 115.6,
            "bin_start": 68.8,
            "count": 180
           },
           {
            "bin_end": 162.39999999999998,
            "bin_start": 115.6,
            "count": 122
           },
           {
            "bin_end": 209.2,
            "bin_start": 162.39999999999998,
            "count": 28
           },
           {
            "bin_end": 256,
            "bin_start": 209.2,
            "count": 33
           },
           {
            "bin_end": 302.79999999999995,
            "bin_start": 256,
            "count": 15
           },
           {
            "bin_end": 349.59999999999997,
            "bin_start": 302.79999999999995,
            "count": 7
           },
           {
            "bin_end": 396.4,
            "bin_start": 349.59999999999997,
            "count": 4
           },
           {
            "bin_end": 443.2,
            "bin_start": 396.4,
            "count": 6
           },
           {
            "bin_end": 490,
            "bin_start": 443.2,
            "count": 4
           }
          ],
          "max": "490.0",
          "min": "22.0",
          "nan_count": 0,
          "unique_count": 171
         }
        },
        {
         "dtype": "float64",
         "name": "Blood Urea (mgs/dL)",
         "stats": {
          "histogram": [
           {
            "bin_end": 40.45,
            "bin_start": 1.5,
            "count": 197
           },
           {
            "bin_end": 79.4,
            "bin_start": 40.45,
            "count": 125
           },
           {
            "bin_end": 118.35000000000001,
            "bin_start": 79.4,
            "count": 39
           },
           {
            "bin_end": 157.3,
            "bin_start": 118.35000000000001,
            "count": 18
           },
           {
            "bin_end": 196.25,
            "bin_start": 157.3,
            "count": 10
           },
           {
            "bin_end": 235.20000000000002,
            "bin_start": 196.25,
            "count": 7
           },
           {
            "bin_end": 274.15000000000003,
            "bin_start": 235.20000000000002,
            "count": 1
           },
           {
            "bin_end": 313.1,
            "bin_start": 274.15000000000003,
            "count": 1
           },
           {
            "bin_end": 352.05,
            "bin_start": 313.1,
            "count": 1
           },
           {
            "bin_end": 391,
            "bin_start": 352.05,
            "count": 1
           }
          ],
          "max": "391.0",
          "min": "1.5",
          "nan_count": 0,
          "unique_count": 125
         }
        },
        {
         "dtype": "float64",
         "name": "Serum Creatinine (mgs/dL)",
         "stats": {
          "histogram": [
           {
            "bin_end": 7.96,
            "bin_start": 0.4,
            "count": 371
           },
           {
            "bin_end": 15.52,
            "bin_start": 7.96,
            "count": 21
           },
           {
            "bin_end": 23.08,
            "bin_start": 15.52,
            "count": 4
           },
           {
            "bin_end": 30.639999999999997,
            "bin_start": 23.08,
            "count": 1
           },
           {
            "bin_end": 38.199999999999996,
            "bin_start": 30.639999999999997,
            "count": 1
           },
           {
            "bin_end": 45.76,
            "bin_start": 38.199999999999996,
            "count": 0
           },
           {
            "bin_end": 53.31999999999999,
            "bin_start": 45.76,
            "count": 1
           },
           {
            "bin_end": 60.879999999999995,
            "bin_start": 53.31999999999999,
            "count": 0
           },
           {
            "bin_end": 68.44,
            "bin_start": 60.879999999999995,
            "count": 0
           },
           {
            "bin_end": 76,
            "bin_start": 68.44,
            "count": 1
           }
          ],
          "max": "76.0",
          "min": "0.4",
          "nan_count": 0,
          "unique_count": 89
         }
        },
        {
         "dtype": "float64",
         "name": "Sodium (mEq/L)",
         "stats": {
          "histogram": [
           {
            "bin_end": 20.35,
            "bin_start": 4.5,
            "count": 1
           },
           {
            "bin_end": 36.2,
            "bin_start": 20.35,
            "count": 0
           },
           {
            "bin_end": 52.05,
            "bin_start": 36.2,
            "count": 0
           },
           {
            "bin_end": 67.9,
            "bin_start": 52.05,
            "count": 0
           },
           {
            "bin_end": 83.75,
            "bin_start": 67.9,
            "count": 0
           },
           {
            "bin_end": 99.6,
            "bin_start": 83.75,
            "count": 0
           },
           {
            "bin_end": 115.45,
            "bin_start": 99.6,
            "count": 7
           },
           {
            "bin_end": 131.3,
            "bin_start": 115.45,
            "count": 32
           },
           {
            "bin_end": 147.15,
            "bin_start": 131.3,
            "count": 342
           },
           {
            "bin_end": 163,
            "bin_start": 147.15,
            "count": 18
           }
          ],
          "max": "163.0",
          "min": "4.5",
          "nan_count": 0,
          "unique_count": 40
         }
        },
        {
         "dtype": "float64",
         "name": "Potassium (mEq/L)",
         "stats": {
          "histogram": [
           {
            "bin_end": 6.95,
            "bin_start": 2.5,
            "count": 397
           },
           {
            "bin_end": 11.4,
            "bin_start": 6.95,
            "count": 1
           },
           {
            "bin_end": 15.850000000000001,
            "bin_start": 11.4,
            "count": 0
           },
           {
            "bin_end": 20.3,
            "bin_start": 15.850000000000001,
            "count": 0
           },
           {
            "bin_end": 24.75,
            "bin_start": 20.3,
            "count": 0
           },
           {
            "bin_end": 29.200000000000003,
            "bin_start": 24.75,
            "count": 0
           },
           {
            "bin_end": 33.650000000000006,
            "bin_start": 29.200000000000003,
            "count": 0
           },
           {
            "bin_end": 38.1,
            "bin_start": 33.650000000000006,
            "count": 0
           },
           {
            "bin_end": 42.550000000000004,
            "bin_start": 38.1,
            "count": 1
           },
           {
            "bin_end": 47,
            "bin_start": 42.550000000000004,
            "count": 1
           }
          ],
          "max": "47.0",
          "min": "2.5",
          "nan_count": 0,
          "unique_count": 57
         }
        },
        {
         "dtype": "float64",
         "name": "Hemoglobin (gms)",
         "stats": {
          "histogram": [
           {
            "bin_end": 4.57,
            "bin_start": 3.1,
            "count": 1
           },
           {
            "bin_end": 6.040000000000001,
            "bin_start": 4.57,
            "count": 6
           },
           {
            "bin_end": 7.51,
            "bin_start": 6.040000000000001,
            "count": 8
           },
           {
            "bin_end": 8.98,
            "bin_start": 7.51,
            "count": 26
           },
           {
            "bin_end": 10.450000000000001,
            "bin_start": 8.98,
            "count": 57
           },
           {
            "bin_end": 11.92,
            "bin_start": 10.450000000000001,
            "count": 85
           },
           {
            "bin_end": 13.39,
            "bin_start": 11.92,
            "count": 56
           },
           {
            "bin_end": 14.860000000000001,
            "bin_start": 13.39,
            "count": 62
           },
           {
            "bin_end": 16.330000000000002,
            "bin_start": 14.860000000000001,
            "count": 68
           },
           {
            "bin_end": 17.8,
            "bin_start": 16.330000000000002,
            "count": 31
           }
          ],
          "max": "17.8",
          "min": "3.1",
          "nan_count": 0,
          "unique_count": 142
         }
        },
        {
         "dtype": "float64",
         "name": "White Blood Cells (cells/cmm)",
         "stats": {
          "histogram": [
           {
            "bin_end": 4620,
            "bin_start": 2200,
            "count": 19
           },
           {
            "bin_end": 7040,
            "bin_start": 4620,
            "count": 110
           },
           {
            "bin_end": 9460,
            "bin_start": 7040,
            "count": 158
           },
           {
            "bin_end": 11880,
            "bin_start": 9460,
            "count": 87
           },
           {
            "bin_end": 14300,
            "bin_start": 11880,
            "count": 14
           },
           {
            "bin_end": 16720,
            "bin_start": 14300,
            "count": 8
           },
           {
            "bin_end": 19140,
            "bin_start": 16720,
            "count": 2
           },
           {
            "bin_end": 21560,
            "bin_start": 19140,
            "count": 0
           },
           {
            "bin_end": 23980,
            "bin_start": 21560,
            "count": 1
           },
           {
            "bin_end": 26400,
            "bin_start": 23980,
            "count": 1
           }
          ],
          "max": "26400.0",
          "min": "2200.0",
          "nan_count": 0,
          "unique_count": 134
         }
        },
        {
         "dtype": "int64",
         "name": "Appetite: poor",
         "stats": {
          "histogram": [
           {
            "bin_end": 0.1,
            "bin_start": 0,
            "count": 318
           },
           {
            "bin_end": 0.2,
            "bin_start": 0.1,
            "count": 0
           },
           {
            "bin_end": 0.30000000000000004,
            "bin_start": 0.2,
            "count": 0
           },
           {
            "bin_end": 0.4,
            "bin_start": 0.30000000000000004,
            "count": 0
           },
           {
            "bin_end": 0.5,
            "bin_start": 0.4,
            "count": 0
           },
           {
            "bin_end": 0.6000000000000001,
            "bin_start": 0.5,
            "count": 0
           },
           {
            "bin_end": 0.7000000000000001,
            "bin_start": 0.6000000000000001,
            "count": 0
           },
           {
            "bin_end": 0.8,
            "bin_start": 0.7000000000000001,
            "count": 0
           },
           {
            "bin_end": 0.9,
            "bin_start": 0.8,
            "count": 0
           },
           {
            "bin_end": 1,
            "bin_start": 0.9,
            "count": 82
           }
          ],
          "max": "1",
          "min": "0",
          "nan_count": 0,
          "unique_count": 2
         }
        },
        {
         "dtype": "float64",
         "name": "Red Blood Cells (millions/cmm)",
         "stats": {
          "histogram": [
           {
            "bin_end": 2.6900000000000004,
            "bin_start": 2.1,
            "count": 9
           },
           {
            "bin_end": 3.2800000000000002,
            "bin_start": 2.6900000000000004,
            "count": 20
           },
           {
            "bin_end": 3.87,
            "bin_start": 3.2800000000000002,
            "count": 56
           },
           {
            "bin_end": 4.460000000000001,
            "bin_start": 3.87,
            "count": 73
           },
           {
            "bin_end": 5.050000000000001,
            "bin_start": 4.460000000000001,
            "count": 128
           },
           {
            "bin_end": 5.640000000000001,
            "bin_start": 5.050000000000001,
            "count": 60
           },
           {
            "bin_end": 6.23,
            "bin_start": 5.640000000000001,
            "count": 39
           },
           {
            "bin_end": 6.82,
            "bin_start": 6.23,
            "count": 14
           },
           {
            "bin_end": 7.41,
            "bin_start": 6.82,
            "count": 0
           },
           {
            "bin_end": 8,
            "bin_start": 7.41,
            "count": 1
           }
          ],
          "max": "8.0",
          "min": "2.1",
          "nan_count": 0,
          "unique_count": 69
         }
        },
        {
         "dtype": "int64",
         "name": "Hypertension: yes",
         "stats": {
          "histogram": [
           {
            "bin_end": 0.1,
            "bin_start": 0,
            "count": 253
           },
           {
            "bin_end": 0.2,
            "bin_start": 0.1,
            "count": 0
           },
           {
            "bin_end": 0.30000000000000004,
            "bin_start": 0.2,
            "count": 0
           },
           {
            "bin_end": 0.4,
            "bin_start": 0.30000000000000004,
            "count": 0
           },
           {
            "bin_end": 0.5,
            "bin_start": 0.4,
            "count": 0
           },
           {
            "bin_end": 0.6000000000000001,
            "bin_start": 0.5,
            "count": 0
           },
           {
            "bin_end": 0.7000000000000001,
            "bin_start": 0.6000000000000001,
            "count": 0
           },
           {
            "bin_end": 0.8,
            "bin_start": 0.7000000000000001,
            "count": 0
           },
           {
            "bin_end": 0.9,
            "bin_start": 0.8,
            "count": 0
           },
           {
            "bin_end": 1,
            "bin_start": 0.9,
            "count": 147
           }
          ],
          "max": "1",
          "min": "0",
          "nan_count": 0,
          "unique_count": 2
         }
        },
        {
         "dtype": "int64",
         "name": "Bacteria: present",
         "stats": {
          "histogram": [
           {
            "bin_end": 0.1,
            "bin_start": 0,
            "count": 378
           },
           {
            "bin_end": 0.2,
            "bin_start": 0.1,
            "count": 0
           },
           {
            "bin_end": 0.30000000000000004,
            "bin_start": 0.2,
            "count": 0
           },
           {
            "bin_end": 0.4,
            "bin_start": 0.30000000000000004,
            "count": 0
           },
           {
            "bin_end": 0.5,
            "bin_start": 0.4,
            "count": 0
           },
           {
            "bin_end": 0.6000000000000001,
            "bin_start": 0.5,
            "count": 0
           },
           {
            "bin_end": 0.7000000000000001,
            "bin_start": 0.6000000000000001,
            "count": 0
           },
           {
            "bin_end": 0.8,
            "bin_start": 0.7000000000000001,
            "count": 0
           },
           {
            "bin_end": 0.9,
            "bin_start": 0.8,
            "count": 0
           },
           {
            "bin_end": 1,
            "bin_start": 0.9,
            "count": 22
           }
          ],
          "max": "1",
          "min": "0",
          "nan_count": 0,
          "unique_count": 2
         }
        },
        {
         "dtype": "int64",
         "name": "Diabetes Mellitus: yes",
         "stats": {
          "histogram": [
           {
            "bin_end": 0.1,
            "bin_start": 0,
            "count": 263
           },
           {
            "bin_end": 0.2,
            "bin_start": 0.1,
            "count": 0
           },
           {
            "bin_end": 0.30000000000000004,
            "bin_start": 0.2,
            "count": 0
           },
           {
            "bin_end": 0.4,
            "bin_start": 0.30000000000000004,
            "count": 0
           },
           {
            "bin_end": 0.5,
            "bin_start": 0.4,
            "count": 0
           },
           {
            "bin_end": 0.6000000000000001,
            "bin_start": 0.5,
            "count": 0
           },
           {
            "bin_end": 0.7000000000000001,
            "bin_start": 0.6000000000000001,
            "count": 0
           },
           {
            "bin_end": 0.8,
            "bin_start": 0.7000000000000001,
            "count": 0
           },
           {
            "bin_end": 0.9,
            "bin_start": 0.8,
            "count": 0
           },
           {
            "bin_end": 1,
            "bin_start": 0.9,
            "count": 137
           }
          ],
          "max": "1",
          "min": "0",
          "nan_count": 0,
          "unique_count": 2
         }
        },
        {
         "dtype": "int64",
         "name": "Coronary Artery Disease: yes",
         "stats": {
          "histogram": [
           {
            "bin_end": 0.1,
            "bin_start": 0,
            "count": 366
           },
           {
            "bin_end": 0.2,
            "bin_start": 0.1,
            "count": 0
           },
           {
            "bin_end": 0.30000000000000004,
            "bin_start": 0.2,
            "count": 0
           },
           {
            "bin_end": 0.4,
            "bin_start": 0.30000000000000004,
            "count": 0
           },
           {
            "bin_end": 0.5,
            "bin_start": 0.4,
            "count": 0
           },
           {
            "bin_end": 0.6000000000000001,
            "bin_start": 0.5,
            "count": 0
           },
           {
            "bin_end": 0.7000000000000001,
            "bin_start": 0.6000000000000001,
            "count": 0
           },
           {
            "bin_end": 0.8,
            "bin_start": 0.7000000000000001,
            "count": 0
           },
           {
            "bin_end": 0.9,
            "bin_start": 0.8,
            "count": 0
           },
           {
            "bin_end": 1,
            "bin_start": 0.9,
            "count": 34
           }
          ],
          "max": "1",
          "min": "0",
          "nan_count": 0,
          "unique_count": 2
         }
        },
        {
         "dtype": "int64",
         "name": "Anemia: yes",
         "stats": {
          "histogram": [
           {
            "bin_end": 0.1,
            "bin_start": 0,
            "count": 340
           },
           {
            "bin_end": 0.2,
            "bin_start": 0.1,
            "count": 0
           },
           {
            "bin_end": 0.30000000000000004,
            "bin_start": 0.2,
            "count": 0
           },
           {
            "bin_end": 0.4,
            "bin_start": 0.30000000000000004,
            "count": 0
           },
           {
            "bin_end": 0.5,
            "bin_start": 0.4,
            "count": 0
           },
           {
            "bin_end": 0.6000000000000001,
            "bin_start": 0.5,
            "count": 0
           },
           {
            "bin_end": 0.7000000000000001,
            "bin_start": 0.6000000000000001,
            "count": 0
           },
           {
            "bin_end": 0.8,
            "bin_start": 0.7000000000000001,
            "count": 0
           },
           {
            "bin_end": 0.9,
            "bin_start": 0.8,
            "count": 0
           },
           {
            "bin_end": 1,
            "bin_start": 0.9,
            "count": 60
           }
          ],
          "max": "1",
          "min": "0",
          "nan_count": 0,
          "unique_count": 2
         }
        },
        {
         "dtype": "int64",
         "name": "Chronic Kidney Disease: yes",
         "stats": {
          "histogram": [
           {
            "bin_end": 0.1,
            "bin_start": 0,
            "count": 150
           },
           {
            "bin_end": 0.2,
            "bin_start": 0.1,
            "count": 0
           },
           {
            "bin_end": 0.30000000000000004,
            "bin_start": 0.2,
            "count": 0
           },
           {
            "bin_end": 0.4,
            "bin_start": 0.30000000000000004,
            "count": 0
           },
           {
            "bin_end": 0.5,
            "bin_start": 0.4,
            "count": 0
           },
           {
            "bin_end": 0.6000000000000001,
            "bin_start": 0.5,
            "count": 0
           },
           {
            "bin_end": 0.7000000000000001,
            "bin_start": 0.6000000000000001,
            "count": 0
           },
           {
            "bin_end": 0.8,
            "bin_start": 0.7000000000000001,
            "count": 0
           },
           {
            "bin_end": 0.9,
            "bin_start": 0.8,
            "count": 0
           },
           {
            "bin_end": 1,
            "bin_start": 0.9,
            "count": 250
           }
          ],
          "max": "1",
          "min": "0",
          "nan_count": 0,
          "unique_count": 2
         }
        },
        {
         "dtype": "int64",
         "name": "_deepnote_index_column"
        }
       ],
       "row_count": 400,
       "rows": [
        {
         "Age (yrs)": 48,
         "Anemia: yes": 0,
         "Appetite: poor": 0,
         "Bacteria: present": 0,
         "Blood Glucose Random (mgs/dL)": 121,
         "Blood Pressure (mm/Hg)": 80,
         "Blood Urea (mgs/dL)": 36,
         "Chronic Kidney Disease: yes": 1,
         "Coronary Artery Disease: yes": 0,
         "Diabetes Mellitus: yes": 1,
         "Hemoglobin (gms)": 15.4,
         "Hypertension: yes": 1,
         "Potassium (mEq/L)": 4.7,
         "Red Blood Cells (millions/cmm)": 5.2,
         "Serum Creatinine (mgs/dL)": 1.2,
         "Sodium (mEq/L)": 136,
         "Specific Gravity": 1.02,
         "Sugar": 0,
         "White Blood Cells (cells/cmm)": 7800,
         "_deepnote_index_column": 0
        },
        {
         "Age (yrs)": 7,
         "Anemia: yes": 0,
         "Appetite: poor": 0,
         "Bacteria: present": 0,
         "Blood Glucose Random (mgs/dL)": 90.31658119,
         "Blood Pressure (mm/Hg)": 50,
         "Blood Urea (mgs/dL)": 18,
         "Chronic Kidney Disease: yes": 1,
         "Coronary Artery Disease: yes": 0,
         "Diabetes Mellitus: yes": 0,
         "Hemoglobin (gms)": 11.3,
         "Hypertension: yes": 0,
         "Potassium (mEq/L)": 4,
         "Red Blood Cells (millions/cmm)": 4.721717463,
         "Serum Creatinine (mgs/dL)": 0.8,
         "Sodium (mEq/L)": 140,
         "Specific Gravity": 1.02,
         "Sugar": 0,
         "White Blood Cells (cells/cmm)": 6000,
         "_deepnote_index_column": 1
        },
        {
         "Age (yrs)": 62,
         "Anemia: yes": 1,
         "Appetite: poor": 1,
         "Bacteria: present": 0,
         "Blood Glucose Random (mgs/dL)": 423,
         "Blood Pressure (mm/Hg)": 80,
         "Blood Urea (mgs/dL)": 53,
         "Chronic Kidney Disease: yes": 1,
         "Coronary Artery Disease: yes": 0,
         "Diabetes Mellitus: yes": 1,
         "Hemoglobin (gms)": 9.6,
         "Hypertension: yes": 0,
         "Potassium (mEq/L)": 4.8,
         "Red Blood Cells (millions/cmm)": 3.4,
         "Serum Creatinine (mgs/dL)": 1.8,
         "Sodium (mEq/L)": 135,
         "Specific Gravity": 1.01,
         "Sugar": 3,
         "White Blood Cells (cells/cmm)": 7500,
         "_deepnote_index_column": 2
        },
        {
         "Age (yrs)": 48,
         "Anemia: yes": 1,
         "Appetite: poor": 1,
         "Bacteria: present": 0,
         "Blood Glucose Random (mgs/dL)": 117,
         "Blood Pressure (mm/Hg)": 70,
         "Blood Urea (mgs/dL)": 56,
         "Chronic Kidney Disease: yes": 1,
         "Coronary Artery Disease: yes": 0,
         "Diabetes Mellitus: yes": 0,
         "Hemoglobin (gms)": 11.2,
         "Hypertension: yes": 1,
         "Potassium (mEq/L)": 2.5,
         "Red Blood Cells (millions/cmm)": 3.9,
         "Serum Creatinine (mgs/dL)": 3.8,
         "Sodium (mEq/L)": 111,
         "Specific Gravity": 1.005,
         "Sugar": 0,
         "White Blood Cells (cells/cmm)": 6700,
         "_deepnote_index_column": 3
        },
        {
         "Age (yrs)": 51,
         "Anemia: yes": 0,
         "Appetite: poor": 0,
         "Bacteria: present": 0,
         "Blood Glucose Random (mgs/dL)": 106,
         "Blood Pressure (mm/Hg)": 80,
         "Blood Urea (mgs/dL)": 26,
         "Chronic Kidney Disease: yes": 1,
         "Coronary Artery Disease: yes": 0,
         "Diabetes Mellitus: yes": 0,
         "Hemoglobin (gms)": 11.6,
         "Hypertension: yes": 0,
         "Potassium (mEq/L)": 4,
         "Red Blood Cells (millions/cmm)": 4.6,
         "Serum Creatinine (mgs/dL)": 1.4,
         "Sodium (mEq/L)": 140,
         "Specific Gravity": 1.01,
         "Sugar": 0,
         "White Blood Cells (cells/cmm)": 7300,
         "_deepnote_index_column": 4
        },
        {
         "Age (yrs)": 60,
         "Anemia: yes": 0,
         "Appetite: poor": 0,
         "Bacteria: present": 0,
         "Blood Glucose Random (mgs/dL)": 74,
         "Blood Pressure (mm/Hg)": 90,
         "Blood Urea (mgs/dL)": 25,
         "Chronic Kidney Disease: yes": 1,
         "Coronary Artery Disease: yes": 0,
         "Diabetes Mellitus: yes": 1,
         "Hemoglobin (gms)": 12.2,
         "Hypertension: yes": 1,
         "Potassium (mEq/L)": 3.2,
         "Red Blood Cells (millions/cmm)": 4.4,
         "Serum Creatinine (mgs/dL)": 1.1,
         "Sodium (mEq/L)": 142,
         "Specific Gravity": 1.015,
         "Sugar": 0,
         "White Blood Cells (cells/cmm)": 7800,
         "_deepnote_index_column": 5
        },
        {
         "Age (yrs)": 68,
         "Anemia: yes": 0,
         "Appetite: poor": 0,
         "Bacteria: present": 0,
         "Blood Glucose Random (mgs/dL)": 100,
         "Blood Pressure (mm/Hg)": 70,
         "Blood Urea (mgs/dL)": 54,
         "Chronic Kidney Disease: yes": 1,
         "Coronary Artery Disease: yes": 0,
         "Diabetes Mellitus: yes": 0,
         "Hemoglobin (gms)": 12.4,
         "Hypertension: yes": 0,
         "Potassium (mEq/L)": 4,
         "Red Blood Cells (millions/cmm)": 4.79153164,
         "Serum Creatinine (mgs/dL)": 24,
         "Sodium (mEq/L)": 104,
         "Specific Gravity": 1.01,
         "Sugar": 0,
         "White Blood Cells (cells/cmm)": 8200,
         "_deepnote_index_column": 6
        },
        {
         "Age (yrs)": 24,
         "Anemia: yes": 0,
         "Appetite: poor": 0,
         "Bacteria: present": 0,
         "Blood Glucose Random (mgs/dL)": 410,
         "Blood Pressure (mm/Hg)": 60,
         "Blood Urea (mgs/dL)": 31,
         "Chronic Kidney Disease: yes": 1,
         "Coronary Artery Disease: yes": 0,
         "Diabetes Mellitus: yes": 1,
         "Hemoglobin (gms)": 12.4,
         "Hypertension: yes": 0,
         "Potassium (mEq/L)": 4.2,
         "Red Blood Cells (millions/cmm)": 5,
         "Serum Creatinine (mgs/dL)": 1.1,
         "Sodium (mEq/L)": 138,
         "Specific Gravity": 1.015,
         "Sugar": 4,
         "White Blood Cells (cells/cmm)": 6900,
         "_deepnote_index_column": 7
        },
        {
         "Age (yrs)": 52,
         "Anemia: yes": 1,
         "Appetite: poor": 0,
         "Bacteria: present": 0,
         "Blood Glucose Random (mgs/dL)": 138,
         "Blood Pressure (mm/Hg)": 100,
         "Blood Urea (mgs/dL)": 60,
         "Chronic Kidney Disease: yes": 1,
         "Coronary Artery Disease: yes": 0,
         "Diabetes Mellitus: yes": 1,
         "Hemoglobin (gms)": 10.8,
         "Hypertension: yes": 1,
         "Potassium (mEq/L)": 5,
         "Red Blood Cells (millions/cmm)": 4,
         "Serum Creatinine (mgs/dL)": 1.9,
         "Sodium (mEq/L)": 135,
         "Specific Gravity": 1.015,
         "Sugar": 0,
         "White Blood Cells (cells/cmm)": 9600,
         "_deepnote_index_column": 8
        },
        {
         "Age (yrs)": 53,
         "Anemia: yes": 1,
         "Appetite: poor": 1,
         "Bacteria: present": 0,
         "Blood Glucose Random (mgs/dL)": 70,
         "Blood Pressure (mm/Hg)": 90,
         "Blood Urea (mgs/dL)": 107,
         "Chronic Kidney Disease: yes": 1,
         "Coronary Artery Disease: yes": 0,
         "Diabetes Mellitus: yes": 1,
         "Hemoglobin (gms)": 9.5,
         "Hypertension: yes": 1,
         "Potassium (mEq/L)": 3.7,
         "Red Blood Cells (millions/cmm)": 3.7,
         "Serum Creatinine (mgs/dL)": 7.2,
         "Sodium (mEq/L)": 114,
         "Specific Gravity": 1.02,
         "Sugar": 0,
         "White Blood Cells (cells/cmm)": 12100,
         "_deepnote_index_column": 9
        }
       ]
      },
      "text/html": [
       "<div>\n",
       "<style scoped>\n",
       "    .dataframe tbody tr th:only-of-type {\n",
       "        vertical-align: middle;\n",
       "    }\n",
       "\n",
       "    .dataframe tbody tr th {\n",
       "        vertical-align: top;\n",
       "    }\n",
       "\n",
       "    .dataframe thead th {\n",
       "        text-align: right;\n",
       "    }\n",
       "</style>\n",
       "<table border=\"1\" class=\"dataframe\">\n",
       "  <thead>\n",
       "    <tr style=\"text-align: right;\">\n",
       "      <th></th>\n",
       "      <th>Age (yrs)</th>\n",
       "      <th>Blood Pressure (mm/Hg)</th>\n",
       "      <th>Specific Gravity</th>\n",
       "      <th>Sugar</th>\n",
       "      <th>Blood Glucose Random (mgs/dL)</th>\n",
       "      <th>Blood Urea (mgs/dL)</th>\n",
       "      <th>Serum Creatinine (mgs/dL)</th>\n",
       "      <th>Sodium (mEq/L)</th>\n",
       "      <th>Potassium (mEq/L)</th>\n",
       "      <th>Hemoglobin (gms)</th>\n",
       "      <th>White Blood Cells (cells/cmm)</th>\n",
       "      <th>Appetite: poor</th>\n",
       "      <th>Red Blood Cells (millions/cmm)</th>\n",
       "      <th>Hypertension: yes</th>\n",
       "      <th>Bacteria: present</th>\n",
       "      <th>Diabetes Mellitus: yes</th>\n",
       "      <th>Coronary Artery Disease: yes</th>\n",
       "      <th>Anemia: yes</th>\n",
       "      <th>Chronic Kidney Disease: yes</th>\n",
       "    </tr>\n",
       "  </thead>\n",
       "  <tbody>\n",
       "    <tr>\n",
       "      <th>0</th>\n",
       "      <td>48.0</td>\n",
       "      <td>80</td>\n",
       "      <td>1.020</td>\n",
       "      <td>0</td>\n",
       "      <td>121.000000</td>\n",
       "      <td>36.0</td>\n",
       "      <td>1.2</td>\n",
       "      <td>136.0</td>\n",
       "      <td>4.7</td>\n",
       "      <td>15.4</td>\n",
       "      <td>7800.0</td>\n",
       "      <td>0</td>\n",
       "      <td>5.200000</td>\n",
       "      <td>1</td>\n",
       "      <td>0</td>\n",
       "      <td>1</td>\n",
       "      <td>0</td>\n",
       "      <td>0</td>\n",
       "      <td>1</td>\n",
       "    </tr>\n",
       "    <tr>\n",
       "      <th>1</th>\n",
       "      <td>7.0</td>\n",
       "      <td>50</td>\n",
       "      <td>1.020</td>\n",
       "      <td>0</td>\n",
       "      <td>90.316581</td>\n",
       "      <td>18.0</td>\n",
       "      <td>0.8</td>\n",
       "      <td>140.0</td>\n",
       "      <td>4.0</td>\n",
       "      <td>11.3</td>\n",
       "      <td>6000.0</td>\n",
       "      <td>0</td>\n",
       "      <td>4.721717</td>\n",
       "      <td>0</td>\n",
       "      <td>0</td>\n",
       "      <td>0</td>\n",
       "      <td>0</td>\n",
       "      <td>0</td>\n",
       "      <td>1</td>\n",
       "    </tr>\n",
       "    <tr>\n",
       "      <th>2</th>\n",
       "      <td>62.0</td>\n",
       "      <td>80</td>\n",
       "      <td>1.010</td>\n",
       "      <td>3</td>\n",
       "      <td>423.000000</td>\n",
       "      <td>53.0</td>\n",
       "      <td>1.8</td>\n",
       "      <td>135.0</td>\n",
       "      <td>4.8</td>\n",
       "      <td>9.6</td>\n",
       "      <td>7500.0</td>\n",
       "      <td>1</td>\n",
       "      <td>3.400000</td>\n",
       "      <td>0</td>\n",
       "      <td>0</td>\n",
       "      <td>1</td>\n",
       "      <td>0</td>\n",
       "      <td>1</td>\n",
       "      <td>1</td>\n",
       "    </tr>\n",
       "    <tr>\n",
       "      <th>3</th>\n",
       "      <td>48.0</td>\n",
       "      <td>70</td>\n",
       "      <td>1.005</td>\n",
       "      <td>0</td>\n",
       "      <td>117.000000</td>\n",
       "      <td>56.0</td>\n",
       "      <td>3.8</td>\n",
       "      <td>111.0</td>\n",
       "      <td>2.5</td>\n",
       "      <td>11.2</td>\n",
       "      <td>6700.0</td>\n",
       "      <td>1</td>\n",
       "      <td>3.900000</td>\n",
       "      <td>1</td>\n",
       "      <td>0</td>\n",
       "      <td>0</td>\n",
       "      <td>0</td>\n",
       "      <td>1</td>\n",
       "      <td>1</td>\n",
       "    </tr>\n",
       "    <tr>\n",
       "      <th>4</th>\n",
       "      <td>51.0</td>\n",
       "      <td>80</td>\n",
       "      <td>1.010</td>\n",
       "      <td>0</td>\n",
       "      <td>106.000000</td>\n",
       "      <td>26.0</td>\n",
       "      <td>1.4</td>\n",
       "      <td>140.0</td>\n",
       "      <td>4.0</td>\n",
       "      <td>11.6</td>\n",
       "      <td>7300.0</td>\n",
       "      <td>0</td>\n",
       "      <td>4.600000</td>\n",
       "      <td>0</td>\n",
       "      <td>0</td>\n",
       "      <td>0</td>\n",
       "      <td>0</td>\n",
       "      <td>0</td>\n",
       "      <td>1</td>\n",
       "    </tr>\n",
       "    <tr>\n",
       "      <th>...</th>\n",
       "      <td>...</td>\n",
       "      <td>...</td>\n",
       "      <td>...</td>\n",
       "      <td>...</td>\n",
       "      <td>...</td>\n",
       "      <td>...</td>\n",
       "      <td>...</td>\n",
       "      <td>...</td>\n",
       "      <td>...</td>\n",
       "      <td>...</td>\n",
       "      <td>...</td>\n",
       "      <td>...</td>\n",
       "      <td>...</td>\n",
       "      <td>...</td>\n",
       "      <td>...</td>\n",
       "      <td>...</td>\n",
       "      <td>...</td>\n",
       "      <td>...</td>\n",
       "      <td>...</td>\n",
       "    </tr>\n",
       "    <tr>\n",
       "      <th>395</th>\n",
       "      <td>55.0</td>\n",
       "      <td>80</td>\n",
       "      <td>1.020</td>\n",
       "      <td>0</td>\n",
       "      <td>140.000000</td>\n",
       "      <td>49.0</td>\n",
       "      <td>0.5</td>\n",
       "      <td>150.0</td>\n",
       "      <td>4.9</td>\n",
       "      <td>15.7</td>\n",
       "      <td>6700.0</td>\n",
       "      <td>0</td>\n",
       "      <td>4.900000</td>\n",
       "      <td>0</td>\n",
       "      <td>0</td>\n",
       "      <td>0</td>\n",
       "      <td>0</td>\n",
       "      <td>0</td>\n",
       "      <td>0</td>\n",
       "    </tr>\n",
       "    <tr>\n",
       "      <th>396</th>\n",
       "      <td>42.0</td>\n",
       "      <td>70</td>\n",
       "      <td>1.025</td>\n",
       "      <td>0</td>\n",
       "      <td>75.000000</td>\n",
       "      <td>31.0</td>\n",
       "      <td>1.2</td>\n",
       "      <td>141.0</td>\n",
       "      <td>3.5</td>\n",
       "      <td>16.5</td>\n",
       "      <td>7800.0</td>\n",
       "      <td>0</td>\n",
       "      <td>6.200000</td>\n",
       "      <td>0</td>\n",
       "      <td>0</td>\n",
       "      <td>0</td>\n",
       "      <td>0</td>\n",
       "      <td>0</td>\n",
       "      <td>0</td>\n",
       "    </tr>\n",
       "    <tr>\n",
       "      <th>397</th>\n",
       "      <td>12.0</td>\n",
       "      <td>80</td>\n",
       "      <td>1.020</td>\n",
       "      <td>0</td>\n",
       "      <td>100.000000</td>\n",
       "      <td>26.0</td>\n",
       "      <td>0.6</td>\n",
       "      <td>137.0</td>\n",
       "      <td>4.4</td>\n",
       "      <td>15.8</td>\n",
       "      <td>6600.0</td>\n",
       "      <td>0</td>\n",
       "      <td>5.400000</td>\n",
       "      <td>0</td>\n",
       "      <td>0</td>\n",
       "      <td>0</td>\n",
       "      <td>0</td>\n",
       "      <td>0</td>\n",
       "      <td>0</td>\n",
       "    </tr>\n",
       "    <tr>\n",
       "      <th>398</th>\n",
       "      <td>17.0</td>\n",
       "      <td>60</td>\n",
       "      <td>1.025</td>\n",
       "      <td>0</td>\n",
       "      <td>114.000000</td>\n",
       "      <td>50.0</td>\n",
       "      <td>1.0</td>\n",
       "      <td>135.0</td>\n",
       "      <td>4.9</td>\n",
       "      <td>14.2</td>\n",
       "      <td>7200.0</td>\n",
       "      <td>0</td>\n",
       "      <td>5.900000</td>\n",
       "      <td>0</td>\n",
       "      <td>0</td>\n",
       "      <td>0</td>\n",
       "      <td>0</td>\n",
       "      <td>0</td>\n",
       "      <td>0</td>\n",
       "    </tr>\n",
       "    <tr>\n",
       "      <th>399</th>\n",
       "      <td>58.0</td>\n",
       "      <td>80</td>\n",
       "      <td>1.025</td>\n",
       "      <td>0</td>\n",
       "      <td>131.000000</td>\n",
       "      <td>18.0</td>\n",
       "      <td>1.1</td>\n",
       "      <td>141.0</td>\n",
       "      <td>3.5</td>\n",
       "      <td>15.8</td>\n",
       "      <td>6800.0</td>\n",
       "      <td>0</td>\n",
       "      <td>6.100000</td>\n",
       "      <td>0</td>\n",
       "      <td>0</td>\n",
       "      <td>0</td>\n",
       "      <td>0</td>\n",
       "      <td>0</td>\n",
       "      <td>0</td>\n",
       "    </tr>\n",
       "  </tbody>\n",
       "</table>\n",
       "<p>400 rows × 19 columns</p>\n",
       "</div>"
      ],
      "text/plain": [
       "     Age (yrs)  Blood Pressure (mm/Hg)  Specific Gravity  Sugar  \\\n",
       "0         48.0                      80             1.020      0   \n",
       "1          7.0                      50             1.020      0   \n",
       "2         62.0                      80             1.010      3   \n",
       "3         48.0                      70             1.005      0   \n",
       "4         51.0                      80             1.010      0   \n",
       "..         ...                     ...               ...    ...   \n",
       "395       55.0                      80             1.020      0   \n",
       "396       42.0                      70             1.025      0   \n",
       "397       12.0                      80             1.020      0   \n",
       "398       17.0                      60             1.025      0   \n",
       "399       58.0                      80             1.025      0   \n",
       "\n",
       "     Blood Glucose Random (mgs/dL)  Blood Urea (mgs/dL)  \\\n",
       "0                       121.000000                 36.0   \n",
       "1                        90.316581                 18.0   \n",
       "2                       423.000000                 53.0   \n",
       "3                       117.000000                 56.0   \n",
       "4                       106.000000                 26.0   \n",
       "..                             ...                  ...   \n",
       "395                     140.000000                 49.0   \n",
       "396                      75.000000                 31.0   \n",
       "397                     100.000000                 26.0   \n",
       "398                     114.000000                 50.0   \n",
       "399                     131.000000                 18.0   \n",
       "\n",
       "     Serum Creatinine (mgs/dL)  Sodium (mEq/L)  Potassium (mEq/L)  \\\n",
       "0                          1.2           136.0                4.7   \n",
       "1                          0.8           140.0                4.0   \n",
       "2                          1.8           135.0                4.8   \n",
       "3                          3.8           111.0                2.5   \n",
       "4                          1.4           140.0                4.0   \n",
       "..                         ...             ...                ...   \n",
       "395                        0.5           150.0                4.9   \n",
       "396                        1.2           141.0                3.5   \n",
       "397                        0.6           137.0                4.4   \n",
       "398                        1.0           135.0                4.9   \n",
       "399                        1.1           141.0                3.5   \n",
       "\n",
       "     Hemoglobin (gms)  White Blood Cells (cells/cmm)  Appetite: poor  \\\n",
       "0                15.4                         7800.0               0   \n",
       "1                11.3                         6000.0               0   \n",
       "2                 9.6                         7500.0               1   \n",
       "3                11.2                         6700.0               1   \n",
       "4                11.6                         7300.0               0   \n",
       "..                ...                            ...             ...   \n",
       "395              15.7                         6700.0               0   \n",
       "396              16.5                         7800.0               0   \n",
       "397              15.8                         6600.0               0   \n",
       "398              14.2                         7200.0               0   \n",
       "399              15.8                         6800.0               0   \n",
       "\n",
       "     Red Blood Cells (millions/cmm)  Hypertension: yes  Bacteria: present  \\\n",
       "0                          5.200000                  1                  0   \n",
       "1                          4.721717                  0                  0   \n",
       "2                          3.400000                  0                  0   \n",
       "3                          3.900000                  1                  0   \n",
       "4                          4.600000                  0                  0   \n",
       "..                              ...                ...                ...   \n",
       "395                        4.900000                  0                  0   \n",
       "396                        6.200000                  0                  0   \n",
       "397                        5.400000                  0                  0   \n",
       "398                        5.900000                  0                  0   \n",
       "399                        6.100000                  0                  0   \n",
       "\n",
       "     Diabetes Mellitus: yes  Coronary Artery Disease: yes  Anemia: yes  \\\n",
       "0                         1                             0            0   \n",
       "1                         0                             0            0   \n",
       "2                         1                             0            1   \n",
       "3                         0                             0            1   \n",
       "4                         0                             0            0   \n",
       "..                      ...                           ...          ...   \n",
       "395                       0                             0            0   \n",
       "396                       0                             0            0   \n",
       "397                       0                             0            0   \n",
       "398                       0                             0            0   \n",
       "399                       0                             0            0   \n",
       "\n",
       "     Chronic Kidney Disease: yes  \n",
       "0                              1  \n",
       "1                              1  \n",
       "2                              1  \n",
       "3                              1  \n",
       "4                              1  \n",
       "..                           ...  \n",
       "395                            0  \n",
       "396                            0  \n",
       "397                            0  \n",
       "398                            0  \n",
       "399                            0  \n",
       "\n",
       "[400 rows x 19 columns]"
      ]
     },
     "execution_count": 14,
     "metadata": {},
     "output_type": "execute_result"
    }
   ],
   "source": [
    "kidney_df.drop(['Albumin'], axis=1, inplace=True)\n",
    "kidney_df"
   ]
  },
  {
   "cell_type": "code",
   "execution_count": null,
   "metadata": {
    "cell_id": "b6a2cbd34d244e879df120a7840bd414",
    "deepnote_cell_type": "code",
    "deepnote_to_be_reexecuted": false,
    "execution_millis": 65,
    "execution_start": 1724013808006,
    "source_hash": null
   },
   "outputs": [
    {
     "data": {
      "application/vnd.deepnote.dataframe.v3+json": {
       "column_count": 18,
       "columns": [
        {
         "dtype": "float64",
         "name": "Age (yrs)",
         "stats": {
          "histogram": [
           {
            "bin_end": 10.8,
            "bin_start": 2,
            "count": 10
           },
           {
            "bin_end": 19.6,
            "bin_start": 10.8,
            "count": 11
           },
           {
            "bin_end": 28.400000000000002,
            "bin_start": 19.6,
            "count": 20
           },
           {
            "bin_end": 37.2,
            "bin_start": 28.400000000000002,
            "count": 39
           },
           {
            "bin_end": 46,
            "bin_start": 37.2,
            "count": 45
           },
           {
            "bin_end": 54.800000000000004,
            "bin_start": 46,
            "count": 74
           },
           {
            "bin_end": 63.60000000000001,
            "bin_start": 54.800000000000004,
            "count": 92
           },
           {
            "bin_end": 72.4,
            "bin_start": 63.60000000000001,
            "count": 78
           },
           {
            "bin_end": 81.2,
            "bin_start": 72.4,
            "count": 28
           },
           {
            "bin_end": 90,
            "bin_start": 81.2,
            "count": 3
           }
          ],
          "max": "90.0",
          "min": "2.0",
          "nan_count": 0,
          "unique_count": 79
         }
        },
        {
         "dtype": "int64",
         "name": "Blood Pressure (mm/Hg)",
         "stats": {
          "histogram": [
           {
            "bin_end": 63,
            "bin_start": 50,
            "count": 79
           },
           {
            "bin_end": 76,
            "bin_start": 63,
            "count": 118
           },
           {
            "bin_end": 89,
            "bin_start": 76,
            "count": 118
           },
           {
            "bin_end": 102,
            "bin_start": 89,
            "count": 79
           },
           {
            "bin_end": 115,
            "bin_start": 102,
            "count": 3
           },
           {
            "bin_end": 128,
            "bin_start": 115,
            "count": 1
           },
           {
            "bin_end": 141,
            "bin_start": 128,
            "count": 1
           },
           {
            "bin_end": 154,
            "bin_start": 141,
            "count": 0
           },
           {
            "bin_end": 167,
            "bin_start": 154,
            "count": 0
           },
           {
            "bin_end": 180,
            "bin_start": 167,
            "count": 1
           }
          ],
          "max": "180",
          "min": "50",
          "nan_count": 0,
          "unique_count": 10
         }
        },
        {
         "dtype": "float64",
         "name": "Specific Gravity",
         "stats": {
          "histogram": [
           {
            "bin_end": 1.007,
            "bin_start": 1.005,
            "count": 7
           },
           {
            "bin_end": 1.009,
            "bin_start": 1.007,
            "count": 0
           },
           {
            "bin_end": 1.011,
            "bin_start": 1.009,
            "count": 89
           },
           {
            "bin_end": 1.013,
            "bin_start": 1.011,
            "count": 0
           },
           {
            "bin_end": 1.015,
            "bin_start": 1.013,
            "count": 1
           },
           {
            "bin_end": 1.017,
            "bin_start": 1.015,
            "count": 94
           },
           {
            "bin_end": 1.019,
            "bin_start": 1.017,
            "count": 0
           },
           {
            "bin_end": 1.021,
            "bin_start": 1.019,
            "count": 119
           },
           {
            "bin_end": 1.023,
            "bin_start": 1.021,
            "count": 0
           },
           {
            "bin_end": 1.025,
            "bin_start": 1.023,
            "count": 90
           }
          ],
          "max": "1.025",
          "min": "1.005",
          "nan_count": 0,
          "unique_count": 6
         }
        },
        {
         "dtype": "float64",
         "name": "Blood Glucose Random (mgs/dL)",
         "stats": {
          "histogram": [
           {
            "bin_end": 68.8,
            "bin_start": 22,
            "count": 1
           },
           {
            "bin_end": 115.6,
            "bin_start": 68.8,
            "count": 180
           },
           {
            "bin_end": 162.39999999999998,
            "bin_start": 115.6,
            "count": 122
           },
           {
            "bin_end": 209.2,
            "bin_start": 162.39999999999998,
            "count": 28
           },
           {
            "bin_end": 256,
            "bin_start": 209.2,
            "count": 33
           },
           {
            "bin_end": 302.79999999999995,
            "bin_start": 256,
            "count": 15
           },
           {
            "bin_end": 349.59999999999997,
            "bin_start": 302.79999999999995,
            "count": 7
           },
           {
            "bin_end": 396.4,
            "bin_start": 349.59999999999997,
            "count": 4
           },
           {
            "bin_end": 443.2,
            "bin_start": 396.4,
            "count": 6
           },
           {
            "bin_end": 490,
            "bin_start": 443.2,
            "count": 4
           }
          ],
          "max": "490.0",
          "min": "22.0",
          "nan_count": 0,
          "unique_count": 171
         }
        },
        {
         "dtype": "float64",
         "name": "Blood Urea (mgs/dL)",
         "stats": {
          "histogram": [
           {
            "bin_end": 40.45,
            "bin_start": 1.5,
            "count": 197
           },
           {
            "bin_end": 79.4,
            "bin_start": 40.45,
            "count": 125
           },
           {
            "bin_end": 118.35000000000001,
            "bin_start": 79.4,
            "count": 39
           },
           {
            "bin_end": 157.3,
            "bin_start": 118.35000000000001,
            "count": 18
           },
           {
            "bin_end": 196.25,
            "bin_start": 157.3,
            "count": 10
           },
           {
            "bin_end": 235.20000000000002,
            "bin_start": 196.25,
            "count": 7
           },
           {
            "bin_end": 274.15000000000003,
            "bin_start": 235.20000000000002,
            "count": 1
           },
           {
            "bin_end": 313.1,
            "bin_start": 274.15000000000003,
            "count": 1
           },
           {
            "bin_end": 352.05,
            "bin_start": 313.1,
            "count": 1
           },
           {
            "bin_end": 391,
            "bin_start": 352.05,
            "count": 1
           }
          ],
          "max": "391.0",
          "min": "1.5",
          "nan_count": 0,
          "unique_count": 125
         }
        },
        {
         "dtype": "float64",
         "name": "Serum Creatinine (mgs/dL)",
         "stats": {
          "histogram": [
           {
            "bin_end": 7.96,
            "bin_start": 0.4,
            "count": 371
           },
           {
            "bin_end": 15.52,
            "bin_start": 7.96,
            "count": 21
           },
           {
            "bin_end": 23.08,
            "bin_start": 15.52,
            "count": 4
           },
           {
            "bin_end": 30.639999999999997,
            "bin_start": 23.08,
            "count": 1
           },
           {
            "bin_end": 38.199999999999996,
            "bin_start": 30.639999999999997,
            "count": 1
           },
           {
            "bin_end": 45.76,
            "bin_start": 38.199999999999996,
            "count": 0
           },
           {
            "bin_end": 53.31999999999999,
            "bin_start": 45.76,
            "count": 1
           },
           {
            "bin_end": 60.879999999999995,
            "bin_start": 53.31999999999999,
            "count": 0
           },
           {
            "bin_end": 68.44,
            "bin_start": 60.879999999999995,
            "count": 0
           },
           {
            "bin_end": 76,
            "bin_start": 68.44,
            "count": 1
           }
          ],
          "max": "76.0",
          "min": "0.4",
          "nan_count": 0,
          "unique_count": 89
         }
        },
        {
         "dtype": "float64",
         "name": "Sodium (mEq/L)",
         "stats": {
          "histogram": [
           {
            "bin_end": 20.35,
            "bin_start": 4.5,
            "count": 1
           },
           {
            "bin_end": 36.2,
            "bin_start": 20.35,
            "count": 0
           },
           {
            "bin_end": 52.05,
            "bin_start": 36.2,
            "count": 0
           },
           {
            "bin_end": 67.9,
            "bin_start": 52.05,
            "count": 0
           },
           {
            "bin_end": 83.75,
            "bin_start": 67.9,
            "count": 0
           },
           {
            "bin_end": 99.6,
            "bin_start": 83.75,
            "count": 0
           },
           {
            "bin_end": 115.45,
            "bin_start": 99.6,
            "count": 7
           },
           {
            "bin_end": 131.3,
            "bin_start": 115.45,
            "count": 32
           },
           {
            "bin_end": 147.15,
            "bin_start": 131.3,
            "count": 342
           },
           {
            "bin_end": 163,
            "bin_start": 147.15,
            "count": 18
           }
          ],
          "max": "163.0",
          "min": "4.5",
          "nan_count": 0,
          "unique_count": 40
         }
        },
        {
         "dtype": "float64",
         "name": "Potassium (mEq/L)",
         "stats": {
          "histogram": [
           {
            "bin_end": 6.95,
            "bin_start": 2.5,
            "count": 397
           },
           {
            "bin_end": 11.4,
            "bin_start": 6.95,
            "count": 1
           },
           {
            "bin_end": 15.850000000000001,
            "bin_start": 11.4,
            "count": 0
           },
           {
            "bin_end": 20.3,
            "bin_start": 15.850000000000001,
            "count": 0
           },
           {
            "bin_end": 24.75,
            "bin_start": 20.3,
            "count": 0
           },
           {
            "bin_end": 29.200000000000003,
            "bin_start": 24.75,
            "count": 0
           },
           {
            "bin_end": 33.650000000000006,
            "bin_start": 29.200000000000003,
            "count": 0
           },
           {
            "bin_end": 38.1,
            "bin_start": 33.650000000000006,
            "count": 0
           },
           {
            "bin_end": 42.550000000000004,
            "bin_start": 38.1,
            "count": 1
           },
           {
            "bin_end": 47,
            "bin_start": 42.550000000000004,
            "count": 1
           }
          ],
          "max": "47.0",
          "min": "2.5",
          "nan_count": 0,
          "unique_count": 57
         }
        },
        {
         "dtype": "float64",
         "name": "Hemoglobin (gms)",
         "stats": {
          "histogram": [
           {
            "bin_end": 4.57,
            "bin_start": 3.1,
            "count": 1
           },
           {
            "bin_end": 6.040000000000001,
            "bin_start": 4.57,
            "count": 6
           },
           {
            "bin_end": 7.51,
            "bin_start": 6.040000000000001,
            "count": 8
           },
           {
            "bin_end": 8.98,
            "bin_start": 7.51,
            "count": 26
           },
           {
            "bin_end": 10.450000000000001,
            "bin_start": 8.98,
            "count": 57
           },
           {
            "bin_end": 11.92,
            "bin_start": 10.450000000000001,
            "count": 85
           },
           {
            "bin_end": 13.39,
            "bin_start": 11.92,
            "count": 56
           },
           {
            "bin_end": 14.860000000000001,
            "bin_start": 13.39,
            "count": 62
           },
           {
            "bin_end": 16.330000000000002,
            "bin_start": 14.860000000000001,
            "count": 68
           },
           {
            "bin_end": 17.8,
            "bin_start": 16.330000000000002,
            "count": 31
           }
          ],
          "max": "17.8",
          "min": "3.1",
          "nan_count": 0,
          "unique_count": 142
         }
        },
        {
         "dtype": "float64",
         "name": "White Blood Cells (cells/cmm)",
         "stats": {
          "histogram": [
           {
            "bin_end": 4620,
            "bin_start": 2200,
            "count": 19
           },
           {
            "bin_end": 7040,
            "bin_start": 4620,
            "count": 110
           },
           {
            "bin_end": 9460,
            "bin_start": 7040,
            "count": 158
           },
           {
            "bin_end": 11880,
            "bin_start": 9460,
            "count": 87
           },
           {
            "bin_end": 14300,
            "bin_start": 11880,
            "count": 14
           },
           {
            "bin_end": 16720,
            "bin_start": 14300,
            "count": 8
           },
           {
            "bin_end": 19140,
            "bin_start": 16720,
            "count": 2
           },
           {
            "bin_end": 21560,
            "bin_start": 19140,
            "count": 0
           },
           {
            "bin_end": 23980,
            "bin_start": 21560,
            "count": 1
           },
           {
            "bin_end": 26400,
            "bin_start": 23980,
            "count": 1
           }
          ],
          "max": "26400.0",
          "min": "2200.0",
          "nan_count": 0,
          "unique_count": 134
         }
        },
        {
         "dtype": "int64",
         "name": "Appetite: poor",
         "stats": {
          "histogram": [
           {
            "bin_end": 0.1,
            "bin_start": 0,
            "count": 318
           },
           {
            "bin_end": 0.2,
            "bin_start": 0.1,
            "count": 0
           },
           {
            "bin_end": 0.30000000000000004,
            "bin_start": 0.2,
            "count": 0
           },
           {
            "bin_end": 0.4,
            "bin_start": 0.30000000000000004,
            "count": 0
           },
           {
            "bin_end": 0.5,
            "bin_start": 0.4,
            "count": 0
           },
           {
            "bin_end": 0.6000000000000001,
            "bin_start": 0.5,
            "count": 0
           },
           {
            "bin_end": 0.7000000000000001,
            "bin_start": 0.6000000000000001,
            "count": 0
           },
           {
            "bin_end": 0.8,
            "bin_start": 0.7000000000000001,
            "count": 0
           },
           {
            "bin_end": 0.9,
            "bin_start": 0.8,
            "count": 0
           },
           {
            "bin_end": 1,
            "bin_start": 0.9,
            "count": 82
           }
          ],
          "max": "1",
          "min": "0",
          "nan_count": 0,
          "unique_count": 2
         }
        },
        {
         "dtype": "float64",
         "name": "Red Blood Cells (millions/cmm)",
         "stats": {
          "histogram": [
           {
            "bin_end": 2.6900000000000004,
            "bin_start": 2.1,
            "count": 9
           },
           {
            "bin_end": 3.2800000000000002,
            "bin_start": 2.6900000000000004,
            "count": 20
           },
           {
            "bin_end": 3.87,
            "bin_start": 3.2800000000000002,
            "count": 56
           },
           {
            "bin_end": 4.460000000000001,
            "bin_start": 3.87,
            "count": 73
           },
           {
            "bin_end": 5.050000000000001,
            "bin_start": 4.460000000000001,
            "count": 128
           },
           {
            "bin_end": 5.640000000000001,
            "bin_start": 5.050000000000001,
            "count": 60
           },
           {
            "bin_end": 6.23,
            "bin_start": 5.640000000000001,
            "count": 39
           },
           {
            "bin_end": 6.82,
            "bin_start": 6.23,
            "count": 14
           },
           {
            "bin_end": 7.41,
            "bin_start": 6.82,
            "count": 0
           },
           {
            "bin_end": 8,
            "bin_start": 7.41,
            "count": 1
           }
          ],
          "max": "8.0",
          "min": "2.1",
          "nan_count": 0,
          "unique_count": 69
         }
        },
        {
         "dtype": "int64",
         "name": "Hypertension: yes",
         "stats": {
          "histogram": [
           {
            "bin_end": 0.1,
            "bin_start": 0,
            "count": 253
           },
           {
            "bin_end": 0.2,
            "bin_start": 0.1,
            "count": 0
           },
           {
            "bin_end": 0.30000000000000004,
            "bin_start": 0.2,
            "count": 0
           },
           {
            "bin_end": 0.4,
            "bin_start": 0.30000000000000004,
            "count": 0
           },
           {
            "bin_end": 0.5,
            "bin_start": 0.4,
            "count": 0
           },
           {
            "bin_end": 0.6000000000000001,
            "bin_start": 0.5,
            "count": 0
           },
           {
            "bin_end": 0.7000000000000001,
            "bin_start": 0.6000000000000001,
            "count": 0
           },
           {
            "bin_end": 0.8,
            "bin_start": 0.7000000000000001,
            "count": 0
           },
           {
            "bin_end": 0.9,
            "bin_start": 0.8,
            "count": 0
           },
           {
            "bin_end": 1,
            "bin_start": 0.9,
            "count": 147
           }
          ],
          "max": "1",
          "min": "0",
          "nan_count": 0,
          "unique_count": 2
         }
        },
        {
         "dtype": "int64",
         "name": "Bacteria: present",
         "stats": {
          "histogram": [
           {
            "bin_end": 0.1,
            "bin_start": 0,
            "count": 378
           },
           {
            "bin_end": 0.2,
            "bin_start": 0.1,
            "count": 0
           },
           {
            "bin_end": 0.30000000000000004,
            "bin_start": 0.2,
            "count": 0
           },
           {
            "bin_end": 0.4,
            "bin_start": 0.30000000000000004,
            "count": 0
           },
           {
            "bin_end": 0.5,
            "bin_start": 0.4,
            "count": 0
           },
           {
            "bin_end": 0.6000000000000001,
            "bin_start": 0.5,
            "count": 0
           },
           {
            "bin_end": 0.7000000000000001,
            "bin_start": 0.6000000000000001,
            "count": 0
           },
           {
            "bin_end": 0.8,
            "bin_start": 0.7000000000000001,
            "count": 0
           },
           {
            "bin_end": 0.9,
            "bin_start": 0.8,
            "count": 0
           },
           {
            "bin_end": 1,
            "bin_start": 0.9,
            "count": 22
           }
          ],
          "max": "1",
          "min": "0",
          "nan_count": 0,
          "unique_count": 2
         }
        },
        {
         "dtype": "int64",
         "name": "Diabetes Mellitus: yes",
         "stats": {
          "histogram": [
           {
            "bin_end": 0.1,
            "bin_start": 0,
            "count": 263
           },
           {
            "bin_end": 0.2,
            "bin_start": 0.1,
            "count": 0
           },
           {
            "bin_end": 0.30000000000000004,
            "bin_start": 0.2,
            "count": 0
           },
           {
            "bin_end": 0.4,
            "bin_start": 0.30000000000000004,
            "count": 0
           },
           {
            "bin_end": 0.5,
            "bin_start": 0.4,
            "count": 0
           },
           {
            "bin_end": 0.6000000000000001,
            "bin_start": 0.5,
            "count": 0
           },
           {
            "bin_end": 0.7000000000000001,
            "bin_start": 0.6000000000000001,
            "count": 0
           },
           {
            "bin_end": 0.8,
            "bin_start": 0.7000000000000001,
            "count": 0
           },
           {
            "bin_end": 0.9,
            "bin_start": 0.8,
            "count": 0
           },
           {
            "bin_end": 1,
            "bin_start": 0.9,
            "count": 137
           }
          ],
          "max": "1",
          "min": "0",
          "nan_count": 0,
          "unique_count": 2
         }
        },
        {
         "dtype": "int64",
         "name": "Coronary Artery Disease: yes",
         "stats": {
          "histogram": [
           {
            "bin_end": 0.1,
            "bin_start": 0,
            "count": 366
           },
           {
            "bin_end": 0.2,
            "bin_start": 0.1,
            "count": 0
           },
           {
            "bin_end": 0.30000000000000004,
            "bin_start": 0.2,
            "count": 0
           },
           {
            "bin_end": 0.4,
            "bin_start": 0.30000000000000004,
            "count": 0
           },
           {
            "bin_end": 0.5,
            "bin_start": 0.4,
            "count": 0
           },
           {
            "bin_end": 0.6000000000000001,
            "bin_start": 0.5,
            "count": 0
           },
           {
            "bin_end": 0.7000000000000001,
            "bin_start": 0.6000000000000001,
            "count": 0
           },
           {
            "bin_end": 0.8,
            "bin_start": 0.7000000000000001,
            "count": 0
           },
           {
            "bin_end": 0.9,
            "bin_start": 0.8,
            "count": 0
           },
           {
            "bin_end": 1,
            "bin_start": 0.9,
            "count": 34
           }
          ],
          "max": "1",
          "min": "0",
          "nan_count": 0,
          "unique_count": 2
         }
        },
        {
         "dtype": "int64",
         "name": "Anemia: yes",
         "stats": {
          "histogram": [
           {
            "bin_end": 0.1,
            "bin_start": 0,
            "count": 340
           },
           {
            "bin_end": 0.2,
            "bin_start": 0.1,
            "count": 0
           },
           {
            "bin_end": 0.30000000000000004,
            "bin_start": 0.2,
            "count": 0
           },
           {
            "bin_end": 0.4,
            "bin_start": 0.30000000000000004,
            "count": 0
           },
           {
            "bin_end": 0.5,
            "bin_start": 0.4,
            "count": 0
           },
           {
            "bin_end": 0.6000000000000001,
            "bin_start": 0.5,
            "count": 0
           },
           {
            "bin_end": 0.7000000000000001,
            "bin_start": 0.6000000000000001,
            "count": 0
           },
           {
            "bin_end": 0.8,
            "bin_start": 0.7000000000000001,
            "count": 0
           },
           {
            "bin_end": 0.9,
            "bin_start": 0.8,
            "count": 0
           },
           {
            "bin_end": 1,
            "bin_start": 0.9,
            "count": 60
           }
          ],
          "max": "1",
          "min": "0",
          "nan_count": 0,
          "unique_count": 2
         }
        },
        {
         "dtype": "int64",
         "name": "Chronic Kidney Disease: yes",
         "stats": {
          "histogram": [
           {
            "bin_end": 0.1,
            "bin_start": 0,
            "count": 150
           },
           {
            "bin_end": 0.2,
            "bin_start": 0.1,
            "count": 0
           },
           {
            "bin_end": 0.30000000000000004,
            "bin_start": 0.2,
            "count": 0
           },
           {
            "bin_end": 0.4,
            "bin_start": 0.30000000000000004,
            "count": 0
           },
           {
            "bin_end": 0.5,
            "bin_start": 0.4,
            "count": 0
           },
           {
            "bin_end": 0.6000000000000001,
            "bin_start": 0.5,
            "count": 0
           },
           {
            "bin_end": 0.7000000000000001,
            "bin_start": 0.6000000000000001,
            "count": 0
           },
           {
            "bin_end": 0.8,
            "bin_start": 0.7000000000000001,
            "count": 0
           },
           {
            "bin_end": 0.9,
            "bin_start": 0.8,
            "count": 0
           },
           {
            "bin_end": 1,
            "bin_start": 0.9,
            "count": 250
           }
          ],
          "max": "1",
          "min": "0",
          "nan_count": 0,
          "unique_count": 2
         }
        },
        {
         "dtype": "int64",
         "name": "_deepnote_index_column"
        }
       ],
       "row_count": 400,
       "rows": [
        {
         "Age (yrs)": 48,
         "Anemia: yes": 0,
         "Appetite: poor": 0,
         "Bacteria: present": 0,
         "Blood Glucose Random (mgs/dL)": 121,
         "Blood Pressure (mm/Hg)": 80,
         "Blood Urea (mgs/dL)": 36,
         "Chronic Kidney Disease: yes": 1,
         "Coronary Artery Disease: yes": 0,
         "Diabetes Mellitus: yes": 1,
         "Hemoglobin (gms)": 15.4,
         "Hypertension: yes": 1,
         "Potassium (mEq/L)": 4.7,
         "Red Blood Cells (millions/cmm)": 5.2,
         "Serum Creatinine (mgs/dL)": 1.2,
         "Sodium (mEq/L)": 136,
         "Specific Gravity": 1.02,
         "White Blood Cells (cells/cmm)": 7800,
         "_deepnote_index_column": 0
        },
        {
         "Age (yrs)": 7,
         "Anemia: yes": 0,
         "Appetite: poor": 0,
         "Bacteria: present": 0,
         "Blood Glucose Random (mgs/dL)": 90.31658119,
         "Blood Pressure (mm/Hg)": 50,
         "Blood Urea (mgs/dL)": 18,
         "Chronic Kidney Disease: yes": 1,
         "Coronary Artery Disease: yes": 0,
         "Diabetes Mellitus: yes": 0,
         "Hemoglobin (gms)": 11.3,
         "Hypertension: yes": 0,
         "Potassium (mEq/L)": 4,
         "Red Blood Cells (millions/cmm)": 4.721717463,
         "Serum Creatinine (mgs/dL)": 0.8,
         "Sodium (mEq/L)": 140,
         "Specific Gravity": 1.02,
         "White Blood Cells (cells/cmm)": 6000,
         "_deepnote_index_column": 1
        },
        {
         "Age (yrs)": 62,
         "Anemia: yes": 1,
         "Appetite: poor": 1,
         "Bacteria: present": 0,
         "Blood Glucose Random (mgs/dL)": 423,
         "Blood Pressure (mm/Hg)": 80,
         "Blood Urea (mgs/dL)": 53,
         "Chronic Kidney Disease: yes": 1,
         "Coronary Artery Disease: yes": 0,
         "Diabetes Mellitus: yes": 1,
         "Hemoglobin (gms)": 9.6,
         "Hypertension: yes": 0,
         "Potassium (mEq/L)": 4.8,
         "Red Blood Cells (millions/cmm)": 3.4,
         "Serum Creatinine (mgs/dL)": 1.8,
         "Sodium (mEq/L)": 135,
         "Specific Gravity": 1.01,
         "White Blood Cells (cells/cmm)": 7500,
         "_deepnote_index_column": 2
        },
        {
         "Age (yrs)": 48,
         "Anemia: yes": 1,
         "Appetite: poor": 1,
         "Bacteria: present": 0,
         "Blood Glucose Random (mgs/dL)": 117,
         "Blood Pressure (mm/Hg)": 70,
         "Blood Urea (mgs/dL)": 56,
         "Chronic Kidney Disease: yes": 1,
         "Coronary Artery Disease: yes": 0,
         "Diabetes Mellitus: yes": 0,
         "Hemoglobin (gms)": 11.2,
         "Hypertension: yes": 1,
         "Potassium (mEq/L)": 2.5,
         "Red Blood Cells (millions/cmm)": 3.9,
         "Serum Creatinine (mgs/dL)": 3.8,
         "Sodium (mEq/L)": 111,
         "Specific Gravity": 1.005,
         "White Blood Cells (cells/cmm)": 6700,
         "_deepnote_index_column": 3
        },
        {
         "Age (yrs)": 51,
         "Anemia: yes": 0,
         "Appetite: poor": 0,
         "Bacteria: present": 0,
         "Blood Glucose Random (mgs/dL)": 106,
         "Blood Pressure (mm/Hg)": 80,
         "Blood Urea (mgs/dL)": 26,
         "Chronic Kidney Disease: yes": 1,
         "Coronary Artery Disease: yes": 0,
         "Diabetes Mellitus: yes": 0,
         "Hemoglobin (gms)": 11.6,
         "Hypertension: yes": 0,
         "Potassium (mEq/L)": 4,
         "Red Blood Cells (millions/cmm)": 4.6,
         "Serum Creatinine (mgs/dL)": 1.4,
         "Sodium (mEq/L)": 140,
         "Specific Gravity": 1.01,
         "White Blood Cells (cells/cmm)": 7300,
         "_deepnote_index_column": 4
        },
        {
         "Age (yrs)": 60,
         "Anemia: yes": 0,
         "Appetite: poor": 0,
         "Bacteria: present": 0,
         "Blood Glucose Random (mgs/dL)": 74,
         "Blood Pressure (mm/Hg)": 90,
         "Blood Urea (mgs/dL)": 25,
         "Chronic Kidney Disease: yes": 1,
         "Coronary Artery Disease: yes": 0,
         "Diabetes Mellitus: yes": 1,
         "Hemoglobin (gms)": 12.2,
         "Hypertension: yes": 1,
         "Potassium (mEq/L)": 3.2,
         "Red Blood Cells (millions/cmm)": 4.4,
         "Serum Creatinine (mgs/dL)": 1.1,
         "Sodium (mEq/L)": 142,
         "Specific Gravity": 1.015,
         "White Blood Cells (cells/cmm)": 7800,
         "_deepnote_index_column": 5
        },
        {
         "Age (yrs)": 68,
         "Anemia: yes": 0,
         "Appetite: poor": 0,
         "Bacteria: present": 0,
         "Blood Glucose Random (mgs/dL)": 100,
         "Blood Pressure (mm/Hg)": 70,
         "Blood Urea (mgs/dL)": 54,
         "Chronic Kidney Disease: yes": 1,
         "Coronary Artery Disease: yes": 0,
         "Diabetes Mellitus: yes": 0,
         "Hemoglobin (gms)": 12.4,
         "Hypertension: yes": 0,
         "Potassium (mEq/L)": 4,
         "Red Blood Cells (millions/cmm)": 4.79153164,
         "Serum Creatinine (mgs/dL)": 24,
         "Sodium (mEq/L)": 104,
         "Specific Gravity": 1.01,
         "White Blood Cells (cells/cmm)": 8200,
         "_deepnote_index_column": 6
        },
        {
         "Age (yrs)": 24,
         "Anemia: yes": 0,
         "Appetite: poor": 0,
         "Bacteria: present": 0,
         "Blood Glucose Random (mgs/dL)": 410,
         "Blood Pressure (mm/Hg)": 60,
         "Blood Urea (mgs/dL)": 31,
         "Chronic Kidney Disease: yes": 1,
         "Coronary Artery Disease: yes": 0,
         "Diabetes Mellitus: yes": 1,
         "Hemoglobin (gms)": 12.4,
         "Hypertension: yes": 0,
         "Potassium (mEq/L)": 4.2,
         "Red Blood Cells (millions/cmm)": 5,
         "Serum Creatinine (mgs/dL)": 1.1,
         "Sodium (mEq/L)": 138,
         "Specific Gravity": 1.015,
         "White Blood Cells (cells/cmm)": 6900,
         "_deepnote_index_column": 7
        },
        {
         "Age (yrs)": 52,
         "Anemia: yes": 1,
         "Appetite: poor": 0,
         "Bacteria: present": 0,
         "Blood Glucose Random (mgs/dL)": 138,
         "Blood Pressure (mm/Hg)": 100,
         "Blood Urea (mgs/dL)": 60,
         "Chronic Kidney Disease: yes": 1,
         "Coronary Artery Disease: yes": 0,
         "Diabetes Mellitus: yes": 1,
         "Hemoglobin (gms)": 10.8,
         "Hypertension: yes": 1,
         "Potassium (mEq/L)": 5,
         "Red Blood Cells (millions/cmm)": 4,
         "Serum Creatinine (mgs/dL)": 1.9,
         "Sodium (mEq/L)": 135,
         "Specific Gravity": 1.015,
         "White Blood Cells (cells/cmm)": 9600,
         "_deepnote_index_column": 8
        },
        {
         "Age (yrs)": 53,
         "Anemia: yes": 1,
         "Appetite: poor": 1,
         "Bacteria: present": 0,
         "Blood Glucose Random (mgs/dL)": 70,
         "Blood Pressure (mm/Hg)": 90,
         "Blood Urea (mgs/dL)": 107,
         "Chronic Kidney Disease: yes": 1,
         "Coronary Artery Disease: yes": 0,
         "Diabetes Mellitus: yes": 1,
         "Hemoglobin (gms)": 9.5,
         "Hypertension: yes": 1,
         "Potassium (mEq/L)": 3.7,
         "Red Blood Cells (millions/cmm)": 3.7,
         "Serum Creatinine (mgs/dL)": 7.2,
         "Sodium (mEq/L)": 114,
         "Specific Gravity": 1.02,
         "White Blood Cells (cells/cmm)": 12100,
         "_deepnote_index_column": 9
        }
       ]
      },
      "text/html": [
       "<div>\n",
       "<style scoped>\n",
       "    .dataframe tbody tr th:only-of-type {\n",
       "        vertical-align: middle;\n",
       "    }\n",
       "\n",
       "    .dataframe tbody tr th {\n",
       "        vertical-align: top;\n",
       "    }\n",
       "\n",
       "    .dataframe thead th {\n",
       "        text-align: right;\n",
       "    }\n",
       "</style>\n",
       "<table border=\"1\" class=\"dataframe\">\n",
       "  <thead>\n",
       "    <tr style=\"text-align: right;\">\n",
       "      <th></th>\n",
       "      <th>Age (yrs)</th>\n",
       "      <th>Blood Pressure (mm/Hg)</th>\n",
       "      <th>Specific Gravity</th>\n",
       "      <th>Blood Glucose Random (mgs/dL)</th>\n",
       "      <th>Blood Urea (mgs/dL)</th>\n",
       "      <th>Serum Creatinine (mgs/dL)</th>\n",
       "      <th>Sodium (mEq/L)</th>\n",
       "      <th>Potassium (mEq/L)</th>\n",
       "      <th>Hemoglobin (gms)</th>\n",
       "      <th>White Blood Cells (cells/cmm)</th>\n",
       "      <th>Appetite: poor</th>\n",
       "      <th>Red Blood Cells (millions/cmm)</th>\n",
       "      <th>Hypertension: yes</th>\n",
       "      <th>Bacteria: present</th>\n",
       "      <th>Diabetes Mellitus: yes</th>\n",
       "      <th>Coronary Artery Disease: yes</th>\n",
       "      <th>Anemia: yes</th>\n",
       "      <th>Chronic Kidney Disease: yes</th>\n",
       "    </tr>\n",
       "  </thead>\n",
       "  <tbody>\n",
       "    <tr>\n",
       "      <th>0</th>\n",
       "      <td>48.0</td>\n",
       "      <td>80</td>\n",
       "      <td>1.020</td>\n",
       "      <td>121.000000</td>\n",
       "      <td>36.0</td>\n",
       "      <td>1.2</td>\n",
       "      <td>136.0</td>\n",
       "      <td>4.7</td>\n",
       "      <td>15.4</td>\n",
       "      <td>7800.0</td>\n",
       "      <td>0</td>\n",
       "      <td>5.200000</td>\n",
       "      <td>1</td>\n",
       "      <td>0</td>\n",
       "      <td>1</td>\n",
       "      <td>0</td>\n",
       "      <td>0</td>\n",
       "      <td>1</td>\n",
       "    </tr>\n",
       "    <tr>\n",
       "      <th>1</th>\n",
       "      <td>7.0</td>\n",
       "      <td>50</td>\n",
       "      <td>1.020</td>\n",
       "      <td>90.316581</td>\n",
       "      <td>18.0</td>\n",
       "      <td>0.8</td>\n",
       "      <td>140.0</td>\n",
       "      <td>4.0</td>\n",
       "      <td>11.3</td>\n",
       "      <td>6000.0</td>\n",
       "      <td>0</td>\n",
       "      <td>4.721717</td>\n",
       "      <td>0</td>\n",
       "      <td>0</td>\n",
       "      <td>0</td>\n",
       "      <td>0</td>\n",
       "      <td>0</td>\n",
       "      <td>1</td>\n",
       "    </tr>\n",
       "    <tr>\n",
       "      <th>2</th>\n",
       "      <td>62.0</td>\n",
       "      <td>80</td>\n",
       "      <td>1.010</td>\n",
       "      <td>423.000000</td>\n",
       "      <td>53.0</td>\n",
       "      <td>1.8</td>\n",
       "      <td>135.0</td>\n",
       "      <td>4.8</td>\n",
       "      <td>9.6</td>\n",
       "      <td>7500.0</td>\n",
       "      <td>1</td>\n",
       "      <td>3.400000</td>\n",
       "      <td>0</td>\n",
       "      <td>0</td>\n",
       "      <td>1</td>\n",
       "      <td>0</td>\n",
       "      <td>1</td>\n",
       "      <td>1</td>\n",
       "    </tr>\n",
       "    <tr>\n",
       "      <th>3</th>\n",
       "      <td>48.0</td>\n",
       "      <td>70</td>\n",
       "      <td>1.005</td>\n",
       "      <td>117.000000</td>\n",
       "      <td>56.0</td>\n",
       "      <td>3.8</td>\n",
       "      <td>111.0</td>\n",
       "      <td>2.5</td>\n",
       "      <td>11.2</td>\n",
       "      <td>6700.0</td>\n",
       "      <td>1</td>\n",
       "      <td>3.900000</td>\n",
       "      <td>1</td>\n",
       "      <td>0</td>\n",
       "      <td>0</td>\n",
       "      <td>0</td>\n",
       "      <td>1</td>\n",
       "      <td>1</td>\n",
       "    </tr>\n",
       "    <tr>\n",
       "      <th>4</th>\n",
       "      <td>51.0</td>\n",
       "      <td>80</td>\n",
       "      <td>1.010</td>\n",
       "      <td>106.000000</td>\n",
       "      <td>26.0</td>\n",
       "      <td>1.4</td>\n",
       "      <td>140.0</td>\n",
       "      <td>4.0</td>\n",
       "      <td>11.6</td>\n",
       "      <td>7300.0</td>\n",
       "      <td>0</td>\n",
       "      <td>4.600000</td>\n",
       "      <td>0</td>\n",
       "      <td>0</td>\n",
       "      <td>0</td>\n",
       "      <td>0</td>\n",
       "      <td>0</td>\n",
       "      <td>1</td>\n",
       "    </tr>\n",
       "    <tr>\n",
       "      <th>...</th>\n",
       "      <td>...</td>\n",
       "      <td>...</td>\n",
       "      <td>...</td>\n",
       "      <td>...</td>\n",
       "      <td>...</td>\n",
       "      <td>...</td>\n",
       "      <td>...</td>\n",
       "      <td>...</td>\n",
       "      <td>...</td>\n",
       "      <td>...</td>\n",
       "      <td>...</td>\n",
       "      <td>...</td>\n",
       "      <td>...</td>\n",
       "      <td>...</td>\n",
       "      <td>...</td>\n",
       "      <td>...</td>\n",
       "      <td>...</td>\n",
       "      <td>...</td>\n",
       "    </tr>\n",
       "    <tr>\n",
       "      <th>395</th>\n",
       "      <td>55.0</td>\n",
       "      <td>80</td>\n",
       "      <td>1.020</td>\n",
       "      <td>140.000000</td>\n",
       "      <td>49.0</td>\n",
       "      <td>0.5</td>\n",
       "      <td>150.0</td>\n",
       "      <td>4.9</td>\n",
       "      <td>15.7</td>\n",
       "      <td>6700.0</td>\n",
       "      <td>0</td>\n",
       "      <td>4.900000</td>\n",
       "      <td>0</td>\n",
       "      <td>0</td>\n",
       "      <td>0</td>\n",
       "      <td>0</td>\n",
       "      <td>0</td>\n",
       "      <td>0</td>\n",
       "    </tr>\n",
       "    <tr>\n",
       "      <th>396</th>\n",
       "      <td>42.0</td>\n",
       "      <td>70</td>\n",
       "      <td>1.025</td>\n",
       "      <td>75.000000</td>\n",
       "      <td>31.0</td>\n",
       "      <td>1.2</td>\n",
       "      <td>141.0</td>\n",
       "      <td>3.5</td>\n",
       "      <td>16.5</td>\n",
       "      <td>7800.0</td>\n",
       "      <td>0</td>\n",
       "      <td>6.200000</td>\n",
       "      <td>0</td>\n",
       "      <td>0</td>\n",
       "      <td>0</td>\n",
       "      <td>0</td>\n",
       "      <td>0</td>\n",
       "      <td>0</td>\n",
       "    </tr>\n",
       "    <tr>\n",
       "      <th>397</th>\n",
       "      <td>12.0</td>\n",
       "      <td>80</td>\n",
       "      <td>1.020</td>\n",
       "      <td>100.000000</td>\n",
       "      <td>26.0</td>\n",
       "      <td>0.6</td>\n",
       "      <td>137.0</td>\n",
       "      <td>4.4</td>\n",
       "      <td>15.8</td>\n",
       "      <td>6600.0</td>\n",
       "      <td>0</td>\n",
       "      <td>5.400000</td>\n",
       "      <td>0</td>\n",
       "      <td>0</td>\n",
       "      <td>0</td>\n",
       "      <td>0</td>\n",
       "      <td>0</td>\n",
       "      <td>0</td>\n",
       "    </tr>\n",
       "    <tr>\n",
       "      <th>398</th>\n",
       "      <td>17.0</td>\n",
       "      <td>60</td>\n",
       "      <td>1.025</td>\n",
       "      <td>114.000000</td>\n",
       "      <td>50.0</td>\n",
       "      <td>1.0</td>\n",
       "      <td>135.0</td>\n",
       "      <td>4.9</td>\n",
       "      <td>14.2</td>\n",
       "      <td>7200.0</td>\n",
       "      <td>0</td>\n",
       "      <td>5.900000</td>\n",
       "      <td>0</td>\n",
       "      <td>0</td>\n",
       "      <td>0</td>\n",
       "      <td>0</td>\n",
       "      <td>0</td>\n",
       "      <td>0</td>\n",
       "    </tr>\n",
       "    <tr>\n",
       "      <th>399</th>\n",
       "      <td>58.0</td>\n",
       "      <td>80</td>\n",
       "      <td>1.025</td>\n",
       "      <td>131.000000</td>\n",
       "      <td>18.0</td>\n",
       "      <td>1.1</td>\n",
       "      <td>141.0</td>\n",
       "      <td>3.5</td>\n",
       "      <td>15.8</td>\n",
       "      <td>6800.0</td>\n",
       "      <td>0</td>\n",
       "      <td>6.100000</td>\n",
       "      <td>0</td>\n",
       "      <td>0</td>\n",
       "      <td>0</td>\n",
       "      <td>0</td>\n",
       "      <td>0</td>\n",
       "      <td>0</td>\n",
       "    </tr>\n",
       "  </tbody>\n",
       "</table>\n",
       "<p>400 rows × 18 columns</p>\n",
       "</div>"
      ],
      "text/plain": [
       "     Age (yrs)  Blood Pressure (mm/Hg)  Specific Gravity  \\\n",
       "0         48.0                      80             1.020   \n",
       "1          7.0                      50             1.020   \n",
       "2         62.0                      80             1.010   \n",
       "3         48.0                      70             1.005   \n",
       "4         51.0                      80             1.010   \n",
       "..         ...                     ...               ...   \n",
       "395       55.0                      80             1.020   \n",
       "396       42.0                      70             1.025   \n",
       "397       12.0                      80             1.020   \n",
       "398       17.0                      60             1.025   \n",
       "399       58.0                      80             1.025   \n",
       "\n",
       "     Blood Glucose Random (mgs/dL)  Blood Urea (mgs/dL)  \\\n",
       "0                       121.000000                 36.0   \n",
       "1                        90.316581                 18.0   \n",
       "2                       423.000000                 53.0   \n",
       "3                       117.000000                 56.0   \n",
       "4                       106.000000                 26.0   \n",
       "..                             ...                  ...   \n",
       "395                     140.000000                 49.0   \n",
       "396                      75.000000                 31.0   \n",
       "397                     100.000000                 26.0   \n",
       "398                     114.000000                 50.0   \n",
       "399                     131.000000                 18.0   \n",
       "\n",
       "     Serum Creatinine (mgs/dL)  Sodium (mEq/L)  Potassium (mEq/L)  \\\n",
       "0                          1.2           136.0                4.7   \n",
       "1                          0.8           140.0                4.0   \n",
       "2                          1.8           135.0                4.8   \n",
       "3                          3.8           111.0                2.5   \n",
       "4                          1.4           140.0                4.0   \n",
       "..                         ...             ...                ...   \n",
       "395                        0.5           150.0                4.9   \n",
       "396                        1.2           141.0                3.5   \n",
       "397                        0.6           137.0                4.4   \n",
       "398                        1.0           135.0                4.9   \n",
       "399                        1.1           141.0                3.5   \n",
       "\n",
       "     Hemoglobin (gms)  White Blood Cells (cells/cmm)  Appetite: poor  \\\n",
       "0                15.4                         7800.0               0   \n",
       "1                11.3                         6000.0               0   \n",
       "2                 9.6                         7500.0               1   \n",
       "3                11.2                         6700.0               1   \n",
       "4                11.6                         7300.0               0   \n",
       "..                ...                            ...             ...   \n",
       "395              15.7                         6700.0               0   \n",
       "396              16.5                         7800.0               0   \n",
       "397              15.8                         6600.0               0   \n",
       "398              14.2                         7200.0               0   \n",
       "399              15.8                         6800.0               0   \n",
       "\n",
       "     Red Blood Cells (millions/cmm)  Hypertension: yes  Bacteria: present  \\\n",
       "0                          5.200000                  1                  0   \n",
       "1                          4.721717                  0                  0   \n",
       "2                          3.400000                  0                  0   \n",
       "3                          3.900000                  1                  0   \n",
       "4                          4.600000                  0                  0   \n",
       "..                              ...                ...                ...   \n",
       "395                        4.900000                  0                  0   \n",
       "396                        6.200000                  0                  0   \n",
       "397                        5.400000                  0                  0   \n",
       "398                        5.900000                  0                  0   \n",
       "399                        6.100000                  0                  0   \n",
       "\n",
       "     Diabetes Mellitus: yes  Coronary Artery Disease: yes  Anemia: yes  \\\n",
       "0                         1                             0            0   \n",
       "1                         0                             0            0   \n",
       "2                         1                             0            1   \n",
       "3                         0                             0            1   \n",
       "4                         0                             0            0   \n",
       "..                      ...                           ...          ...   \n",
       "395                       0                             0            0   \n",
       "396                       0                             0            0   \n",
       "397                       0                             0            0   \n",
       "398                       0                             0            0   \n",
       "399                       0                             0            0   \n",
       "\n",
       "     Chronic Kidney Disease: yes  \n",
       "0                              1  \n",
       "1                              1  \n",
       "2                              1  \n",
       "3                              1  \n",
       "4                              1  \n",
       "..                           ...  \n",
       "395                            0  \n",
       "396                            0  \n",
       "397                            0  \n",
       "398                            0  \n",
       "399                            0  \n",
       "\n",
       "[400 rows x 18 columns]"
      ]
     },
     "execution_count": 15,
     "metadata": {},
     "output_type": "execute_result"
    }
   ],
   "source": [
    "kidney_df.drop(['Sugar'], axis=1, inplace=True)\n",
    "kidney_df"
   ]
  },
  {
   "cell_type": "code",
   "execution_count": null,
   "metadata": {
    "cell_id": "bd45343d442f479d8b259113dd743a68",
    "deepnote_cell_type": "code",
    "deepnote_to_be_reexecuted": false,
    "execution_millis": 62,
    "execution_start": 1724013937643,
    "source_hash": null
   },
   "outputs": [
    {
     "data": {
      "application/vnd.deepnote.dataframe.v3+json": {
       "column_count": 18,
       "columns": [
        {
         "dtype": "float64",
         "name": "patient_age",
         "stats": {
          "histogram": [
           {
            "bin_end": 10.8,
            "bin_start": 2,
            "count": 10
           },
           {
            "bin_end": 19.6,
            "bin_start": 10.8,
            "count": 11
           },
           {
            "bin_end": 28.400000000000002,
            "bin_start": 19.6,
            "count": 20
           },
           {
            "bin_end": 37.2,
            "bin_start": 28.400000000000002,
            "count": 39
           },
           {
            "bin_end": 46,
            "bin_start": 37.2,
            "count": 45
           },
           {
            "bin_end": 54.800000000000004,
            "bin_start": 46,
            "count": 74
           },
           {
            "bin_end": 63.60000000000001,
            "bin_start": 54.800000000000004,
            "count": 92
           },
           {
            "bin_end": 72.4,
            "bin_start": 63.60000000000001,
            "count": 78
           },
           {
            "bin_end": 81.2,
            "bin_start": 72.4,
            "count": 28
           },
           {
            "bin_end": 90,
            "bin_start": 81.2,
            "count": 3
           }
          ],
          "max": "90.0",
          "min": "2.0",
          "nan_count": 0,
          "unique_count": 79
         }
        },
        {
         "dtype": "int64",
         "name": "Blood Pressure (mm/Hg)",
         "stats": {
          "histogram": [
           {
            "bin_end": 63,
            "bin_start": 50,
            "count": 79
           },
           {
            "bin_end": 76,
            "bin_start": 63,
            "count": 118
           },
           {
            "bin_end": 89,
            "bin_start": 76,
            "count": 118
           },
           {
            "bin_end": 102,
            "bin_start": 89,
            "count": 79
           },
           {
            "bin_end": 115,
            "bin_start": 102,
            "count": 3
           },
           {
            "bin_end": 128,
            "bin_start": 115,
            "count": 1
           },
           {
            "bin_end": 141,
            "bin_start": 128,
            "count": 1
           },
           {
            "bin_end": 154,
            "bin_start": 141,
            "count": 0
           },
           {
            "bin_end": 167,
            "bin_start": 154,
            "count": 0
           },
           {
            "bin_end": 180,
            "bin_start": 167,
            "count": 1
           }
          ],
          "max": "180",
          "min": "50",
          "nan_count": 0,
          "unique_count": 10
         }
        },
        {
         "dtype": "float64",
         "name": "Specific Gravity",
         "stats": {
          "histogram": [
           {
            "bin_end": 1.007,
            "bin_start": 1.005,
            "count": 7
           },
           {
            "bin_end": 1.009,
            "bin_start": 1.007,
            "count": 0
           },
           {
            "bin_end": 1.011,
            "bin_start": 1.009,
            "count": 89
           },
           {
            "bin_end": 1.013,
            "bin_start": 1.011,
            "count": 0
           },
           {
            "bin_end": 1.015,
            "bin_start": 1.013,
            "count": 1
           },
           {
            "bin_end": 1.017,
            "bin_start": 1.015,
            "count": 94
           },
           {
            "bin_end": 1.019,
            "bin_start": 1.017,
            "count": 0
           },
           {
            "bin_end": 1.021,
            "bin_start": 1.019,
            "count": 119
           },
           {
            "bin_end": 1.023,
            "bin_start": 1.021,
            "count": 0
           },
           {
            "bin_end": 1.025,
            "bin_start": 1.023,
            "count": 90
           }
          ],
          "max": "1.025",
          "min": "1.005",
          "nan_count": 0,
          "unique_count": 6
         }
        },
        {
         "dtype": "float64",
         "name": "Blood Glucose Random (mgs/dL)",
         "stats": {
          "histogram": [
           {
            "bin_end": 68.8,
            "bin_start": 22,
            "count": 1
           },
           {
            "bin_end": 115.6,
            "bin_start": 68.8,
            "count": 180
           },
           {
            "bin_end": 162.39999999999998,
            "bin_start": 115.6,
            "count": 122
           },
           {
            "bin_end": 209.2,
            "bin_start": 162.39999999999998,
            "count": 28
           },
           {
            "bin_end": 256,
            "bin_start": 209.2,
            "count": 33
           },
           {
            "bin_end": 302.79999999999995,
            "bin_start": 256,
            "count": 15
           },
           {
            "bin_end": 349.59999999999997,
            "bin_start": 302.79999999999995,
            "count": 7
           },
           {
            "bin_end": 396.4,
            "bin_start": 349.59999999999997,
            "count": 4
           },
           {
            "bin_end": 443.2,
            "bin_start": 396.4,
            "count": 6
           },
           {
            "bin_end": 490,
            "bin_start": 443.2,
            "count": 4
           }
          ],
          "max": "490.0",
          "min": "22.0",
          "nan_count": 0,
          "unique_count": 171
         }
        },
        {
         "dtype": "float64",
         "name": "Blood Urea (mgs/dL)",
         "stats": {
          "histogram": [
           {
            "bin_end": 40.45,
            "bin_start": 1.5,
            "count": 197
           },
           {
            "bin_end": 79.4,
            "bin_start": 40.45,
            "count": 125
           },
           {
            "bin_end": 118.35000000000001,
            "bin_start": 79.4,
            "count": 39
           },
           {
            "bin_end": 157.3,
            "bin_start": 118.35000000000001,
            "count": 18
           },
           {
            "bin_end": 196.25,
            "bin_start": 157.3,
            "count": 10
           },
           {
            "bin_end": 235.20000000000002,
            "bin_start": 196.25,
            "count": 7
           },
           {
            "bin_end": 274.15000000000003,
            "bin_start": 235.20000000000002,
            "count": 1
           },
           {
            "bin_end": 313.1,
            "bin_start": 274.15000000000003,
            "count": 1
           },
           {
            "bin_end": 352.05,
            "bin_start": 313.1,
            "count": 1
           },
           {
            "bin_end": 391,
            "bin_start": 352.05,
            "count": 1
           }
          ],
          "max": "391.0",
          "min": "1.5",
          "nan_count": 0,
          "unique_count": 125
         }
        },
        {
         "dtype": "float64",
         "name": "Serum Creatinine (mgs/dL)",
         "stats": {
          "histogram": [
           {
            "bin_end": 7.96,
            "bin_start": 0.4,
            "count": 371
           },
           {
            "bin_end": 15.52,
            "bin_start": 7.96,
            "count": 21
           },
           {
            "bin_end": 23.08,
            "bin_start": 15.52,
            "count": 4
           },
           {
            "bin_end": 30.639999999999997,
            "bin_start": 23.08,
            "count": 1
           },
           {
            "bin_end": 38.199999999999996,
            "bin_start": 30.639999999999997,
            "count": 1
           },
           {
            "bin_end": 45.76,
            "bin_start": 38.199999999999996,
            "count": 0
           },
           {
            "bin_end": 53.31999999999999,
            "bin_start": 45.76,
            "count": 1
           },
           {
            "bin_end": 60.879999999999995,
            "bin_start": 53.31999999999999,
            "count": 0
           },
           {
            "bin_end": 68.44,
            "bin_start": 60.879999999999995,
            "count": 0
           },
           {
            "bin_end": 76,
            "bin_start": 68.44,
            "count": 1
           }
          ],
          "max": "76.0",
          "min": "0.4",
          "nan_count": 0,
          "unique_count": 89
         }
        },
        {
         "dtype": "float64",
         "name": "Sodium (mEq/L)",
         "stats": {
          "histogram": [
           {
            "bin_end": 20.35,
            "bin_start": 4.5,
            "count": 1
           },
           {
            "bin_end": 36.2,
            "bin_start": 20.35,
            "count": 0
           },
           {
            "bin_end": 52.05,
            "bin_start": 36.2,
            "count": 0
           },
           {
            "bin_end": 67.9,
            "bin_start": 52.05,
            "count": 0
           },
           {
            "bin_end": 83.75,
            "bin_start": 67.9,
            "count": 0
           },
           {
            "bin_end": 99.6,
            "bin_start": 83.75,
            "count": 0
           },
           {
            "bin_end": 115.45,
            "bin_start": 99.6,
            "count": 7
           },
           {
            "bin_end": 131.3,
            "bin_start": 115.45,
            "count": 32
           },
           {
            "bin_end": 147.15,
            "bin_start": 131.3,
            "count": 342
           },
           {
            "bin_end": 163,
            "bin_start": 147.15,
            "count": 18
           }
          ],
          "max": "163.0",
          "min": "4.5",
          "nan_count": 0,
          "unique_count": 40
         }
        },
        {
         "dtype": "float64",
         "name": "Potassium (mEq/L)",
         "stats": {
          "histogram": [
           {
            "bin_end": 6.95,
            "bin_start": 2.5,
            "count": 397
           },
           {
            "bin_end": 11.4,
            "bin_start": 6.95,
            "count": 1
           },
           {
            "bin_end": 15.850000000000001,
            "bin_start": 11.4,
            "count": 0
           },
           {
            "bin_end": 20.3,
            "bin_start": 15.850000000000001,
            "count": 0
           },
           {
            "bin_end": 24.75,
            "bin_start": 20.3,
            "count": 0
           },
           {
            "bin_end": 29.200000000000003,
            "bin_start": 24.75,
            "count": 0
           },
           {
            "bin_end": 33.650000000000006,
            "bin_start": 29.200000000000003,
            "count": 0
           },
           {
            "bin_end": 38.1,
            "bin_start": 33.650000000000006,
            "count": 0
           },
           {
            "bin_end": 42.550000000000004,
            "bin_start": 38.1,
            "count": 1
           },
           {
            "bin_end": 47,
            "bin_start": 42.550000000000004,
            "count": 1
           }
          ],
          "max": "47.0",
          "min": "2.5",
          "nan_count": 0,
          "unique_count": 57
         }
        },
        {
         "dtype": "float64",
         "name": "Hemoglobin (gms)",
         "stats": {
          "histogram": [
           {
            "bin_end": 4.57,
            "bin_start": 3.1,
            "count": 1
           },
           {
            "bin_end": 6.040000000000001,
            "bin_start": 4.57,
            "count": 6
           },
           {
            "bin_end": 7.51,
            "bin_start": 6.040000000000001,
            "count": 8
           },
           {
            "bin_end": 8.98,
            "bin_start": 7.51,
            "count": 26
           },
           {
            "bin_end": 10.450000000000001,
            "bin_start": 8.98,
            "count": 57
           },
           {
            "bin_end": 11.92,
            "bin_start": 10.450000000000001,
            "count": 85
           },
           {
            "bin_end": 13.39,
            "bin_start": 11.92,
            "count": 56
           },
           {
            "bin_end": 14.860000000000001,
            "bin_start": 13.39,
            "count": 62
           },
           {
            "bin_end": 16.330000000000002,
            "bin_start": 14.860000000000001,
            "count": 68
           },
           {
            "bin_end": 17.8,
            "bin_start": 16.330000000000002,
            "count": 31
           }
          ],
          "max": "17.8",
          "min": "3.1",
          "nan_count": 0,
          "unique_count": 142
         }
        },
        {
         "dtype": "float64",
         "name": "White Blood Cells (cells/cmm)",
         "stats": {
          "histogram": [
           {
            "bin_end": 4620,
            "bin_start": 2200,
            "count": 19
           },
           {
            "bin_end": 7040,
            "bin_start": 4620,
            "count": 110
           },
           {
            "bin_end": 9460,
            "bin_start": 7040,
            "count": 158
           },
           {
            "bin_end": 11880,
            "bin_start": 9460,
            "count": 87
           },
           {
            "bin_end": 14300,
            "bin_start": 11880,
            "count": 14
           },
           {
            "bin_end": 16720,
            "bin_start": 14300,
            "count": 8
           },
           {
            "bin_end": 19140,
            "bin_start": 16720,
            "count": 2
           },
           {
            "bin_end": 21560,
            "bin_start": 19140,
            "count": 0
           },
           {
            "bin_end": 23980,
            "bin_start": 21560,
            "count": 1
           },
           {
            "bin_end": 26400,
            "bin_start": 23980,
            "count": 1
           }
          ],
          "max": "26400.0",
          "min": "2200.0",
          "nan_count": 0,
          "unique_count": 134
         }
        },
        {
         "dtype": "int64",
         "name": "Appetite: poor",
         "stats": {
          "histogram": [
           {
            "bin_end": 0.1,
            "bin_start": 0,
            "count": 318
           },
           {
            "bin_end": 0.2,
            "bin_start": 0.1,
            "count": 0
           },
           {
            "bin_end": 0.30000000000000004,
            "bin_start": 0.2,
            "count": 0
           },
           {
            "bin_end": 0.4,
            "bin_start": 0.30000000000000004,
            "count": 0
           },
           {
            "bin_end": 0.5,
            "bin_start": 0.4,
            "count": 0
           },
           {
            "bin_end": 0.6000000000000001,
            "bin_start": 0.5,
            "count": 0
           },
           {
            "bin_end": 0.7000000000000001,
            "bin_start": 0.6000000000000001,
            "count": 0
           },
           {
            "bin_end": 0.8,
            "bin_start": 0.7000000000000001,
            "count": 0
           },
           {
            "bin_end": 0.9,
            "bin_start": 0.8,
            "count": 0
           },
           {
            "bin_end": 1,
            "bin_start": 0.9,
            "count": 82
           }
          ],
          "max": "1",
          "min": "0",
          "nan_count": 0,
          "unique_count": 2
         }
        },
        {
         "dtype": "float64",
         "name": "Red Blood Cells (millions/cmm)",
         "stats": {
          "histogram": [
           {
            "bin_end": 2.6900000000000004,
            "bin_start": 2.1,
            "count": 9
           },
           {
            "bin_end": 3.2800000000000002,
            "bin_start": 2.6900000000000004,
            "count": 20
           },
           {
            "bin_end": 3.87,
            "bin_start": 3.2800000000000002,
            "count": 56
           },
           {
            "bin_end": 4.460000000000001,
            "bin_start": 3.87,
            "count": 73
           },
           {
            "bin_end": 5.050000000000001,
            "bin_start": 4.460000000000001,
            "count": 128
           },
           {
            "bin_end": 5.640000000000001,
            "bin_start": 5.050000000000001,
            "count": 60
           },
           {
            "bin_end": 6.23,
            "bin_start": 5.640000000000001,
            "count": 39
           },
           {
            "bin_end": 6.82,
            "bin_start": 6.23,
            "count": 14
           },
           {
            "bin_end": 7.41,
            "bin_start": 6.82,
            "count": 0
           },
           {
            "bin_end": 8,
            "bin_start": 7.41,
            "count": 1
           }
          ],
          "max": "8.0",
          "min": "2.1",
          "nan_count": 0,
          "unique_count": 69
         }
        },
        {
         "dtype": "int64",
         "name": "Hypertension: yes",
         "stats": {
          "histogram": [
           {
            "bin_end": 0.1,
            "bin_start": 0,
            "count": 253
           },
           {
            "bin_end": 0.2,
            "bin_start": 0.1,
            "count": 0
           },
           {
            "bin_end": 0.30000000000000004,
            "bin_start": 0.2,
            "count": 0
           },
           {
            "bin_end": 0.4,
            "bin_start": 0.30000000000000004,
            "count": 0
           },
           {
            "bin_end": 0.5,
            "bin_start": 0.4,
            "count": 0
           },
           {
            "bin_end": 0.6000000000000001,
            "bin_start": 0.5,
            "count": 0
           },
           {
            "bin_end": 0.7000000000000001,
            "bin_start": 0.6000000000000001,
            "count": 0
           },
           {
            "bin_end": 0.8,
            "bin_start": 0.7000000000000001,
            "count": 0
           },
           {
            "bin_end": 0.9,
            "bin_start": 0.8,
            "count": 0
           },
           {
            "bin_end": 1,
            "bin_start": 0.9,
            "count": 147
           }
          ],
          "max": "1",
          "min": "0",
          "nan_count": 0,
          "unique_count": 2
         }
        },
        {
         "dtype": "int64",
         "name": "Bacteria: present",
         "stats": {
          "histogram": [
           {
            "bin_end": 0.1,
            "bin_start": 0,
            "count": 378
           },
           {
            "bin_end": 0.2,
            "bin_start": 0.1,
            "count": 0
           },
           {
            "bin_end": 0.30000000000000004,
            "bin_start": 0.2,
            "count": 0
           },
           {
            "bin_end": 0.4,
            "bin_start": 0.30000000000000004,
            "count": 0
           },
           {
            "bin_end": 0.5,
            "bin_start": 0.4,
            "count": 0
           },
           {
            "bin_end": 0.6000000000000001,
            "bin_start": 0.5,
            "count": 0
           },
           {
            "bin_end": 0.7000000000000001,
            "bin_start": 0.6000000000000001,
            "count": 0
           },
           {
            "bin_end": 0.8,
            "bin_start": 0.7000000000000001,
            "count": 0
           },
           {
            "bin_end": 0.9,
            "bin_start": 0.8,
            "count": 0
           },
           {
            "bin_end": 1,
            "bin_start": 0.9,
            "count": 22
           }
          ],
          "max": "1",
          "min": "0",
          "nan_count": 0,
          "unique_count": 2
         }
        },
        {
         "dtype": "int64",
         "name": "Diabetes Mellitus: yes",
         "stats": {
          "histogram": [
           {
            "bin_end": 0.1,
            "bin_start": 0,
            "count": 263
           },
           {
            "bin_end": 0.2,
            "bin_start": 0.1,
            "count": 0
           },
           {
            "bin_end": 0.30000000000000004,
            "bin_start": 0.2,
            "count": 0
           },
           {
            "bin_end": 0.4,
            "bin_start": 0.30000000000000004,
            "count": 0
           },
           {
            "bin_end": 0.5,
            "bin_start": 0.4,
            "count": 0
           },
           {
            "bin_end": 0.6000000000000001,
            "bin_start": 0.5,
            "count": 0
           },
           {
            "bin_end": 0.7000000000000001,
            "bin_start": 0.6000000000000001,
            "count": 0
           },
           {
            "bin_end": 0.8,
            "bin_start": 0.7000000000000001,
            "count": 0
           },
           {
            "bin_end": 0.9,
            "bin_start": 0.8,
            "count": 0
           },
           {
            "bin_end": 1,
            "bin_start": 0.9,
            "count": 137
           }
          ],
          "max": "1",
          "min": "0",
          "nan_count": 0,
          "unique_count": 2
         }
        },
        {
         "dtype": "int64",
         "name": "Coronary Artery Disease: yes",
         "stats": {
          "histogram": [
           {
            "bin_end": 0.1,
            "bin_start": 0,
            "count": 366
           },
           {
            "bin_end": 0.2,
            "bin_start": 0.1,
            "count": 0
           },
           {
            "bin_end": 0.30000000000000004,
            "bin_start": 0.2,
            "count": 0
           },
           {
            "bin_end": 0.4,
            "bin_start": 0.30000000000000004,
            "count": 0
           },
           {
            "bin_end": 0.5,
            "bin_start": 0.4,
            "count": 0
           },
           {
            "bin_end": 0.6000000000000001,
            "bin_start": 0.5,
            "count": 0
           },
           {
            "bin_end": 0.7000000000000001,
            "bin_start": 0.6000000000000001,
            "count": 0
           },
           {
            "bin_end": 0.8,
            "bin_start": 0.7000000000000001,
            "count": 0
           },
           {
            "bin_end": 0.9,
            "bin_start": 0.8,
            "count": 0
           },
           {
            "bin_end": 1,
            "bin_start": 0.9,
            "count": 34
           }
          ],
          "max": "1",
          "min": "0",
          "nan_count": 0,
          "unique_count": 2
         }
        },
        {
         "dtype": "int64",
         "name": "Anemia: yes",
         "stats": {
          "histogram": [
           {
            "bin_end": 0.1,
            "bin_start": 0,
            "count": 340
           },
           {
            "bin_end": 0.2,
            "bin_start": 0.1,
            "count": 0
           },
           {
            "bin_end": 0.30000000000000004,
            "bin_start": 0.2,
            "count": 0
           },
           {
            "bin_end": 0.4,
            "bin_start": 0.30000000000000004,
            "count": 0
           },
           {
            "bin_end": 0.5,
            "bin_start": 0.4,
            "count": 0
           },
           {
            "bin_end": 0.6000000000000001,
            "bin_start": 0.5,
            "count": 0
           },
           {
            "bin_end": 0.7000000000000001,
            "bin_start": 0.6000000000000001,
            "count": 0
           },
           {
            "bin_end": 0.8,
            "bin_start": 0.7000000000000001,
            "count": 0
           },
           {
            "bin_end": 0.9,
            "bin_start": 0.8,
            "count": 0
           },
           {
            "bin_end": 1,
            "bin_start": 0.9,
            "count": 60
           }
          ],
          "max": "1",
          "min": "0",
          "nan_count": 0,
          "unique_count": 2
         }
        },
        {
         "dtype": "int64",
         "name": "Chronic Kidney Disease: yes",
         "stats": {
          "histogram": [
           {
            "bin_end": 0.1,
            "bin_start": 0,
            "count": 150
           },
           {
            "bin_end": 0.2,
            "bin_start": 0.1,
            "count": 0
           },
           {
            "bin_end": 0.30000000000000004,
            "bin_start": 0.2,
            "count": 0
           },
           {
            "bin_end": 0.4,
            "bin_start": 0.30000000000000004,
            "count": 0
           },
           {
            "bin_end": 0.5,
            "bin_start": 0.4,
            "count": 0
           },
           {
            "bin_end": 0.6000000000000001,
            "bin_start": 0.5,
            "count": 0
           },
           {
            "bin_end": 0.7000000000000001,
            "bin_start": 0.6000000000000001,
            "count": 0
           },
           {
            "bin_end": 0.8,
            "bin_start": 0.7000000000000001,
            "count": 0
           },
           {
            "bin_end": 0.9,
            "bin_start": 0.8,
            "count": 0
           },
           {
            "bin_end": 1,
            "bin_start": 0.9,
            "count": 250
           }
          ],
          "max": "1",
          "min": "0",
          "nan_count": 0,
          "unique_count": 2
         }
        },
        {
         "dtype": "int64",
         "name": "_deepnote_index_column"
        }
       ],
       "row_count": 400,
       "rows": [
        {
         "Anemia: yes": 0,
         "Appetite: poor": 0,
         "Bacteria: present": 0,
         "Blood Glucose Random (mgs/dL)": 121,
         "Blood Pressure (mm/Hg)": 80,
         "Blood Urea (mgs/dL)": 36,
         "Chronic Kidney Disease: yes": 1,
         "Coronary Artery Disease: yes": 0,
         "Diabetes Mellitus: yes": 1,
         "Hemoglobin (gms)": 15.4,
         "Hypertension: yes": 1,
         "Potassium (mEq/L)": 4.7,
         "Red Blood Cells (millions/cmm)": 5.2,
         "Serum Creatinine (mgs/dL)": 1.2,
         "Sodium (mEq/L)": 136,
         "Specific Gravity": 1.02,
         "White Blood Cells (cells/cmm)": 7800,
         "_deepnote_index_column": 0,
         "patient_age": 48
        },
        {
         "Anemia: yes": 0,
         "Appetite: poor": 0,
         "Bacteria: present": 0,
         "Blood Glucose Random (mgs/dL)": 90.31658119,
         "Blood Pressure (mm/Hg)": 50,
         "Blood Urea (mgs/dL)": 18,
         "Chronic Kidney Disease: yes": 1,
         "Coronary Artery Disease: yes": 0,
         "Diabetes Mellitus: yes": 0,
         "Hemoglobin (gms)": 11.3,
         "Hypertension: yes": 0,
         "Potassium (mEq/L)": 4,
         "Red Blood Cells (millions/cmm)": 4.721717463,
         "Serum Creatinine (mgs/dL)": 0.8,
         "Sodium (mEq/L)": 140,
         "Specific Gravity": 1.02,
         "White Blood Cells (cells/cmm)": 6000,
         "_deepnote_index_column": 1,
         "patient_age": 7
        },
        {
         "Anemia: yes": 1,
         "Appetite: poor": 1,
         "Bacteria: present": 0,
         "Blood Glucose Random (mgs/dL)": 423,
         "Blood Pressure (mm/Hg)": 80,
         "Blood Urea (mgs/dL)": 53,
         "Chronic Kidney Disease: yes": 1,
         "Coronary Artery Disease: yes": 0,
         "Diabetes Mellitus: yes": 1,
         "Hemoglobin (gms)": 9.6,
         "Hypertension: yes": 0,
         "Potassium (mEq/L)": 4.8,
         "Red Blood Cells (millions/cmm)": 3.4,
         "Serum Creatinine (mgs/dL)": 1.8,
         "Sodium (mEq/L)": 135,
         "Specific Gravity": 1.01,
         "White Blood Cells (cells/cmm)": 7500,
         "_deepnote_index_column": 2,
         "patient_age": 62
        },
        {
         "Anemia: yes": 1,
         "Appetite: poor": 1,
         "Bacteria: present": 0,
         "Blood Glucose Random (mgs/dL)": 117,
         "Blood Pressure (mm/Hg)": 70,
         "Blood Urea (mgs/dL)": 56,
         "Chronic Kidney Disease: yes": 1,
         "Coronary Artery Disease: yes": 0,
         "Diabetes Mellitus: yes": 0,
         "Hemoglobin (gms)": 11.2,
         "Hypertension: yes": 1,
         "Potassium (mEq/L)": 2.5,
         "Red Blood Cells (millions/cmm)": 3.9,
         "Serum Creatinine (mgs/dL)": 3.8,
         "Sodium (mEq/L)": 111,
         "Specific Gravity": 1.005,
         "White Blood Cells (cells/cmm)": 6700,
         "_deepnote_index_column": 3,
         "patient_age": 48
        },
        {
         "Anemia: yes": 0,
         "Appetite: poor": 0,
         "Bacteria: present": 0,
         "Blood Glucose Random (mgs/dL)": 106,
         "Blood Pressure (mm/Hg)": 80,
         "Blood Urea (mgs/dL)": 26,
         "Chronic Kidney Disease: yes": 1,
         "Coronary Artery Disease: yes": 0,
         "Diabetes Mellitus: yes": 0,
         "Hemoglobin (gms)": 11.6,
         "Hypertension: yes": 0,
         "Potassium (mEq/L)": 4,
         "Red Blood Cells (millions/cmm)": 4.6,
         "Serum Creatinine (mgs/dL)": 1.4,
         "Sodium (mEq/L)": 140,
         "Specific Gravity": 1.01,
         "White Blood Cells (cells/cmm)": 7300,
         "_deepnote_index_column": 4,
         "patient_age": 51
        },
        {
         "Anemia: yes": 0,
         "Appetite: poor": 0,
         "Bacteria: present": 0,
         "Blood Glucose Random (mgs/dL)": 74,
         "Blood Pressure (mm/Hg)": 90,
         "Blood Urea (mgs/dL)": 25,
         "Chronic Kidney Disease: yes": 1,
         "Coronary Artery Disease: yes": 0,
         "Diabetes Mellitus: yes": 1,
         "Hemoglobin (gms)": 12.2,
         "Hypertension: yes": 1,
         "Potassium (mEq/L)": 3.2,
         "Red Blood Cells (millions/cmm)": 4.4,
         "Serum Creatinine (mgs/dL)": 1.1,
         "Sodium (mEq/L)": 142,
         "Specific Gravity": 1.015,
         "White Blood Cells (cells/cmm)": 7800,
         "_deepnote_index_column": 5,
         "patient_age": 60
        },
        {
         "Anemia: yes": 0,
         "Appetite: poor": 0,
         "Bacteria: present": 0,
         "Blood Glucose Random (mgs/dL)": 100,
         "Blood Pressure (mm/Hg)": 70,
         "Blood Urea (mgs/dL)": 54,
         "Chronic Kidney Disease: yes": 1,
         "Coronary Artery Disease: yes": 0,
         "Diabetes Mellitus: yes": 0,
         "Hemoglobin (gms)": 12.4,
         "Hypertension: yes": 0,
         "Potassium (mEq/L)": 4,
         "Red Blood Cells (millions/cmm)": 4.79153164,
         "Serum Creatinine (mgs/dL)": 24,
         "Sodium (mEq/L)": 104,
         "Specific Gravity": 1.01,
         "White Blood Cells (cells/cmm)": 8200,
         "_deepnote_index_column": 6,
         "patient_age": 68
        },
        {
         "Anemia: yes": 0,
         "Appetite: poor": 0,
         "Bacteria: present": 0,
         "Blood Glucose Random (mgs/dL)": 410,
         "Blood Pressure (mm/Hg)": 60,
         "Blood Urea (mgs/dL)": 31,
         "Chronic Kidney Disease: yes": 1,
         "Coronary Artery Disease: yes": 0,
         "Diabetes Mellitus: yes": 1,
         "Hemoglobin (gms)": 12.4,
         "Hypertension: yes": 0,
         "Potassium (mEq/L)": 4.2,
         "Red Blood Cells (millions/cmm)": 5,
         "Serum Creatinine (mgs/dL)": 1.1,
         "Sodium (mEq/L)": 138,
         "Specific Gravity": 1.015,
         "White Blood Cells (cells/cmm)": 6900,
         "_deepnote_index_column": 7,
         "patient_age": 24
        },
        {
         "Anemia: yes": 1,
         "Appetite: poor": 0,
         "Bacteria: present": 0,
         "Blood Glucose Random (mgs/dL)": 138,
         "Blood Pressure (mm/Hg)": 100,
         "Blood Urea (mgs/dL)": 60,
         "Chronic Kidney Disease: yes": 1,
         "Coronary Artery Disease: yes": 0,
         "Diabetes Mellitus: yes": 1,
         "Hemoglobin (gms)": 10.8,
         "Hypertension: yes": 1,
         "Potassium (mEq/L)": 5,
         "Red Blood Cells (millions/cmm)": 4,
         "Serum Creatinine (mgs/dL)": 1.9,
         "Sodium (mEq/L)": 135,
         "Specific Gravity": 1.015,
         "White Blood Cells (cells/cmm)": 9600,
         "_deepnote_index_column": 8,
         "patient_age": 52
        },
        {
         "Anemia: yes": 1,
         "Appetite: poor": 1,
         "Bacteria: present": 0,
         "Blood Glucose Random (mgs/dL)": 70,
         "Blood Pressure (mm/Hg)": 90,
         "Blood Urea (mgs/dL)": 107,
         "Chronic Kidney Disease: yes": 1,
         "Coronary Artery Disease: yes": 0,
         "Diabetes Mellitus: yes": 1,
         "Hemoglobin (gms)": 9.5,
         "Hypertension: yes": 1,
         "Potassium (mEq/L)": 3.7,
         "Red Blood Cells (millions/cmm)": 3.7,
         "Serum Creatinine (mgs/dL)": 7.2,
         "Sodium (mEq/L)": 114,
         "Specific Gravity": 1.02,
         "White Blood Cells (cells/cmm)": 12100,
         "_deepnote_index_column": 9,
         "patient_age": 53
        }
       ]
      },
      "text/html": [
       "<div>\n",
       "<style scoped>\n",
       "    .dataframe tbody tr th:only-of-type {\n",
       "        vertical-align: middle;\n",
       "    }\n",
       "\n",
       "    .dataframe tbody tr th {\n",
       "        vertical-align: top;\n",
       "    }\n",
       "\n",
       "    .dataframe thead th {\n",
       "        text-align: right;\n",
       "    }\n",
       "</style>\n",
       "<table border=\"1\" class=\"dataframe\">\n",
       "  <thead>\n",
       "    <tr style=\"text-align: right;\">\n",
       "      <th></th>\n",
       "      <th>patient_age</th>\n",
       "      <th>Blood Pressure (mm/Hg)</th>\n",
       "      <th>Specific Gravity</th>\n",
       "      <th>Blood Glucose Random (mgs/dL)</th>\n",
       "      <th>Blood Urea (mgs/dL)</th>\n",
       "      <th>Serum Creatinine (mgs/dL)</th>\n",
       "      <th>Sodium (mEq/L)</th>\n",
       "      <th>Potassium (mEq/L)</th>\n",
       "      <th>Hemoglobin (gms)</th>\n",
       "      <th>White Blood Cells (cells/cmm)</th>\n",
       "      <th>Appetite: poor</th>\n",
       "      <th>Red Blood Cells (millions/cmm)</th>\n",
       "      <th>Hypertension: yes</th>\n",
       "      <th>Bacteria: present</th>\n",
       "      <th>Diabetes Mellitus: yes</th>\n",
       "      <th>Coronary Artery Disease: yes</th>\n",
       "      <th>Anemia: yes</th>\n",
       "      <th>Chronic Kidney Disease: yes</th>\n",
       "    </tr>\n",
       "  </thead>\n",
       "  <tbody>\n",
       "    <tr>\n",
       "      <th>0</th>\n",
       "      <td>48.0</td>\n",
       "      <td>80</td>\n",
       "      <td>1.020</td>\n",
       "      <td>121.000000</td>\n",
       "      <td>36.0</td>\n",
       "      <td>1.2</td>\n",
       "      <td>136.0</td>\n",
       "      <td>4.7</td>\n",
       "      <td>15.4</td>\n",
       "      <td>7800.0</td>\n",
       "      <td>0</td>\n",
       "      <td>5.200000</td>\n",
       "      <td>1</td>\n",
       "      <td>0</td>\n",
       "      <td>1</td>\n",
       "      <td>0</td>\n",
       "      <td>0</td>\n",
       "      <td>1</td>\n",
       "    </tr>\n",
       "    <tr>\n",
       "      <th>1</th>\n",
       "      <td>7.0</td>\n",
       "      <td>50</td>\n",
       "      <td>1.020</td>\n",
       "      <td>90.316581</td>\n",
       "      <td>18.0</td>\n",
       "      <td>0.8</td>\n",
       "      <td>140.0</td>\n",
       "      <td>4.0</td>\n",
       "      <td>11.3</td>\n",
       "      <td>6000.0</td>\n",
       "      <td>0</td>\n",
       "      <td>4.721717</td>\n",
       "      <td>0</td>\n",
       "      <td>0</td>\n",
       "      <td>0</td>\n",
       "      <td>0</td>\n",
       "      <td>0</td>\n",
       "      <td>1</td>\n",
       "    </tr>\n",
       "    <tr>\n",
       "      <th>2</th>\n",
       "      <td>62.0</td>\n",
       "      <td>80</td>\n",
       "      <td>1.010</td>\n",
       "      <td>423.000000</td>\n",
       "      <td>53.0</td>\n",
       "      <td>1.8</td>\n",
       "      <td>135.0</td>\n",
       "      <td>4.8</td>\n",
       "      <td>9.6</td>\n",
       "      <td>7500.0</td>\n",
       "      <td>1</td>\n",
       "      <td>3.400000</td>\n",
       "      <td>0</td>\n",
       "      <td>0</td>\n",
       "      <td>1</td>\n",
       "      <td>0</td>\n",
       "      <td>1</td>\n",
       "      <td>1</td>\n",
       "    </tr>\n",
       "    <tr>\n",
       "      <th>3</th>\n",
       "      <td>48.0</td>\n",
       "      <td>70</td>\n",
       "      <td>1.005</td>\n",
       "      <td>117.000000</td>\n",
       "      <td>56.0</td>\n",
       "      <td>3.8</td>\n",
       "      <td>111.0</td>\n",
       "      <td>2.5</td>\n",
       "      <td>11.2</td>\n",
       "      <td>6700.0</td>\n",
       "      <td>1</td>\n",
       "      <td>3.900000</td>\n",
       "      <td>1</td>\n",
       "      <td>0</td>\n",
       "      <td>0</td>\n",
       "      <td>0</td>\n",
       "      <td>1</td>\n",
       "      <td>1</td>\n",
       "    </tr>\n",
       "    <tr>\n",
       "      <th>4</th>\n",
       "      <td>51.0</td>\n",
       "      <td>80</td>\n",
       "      <td>1.010</td>\n",
       "      <td>106.000000</td>\n",
       "      <td>26.0</td>\n",
       "      <td>1.4</td>\n",
       "      <td>140.0</td>\n",
       "      <td>4.0</td>\n",
       "      <td>11.6</td>\n",
       "      <td>7300.0</td>\n",
       "      <td>0</td>\n",
       "      <td>4.600000</td>\n",
       "      <td>0</td>\n",
       "      <td>0</td>\n",
       "      <td>0</td>\n",
       "      <td>0</td>\n",
       "      <td>0</td>\n",
       "      <td>1</td>\n",
       "    </tr>\n",
       "    <tr>\n",
       "      <th>...</th>\n",
       "      <td>...</td>\n",
       "      <td>...</td>\n",
       "      <td>...</td>\n",
       "      <td>...</td>\n",
       "      <td>...</td>\n",
       "      <td>...</td>\n",
       "      <td>...</td>\n",
       "      <td>...</td>\n",
       "      <td>...</td>\n",
       "      <td>...</td>\n",
       "      <td>...</td>\n",
       "      <td>...</td>\n",
       "      <td>...</td>\n",
       "      <td>...</td>\n",
       "      <td>...</td>\n",
       "      <td>...</td>\n",
       "      <td>...</td>\n",
       "      <td>...</td>\n",
       "    </tr>\n",
       "    <tr>\n",
       "      <th>395</th>\n",
       "      <td>55.0</td>\n",
       "      <td>80</td>\n",
       "      <td>1.020</td>\n",
       "      <td>140.000000</td>\n",
       "      <td>49.0</td>\n",
       "      <td>0.5</td>\n",
       "      <td>150.0</td>\n",
       "      <td>4.9</td>\n",
       "      <td>15.7</td>\n",
       "      <td>6700.0</td>\n",
       "      <td>0</td>\n",
       "      <td>4.900000</td>\n",
       "      <td>0</td>\n",
       "      <td>0</td>\n",
       "      <td>0</td>\n",
       "      <td>0</td>\n",
       "      <td>0</td>\n",
       "      <td>0</td>\n",
       "    </tr>\n",
       "    <tr>\n",
       "      <th>396</th>\n",
       "      <td>42.0</td>\n",
       "      <td>70</td>\n",
       "      <td>1.025</td>\n",
       "      <td>75.000000</td>\n",
       "      <td>31.0</td>\n",
       "      <td>1.2</td>\n",
       "      <td>141.0</td>\n",
       "      <td>3.5</td>\n",
       "      <td>16.5</td>\n",
       "      <td>7800.0</td>\n",
       "      <td>0</td>\n",
       "      <td>6.200000</td>\n",
       "      <td>0</td>\n",
       "      <td>0</td>\n",
       "      <td>0</td>\n",
       "      <td>0</td>\n",
       "      <td>0</td>\n",
       "      <td>0</td>\n",
       "    </tr>\n",
       "    <tr>\n",
       "      <th>397</th>\n",
       "      <td>12.0</td>\n",
       "      <td>80</td>\n",
       "      <td>1.020</td>\n",
       "      <td>100.000000</td>\n",
       "      <td>26.0</td>\n",
       "      <td>0.6</td>\n",
       "      <td>137.0</td>\n",
       "      <td>4.4</td>\n",
       "      <td>15.8</td>\n",
       "      <td>6600.0</td>\n",
       "      <td>0</td>\n",
       "      <td>5.400000</td>\n",
       "      <td>0</td>\n",
       "      <td>0</td>\n",
       "      <td>0</td>\n",
       "      <td>0</td>\n",
       "      <td>0</td>\n",
       "      <td>0</td>\n",
       "    </tr>\n",
       "    <tr>\n",
       "      <th>398</th>\n",
       "      <td>17.0</td>\n",
       "      <td>60</td>\n",
       "      <td>1.025</td>\n",
       "      <td>114.000000</td>\n",
       "      <td>50.0</td>\n",
       "      <td>1.0</td>\n",
       "      <td>135.0</td>\n",
       "      <td>4.9</td>\n",
       "      <td>14.2</td>\n",
       "      <td>7200.0</td>\n",
       "      <td>0</td>\n",
       "      <td>5.900000</td>\n",
       "      <td>0</td>\n",
       "      <td>0</td>\n",
       "      <td>0</td>\n",
       "      <td>0</td>\n",
       "      <td>0</td>\n",
       "      <td>0</td>\n",
       "    </tr>\n",
       "    <tr>\n",
       "      <th>399</th>\n",
       "      <td>58.0</td>\n",
       "      <td>80</td>\n",
       "      <td>1.025</td>\n",
       "      <td>131.000000</td>\n",
       "      <td>18.0</td>\n",
       "      <td>1.1</td>\n",
       "      <td>141.0</td>\n",
       "      <td>3.5</td>\n",
       "      <td>15.8</td>\n",
       "      <td>6800.0</td>\n",
       "      <td>0</td>\n",
       "      <td>6.100000</td>\n",
       "      <td>0</td>\n",
       "      <td>0</td>\n",
       "      <td>0</td>\n",
       "      <td>0</td>\n",
       "      <td>0</td>\n",
       "      <td>0</td>\n",
       "    </tr>\n",
       "  </tbody>\n",
       "</table>\n",
       "<p>400 rows × 18 columns</p>\n",
       "</div>"
      ],
      "text/plain": [
       "     patient_age  Blood Pressure (mm/Hg)  Specific Gravity  \\\n",
       "0           48.0                      80             1.020   \n",
       "1            7.0                      50             1.020   \n",
       "2           62.0                      80             1.010   \n",
       "3           48.0                      70             1.005   \n",
       "4           51.0                      80             1.010   \n",
       "..           ...                     ...               ...   \n",
       "395         55.0                      80             1.020   \n",
       "396         42.0                      70             1.025   \n",
       "397         12.0                      80             1.020   \n",
       "398         17.0                      60             1.025   \n",
       "399         58.0                      80             1.025   \n",
       "\n",
       "     Blood Glucose Random (mgs/dL)  Blood Urea (mgs/dL)  \\\n",
       "0                       121.000000                 36.0   \n",
       "1                        90.316581                 18.0   \n",
       "2                       423.000000                 53.0   \n",
       "3                       117.000000                 56.0   \n",
       "4                       106.000000                 26.0   \n",
       "..                             ...                  ...   \n",
       "395                     140.000000                 49.0   \n",
       "396                      75.000000                 31.0   \n",
       "397                     100.000000                 26.0   \n",
       "398                     114.000000                 50.0   \n",
       "399                     131.000000                 18.0   \n",
       "\n",
       "     Serum Creatinine (mgs/dL)  Sodium (mEq/L)  Potassium (mEq/L)  \\\n",
       "0                          1.2           136.0                4.7   \n",
       "1                          0.8           140.0                4.0   \n",
       "2                          1.8           135.0                4.8   \n",
       "3                          3.8           111.0                2.5   \n",
       "4                          1.4           140.0                4.0   \n",
       "..                         ...             ...                ...   \n",
       "395                        0.5           150.0                4.9   \n",
       "396                        1.2           141.0                3.5   \n",
       "397                        0.6           137.0                4.4   \n",
       "398                        1.0           135.0                4.9   \n",
       "399                        1.1           141.0                3.5   \n",
       "\n",
       "     Hemoglobin (gms)  White Blood Cells (cells/cmm)  Appetite: poor  \\\n",
       "0                15.4                         7800.0               0   \n",
       "1                11.3                         6000.0               0   \n",
       "2                 9.6                         7500.0               1   \n",
       "3                11.2                         6700.0               1   \n",
       "4                11.6                         7300.0               0   \n",
       "..                ...                            ...             ...   \n",
       "395              15.7                         6700.0               0   \n",
       "396              16.5                         7800.0               0   \n",
       "397              15.8                         6600.0               0   \n",
       "398              14.2                         7200.0               0   \n",
       "399              15.8                         6800.0               0   \n",
       "\n",
       "     Red Blood Cells (millions/cmm)  Hypertension: yes  Bacteria: present  \\\n",
       "0                          5.200000                  1                  0   \n",
       "1                          4.721717                  0                  0   \n",
       "2                          3.400000                  0                  0   \n",
       "3                          3.900000                  1                  0   \n",
       "4                          4.600000                  0                  0   \n",
       "..                              ...                ...                ...   \n",
       "395                        4.900000                  0                  0   \n",
       "396                        6.200000                  0                  0   \n",
       "397                        5.400000                  0                  0   \n",
       "398                        5.900000                  0                  0   \n",
       "399                        6.100000                  0                  0   \n",
       "\n",
       "     Diabetes Mellitus: yes  Coronary Artery Disease: yes  Anemia: yes  \\\n",
       "0                         1                             0            0   \n",
       "1                         0                             0            0   \n",
       "2                         1                             0            1   \n",
       "3                         0                             0            1   \n",
       "4                         0                             0            0   \n",
       "..                      ...                           ...          ...   \n",
       "395                       0                             0            0   \n",
       "396                       0                             0            0   \n",
       "397                       0                             0            0   \n",
       "398                       0                             0            0   \n",
       "399                       0                             0            0   \n",
       "\n",
       "     Chronic Kidney Disease: yes  \n",
       "0                              1  \n",
       "1                              1  \n",
       "2                              1  \n",
       "3                              1  \n",
       "4                              1  \n",
       "..                           ...  \n",
       "395                            0  \n",
       "396                            0  \n",
       "397                            0  \n",
       "398                            0  \n",
       "399                            0  \n",
       "\n",
       "[400 rows x 18 columns]"
      ]
     },
     "execution_count": 16,
     "metadata": {},
     "output_type": "execute_result"
    }
   ],
   "source": [
    "kidney_df.rename(columns={'Age (yrs)': 'patient_age'}, inplace=True)\n",
    "kidney_df"
   ]
  },
  {
   "cell_type": "code",
   "execution_count": null,
   "metadata": {
    "cell_id": "d0963e180f6c461c8bccf3248fcc44ba",
    "deepnote_cell_type": "code",
    "deepnote_to_be_reexecuted": false,
    "execution_millis": 28,
    "execution_start": 1724014184080,
    "source_hash": null
   },
   "outputs": [
    {
     "data": {
      "application/vnd.deepnote.dataframe.v3+json": {
       "column_count": 18,
       "columns": [
        {
         "dtype": "float64",
         "name": "patient_age",
         "stats": {
          "histogram": [
           {
            "bin_end": 10.8,
            "bin_start": 2,
            "count": 10
           },
           {
            "bin_end": 19.6,
            "bin_start": 10.8,
            "count": 11
           },
           {
            "bin_end": 28.400000000000002,
            "bin_start": 19.6,
            "count": 20
           },
           {
            "bin_end": 37.2,
            "bin_start": 28.400000000000002,
            "count": 39
           },
           {
            "bin_end": 46,
            "bin_start": 37.2,
            "count": 45
           },
           {
            "bin_end": 54.800000000000004,
            "bin_start": 46,
            "count": 74
           },
           {
            "bin_end": 63.60000000000001,
            "bin_start": 54.800000000000004,
            "count": 92
           },
           {
            "bin_end": 72.4,
            "bin_start": 63.60000000000001,
            "count": 78
           },
           {
            "bin_end": 81.2,
            "bin_start": 72.4,
            "count": 28
           },
           {
            "bin_end": 90,
            "bin_start": 81.2,
            "count": 3
           }
          ],
          "max": "90.0",
          "min": "2.0",
          "nan_count": 0,
          "unique_count": 79
         }
        },
        {
         "dtype": "int64",
         "name": "patient_bp",
         "stats": {
          "histogram": [
           {
            "bin_end": 63,
            "bin_start": 50,
            "count": 79
           },
           {
            "bin_end": 76,
            "bin_start": 63,
            "count": 118
           },
           {
            "bin_end": 89,
            "bin_start": 76,
            "count": 118
           },
           {
            "bin_end": 102,
            "bin_start": 89,
            "count": 79
           },
           {
            "bin_end": 115,
            "bin_start": 102,
            "count": 3
           },
           {
            "bin_end": 128,
            "bin_start": 115,
            "count": 1
           },
           {
            "bin_end": 141,
            "bin_start": 128,
            "count": 1
           },
           {
            "bin_end": 154,
            "bin_start": 141,
            "count": 0
           },
           {
            "bin_end": 167,
            "bin_start": 154,
            "count": 0
           },
           {
            "bin_end": 180,
            "bin_start": 167,
            "count": 1
           }
          ],
          "max": "180",
          "min": "50",
          "nan_count": 0,
          "unique_count": 10
         }
        },
        {
         "dtype": "float64",
         "name": "Specific Gravity",
         "stats": {
          "histogram": [
           {
            "bin_end": 1.007,
            "bin_start": 1.005,
            "count": 7
           },
           {
            "bin_end": 1.009,
            "bin_start": 1.007,
            "count": 0
           },
           {
            "bin_end": 1.011,
            "bin_start": 1.009,
            "count": 89
           },
           {
            "bin_end": 1.013,
            "bin_start": 1.011,
            "count": 0
           },
           {
            "bin_end": 1.015,
            "bin_start": 1.013,
            "count": 1
           },
           {
            "bin_end": 1.017,
            "bin_start": 1.015,
            "count": 94
           },
           {
            "bin_end": 1.019,
            "bin_start": 1.017,
            "count": 0
           },
           {
            "bin_end": 1.021,
            "bin_start": 1.019,
            "count": 119
           },
           {
            "bin_end": 1.023,
            "bin_start": 1.021,
            "count": 0
           },
           {
            "bin_end": 1.025,
            "bin_start": 1.023,
            "count": 90
           }
          ],
          "max": "1.025",
          "min": "1.005",
          "nan_count": 0,
          "unique_count": 6
         }
        },
        {
         "dtype": "float64",
         "name": "Blood Glucose Random (mgs/dL)",
         "stats": {
          "histogram": [
           {
            "bin_end": 68.8,
            "bin_start": 22,
            "count": 1
           },
           {
            "bin_end": 115.6,
            "bin_start": 68.8,
            "count": 180
           },
           {
            "bin_end": 162.39999999999998,
            "bin_start": 115.6,
            "count": 122
           },
           {
            "bin_end": 209.2,
            "bin_start": 162.39999999999998,
            "count": 28
           },
           {
            "bin_end": 256,
            "bin_start": 209.2,
            "count": 33
           },
           {
            "bin_end": 302.79999999999995,
            "bin_start": 256,
            "count": 15
           },
           {
            "bin_end": 349.59999999999997,
            "bin_start": 302.79999999999995,
            "count": 7
           },
           {
            "bin_end": 396.4,
            "bin_start": 349.59999999999997,
            "count": 4
           },
           {
            "bin_end": 443.2,
            "bin_start": 396.4,
            "count": 6
           },
           {
            "bin_end": 490,
            "bin_start": 443.2,
            "count": 4
           }
          ],
          "max": "490.0",
          "min": "22.0",
          "nan_count": 0,
          "unique_count": 171
         }
        },
        {
         "dtype": "float64",
         "name": "Blood Urea (mgs/dL)",
         "stats": {
          "histogram": [
           {
            "bin_end": 40.45,
            "bin_start": 1.5,
            "count": 197
           },
           {
            "bin_end": 79.4,
            "bin_start": 40.45,
            "count": 125
           },
           {
            "bin_end": 118.35000000000001,
            "bin_start": 79.4,
            "count": 39
           },
           {
            "bin_end": 157.3,
            "bin_start": 118.35000000000001,
            "count": 18
           },
           {
            "bin_end": 196.25,
            "bin_start": 157.3,
            "count": 10
           },
           {
            "bin_end": 235.20000000000002,
            "bin_start": 196.25,
            "count": 7
           },
           {
            "bin_end": 274.15000000000003,
            "bin_start": 235.20000000000002,
            "count": 1
           },
           {
            "bin_end": 313.1,
            "bin_start": 274.15000000000003,
            "count": 1
           },
           {
            "bin_end": 352.05,
            "bin_start": 313.1,
            "count": 1
           },
           {
            "bin_end": 391,
            "bin_start": 352.05,
            "count": 1
           }
          ],
          "max": "391.0",
          "min": "1.5",
          "nan_count": 0,
          "unique_count": 125
         }
        },
        {
         "dtype": "float64",
         "name": "Serum Creatinine (mgs/dL)",
         "stats": {
          "histogram": [
           {
            "bin_end": 7.96,
            "bin_start": 0.4,
            "count": 371
           },
           {
            "bin_end": 15.52,
            "bin_start": 7.96,
            "count": 21
           },
           {
            "bin_end": 23.08,
            "bin_start": 15.52,
            "count": 4
           },
           {
            "bin_end": 30.639999999999997,
            "bin_start": 23.08,
            "count": 1
           },
           {
            "bin_end": 38.199999999999996,
            "bin_start": 30.639999999999997,
            "count": 1
           },
           {
            "bin_end": 45.76,
            "bin_start": 38.199999999999996,
            "count": 0
           },
           {
            "bin_end": 53.31999999999999,
            "bin_start": 45.76,
            "count": 1
           },
           {
            "bin_end": 60.879999999999995,
            "bin_start": 53.31999999999999,
            "count": 0
           },
           {
            "bin_end": 68.44,
            "bin_start": 60.879999999999995,
            "count": 0
           },
           {
            "bin_end": 76,
            "bin_start": 68.44,
            "count": 1
           }
          ],
          "max": "76.0",
          "min": "0.4",
          "nan_count": 0,
          "unique_count": 89
         }
        },
        {
         "dtype": "float64",
         "name": "Sodium (mEq/L)",
         "stats": {
          "histogram": [
           {
            "bin_end": 20.35,
            "bin_start": 4.5,
            "count": 1
           },
           {
            "bin_end": 36.2,
            "bin_start": 20.35,
            "count": 0
           },
           {
            "bin_end": 52.05,
            "bin_start": 36.2,
            "count": 0
           },
           {
            "bin_end": 67.9,
            "bin_start": 52.05,
            "count": 0
           },
           {
            "bin_end": 83.75,
            "bin_start": 67.9,
            "count": 0
           },
           {
            "bin_end": 99.6,
            "bin_start": 83.75,
            "count": 0
           },
           {
            "bin_end": 115.45,
            "bin_start": 99.6,
            "count": 7
           },
           {
            "bin_end": 131.3,
            "bin_start": 115.45,
            "count": 32
           },
           {
            "bin_end": 147.15,
            "bin_start": 131.3,
            "count": 342
           },
           {
            "bin_end": 163,
            "bin_start": 147.15,
            "count": 18
           }
          ],
          "max": "163.0",
          "min": "4.5",
          "nan_count": 0,
          "unique_count": 40
         }
        },
        {
         "dtype": "float64",
         "name": "Potassium (mEq/L)",
         "stats": {
          "histogram": [
           {
            "bin_end": 6.95,
            "bin_start": 2.5,
            "count": 397
           },
           {
            "bin_end": 11.4,
            "bin_start": 6.95,
            "count": 1
           },
           {
            "bin_end": 15.850000000000001,
            "bin_start": 11.4,
            "count": 0
           },
           {
            "bin_end": 20.3,
            "bin_start": 15.850000000000001,
            "count": 0
           },
           {
            "bin_end": 24.75,
            "bin_start": 20.3,
            "count": 0
           },
           {
            "bin_end": 29.200000000000003,
            "bin_start": 24.75,
            "count": 0
           },
           {
            "bin_end": 33.650000000000006,
            "bin_start": 29.200000000000003,
            "count": 0
           },
           {
            "bin_end": 38.1,
            "bin_start": 33.650000000000006,
            "count": 0
           },
           {
            "bin_end": 42.550000000000004,
            "bin_start": 38.1,
            "count": 1
           },
           {
            "bin_end": 47,
            "bin_start": 42.550000000000004,
            "count": 1
           }
          ],
          "max": "47.0",
          "min": "2.5",
          "nan_count": 0,
          "unique_count": 57
         }
        },
        {
         "dtype": "float64",
         "name": "Hemoglobin (gms)",
         "stats": {
          "histogram": [
           {
            "bin_end": 4.57,
            "bin_start": 3.1,
            "count": 1
           },
           {
            "bin_end": 6.040000000000001,
            "bin_start": 4.57,
            "count": 6
           },
           {
            "bin_end": 7.51,
            "bin_start": 6.040000000000001,
            "count": 8
           },
           {
            "bin_end": 8.98,
            "bin_start": 7.51,
            "count": 26
           },
           {
            "bin_end": 10.450000000000001,
            "bin_start": 8.98,
            "count": 57
           },
           {
            "bin_end": 11.92,
            "bin_start": 10.450000000000001,
            "count": 85
           },
           {
            "bin_end": 13.39,
            "bin_start": 11.92,
            "count": 56
           },
           {
            "bin_end": 14.860000000000001,
            "bin_start": 13.39,
            "count": 62
           },
           {
            "bin_end": 16.330000000000002,
            "bin_start": 14.860000000000001,
            "count": 68
           },
           {
            "bin_end": 17.8,
            "bin_start": 16.330000000000002,
            "count": 31
           }
          ],
          "max": "17.8",
          "min": "3.1",
          "nan_count": 0,
          "unique_count": 142
         }
        },
        {
         "dtype": "float64",
         "name": "White Blood Cells (cells/cmm)",
         "stats": {
          "histogram": [
           {
            "bin_end": 4620,
            "bin_start": 2200,
            "count": 19
           },
           {
            "bin_end": 7040,
            "bin_start": 4620,
            "count": 110
           },
           {
            "bin_end": 9460,
            "bin_start": 7040,
            "count": 158
           },
           {
            "bin_end": 11880,
            "bin_start": 9460,
            "count": 87
           },
           {
            "bin_end": 14300,
            "bin_start": 11880,
            "count": 14
           },
           {
            "bin_end": 16720,
            "bin_start": 14300,
            "count": 8
           },
           {
            "bin_end": 19140,
            "bin_start": 16720,
            "count": 2
           },
           {
            "bin_end": 21560,
            "bin_start": 19140,
            "count": 0
           },
           {
            "bin_end": 23980,
            "bin_start": 21560,
            "count": 1
           },
           {
            "bin_end": 26400,
            "bin_start": 23980,
            "count": 1
           }
          ],
          "max": "26400.0",
          "min": "2200.0",
          "nan_count": 0,
          "unique_count": 134
         }
        },
        {
         "dtype": "int64",
         "name": "Appetite: poor",
         "stats": {
          "histogram": [
           {
            "bin_end": 0.1,
            "bin_start": 0,
            "count": 318
           },
           {
            "bin_end": 0.2,
            "bin_start": 0.1,
            "count": 0
           },
           {
            "bin_end": 0.30000000000000004,
            "bin_start": 0.2,
            "count": 0
           },
           {
            "bin_end": 0.4,
            "bin_start": 0.30000000000000004,
            "count": 0
           },
           {
            "bin_end": 0.5,
            "bin_start": 0.4,
            "count": 0
           },
           {
            "bin_end": 0.6000000000000001,
            "bin_start": 0.5,
            "count": 0
           },
           {
            "bin_end": 0.7000000000000001,
            "bin_start": 0.6000000000000001,
            "count": 0
           },
           {
            "bin_end": 0.8,
            "bin_start": 0.7000000000000001,
            "count": 0
           },
           {
            "bin_end": 0.9,
            "bin_start": 0.8,
            "count": 0
           },
           {
            "bin_end": 1,
            "bin_start": 0.9,
            "count": 82
           }
          ],
          "max": "1",
          "min": "0",
          "nan_count": 0,
          "unique_count": 2
         }
        },
        {
         "dtype": "float64",
         "name": "Red Blood Cells (millions/cmm)",
         "stats": {
          "histogram": [
           {
            "bin_end": 2.6900000000000004,
            "bin_start": 2.1,
            "count": 9
           },
           {
            "bin_end": 3.2800000000000002,
            "bin_start": 2.6900000000000004,
            "count": 20
           },
           {
            "bin_end": 3.87,
            "bin_start": 3.2800000000000002,
            "count": 56
           },
           {
            "bin_end": 4.460000000000001,
            "bin_start": 3.87,
            "count": 73
           },
           {
            "bin_end": 5.050000000000001,
            "bin_start": 4.460000000000001,
            "count": 128
           },
           {
            "bin_end": 5.640000000000001,
            "bin_start": 5.050000000000001,
            "count": 60
           },
           {
            "bin_end": 6.23,
            "bin_start": 5.640000000000001,
            "count": 39
           },
           {
            "bin_end": 6.82,
            "bin_start": 6.23,
            "count": 14
           },
           {
            "bin_end": 7.41,
            "bin_start": 6.82,
            "count": 0
           },
           {
            "bin_end": 8,
            "bin_start": 7.41,
            "count": 1
           }
          ],
          "max": "8.0",
          "min": "2.1",
          "nan_count": 0,
          "unique_count": 69
         }
        },
        {
         "dtype": "int64",
         "name": "Hypertension: yes",
         "stats": {
          "histogram": [
           {
            "bin_end": 0.1,
            "bin_start": 0,
            "count": 253
           },
           {
            "bin_end": 0.2,
            "bin_start": 0.1,
            "count": 0
           },
           {
            "bin_end": 0.30000000000000004,
            "bin_start": 0.2,
            "count": 0
           },
           {
            "bin_end": 0.4,
            "bin_start": 0.30000000000000004,
            "count": 0
           },
           {
            "bin_end": 0.5,
            "bin_start": 0.4,
            "count": 0
           },
           {
            "bin_end": 0.6000000000000001,
            "bin_start": 0.5,
            "count": 0
           },
           {
            "bin_end": 0.7000000000000001,
            "bin_start": 0.6000000000000001,
            "count": 0
           },
           {
            "bin_end": 0.8,
            "bin_start": 0.7000000000000001,
            "count": 0
           },
           {
            "bin_end": 0.9,
            "bin_start": 0.8,
            "count": 0
           },
           {
            "bin_end": 1,
            "bin_start": 0.9,
            "count": 147
           }
          ],
          "max": "1",
          "min": "0",
          "nan_count": 0,
          "unique_count": 2
         }
        },
        {
         "dtype": "int64",
         "name": "Bacteria: present",
         "stats": {
          "histogram": [
           {
            "bin_end": 0.1,
            "bin_start": 0,
            "count": 378
           },
           {
            "bin_end": 0.2,
            "bin_start": 0.1,
            "count": 0
           },
           {
            "bin_end": 0.30000000000000004,
            "bin_start": 0.2,
            "count": 0
           },
           {
            "bin_end": 0.4,
            "bin_start": 0.30000000000000004,
            "count": 0
           },
           {
            "bin_end": 0.5,
            "bin_start": 0.4,
            "count": 0
           },
           {
            "bin_end": 0.6000000000000001,
            "bin_start": 0.5,
            "count": 0
           },
           {
            "bin_end": 0.7000000000000001,
            "bin_start": 0.6000000000000001,
            "count": 0
           },
           {
            "bin_end": 0.8,
            "bin_start": 0.7000000000000001,
            "count": 0
           },
           {
            "bin_end": 0.9,
            "bin_start": 0.8,
            "count": 0
           },
           {
            "bin_end": 1,
            "bin_start": 0.9,
            "count": 22
           }
          ],
          "max": "1",
          "min": "0",
          "nan_count": 0,
          "unique_count": 2
         }
        },
        {
         "dtype": "int64",
         "name": "Diabetes Mellitus: yes",
         "stats": {
          "histogram": [
           {
            "bin_end": 0.1,
            "bin_start": 0,
            "count": 263
           },
           {
            "bin_end": 0.2,
            "bin_start": 0.1,
            "count": 0
           },
           {
            "bin_end": 0.30000000000000004,
            "bin_start": 0.2,
            "count": 0
           },
           {
            "bin_end": 0.4,
            "bin_start": 0.30000000000000004,
            "count": 0
           },
           {
            "bin_end": 0.5,
            "bin_start": 0.4,
            "count": 0
           },
           {
            "bin_end": 0.6000000000000001,
            "bin_start": 0.5,
            "count": 0
           },
           {
            "bin_end": 0.7000000000000001,
            "bin_start": 0.6000000000000001,
            "count": 0
           },
           {
            "bin_end": 0.8,
            "bin_start": 0.7000000000000001,
            "count": 0
           },
           {
            "bin_end": 0.9,
            "bin_start": 0.8,
            "count": 0
           },
           {
            "bin_end": 1,
            "bin_start": 0.9,
            "count": 137
           }
          ],
          "max": "1",
          "min": "0",
          "nan_count": 0,
          "unique_count": 2
         }
        },
        {
         "dtype": "int64",
         "name": "Coronary Artery Disease: yes",
         "stats": {
          "histogram": [
           {
            "bin_end": 0.1,
            "bin_start": 0,
            "count": 366
           },
           {
            "bin_end": 0.2,
            "bin_start": 0.1,
            "count": 0
           },
           {
            "bin_end": 0.30000000000000004,
            "bin_start": 0.2,
            "count": 0
           },
           {
            "bin_end": 0.4,
            "bin_start": 0.30000000000000004,
            "count": 0
           },
           {
            "bin_end": 0.5,
            "bin_start": 0.4,
            "count": 0
           },
           {
            "bin_end": 0.6000000000000001,
            "bin_start": 0.5,
            "count": 0
           },
           {
            "bin_end": 0.7000000000000001,
            "bin_start": 0.6000000000000001,
            "count": 0
           },
           {
            "bin_end": 0.8,
            "bin_start": 0.7000000000000001,
            "count": 0
           },
           {
            "bin_end": 0.9,
            "bin_start": 0.8,
            "count": 0
           },
           {
            "bin_end": 1,
            "bin_start": 0.9,
            "count": 34
           }
          ],
          "max": "1",
          "min": "0",
          "nan_count": 0,
          "unique_count": 2
         }
        },
        {
         "dtype": "int64",
         "name": "Anemia: yes",
         "stats": {
          "histogram": [
           {
            "bin_end": 0.1,
            "bin_start": 0,
            "count": 340
           },
           {
            "bin_end": 0.2,
            "bin_start": 0.1,
            "count": 0
           },
           {
            "bin_end": 0.30000000000000004,
            "bin_start": 0.2,
            "count": 0
           },
           {
            "bin_end": 0.4,
            "bin_start": 0.30000000000000004,
            "count": 0
           },
           {
            "bin_end": 0.5,
            "bin_start": 0.4,
            "count": 0
           },
           {
            "bin_end": 0.6000000000000001,
            "bin_start": 0.5,
            "count": 0
           },
           {
            "bin_end": 0.7000000000000001,
            "bin_start": 0.6000000000000001,
            "count": 0
           },
           {
            "bin_end": 0.8,
            "bin_start": 0.7000000000000001,
            "count": 0
           },
           {
            "bin_end": 0.9,
            "bin_start": 0.8,
            "count": 0
           },
           {
            "bin_end": 1,
            "bin_start": 0.9,
            "count": 60
           }
          ],
          "max": "1",
          "min": "0",
          "nan_count": 0,
          "unique_count": 2
         }
        },
        {
         "dtype": "int64",
         "name": "Chronic Kidney Disease: yes",
         "stats": {
          "histogram": [
           {
            "bin_end": 0.1,
            "bin_start": 0,
            "count": 150
           },
           {
            "bin_end": 0.2,
            "bin_start": 0.1,
            "count": 0
           },
           {
            "bin_end": 0.30000000000000004,
            "bin_start": 0.2,
            "count": 0
           },
           {
            "bin_end": 0.4,
            "bin_start": 0.30000000000000004,
            "count": 0
           },
           {
            "bin_end": 0.5,
            "bin_start": 0.4,
            "count": 0
           },
           {
            "bin_end": 0.6000000000000001,
            "bin_start": 0.5,
            "count": 0
           },
           {
            "bin_end": 0.7000000000000001,
            "bin_start": 0.6000000000000001,
            "count": 0
           },
           {
            "bin_end": 0.8,
            "bin_start": 0.7000000000000001,
            "count": 0
           },
           {
            "bin_end": 0.9,
            "bin_start": 0.8,
            "count": 0
           },
           {
            "bin_end": 1,
            "bin_start": 0.9,
            "count": 250
           }
          ],
          "max": "1",
          "min": "0",
          "nan_count": 0,
          "unique_count": 2
         }
        },
        {
         "dtype": "int64",
         "name": "_deepnote_index_column"
        }
       ],
       "row_count": 400,
       "rows": [
        {
         "Anemia: yes": 0,
         "Appetite: poor": 0,
         "Bacteria: present": 0,
         "Blood Glucose Random (mgs/dL)": 121,
         "Blood Urea (mgs/dL)": 36,
         "Chronic Kidney Disease: yes": 1,
         "Coronary Artery Disease: yes": 0,
         "Diabetes Mellitus: yes": 1,
         "Hemoglobin (gms)": 15.4,
         "Hypertension: yes": 1,
         "Potassium (mEq/L)": 4.7,
         "Red Blood Cells (millions/cmm)": 5.2,
         "Serum Creatinine (mgs/dL)": 1.2,
         "Sodium (mEq/L)": 136,
         "Specific Gravity": 1.02,
         "White Blood Cells (cells/cmm)": 7800,
         "_deepnote_index_column": 0,
         "patient_age": 48,
         "patient_bp": 80
        },
        {
         "Anemia: yes": 0,
         "Appetite: poor": 0,
         "Bacteria: present": 0,
         "Blood Glucose Random (mgs/dL)": 90.31658119,
         "Blood Urea (mgs/dL)": 18,
         "Chronic Kidney Disease: yes": 1,
         "Coronary Artery Disease: yes": 0,
         "Diabetes Mellitus: yes": 0,
         "Hemoglobin (gms)": 11.3,
         "Hypertension: yes": 0,
         "Potassium (mEq/L)": 4,
         "Red Blood Cells (millions/cmm)": 4.721717463,
         "Serum Creatinine (mgs/dL)": 0.8,
         "Sodium (mEq/L)": 140,
         "Specific Gravity": 1.02,
         "White Blood Cells (cells/cmm)": 6000,
         "_deepnote_index_column": 1,
         "patient_age": 7,
         "patient_bp": 50
        },
        {
         "Anemia: yes": 1,
         "Appetite: poor": 1,
         "Bacteria: present": 0,
         "Blood Glucose Random (mgs/dL)": 423,
         "Blood Urea (mgs/dL)": 53,
         "Chronic Kidney Disease: yes": 1,
         "Coronary Artery Disease: yes": 0,
         "Diabetes Mellitus: yes": 1,
         "Hemoglobin (gms)": 9.6,
         "Hypertension: yes": 0,
         "Potassium (mEq/L)": 4.8,
         "Red Blood Cells (millions/cmm)": 3.4,
         "Serum Creatinine (mgs/dL)": 1.8,
         "Sodium (mEq/L)": 135,
         "Specific Gravity": 1.01,
         "White Blood Cells (cells/cmm)": 7500,
         "_deepnote_index_column": 2,
         "patient_age": 62,
         "patient_bp": 80
        },
        {
         "Anemia: yes": 1,
         "Appetite: poor": 1,
         "Bacteria: present": 0,
         "Blood Glucose Random (mgs/dL)": 117,
         "Blood Urea (mgs/dL)": 56,
         "Chronic Kidney Disease: yes": 1,
         "Coronary Artery Disease: yes": 0,
         "Diabetes Mellitus: yes": 0,
         "Hemoglobin (gms)": 11.2,
         "Hypertension: yes": 1,
         "Potassium (mEq/L)": 2.5,
         "Red Blood Cells (millions/cmm)": 3.9,
         "Serum Creatinine (mgs/dL)": 3.8,
         "Sodium (mEq/L)": 111,
         "Specific Gravity": 1.005,
         "White Blood Cells (cells/cmm)": 6700,
         "_deepnote_index_column": 3,
         "patient_age": 48,
         "patient_bp": 70
        },
        {
         "Anemia: yes": 0,
         "Appetite: poor": 0,
         "Bacteria: present": 0,
         "Blood Glucose Random (mgs/dL)": 106,
         "Blood Urea (mgs/dL)": 26,
         "Chronic Kidney Disease: yes": 1,
         "Coronary Artery Disease: yes": 0,
         "Diabetes Mellitus: yes": 0,
         "Hemoglobin (gms)": 11.6,
         "Hypertension: yes": 0,
         "Potassium (mEq/L)": 4,
         "Red Blood Cells (millions/cmm)": 4.6,
         "Serum Creatinine (mgs/dL)": 1.4,
         "Sodium (mEq/L)": 140,
         "Specific Gravity": 1.01,
         "White Blood Cells (cells/cmm)": 7300,
         "_deepnote_index_column": 4,
         "patient_age": 51,
         "patient_bp": 80
        },
        {
         "Anemia: yes": 0,
         "Appetite: poor": 0,
         "Bacteria: present": 0,
         "Blood Glucose Random (mgs/dL)": 74,
         "Blood Urea (mgs/dL)": 25,
         "Chronic Kidney Disease: yes": 1,
         "Coronary Artery Disease: yes": 0,
         "Diabetes Mellitus: yes": 1,
         "Hemoglobin (gms)": 12.2,
         "Hypertension: yes": 1,
         "Potassium (mEq/L)": 3.2,
         "Red Blood Cells (millions/cmm)": 4.4,
         "Serum Creatinine (mgs/dL)": 1.1,
         "Sodium (mEq/L)": 142,
         "Specific Gravity": 1.015,
         "White Blood Cells (cells/cmm)": 7800,
         "_deepnote_index_column": 5,
         "patient_age": 60,
         "patient_bp": 90
        },
        {
         "Anemia: yes": 0,
         "Appetite: poor": 0,
         "Bacteria: present": 0,
         "Blood Glucose Random (mgs/dL)": 100,
         "Blood Urea (mgs/dL)": 54,
         "Chronic Kidney Disease: yes": 1,
         "Coronary Artery Disease: yes": 0,
         "Diabetes Mellitus: yes": 0,
         "Hemoglobin (gms)": 12.4,
         "Hypertension: yes": 0,
         "Potassium (mEq/L)": 4,
         "Red Blood Cells (millions/cmm)": 4.79153164,
         "Serum Creatinine (mgs/dL)": 24,
         "Sodium (mEq/L)": 104,
         "Specific Gravity": 1.01,
         "White Blood Cells (cells/cmm)": 8200,
         "_deepnote_index_column": 6,
         "patient_age": 68,
         "patient_bp": 70
        },
        {
         "Anemia: yes": 0,
         "Appetite: poor": 0,
         "Bacteria: present": 0,
         "Blood Glucose Random (mgs/dL)": 410,
         "Blood Urea (mgs/dL)": 31,
         "Chronic Kidney Disease: yes": 1,
         "Coronary Artery Disease: yes": 0,
         "Diabetes Mellitus: yes": 1,
         "Hemoglobin (gms)": 12.4,
         "Hypertension: yes": 0,
         "Potassium (mEq/L)": 4.2,
         "Red Blood Cells (millions/cmm)": 5,
         "Serum Creatinine (mgs/dL)": 1.1,
         "Sodium (mEq/L)": 138,
         "Specific Gravity": 1.015,
         "White Blood Cells (cells/cmm)": 6900,
         "_deepnote_index_column": 7,
         "patient_age": 24,
         "patient_bp": 60
        },
        {
         "Anemia: yes": 1,
         "Appetite: poor": 0,
         "Bacteria: present": 0,
         "Blood Glucose Random (mgs/dL)": 138,
         "Blood Urea (mgs/dL)": 60,
         "Chronic Kidney Disease: yes": 1,
         "Coronary Artery Disease: yes": 0,
         "Diabetes Mellitus: yes": 1,
         "Hemoglobin (gms)": 10.8,
         "Hypertension: yes": 1,
         "Potassium (mEq/L)": 5,
         "Red Blood Cells (millions/cmm)": 4,
         "Serum Creatinine (mgs/dL)": 1.9,
         "Sodium (mEq/L)": 135,
         "Specific Gravity": 1.015,
         "White Blood Cells (cells/cmm)": 9600,
         "_deepnote_index_column": 8,
         "patient_age": 52,
         "patient_bp": 100
        },
        {
         "Anemia: yes": 1,
         "Appetite: poor": 1,
         "Bacteria: present": 0,
         "Blood Glucose Random (mgs/dL)": 70,
         "Blood Urea (mgs/dL)": 107,
         "Chronic Kidney Disease: yes": 1,
         "Coronary Artery Disease: yes": 0,
         "Diabetes Mellitus: yes": 1,
         "Hemoglobin (gms)": 9.5,
         "Hypertension: yes": 1,
         "Potassium (mEq/L)": 3.7,
         "Red Blood Cells (millions/cmm)": 3.7,
         "Serum Creatinine (mgs/dL)": 7.2,
         "Sodium (mEq/L)": 114,
         "Specific Gravity": 1.02,
         "White Blood Cells (cells/cmm)": 12100,
         "_deepnote_index_column": 9,
         "patient_age": 53,
         "patient_bp": 90
        }
       ]
      },
      "text/html": [
       "<div>\n",
       "<style scoped>\n",
       "    .dataframe tbody tr th:only-of-type {\n",
       "        vertical-align: middle;\n",
       "    }\n",
       "\n",
       "    .dataframe tbody tr th {\n",
       "        vertical-align: top;\n",
       "    }\n",
       "\n",
       "    .dataframe thead th {\n",
       "        text-align: right;\n",
       "    }\n",
       "</style>\n",
       "<table border=\"1\" class=\"dataframe\">\n",
       "  <thead>\n",
       "    <tr style=\"text-align: right;\">\n",
       "      <th></th>\n",
       "      <th>patient_age</th>\n",
       "      <th>patient_bp</th>\n",
       "      <th>Specific Gravity</th>\n",
       "      <th>Blood Glucose Random (mgs/dL)</th>\n",
       "      <th>Blood Urea (mgs/dL)</th>\n",
       "      <th>Serum Creatinine (mgs/dL)</th>\n",
       "      <th>Sodium (mEq/L)</th>\n",
       "      <th>Potassium (mEq/L)</th>\n",
       "      <th>Hemoglobin (gms)</th>\n",
       "      <th>White Blood Cells (cells/cmm)</th>\n",
       "      <th>Appetite: poor</th>\n",
       "      <th>Red Blood Cells (millions/cmm)</th>\n",
       "      <th>Hypertension: yes</th>\n",
       "      <th>Bacteria: present</th>\n",
       "      <th>Diabetes Mellitus: yes</th>\n",
       "      <th>Coronary Artery Disease: yes</th>\n",
       "      <th>Anemia: yes</th>\n",
       "      <th>Chronic Kidney Disease: yes</th>\n",
       "    </tr>\n",
       "  </thead>\n",
       "  <tbody>\n",
       "    <tr>\n",
       "      <th>0</th>\n",
       "      <td>48.0</td>\n",
       "      <td>80</td>\n",
       "      <td>1.020</td>\n",
       "      <td>121.000000</td>\n",
       "      <td>36.0</td>\n",
       "      <td>1.2</td>\n",
       "      <td>136.0</td>\n",
       "      <td>4.7</td>\n",
       "      <td>15.4</td>\n",
       "      <td>7800.0</td>\n",
       "      <td>0</td>\n",
       "      <td>5.200000</td>\n",
       "      <td>1</td>\n",
       "      <td>0</td>\n",
       "      <td>1</td>\n",
       "      <td>0</td>\n",
       "      <td>0</td>\n",
       "      <td>1</td>\n",
       "    </tr>\n",
       "    <tr>\n",
       "      <th>1</th>\n",
       "      <td>7.0</td>\n",
       "      <td>50</td>\n",
       "      <td>1.020</td>\n",
       "      <td>90.316581</td>\n",
       "      <td>18.0</td>\n",
       "      <td>0.8</td>\n",
       "      <td>140.0</td>\n",
       "      <td>4.0</td>\n",
       "      <td>11.3</td>\n",
       "      <td>6000.0</td>\n",
       "      <td>0</td>\n",
       "      <td>4.721717</td>\n",
       "      <td>0</td>\n",
       "      <td>0</td>\n",
       "      <td>0</td>\n",
       "      <td>0</td>\n",
       "      <td>0</td>\n",
       "      <td>1</td>\n",
       "    </tr>\n",
       "    <tr>\n",
       "      <th>2</th>\n",
       "      <td>62.0</td>\n",
       "      <td>80</td>\n",
       "      <td>1.010</td>\n",
       "      <td>423.000000</td>\n",
       "      <td>53.0</td>\n",
       "      <td>1.8</td>\n",
       "      <td>135.0</td>\n",
       "      <td>4.8</td>\n",
       "      <td>9.6</td>\n",
       "      <td>7500.0</td>\n",
       "      <td>1</td>\n",
       "      <td>3.400000</td>\n",
       "      <td>0</td>\n",
       "      <td>0</td>\n",
       "      <td>1</td>\n",
       "      <td>0</td>\n",
       "      <td>1</td>\n",
       "      <td>1</td>\n",
       "    </tr>\n",
       "    <tr>\n",
       "      <th>3</th>\n",
       "      <td>48.0</td>\n",
       "      <td>70</td>\n",
       "      <td>1.005</td>\n",
       "      <td>117.000000</td>\n",
       "      <td>56.0</td>\n",
       "      <td>3.8</td>\n",
       "      <td>111.0</td>\n",
       "      <td>2.5</td>\n",
       "      <td>11.2</td>\n",
       "      <td>6700.0</td>\n",
       "      <td>1</td>\n",
       "      <td>3.900000</td>\n",
       "      <td>1</td>\n",
       "      <td>0</td>\n",
       "      <td>0</td>\n",
       "      <td>0</td>\n",
       "      <td>1</td>\n",
       "      <td>1</td>\n",
       "    </tr>\n",
       "    <tr>\n",
       "      <th>4</th>\n",
       "      <td>51.0</td>\n",
       "      <td>80</td>\n",
       "      <td>1.010</td>\n",
       "      <td>106.000000</td>\n",
       "      <td>26.0</td>\n",
       "      <td>1.4</td>\n",
       "      <td>140.0</td>\n",
       "      <td>4.0</td>\n",
       "      <td>11.6</td>\n",
       "      <td>7300.0</td>\n",
       "      <td>0</td>\n",
       "      <td>4.600000</td>\n",
       "      <td>0</td>\n",
       "      <td>0</td>\n",
       "      <td>0</td>\n",
       "      <td>0</td>\n",
       "      <td>0</td>\n",
       "      <td>1</td>\n",
       "    </tr>\n",
       "    <tr>\n",
       "      <th>...</th>\n",
       "      <td>...</td>\n",
       "      <td>...</td>\n",
       "      <td>...</td>\n",
       "      <td>...</td>\n",
       "      <td>...</td>\n",
       "      <td>...</td>\n",
       "      <td>...</td>\n",
       "      <td>...</td>\n",
       "      <td>...</td>\n",
       "      <td>...</td>\n",
       "      <td>...</td>\n",
       "      <td>...</td>\n",
       "      <td>...</td>\n",
       "      <td>...</td>\n",
       "      <td>...</td>\n",
       "      <td>...</td>\n",
       "      <td>...</td>\n",
       "      <td>...</td>\n",
       "    </tr>\n",
       "    <tr>\n",
       "      <th>395</th>\n",
       "      <td>55.0</td>\n",
       "      <td>80</td>\n",
       "      <td>1.020</td>\n",
       "      <td>140.000000</td>\n",
       "      <td>49.0</td>\n",
       "      <td>0.5</td>\n",
       "      <td>150.0</td>\n",
       "      <td>4.9</td>\n",
       "      <td>15.7</td>\n",
       "      <td>6700.0</td>\n",
       "      <td>0</td>\n",
       "      <td>4.900000</td>\n",
       "      <td>0</td>\n",
       "      <td>0</td>\n",
       "      <td>0</td>\n",
       "      <td>0</td>\n",
       "      <td>0</td>\n",
       "      <td>0</td>\n",
       "    </tr>\n",
       "    <tr>\n",
       "      <th>396</th>\n",
       "      <td>42.0</td>\n",
       "      <td>70</td>\n",
       "      <td>1.025</td>\n",
       "      <td>75.000000</td>\n",
       "      <td>31.0</td>\n",
       "      <td>1.2</td>\n",
       "      <td>141.0</td>\n",
       "      <td>3.5</td>\n",
       "      <td>16.5</td>\n",
       "      <td>7800.0</td>\n",
       "      <td>0</td>\n",
       "      <td>6.200000</td>\n",
       "      <td>0</td>\n",
       "      <td>0</td>\n",
       "      <td>0</td>\n",
       "      <td>0</td>\n",
       "      <td>0</td>\n",
       "      <td>0</td>\n",
       "    </tr>\n",
       "    <tr>\n",
       "      <th>397</th>\n",
       "      <td>12.0</td>\n",
       "      <td>80</td>\n",
       "      <td>1.020</td>\n",
       "      <td>100.000000</td>\n",
       "      <td>26.0</td>\n",
       "      <td>0.6</td>\n",
       "      <td>137.0</td>\n",
       "      <td>4.4</td>\n",
       "      <td>15.8</td>\n",
       "      <td>6600.0</td>\n",
       "      <td>0</td>\n",
       "      <td>5.400000</td>\n",
       "      <td>0</td>\n",
       "      <td>0</td>\n",
       "      <td>0</td>\n",
       "      <td>0</td>\n",
       "      <td>0</td>\n",
       "      <td>0</td>\n",
       "    </tr>\n",
       "    <tr>\n",
       "      <th>398</th>\n",
       "      <td>17.0</td>\n",
       "      <td>60</td>\n",
       "      <td>1.025</td>\n",
       "      <td>114.000000</td>\n",
       "      <td>50.0</td>\n",
       "      <td>1.0</td>\n",
       "      <td>135.0</td>\n",
       "      <td>4.9</td>\n",
       "      <td>14.2</td>\n",
       "      <td>7200.0</td>\n",
       "      <td>0</td>\n",
       "      <td>5.900000</td>\n",
       "      <td>0</td>\n",
       "      <td>0</td>\n",
       "      <td>0</td>\n",
       "      <td>0</td>\n",
       "      <td>0</td>\n",
       "      <td>0</td>\n",
       "    </tr>\n",
       "    <tr>\n",
       "      <th>399</th>\n",
       "      <td>58.0</td>\n",
       "      <td>80</td>\n",
       "      <td>1.025</td>\n",
       "      <td>131.000000</td>\n",
       "      <td>18.0</td>\n",
       "      <td>1.1</td>\n",
       "      <td>141.0</td>\n",
       "      <td>3.5</td>\n",
       "      <td>15.8</td>\n",
       "      <td>6800.0</td>\n",
       "      <td>0</td>\n",
       "      <td>6.100000</td>\n",
       "      <td>0</td>\n",
       "      <td>0</td>\n",
       "      <td>0</td>\n",
       "      <td>0</td>\n",
       "      <td>0</td>\n",
       "      <td>0</td>\n",
       "    </tr>\n",
       "  </tbody>\n",
       "</table>\n",
       "<p>400 rows × 18 columns</p>\n",
       "</div>"
      ],
      "text/plain": [
       "     patient_age  patient_bp  Specific Gravity  Blood Glucose Random (mgs/dL)  \\\n",
       "0           48.0          80             1.020                     121.000000   \n",
       "1            7.0          50             1.020                      90.316581   \n",
       "2           62.0          80             1.010                     423.000000   \n",
       "3           48.0          70             1.005                     117.000000   \n",
       "4           51.0          80             1.010                     106.000000   \n",
       "..           ...         ...               ...                            ...   \n",
       "395         55.0          80             1.020                     140.000000   \n",
       "396         42.0          70             1.025                      75.000000   \n",
       "397         12.0          80             1.020                     100.000000   \n",
       "398         17.0          60             1.025                     114.000000   \n",
       "399         58.0          80             1.025                     131.000000   \n",
       "\n",
       "     Blood Urea (mgs/dL)  Serum Creatinine (mgs/dL)  Sodium (mEq/L)  \\\n",
       "0                   36.0                        1.2           136.0   \n",
       "1                   18.0                        0.8           140.0   \n",
       "2                   53.0                        1.8           135.0   \n",
       "3                   56.0                        3.8           111.0   \n",
       "4                   26.0                        1.4           140.0   \n",
       "..                   ...                        ...             ...   \n",
       "395                 49.0                        0.5           150.0   \n",
       "396                 31.0                        1.2           141.0   \n",
       "397                 26.0                        0.6           137.0   \n",
       "398                 50.0                        1.0           135.0   \n",
       "399                 18.0                        1.1           141.0   \n",
       "\n",
       "     Potassium (mEq/L)  Hemoglobin (gms)  White Blood Cells (cells/cmm)  \\\n",
       "0                  4.7              15.4                         7800.0   \n",
       "1                  4.0              11.3                         6000.0   \n",
       "2                  4.8               9.6                         7500.0   \n",
       "3                  2.5              11.2                         6700.0   \n",
       "4                  4.0              11.6                         7300.0   \n",
       "..                 ...               ...                            ...   \n",
       "395                4.9              15.7                         6700.0   \n",
       "396                3.5              16.5                         7800.0   \n",
       "397                4.4              15.8                         6600.0   \n",
       "398                4.9              14.2                         7200.0   \n",
       "399                3.5              15.8                         6800.0   \n",
       "\n",
       "     Appetite: poor  Red Blood Cells (millions/cmm)  Hypertension: yes  \\\n",
       "0                 0                        5.200000                  1   \n",
       "1                 0                        4.721717                  0   \n",
       "2                 1                        3.400000                  0   \n",
       "3                 1                        3.900000                  1   \n",
       "4                 0                        4.600000                  0   \n",
       "..              ...                             ...                ...   \n",
       "395               0                        4.900000                  0   \n",
       "396               0                        6.200000                  0   \n",
       "397               0                        5.400000                  0   \n",
       "398               0                        5.900000                  0   \n",
       "399               0                        6.100000                  0   \n",
       "\n",
       "     Bacteria: present  Diabetes Mellitus: yes  Coronary Artery Disease: yes  \\\n",
       "0                    0                       1                             0   \n",
       "1                    0                       0                             0   \n",
       "2                    0                       1                             0   \n",
       "3                    0                       0                             0   \n",
       "4                    0                       0                             0   \n",
       "..                 ...                     ...                           ...   \n",
       "395                  0                       0                             0   \n",
       "396                  0                       0                             0   \n",
       "397                  0                       0                             0   \n",
       "398                  0                       0                             0   \n",
       "399                  0                       0                             0   \n",
       "\n",
       "     Anemia: yes  Chronic Kidney Disease: yes  \n",
       "0              0                            1  \n",
       "1              0                            1  \n",
       "2              1                            1  \n",
       "3              1                            1  \n",
       "4              0                            1  \n",
       "..           ...                          ...  \n",
       "395            0                            0  \n",
       "396            0                            0  \n",
       "397            0                            0  \n",
       "398            0                            0  \n",
       "399            0                            0  \n",
       "\n",
       "[400 rows x 18 columns]"
      ]
     },
     "execution_count": 17,
     "metadata": {},
     "output_type": "execute_result"
    }
   ],
   "source": [
    "kidney_df.rename(columns={'Blood Pressure (mm/Hg)':  'patient_bp'}, inplace=True)\n",
    "kidney_df"
   ]
  },
  {
   "cell_type": "code",
   "execution_count": null,
   "metadata": {
    "cell_id": "1b6b70471a394dfcba870fad52a1ca0e",
    "deepnote_cell_type": "code",
    "deepnote_to_be_reexecuted": false,
    "execution_millis": 95,
    "execution_start": 1724014297592,
    "source_hash": null
   },
   "outputs": [
    {
     "data": {
      "application/vnd.deepnote.dataframe.v3+json": {
       "column_count": 18,
       "columns": [
        {
         "dtype": "float64",
         "name": "patient_age",
         "stats": {
          "histogram": [
           {
            "bin_end": 10.8,
            "bin_start": 2,
            "count": 10
           },
           {
            "bin_end": 19.6,
            "bin_start": 10.8,
            "count": 11
           },
           {
            "bin_end": 28.400000000000002,
            "bin_start": 19.6,
            "count": 20
           },
           {
            "bin_end": 37.2,
            "bin_start": 28.400000000000002,
            "count": 39
           },
           {
            "bin_end": 46,
            "bin_start": 37.2,
            "count": 45
           },
           {
            "bin_end": 54.800000000000004,
            "bin_start": 46,
            "count": 74
           },
           {
            "bin_end": 63.60000000000001,
            "bin_start": 54.800000000000004,
            "count": 92
           },
           {
            "bin_end": 72.4,
            "bin_start": 63.60000000000001,
            "count": 78
           },
           {
            "bin_end": 81.2,
            "bin_start": 72.4,
            "count": 28
           },
           {
            "bin_end": 90,
            "bin_start": 81.2,
            "count": 3
           }
          ],
          "max": "90.0",
          "min": "2.0",
          "nan_count": 0,
          "unique_count": 79
         }
        },
        {
         "dtype": "int64",
         "name": "patient_bp",
         "stats": {
          "histogram": [
           {
            "bin_end": 63,
            "bin_start": 50,
            "count": 79
           },
           {
            "bin_end": 76,
            "bin_start": 63,
            "count": 118
           },
           {
            "bin_end": 89,
            "bin_start": 76,
            "count": 118
           },
           {
            "bin_end": 102,
            "bin_start": 89,
            "count": 79
           },
           {
            "bin_end": 115,
            "bin_start": 102,
            "count": 3
           },
           {
            "bin_end": 128,
            "bin_start": 115,
            "count": 1
           },
           {
            "bin_end": 141,
            "bin_start": 128,
            "count": 1
           },
           {
            "bin_end": 154,
            "bin_start": 141,
            "count": 0
           },
           {
            "bin_end": 167,
            "bin_start": 154,
            "count": 0
           },
           {
            "bin_end": 180,
            "bin_start": 167,
            "count": 1
           }
          ],
          "max": "180",
          "min": "50",
          "nan_count": 0,
          "unique_count": 10
         }
        },
        {
         "dtype": "float64",
         "name": "patient_sg",
         "stats": {
          "histogram": [
           {
            "bin_end": 1.007,
            "bin_start": 1.005,
            "count": 7
           },
           {
            "bin_end": 1.009,
            "bin_start": 1.007,
            "count": 0
           },
           {
            "bin_end": 1.011,
            "bin_start": 1.009,
            "count": 89
           },
           {
            "bin_end": 1.013,
            "bin_start": 1.011,
            "count": 0
           },
           {
            "bin_end": 1.015,
            "bin_start": 1.013,
            "count": 1
           },
           {
            "bin_end": 1.017,
            "bin_start": 1.015,
            "count": 94
           },
           {
            "bin_end": 1.019,
            "bin_start": 1.017,
            "count": 0
           },
           {
            "bin_end": 1.021,
            "bin_start": 1.019,
            "count": 119
           },
           {
            "bin_end": 1.023,
            "bin_start": 1.021,
            "count": 0
           },
           {
            "bin_end": 1.025,
            "bin_start": 1.023,
            "count": 90
           }
          ],
          "max": "1.025",
          "min": "1.005",
          "nan_count": 0,
          "unique_count": 6
         }
        },
        {
         "dtype": "float64",
         "name": "Blood Glucose Random (mgs/dL)",
         "stats": {
          "histogram": [
           {
            "bin_end": 68.8,
            "bin_start": 22,
            "count": 1
           },
           {
            "bin_end": 115.6,
            "bin_start": 68.8,
            "count": 180
           },
           {
            "bin_end": 162.39999999999998,
            "bin_start": 115.6,
            "count": 122
           },
           {
            "bin_end": 209.2,
            "bin_start": 162.39999999999998,
            "count": 28
           },
           {
            "bin_end": 256,
            "bin_start": 209.2,
            "count": 33
           },
           {
            "bin_end": 302.79999999999995,
            "bin_start": 256,
            "count": 15
           },
           {
            "bin_end": 349.59999999999997,
            "bin_start": 302.79999999999995,
            "count": 7
           },
           {
            "bin_end": 396.4,
            "bin_start": 349.59999999999997,
            "count": 4
           },
           {
            "bin_end": 443.2,
            "bin_start": 396.4,
            "count": 6
           },
           {
            "bin_end": 490,
            "bin_start": 443.2,
            "count": 4
           }
          ],
          "max": "490.0",
          "min": "22.0",
          "nan_count": 0,
          "unique_count": 171
         }
        },
        {
         "dtype": "float64",
         "name": "Blood Urea (mgs/dL)",
         "stats": {
          "histogram": [
           {
            "bin_end": 40.45,
            "bin_start": 1.5,
            "count": 197
           },
           {
            "bin_end": 79.4,
            "bin_start": 40.45,
            "count": 125
           },
           {
            "bin_end": 118.35000000000001,
            "bin_start": 79.4,
            "count": 39
           },
           {
            "bin_end": 157.3,
            "bin_start": 118.35000000000001,
            "count": 18
           },
           {
            "bin_end": 196.25,
            "bin_start": 157.3,
            "count": 10
           },
           {
            "bin_end": 235.20000000000002,
            "bin_start": 196.25,
            "count": 7
           },
           {
            "bin_end": 274.15000000000003,
            "bin_start": 235.20000000000002,
            "count": 1
           },
           {
            "bin_end": 313.1,
            "bin_start": 274.15000000000003,
            "count": 1
           },
           {
            "bin_end": 352.05,
            "bin_start": 313.1,
            "count": 1
           },
           {
            "bin_end": 391,
            "bin_start": 352.05,
            "count": 1
           }
          ],
          "max": "391.0",
          "min": "1.5",
          "nan_count": 0,
          "unique_count": 125
         }
        },
        {
         "dtype": "float64",
         "name": "Serum Creatinine (mgs/dL)",
         "stats": {
          "histogram": [
           {
            "bin_end": 7.96,
            "bin_start": 0.4,
            "count": 371
           },
           {
            "bin_end": 15.52,
            "bin_start": 7.96,
            "count": 21
           },
           {
            "bin_end": 23.08,
            "bin_start": 15.52,
            "count": 4
           },
           {
            "bin_end": 30.639999999999997,
            "bin_start": 23.08,
            "count": 1
           },
           {
            "bin_end": 38.199999999999996,
            "bin_start": 30.639999999999997,
            "count": 1
           },
           {
            "bin_end": 45.76,
            "bin_start": 38.199999999999996,
            "count": 0
           },
           {
            "bin_end": 53.31999999999999,
            "bin_start": 45.76,
            "count": 1
           },
           {
            "bin_end": 60.879999999999995,
            "bin_start": 53.31999999999999,
            "count": 0
           },
           {
            "bin_end": 68.44,
            "bin_start": 60.879999999999995,
            "count": 0
           },
           {
            "bin_end": 76,
            "bin_start": 68.44,
            "count": 1
           }
          ],
          "max": "76.0",
          "min": "0.4",
          "nan_count": 0,
          "unique_count": 89
         }
        },
        {
         "dtype": "float64",
         "name": "Sodium (mEq/L)",
         "stats": {
          "histogram": [
           {
            "bin_end": 20.35,
            "bin_start": 4.5,
            "count": 1
           },
           {
            "bin_end": 36.2,
            "bin_start": 20.35,
            "count": 0
           },
           {
            "bin_end": 52.05,
            "bin_start": 36.2,
            "count": 0
           },
           {
            "bin_end": 67.9,
            "bin_start": 52.05,
            "count": 0
           },
           {
            "bin_end": 83.75,
            "bin_start": 67.9,
            "count": 0
           },
           {
            "bin_end": 99.6,
            "bin_start": 83.75,
            "count": 0
           },
           {
            "bin_end": 115.45,
            "bin_start": 99.6,
            "count": 7
           },
           {
            "bin_end": 131.3,
            "bin_start": 115.45,
            "count": 32
           },
           {
            "bin_end": 147.15,
            "bin_start": 131.3,
            "count": 342
           },
           {
            "bin_end": 163,
            "bin_start": 147.15,
            "count": 18
           }
          ],
          "max": "163.0",
          "min": "4.5",
          "nan_count": 0,
          "unique_count": 40
         }
        },
        {
         "dtype": "float64",
         "name": "Potassium (mEq/L)",
         "stats": {
          "histogram": [
           {
            "bin_end": 6.95,
            "bin_start": 2.5,
            "count": 397
           },
           {
            "bin_end": 11.4,
            "bin_start": 6.95,
            "count": 1
           },
           {
            "bin_end": 15.850000000000001,
            "bin_start": 11.4,
            "count": 0
           },
           {
            "bin_end": 20.3,
            "bin_start": 15.850000000000001,
            "count": 0
           },
           {
            "bin_end": 24.75,
            "bin_start": 20.3,
            "count": 0
           },
           {
            "bin_end": 29.200000000000003,
            "bin_start": 24.75,
            "count": 0
           },
           {
            "bin_end": 33.650000000000006,
            "bin_start": 29.200000000000003,
            "count": 0
           },
           {
            "bin_end": 38.1,
            "bin_start": 33.650000000000006,
            "count": 0
           },
           {
            "bin_end": 42.550000000000004,
            "bin_start": 38.1,
            "count": 1
           },
           {
            "bin_end": 47,
            "bin_start": 42.550000000000004,
            "count": 1
           }
          ],
          "max": "47.0",
          "min": "2.5",
          "nan_count": 0,
          "unique_count": 57
         }
        },
        {
         "dtype": "float64",
         "name": "Hemoglobin (gms)",
         "stats": {
          "histogram": [
           {
            "bin_end": 4.57,
            "bin_start": 3.1,
            "count": 1
           },
           {
            "bin_end": 6.040000000000001,
            "bin_start": 4.57,
            "count": 6
           },
           {
            "bin_end": 7.51,
            "bin_start": 6.040000000000001,
            "count": 8
           },
           {
            "bin_end": 8.98,
            "bin_start": 7.51,
            "count": 26
           },
           {
            "bin_end": 10.450000000000001,
            "bin_start": 8.98,
            "count": 57
           },
           {
            "bin_end": 11.92,
            "bin_start": 10.450000000000001,
            "count": 85
           },
           {
            "bin_end": 13.39,
            "bin_start": 11.92,
            "count": 56
           },
           {
            "bin_end": 14.860000000000001,
            "bin_start": 13.39,
            "count": 62
           },
           {
            "bin_end": 16.330000000000002,
            "bin_start": 14.860000000000001,
            "count": 68
           },
           {
            "bin_end": 17.8,
            "bin_start": 16.330000000000002,
            "count": 31
           }
          ],
          "max": "17.8",
          "min": "3.1",
          "nan_count": 0,
          "unique_count": 142
         }
        },
        {
         "dtype": "float64",
         "name": "White Blood Cells (cells/cmm)",
         "stats": {
          "histogram": [
           {
            "bin_end": 4620,
            "bin_start": 2200,
            "count": 19
           },
           {
            "bin_end": 7040,
            "bin_start": 4620,
            "count": 110
           },
           {
            "bin_end": 9460,
            "bin_start": 7040,
            "count": 158
           },
           {
            "bin_end": 11880,
            "bin_start": 9460,
            "count": 87
           },
           {
            "bin_end": 14300,
            "bin_start": 11880,
            "count": 14
           },
           {
            "bin_end": 16720,
            "bin_start": 14300,
            "count": 8
           },
           {
            "bin_end": 19140,
            "bin_start": 16720,
            "count": 2
           },
           {
            "bin_end": 21560,
            "bin_start": 19140,
            "count": 0
           },
           {
            "bin_end": 23980,
            "bin_start": 21560,
            "count": 1
           },
           {
            "bin_end": 26400,
            "bin_start": 23980,
            "count": 1
           }
          ],
          "max": "26400.0",
          "min": "2200.0",
          "nan_count": 0,
          "unique_count": 134
         }
        },
        {
         "dtype": "int64",
         "name": "Appetite: poor",
         "stats": {
          "histogram": [
           {
            "bin_end": 0.1,
            "bin_start": 0,
            "count": 318
           },
           {
            "bin_end": 0.2,
            "bin_start": 0.1,
            "count": 0
           },
           {
            "bin_end": 0.30000000000000004,
            "bin_start": 0.2,
            "count": 0
           },
           {
            "bin_end": 0.4,
            "bin_start": 0.30000000000000004,
            "count": 0
           },
           {
            "bin_end": 0.5,
            "bin_start": 0.4,
            "count": 0
           },
           {
            "bin_end": 0.6000000000000001,
            "bin_start": 0.5,
            "count": 0
           },
           {
            "bin_end": 0.7000000000000001,
            "bin_start": 0.6000000000000001,
            "count": 0
           },
           {
            "bin_end": 0.8,
            "bin_start": 0.7000000000000001,
            "count": 0
           },
           {
            "bin_end": 0.9,
            "bin_start": 0.8,
            "count": 0
           },
           {
            "bin_end": 1,
            "bin_start": 0.9,
            "count": 82
           }
          ],
          "max": "1",
          "min": "0",
          "nan_count": 0,
          "unique_count": 2
         }
        },
        {
         "dtype": "float64",
         "name": "Red Blood Cells (millions/cmm)",
         "stats": {
          "histogram": [
           {
            "bin_end": 2.6900000000000004,
            "bin_start": 2.1,
            "count": 9
           },
           {
            "bin_end": 3.2800000000000002,
            "bin_start": 2.6900000000000004,
            "count": 20
           },
           {
            "bin_end": 3.87,
            "bin_start": 3.2800000000000002,
            "count": 56
           },
           {
            "bin_end": 4.460000000000001,
            "bin_start": 3.87,
            "count": 73
           },
           {
            "bin_end": 5.050000000000001,
            "bin_start": 4.460000000000001,
            "count": 128
           },
           {
            "bin_end": 5.640000000000001,
            "bin_start": 5.050000000000001,
            "count": 60
           },
           {
            "bin_end": 6.23,
            "bin_start": 5.640000000000001,
            "count": 39
           },
           {
            "bin_end": 6.82,
            "bin_start": 6.23,
            "count": 14
           },
           {
            "bin_end": 7.41,
            "bin_start": 6.82,
            "count": 0
           },
           {
            "bin_end": 8,
            "bin_start": 7.41,
            "count": 1
           }
          ],
          "max": "8.0",
          "min": "2.1",
          "nan_count": 0,
          "unique_count": 69
         }
        },
        {
         "dtype": "int64",
         "name": "Hypertension: yes",
         "stats": {
          "histogram": [
           {
            "bin_end": 0.1,
            "bin_start": 0,
            "count": 253
           },
           {
            "bin_end": 0.2,
            "bin_start": 0.1,
            "count": 0
           },
           {
            "bin_end": 0.30000000000000004,
            "bin_start": 0.2,
            "count": 0
           },
           {
            "bin_end": 0.4,
            "bin_start": 0.30000000000000004,
            "count": 0
           },
           {
            "bin_end": 0.5,
            "bin_start": 0.4,
            "count": 0
           },
           {
            "bin_end": 0.6000000000000001,
            "bin_start": 0.5,
            "count": 0
           },
           {
            "bin_end": 0.7000000000000001,
            "bin_start": 0.6000000000000001,
            "count": 0
           },
           {
            "bin_end": 0.8,
            "bin_start": 0.7000000000000001,
            "count": 0
           },
           {
            "bin_end": 0.9,
            "bin_start": 0.8,
            "count": 0
           },
           {
            "bin_end": 1,
            "bin_start": 0.9,
            "count": 147
           }
          ],
          "max": "1",
          "min": "0",
          "nan_count": 0,
          "unique_count": 2
         }
        },
        {
         "dtype": "int64",
         "name": "Bacteria: present",
         "stats": {
          "histogram": [
           {
            "bin_end": 0.1,
            "bin_start": 0,
            "count": 378
           },
           {
            "bin_end": 0.2,
            "bin_start": 0.1,
            "count": 0
           },
           {
            "bin_end": 0.30000000000000004,
            "bin_start": 0.2,
            "count": 0
           },
           {
            "bin_end": 0.4,
            "bin_start": 0.30000000000000004,
            "count": 0
           },
           {
            "bin_end": 0.5,
            "bin_start": 0.4,
            "count": 0
           },
           {
            "bin_end": 0.6000000000000001,
            "bin_start": 0.5,
            "count": 0
           },
           {
            "bin_end": 0.7000000000000001,
            "bin_start": 0.6000000000000001,
            "count": 0
           },
           {
            "bin_end": 0.8,
            "bin_start": 0.7000000000000001,
            "count": 0
           },
           {
            "bin_end": 0.9,
            "bin_start": 0.8,
            "count": 0
           },
           {
            "bin_end": 1,
            "bin_start": 0.9,
            "count": 22
           }
          ],
          "max": "1",
          "min": "0",
          "nan_count": 0,
          "unique_count": 2
         }
        },
        {
         "dtype": "int64",
         "name": "Diabetes Mellitus: yes",
         "stats": {
          "histogram": [
           {
            "bin_end": 0.1,
            "bin_start": 0,
            "count": 263
           },
           {
            "bin_end": 0.2,
            "bin_start": 0.1,
            "count": 0
           },
           {
            "bin_end": 0.30000000000000004,
            "bin_start": 0.2,
            "count": 0
           },
           {
            "bin_end": 0.4,
            "bin_start": 0.30000000000000004,
            "count": 0
           },
           {
            "bin_end": 0.5,
            "bin_start": 0.4,
            "count": 0
           },
           {
            "bin_end": 0.6000000000000001,
            "bin_start": 0.5,
            "count": 0
           },
           {
            "bin_end": 0.7000000000000001,
            "bin_start": 0.6000000000000001,
            "count": 0
           },
           {
            "bin_end": 0.8,
            "bin_start": 0.7000000000000001,
            "count": 0
           },
           {
            "bin_end": 0.9,
            "bin_start": 0.8,
            "count": 0
           },
           {
            "bin_end": 1,
            "bin_start": 0.9,
            "count": 137
           }
          ],
          "max": "1",
          "min": "0",
          "nan_count": 0,
          "unique_count": 2
         }
        },
        {
         "dtype": "int64",
         "name": "Coronary Artery Disease: yes",
         "stats": {
          "histogram": [
           {
            "bin_end": 0.1,
            "bin_start": 0,
            "count": 366
           },
           {
            "bin_end": 0.2,
            "bin_start": 0.1,
            "count": 0
           },
           {
            "bin_end": 0.30000000000000004,
            "bin_start": 0.2,
            "count": 0
           },
           {
            "bin_end": 0.4,
            "bin_start": 0.30000000000000004,
            "count": 0
           },
           {
            "bin_end": 0.5,
            "bin_start": 0.4,
            "count": 0
           },
           {
            "bin_end": 0.6000000000000001,
            "bin_start": 0.5,
            "count": 0
           },
           {
            "bin_end": 0.7000000000000001,
            "bin_start": 0.6000000000000001,
            "count": 0
           },
           {
            "bin_end": 0.8,
            "bin_start": 0.7000000000000001,
            "count": 0
           },
           {
            "bin_end": 0.9,
            "bin_start": 0.8,
            "count": 0
           },
           {
            "bin_end": 1,
            "bin_start": 0.9,
            "count": 34
           }
          ],
          "max": "1",
          "min": "0",
          "nan_count": 0,
          "unique_count": 2
         }
        },
        {
         "dtype": "int64",
         "name": "Anemia: yes",
         "stats": {
          "histogram": [
           {
            "bin_end": 0.1,
            "bin_start": 0,
            "count": 340
           },
           {
            "bin_end": 0.2,
            "bin_start": 0.1,
            "count": 0
           },
           {
            "bin_end": 0.30000000000000004,
            "bin_start": 0.2,
            "count": 0
           },
           {
            "bin_end": 0.4,
            "bin_start": 0.30000000000000004,
            "count": 0
           },
           {
            "bin_end": 0.5,
            "bin_start": 0.4,
            "count": 0
           },
           {
            "bin_end": 0.6000000000000001,
            "bin_start": 0.5,
            "count": 0
           },
           {
            "bin_end": 0.7000000000000001,
            "bin_start": 0.6000000000000001,
            "count": 0
           },
           {
            "bin_end": 0.8,
            "bin_start": 0.7000000000000001,
            "count": 0
           },
           {
            "bin_end": 0.9,
            "bin_start": 0.8,
            "count": 0
           },
           {
            "bin_end": 1,
            "bin_start": 0.9,
            "count": 60
           }
          ],
          "max": "1",
          "min": "0",
          "nan_count": 0,
          "unique_count": 2
         }
        },
        {
         "dtype": "int64",
         "name": "Chronic Kidney Disease: yes",
         "stats": {
          "histogram": [
           {
            "bin_end": 0.1,
            "bin_start": 0,
            "count": 150
           },
           {
            "bin_end": 0.2,
            "bin_start": 0.1,
            "count": 0
           },
           {
            "bin_end": 0.30000000000000004,
            "bin_start": 0.2,
            "count": 0
           },
           {
            "bin_end": 0.4,
            "bin_start": 0.30000000000000004,
            "count": 0
           },
           {
            "bin_end": 0.5,
            "bin_start": 0.4,
            "count": 0
           },
           {
            "bin_end": 0.6000000000000001,
            "bin_start": 0.5,
            "count": 0
           },
           {
            "bin_end": 0.7000000000000001,
            "bin_start": 0.6000000000000001,
            "count": 0
           },
           {
            "bin_end": 0.8,
            "bin_start": 0.7000000000000001,
            "count": 0
           },
           {
            "bin_end": 0.9,
            "bin_start": 0.8,
            "count": 0
           },
           {
            "bin_end": 1,
            "bin_start": 0.9,
            "count": 250
           }
          ],
          "max": "1",
          "min": "0",
          "nan_count": 0,
          "unique_count": 2
         }
        },
        {
         "dtype": "int64",
         "name": "_deepnote_index_column"
        }
       ],
       "row_count": 400,
       "rows": [
        {
         "Anemia: yes": 0,
         "Appetite: poor": 0,
         "Bacteria: present": 0,
         "Blood Glucose Random (mgs/dL)": 121,
         "Blood Urea (mgs/dL)": 36,
         "Chronic Kidney Disease: yes": 1,
         "Coronary Artery Disease: yes": 0,
         "Diabetes Mellitus: yes": 1,
         "Hemoglobin (gms)": 15.4,
         "Hypertension: yes": 1,
         "Potassium (mEq/L)": 4.7,
         "Red Blood Cells (millions/cmm)": 5.2,
         "Serum Creatinine (mgs/dL)": 1.2,
         "Sodium (mEq/L)": 136,
         "White Blood Cells (cells/cmm)": 7800,
         "_deepnote_index_column": 0,
         "patient_age": 48,
         "patient_bp": 80,
         "patient_sg": 1.02
        },
        {
         "Anemia: yes": 0,
         "Appetite: poor": 0,
         "Bacteria: present": 0,
         "Blood Glucose Random (mgs/dL)": 90.31658119,
         "Blood Urea (mgs/dL)": 18,
         "Chronic Kidney Disease: yes": 1,
         "Coronary Artery Disease: yes": 0,
         "Diabetes Mellitus: yes": 0,
         "Hemoglobin (gms)": 11.3,
         "Hypertension: yes": 0,
         "Potassium (mEq/L)": 4,
         "Red Blood Cells (millions/cmm)": 4.721717463,
         "Serum Creatinine (mgs/dL)": 0.8,
         "Sodium (mEq/L)": 140,
         "White Blood Cells (cells/cmm)": 6000,
         "_deepnote_index_column": 1,
         "patient_age": 7,
         "patient_bp": 50,
         "patient_sg": 1.02
        },
        {
         "Anemia: yes": 1,
         "Appetite: poor": 1,
         "Bacteria: present": 0,
         "Blood Glucose Random (mgs/dL)": 423,
         "Blood Urea (mgs/dL)": 53,
         "Chronic Kidney Disease: yes": 1,
         "Coronary Artery Disease: yes": 0,
         "Diabetes Mellitus: yes": 1,
         "Hemoglobin (gms)": 9.6,
         "Hypertension: yes": 0,
         "Potassium (mEq/L)": 4.8,
         "Red Blood Cells (millions/cmm)": 3.4,
         "Serum Creatinine (mgs/dL)": 1.8,
         "Sodium (mEq/L)": 135,
         "White Blood Cells (cells/cmm)": 7500,
         "_deepnote_index_column": 2,
         "patient_age": 62,
         "patient_bp": 80,
         "patient_sg": 1.01
        },
        {
         "Anemia: yes": 1,
         "Appetite: poor": 1,
         "Bacteria: present": 0,
         "Blood Glucose Random (mgs/dL)": 117,
         "Blood Urea (mgs/dL)": 56,
         "Chronic Kidney Disease: yes": 1,
         "Coronary Artery Disease: yes": 0,
         "Diabetes Mellitus: yes": 0,
         "Hemoglobin (gms)": 11.2,
         "Hypertension: yes": 1,
         "Potassium (mEq/L)": 2.5,
         "Red Blood Cells (millions/cmm)": 3.9,
         "Serum Creatinine (mgs/dL)": 3.8,
         "Sodium (mEq/L)": 111,
         "White Blood Cells (cells/cmm)": 6700,
         "_deepnote_index_column": 3,
         "patient_age": 48,
         "patient_bp": 70,
         "patient_sg": 1.005
        },
        {
         "Anemia: yes": 0,
         "Appetite: poor": 0,
         "Bacteria: present": 0,
         "Blood Glucose Random (mgs/dL)": 106,
         "Blood Urea (mgs/dL)": 26,
         "Chronic Kidney Disease: yes": 1,
         "Coronary Artery Disease: yes": 0,
         "Diabetes Mellitus: yes": 0,
         "Hemoglobin (gms)": 11.6,
         "Hypertension: yes": 0,
         "Potassium (mEq/L)": 4,
         "Red Blood Cells (millions/cmm)": 4.6,
         "Serum Creatinine (mgs/dL)": 1.4,
         "Sodium (mEq/L)": 140,
         "White Blood Cells (cells/cmm)": 7300,
         "_deepnote_index_column": 4,
         "patient_age": 51,
         "patient_bp": 80,
         "patient_sg": 1.01
        },
        {
         "Anemia: yes": 0,
         "Appetite: poor": 0,
         "Bacteria: present": 0,
         "Blood Glucose Random (mgs/dL)": 74,
         "Blood Urea (mgs/dL)": 25,
         "Chronic Kidney Disease: yes": 1,
         "Coronary Artery Disease: yes": 0,
         "Diabetes Mellitus: yes": 1,
         "Hemoglobin (gms)": 12.2,
         "Hypertension: yes": 1,
         "Potassium (mEq/L)": 3.2,
         "Red Blood Cells (millions/cmm)": 4.4,
         "Serum Creatinine (mgs/dL)": 1.1,
         "Sodium (mEq/L)": 142,
         "White Blood Cells (cells/cmm)": 7800,
         "_deepnote_index_column": 5,
         "patient_age": 60,
         "patient_bp": 90,
         "patient_sg": 1.015
        },
        {
         "Anemia: yes": 0,
         "Appetite: poor": 0,
         "Bacteria: present": 0,
         "Blood Glucose Random (mgs/dL)": 100,
         "Blood Urea (mgs/dL)": 54,
         "Chronic Kidney Disease: yes": 1,
         "Coronary Artery Disease: yes": 0,
         "Diabetes Mellitus: yes": 0,
         "Hemoglobin (gms)": 12.4,
         "Hypertension: yes": 0,
         "Potassium (mEq/L)": 4,
         "Red Blood Cells (millions/cmm)": 4.79153164,
         "Serum Creatinine (mgs/dL)": 24,
         "Sodium (mEq/L)": 104,
         "White Blood Cells (cells/cmm)": 8200,
         "_deepnote_index_column": 6,
         "patient_age": 68,
         "patient_bp": 70,
         "patient_sg": 1.01
        },
        {
         "Anemia: yes": 0,
         "Appetite: poor": 0,
         "Bacteria: present": 0,
         "Blood Glucose Random (mgs/dL)": 410,
         "Blood Urea (mgs/dL)": 31,
         "Chronic Kidney Disease: yes": 1,
         "Coronary Artery Disease: yes": 0,
         "Diabetes Mellitus: yes": 1,
         "Hemoglobin (gms)": 12.4,
         "Hypertension: yes": 0,
         "Potassium (mEq/L)": 4.2,
         "Red Blood Cells (millions/cmm)": 5,
         "Serum Creatinine (mgs/dL)": 1.1,
         "Sodium (mEq/L)": 138,
         "White Blood Cells (cells/cmm)": 6900,
         "_deepnote_index_column": 7,
         "patient_age": 24,
         "patient_bp": 60,
         "patient_sg": 1.015
        },
        {
         "Anemia: yes": 1,
         "Appetite: poor": 0,
         "Bacteria: present": 0,
         "Blood Glucose Random (mgs/dL)": 138,
         "Blood Urea (mgs/dL)": 60,
         "Chronic Kidney Disease: yes": 1,
         "Coronary Artery Disease: yes": 0,
         "Diabetes Mellitus: yes": 1,
         "Hemoglobin (gms)": 10.8,
         "Hypertension: yes": 1,
         "Potassium (mEq/L)": 5,
         "Red Blood Cells (millions/cmm)": 4,
         "Serum Creatinine (mgs/dL)": 1.9,
         "Sodium (mEq/L)": 135,
         "White Blood Cells (cells/cmm)": 9600,
         "_deepnote_index_column": 8,
         "patient_age": 52,
         "patient_bp": 100,
         "patient_sg": 1.015
        },
        {
         "Anemia: yes": 1,
         "Appetite: poor": 1,
         "Bacteria: present": 0,
         "Blood Glucose Random (mgs/dL)": 70,
         "Blood Urea (mgs/dL)": 107,
         "Chronic Kidney Disease: yes": 1,
         "Coronary Artery Disease: yes": 0,
         "Diabetes Mellitus: yes": 1,
         "Hemoglobin (gms)": 9.5,
         "Hypertension: yes": 1,
         "Potassium (mEq/L)": 3.7,
         "Red Blood Cells (millions/cmm)": 3.7,
         "Serum Creatinine (mgs/dL)": 7.2,
         "Sodium (mEq/L)": 114,
         "White Blood Cells (cells/cmm)": 12100,
         "_deepnote_index_column": 9,
         "patient_age": 53,
         "patient_bp": 90,
         "patient_sg": 1.02
        }
       ]
      },
      "text/html": [
       "<div>\n",
       "<style scoped>\n",
       "    .dataframe tbody tr th:only-of-type {\n",
       "        vertical-align: middle;\n",
       "    }\n",
       "\n",
       "    .dataframe tbody tr th {\n",
       "        vertical-align: top;\n",
       "    }\n",
       "\n",
       "    .dataframe thead th {\n",
       "        text-align: right;\n",
       "    }\n",
       "</style>\n",
       "<table border=\"1\" class=\"dataframe\">\n",
       "  <thead>\n",
       "    <tr style=\"text-align: right;\">\n",
       "      <th></th>\n",
       "      <th>patient_age</th>\n",
       "      <th>patient_bp</th>\n",
       "      <th>patient_sg</th>\n",
       "      <th>Blood Glucose Random (mgs/dL)</th>\n",
       "      <th>Blood Urea (mgs/dL)</th>\n",
       "      <th>Serum Creatinine (mgs/dL)</th>\n",
       "      <th>Sodium (mEq/L)</th>\n",
       "      <th>Potassium (mEq/L)</th>\n",
       "      <th>Hemoglobin (gms)</th>\n",
       "      <th>White Blood Cells (cells/cmm)</th>\n",
       "      <th>Appetite: poor</th>\n",
       "      <th>Red Blood Cells (millions/cmm)</th>\n",
       "      <th>Hypertension: yes</th>\n",
       "      <th>Bacteria: present</th>\n",
       "      <th>Diabetes Mellitus: yes</th>\n",
       "      <th>Coronary Artery Disease: yes</th>\n",
       "      <th>Anemia: yes</th>\n",
       "      <th>Chronic Kidney Disease: yes</th>\n",
       "    </tr>\n",
       "  </thead>\n",
       "  <tbody>\n",
       "    <tr>\n",
       "      <th>0</th>\n",
       "      <td>48.0</td>\n",
       "      <td>80</td>\n",
       "      <td>1.020</td>\n",
       "      <td>121.000000</td>\n",
       "      <td>36.0</td>\n",
       "      <td>1.2</td>\n",
       "      <td>136.0</td>\n",
       "      <td>4.7</td>\n",
       "      <td>15.4</td>\n",
       "      <td>7800.0</td>\n",
       "      <td>0</td>\n",
       "      <td>5.200000</td>\n",
       "      <td>1</td>\n",
       "      <td>0</td>\n",
       "      <td>1</td>\n",
       "      <td>0</td>\n",
       "      <td>0</td>\n",
       "      <td>1</td>\n",
       "    </tr>\n",
       "    <tr>\n",
       "      <th>1</th>\n",
       "      <td>7.0</td>\n",
       "      <td>50</td>\n",
       "      <td>1.020</td>\n",
       "      <td>90.316581</td>\n",
       "      <td>18.0</td>\n",
       "      <td>0.8</td>\n",
       "      <td>140.0</td>\n",
       "      <td>4.0</td>\n",
       "      <td>11.3</td>\n",
       "      <td>6000.0</td>\n",
       "      <td>0</td>\n",
       "      <td>4.721717</td>\n",
       "      <td>0</td>\n",
       "      <td>0</td>\n",
       "      <td>0</td>\n",
       "      <td>0</td>\n",
       "      <td>0</td>\n",
       "      <td>1</td>\n",
       "    </tr>\n",
       "    <tr>\n",
       "      <th>2</th>\n",
       "      <td>62.0</td>\n",
       "      <td>80</td>\n",
       "      <td>1.010</td>\n",
       "      <td>423.000000</td>\n",
       "      <td>53.0</td>\n",
       "      <td>1.8</td>\n",
       "      <td>135.0</td>\n",
       "      <td>4.8</td>\n",
       "      <td>9.6</td>\n",
       "      <td>7500.0</td>\n",
       "      <td>1</td>\n",
       "      <td>3.400000</td>\n",
       "      <td>0</td>\n",
       "      <td>0</td>\n",
       "      <td>1</td>\n",
       "      <td>0</td>\n",
       "      <td>1</td>\n",
       "      <td>1</td>\n",
       "    </tr>\n",
       "    <tr>\n",
       "      <th>3</th>\n",
       "      <td>48.0</td>\n",
       "      <td>70</td>\n",
       "      <td>1.005</td>\n",
       "      <td>117.000000</td>\n",
       "      <td>56.0</td>\n",
       "      <td>3.8</td>\n",
       "      <td>111.0</td>\n",
       "      <td>2.5</td>\n",
       "      <td>11.2</td>\n",
       "      <td>6700.0</td>\n",
       "      <td>1</td>\n",
       "      <td>3.900000</td>\n",
       "      <td>1</td>\n",
       "      <td>0</td>\n",
       "      <td>0</td>\n",
       "      <td>0</td>\n",
       "      <td>1</td>\n",
       "      <td>1</td>\n",
       "    </tr>\n",
       "    <tr>\n",
       "      <th>4</th>\n",
       "      <td>51.0</td>\n",
       "      <td>80</td>\n",
       "      <td>1.010</td>\n",
       "      <td>106.000000</td>\n",
       "      <td>26.0</td>\n",
       "      <td>1.4</td>\n",
       "      <td>140.0</td>\n",
       "      <td>4.0</td>\n",
       "      <td>11.6</td>\n",
       "      <td>7300.0</td>\n",
       "      <td>0</td>\n",
       "      <td>4.600000</td>\n",
       "      <td>0</td>\n",
       "      <td>0</td>\n",
       "      <td>0</td>\n",
       "      <td>0</td>\n",
       "      <td>0</td>\n",
       "      <td>1</td>\n",
       "    </tr>\n",
       "    <tr>\n",
       "      <th>...</th>\n",
       "      <td>...</td>\n",
       "      <td>...</td>\n",
       "      <td>...</td>\n",
       "      <td>...</td>\n",
       "      <td>...</td>\n",
       "      <td>...</td>\n",
       "      <td>...</td>\n",
       "      <td>...</td>\n",
       "      <td>...</td>\n",
       "      <td>...</td>\n",
       "      <td>...</td>\n",
       "      <td>...</td>\n",
       "      <td>...</td>\n",
       "      <td>...</td>\n",
       "      <td>...</td>\n",
       "      <td>...</td>\n",
       "      <td>...</td>\n",
       "      <td>...</td>\n",
       "    </tr>\n",
       "    <tr>\n",
       "      <th>395</th>\n",
       "      <td>55.0</td>\n",
       "      <td>80</td>\n",
       "      <td>1.020</td>\n",
       "      <td>140.000000</td>\n",
       "      <td>49.0</td>\n",
       "      <td>0.5</td>\n",
       "      <td>150.0</td>\n",
       "      <td>4.9</td>\n",
       "      <td>15.7</td>\n",
       "      <td>6700.0</td>\n",
       "      <td>0</td>\n",
       "      <td>4.900000</td>\n",
       "      <td>0</td>\n",
       "      <td>0</td>\n",
       "      <td>0</td>\n",
       "      <td>0</td>\n",
       "      <td>0</td>\n",
       "      <td>0</td>\n",
       "    </tr>\n",
       "    <tr>\n",
       "      <th>396</th>\n",
       "      <td>42.0</td>\n",
       "      <td>70</td>\n",
       "      <td>1.025</td>\n",
       "      <td>75.000000</td>\n",
       "      <td>31.0</td>\n",
       "      <td>1.2</td>\n",
       "      <td>141.0</td>\n",
       "      <td>3.5</td>\n",
       "      <td>16.5</td>\n",
       "      <td>7800.0</td>\n",
       "      <td>0</td>\n",
       "      <td>6.200000</td>\n",
       "      <td>0</td>\n",
       "      <td>0</td>\n",
       "      <td>0</td>\n",
       "      <td>0</td>\n",
       "      <td>0</td>\n",
       "      <td>0</td>\n",
       "    </tr>\n",
       "    <tr>\n",
       "      <th>397</th>\n",
       "      <td>12.0</td>\n",
       "      <td>80</td>\n",
       "      <td>1.020</td>\n",
       "      <td>100.000000</td>\n",
       "      <td>26.0</td>\n",
       "      <td>0.6</td>\n",
       "      <td>137.0</td>\n",
       "      <td>4.4</td>\n",
       "      <td>15.8</td>\n",
       "      <td>6600.0</td>\n",
       "      <td>0</td>\n",
       "      <td>5.400000</td>\n",
       "      <td>0</td>\n",
       "      <td>0</td>\n",
       "      <td>0</td>\n",
       "      <td>0</td>\n",
       "      <td>0</td>\n",
       "      <td>0</td>\n",
       "    </tr>\n",
       "    <tr>\n",
       "      <th>398</th>\n",
       "      <td>17.0</td>\n",
       "      <td>60</td>\n",
       "      <td>1.025</td>\n",
       "      <td>114.000000</td>\n",
       "      <td>50.0</td>\n",
       "      <td>1.0</td>\n",
       "      <td>135.0</td>\n",
       "      <td>4.9</td>\n",
       "      <td>14.2</td>\n",
       "      <td>7200.0</td>\n",
       "      <td>0</td>\n",
       "      <td>5.900000</td>\n",
       "      <td>0</td>\n",
       "      <td>0</td>\n",
       "      <td>0</td>\n",
       "      <td>0</td>\n",
       "      <td>0</td>\n",
       "      <td>0</td>\n",
       "    </tr>\n",
       "    <tr>\n",
       "      <th>399</th>\n",
       "      <td>58.0</td>\n",
       "      <td>80</td>\n",
       "      <td>1.025</td>\n",
       "      <td>131.000000</td>\n",
       "      <td>18.0</td>\n",
       "      <td>1.1</td>\n",
       "      <td>141.0</td>\n",
       "      <td>3.5</td>\n",
       "      <td>15.8</td>\n",
       "      <td>6800.0</td>\n",
       "      <td>0</td>\n",
       "      <td>6.100000</td>\n",
       "      <td>0</td>\n",
       "      <td>0</td>\n",
       "      <td>0</td>\n",
       "      <td>0</td>\n",
       "      <td>0</td>\n",
       "      <td>0</td>\n",
       "    </tr>\n",
       "  </tbody>\n",
       "</table>\n",
       "<p>400 rows × 18 columns</p>\n",
       "</div>"
      ],
      "text/plain": [
       "     patient_age  patient_bp  patient_sg  Blood Glucose Random (mgs/dL)  \\\n",
       "0           48.0          80       1.020                     121.000000   \n",
       "1            7.0          50       1.020                      90.316581   \n",
       "2           62.0          80       1.010                     423.000000   \n",
       "3           48.0          70       1.005                     117.000000   \n",
       "4           51.0          80       1.010                     106.000000   \n",
       "..           ...         ...         ...                            ...   \n",
       "395         55.0          80       1.020                     140.000000   \n",
       "396         42.0          70       1.025                      75.000000   \n",
       "397         12.0          80       1.020                     100.000000   \n",
       "398         17.0          60       1.025                     114.000000   \n",
       "399         58.0          80       1.025                     131.000000   \n",
       "\n",
       "     Blood Urea (mgs/dL)  Serum Creatinine (mgs/dL)  Sodium (mEq/L)  \\\n",
       "0                   36.0                        1.2           136.0   \n",
       "1                   18.0                        0.8           140.0   \n",
       "2                   53.0                        1.8           135.0   \n",
       "3                   56.0                        3.8           111.0   \n",
       "4                   26.0                        1.4           140.0   \n",
       "..                   ...                        ...             ...   \n",
       "395                 49.0                        0.5           150.0   \n",
       "396                 31.0                        1.2           141.0   \n",
       "397                 26.0                        0.6           137.0   \n",
       "398                 50.0                        1.0           135.0   \n",
       "399                 18.0                        1.1           141.0   \n",
       "\n",
       "     Potassium (mEq/L)  Hemoglobin (gms)  White Blood Cells (cells/cmm)  \\\n",
       "0                  4.7              15.4                         7800.0   \n",
       "1                  4.0              11.3                         6000.0   \n",
       "2                  4.8               9.6                         7500.0   \n",
       "3                  2.5              11.2                         6700.0   \n",
       "4                  4.0              11.6                         7300.0   \n",
       "..                 ...               ...                            ...   \n",
       "395                4.9              15.7                         6700.0   \n",
       "396                3.5              16.5                         7800.0   \n",
       "397                4.4              15.8                         6600.0   \n",
       "398                4.9              14.2                         7200.0   \n",
       "399                3.5              15.8                         6800.0   \n",
       "\n",
       "     Appetite: poor  Red Blood Cells (millions/cmm)  Hypertension: yes  \\\n",
       "0                 0                        5.200000                  1   \n",
       "1                 0                        4.721717                  0   \n",
       "2                 1                        3.400000                  0   \n",
       "3                 1                        3.900000                  1   \n",
       "4                 0                        4.600000                  0   \n",
       "..              ...                             ...                ...   \n",
       "395               0                        4.900000                  0   \n",
       "396               0                        6.200000                  0   \n",
       "397               0                        5.400000                  0   \n",
       "398               0                        5.900000                  0   \n",
       "399               0                        6.100000                  0   \n",
       "\n",
       "     Bacteria: present  Diabetes Mellitus: yes  Coronary Artery Disease: yes  \\\n",
       "0                    0                       1                             0   \n",
       "1                    0                       0                             0   \n",
       "2                    0                       1                             0   \n",
       "3                    0                       0                             0   \n",
       "4                    0                       0                             0   \n",
       "..                 ...                     ...                           ...   \n",
       "395                  0                       0                             0   \n",
       "396                  0                       0                             0   \n",
       "397                  0                       0                             0   \n",
       "398                  0                       0                             0   \n",
       "399                  0                       0                             0   \n",
       "\n",
       "     Anemia: yes  Chronic Kidney Disease: yes  \n",
       "0              0                            1  \n",
       "1              0                            1  \n",
       "2              1                            1  \n",
       "3              1                            1  \n",
       "4              0                            1  \n",
       "..           ...                          ...  \n",
       "395            0                            0  \n",
       "396            0                            0  \n",
       "397            0                            0  \n",
       "398            0                            0  \n",
       "399            0                            0  \n",
       "\n",
       "[400 rows x 18 columns]"
      ]
     },
     "execution_count": 18,
     "metadata": {},
     "output_type": "execute_result"
    }
   ],
   "source": [
    "kidney_df.rename(columns={'Specific Gravity':  'patient_sg'}, inplace=True)\n",
    "kidney_df"
   ]
  },
  {
   "cell_type": "code",
   "execution_count": null,
   "metadata": {
    "cell_id": "9a3e737603144516963dcc043f68b658",
    "deepnote_cell_type": "code",
    "deepnote_to_be_reexecuted": false,
    "execution_millis": 144,
    "execution_start": 1724014513480,
    "source_hash": null
   },
   "outputs": [
    {
     "data": {
      "application/vnd.deepnote.dataframe.v3+json": {
       "column_count": 18,
       "columns": [
        {
         "dtype": "float64",
         "name": "patient_age",
         "stats": {
          "histogram": [
           {
            "bin_end": 10.8,
            "bin_start": 2,
            "count": 10
           },
           {
            "bin_end": 19.6,
            "bin_start": 10.8,
            "count": 11
           },
           {
            "bin_end": 28.400000000000002,
            "bin_start": 19.6,
            "count": 20
           },
           {
            "bin_end": 37.2,
            "bin_start": 28.400000000000002,
            "count": 39
           },
           {
            "bin_end": 46,
            "bin_start": 37.2,
            "count": 45
           },
           {
            "bin_end": 54.800000000000004,
            "bin_start": 46,
            "count": 74
           },
           {
            "bin_end": 63.60000000000001,
            "bin_start": 54.800000000000004,
            "count": 92
           },
           {
            "bin_end": 72.4,
            "bin_start": 63.60000000000001,
            "count": 78
           },
           {
            "bin_end": 81.2,
            "bin_start": 72.4,
            "count": 28
           },
           {
            "bin_end": 90,
            "bin_start": 81.2,
            "count": 3
           }
          ],
          "max": "90.0",
          "min": "2.0",
          "nan_count": 0,
          "unique_count": 79
         }
        },
        {
         "dtype": "int64",
         "name": "patient_bp",
         "stats": {
          "histogram": [
           {
            "bin_end": 63,
            "bin_start": 50,
            "count": 79
           },
           {
            "bin_end": 76,
            "bin_start": 63,
            "count": 118
           },
           {
            "bin_end": 89,
            "bin_start": 76,
            "count": 118
           },
           {
            "bin_end": 102,
            "bin_start": 89,
            "count": 79
           },
           {
            "bin_end": 115,
            "bin_start": 102,
            "count": 3
           },
           {
            "bin_end": 128,
            "bin_start": 115,
            "count": 1
           },
           {
            "bin_end": 141,
            "bin_start": 128,
            "count": 1
           },
           {
            "bin_end": 154,
            "bin_start": 141,
            "count": 0
           },
           {
            "bin_end": 167,
            "bin_start": 154,
            "count": 0
           },
           {
            "bin_end": 180,
            "bin_start": 167,
            "count": 1
           }
          ],
          "max": "180",
          "min": "50",
          "nan_count": 0,
          "unique_count": 10
         }
        },
        {
         "dtype": "float64",
         "name": "patient_sg",
         "stats": {
          "histogram": [
           {
            "bin_end": 1.007,
            "bin_start": 1.005,
            "count": 7
           },
           {
            "bin_end": 1.009,
            "bin_start": 1.007,
            "count": 0
           },
           {
            "bin_end": 1.011,
            "bin_start": 1.009,
            "count": 89
           },
           {
            "bin_end": 1.013,
            "bin_start": 1.011,
            "count": 0
           },
           {
            "bin_end": 1.015,
            "bin_start": 1.013,
            "count": 1
           },
           {
            "bin_end": 1.017,
            "bin_start": 1.015,
            "count": 94
           },
           {
            "bin_end": 1.019,
            "bin_start": 1.017,
            "count": 0
           },
           {
            "bin_end": 1.021,
            "bin_start": 1.019,
            "count": 119
           },
           {
            "bin_end": 1.023,
            "bin_start": 1.021,
            "count": 0
           },
           {
            "bin_end": 1.025,
            "bin_start": 1.023,
            "count": 90
           }
          ],
          "max": "1.025",
          "min": "1.005",
          "nan_count": 0,
          "unique_count": 6
         }
        },
        {
         "dtype": "float64",
         "name": "patient_blood_sugar",
         "stats": {
          "histogram": [
           {
            "bin_end": 68.8,
            "bin_start": 22,
            "count": 1
           },
           {
            "bin_end": 115.6,
            "bin_start": 68.8,
            "count": 180
           },
           {
            "bin_end": 162.39999999999998,
            "bin_start": 115.6,
            "count": 122
           },
           {
            "bin_end": 209.2,
            "bin_start": 162.39999999999998,
            "count": 28
           },
           {
            "bin_end": 256,
            "bin_start": 209.2,
            "count": 33
           },
           {
            "bin_end": 302.79999999999995,
            "bin_start": 256,
            "count": 15
           },
           {
            "bin_end": 349.59999999999997,
            "bin_start": 302.79999999999995,
            "count": 7
           },
           {
            "bin_end": 396.4,
            "bin_start": 349.59999999999997,
            "count": 4
           },
           {
            "bin_end": 443.2,
            "bin_start": 396.4,
            "count": 6
           },
           {
            "bin_end": 490,
            "bin_start": 443.2,
            "count": 4
           }
          ],
          "max": "490.0",
          "min": "22.0",
          "nan_count": 0,
          "unique_count": 171
         }
        },
        {
         "dtype": "float64",
         "name": "Blood Urea (mgs/dL)",
         "stats": {
          "histogram": [
           {
            "bin_end": 40.45,
            "bin_start": 1.5,
            "count": 197
           },
           {
            "bin_end": 79.4,
            "bin_start": 40.45,
            "count": 125
           },
           {
            "bin_end": 118.35000000000001,
            "bin_start": 79.4,
            "count": 39
           },
           {
            "bin_end": 157.3,
            "bin_start": 118.35000000000001,
            "count": 18
           },
           {
            "bin_end": 196.25,
            "bin_start": 157.3,
            "count": 10
           },
           {
            "bin_end": 235.20000000000002,
            "bin_start": 196.25,
            "count": 7
           },
           {
            "bin_end": 274.15000000000003,
            "bin_start": 235.20000000000002,
            "count": 1
           },
           {
            "bin_end": 313.1,
            "bin_start": 274.15000000000003,
            "count": 1
           },
           {
            "bin_end": 352.05,
            "bin_start": 313.1,
            "count": 1
           },
           {
            "bin_end": 391,
            "bin_start": 352.05,
            "count": 1
           }
          ],
          "max": "391.0",
          "min": "1.5",
          "nan_count": 0,
          "unique_count": 125
         }
        },
        {
         "dtype": "float64",
         "name": "Serum Creatinine (mgs/dL)",
         "stats": {
          "histogram": [
           {
            "bin_end": 7.96,
            "bin_start": 0.4,
            "count": 371
           },
           {
            "bin_end": 15.52,
            "bin_start": 7.96,
            "count": 21
           },
           {
            "bin_end": 23.08,
            "bin_start": 15.52,
            "count": 4
           },
           {
            "bin_end": 30.639999999999997,
            "bin_start": 23.08,
            "count": 1
           },
           {
            "bin_end": 38.199999999999996,
            "bin_start": 30.639999999999997,
            "count": 1
           },
           {
            "bin_end": 45.76,
            "bin_start": 38.199999999999996,
            "count": 0
           },
           {
            "bin_end": 53.31999999999999,
            "bin_start": 45.76,
            "count": 1
           },
           {
            "bin_end": 60.879999999999995,
            "bin_start": 53.31999999999999,
            "count": 0
           },
           {
            "bin_end": 68.44,
            "bin_start": 60.879999999999995,
            "count": 0
           },
           {
            "bin_end": 76,
            "bin_start": 68.44,
            "count": 1
           }
          ],
          "max": "76.0",
          "min": "0.4",
          "nan_count": 0,
          "unique_count": 89
         }
        },
        {
         "dtype": "float64",
         "name": "Sodium (mEq/L)",
         "stats": {
          "histogram": [
           {
            "bin_end": 20.35,
            "bin_start": 4.5,
            "count": 1
           },
           {
            "bin_end": 36.2,
            "bin_start": 20.35,
            "count": 0
           },
           {
            "bin_end": 52.05,
            "bin_start": 36.2,
            "count": 0
           },
           {
            "bin_end": 67.9,
            "bin_start": 52.05,
            "count": 0
           },
           {
            "bin_end": 83.75,
            "bin_start": 67.9,
            "count": 0
           },
           {
            "bin_end": 99.6,
            "bin_start": 83.75,
            "count": 0
           },
           {
            "bin_end": 115.45,
            "bin_start": 99.6,
            "count": 7
           },
           {
            "bin_end": 131.3,
            "bin_start": 115.45,
            "count": 32
           },
           {
            "bin_end": 147.15,
            "bin_start": 131.3,
            "count": 342
           },
           {
            "bin_end": 163,
            "bin_start": 147.15,
            "count": 18
           }
          ],
          "max": "163.0",
          "min": "4.5",
          "nan_count": 0,
          "unique_count": 40
         }
        },
        {
         "dtype": "float64",
         "name": "Potassium (mEq/L)",
         "stats": {
          "histogram": [
           {
            "bin_end": 6.95,
            "bin_start": 2.5,
            "count": 397
           },
           {
            "bin_end": 11.4,
            "bin_start": 6.95,
            "count": 1
           },
           {
            "bin_end": 15.850000000000001,
            "bin_start": 11.4,
            "count": 0
           },
           {
            "bin_end": 20.3,
            "bin_start": 15.850000000000001,
            "count": 0
           },
           {
            "bin_end": 24.75,
            "bin_start": 20.3,
            "count": 0
           },
           {
            "bin_end": 29.200000000000003,
            "bin_start": 24.75,
            "count": 0
           },
           {
            "bin_end": 33.650000000000006,
            "bin_start": 29.200000000000003,
            "count": 0
           },
           {
            "bin_end": 38.1,
            "bin_start": 33.650000000000006,
            "count": 0
           },
           {
            "bin_end": 42.550000000000004,
            "bin_start": 38.1,
            "count": 1
           },
           {
            "bin_end": 47,
            "bin_start": 42.550000000000004,
            "count": 1
           }
          ],
          "max": "47.0",
          "min": "2.5",
          "nan_count": 0,
          "unique_count": 57
         }
        },
        {
         "dtype": "float64",
         "name": "Hemoglobin (gms)",
         "stats": {
          "histogram": [
           {
            "bin_end": 4.57,
            "bin_start": 3.1,
            "count": 1
           },
           {
            "bin_end": 6.040000000000001,
            "bin_start": 4.57,
            "count": 6
           },
           {
            "bin_end": 7.51,
            "bin_start": 6.040000000000001,
            "count": 8
           },
           {
            "bin_end": 8.98,
            "bin_start": 7.51,
            "count": 26
           },
           {
            "bin_end": 10.450000000000001,
            "bin_start": 8.98,
            "count": 57
           },
           {
            "bin_end": 11.92,
            "bin_start": 10.450000000000001,
            "count": 85
           },
           {
            "bin_end": 13.39,
            "bin_start": 11.92,
            "count": 56
           },
           {
            "bin_end": 14.860000000000001,
            "bin_start": 13.39,
            "count": 62
           },
           {
            "bin_end": 16.330000000000002,
            "bin_start": 14.860000000000001,
            "count": 68
           },
           {
            "bin_end": 17.8,
            "bin_start": 16.330000000000002,
            "count": 31
           }
          ],
          "max": "17.8",
          "min": "3.1",
          "nan_count": 0,
          "unique_count": 142
         }
        },
        {
         "dtype": "float64",
         "name": "White Blood Cells (cells/cmm)",
         "stats": {
          "histogram": [
           {
            "bin_end": 4620,
            "bin_start": 2200,
            "count": 19
           },
           {
            "bin_end": 7040,
            "bin_start": 4620,
            "count": 110
           },
           {
            "bin_end": 9460,
            "bin_start": 7040,
            "count": 158
           },
           {
            "bin_end": 11880,
            "bin_start": 9460,
            "count": 87
           },
           {
            "bin_end": 14300,
            "bin_start": 11880,
            "count": 14
           },
           {
            "bin_end": 16720,
            "bin_start": 14300,
            "count": 8
           },
           {
            "bin_end": 19140,
            "bin_start": 16720,
            "count": 2
           },
           {
            "bin_end": 21560,
            "bin_start": 19140,
            "count": 0
           },
           {
            "bin_end": 23980,
            "bin_start": 21560,
            "count": 1
           },
           {
            "bin_end": 26400,
            "bin_start": 23980,
            "count": 1
           }
          ],
          "max": "26400.0",
          "min": "2200.0",
          "nan_count": 0,
          "unique_count": 134
         }
        },
        {
         "dtype": "int64",
         "name": "Appetite: poor",
         "stats": {
          "histogram": [
           {
            "bin_end": 0.1,
            "bin_start": 0,
            "count": 318
           },
           {
            "bin_end": 0.2,
            "bin_start": 0.1,
            "count": 0
           },
           {
            "bin_end": 0.30000000000000004,
            "bin_start": 0.2,
            "count": 0
           },
           {
            "bin_end": 0.4,
            "bin_start": 0.30000000000000004,
            "count": 0
           },
           {
            "bin_end": 0.5,
            "bin_start": 0.4,
            "count": 0
           },
           {
            "bin_end": 0.6000000000000001,
            "bin_start": 0.5,
            "count": 0
           },
           {
            "bin_end": 0.7000000000000001,
            "bin_start": 0.6000000000000001,
            "count": 0
           },
           {
            "bin_end": 0.8,
            "bin_start": 0.7000000000000001,
            "count": 0
           },
           {
            "bin_end": 0.9,
            "bin_start": 0.8,
            "count": 0
           },
           {
            "bin_end": 1,
            "bin_start": 0.9,
            "count": 82
           }
          ],
          "max": "1",
          "min": "0",
          "nan_count": 0,
          "unique_count": 2
         }
        },
        {
         "dtype": "float64",
         "name": "Red Blood Cells (millions/cmm)",
         "stats": {
          "histogram": [
           {
            "bin_end": 2.6900000000000004,
            "bin_start": 2.1,
            "count": 9
           },
           {
            "bin_end": 3.2800000000000002,
            "bin_start": 2.6900000000000004,
            "count": 20
           },
           {
            "bin_end": 3.87,
            "bin_start": 3.2800000000000002,
            "count": 56
           },
           {
            "bin_end": 4.460000000000001,
            "bin_start": 3.87,
            "count": 73
           },
           {
            "bin_end": 5.050000000000001,
            "bin_start": 4.460000000000001,
            "count": 128
           },
           {
            "bin_end": 5.640000000000001,
            "bin_start": 5.050000000000001,
            "count": 60
           },
           {
            "bin_end": 6.23,
            "bin_start": 5.640000000000001,
            "count": 39
           },
           {
            "bin_end": 6.82,
            "bin_start": 6.23,
            "count": 14
           },
           {
            "bin_end": 7.41,
            "bin_start": 6.82,
            "count": 0
           },
           {
            "bin_end": 8,
            "bin_start": 7.41,
            "count": 1
           }
          ],
          "max": "8.0",
          "min": "2.1",
          "nan_count": 0,
          "unique_count": 69
         }
        },
        {
         "dtype": "int64",
         "name": "Hypertension: yes",
         "stats": {
          "histogram": [
           {
            "bin_end": 0.1,
            "bin_start": 0,
            "count": 253
           },
           {
            "bin_end": 0.2,
            "bin_start": 0.1,
            "count": 0
           },
           {
            "bin_end": 0.30000000000000004,
            "bin_start": 0.2,
            "count": 0
           },
           {
            "bin_end": 0.4,
            "bin_start": 0.30000000000000004,
            "count": 0
           },
           {
            "bin_end": 0.5,
            "bin_start": 0.4,
            "count": 0
           },
           {
            "bin_end": 0.6000000000000001,
            "bin_start": 0.5,
            "count": 0
           },
           {
            "bin_end": 0.7000000000000001,
            "bin_start": 0.6000000000000001,
            "count": 0
           },
           {
            "bin_end": 0.8,
            "bin_start": 0.7000000000000001,
            "count": 0
           },
           {
            "bin_end": 0.9,
            "bin_start": 0.8,
            "count": 0
           },
           {
            "bin_end": 1,
            "bin_start": 0.9,
            "count": 147
           }
          ],
          "max": "1",
          "min": "0",
          "nan_count": 0,
          "unique_count": 2
         }
        },
        {
         "dtype": "int64",
         "name": "Bacteria: present",
         "stats": {
          "histogram": [
           {
            "bin_end": 0.1,
            "bin_start": 0,
            "count": 378
           },
           {
            "bin_end": 0.2,
            "bin_start": 0.1,
            "count": 0
           },
           {
            "bin_end": 0.30000000000000004,
            "bin_start": 0.2,
            "count": 0
           },
           {
            "bin_end": 0.4,
            "bin_start": 0.30000000000000004,
            "count": 0
           },
           {
            "bin_end": 0.5,
            "bin_start": 0.4,
            "count": 0
           },
           {
            "bin_end": 0.6000000000000001,
            "bin_start": 0.5,
            "count": 0
           },
           {
            "bin_end": 0.7000000000000001,
            "bin_start": 0.6000000000000001,
            "count": 0
           },
           {
            "bin_end": 0.8,
            "bin_start": 0.7000000000000001,
            "count": 0
           },
           {
            "bin_end": 0.9,
            "bin_start": 0.8,
            "count": 0
           },
           {
            "bin_end": 1,
            "bin_start": 0.9,
            "count": 22
           }
          ],
          "max": "1",
          "min": "0",
          "nan_count": 0,
          "unique_count": 2
         }
        },
        {
         "dtype": "int64",
         "name": "Diabetes Mellitus: yes",
         "stats": {
          "histogram": [
           {
            "bin_end": 0.1,
            "bin_start": 0,
            "count": 263
           },
           {
            "bin_end": 0.2,
            "bin_start": 0.1,
            "count": 0
           },
           {
            "bin_end": 0.30000000000000004,
            "bin_start": 0.2,
            "count": 0
           },
           {
            "bin_end": 0.4,
            "bin_start": 0.30000000000000004,
            "count": 0
           },
           {
            "bin_end": 0.5,
            "bin_start": 0.4,
            "count": 0
           },
           {
            "bin_end": 0.6000000000000001,
            "bin_start": 0.5,
            "count": 0
           },
           {
            "bin_end": 0.7000000000000001,
            "bin_start": 0.6000000000000001,
            "count": 0
           },
           {
            "bin_end": 0.8,
            "bin_start": 0.7000000000000001,
            "count": 0
           },
           {
            "bin_end": 0.9,
            "bin_start": 0.8,
            "count": 0
           },
           {
            "bin_end": 1,
            "bin_start": 0.9,
            "count": 137
           }
          ],
          "max": "1",
          "min": "0",
          "nan_count": 0,
          "unique_count": 2
         }
        },
        {
         "dtype": "int64",
         "name": "Coronary Artery Disease: yes",
         "stats": {
          "histogram": [
           {
            "bin_end": 0.1,
            "bin_start": 0,
            "count": 366
           },
           {
            "bin_end": 0.2,
            "bin_start": 0.1,
            "count": 0
           },
           {
            "bin_end": 0.30000000000000004,
            "bin_start": 0.2,
            "count": 0
           },
           {
            "bin_end": 0.4,
            "bin_start": 0.30000000000000004,
            "count": 0
           },
           {
            "bin_end": 0.5,
            "bin_start": 0.4,
            "count": 0
           },
           {
            "bin_end": 0.6000000000000001,
            "bin_start": 0.5,
            "count": 0
           },
           {
            "bin_end": 0.7000000000000001,
            "bin_start": 0.6000000000000001,
            "count": 0
           },
           {
            "bin_end": 0.8,
            "bin_start": 0.7000000000000001,
            "count": 0
           },
           {
            "bin_end": 0.9,
            "bin_start": 0.8,
            "count": 0
           },
           {
            "bin_end": 1,
            "bin_start": 0.9,
            "count": 34
           }
          ],
          "max": "1",
          "min": "0",
          "nan_count": 0,
          "unique_count": 2
         }
        },
        {
         "dtype": "int64",
         "name": "Anemia: yes",
         "stats": {
          "histogram": [
           {
            "bin_end": 0.1,
            "bin_start": 0,
            "count": 340
           },
           {
            "bin_end": 0.2,
            "bin_start": 0.1,
            "count": 0
           },
           {
            "bin_end": 0.30000000000000004,
            "bin_start": 0.2,
            "count": 0
           },
           {
            "bin_end": 0.4,
            "bin_start": 0.30000000000000004,
            "count": 0
           },
           {
            "bin_end": 0.5,
            "bin_start": 0.4,
            "count": 0
           },
           {
            "bin_end": 0.6000000000000001,
            "bin_start": 0.5,
            "count": 0
           },
           {
            "bin_end": 0.7000000000000001,
            "bin_start": 0.6000000000000001,
            "count": 0
           },
           {
            "bin_end": 0.8,
            "bin_start": 0.7000000000000001,
            "count": 0
           },
           {
            "bin_end": 0.9,
            "bin_start": 0.8,
            "count": 0
           },
           {
            "bin_end": 1,
            "bin_start": 0.9,
            "count": 60
           }
          ],
          "max": "1",
          "min": "0",
          "nan_count": 0,
          "unique_count": 2
         }
        },
        {
         "dtype": "int64",
         "name": "Chronic Kidney Disease: yes",
         "stats": {
          "histogram": [
           {
            "bin_end": 0.1,
            "bin_start": 0,
            "count": 150
           },
           {
            "bin_end": 0.2,
            "bin_start": 0.1,
            "count": 0
           },
           {
            "bin_end": 0.30000000000000004,
            "bin_start": 0.2,
            "count": 0
           },
           {
            "bin_end": 0.4,
            "bin_start": 0.30000000000000004,
            "count": 0
           },
           {
            "bin_end": 0.5,
            "bin_start": 0.4,
            "count": 0
           },
           {
            "bin_end": 0.6000000000000001,
            "bin_start": 0.5,
            "count": 0
           },
           {
            "bin_end": 0.7000000000000001,
            "bin_start": 0.6000000000000001,
            "count": 0
           },
           {
            "bin_end": 0.8,
            "bin_start": 0.7000000000000001,
            "count": 0
           },
           {
            "bin_end": 0.9,
            "bin_start": 0.8,
            "count": 0
           },
           {
            "bin_end": 1,
            "bin_start": 0.9,
            "count": 250
           }
          ],
          "max": "1",
          "min": "0",
          "nan_count": 0,
          "unique_count": 2
         }
        },
        {
         "dtype": "int64",
         "name": "_deepnote_index_column"
        }
       ],
       "row_count": 400,
       "rows": [
        {
         "Anemia: yes": 0,
         "Appetite: poor": 0,
         "Bacteria: present": 0,
         "Blood Urea (mgs/dL)": 36,
         "Chronic Kidney Disease: yes": 1,
         "Coronary Artery Disease: yes": 0,
         "Diabetes Mellitus: yes": 1,
         "Hemoglobin (gms)": 15.4,
         "Hypertension: yes": 1,
         "Potassium (mEq/L)": 4.7,
         "Red Blood Cells (millions/cmm)": 5.2,
         "Serum Creatinine (mgs/dL)": 1.2,
         "Sodium (mEq/L)": 136,
         "White Blood Cells (cells/cmm)": 7800,
         "_deepnote_index_column": 0,
         "patient_age": 48,
         "patient_blood_sugar": 121,
         "patient_bp": 80,
         "patient_sg": 1.02
        },
        {
         "Anemia: yes": 0,
         "Appetite: poor": 0,
         "Bacteria: present": 0,
         "Blood Urea (mgs/dL)": 18,
         "Chronic Kidney Disease: yes": 1,
         "Coronary Artery Disease: yes": 0,
         "Diabetes Mellitus: yes": 0,
         "Hemoglobin (gms)": 11.3,
         "Hypertension: yes": 0,
         "Potassium (mEq/L)": 4,
         "Red Blood Cells (millions/cmm)": 4.721717463,
         "Serum Creatinine (mgs/dL)": 0.8,
         "Sodium (mEq/L)": 140,
         "White Blood Cells (cells/cmm)": 6000,
         "_deepnote_index_column": 1,
         "patient_age": 7,
         "patient_blood_sugar": 90.31658119,
         "patient_bp": 50,
         "patient_sg": 1.02
        },
        {
         "Anemia: yes": 1,
         "Appetite: poor": 1,
         "Bacteria: present": 0,
         "Blood Urea (mgs/dL)": 53,
         "Chronic Kidney Disease: yes": 1,
         "Coronary Artery Disease: yes": 0,
         "Diabetes Mellitus: yes": 1,
         "Hemoglobin (gms)": 9.6,
         "Hypertension: yes": 0,
         "Potassium (mEq/L)": 4.8,
         "Red Blood Cells (millions/cmm)": 3.4,
         "Serum Creatinine (mgs/dL)": 1.8,
         "Sodium (mEq/L)": 135,
         "White Blood Cells (cells/cmm)": 7500,
         "_deepnote_index_column": 2,
         "patient_age": 62,
         "patient_blood_sugar": 423,
         "patient_bp": 80,
         "patient_sg": 1.01
        },
        {
         "Anemia: yes": 1,
         "Appetite: poor": 1,
         "Bacteria: present": 0,
         "Blood Urea (mgs/dL)": 56,
         "Chronic Kidney Disease: yes": 1,
         "Coronary Artery Disease: yes": 0,
         "Diabetes Mellitus: yes": 0,
         "Hemoglobin (gms)": 11.2,
         "Hypertension: yes": 1,
         "Potassium (mEq/L)": 2.5,
         "Red Blood Cells (millions/cmm)": 3.9,
         "Serum Creatinine (mgs/dL)": 3.8,
         "Sodium (mEq/L)": 111,
         "White Blood Cells (cells/cmm)": 6700,
         "_deepnote_index_column": 3,
         "patient_age": 48,
         "patient_blood_sugar": 117,
         "patient_bp": 70,
         "patient_sg": 1.005
        },
        {
         "Anemia: yes": 0,
         "Appetite: poor": 0,
         "Bacteria: present": 0,
         "Blood Urea (mgs/dL)": 26,
         "Chronic Kidney Disease: yes": 1,
         "Coronary Artery Disease: yes": 0,
         "Diabetes Mellitus: yes": 0,
         "Hemoglobin (gms)": 11.6,
         "Hypertension: yes": 0,
         "Potassium (mEq/L)": 4,
         "Red Blood Cells (millions/cmm)": 4.6,
         "Serum Creatinine (mgs/dL)": 1.4,
         "Sodium (mEq/L)": 140,
         "White Blood Cells (cells/cmm)": 7300,
         "_deepnote_index_column": 4,
         "patient_age": 51,
         "patient_blood_sugar": 106,
         "patient_bp": 80,
         "patient_sg": 1.01
        },
        {
         "Anemia: yes": 0,
         "Appetite: poor": 0,
         "Bacteria: present": 0,
         "Blood Urea (mgs/dL)": 25,
         "Chronic Kidney Disease: yes": 1,
         "Coronary Artery Disease: yes": 0,
         "Diabetes Mellitus: yes": 1,
         "Hemoglobin (gms)": 12.2,
         "Hypertension: yes": 1,
         "Potassium (mEq/L)": 3.2,
         "Red Blood Cells (millions/cmm)": 4.4,
         "Serum Creatinine (mgs/dL)": 1.1,
         "Sodium (mEq/L)": 142,
         "White Blood Cells (cells/cmm)": 7800,
         "_deepnote_index_column": 5,
         "patient_age": 60,
         "patient_blood_sugar": 74,
         "patient_bp": 90,
         "patient_sg": 1.015
        },
        {
         "Anemia: yes": 0,
         "Appetite: poor": 0,
         "Bacteria: present": 0,
         "Blood Urea (mgs/dL)": 54,
         "Chronic Kidney Disease: yes": 1,
         "Coronary Artery Disease: yes": 0,
         "Diabetes Mellitus: yes": 0,
         "Hemoglobin (gms)": 12.4,
         "Hypertension: yes": 0,
         "Potassium (mEq/L)": 4,
         "Red Blood Cells (millions/cmm)": 4.79153164,
         "Serum Creatinine (mgs/dL)": 24,
         "Sodium (mEq/L)": 104,
         "White Blood Cells (cells/cmm)": 8200,
         "_deepnote_index_column": 6,
         "patient_age": 68,
         "patient_blood_sugar": 100,
         "patient_bp": 70,
         "patient_sg": 1.01
        },
        {
         "Anemia: yes": 0,
         "Appetite: poor": 0,
         "Bacteria: present": 0,
         "Blood Urea (mgs/dL)": 31,
         "Chronic Kidney Disease: yes": 1,
         "Coronary Artery Disease: yes": 0,
         "Diabetes Mellitus: yes": 1,
         "Hemoglobin (gms)": 12.4,
         "Hypertension: yes": 0,
         "Potassium (mEq/L)": 4.2,
         "Red Blood Cells (millions/cmm)": 5,
         "Serum Creatinine (mgs/dL)": 1.1,
         "Sodium (mEq/L)": 138,
         "White Blood Cells (cells/cmm)": 6900,
         "_deepnote_index_column": 7,
         "patient_age": 24,
         "patient_blood_sugar": 410,
         "patient_bp": 60,
         "patient_sg": 1.015
        },
        {
         "Anemia: yes": 1,
         "Appetite: poor": 0,
         "Bacteria: present": 0,
         "Blood Urea (mgs/dL)": 60,
         "Chronic Kidney Disease: yes": 1,
         "Coronary Artery Disease: yes": 0,
         "Diabetes Mellitus: yes": 1,
         "Hemoglobin (gms)": 10.8,
         "Hypertension: yes": 1,
         "Potassium (mEq/L)": 5,
         "Red Blood Cells (millions/cmm)": 4,
         "Serum Creatinine (mgs/dL)": 1.9,
         "Sodium (mEq/L)": 135,
         "White Blood Cells (cells/cmm)": 9600,
         "_deepnote_index_column": 8,
         "patient_age": 52,
         "patient_blood_sugar": 138,
         "patient_bp": 100,
         "patient_sg": 1.015
        },
        {
         "Anemia: yes": 1,
         "Appetite: poor": 1,
         "Bacteria: present": 0,
         "Blood Urea (mgs/dL)": 107,
         "Chronic Kidney Disease: yes": 1,
         "Coronary Artery Disease: yes": 0,
         "Diabetes Mellitus: yes": 1,
         "Hemoglobin (gms)": 9.5,
         "Hypertension: yes": 1,
         "Potassium (mEq/L)": 3.7,
         "Red Blood Cells (millions/cmm)": 3.7,
         "Serum Creatinine (mgs/dL)": 7.2,
         "Sodium (mEq/L)": 114,
         "White Blood Cells (cells/cmm)": 12100,
         "_deepnote_index_column": 9,
         "patient_age": 53,
         "patient_blood_sugar": 70,
         "patient_bp": 90,
         "patient_sg": 1.02
        }
       ]
      },
      "text/html": [
       "<div>\n",
       "<style scoped>\n",
       "    .dataframe tbody tr th:only-of-type {\n",
       "        vertical-align: middle;\n",
       "    }\n",
       "\n",
       "    .dataframe tbody tr th {\n",
       "        vertical-align: top;\n",
       "    }\n",
       "\n",
       "    .dataframe thead th {\n",
       "        text-align: right;\n",
       "    }\n",
       "</style>\n",
       "<table border=\"1\" class=\"dataframe\">\n",
       "  <thead>\n",
       "    <tr style=\"text-align: right;\">\n",
       "      <th></th>\n",
       "      <th>patient_age</th>\n",
       "      <th>patient_bp</th>\n",
       "      <th>patient_sg</th>\n",
       "      <th>patient_blood_sugar</th>\n",
       "      <th>Blood Urea (mgs/dL)</th>\n",
       "      <th>Serum Creatinine (mgs/dL)</th>\n",
       "      <th>Sodium (mEq/L)</th>\n",
       "      <th>Potassium (mEq/L)</th>\n",
       "      <th>Hemoglobin (gms)</th>\n",
       "      <th>White Blood Cells (cells/cmm)</th>\n",
       "      <th>Appetite: poor</th>\n",
       "      <th>Red Blood Cells (millions/cmm)</th>\n",
       "      <th>Hypertension: yes</th>\n",
       "      <th>Bacteria: present</th>\n",
       "      <th>Diabetes Mellitus: yes</th>\n",
       "      <th>Coronary Artery Disease: yes</th>\n",
       "      <th>Anemia: yes</th>\n",
       "      <th>Chronic Kidney Disease: yes</th>\n",
       "    </tr>\n",
       "  </thead>\n",
       "  <tbody>\n",
       "    <tr>\n",
       "      <th>0</th>\n",
       "      <td>48.0</td>\n",
       "      <td>80</td>\n",
       "      <td>1.020</td>\n",
       "      <td>121.000000</td>\n",
       "      <td>36.0</td>\n",
       "      <td>1.2</td>\n",
       "      <td>136.0</td>\n",
       "      <td>4.7</td>\n",
       "      <td>15.4</td>\n",
       "      <td>7800.0</td>\n",
       "      <td>0</td>\n",
       "      <td>5.200000</td>\n",
       "      <td>1</td>\n",
       "      <td>0</td>\n",
       "      <td>1</td>\n",
       "      <td>0</td>\n",
       "      <td>0</td>\n",
       "      <td>1</td>\n",
       "    </tr>\n",
       "    <tr>\n",
       "      <th>1</th>\n",
       "      <td>7.0</td>\n",
       "      <td>50</td>\n",
       "      <td>1.020</td>\n",
       "      <td>90.316581</td>\n",
       "      <td>18.0</td>\n",
       "      <td>0.8</td>\n",
       "      <td>140.0</td>\n",
       "      <td>4.0</td>\n",
       "      <td>11.3</td>\n",
       "      <td>6000.0</td>\n",
       "      <td>0</td>\n",
       "      <td>4.721717</td>\n",
       "      <td>0</td>\n",
       "      <td>0</td>\n",
       "      <td>0</td>\n",
       "      <td>0</td>\n",
       "      <td>0</td>\n",
       "      <td>1</td>\n",
       "    </tr>\n",
       "    <tr>\n",
       "      <th>2</th>\n",
       "      <td>62.0</td>\n",
       "      <td>80</td>\n",
       "      <td>1.010</td>\n",
       "      <td>423.000000</td>\n",
       "      <td>53.0</td>\n",
       "      <td>1.8</td>\n",
       "      <td>135.0</td>\n",
       "      <td>4.8</td>\n",
       "      <td>9.6</td>\n",
       "      <td>7500.0</td>\n",
       "      <td>1</td>\n",
       "      <td>3.400000</td>\n",
       "      <td>0</td>\n",
       "      <td>0</td>\n",
       "      <td>1</td>\n",
       "      <td>0</td>\n",
       "      <td>1</td>\n",
       "      <td>1</td>\n",
       "    </tr>\n",
       "    <tr>\n",
       "      <th>3</th>\n",
       "      <td>48.0</td>\n",
       "      <td>70</td>\n",
       "      <td>1.005</td>\n",
       "      <td>117.000000</td>\n",
       "      <td>56.0</td>\n",
       "      <td>3.8</td>\n",
       "      <td>111.0</td>\n",
       "      <td>2.5</td>\n",
       "      <td>11.2</td>\n",
       "      <td>6700.0</td>\n",
       "      <td>1</td>\n",
       "      <td>3.900000</td>\n",
       "      <td>1</td>\n",
       "      <td>0</td>\n",
       "      <td>0</td>\n",
       "      <td>0</td>\n",
       "      <td>1</td>\n",
       "      <td>1</td>\n",
       "    </tr>\n",
       "    <tr>\n",
       "      <th>4</th>\n",
       "      <td>51.0</td>\n",
       "      <td>80</td>\n",
       "      <td>1.010</td>\n",
       "      <td>106.000000</td>\n",
       "      <td>26.0</td>\n",
       "      <td>1.4</td>\n",
       "      <td>140.0</td>\n",
       "      <td>4.0</td>\n",
       "      <td>11.6</td>\n",
       "      <td>7300.0</td>\n",
       "      <td>0</td>\n",
       "      <td>4.600000</td>\n",
       "      <td>0</td>\n",
       "      <td>0</td>\n",
       "      <td>0</td>\n",
       "      <td>0</td>\n",
       "      <td>0</td>\n",
       "      <td>1</td>\n",
       "    </tr>\n",
       "    <tr>\n",
       "      <th>...</th>\n",
       "      <td>...</td>\n",
       "      <td>...</td>\n",
       "      <td>...</td>\n",
       "      <td>...</td>\n",
       "      <td>...</td>\n",
       "      <td>...</td>\n",
       "      <td>...</td>\n",
       "      <td>...</td>\n",
       "      <td>...</td>\n",
       "      <td>...</td>\n",
       "      <td>...</td>\n",
       "      <td>...</td>\n",
       "      <td>...</td>\n",
       "      <td>...</td>\n",
       "      <td>...</td>\n",
       "      <td>...</td>\n",
       "      <td>...</td>\n",
       "      <td>...</td>\n",
       "    </tr>\n",
       "    <tr>\n",
       "      <th>395</th>\n",
       "      <td>55.0</td>\n",
       "      <td>80</td>\n",
       "      <td>1.020</td>\n",
       "      <td>140.000000</td>\n",
       "      <td>49.0</td>\n",
       "      <td>0.5</td>\n",
       "      <td>150.0</td>\n",
       "      <td>4.9</td>\n",
       "      <td>15.7</td>\n",
       "      <td>6700.0</td>\n",
       "      <td>0</td>\n",
       "      <td>4.900000</td>\n",
       "      <td>0</td>\n",
       "      <td>0</td>\n",
       "      <td>0</td>\n",
       "      <td>0</td>\n",
       "      <td>0</td>\n",
       "      <td>0</td>\n",
       "    </tr>\n",
       "    <tr>\n",
       "      <th>396</th>\n",
       "      <td>42.0</td>\n",
       "      <td>70</td>\n",
       "      <td>1.025</td>\n",
       "      <td>75.000000</td>\n",
       "      <td>31.0</td>\n",
       "      <td>1.2</td>\n",
       "      <td>141.0</td>\n",
       "      <td>3.5</td>\n",
       "      <td>16.5</td>\n",
       "      <td>7800.0</td>\n",
       "      <td>0</td>\n",
       "      <td>6.200000</td>\n",
       "      <td>0</td>\n",
       "      <td>0</td>\n",
       "      <td>0</td>\n",
       "      <td>0</td>\n",
       "      <td>0</td>\n",
       "      <td>0</td>\n",
       "    </tr>\n",
       "    <tr>\n",
       "      <th>397</th>\n",
       "      <td>12.0</td>\n",
       "      <td>80</td>\n",
       "      <td>1.020</td>\n",
       "      <td>100.000000</td>\n",
       "      <td>26.0</td>\n",
       "      <td>0.6</td>\n",
       "      <td>137.0</td>\n",
       "      <td>4.4</td>\n",
       "      <td>15.8</td>\n",
       "      <td>6600.0</td>\n",
       "      <td>0</td>\n",
       "      <td>5.400000</td>\n",
       "      <td>0</td>\n",
       "      <td>0</td>\n",
       "      <td>0</td>\n",
       "      <td>0</td>\n",
       "      <td>0</td>\n",
       "      <td>0</td>\n",
       "    </tr>\n",
       "    <tr>\n",
       "      <th>398</th>\n",
       "      <td>17.0</td>\n",
       "      <td>60</td>\n",
       "      <td>1.025</td>\n",
       "      <td>114.000000</td>\n",
       "      <td>50.0</td>\n",
       "      <td>1.0</td>\n",
       "      <td>135.0</td>\n",
       "      <td>4.9</td>\n",
       "      <td>14.2</td>\n",
       "      <td>7200.0</td>\n",
       "      <td>0</td>\n",
       "      <td>5.900000</td>\n",
       "      <td>0</td>\n",
       "      <td>0</td>\n",
       "      <td>0</td>\n",
       "      <td>0</td>\n",
       "      <td>0</td>\n",
       "      <td>0</td>\n",
       "    </tr>\n",
       "    <tr>\n",
       "      <th>399</th>\n",
       "      <td>58.0</td>\n",
       "      <td>80</td>\n",
       "      <td>1.025</td>\n",
       "      <td>131.000000</td>\n",
       "      <td>18.0</td>\n",
       "      <td>1.1</td>\n",
       "      <td>141.0</td>\n",
       "      <td>3.5</td>\n",
       "      <td>15.8</td>\n",
       "      <td>6800.0</td>\n",
       "      <td>0</td>\n",
       "      <td>6.100000</td>\n",
       "      <td>0</td>\n",
       "      <td>0</td>\n",
       "      <td>0</td>\n",
       "      <td>0</td>\n",
       "      <td>0</td>\n",
       "      <td>0</td>\n",
       "    </tr>\n",
       "  </tbody>\n",
       "</table>\n",
       "<p>400 rows × 18 columns</p>\n",
       "</div>"
      ],
      "text/plain": [
       "     patient_age  patient_bp  patient_sg  patient_blood_sugar  \\\n",
       "0           48.0          80       1.020           121.000000   \n",
       "1            7.0          50       1.020            90.316581   \n",
       "2           62.0          80       1.010           423.000000   \n",
       "3           48.0          70       1.005           117.000000   \n",
       "4           51.0          80       1.010           106.000000   \n",
       "..           ...         ...         ...                  ...   \n",
       "395         55.0          80       1.020           140.000000   \n",
       "396         42.0          70       1.025            75.000000   \n",
       "397         12.0          80       1.020           100.000000   \n",
       "398         17.0          60       1.025           114.000000   \n",
       "399         58.0          80       1.025           131.000000   \n",
       "\n",
       "     Blood Urea (mgs/dL)  Serum Creatinine (mgs/dL)  Sodium (mEq/L)  \\\n",
       "0                   36.0                        1.2           136.0   \n",
       "1                   18.0                        0.8           140.0   \n",
       "2                   53.0                        1.8           135.0   \n",
       "3                   56.0                        3.8           111.0   \n",
       "4                   26.0                        1.4           140.0   \n",
       "..                   ...                        ...             ...   \n",
       "395                 49.0                        0.5           150.0   \n",
       "396                 31.0                        1.2           141.0   \n",
       "397                 26.0                        0.6           137.0   \n",
       "398                 50.0                        1.0           135.0   \n",
       "399                 18.0                        1.1           141.0   \n",
       "\n",
       "     Potassium (mEq/L)  Hemoglobin (gms)  White Blood Cells (cells/cmm)  \\\n",
       "0                  4.7              15.4                         7800.0   \n",
       "1                  4.0              11.3                         6000.0   \n",
       "2                  4.8               9.6                         7500.0   \n",
       "3                  2.5              11.2                         6700.0   \n",
       "4                  4.0              11.6                         7300.0   \n",
       "..                 ...               ...                            ...   \n",
       "395                4.9              15.7                         6700.0   \n",
       "396                3.5              16.5                         7800.0   \n",
       "397                4.4              15.8                         6600.0   \n",
       "398                4.9              14.2                         7200.0   \n",
       "399                3.5              15.8                         6800.0   \n",
       "\n",
       "     Appetite: poor  Red Blood Cells (millions/cmm)  Hypertension: yes  \\\n",
       "0                 0                        5.200000                  1   \n",
       "1                 0                        4.721717                  0   \n",
       "2                 1                        3.400000                  0   \n",
       "3                 1                        3.900000                  1   \n",
       "4                 0                        4.600000                  0   \n",
       "..              ...                             ...                ...   \n",
       "395               0                        4.900000                  0   \n",
       "396               0                        6.200000                  0   \n",
       "397               0                        5.400000                  0   \n",
       "398               0                        5.900000                  0   \n",
       "399               0                        6.100000                  0   \n",
       "\n",
       "     Bacteria: present  Diabetes Mellitus: yes  Coronary Artery Disease: yes  \\\n",
       "0                    0                       1                             0   \n",
       "1                    0                       0                             0   \n",
       "2                    0                       1                             0   \n",
       "3                    0                       0                             0   \n",
       "4                    0                       0                             0   \n",
       "..                 ...                     ...                           ...   \n",
       "395                  0                       0                             0   \n",
       "396                  0                       0                             0   \n",
       "397                  0                       0                             0   \n",
       "398                  0                       0                             0   \n",
       "399                  0                       0                             0   \n",
       "\n",
       "     Anemia: yes  Chronic Kidney Disease: yes  \n",
       "0              0                            1  \n",
       "1              0                            1  \n",
       "2              1                            1  \n",
       "3              1                            1  \n",
       "4              0                            1  \n",
       "..           ...                          ...  \n",
       "395            0                            0  \n",
       "396            0                            0  \n",
       "397            0                            0  \n",
       "398            0                            0  \n",
       "399            0                            0  \n",
       "\n",
       "[400 rows x 18 columns]"
      ]
     },
     "execution_count": 20,
     "metadata": {},
     "output_type": "execute_result"
    }
   ],
   "source": [
    "kidney_df.rename(columns={'Blood Glucose Random (mgs/dL)':  'patient_blood_sugar'}, inplace=True)\n",
    "kidney_df"
   ]
  },
  {
   "cell_type": "code",
   "execution_count": null,
   "metadata": {
    "cell_id": "cf9b0af285724fc0a4a18fb6c5a665eb",
    "deepnote_cell_type": "code",
    "deepnote_to_be_reexecuted": false,
    "execution_millis": 83,
    "execution_start": 1724014790276,
    "source_hash": null
   },
   "outputs": [
    {
     "data": {
      "application/vnd.deepnote.dataframe.v3+json": {
       "column_count": 18,
       "columns": [
        {
         "dtype": "float64",
         "name": "patient_age",
         "stats": {
          "histogram": [
           {
            "bin_end": 10.8,
            "bin_start": 2,
            "count": 10
           },
           {
            "bin_end": 19.6,
            "bin_start": 10.8,
            "count": 11
           },
           {
            "bin_end": 28.400000000000002,
            "bin_start": 19.6,
            "count": 20
           },
           {
            "bin_end": 37.2,
            "bin_start": 28.400000000000002,
            "count": 39
           },
           {
            "bin_end": 46,
            "bin_start": 37.2,
            "count": 45
           },
           {
            "bin_end": 54.800000000000004,
            "bin_start": 46,
            "count": 74
           },
           {
            "bin_end": 63.60000000000001,
            "bin_start": 54.800000000000004,
            "count": 92
           },
           {
            "bin_end": 72.4,
            "bin_start": 63.60000000000001,
            "count": 78
           },
           {
            "bin_end": 81.2,
            "bin_start": 72.4,
            "count": 28
           },
           {
            "bin_end": 90,
            "bin_start": 81.2,
            "count": 3
           }
          ],
          "max": "90.0",
          "min": "2.0",
          "nan_count": 0,
          "unique_count": 79
         }
        },
        {
         "dtype": "int64",
         "name": "patient_bp",
         "stats": {
          "histogram": [
           {
            "bin_end": 63,
            "bin_start": 50,
            "count": 79
           },
           {
            "bin_end": 76,
            "bin_start": 63,
            "count": 118
           },
           {
            "bin_end": 89,
            "bin_start": 76,
            "count": 118
           },
           {
            "bin_end": 102,
            "bin_start": 89,
            "count": 79
           },
           {
            "bin_end": 115,
            "bin_start": 102,
            "count": 3
           },
           {
            "bin_end": 128,
            "bin_start": 115,
            "count": 1
           },
           {
            "bin_end": 141,
            "bin_start": 128,
            "count": 1
           },
           {
            "bin_end": 154,
            "bin_start": 141,
            "count": 0
           },
           {
            "bin_end": 167,
            "bin_start": 154,
            "count": 0
           },
           {
            "bin_end": 180,
            "bin_start": 167,
            "count": 1
           }
          ],
          "max": "180",
          "min": "50",
          "nan_count": 0,
          "unique_count": 10
         }
        },
        {
         "dtype": "float64",
         "name": "patient_sg",
         "stats": {
          "histogram": [
           {
            "bin_end": 1.007,
            "bin_start": 1.005,
            "count": 7
           },
           {
            "bin_end": 1.009,
            "bin_start": 1.007,
            "count": 0
           },
           {
            "bin_end": 1.011,
            "bin_start": 1.009,
            "count": 89
           },
           {
            "bin_end": 1.013,
            "bin_start": 1.011,
            "count": 0
           },
           {
            "bin_end": 1.015,
            "bin_start": 1.013,
            "count": 1
           },
           {
            "bin_end": 1.017,
            "bin_start": 1.015,
            "count": 94
           },
           {
            "bin_end": 1.019,
            "bin_start": 1.017,
            "count": 0
           },
           {
            "bin_end": 1.021,
            "bin_start": 1.019,
            "count": 119
           },
           {
            "bin_end": 1.023,
            "bin_start": 1.021,
            "count": 0
           },
           {
            "bin_end": 1.025,
            "bin_start": 1.023,
            "count": 90
           }
          ],
          "max": "1.025",
          "min": "1.005",
          "nan_count": 0,
          "unique_count": 6
         }
        },
        {
         "dtype": "float64",
         "name": "patient_blood_sugar",
         "stats": {
          "histogram": [
           {
            "bin_end": 68.8,
            "bin_start": 22,
            "count": 1
           },
           {
            "bin_end": 115.6,
            "bin_start": 68.8,
            "count": 180
           },
           {
            "bin_end": 162.39999999999998,
            "bin_start": 115.6,
            "count": 122
           },
           {
            "bin_end": 209.2,
            "bin_start": 162.39999999999998,
            "count": 28
           },
           {
            "bin_end": 256,
            "bin_start": 209.2,
            "count": 33
           },
           {
            "bin_end": 302.79999999999995,
            "bin_start": 256,
            "count": 15
           },
           {
            "bin_end": 349.59999999999997,
            "bin_start": 302.79999999999995,
            "count": 7
           },
           {
            "bin_end": 396.4,
            "bin_start": 349.59999999999997,
            "count": 4
           },
           {
            "bin_end": 443.2,
            "bin_start": 396.4,
            "count": 6
           },
           {
            "bin_end": 490,
            "bin_start": 443.2,
            "count": 4
           }
          ],
          "max": "490.0",
          "min": "22.0",
          "nan_count": 0,
          "unique_count": 171
         }
        },
        {
         "dtype": "float64",
         "name": "patient_urea",
         "stats": {
          "histogram": [
           {
            "bin_end": 40.45,
            "bin_start": 1.5,
            "count": 197
           },
           {
            "bin_end": 79.4,
            "bin_start": 40.45,
            "count": 125
           },
           {
            "bin_end": 118.35000000000001,
            "bin_start": 79.4,
            "count": 39
           },
           {
            "bin_end": 157.3,
            "bin_start": 118.35000000000001,
            "count": 18
           },
           {
            "bin_end": 196.25,
            "bin_start": 157.3,
            "count": 10
           },
           {
            "bin_end": 235.20000000000002,
            "bin_start": 196.25,
            "count": 7
           },
           {
            "bin_end": 274.15000000000003,
            "bin_start": 235.20000000000002,
            "count": 1
           },
           {
            "bin_end": 313.1,
            "bin_start": 274.15000000000003,
            "count": 1
           },
           {
            "bin_end": 352.05,
            "bin_start": 313.1,
            "count": 1
           },
           {
            "bin_end": 391,
            "bin_start": 352.05,
            "count": 1
           }
          ],
          "max": "391.0",
          "min": "1.5",
          "nan_count": 0,
          "unique_count": 125
         }
        },
        {
         "dtype": "float64",
         "name": "Serum Creatinine (mgs/dL)",
         "stats": {
          "histogram": [
           {
            "bin_end": 7.96,
            "bin_start": 0.4,
            "count": 371
           },
           {
            "bin_end": 15.52,
            "bin_start": 7.96,
            "count": 21
           },
           {
            "bin_end": 23.08,
            "bin_start": 15.52,
            "count": 4
           },
           {
            "bin_end": 30.639999999999997,
            "bin_start": 23.08,
            "count": 1
           },
           {
            "bin_end": 38.199999999999996,
            "bin_start": 30.639999999999997,
            "count": 1
           },
           {
            "bin_end": 45.76,
            "bin_start": 38.199999999999996,
            "count": 0
           },
           {
            "bin_end": 53.31999999999999,
            "bin_start": 45.76,
            "count": 1
           },
           {
            "bin_end": 60.879999999999995,
            "bin_start": 53.31999999999999,
            "count": 0
           },
           {
            "bin_end": 68.44,
            "bin_start": 60.879999999999995,
            "count": 0
           },
           {
            "bin_end": 76,
            "bin_start": 68.44,
            "count": 1
           }
          ],
          "max": "76.0",
          "min": "0.4",
          "nan_count": 0,
          "unique_count": 89
         }
        },
        {
         "dtype": "float64",
         "name": "Sodium (mEq/L)",
         "stats": {
          "histogram": [
           {
            "bin_end": 20.35,
            "bin_start": 4.5,
            "count": 1
           },
           {
            "bin_end": 36.2,
            "bin_start": 20.35,
            "count": 0
           },
           {
            "bin_end": 52.05,
            "bin_start": 36.2,
            "count": 0
           },
           {
            "bin_end": 67.9,
            "bin_start": 52.05,
            "count": 0
           },
           {
            "bin_end": 83.75,
            "bin_start": 67.9,
            "count": 0
           },
           {
            "bin_end": 99.6,
            "bin_start": 83.75,
            "count": 0
           },
           {
            "bin_end": 115.45,
            "bin_start": 99.6,
            "count": 7
           },
           {
            "bin_end": 131.3,
            "bin_start": 115.45,
            "count": 32
           },
           {
            "bin_end": 147.15,
            "bin_start": 131.3,
            "count": 342
           },
           {
            "bin_end": 163,
            "bin_start": 147.15,
            "count": 18
           }
          ],
          "max": "163.0",
          "min": "4.5",
          "nan_count": 0,
          "unique_count": 40
         }
        },
        {
         "dtype": "float64",
         "name": "Potassium (mEq/L)",
         "stats": {
          "histogram": [
           {
            "bin_end": 6.95,
            "bin_start": 2.5,
            "count": 397
           },
           {
            "bin_end": 11.4,
            "bin_start": 6.95,
            "count": 1
           },
           {
            "bin_end": 15.850000000000001,
            "bin_start": 11.4,
            "count": 0
           },
           {
            "bin_end": 20.3,
            "bin_start": 15.850000000000001,
            "count": 0
           },
           {
            "bin_end": 24.75,
            "bin_start": 20.3,
            "count": 0
           },
           {
            "bin_end": 29.200000000000003,
            "bin_start": 24.75,
            "count": 0
           },
           {
            "bin_end": 33.650000000000006,
            "bin_start": 29.200000000000003,
            "count": 0
           },
           {
            "bin_end": 38.1,
            "bin_start": 33.650000000000006,
            "count": 0
           },
           {
            "bin_end": 42.550000000000004,
            "bin_start": 38.1,
            "count": 1
           },
           {
            "bin_end": 47,
            "bin_start": 42.550000000000004,
            "count": 1
           }
          ],
          "max": "47.0",
          "min": "2.5",
          "nan_count": 0,
          "unique_count": 57
         }
        },
        {
         "dtype": "float64",
         "name": "Hemoglobin (gms)",
         "stats": {
          "histogram": [
           {
            "bin_end": 4.57,
            "bin_start": 3.1,
            "count": 1
           },
           {
            "bin_end": 6.040000000000001,
            "bin_start": 4.57,
            "count": 6
           },
           {
            "bin_end": 7.51,
            "bin_start": 6.040000000000001,
            "count": 8
           },
           {
            "bin_end": 8.98,
            "bin_start": 7.51,
            "count": 26
           },
           {
            "bin_end": 10.450000000000001,
            "bin_start": 8.98,
            "count": 57
           },
           {
            "bin_end": 11.92,
            "bin_start": 10.450000000000001,
            "count": 85
           },
           {
            "bin_end": 13.39,
            "bin_start": 11.92,
            "count": 56
           },
           {
            "bin_end": 14.860000000000001,
            "bin_start": 13.39,
            "count": 62
           },
           {
            "bin_end": 16.330000000000002,
            "bin_start": 14.860000000000001,
            "count": 68
           },
           {
            "bin_end": 17.8,
            "bin_start": 16.330000000000002,
            "count": 31
           }
          ],
          "max": "17.8",
          "min": "3.1",
          "nan_count": 0,
          "unique_count": 142
         }
        },
        {
         "dtype": "float64",
         "name": "White Blood Cells (cells/cmm)",
         "stats": {
          "histogram": [
           {
            "bin_end": 4620,
            "bin_start": 2200,
            "count": 19
           },
           {
            "bin_end": 7040,
            "bin_start": 4620,
            "count": 110
           },
           {
            "bin_end": 9460,
            "bin_start": 7040,
            "count": 158
           },
           {
            "bin_end": 11880,
            "bin_start": 9460,
            "count": 87
           },
           {
            "bin_end": 14300,
            "bin_start": 11880,
            "count": 14
           },
           {
            "bin_end": 16720,
            "bin_start": 14300,
            "count": 8
           },
           {
            "bin_end": 19140,
            "bin_start": 16720,
            "count": 2
           },
           {
            "bin_end": 21560,
            "bin_start": 19140,
            "count": 0
           },
           {
            "bin_end": 23980,
            "bin_start": 21560,
            "count": 1
           },
           {
            "bin_end": 26400,
            "bin_start": 23980,
            "count": 1
           }
          ],
          "max": "26400.0",
          "min": "2200.0",
          "nan_count": 0,
          "unique_count": 134
         }
        },
        {
         "dtype": "int64",
         "name": "Appetite: poor",
         "stats": {
          "histogram": [
           {
            "bin_end": 0.1,
            "bin_start": 0,
            "count": 318
           },
           {
            "bin_end": 0.2,
            "bin_start": 0.1,
            "count": 0
           },
           {
            "bin_end": 0.30000000000000004,
            "bin_start": 0.2,
            "count": 0
           },
           {
            "bin_end": 0.4,
            "bin_start": 0.30000000000000004,
            "count": 0
           },
           {
            "bin_end": 0.5,
            "bin_start": 0.4,
            "count": 0
           },
           {
            "bin_end": 0.6000000000000001,
            "bin_start": 0.5,
            "count": 0
           },
           {
            "bin_end": 0.7000000000000001,
            "bin_start": 0.6000000000000001,
            "count": 0
           },
           {
            "bin_end": 0.8,
            "bin_start": 0.7000000000000001,
            "count": 0
           },
           {
            "bin_end": 0.9,
            "bin_start": 0.8,
            "count": 0
           },
           {
            "bin_end": 1,
            "bin_start": 0.9,
            "count": 82
           }
          ],
          "max": "1",
          "min": "0",
          "nan_count": 0,
          "unique_count": 2
         }
        },
        {
         "dtype": "float64",
         "name": "Red Blood Cells (millions/cmm)",
         "stats": {
          "histogram": [
           {
            "bin_end": 2.6900000000000004,
            "bin_start": 2.1,
            "count": 9
           },
           {
            "bin_end": 3.2800000000000002,
            "bin_start": 2.6900000000000004,
            "count": 20
           },
           {
            "bin_end": 3.87,
            "bin_start": 3.2800000000000002,
            "count": 56
           },
           {
            "bin_end": 4.460000000000001,
            "bin_start": 3.87,
            "count": 73
           },
           {
            "bin_end": 5.050000000000001,
            "bin_start": 4.460000000000001,
            "count": 128
           },
           {
            "bin_end": 5.640000000000001,
            "bin_start": 5.050000000000001,
            "count": 60
           },
           {
            "bin_end": 6.23,
            "bin_start": 5.640000000000001,
            "count": 39
           },
           {
            "bin_end": 6.82,
            "bin_start": 6.23,
            "count": 14
           },
           {
            "bin_end": 7.41,
            "bin_start": 6.82,
            "count": 0
           },
           {
            "bin_end": 8,
            "bin_start": 7.41,
            "count": 1
           }
          ],
          "max": "8.0",
          "min": "2.1",
          "nan_count": 0,
          "unique_count": 69
         }
        },
        {
         "dtype": "int64",
         "name": "Hypertension: yes",
         "stats": {
          "histogram": [
           {
            "bin_end": 0.1,
            "bin_start": 0,
            "count": 253
           },
           {
            "bin_end": 0.2,
            "bin_start": 0.1,
            "count": 0
           },
           {
            "bin_end": 0.30000000000000004,
            "bin_start": 0.2,
            "count": 0
           },
           {
            "bin_end": 0.4,
            "bin_start": 0.30000000000000004,
            "count": 0
           },
           {
            "bin_end": 0.5,
            "bin_start": 0.4,
            "count": 0
           },
           {
            "bin_end": 0.6000000000000001,
            "bin_start": 0.5,
            "count": 0
           },
           {
            "bin_end": 0.7000000000000001,
            "bin_start": 0.6000000000000001,
            "count": 0
           },
           {
            "bin_end": 0.8,
            "bin_start": 0.7000000000000001,
            "count": 0
           },
           {
            "bin_end": 0.9,
            "bin_start": 0.8,
            "count": 0
           },
           {
            "bin_end": 1,
            "bin_start": 0.9,
            "count": 147
           }
          ],
          "max": "1",
          "min": "0",
          "nan_count": 0,
          "unique_count": 2
         }
        },
        {
         "dtype": "int64",
         "name": "Bacteria: present",
         "stats": {
          "histogram": [
           {
            "bin_end": 0.1,
            "bin_start": 0,
            "count": 378
           },
           {
            "bin_end": 0.2,
            "bin_start": 0.1,
            "count": 0
           },
           {
            "bin_end": 0.30000000000000004,
            "bin_start": 0.2,
            "count": 0
           },
           {
            "bin_end": 0.4,
            "bin_start": 0.30000000000000004,
            "count": 0
           },
           {
            "bin_end": 0.5,
            "bin_start": 0.4,
            "count": 0
           },
           {
            "bin_end": 0.6000000000000001,
            "bin_start": 0.5,
            "count": 0
           },
           {
            "bin_end": 0.7000000000000001,
            "bin_start": 0.6000000000000001,
            "count": 0
           },
           {
            "bin_end": 0.8,
            "bin_start": 0.7000000000000001,
            "count": 0
           },
           {
            "bin_end": 0.9,
            "bin_start": 0.8,
            "count": 0
           },
           {
            "bin_end": 1,
            "bin_start": 0.9,
            "count": 22
           }
          ],
          "max": "1",
          "min": "0",
          "nan_count": 0,
          "unique_count": 2
         }
        },
        {
         "dtype": "int64",
         "name": "Diabetes Mellitus: yes",
         "stats": {
          "histogram": [
           {
            "bin_end": 0.1,
            "bin_start": 0,
            "count": 263
           },
           {
            "bin_end": 0.2,
            "bin_start": 0.1,
            "count": 0
           },
           {
            "bin_end": 0.30000000000000004,
            "bin_start": 0.2,
            "count": 0
           },
           {
            "bin_end": 0.4,
            "bin_start": 0.30000000000000004,
            "count": 0
           },
           {
            "bin_end": 0.5,
            "bin_start": 0.4,
            "count": 0
           },
           {
            "bin_end": 0.6000000000000001,
            "bin_start": 0.5,
            "count": 0
           },
           {
            "bin_end": 0.7000000000000001,
            "bin_start": 0.6000000000000001,
            "count": 0
           },
           {
            "bin_end": 0.8,
            "bin_start": 0.7000000000000001,
            "count": 0
           },
           {
            "bin_end": 0.9,
            "bin_start": 0.8,
            "count": 0
           },
           {
            "bin_end": 1,
            "bin_start": 0.9,
            "count": 137
           }
          ],
          "max": "1",
          "min": "0",
          "nan_count": 0,
          "unique_count": 2
         }
        },
        {
         "dtype": "int64",
         "name": "Coronary Artery Disease: yes",
         "stats": {
          "histogram": [
           {
            "bin_end": 0.1,
            "bin_start": 0,
            "count": 366
           },
           {
            "bin_end": 0.2,
            "bin_start": 0.1,
            "count": 0
           },
           {
            "bin_end": 0.30000000000000004,
            "bin_start": 0.2,
            "count": 0
           },
           {
            "bin_end": 0.4,
            "bin_start": 0.30000000000000004,
            "count": 0
           },
           {
            "bin_end": 0.5,
            "bin_start": 0.4,
            "count": 0
           },
           {
            "bin_end": 0.6000000000000001,
            "bin_start": 0.5,
            "count": 0
           },
           {
            "bin_end": 0.7000000000000001,
            "bin_start": 0.6000000000000001,
            "count": 0
           },
           {
            "bin_end": 0.8,
            "bin_start": 0.7000000000000001,
            "count": 0
           },
           {
            "bin_end": 0.9,
            "bin_start": 0.8,
            "count": 0
           },
           {
            "bin_end": 1,
            "bin_start": 0.9,
            "count": 34
           }
          ],
          "max": "1",
          "min": "0",
          "nan_count": 0,
          "unique_count": 2
         }
        },
        {
         "dtype": "int64",
         "name": "Anemia: yes",
         "stats": {
          "histogram": [
           {
            "bin_end": 0.1,
            "bin_start": 0,
            "count": 340
           },
           {
            "bin_end": 0.2,
            "bin_start": 0.1,
            "count": 0
           },
           {
            "bin_end": 0.30000000000000004,
            "bin_start": 0.2,
            "count": 0
           },
           {
            "bin_end": 0.4,
            "bin_start": 0.30000000000000004,
            "count": 0
           },
           {
            "bin_end": 0.5,
            "bin_start": 0.4,
            "count": 0
           },
           {
            "bin_end": 0.6000000000000001,
            "bin_start": 0.5,
            "count": 0
           },
           {
            "bin_end": 0.7000000000000001,
            "bin_start": 0.6000000000000001,
            "count": 0
           },
           {
            "bin_end": 0.8,
            "bin_start": 0.7000000000000001,
            "count": 0
           },
           {
            "bin_end": 0.9,
            "bin_start": 0.8,
            "count": 0
           },
           {
            "bin_end": 1,
            "bin_start": 0.9,
            "count": 60
           }
          ],
          "max": "1",
          "min": "0",
          "nan_count": 0,
          "unique_count": 2
         }
        },
        {
         "dtype": "int64",
         "name": "Chronic Kidney Disease: yes",
         "stats": {
          "histogram": [
           {
            "bin_end": 0.1,
            "bin_start": 0,
            "count": 150
           },
           {
            "bin_end": 0.2,
            "bin_start": 0.1,
            "count": 0
           },
           {
            "bin_end": 0.30000000000000004,
            "bin_start": 0.2,
            "count": 0
           },
           {
            "bin_end": 0.4,
            "bin_start": 0.30000000000000004,
            "count": 0
           },
           {
            "bin_end": 0.5,
            "bin_start": 0.4,
            "count": 0
           },
           {
            "bin_end": 0.6000000000000001,
            "bin_start": 0.5,
            "count": 0
           },
           {
            "bin_end": 0.7000000000000001,
            "bin_start": 0.6000000000000001,
            "count": 0
           },
           {
            "bin_end": 0.8,
            "bin_start": 0.7000000000000001,
            "count": 0
           },
           {
            "bin_end": 0.9,
            "bin_start": 0.8,
            "count": 0
           },
           {
            "bin_end": 1,
            "bin_start": 0.9,
            "count": 250
           }
          ],
          "max": "1",
          "min": "0",
          "nan_count": 0,
          "unique_count": 2
         }
        },
        {
         "dtype": "int64",
         "name": "_deepnote_index_column"
        }
       ],
       "row_count": 400,
       "rows": [
        {
         "Anemia: yes": 0,
         "Appetite: poor": 0,
         "Bacteria: present": 0,
         "Chronic Kidney Disease: yes": 1,
         "Coronary Artery Disease: yes": 0,
         "Diabetes Mellitus: yes": 1,
         "Hemoglobin (gms)": 15.4,
         "Hypertension: yes": 1,
         "Potassium (mEq/L)": 4.7,
         "Red Blood Cells (millions/cmm)": 5.2,
         "Serum Creatinine (mgs/dL)": 1.2,
         "Sodium (mEq/L)": 136,
         "White Blood Cells (cells/cmm)": 7800,
         "_deepnote_index_column": 0,
         "patient_age": 48,
         "patient_blood_sugar": 121,
         "patient_bp": 80,
         "patient_sg": 1.02,
         "patient_urea": 36
        },
        {
         "Anemia: yes": 0,
         "Appetite: poor": 0,
         "Bacteria: present": 0,
         "Chronic Kidney Disease: yes": 1,
         "Coronary Artery Disease: yes": 0,
         "Diabetes Mellitus: yes": 0,
         "Hemoglobin (gms)": 11.3,
         "Hypertension: yes": 0,
         "Potassium (mEq/L)": 4,
         "Red Blood Cells (millions/cmm)": 4.721717463,
         "Serum Creatinine (mgs/dL)": 0.8,
         "Sodium (mEq/L)": 140,
         "White Blood Cells (cells/cmm)": 6000,
         "_deepnote_index_column": 1,
         "patient_age": 7,
         "patient_blood_sugar": 90.31658119,
         "patient_bp": 50,
         "patient_sg": 1.02,
         "patient_urea": 18
        },
        {
         "Anemia: yes": 1,
         "Appetite: poor": 1,
         "Bacteria: present": 0,
         "Chronic Kidney Disease: yes": 1,
         "Coronary Artery Disease: yes": 0,
         "Diabetes Mellitus: yes": 1,
         "Hemoglobin (gms)": 9.6,
         "Hypertension: yes": 0,
         "Potassium (mEq/L)": 4.8,
         "Red Blood Cells (millions/cmm)": 3.4,
         "Serum Creatinine (mgs/dL)": 1.8,
         "Sodium (mEq/L)": 135,
         "White Blood Cells (cells/cmm)": 7500,
         "_deepnote_index_column": 2,
         "patient_age": 62,
         "patient_blood_sugar": 423,
         "patient_bp": 80,
         "patient_sg": 1.01,
         "patient_urea": 53
        },
        {
         "Anemia: yes": 1,
         "Appetite: poor": 1,
         "Bacteria: present": 0,
         "Chronic Kidney Disease: yes": 1,
         "Coronary Artery Disease: yes": 0,
         "Diabetes Mellitus: yes": 0,
         "Hemoglobin (gms)": 11.2,
         "Hypertension: yes": 1,
         "Potassium (mEq/L)": 2.5,
         "Red Blood Cells (millions/cmm)": 3.9,
         "Serum Creatinine (mgs/dL)": 3.8,
         "Sodium (mEq/L)": 111,
         "White Blood Cells (cells/cmm)": 6700,
         "_deepnote_index_column": 3,
         "patient_age": 48,
         "patient_blood_sugar": 117,
         "patient_bp": 70,
         "patient_sg": 1.005,
         "patient_urea": 56
        },
        {
         "Anemia: yes": 0,
         "Appetite: poor": 0,
         "Bacteria: present": 0,
         "Chronic Kidney Disease: yes": 1,
         "Coronary Artery Disease: yes": 0,
         "Diabetes Mellitus: yes": 0,
         "Hemoglobin (gms)": 11.6,
         "Hypertension: yes": 0,
         "Potassium (mEq/L)": 4,
         "Red Blood Cells (millions/cmm)": 4.6,
         "Serum Creatinine (mgs/dL)": 1.4,
         "Sodium (mEq/L)": 140,
         "White Blood Cells (cells/cmm)": 7300,
         "_deepnote_index_column": 4,
         "patient_age": 51,
         "patient_blood_sugar": 106,
         "patient_bp": 80,
         "patient_sg": 1.01,
         "patient_urea": 26
        },
        {
         "Anemia: yes": 0,
         "Appetite: poor": 0,
         "Bacteria: present": 0,
         "Chronic Kidney Disease: yes": 1,
         "Coronary Artery Disease: yes": 0,
         "Diabetes Mellitus: yes": 1,
         "Hemoglobin (gms)": 12.2,
         "Hypertension: yes": 1,
         "Potassium (mEq/L)": 3.2,
         "Red Blood Cells (millions/cmm)": 4.4,
         "Serum Creatinine (mgs/dL)": 1.1,
         "Sodium (mEq/L)": 142,
         "White Blood Cells (cells/cmm)": 7800,
         "_deepnote_index_column": 5,
         "patient_age": 60,
         "patient_blood_sugar": 74,
         "patient_bp": 90,
         "patient_sg": 1.015,
         "patient_urea": 25
        },
        {
         "Anemia: yes": 0,
         "Appetite: poor": 0,
         "Bacteria: present": 0,
         "Chronic Kidney Disease: yes": 1,
         "Coronary Artery Disease: yes": 0,
         "Diabetes Mellitus: yes": 0,
         "Hemoglobin (gms)": 12.4,
         "Hypertension: yes": 0,
         "Potassium (mEq/L)": 4,
         "Red Blood Cells (millions/cmm)": 4.79153164,
         "Serum Creatinine (mgs/dL)": 24,
         "Sodium (mEq/L)": 104,
         "White Blood Cells (cells/cmm)": 8200,
         "_deepnote_index_column": 6,
         "patient_age": 68,
         "patient_blood_sugar": 100,
         "patient_bp": 70,
         "patient_sg": 1.01,
         "patient_urea": 54
        },
        {
         "Anemia: yes": 0,
         "Appetite: poor": 0,
         "Bacteria: present": 0,
         "Chronic Kidney Disease: yes": 1,
         "Coronary Artery Disease: yes": 0,
         "Diabetes Mellitus: yes": 1,
         "Hemoglobin (gms)": 12.4,
         "Hypertension: yes": 0,
         "Potassium (mEq/L)": 4.2,
         "Red Blood Cells (millions/cmm)": 5,
         "Serum Creatinine (mgs/dL)": 1.1,
         "Sodium (mEq/L)": 138,
         "White Blood Cells (cells/cmm)": 6900,
         "_deepnote_index_column": 7,
         "patient_age": 24,
         "patient_blood_sugar": 410,
         "patient_bp": 60,
         "patient_sg": 1.015,
         "patient_urea": 31
        },
        {
         "Anemia: yes": 1,
         "Appetite: poor": 0,
         "Bacteria: present": 0,
         "Chronic Kidney Disease: yes": 1,
         "Coronary Artery Disease: yes": 0,
         "Diabetes Mellitus: yes": 1,
         "Hemoglobin (gms)": 10.8,
         "Hypertension: yes": 1,
         "Potassium (mEq/L)": 5,
         "Red Blood Cells (millions/cmm)": 4,
         "Serum Creatinine (mgs/dL)": 1.9,
         "Sodium (mEq/L)": 135,
         "White Blood Cells (cells/cmm)": 9600,
         "_deepnote_index_column": 8,
         "patient_age": 52,
         "patient_blood_sugar": 138,
         "patient_bp": 100,
         "patient_sg": 1.015,
         "patient_urea": 60
        },
        {
         "Anemia: yes": 1,
         "Appetite: poor": 1,
         "Bacteria: present": 0,
         "Chronic Kidney Disease: yes": 1,
         "Coronary Artery Disease: yes": 0,
         "Diabetes Mellitus: yes": 1,
         "Hemoglobin (gms)": 9.5,
         "Hypertension: yes": 1,
         "Potassium (mEq/L)": 3.7,
         "Red Blood Cells (millions/cmm)": 3.7,
         "Serum Creatinine (mgs/dL)": 7.2,
         "Sodium (mEq/L)": 114,
         "White Blood Cells (cells/cmm)": 12100,
         "_deepnote_index_column": 9,
         "patient_age": 53,
         "patient_blood_sugar": 70,
         "patient_bp": 90,
         "patient_sg": 1.02,
         "patient_urea": 107
        }
       ]
      },
      "text/html": [
       "<div>\n",
       "<style scoped>\n",
       "    .dataframe tbody tr th:only-of-type {\n",
       "        vertical-align: middle;\n",
       "    }\n",
       "\n",
       "    .dataframe tbody tr th {\n",
       "        vertical-align: top;\n",
       "    }\n",
       "\n",
       "    .dataframe thead th {\n",
       "        text-align: right;\n",
       "    }\n",
       "</style>\n",
       "<table border=\"1\" class=\"dataframe\">\n",
       "  <thead>\n",
       "    <tr style=\"text-align: right;\">\n",
       "      <th></th>\n",
       "      <th>patient_age</th>\n",
       "      <th>patient_bp</th>\n",
       "      <th>patient_sg</th>\n",
       "      <th>patient_blood_sugar</th>\n",
       "      <th>patient_urea</th>\n",
       "      <th>Serum Creatinine (mgs/dL)</th>\n",
       "      <th>Sodium (mEq/L)</th>\n",
       "      <th>Potassium (mEq/L)</th>\n",
       "      <th>Hemoglobin (gms)</th>\n",
       "      <th>White Blood Cells (cells/cmm)</th>\n",
       "      <th>Appetite: poor</th>\n",
       "      <th>Red Blood Cells (millions/cmm)</th>\n",
       "      <th>Hypertension: yes</th>\n",
       "      <th>Bacteria: present</th>\n",
       "      <th>Diabetes Mellitus: yes</th>\n",
       "      <th>Coronary Artery Disease: yes</th>\n",
       "      <th>Anemia: yes</th>\n",
       "      <th>Chronic Kidney Disease: yes</th>\n",
       "    </tr>\n",
       "  </thead>\n",
       "  <tbody>\n",
       "    <tr>\n",
       "      <th>0</th>\n",
       "      <td>48.0</td>\n",
       "      <td>80</td>\n",
       "      <td>1.020</td>\n",
       "      <td>121.000000</td>\n",
       "      <td>36.0</td>\n",
       "      <td>1.2</td>\n",
       "      <td>136.0</td>\n",
       "      <td>4.7</td>\n",
       "      <td>15.4</td>\n",
       "      <td>7800.0</td>\n",
       "      <td>0</td>\n",
       "      <td>5.200000</td>\n",
       "      <td>1</td>\n",
       "      <td>0</td>\n",
       "      <td>1</td>\n",
       "      <td>0</td>\n",
       "      <td>0</td>\n",
       "      <td>1</td>\n",
       "    </tr>\n",
       "    <tr>\n",
       "      <th>1</th>\n",
       "      <td>7.0</td>\n",
       "      <td>50</td>\n",
       "      <td>1.020</td>\n",
       "      <td>90.316581</td>\n",
       "      <td>18.0</td>\n",
       "      <td>0.8</td>\n",
       "      <td>140.0</td>\n",
       "      <td>4.0</td>\n",
       "      <td>11.3</td>\n",
       "      <td>6000.0</td>\n",
       "      <td>0</td>\n",
       "      <td>4.721717</td>\n",
       "      <td>0</td>\n",
       "      <td>0</td>\n",
       "      <td>0</td>\n",
       "      <td>0</td>\n",
       "      <td>0</td>\n",
       "      <td>1</td>\n",
       "    </tr>\n",
       "    <tr>\n",
       "      <th>2</th>\n",
       "      <td>62.0</td>\n",
       "      <td>80</td>\n",
       "      <td>1.010</td>\n",
       "      <td>423.000000</td>\n",
       "      <td>53.0</td>\n",
       "      <td>1.8</td>\n",
       "      <td>135.0</td>\n",
       "      <td>4.8</td>\n",
       "      <td>9.6</td>\n",
       "      <td>7500.0</td>\n",
       "      <td>1</td>\n",
       "      <td>3.400000</td>\n",
       "      <td>0</td>\n",
       "      <td>0</td>\n",
       "      <td>1</td>\n",
       "      <td>0</td>\n",
       "      <td>1</td>\n",
       "      <td>1</td>\n",
       "    </tr>\n",
       "    <tr>\n",
       "      <th>3</th>\n",
       "      <td>48.0</td>\n",
       "      <td>70</td>\n",
       "      <td>1.005</td>\n",
       "      <td>117.000000</td>\n",
       "      <td>56.0</td>\n",
       "      <td>3.8</td>\n",
       "      <td>111.0</td>\n",
       "      <td>2.5</td>\n",
       "      <td>11.2</td>\n",
       "      <td>6700.0</td>\n",
       "      <td>1</td>\n",
       "      <td>3.900000</td>\n",
       "      <td>1</td>\n",
       "      <td>0</td>\n",
       "      <td>0</td>\n",
       "      <td>0</td>\n",
       "      <td>1</td>\n",
       "      <td>1</td>\n",
       "    </tr>\n",
       "    <tr>\n",
       "      <th>4</th>\n",
       "      <td>51.0</td>\n",
       "      <td>80</td>\n",
       "      <td>1.010</td>\n",
       "      <td>106.000000</td>\n",
       "      <td>26.0</td>\n",
       "      <td>1.4</td>\n",
       "      <td>140.0</td>\n",
       "      <td>4.0</td>\n",
       "      <td>11.6</td>\n",
       "      <td>7300.0</td>\n",
       "      <td>0</td>\n",
       "      <td>4.600000</td>\n",
       "      <td>0</td>\n",
       "      <td>0</td>\n",
       "      <td>0</td>\n",
       "      <td>0</td>\n",
       "      <td>0</td>\n",
       "      <td>1</td>\n",
       "    </tr>\n",
       "    <tr>\n",
       "      <th>...</th>\n",
       "      <td>...</td>\n",
       "      <td>...</td>\n",
       "      <td>...</td>\n",
       "      <td>...</td>\n",
       "      <td>...</td>\n",
       "      <td>...</td>\n",
       "      <td>...</td>\n",
       "      <td>...</td>\n",
       "      <td>...</td>\n",
       "      <td>...</td>\n",
       "      <td>...</td>\n",
       "      <td>...</td>\n",
       "      <td>...</td>\n",
       "      <td>...</td>\n",
       "      <td>...</td>\n",
       "      <td>...</td>\n",
       "      <td>...</td>\n",
       "      <td>...</td>\n",
       "    </tr>\n",
       "    <tr>\n",
       "      <th>395</th>\n",
       "      <td>55.0</td>\n",
       "      <td>80</td>\n",
       "      <td>1.020</td>\n",
       "      <td>140.000000</td>\n",
       "      <td>49.0</td>\n",
       "      <td>0.5</td>\n",
       "      <td>150.0</td>\n",
       "      <td>4.9</td>\n",
       "      <td>15.7</td>\n",
       "      <td>6700.0</td>\n",
       "      <td>0</td>\n",
       "      <td>4.900000</td>\n",
       "      <td>0</td>\n",
       "      <td>0</td>\n",
       "      <td>0</td>\n",
       "      <td>0</td>\n",
       "      <td>0</td>\n",
       "      <td>0</td>\n",
       "    </tr>\n",
       "    <tr>\n",
       "      <th>396</th>\n",
       "      <td>42.0</td>\n",
       "      <td>70</td>\n",
       "      <td>1.025</td>\n",
       "      <td>75.000000</td>\n",
       "      <td>31.0</td>\n",
       "      <td>1.2</td>\n",
       "      <td>141.0</td>\n",
       "      <td>3.5</td>\n",
       "      <td>16.5</td>\n",
       "      <td>7800.0</td>\n",
       "      <td>0</td>\n",
       "      <td>6.200000</td>\n",
       "      <td>0</td>\n",
       "      <td>0</td>\n",
       "      <td>0</td>\n",
       "      <td>0</td>\n",
       "      <td>0</td>\n",
       "      <td>0</td>\n",
       "    </tr>\n",
       "    <tr>\n",
       "      <th>397</th>\n",
       "      <td>12.0</td>\n",
       "      <td>80</td>\n",
       "      <td>1.020</td>\n",
       "      <td>100.000000</td>\n",
       "      <td>26.0</td>\n",
       "      <td>0.6</td>\n",
       "      <td>137.0</td>\n",
       "      <td>4.4</td>\n",
       "      <td>15.8</td>\n",
       "      <td>6600.0</td>\n",
       "      <td>0</td>\n",
       "      <td>5.400000</td>\n",
       "      <td>0</td>\n",
       "      <td>0</td>\n",
       "      <td>0</td>\n",
       "      <td>0</td>\n",
       "      <td>0</td>\n",
       "      <td>0</td>\n",
       "    </tr>\n",
       "    <tr>\n",
       "      <th>398</th>\n",
       "      <td>17.0</td>\n",
       "      <td>60</td>\n",
       "      <td>1.025</td>\n",
       "      <td>114.000000</td>\n",
       "      <td>50.0</td>\n",
       "      <td>1.0</td>\n",
       "      <td>135.0</td>\n",
       "      <td>4.9</td>\n",
       "      <td>14.2</td>\n",
       "      <td>7200.0</td>\n",
       "      <td>0</td>\n",
       "      <td>5.900000</td>\n",
       "      <td>0</td>\n",
       "      <td>0</td>\n",
       "      <td>0</td>\n",
       "      <td>0</td>\n",
       "      <td>0</td>\n",
       "      <td>0</td>\n",
       "    </tr>\n",
       "    <tr>\n",
       "      <th>399</th>\n",
       "      <td>58.0</td>\n",
       "      <td>80</td>\n",
       "      <td>1.025</td>\n",
       "      <td>131.000000</td>\n",
       "      <td>18.0</td>\n",
       "      <td>1.1</td>\n",
       "      <td>141.0</td>\n",
       "      <td>3.5</td>\n",
       "      <td>15.8</td>\n",
       "      <td>6800.0</td>\n",
       "      <td>0</td>\n",
       "      <td>6.100000</td>\n",
       "      <td>0</td>\n",
       "      <td>0</td>\n",
       "      <td>0</td>\n",
       "      <td>0</td>\n",
       "      <td>0</td>\n",
       "      <td>0</td>\n",
       "    </tr>\n",
       "  </tbody>\n",
       "</table>\n",
       "<p>400 rows × 18 columns</p>\n",
       "</div>"
      ],
      "text/plain": [
       "     patient_age  patient_bp  patient_sg  patient_blood_sugar  patient_urea  \\\n",
       "0           48.0          80       1.020           121.000000          36.0   \n",
       "1            7.0          50       1.020            90.316581          18.0   \n",
       "2           62.0          80       1.010           423.000000          53.0   \n",
       "3           48.0          70       1.005           117.000000          56.0   \n",
       "4           51.0          80       1.010           106.000000          26.0   \n",
       "..           ...         ...         ...                  ...           ...   \n",
       "395         55.0          80       1.020           140.000000          49.0   \n",
       "396         42.0          70       1.025            75.000000          31.0   \n",
       "397         12.0          80       1.020           100.000000          26.0   \n",
       "398         17.0          60       1.025           114.000000          50.0   \n",
       "399         58.0          80       1.025           131.000000          18.0   \n",
       "\n",
       "     Serum Creatinine (mgs/dL)  Sodium (mEq/L)  Potassium (mEq/L)  \\\n",
       "0                          1.2           136.0                4.7   \n",
       "1                          0.8           140.0                4.0   \n",
       "2                          1.8           135.0                4.8   \n",
       "3                          3.8           111.0                2.5   \n",
       "4                          1.4           140.0                4.0   \n",
       "..                         ...             ...                ...   \n",
       "395                        0.5           150.0                4.9   \n",
       "396                        1.2           141.0                3.5   \n",
       "397                        0.6           137.0                4.4   \n",
       "398                        1.0           135.0                4.9   \n",
       "399                        1.1           141.0                3.5   \n",
       "\n",
       "     Hemoglobin (gms)  White Blood Cells (cells/cmm)  Appetite: poor  \\\n",
       "0                15.4                         7800.0               0   \n",
       "1                11.3                         6000.0               0   \n",
       "2                 9.6                         7500.0               1   \n",
       "3                11.2                         6700.0               1   \n",
       "4                11.6                         7300.0               0   \n",
       "..                ...                            ...             ...   \n",
       "395              15.7                         6700.0               0   \n",
       "396              16.5                         7800.0               0   \n",
       "397              15.8                         6600.0               0   \n",
       "398              14.2                         7200.0               0   \n",
       "399              15.8                         6800.0               0   \n",
       "\n",
       "     Red Blood Cells (millions/cmm)  Hypertension: yes  Bacteria: present  \\\n",
       "0                          5.200000                  1                  0   \n",
       "1                          4.721717                  0                  0   \n",
       "2                          3.400000                  0                  0   \n",
       "3                          3.900000                  1                  0   \n",
       "4                          4.600000                  0                  0   \n",
       "..                              ...                ...                ...   \n",
       "395                        4.900000                  0                  0   \n",
       "396                        6.200000                  0                  0   \n",
       "397                        5.400000                  0                  0   \n",
       "398                        5.900000                  0                  0   \n",
       "399                        6.100000                  0                  0   \n",
       "\n",
       "     Diabetes Mellitus: yes  Coronary Artery Disease: yes  Anemia: yes  \\\n",
       "0                         1                             0            0   \n",
       "1                         0                             0            0   \n",
       "2                         1                             0            1   \n",
       "3                         0                             0            1   \n",
       "4                         0                             0            0   \n",
       "..                      ...                           ...          ...   \n",
       "395                       0                             0            0   \n",
       "396                       0                             0            0   \n",
       "397                       0                             0            0   \n",
       "398                       0                             0            0   \n",
       "399                       0                             0            0   \n",
       "\n",
       "     Chronic Kidney Disease: yes  \n",
       "0                              1  \n",
       "1                              1  \n",
       "2                              1  \n",
       "3                              1  \n",
       "4                              1  \n",
       "..                           ...  \n",
       "395                            0  \n",
       "396                            0  \n",
       "397                            0  \n",
       "398                            0  \n",
       "399                            0  \n",
       "\n",
       "[400 rows x 18 columns]"
      ]
     },
     "execution_count": 21,
     "metadata": {},
     "output_type": "execute_result"
    }
   ],
   "source": [
    "kidney_df.rename(columns={'Blood Urea (mgs/dL)':  'patient_urea'}, inplace=True)\n",
    "kidney_df"
   ]
  },
  {
   "cell_type": "code",
   "execution_count": null,
   "metadata": {
    "cell_id": "08cfb5b4d02045a591f191a0d77dc4e9",
    "deepnote_cell_type": "code",
    "deepnote_to_be_reexecuted": false,
    "execution_millis": 344,
    "execution_start": 1724014823710,
    "source_hash": null
   },
   "outputs": [
    {
     "name": "stdout",
     "output_type": "stream",
     "text": [
      "<class 'pandas.core.frame.DataFrame'>\n",
      "RangeIndex: 400 entries, 0 to 399\n",
      "Data columns (total 18 columns):\n",
      " #   Column                          Non-Null Count  Dtype  \n",
      "---  ------                          --------------  -----  \n",
      " 0   patient_age                     400 non-null    float64\n",
      " 1   patient_bp                      400 non-null    int64  \n",
      " 2   patient_sg                      400 non-null    float64\n",
      " 3   patient_blood_sugar             400 non-null    float64\n",
      " 4   patient_urea                    400 non-null    float64\n",
      " 5   Serum Creatinine (mgs/dL)       400 non-null    float64\n",
      " 6   Sodium (mEq/L)                  400 non-null    float64\n",
      " 7   Potassium (mEq/L)               400 non-null    float64\n",
      " 8   Hemoglobin (gms)                400 non-null    float64\n",
      " 9   White Blood Cells (cells/cmm)   400 non-null    float64\n",
      " 10  Appetite: poor                  400 non-null    int64  \n",
      " 11  Red Blood Cells (millions/cmm)  400 non-null    float64\n",
      " 12  Hypertension: yes               400 non-null    int64  \n",
      " 13  Bacteria: present               400 non-null    int64  \n",
      " 14  Diabetes Mellitus: yes          400 non-null    int64  \n",
      " 15  Coronary Artery Disease: yes    400 non-null    int64  \n",
      " 16  Anemia: yes                     400 non-null    int64  \n",
      " 17  Chronic Kidney Disease: yes     400 non-null    int64  \n",
      "dtypes: float64(10), int64(8)\n",
      "memory usage: 56.4 KB\n"
     ]
    }
   ],
   "source": [
    "kidney_df.info()"
   ]
  },
  {
   "cell_type": "code",
   "execution_count": null,
   "metadata": {
    "cell_id": "32aa33ca33284752976beded1f02939a",
    "deepnote_cell_type": "code",
    "deepnote_to_be_reexecuted": false,
    "execution_millis": 96,
    "execution_start": 1724014882790,
    "source_hash": null
   },
   "outputs": [
    {
     "data": {
      "application/vnd.deepnote.dataframe.v3+json": {
       "column_count": 18,
       "columns": [
        {
         "dtype": "float64",
         "name": "patient_age",
         "stats": {
          "histogram": [
           {
            "bin_end": 41.8,
            "bin_start": 2,
            "count": 2
           },
           {
            "bin_end": 81.6,
            "bin_start": 41.8,
            "count": 4
           },
           {
            "bin_end": 121.39999999999999,
            "bin_start": 81.6,
            "count": 1
           },
           {
            "bin_end": 161.2,
            "bin_start": 121.39999999999999,
            "count": 0
           },
           {
            "bin_end": 201,
            "bin_start": 161.2,
            "count": 0
           },
           {
            "bin_end": 240.79999999999998,
            "bin_start": 201,
            "count": 0
           },
           {
            "bin_end": 280.59999999999997,
            "bin_start": 240.79999999999998,
            "count": 0
           },
           {
            "bin_end": 320.4,
            "bin_start": 280.59999999999997,
            "count": 0
           },
           {
            "bin_end": 360.2,
            "bin_start": 320.4,
            "count": 0
           },
           {
            "bin_end": 400,
            "bin_start": 360.2,
            "count": 1
           }
          ],
          "max": "400.0",
          "min": "2.0",
          "nan_count": 0,
          "unique_count": 8
         }
        },
        {
         "dtype": "float64",
         "name": "patient_bp",
         "stats": {
          "histogram": [
           {
            "bin_end": 52.2337755070908,
            "bin_start": 13.593083896767554,
            "count": 2
           },
           {
            "bin_end": 90.87446711741404,
            "bin_start": 52.2337755070908,
            "count": 4
           },
           {
            "bin_end": 129.5151587277373,
            "bin_start": 90.87446711741404,
            "count": 0
           },
           {
            "bin_end": 168.15585033806053,
            "bin_start": 129.5151587277373,
            "count": 0
           },
           {
            "bin_end": 206.79654194838378,
            "bin_start": 168.15585033806053,
            "count": 1
           },
           {
            "bin_end": 245.43723355870702,
            "bin_start": 206.79654194838378,
            "count": 0
           },
           {
            "bin_end": 284.07792516903027,
            "bin_start": 245.43723355870702,
            "count": 0
           },
           {
            "bin_end": 322.7186167793535,
            "bin_start": 284.07792516903027,
            "count": 0
           },
           {
            "bin_end": 361.35930838967676,
            "bin_start": 322.7186167793535,
            "count": 0
           },
           {
            "bin_end": 400,
            "bin_start": 361.35930838967676,
            "count": 1
           }
          ],
          "max": "400.0",
          "min": "13.593083896767554",
          "nan_count": 0,
          "unique_count": 7
         }
        },
        {
         "dtype": "float64",
         "name": "patient_sg",
         "stats": {
          "histogram": [
           {
            "bin_end": 40.00503747620791,
            "bin_start": 0.005597195786561953,
            "count": 7
           },
           {
            "bin_end": 80.00447775662926,
            "bin_start": 40.00503747620791,
            "count": 0
           },
           {
            "bin_end": 120.00391803705061,
            "bin_start": 80.00447775662926,
            "count": 0
           },
           {
            "bin_end": 160.00335831747194,
            "bin_start": 120.00391803705061,
            "count": 0
           },
           {
            "bin_end": 200.00279859789327,
            "bin_start": 160.00335831747194,
            "count": 0
           },
           {
            "bin_end": 240.00223887831464,
            "bin_start": 200.00279859789327,
            "count": 0
           },
           {
            "bin_end": 280.00167915873595,
            "bin_start": 240.00223887831464,
            "count": 0
           },
           {
            "bin_end": 320.0011194391573,
            "bin_start": 280.00167915873595,
            "count": 0
           },
           {
            "bin_end": 360.0005597195787,
            "bin_start": 320.0011194391573,
            "count": 0
           },
           {
            "bin_end": 400,
            "bin_start": 360.0005597195787,
            "count": 1
           }
          ],
          "max": "400.0",
          "min": "0.005597195786561953",
          "nan_count": 0,
          "unique_count": 7
         }
        },
        {
         "dtype": "float64",
         "name": "patient_blood_sugar",
         "stats": {
          "histogram": [
           {
            "bin_end": 68.8,
            "bin_start": 22,
            "count": 1
           },
           {
            "bin_end": 115.6,
            "bin_start": 68.8,
            "count": 2
           },
           {
            "bin_end": 162.39999999999998,
            "bin_start": 115.6,
            "count": 3
           },
           {
            "bin_end": 209.2,
            "bin_start": 162.39999999999998,
            "count": 0
           },
           {
            "bin_end": 256,
            "bin_start": 209.2,
            "count": 0
           },
           {
            "bin_end": 302.79999999999995,
            "bin_start": 256,
            "count": 0
           },
           {
            "bin_end": 349.59999999999997,
            "bin_start": 302.79999999999995,
            "count": 0
           },
           {
            "bin_end": 396.4,
            "bin_start": 349.59999999999997,
            "count": 0
           },
           {
            "bin_end": 443.2,
            "bin_start": 396.4,
            "count": 1
           },
           {
            "bin_end": 490,
            "bin_start": 443.2,
            "count": 1
           }
          ],
          "max": "490.0",
          "min": "22.0",
          "nan_count": 0,
          "unique_count": 8
         }
        },
        {
         "dtype": "float64",
         "name": "patient_urea",
         "stats": {
          "histogram": [
           {
            "bin_end": 41.35,
            "bin_start": 1.5,
            "count": 3
           },
           {
            "bin_end": 81.2,
            "bin_start": 41.35,
            "count": 3
           },
           {
            "bin_end": 121.05000000000001,
            "bin_start": 81.2,
            "count": 0
           },
           {
            "bin_end": 160.9,
            "bin_start": 121.05000000000001,
            "count": 0
           },
           {
            "bin_end": 200.75,
            "bin_start": 160.9,
            "count": 0
           },
           {
            "bin_end": 240.60000000000002,
            "bin_start": 200.75,
            "count": 0
           },
           {
            "bin_end": 280.45,
            "bin_start": 240.60000000000002,
            "count": 0
           },
           {
            "bin_end": 320.3,
            "bin_start": 280.45,
            "count": 0
           },
           {
            "bin_end": 360.15000000000003,
            "bin_start": 320.3,
            "count": 0
           },
           {
            "bin_end": 400,
            "bin_start": 360.15000000000003,
            "count": 2
           }
          ],
          "max": "400.0",
          "min": "1.5",
          "nan_count": 0,
          "unique_count": 8
         }
        },
        {
         "dtype": "float64",
         "name": "Serum Creatinine (mgs/dL)",
         "stats": {
          "histogram": [
           {
            "bin_end": 40.36,
            "bin_start": 0.4,
            "count": 6
           },
           {
            "bin_end": 80.32000000000001,
            "bin_start": 40.36,
            "count": 1
           },
           {
            "bin_end": 120.28,
            "bin_start": 80.32000000000001,
            "count": 0
           },
           {
            "bin_end": 160.24,
            "bin_start": 120.28,
            "count": 0
           },
           {
            "bin_end": 200.20000000000002,
            "bin_start": 160.24,
            "count": 0
           },
           {
            "bin_end": 240.16,
            "bin_start": 200.20000000000002,
            "count": 0
           },
           {
            "bin_end": 280.12,
            "bin_start": 240.16,
            "count": 0
           },
           {
            "bin_end": 320.08,
            "bin_start": 280.12,
            "count": 0
           },
           {
            "bin_end": 360.03999999999996,
            "bin_start": 320.08,
            "count": 0
           },
           {
            "bin_end": 400,
            "bin_start": 360.03999999999996,
            "count": 1
           }
          ],
          "max": "400.0",
          "min": "0.4",
          "nan_count": 0,
          "unique_count": 8
         }
        },
        {
         "dtype": "float64",
         "name": "Sodium (mEq/L)",
         "stats": {
          "histogram": [
           {
            "bin_end": 44.05,
            "bin_start": 4.5,
            "count": 2
           },
           {
            "bin_end": 83.6,
            "bin_start": 44.05,
            "count": 0
           },
           {
            "bin_end": 123.14999999999999,
            "bin_start": 83.6,
            "count": 0
           },
           {
            "bin_end": 162.7,
            "bin_start": 123.14999999999999,
            "count": 4
           },
           {
            "bin_end": 202.25,
            "bin_start": 162.7,
            "count": 1
           },
           {
            "bin_end": 241.79999999999998,
            "bin_start": 202.25,
            "count": 0
           },
           {
            "bin_end": 281.34999999999997,
            "bin_start": 241.79999999999998,
            "count": 0
           },
           {
            "bin_end": 320.9,
            "bin_start": 281.34999999999997,
            "count": 0
           },
           {
            "bin_end": 360.45,
            "bin_start": 320.9,
            "count": 0
           },
           {
            "bin_end": 400,
            "bin_start": 360.45,
            "count": 1
           }
          ],
          "max": "400.0",
          "min": "4.5",
          "nan_count": 0,
          "unique_count": 8
         }
        },
        {
         "dtype": "float64",
         "name": "Potassium (mEq/L)",
         "stats": {
          "histogram": [
           {
            "bin_end": 42.25,
            "bin_start": 2.5,
            "count": 6
           },
           {
            "bin_end": 82,
            "bin_start": 42.25,
            "count": 1
           },
           {
            "bin_end": 121.75,
            "bin_start": 82,
            "count": 0
           },
           {
            "bin_end": 161.5,
            "bin_start": 121.75,
            "count": 0
           },
           {
            "bin_end": 201.25,
            "bin_start": 161.5,
            "count": 0
           },
           {
            "bin_end": 241,
            "bin_start": 201.25,
            "count": 0
           },
           {
            "bin_end": 280.75,
            "bin_start": 241,
            "count": 0
           },
           {
            "bin_end": 320.5,
            "bin_start": 280.75,
            "count": 0
           },
           {
            "bin_end": 360.25,
            "bin_start": 320.5,
            "count": 0
           },
           {
            "bin_end": 400,
            "bin_start": 360.25,
            "count": 1
           }
          ],
          "max": "400.0",
          "min": "2.5",
          "nan_count": 0,
          "unique_count": 8
         }
        },
        {
         "dtype": "float64",
         "name": "Hemoglobin (gms)",
         "stats": {
          "histogram": [
           {
            "bin_end": 42.51349391077548,
            "bin_start": 2.7927710119727607,
            "count": 7
           },
           {
            "bin_end": 82.2342168095782,
            "bin_start": 42.51349391077548,
            "count": 0
           },
           {
            "bin_end": 121.95493970838092,
            "bin_start": 82.2342168095782,
            "count": 0
           },
           {
            "bin_end": 161.67566260718365,
            "bin_start": 121.95493970838092,
            "count": 0
           },
           {
            "bin_end": 201.39638550598636,
            "bin_start": 161.67566260718365,
            "count": 0
           },
           {
            "bin_end": 241.11710840478906,
            "bin_start": 201.39638550598636,
            "count": 0
           },
           {
            "bin_end": 280.8378313035918,
            "bin_start": 241.11710840478906,
            "count": 0
           },
           {
            "bin_end": 320.55855420239453,
            "bin_start": 280.8378313035918,
            "count": 0
           },
           {
            "bin_end": 360.27927710119724,
            "bin_start": 320.55855420239453,
            "count": 0
           },
           {
            "bin_end": 400,
            "bin_start": 360.27927710119724,
            "count": 1
           }
          ],
          "max": "400.0",
          "min": "2.7927710119727607",
          "nan_count": 0,
          "unique_count": 8
         }
        },
        {
         "dtype": "float64",
         "name": "White Blood Cells (cells/cmm)",
         "stats": {
          "histogram": [
           {
            "bin_end": 3000,
            "bin_start": 400,
            "count": 3
           },
           {
            "bin_end": 5600,
            "bin_start": 3000,
            "count": 0
           },
           {
            "bin_end": 8200,
            "bin_start": 5600,
            "count": 1
           },
           {
            "bin_end": 10800,
            "bin_start": 8200,
            "count": 3
           },
           {
            "bin_end": 13400,
            "bin_start": 10800,
            "count": 0
           },
           {
            "bin_end": 16000,
            "bin_start": 13400,
            "count": 0
           },
           {
            "bin_end": 18600,
            "bin_start": 16000,
            "count": 0
           },
           {
            "bin_end": 21200,
            "bin_start": 18600,
            "count": 0
           },
           {
            "bin_end": 23800,
            "bin_start": 21200,
            "count": 0
           },
           {
            "bin_end": 26400,
            "bin_start": 23800,
            "count": 1
           }
          ],
          "max": "26400.0",
          "min": "400.0",
          "nan_count": 0,
          "unique_count": 8
         }
        },
        {
         "dtype": "float64",
         "name": "Appetite: poor",
         "stats": {
          "histogram": [
           {
            "bin_end": 40,
            "bin_start": 0,
            "count": 7
           },
           {
            "bin_end": 80,
            "bin_start": 40,
            "count": 0
           },
           {
            "bin_end": 120,
            "bin_start": 80,
            "count": 0
           },
           {
            "bin_end": 160,
            "bin_start": 120,
            "count": 0
           },
           {
            "bin_end": 200,
            "bin_start": 160,
            "count": 0
           },
           {
            "bin_end": 240,
            "bin_start": 200,
            "count": 0
           },
           {
            "bin_end": 280,
            "bin_start": 240,
            "count": 0
           },
           {
            "bin_end": 320,
            "bin_start": 280,
            "count": 0
           },
           {
            "bin_end": 360,
            "bin_start": 320,
            "count": 0
           },
           {
            "bin_end": 400,
            "bin_start": 360,
            "count": 1
           }
          ],
          "max": "400.0",
          "min": "0.0",
          "nan_count": 0,
          "unique_count": 5
         }
        },
        {
         "dtype": "float64",
         "name": "Red Blood Cells (millions/cmm)",
         "stats": {
          "histogram": [
           {
            "bin_end": 40.830599235911585,
            "bin_start": 0.9228880399017559,
            "count": 7
           },
           {
            "bin_end": 80.7383104319214,
            "bin_start": 40.830599235911585,
            "count": 0
           },
           {
            "bin_end": 120.64602162793123,
            "bin_start": 80.7383104319214,
            "count": 0
           },
           {
            "bin_end": 160.55373282394106,
            "bin_start": 120.64602162793123,
            "count": 0
           },
           {
            "bin_end": 200.46144401995087,
            "bin_start": 160.55373282394106,
            "count": 0
           },
           {
            "bin_end": 240.36915521596072,
            "bin_start": 200.46144401995087,
            "count": 0
           },
           {
            "bin_end": 280.27686641197056,
            "bin_start": 240.36915521596072,
            "count": 0
           },
           {
            "bin_end": 320.1845776079804,
            "bin_start": 280.27686641197056,
            "count": 0
           },
           {
            "bin_end": 360.0922888039902,
            "bin_start": 320.1845776079804,
            "count": 0
           },
           {
            "bin_end": 400,
            "bin_start": 360.0922888039902,
            "count": 1
           }
          ],
          "max": "400.0",
          "min": "0.9228880399017559",
          "nan_count": 0,
          "unique_count": 8
         }
        },
        {
         "dtype": "float64",
         "name": "Hypertension: yes",
         "stats": {
          "histogram": [
           {
            "bin_end": 40,
            "bin_start": 0,
            "count": 7
           },
           {
            "bin_end": 80,
            "bin_start": 40,
            "count": 0
           },
           {
            "bin_end": 120,
            "bin_start": 80,
            "count": 0
           },
           {
            "bin_end": 160,
            "bin_start": 120,
            "count": 0
           },
           {
            "bin_end": 200,
            "bin_start": 160,
            "count": 0
           },
           {
            "bin_end": 240,
            "bin_start": 200,
            "count": 0
           },
           {
            "bin_end": 280,
            "bin_start": 240,
            "count": 0
           },
           {
            "bin_end": 320,
            "bin_start": 280,
            "count": 0
           },
           {
            "bin_end": 360,
            "bin_start": 320,
            "count": 0
           },
           {
            "bin_end": 400,
            "bin_start": 360,
            "count": 1
           }
          ],
          "max": "400.0",
          "min": "0.0",
          "nan_count": 0,
          "unique_count": 5
         }
        },
        {
         "dtype": "float64",
         "name": "Bacteria: present",
         "stats": {
          "histogram": [
           {
            "bin_end": 40,
            "bin_start": 0,
            "count": 7
           },
           {
            "bin_end": 80,
            "bin_start": 40,
            "count": 0
           },
           {
            "bin_end": 120,
            "bin_start": 80,
            "count": 0
           },
           {
            "bin_end": 160,
            "bin_start": 120,
            "count": 0
           },
           {
            "bin_end": 200,
            "bin_start": 160,
            "count": 0
           },
           {
            "bin_end": 240,
            "bin_start": 200,
            "count": 0
           },
           {
            "bin_end": 280,
            "bin_start": 240,
            "count": 0
           },
           {
            "bin_end": 320,
            "bin_start": 280,
            "count": 0
           },
           {
            "bin_end": 360,
            "bin_start": 320,
            "count": 0
           },
           {
            "bin_end": 400,
            "bin_start": 360,
            "count": 1
           }
          ],
          "max": "400.0",
          "min": "0.0",
          "nan_count": 0,
          "unique_count": 5
         }
        },
        {
         "dtype": "float64",
         "name": "Diabetes Mellitus: yes",
         "stats": {
          "histogram": [
           {
            "bin_end": 40,
            "bin_start": 0,
            "count": 7
           },
           {
            "bin_end": 80,
            "bin_start": 40,
            "count": 0
           },
           {
            "bin_end": 120,
            "bin_start": 80,
            "count": 0
           },
           {
            "bin_end": 160,
            "bin_start": 120,
            "count": 0
           },
           {
            "bin_end": 200,
            "bin_start": 160,
            "count": 0
           },
           {
            "bin_end": 240,
            "bin_start": 200,
            "count": 0
           },
           {
            "bin_end": 280,
            "bin_start": 240,
            "count": 0
           },
           {
            "bin_end": 320,
            "bin_start": 280,
            "count": 0
           },
           {
            "bin_end": 360,
            "bin_start": 320,
            "count": 0
           },
           {
            "bin_end": 400,
            "bin_start": 360,
            "count": 1
           }
          ],
          "max": "400.0",
          "min": "0.0",
          "nan_count": 0,
          "unique_count": 5
         }
        },
        {
         "dtype": "float64",
         "name": "Coronary Artery Disease: yes",
         "stats": {
          "histogram": [
           {
            "bin_end": 40,
            "bin_start": 0,
            "count": 7
           },
           {
            "bin_end": 80,
            "bin_start": 40,
            "count": 0
           },
           {
            "bin_end": 120,
            "bin_start": 80,
            "count": 0
           },
           {
            "bin_end": 160,
            "bin_start": 120,
            "count": 0
           },
           {
            "bin_end": 200,
            "bin_start": 160,
            "count": 0
           },
           {
            "bin_end": 240,
            "bin_start": 200,
            "count": 0
           },
           {
            "bin_end": 280,
            "bin_start": 240,
            "count": 0
           },
           {
            "bin_end": 320,
            "bin_start": 280,
            "count": 0
           },
           {
            "bin_end": 360,
            "bin_start": 320,
            "count": 0
           },
           {
            "bin_end": 400,
            "bin_start": 360,
            "count": 1
           }
          ],
          "max": "400.0",
          "min": "0.0",
          "nan_count": 0,
          "unique_count": 5
         }
        },
        {
         "dtype": "float64",
         "name": "Anemia: yes",
         "stats": {
          "histogram": [
           {
            "bin_end": 40,
            "bin_start": 0,
            "count": 7
           },
           {
            "bin_end": 80,
            "bin_start": 40,
            "count": 0
           },
           {
            "bin_end": 120,
            "bin_start": 80,
            "count": 0
           },
           {
            "bin_end": 160,
            "bin_start": 120,
            "count": 0
           },
           {
            "bin_end": 200,
            "bin_start": 160,
            "count": 0
           },
           {
            "bin_end": 240,
            "bin_start": 200,
            "count": 0
           },
           {
            "bin_end": 280,
            "bin_start": 240,
            "count": 0
           },
           {
            "bin_end": 320,
            "bin_start": 280,
            "count": 0
           },
           {
            "bin_end": 360,
            "bin_start": 320,
            "count": 0
           },
           {
            "bin_end": 400,
            "bin_start": 360,
            "count": 1
           }
          ],
          "max": "400.0",
          "min": "0.0",
          "nan_count": 0,
          "unique_count": 5
         }
        },
        {
         "dtype": "float64",
         "name": "Chronic Kidney Disease: yes",
         "stats": {
          "histogram": [
           {
            "bin_end": 40,
            "bin_start": 0,
            "count": 7
           },
           {
            "bin_end": 80,
            "bin_start": 40,
            "count": 0
           },
           {
            "bin_end": 120,
            "bin_start": 80,
            "count": 0
           },
           {
            "bin_end": 160,
            "bin_start": 120,
            "count": 0
           },
           {
            "bin_end": 200,
            "bin_start": 160,
            "count": 0
           },
           {
            "bin_end": 240,
            "bin_start": 200,
            "count": 0
           },
           {
            "bin_end": 280,
            "bin_start": 240,
            "count": 0
           },
           {
            "bin_end": 320,
            "bin_start": 280,
            "count": 0
           },
           {
            "bin_end": 360,
            "bin_start": 320,
            "count": 0
           },
           {
            "bin_end": 400,
            "bin_start": 360,
            "count": 1
           }
          ],
          "max": "400.0",
          "min": "0.0",
          "nan_count": 0,
          "unique_count": 5
         }
        },
        {
         "dtype": "object",
         "name": "_deepnote_index_column"
        }
       ],
       "row_count": 8,
       "rows": [
        {
         "Anemia: yes": 400,
         "Appetite: poor": 400,
         "Bacteria: present": 400,
         "Chronic Kidney Disease: yes": 400,
         "Coronary Artery Disease: yes": 400,
         "Diabetes Mellitus: yes": 400,
         "Hemoglobin (gms)": 400,
         "Hypertension: yes": 400,
         "Potassium (mEq/L)": 400,
         "Red Blood Cells (millions/cmm)": 400,
         "Serum Creatinine (mgs/dL)": 400,
         "Sodium (mEq/L)": 400,
         "White Blood Cells (cells/cmm)": 400,
         "_deepnote_index_column": "count",
         "patient_age": 400,
         "patient_blood_sugar": 400,
         "patient_bp": 400,
         "patient_sg": 400,
         "patient_urea": 400
        },
        {
         "Anemia: yes": 0.15,
         "Appetite: poor": 0.205,
         "Bacteria: present": 0.055,
         "Chronic Kidney Disease: yes": 0.625,
         "Coronary Artery Disease: yes": 0.085,
         "Diabetes Mellitus: yes": 0.3425,
         "Hemoglobin (gms)": 12.4370389324925,
         "Hypertension: yes": 0.3675,
         "Potassium (mEq/L)": 4.5692933629375,
         "Red Blood Cells (millions/cmm)": 4.5899397714225,
         "Serum Creatinine (mgs/dL)": 3.02292214788675,
         "Sodium (mEq/L)": 137.38785990175,
         "White Blood Cells (cells/cmm)": 8356.5776602025,
         "_deepnote_index_column": "mean",
         "patient_age": 51.591123073700004,
         "patient_blood_sugar": 146.00592292669998,
         "patient_bp": 76.3,
         "patient_sg": 1.0174494568449999,
         "patient_urea": 56.80687214565
        },
        {
         "Anemia: yes": 0.3575185993374057,
         "Appetite: poor": 0.4042071976679987,
         "Bacteria: present": 0.22826577307580467,
         "Chronic Kidney Disease: yes": 0.4847292089559258,
         "Coronary Artery Disease: yes": 0.27923095246055746,
         "Diabetes Mellitus: yes": 0.4751401323435103,
         "Hemoglobin (gms)": 2.7927710119727607,
         "Hypertension: yes": 0.48272799358383356,
         "Potassium (mEq/L)": 2.8296378526306345,
         "Red Blood Cells (millions/cmm)": 0.9228880399017559,
         "Serum Creatinine (mgs/dL)": 5.631037142175535,
         "Sodium (mEq/L)": 9.273122573392635,
         "White Blood Cells (cells/cmm)": 2620.3196675361382,
         "_deepnote_index_column": "std",
         "patient_age": 17.042814116404678,
         "patient_blood_sugar": 76.42224918976103,
         "patient_bp": 13.593083896767554,
         "patient_sg": 0.005597195786561953,
         "patient_urea": 49.808436275039774
        },
        {
         "Anemia: yes": 0,
         "Appetite: poor": 0,
         "Bacteria: present": 0,
         "Chronic Kidney Disease: yes": 0,
         "Coronary Artery Disease: yes": 0,
         "Diabetes Mellitus: yes": 0,
         "Hemoglobin (gms)": 3.1,
         "Hypertension: yes": 0,
         "Potassium (mEq/L)": 2.5,
         "Red Blood Cells (millions/cmm)": 2.1,
         "Serum Creatinine (mgs/dL)": 0.4,
         "Sodium (mEq/L)": 4.5,
         "White Blood Cells (cells/cmm)": 2200,
         "_deepnote_index_column": "min",
         "patient_age": 2,
         "patient_blood_sugar": 22,
         "patient_bp": 50,
         "patient_sg": 1.005,
         "patient_urea": 1.5
        },
        {
         "Anemia: yes": 0,
         "Appetite: poor": 0,
         "Bacteria: present": 0,
         "Chronic Kidney Disease: yes": 0,
         "Coronary Artery Disease: yes": 0,
         "Diabetes Mellitus: yes": 0,
         "Hemoglobin (gms)": 10.50848988,
         "Hypertension: yes": 0,
         "Potassium (mEq/L)": 3.9,
         "Red Blood Cells (millions/cmm)": 3.9,
         "Serum Creatinine (mgs/dL)": 0.9,
         "Sodium (mEq/L)": 135,
         "White Blood Cells (cells/cmm)": 6700,
         "_deepnote_index_column": "25%",
         "patient_age": 42,
         "patient_blood_sugar": 100,
         "patient_bp": 70,
         "patient_sg": 1.015,
         "patient_urea": 27
        },
        {
         "Anemia: yes": 0,
         "Appetite: poor": 0,
         "Bacteria: present": 0,
         "Chronic Kidney Disease: yes": 1,
         "Coronary Artery Disease: yes": 0,
         "Diabetes Mellitus: yes": 0,
         "Hemoglobin (gms)": 12.259381505,
         "Hypertension: yes": 0,
         "Potassium (mEq/L)": 4.4,
         "Red Blood Cells (millions/cmm)": 4.6,
         "Serum Creatinine (mgs/dL)": 1.3,
         "Sodium (mEq/L)": 138,
         "White Blood Cells (cells/cmm)": 8231.186346,
         "_deepnote_index_column": "50%",
         "patient_age": 55,
         "patient_blood_sugar": 119.49115325,
         "patient_bp": 80,
         "patient_sg": 1.02,
         "patient_urea": 41
        },
        {
         "Anemia: yes": 0,
         "Appetite: poor": 0,
         "Bacteria: present": 0,
         "Chronic Kidney Disease: yes": 1,
         "Coronary Artery Disease: yes": 0,
         "Diabetes Mellitus: yes": 1,
         "Hemoglobin (gms)": 14.8,
         "Hypertension: yes": 1,
         "Potassium (mEq/L)": 4.9,
         "Red Blood Cells (millions/cmm)": 5.2,
         "Serum Creatinine (mgs/dL)": 2.8,
         "Sodium (mEq/L)": 141,
         "White Blood Cells (cells/cmm)": 9577.140214,
         "_deepnote_index_column": "75%",
         "patient_age": 65,
         "patient_blood_sugar": 159.25,
         "patient_bp": 80,
         "patient_sg": 1.02,
         "patient_urea": 65.25
        },
        {
         "Anemia: yes": 1,
         "Appetite: poor": 1,
         "Bacteria: present": 1,
         "Chronic Kidney Disease: yes": 1,
         "Coronary Artery Disease: yes": 1,
         "Diabetes Mellitus: yes": 1,
         "Hemoglobin (gms)": 17.8,
         "Hypertension: yes": 1,
         "Potassium (mEq/L)": 47,
         "Red Blood Cells (millions/cmm)": 8,
         "Serum Creatinine (mgs/dL)": 76,
         "Sodium (mEq/L)": 163,
         "White Blood Cells (cells/cmm)": 26400,
         "_deepnote_index_column": "max",
         "patient_age": 90,
         "patient_blood_sugar": 490,
         "patient_bp": 180,
         "patient_sg": 1.025,
         "patient_urea": 391
        }
       ]
      },
      "text/html": [
       "<div>\n",
       "<style scoped>\n",
       "    .dataframe tbody tr th:only-of-type {\n",
       "        vertical-align: middle;\n",
       "    }\n",
       "\n",
       "    .dataframe tbody tr th {\n",
       "        vertical-align: top;\n",
       "    }\n",
       "\n",
       "    .dataframe thead th {\n",
       "        text-align: right;\n",
       "    }\n",
       "</style>\n",
       "<table border=\"1\" class=\"dataframe\">\n",
       "  <thead>\n",
       "    <tr style=\"text-align: right;\">\n",
       "      <th></th>\n",
       "      <th>patient_age</th>\n",
       "      <th>patient_bp</th>\n",
       "      <th>patient_sg</th>\n",
       "      <th>patient_blood_sugar</th>\n",
       "      <th>patient_urea</th>\n",
       "      <th>Serum Creatinine (mgs/dL)</th>\n",
       "      <th>Sodium (mEq/L)</th>\n",
       "      <th>Potassium (mEq/L)</th>\n",
       "      <th>Hemoglobin (gms)</th>\n",
       "      <th>White Blood Cells (cells/cmm)</th>\n",
       "      <th>Appetite: poor</th>\n",
       "      <th>Red Blood Cells (millions/cmm)</th>\n",
       "      <th>Hypertension: yes</th>\n",
       "      <th>Bacteria: present</th>\n",
       "      <th>Diabetes Mellitus: yes</th>\n",
       "      <th>Coronary Artery Disease: yes</th>\n",
       "      <th>Anemia: yes</th>\n",
       "      <th>Chronic Kidney Disease: yes</th>\n",
       "    </tr>\n",
       "  </thead>\n",
       "  <tbody>\n",
       "    <tr>\n",
       "      <th>count</th>\n",
       "      <td>400.000000</td>\n",
       "      <td>400.000000</td>\n",
       "      <td>400.000000</td>\n",
       "      <td>400.000000</td>\n",
       "      <td>400.000000</td>\n",
       "      <td>400.000000</td>\n",
       "      <td>400.000000</td>\n",
       "      <td>400.000000</td>\n",
       "      <td>400.000000</td>\n",
       "      <td>400.000000</td>\n",
       "      <td>400.000000</td>\n",
       "      <td>400.000000</td>\n",
       "      <td>400.000000</td>\n",
       "      <td>400.000000</td>\n",
       "      <td>400.00000</td>\n",
       "      <td>400.000000</td>\n",
       "      <td>400.000000</td>\n",
       "      <td>400.000000</td>\n",
       "    </tr>\n",
       "    <tr>\n",
       "      <th>mean</th>\n",
       "      <td>51.591123</td>\n",
       "      <td>76.300000</td>\n",
       "      <td>1.017449</td>\n",
       "      <td>146.005923</td>\n",
       "      <td>56.806872</td>\n",
       "      <td>3.022922</td>\n",
       "      <td>137.387860</td>\n",
       "      <td>4.569293</td>\n",
       "      <td>12.437039</td>\n",
       "      <td>8356.577660</td>\n",
       "      <td>0.205000</td>\n",
       "      <td>4.589940</td>\n",
       "      <td>0.367500</td>\n",
       "      <td>0.055000</td>\n",
       "      <td>0.34250</td>\n",
       "      <td>0.085000</td>\n",
       "      <td>0.150000</td>\n",
       "      <td>0.625000</td>\n",
       "    </tr>\n",
       "    <tr>\n",
       "      <th>std</th>\n",
       "      <td>17.042814</td>\n",
       "      <td>13.593084</td>\n",
       "      <td>0.005597</td>\n",
       "      <td>76.422249</td>\n",
       "      <td>49.808436</td>\n",
       "      <td>5.631037</td>\n",
       "      <td>9.273123</td>\n",
       "      <td>2.829638</td>\n",
       "      <td>2.792771</td>\n",
       "      <td>2620.319668</td>\n",
       "      <td>0.404207</td>\n",
       "      <td>0.922888</td>\n",
       "      <td>0.482728</td>\n",
       "      <td>0.228266</td>\n",
       "      <td>0.47514</td>\n",
       "      <td>0.279231</td>\n",
       "      <td>0.357519</td>\n",
       "      <td>0.484729</td>\n",
       "    </tr>\n",
       "    <tr>\n",
       "      <th>min</th>\n",
       "      <td>2.000000</td>\n",
       "      <td>50.000000</td>\n",
       "      <td>1.005000</td>\n",
       "      <td>22.000000</td>\n",
       "      <td>1.500000</td>\n",
       "      <td>0.400000</td>\n",
       "      <td>4.500000</td>\n",
       "      <td>2.500000</td>\n",
       "      <td>3.100000</td>\n",
       "      <td>2200.000000</td>\n",
       "      <td>0.000000</td>\n",
       "      <td>2.100000</td>\n",
       "      <td>0.000000</td>\n",
       "      <td>0.000000</td>\n",
       "      <td>0.00000</td>\n",
       "      <td>0.000000</td>\n",
       "      <td>0.000000</td>\n",
       "      <td>0.000000</td>\n",
       "    </tr>\n",
       "    <tr>\n",
       "      <th>25%</th>\n",
       "      <td>42.000000</td>\n",
       "      <td>70.000000</td>\n",
       "      <td>1.015000</td>\n",
       "      <td>100.000000</td>\n",
       "      <td>27.000000</td>\n",
       "      <td>0.900000</td>\n",
       "      <td>135.000000</td>\n",
       "      <td>3.900000</td>\n",
       "      <td>10.508490</td>\n",
       "      <td>6700.000000</td>\n",
       "      <td>0.000000</td>\n",
       "      <td>3.900000</td>\n",
       "      <td>0.000000</td>\n",
       "      <td>0.000000</td>\n",
       "      <td>0.00000</td>\n",
       "      <td>0.000000</td>\n",
       "      <td>0.000000</td>\n",
       "      <td>0.000000</td>\n",
       "    </tr>\n",
       "    <tr>\n",
       "      <th>50%</th>\n",
       "      <td>55.000000</td>\n",
       "      <td>80.000000</td>\n",
       "      <td>1.020000</td>\n",
       "      <td>119.491153</td>\n",
       "      <td>41.000000</td>\n",
       "      <td>1.300000</td>\n",
       "      <td>138.000000</td>\n",
       "      <td>4.400000</td>\n",
       "      <td>12.259382</td>\n",
       "      <td>8231.186346</td>\n",
       "      <td>0.000000</td>\n",
       "      <td>4.600000</td>\n",
       "      <td>0.000000</td>\n",
       "      <td>0.000000</td>\n",
       "      <td>0.00000</td>\n",
       "      <td>0.000000</td>\n",
       "      <td>0.000000</td>\n",
       "      <td>1.000000</td>\n",
       "    </tr>\n",
       "    <tr>\n",
       "      <th>75%</th>\n",
       "      <td>65.000000</td>\n",
       "      <td>80.000000</td>\n",
       "      <td>1.020000</td>\n",
       "      <td>159.250000</td>\n",
       "      <td>65.250000</td>\n",
       "      <td>2.800000</td>\n",
       "      <td>141.000000</td>\n",
       "      <td>4.900000</td>\n",
       "      <td>14.800000</td>\n",
       "      <td>9577.140214</td>\n",
       "      <td>0.000000</td>\n",
       "      <td>5.200000</td>\n",
       "      <td>1.000000</td>\n",
       "      <td>0.000000</td>\n",
       "      <td>1.00000</td>\n",
       "      <td>0.000000</td>\n",
       "      <td>0.000000</td>\n",
       "      <td>1.000000</td>\n",
       "    </tr>\n",
       "    <tr>\n",
       "      <th>max</th>\n",
       "      <td>90.000000</td>\n",
       "      <td>180.000000</td>\n",
       "      <td>1.025000</td>\n",
       "      <td>490.000000</td>\n",
       "      <td>391.000000</td>\n",
       "      <td>76.000000</td>\n",
       "      <td>163.000000</td>\n",
       "      <td>47.000000</td>\n",
       "      <td>17.800000</td>\n",
       "      <td>26400.000000</td>\n",
       "      <td>1.000000</td>\n",
       "      <td>8.000000</td>\n",
       "      <td>1.000000</td>\n",
       "      <td>1.000000</td>\n",
       "      <td>1.00000</td>\n",
       "      <td>1.000000</td>\n",
       "      <td>1.000000</td>\n",
       "      <td>1.000000</td>\n",
       "    </tr>\n",
       "  </tbody>\n",
       "</table>\n",
       "</div>"
      ],
      "text/plain": [
       "       patient_age  patient_bp  patient_sg  patient_blood_sugar  patient_urea  \\\n",
       "count   400.000000  400.000000  400.000000           400.000000    400.000000   \n",
       "mean     51.591123   76.300000    1.017449           146.005923     56.806872   \n",
       "std      17.042814   13.593084    0.005597            76.422249     49.808436   \n",
       "min       2.000000   50.000000    1.005000            22.000000      1.500000   \n",
       "25%      42.000000   70.000000    1.015000           100.000000     27.000000   \n",
       "50%      55.000000   80.000000    1.020000           119.491153     41.000000   \n",
       "75%      65.000000   80.000000    1.020000           159.250000     65.250000   \n",
       "max      90.000000  180.000000    1.025000           490.000000    391.000000   \n",
       "\n",
       "       Serum Creatinine (mgs/dL)  Sodium (mEq/L)  Potassium (mEq/L)  \\\n",
       "count                 400.000000      400.000000         400.000000   \n",
       "mean                    3.022922      137.387860           4.569293   \n",
       "std                     5.631037        9.273123           2.829638   \n",
       "min                     0.400000        4.500000           2.500000   \n",
       "25%                     0.900000      135.000000           3.900000   \n",
       "50%                     1.300000      138.000000           4.400000   \n",
       "75%                     2.800000      141.000000           4.900000   \n",
       "max                    76.000000      163.000000          47.000000   \n",
       "\n",
       "       Hemoglobin (gms)  White Blood Cells (cells/cmm)  Appetite: poor  \\\n",
       "count        400.000000                     400.000000      400.000000   \n",
       "mean          12.437039                    8356.577660        0.205000   \n",
       "std            2.792771                    2620.319668        0.404207   \n",
       "min            3.100000                    2200.000000        0.000000   \n",
       "25%           10.508490                    6700.000000        0.000000   \n",
       "50%           12.259382                    8231.186346        0.000000   \n",
       "75%           14.800000                    9577.140214        0.000000   \n",
       "max           17.800000                   26400.000000        1.000000   \n",
       "\n",
       "       Red Blood Cells (millions/cmm)  Hypertension: yes  Bacteria: present  \\\n",
       "count                      400.000000         400.000000         400.000000   \n",
       "mean                         4.589940           0.367500           0.055000   \n",
       "std                          0.922888           0.482728           0.228266   \n",
       "min                          2.100000           0.000000           0.000000   \n",
       "25%                          3.900000           0.000000           0.000000   \n",
       "50%                          4.600000           0.000000           0.000000   \n",
       "75%                          5.200000           1.000000           0.000000   \n",
       "max                          8.000000           1.000000           1.000000   \n",
       "\n",
       "       Diabetes Mellitus: yes  Coronary Artery Disease: yes  Anemia: yes  \\\n",
       "count               400.00000                    400.000000   400.000000   \n",
       "mean                  0.34250                      0.085000     0.150000   \n",
       "std                   0.47514                      0.279231     0.357519   \n",
       "min                   0.00000                      0.000000     0.000000   \n",
       "25%                   0.00000                      0.000000     0.000000   \n",
       "50%                   0.00000                      0.000000     0.000000   \n",
       "75%                   1.00000                      0.000000     0.000000   \n",
       "max                   1.00000                      1.000000     1.000000   \n",
       "\n",
       "       Chronic Kidney Disease: yes  \n",
       "count                   400.000000  \n",
       "mean                      0.625000  \n",
       "std                       0.484729  \n",
       "min                       0.000000  \n",
       "25%                       0.000000  \n",
       "50%                       1.000000  \n",
       "75%                       1.000000  \n",
       "max                       1.000000  "
      ]
     },
     "execution_count": 23,
     "metadata": {},
     "output_type": "execute_result"
    }
   ],
   "source": [
    "kidney_df.describe()"
   ]
  },
  {
   "cell_type": "markdown",
   "metadata": {
    "created_in_deepnote_cell": true,
    "deepnote_cell_type": "markdown"
   },
   "source": [
    "<a style='text-decoration:none;line-height:16px;display:flex;color:#5B5B62;padding:10px;justify-content:end;' href='https://deepnote.com?utm_source=created-in-deepnote-cell&projectId=499c1df9-edba-4365-8d70-4e69cb14dd92' target=\"_blank\">\n",
    "<img alt='Created in deepnote.com' style='display:inline;max-height:16px;margin:0px;margin-right:7.5px;' src='data:image/svg+xml;base64,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' > </img>\n",
    "Created in <span style='font-weight:600;margin-left:4px;'>Deepnote</span></a>"
   ]
  }
 ],
 "metadata": {
  "deepnote_execution_queue": [],
  "deepnote_full_width": true,
  "deepnote_notebook_id": "e8804218a8bd455e84d79bbf15a955d3",
  "kernelspec": {
   "display_name": "anaconda-panel-2023.05-py310",
   "language": "python",
   "name": "conda-env-anaconda-panel-2023.05-py310-py"
  },
  "language_info": {
   "codemirror_mode": {
    "name": "ipython",
    "version": 3
   },
   "file_extension": ".py",
   "mimetype": "text/x-python",
   "name": "python",
   "nbconvert_exporter": "python",
   "pygments_lexer": "ipython3",
   "version": "3.11.5"
  }
 },
 "nbformat": 4,
 "nbformat_minor": 4
}
